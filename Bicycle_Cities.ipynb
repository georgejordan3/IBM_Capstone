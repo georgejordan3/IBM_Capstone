{
  "nbformat": 4,
  "nbformat_minor": 0,
  "metadata": {
    "colab": {
      "name": "Bicycle_Cities.ipynb",
      "provenance": [],
      "collapsed_sections": [],
      "authorship_tag": "ABX9TyMfzjQ1yXTAkjCqQFhXuZIK",
      "include_colab_link": true
    },
    "kernelspec": {
      "name": "python3",
      "display_name": "Python 3"
    }
  },
  "cells": [
    {
      "cell_type": "markdown",
      "metadata": {
        "id": "view-in-github",
        "colab_type": "text"
      },
      "source": [
        "<a href=\"https://colab.research.google.com/github/georgejordan3/IBM_Capstone/blob/main/Bicycle_Cities.ipynb\" target=\"_parent\"><img src=\"https://colab.research.google.com/assets/colab-badge.svg\" alt=\"Open In Colab\"/></a>"
      ]
    },
    {
      "cell_type": "markdown",
      "metadata": {
        "id": "A069578ypQ3k"
      },
      "source": [
        "# Bicycle Cities - Evaluating the Best Cities in the US to Ride a Bicycle"
      ]
    },
    {
      "cell_type": "markdown",
      "metadata": {
        "id": "-d1m4smTpPIk"
      },
      "source": [
        "George Jordan <br>\r\n",
        "IBM Data Science Professional Certificate Capstone <br>\r\n",
        "Last Updated: 2-22-21"
      ]
    },
    {
      "cell_type": "markdown",
      "metadata": {
        "id": "xNy8nvPu0SSE"
      },
      "source": [
        "## Introduction \r\n",
        "I am a competitive cyclist and moving to Denver was partially motivated by my love for cycling. While I have a strong understanding of what it is like to ride here, I wonder how my experience compares to other cyclists in various parts of the US. I hope to tell a detailed story of these cities through the eyes of a cyclist and through the lens of data.\r\n",
        "\r\n",
        "In this project, I will examine a list of the highest ranking bicycle cities in the country and apply my own analysis to gain further insight into the cities and their unique characteristics. I will use analytic tools as well as machine learning algorithms to see how these cities relate to each other and also gain insight into other supporting factors that have made these cities accessible via bicycle.\r\n",
        "\r\n",
        "While this project is personally interesting to me, I believe that the insights here could be useful for a variety of business applications. Perhaps there is a company in one of these cities that is considering including provisions to support bike commuters. Maybe the existence of bicycle infrastructure is important to a company and an investigation into potential locations for an office would require such an analysis to foster that kind of culture in the workplace.\r\n",
        "\r\n",
        "I believe that the bicycle is a very powerful tool to not only navigate a city but to also change it, through culture and infrastructure. I hope this project illuminates some of the impact that the bicycle has had on these cities."
      ]
    },
    {
      "cell_type": "markdown",
      "metadata": {
        "id": "5VNHT0d_0SVH"
      },
      "source": [
        "## Data \r\n",
        "### PlacesForBikes City Ratings\r\n",
        "- [PlacesForBikes City Ratings](https://cityratings.peopleforbikes.org/)\r\n",
        "\r\n",
        "For this project, I will be first looking at the PlacesForBikes ratings to see their list of top cities for bicycles. They have made their data available for the public as well as an explanation to their methodology in ranking. It is from this data that I will select a number of cities to examine further.\r\n",
        "\r\n",
        "### Foursquare\r\n",
        "- [Foursquare](https://foursquare.com/)\r\n",
        "\r\n",
        "I will be using the Foursquare API to get an understanding of the selected cities from the rankings above. The most obvious query would be to find how many bike shops are within the city limits but also some other potential locations to be explored further. This data will be geospatially visualized using mapping libraries in Python.\r\n",
        "\r\n",
        "### Strava\r\n",
        "- [Strava](https://www.strava.com/about)\r\n",
        "\r\n",
        "Strava is an app that tracks user's activity files from a variety of sports, including cycling. Strava currently has 55 million users, so there will be no shortage of data to examine in these popular cycling cities. By using the Strava API, I will be able to gain insight into the areas and density of the rides taken within the city.\r\n",
        "\r\n",
        "### Zip Codes\r\n",
        "- [Zip-Codes.com](https://www.zip-codes.com/)\r\n",
        "\r\n",
        "In order to organize some this data, I will have to have quick access to a zipcode database for reference. I will use a webscraping tool in this project."
      ]
    },
    {
      "cell_type": "markdown",
      "metadata": {
        "id": "aNK-K2GM0SX-"
      },
      "source": [
        "## Methodology \r\n"
      ]
    },
    {
      "cell_type": "markdown",
      "metadata": {
        "id": "PdONP0xf0Sj9"
      },
      "source": [
        "## Results"
      ]
    },
    {
      "cell_type": "markdown",
      "metadata": {
        "id": "c021P3600Sob"
      },
      "source": [
        "## Discussion"
      ]
    },
    {
      "cell_type": "markdown",
      "metadata": {
        "id": "Q17ugjLzpO9-"
      },
      "source": [
        "## Conclusion"
      ]
    },
    {
      "cell_type": "code",
      "metadata": {
        "id": "YcBHusNPpL6z"
      },
      "source": [
        ""
      ],
      "execution_count": null,
      "outputs": []
    }
  ]
}