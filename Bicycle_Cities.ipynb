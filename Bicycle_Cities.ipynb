{
  "nbformat": 4,
  "nbformat_minor": 0,
  "metadata": {
    "colab": {
      "name": "Bicycle_Cities.ipynb",
      "provenance": [],
      "collapsed_sections": [],
      "authorship_tag": "ABX9TyPa0TfyThMHdklRbJfq60H1",
      "include_colab_link": true
    },
    "kernelspec": {
      "name": "python3",
      "display_name": "Python 3"
    }
  },
  "cells": [
    {
      "cell_type": "markdown",
      "metadata": {
        "id": "view-in-github",
        "colab_type": "text"
      },
      "source": [
        "<a href=\"https://colab.research.google.com/github/georgejordan3/IBM_Capstone/blob/main/Bicycle_Cities.ipynb\" target=\"_parent\"><img src=\"https://colab.research.google.com/assets/colab-badge.svg\" alt=\"Open In Colab\"/></a>"
      ]
    },
    {
      "cell_type": "markdown",
      "metadata": {
        "id": "A069578ypQ3k"
      },
      "source": [
        "# Bicycle Cities - Evaluating the Best Cities in the US to Ride a Bicycle"
      ]
    },
    {
      "cell_type": "markdown",
      "metadata": {
        "id": "-d1m4smTpPIk"
      },
      "source": [
        "George Jordan <br>\r\n",
        "IBM Data Science Professional Certificate Capstone <br>\r\n",
        "Last Updated: 2-22-21"
      ]
    },
    {
      "cell_type": "markdown",
      "metadata": {
        "id": "Q17ugjLzpO9-"
      },
      "source": [
        ""
      ]
    },
    {
      "cell_type": "code",
      "metadata": {
        "id": "YcBHusNPpL6z"
      },
      "source": [
        ""
      ],
      "execution_count": null,
      "outputs": []
    }
  ]
}