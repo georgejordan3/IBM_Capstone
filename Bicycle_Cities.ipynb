{
  "nbformat": 4,
  "nbformat_minor": 0,
  "metadata": {
    "colab": {
      "name": "Bicycle_Cities.ipynb",
      "provenance": [],
      "collapsed_sections": [],
      "toc_visible": true,
      "authorship_tag": "ABX9TyO0O1Cj5i5zeIpSlEa6BvnU",
      "include_colab_link": true
    },
    "kernelspec": {
      "name": "python3",
      "display_name": "Python 3"
    }
  },
  "cells": [
    {
      "cell_type": "markdown",
      "metadata": {
        "id": "view-in-github",
        "colab_type": "text"
      },
      "source": [
        "<a href=\"https://colab.research.google.com/github/georgejordan3/IBM_Capstone/blob/main/Bicycle_Cities.ipynb\" target=\"_parent\"><img src=\"https://colab.research.google.com/assets/colab-badge.svg\" alt=\"Open In Colab\"/></a>"
      ]
    },
    {
      "cell_type": "markdown",
      "metadata": {
        "id": "A069578ypQ3k"
      },
      "source": [
        "# Bicycle Cities - Evaluating the Best Cities in the US to Ride a Bicycle"
      ]
    },
    {
      "cell_type": "markdown",
      "metadata": {
        "id": "-d1m4smTpPIk"
      },
      "source": [
        "George Jordan <br>\r\n",
        "IBM Data Science Professional Certificate Capstone <br>\r\n",
        "Last Updated: 2-26-21"
      ]
    },
    {
      "cell_type": "markdown",
      "metadata": {
        "id": "IW26dsLVBkKQ"
      },
      "source": [
        "<img src=\"https://www.confluence-denver.com/galleries/Features/2016/Issue_164/bike_lanes_04.jpg\">\r\n",
        "\r\n",
        "Credit: [Confluence Denver](https://www.confluence-denver.com/features/denver_bike_lanes_082416.aspx)\r\n"
      ]
    },
    {
      "cell_type": "markdown",
      "metadata": {
        "id": "xNy8nvPu0SSE"
      },
      "source": [
        "## Introduction \r\n",
        "I am a competitive cyclist and moving to Denver was partially motivated by my love for cycling. While I have a strong understanding of the riding experience here, I wonder how my experience compares to other cyclists in various parts of the US. I hope to tell a detailed story of these cities through the eyes of a cyclist and through the lens of data.\r\n",
        "\r\n",
        "In this project, I will examine a list of the highest ranking bicycle cities in the country and apply my own analysis to gain further insight into the cities and their unique characteristics. I will use analytic tools as well as machine learning algorithms to see how these cities relate to each other and also gain insight into other supporting factors that have made these cities accessible via bicycle.\r\n",
        "\r\n",
        "While this project is personally interesting to me, I believe that the insights here could be useful for a variety of business applications. Perhaps there is a company in one of these cities that is considering including provisions to support bike commuters. Maybe the existence of bicycle infrastructure is important to a company and an investigation into potential locations for an office would require such an analysis to foster that kind of culture in the workplace.\r\n",
        "\r\n",
        "I believe that the bicycle is a very powerful tool to not only navigate a city but to also change it, through culture and infrastructure. I hope this project illuminates some of the impact that the bicycle has had on these cities."
      ]
    },
    {
      "cell_type": "markdown",
      "metadata": {
        "id": "5VNHT0d_0SVH"
      },
      "source": [
        "## Data \r\n",
        "### PlacesForBikes City Ratings\r\n",
        "- [PlacesForBikes City Ratings](https://cityratings.peopleforbikes.org/)\r\n",
        "\r\n",
        "For this project, I will be first looking at the PlacesForBikes ratings to see their list of top cities for bicycles. They have made their data available for the public as well as an explanation to their methodology in ranking. It is from this data that I will select a number of cities to examine further, while also studying their decisions in ranking.\r\n",
        "\r\n",
        "### Foursquare\r\n",
        "- [Foursquare](https://foursquare.com/)\r\n",
        "\r\n",
        "I will be using the Foursquare API to get an understanding of the selected cities from the rankings above. The most obvious query would be to find how many bike shops are within the city limits but also some other potential locations to be explored further. This data will be geospatially visualized using mapping libraries in Python.\r\n",
        "\r\n",
        "### Strava\r\n",
        "- [Strava](https://www.strava.com/about)\r\n",
        "\r\n",
        "Strava is an app that tracks user's activity files from a variety of sports, including cycling. Strava currently has 55 million users, so there will be no shortage of data to examine in these popular cycling cities. By using the Strava API, I will be able to gain insight into the areas and density of the rides taken within the city.\r\n",
        "\r\n",
        "### Zip Codes\r\n",
        "- [Zip-Codes.com](https://www.zip-codes.com/)\r\n",
        "\r\n",
        "In order to organize some this data, I will have to have quick access to a zipcode database for reference. I will use a webscraping tool in this project."
      ]
    },
    {
      "cell_type": "markdown",
      "metadata": {
        "id": "aNK-K2GM0SX-"
      },
      "source": [
        "## Methodology \r\n"
      ]
    },
    {
      "cell_type": "markdown",
      "metadata": {
        "id": "4K5R1X8abB5R"
      },
      "source": [
        "### Using City Ranking"
      ]
    },
    {
      "cell_type": "code",
      "metadata": {
        "id": "orVH7mV4gGDe"
      },
      "source": [
        "import pandas as pd\r\n",
        "import folium\r\n",
        "import requests\r\n",
        "from pandas.io.json import json_normalize\r\n",
        "from geopy.geocoders import Nominatim"
      ],
      "execution_count": 1,
      "outputs": []
    },
    {
      "cell_type": "markdown",
      "metadata": {
        "id": "G13KEsD3bkrJ"
      },
      "source": [
        "For the City Ratings, I saved the files locally and then uploaded the files into the notebook."
      ]
    },
    {
      "cell_type": "code",
      "metadata": {
        "id": "cLHxWc40bA-K"
      },
      "source": [
        "# If I was using a file from some other hosting source, using !wget command would be apporpriate, but it seemed to be a waste of time to host the file online just to demonstrate the ability to upload a file.\r\n",
        "pfbr = pd.read_excel(\"pfbr.xls\")"
      ],
      "execution_count": 2,
      "outputs": []
    },
    {
      "cell_type": "markdown",
      "metadata": {
        "id": "bhyvcnKcg5yd"
      },
      "source": [
        "With the data uploaded, getting an idea of the scope of the dataset is an important way to start structuring our analysis."
      ]
    },
    {
      "cell_type": "code",
      "metadata": {
        "colab": {
          "base_uri": "https://localhost:8080/"
        },
        "id": "O-wbxfe2hdf8",
        "outputId": "6b70433f-dd32-4ff7-fe51-c310db972f49"
      },
      "source": [
        "pfbr.shape"
      ],
      "execution_count": 3,
      "outputs": [
        {
          "output_type": "execute_result",
          "data": {
            "text/plain": [
              "(567, 55)"
            ]
          },
          "metadata": {
            "tags": []
          },
          "execution_count": 3
        }
      ]
    },
    {
      "cell_type": "markdown",
      "metadata": {
        "id": "SVoLcfX-UkLg"
      },
      "source": [
        "We'll just be looking at the top three cities.\n",
        "\n"
      ]
    },
    {
      "cell_type": "code",
      "metadata": {
        "colab": {
          "base_uri": "https://localhost:8080/",
          "height": 341
        },
        "id": "QZmZvEuKT0i0",
        "outputId": "98f1bed7-efab-485c-fc08-6f6e889ea101"
      },
      "source": [
        "top_cities = pfbr.head(3)\n",
        "top_cities"
      ],
      "execution_count": 4,
      "outputs": [
        {
          "output_type": "execute_result",
          "data": {
            "text/html": [
              "<div>\n",
              "<style scoped>\n",
              "    .dataframe tbody tr th:only-of-type {\n",
              "        vertical-align: middle;\n",
              "    }\n",
              "\n",
              "    .dataframe tbody tr th {\n",
              "        vertical-align: top;\n",
              "    }\n",
              "\n",
              "    .dataframe thead th {\n",
              "        text-align: right;\n",
              "    }\n",
              "</style>\n",
              "<table border=\"1\" class=\"dataframe\">\n",
              "  <thead>\n",
              "    <tr style=\"text-align: right;\">\n",
              "      <th></th>\n",
              "      <th>Places_ID_2020</th>\n",
              "      <th>City</th>\n",
              "      <th>City_Alt</th>\n",
              "      <th>ACS Bike-to-Work Mode Share</th>\n",
              "      <th>Land Area</th>\n",
              "      <th>Population</th>\n",
              "      <th>ACS Target</th>\n",
              "      <th>ACS Normalized Score</th>\n",
              "      <th>ACS Ridership Points</th>\n",
              "      <th>SMS Recreation Riding</th>\n",
              "      <th>SMS Points</th>\n",
              "      <th>Community Survey Ridership Score</th>\n",
              "      <th>Total Ridership Points</th>\n",
              "      <th>Average Fatalities All Mode</th>\n",
              "      <th>All Mode Fatality Rate</th>\n",
              "      <th>All Mode Fatality Points</th>\n",
              "      <th>Average Fatalities Bike</th>\n",
              "      <th>Bike Fatality Rate</th>\n",
              "      <th>Bike Fatality Points</th>\n",
              "      <th>All Mode Injuries</th>\n",
              "      <th>All Mode Injury Rate</th>\n",
              "      <th>All Mode Injury Points</th>\n",
              "      <th>Bike Injuries</th>\n",
              "      <th>Bike Injury Rate</th>\n",
              "      <th>Bike Injury Points</th>\n",
              "      <th>All mode safety points</th>\n",
              "      <th>Bike Safety Points</th>\n",
              "      <th>Community Survey Safety Score</th>\n",
              "      <th>Total Safety Points</th>\n",
              "      <th>City Snapshot Points</th>\n",
              "      <th>Community Survey Acceleration Score</th>\n",
              "      <th>Total Acceleration Points</th>\n",
              "      <th>BNA</th>\n",
              "      <th>BNA Points</th>\n",
              "      <th>Community Survey Network Score</th>\n",
              "      <th>Total Network Points</th>\n",
              "      <th>Percent Communities of Concern</th>\n",
              "      <th>Number Underserved Communities</th>\n",
              "      <th>Average BNA</th>\n",
              "      <th>BNA Underserved Communities</th>\n",
              "      <th>BNA Gap</th>\n",
              "      <th>BNA Tier</th>\n",
              "      <th>BNA Target</th>\n",
              "      <th>Distance</th>\n",
              "      <th>BNA Points.1</th>\n",
              "      <th>ACS Bike-to-Work Mode Share Men</th>\n",
              "      <th>ACS Bike-to-Work Mode Share Women</th>\n",
              "      <th>ACS Gap</th>\n",
              "      <th>ACS Tier</th>\n",
              "      <th>ACS_Target</th>\n",
              "      <th>Distance.1</th>\n",
              "      <th>ACS Points</th>\n",
              "      <th>Total Reach Points</th>\n",
              "      <th>Bonus</th>\n",
              "      <th>Points with bonus</th>\n",
              "    </tr>\n",
              "  </thead>\n",
              "  <tbody>\n",
              "    <tr>\n",
              "      <th>0</th>\n",
              "      <td>487</td>\n",
              "      <td>SAN LUIS OBISPO, CALIFORNIA</td>\n",
              "      <td>SAN LUIS OBISPO, CA</td>\n",
              "      <td>0.093</td>\n",
              "      <td>13.1</td>\n",
              "      <td>47160</td>\n",
              "      <td>0.263</td>\n",
              "      <td>28.6</td>\n",
              "      <td>1.4</td>\n",
              "      <td>0.134</td>\n",
              "      <td>2.2</td>\n",
              "      <td>2.8</td>\n",
              "      <td>2.028725</td>\n",
              "      <td>1.2</td>\n",
              "      <td>0.3</td>\n",
              "      <td>4.0</td>\n",
              "      <td>0.2</td>\n",
              "      <td>1.1</td>\n",
              "      <td>4.0</td>\n",
              "      <td>NaN</td>\n",
              "      <td>NaN</td>\n",
              "      <td>NaN</td>\n",
              "      <td>NaN</td>\n",
              "      <td>NaN</td>\n",
              "      <td>NaN</td>\n",
              "      <td>2.0</td>\n",
              "      <td>2.0</td>\n",
              "      <td>2.7</td>\n",
              "      <td>2.13888</td>\n",
              "      <td>4.7</td>\n",
              "      <td>3.2</td>\n",
              "      <td>4.35786</td>\n",
              "      <td>61.6</td>\n",
              "      <td>4</td>\n",
              "      <td>3.2</td>\n",
              "      <td>3.83402</td>\n",
              "      <td>5.9</td>\n",
              "      <td>2</td>\n",
              "      <td>49.6</td>\n",
              "      <td>55.2</td>\n",
              "      <td>-5.6</td>\n",
              "      <td>NaN</td>\n",
              "      <td>NaN</td>\n",
              "      <td>NaN</td>\n",
              "      <td>NaN</td>\n",
              "      <td>0.1</td>\n",
              "      <td>0.0</td>\n",
              "      <td>0.1</td>\n",
              "      <td>3.0</td>\n",
              "      <td>-0.6</td>\n",
              "      <td>0.7</td>\n",
              "      <td>2.9</td>\n",
              "      <td>2.864338</td>\n",
              "      <td>0.5</td>\n",
              "      <td>3.544765</td>\n",
              "    </tr>\n",
              "    <tr>\n",
              "      <th>1</th>\n",
              "      <td>215</td>\n",
              "      <td>MADISON, WISCONSIN</td>\n",
              "      <td>MADISON, WI</td>\n",
              "      <td>0.061</td>\n",
              "      <td>78.8</td>\n",
              "      <td>252086</td>\n",
              "      <td>0.115</td>\n",
              "      <td>52.4</td>\n",
              "      <td>2.6</td>\n",
              "      <td>0.182</td>\n",
              "      <td>3.0</td>\n",
              "      <td>3.0</td>\n",
              "      <td>2.863614</td>\n",
              "      <td>8.4</td>\n",
              "      <td>0.3</td>\n",
              "      <td>4.0</td>\n",
              "      <td>0.4</td>\n",
              "      <td>0.6</td>\n",
              "      <td>4.0</td>\n",
              "      <td>84.5</td>\n",
              "      <td>3.4</td>\n",
              "      <td>2.0</td>\n",
              "      <td>8.0</td>\n",
              "      <td>11.7</td>\n",
              "      <td>4.0</td>\n",
              "      <td>3.0</td>\n",
              "      <td>4.0</td>\n",
              "      <td>3.1</td>\n",
              "      <td>3.42080</td>\n",
              "      <td>3.2</td>\n",
              "      <td>3.5</td>\n",
              "      <td>3.25176</td>\n",
              "      <td>49.8</td>\n",
              "      <td>3</td>\n",
              "      <td>3.4</td>\n",
              "      <td>3.08294</td>\n",
              "      <td>11.5</td>\n",
              "      <td>22</td>\n",
              "      <td>47.5</td>\n",
              "      <td>46.2</td>\n",
              "      <td>1.3</td>\n",
              "      <td>1.0</td>\n",
              "      <td>-25.0</td>\n",
              "      <td>26.3</td>\n",
              "      <td>2.2</td>\n",
              "      <td>0.1</td>\n",
              "      <td>0.0</td>\n",
              "      <td>0.0</td>\n",
              "      <td>3.0</td>\n",
              "      <td>-0.6</td>\n",
              "      <td>0.6</td>\n",
              "      <td>3.0</td>\n",
              "      <td>2.431013</td>\n",
              "      <td>0.5</td>\n",
              "      <td>3.510025</td>\n",
              "    </tr>\n",
              "    <tr>\n",
              "      <th>2</th>\n",
              "      <td>337</td>\n",
              "      <td>SANTA BARBARA, CALIFORNIA</td>\n",
              "      <td>SANTA BARBARA, CA</td>\n",
              "      <td>0.052</td>\n",
              "      <td>19.5</td>\n",
              "      <td>91325</td>\n",
              "      <td>0.263</td>\n",
              "      <td>19.3</td>\n",
              "      <td>1.0</td>\n",
              "      <td>0.157</td>\n",
              "      <td>2.6</td>\n",
              "      <td>2.8</td>\n",
              "      <td>1.990605</td>\n",
              "      <td>3.4</td>\n",
              "      <td>0.4</td>\n",
              "      <td>4.0</td>\n",
              "      <td>0.0</td>\n",
              "      <td>0.0</td>\n",
              "      <td>5.0</td>\n",
              "      <td>34.0</td>\n",
              "      <td>3.7</td>\n",
              "      <td>2.0</td>\n",
              "      <td>10.0</td>\n",
              "      <td>48.5</td>\n",
              "      <td>2.0</td>\n",
              "      <td>3.0</td>\n",
              "      <td>3.5</td>\n",
              "      <td>2.7</td>\n",
              "      <td>3.13792</td>\n",
              "      <td>3.8</td>\n",
              "      <td>3.4</td>\n",
              "      <td>3.72760</td>\n",
              "      <td>38.2</td>\n",
              "      <td>2</td>\n",
              "      <td>3.0</td>\n",
              "      <td>2.20700</td>\n",
              "      <td>16.5</td>\n",
              "      <td>16</td>\n",
              "      <td>33.9</td>\n",
              "      <td>36.6</td>\n",
              "      <td>-2.8</td>\n",
              "      <td>1.0</td>\n",
              "      <td>-25.0</td>\n",
              "      <td>22.2</td>\n",
              "      <td>2.7</td>\n",
              "      <td>0.1</td>\n",
              "      <td>0.0</td>\n",
              "      <td>0.1</td>\n",
              "      <td>3.0</td>\n",
              "      <td>-0.6</td>\n",
              "      <td>0.7</td>\n",
              "      <td>3.0</td>\n",
              "      <td>2.733556</td>\n",
              "      <td>0.5</td>\n",
              "      <td>3.259336</td>\n",
              "    </tr>\n",
              "  </tbody>\n",
              "</table>\n",
              "</div>"
            ],
            "text/plain": [
              "   Places_ID_2020                         City  ... Bonus  Points with bonus\n",
              "0             487  SAN LUIS OBISPO, CALIFORNIA  ...   0.5           3.544765\n",
              "1             215           MADISON, WISCONSIN  ...   0.5           3.510025\n",
              "2             337    SANTA BARBARA, CALIFORNIA  ...   0.5           3.259336\n",
              "\n",
              "[3 rows x 55 columns]"
            ]
          },
          "metadata": {
            "tags": []
          },
          "execution_count": 4
        }
      ]
    },
    {
      "cell_type": "markdown",
      "metadata": {
        "id": "WwhhUQEG8doO"
      },
      "source": [
        "I will use the addresses of the city hall's for each city to serve as the geospatial center for which we can find the coordinates."
      ]
    },
    {
      "cell_type": "code",
      "metadata": {
        "id": "Ph44F4gW8clg"
      },
      "source": [
        "san_luis = '990 Palm St, San Luis Obispo, CA 93401'\r\n",
        "madison = '2120 Fish Hatchery Rd, Madison, WI 53713'\r\n",
        "santa_barbara = '735 Anacapa St, Santa Barbara, CA 93101'"
      ],
      "execution_count": 5,
      "outputs": []
    },
    {
      "cell_type": "markdown",
      "metadata": {
        "id": "f3-kietjEjJI"
      },
      "source": [
        "### Using Foursquare"
      ]
    },
    {
      "cell_type": "markdown",
      "metadata": {
        "id": "Y-U_f4BP40iT"
      },
      "source": [
        "Using my personalized token, I accessed Foursquare's API making queries into what kind of venues were close to the city halls of these cities. In doing so, I hoped to see if there was any kind of trend that could found in the areas that have high bike riding scores."
      ]
    },
    {
      "cell_type": "code",
      "metadata": {
        "colab": {
          "base_uri": "https://localhost:8080/"
        },
        "id": "3gSrCrU13sEK",
        "outputId": "ebaf0c17-572c-4830-fe1b-69292e2fd9f5"
      },
      "source": [
        "CLIENT_ID = 'AA5IFTXJZJCQ023SACSUMAGZ11WYQ1TWHRRMF0JLQBJAY3PC'\r\n",
        "CLIENT_SECRET = 'FGJSLALMRKIDXQKL4HT5KQJSEXUDFOETQSC3B04UHGMY5ZNP'\r\n",
        "ACCESS_TOKEN = 'ALDECKAYHJJ52RBIX0CCOHA3BSSEU5VPXGA1PTEVRXJTX0GF'\r\n",
        "VERSION = '20210228' #Date of query\r\n",
        "LIMIT = 30\r\n",
        "CODE = 'J5K1MCNFFHAY4YP3LPZHQOY4D400AKRCZOE3R1CH5O4HBGT2#_=_'\r\n",
        "print('Your credentails:')\r\n",
        "print('CLIENT_ID: ' + CLIENT_ID)\r\n",
        "print('CLIENT_SECRET:' + CLIENT_SECRET)"
      ],
      "execution_count": 6,
      "outputs": [
        {
          "output_type": "stream",
          "text": [
            "Your credentails:\n",
            "CLIENT_ID: AA5IFTXJZJCQ023SACSUMAGZ11WYQ1TWHRRMF0JLQBJAY3PC\n",
            "CLIENT_SECRET:FGJSLALMRKIDXQKL4HT5KQJSEXUDFOETQSC3B04UHGMY5ZNP\n"
          ],
          "name": "stdout"
        }
      ]
    },
    {
      "cell_type": "markdown",
      "metadata": {
        "id": "yEj4CoYb-iFV"
      },
      "source": [
        "#### San Luis Obispo"
      ]
    },
    {
      "cell_type": "code",
      "metadata": {
        "colab": {
          "base_uri": "https://localhost:8080/"
        },
        "id": "AFQwCFUE4DzB",
        "outputId": "ad0ac7c2-4a62-44a7-b5db-d9bdf86fb641"
      },
      "source": [
        "address = san_luis\r\n",
        "\r\n",
        "geolocator = Nominatim(user_agent=\"foursquare_agent\")\r\n",
        "location = geolocator.geocode(address)\r\n",
        "latitude = location.latitude\r\n",
        "longitude = location.longitude\r\n",
        "print(latitude, longitude)"
      ],
      "execution_count": 7,
      "outputs": [
        {
          "output_type": "stream",
          "text": [
            "35.28263142857143 -120.66234418367347\n"
          ],
          "name": "stdout"
        }
      ]
    },
    {
      "cell_type": "code",
      "metadata": {
        "colab": {
          "base_uri": "https://localhost:8080/",
          "height": 71
        },
        "id": "M_zYSi3c4GA5",
        "outputId": "c30c4bd4-baaf-4cec-95b6-e0a447ed9e3f"
      },
      "source": [
        "LIMIT = 500\r\n",
        "radius = 2000\r\n",
        "url = 'https://api.foursquare.com/v2/venues/explore?&client_id={}&client_secret={}&v={}&ll={},{}&radius={}&limit={}'.format(\r\n",
        "    CLIENT_ID, \r\n",
        "    CLIENT_SECRET, \r\n",
        "    VERSION, \r\n",
        "    latitude, \r\n",
        "    longitude, \r\n",
        "    radius, \r\n",
        "    LIMIT)\r\n",
        "url"
      ],
      "execution_count": 8,
      "outputs": [
        {
          "output_type": "execute_result",
          "data": {
            "application/vnd.google.colaboratory.intrinsic+json": {
              "type": "string"
            },
            "text/plain": [
              "'https://api.foursquare.com/v2/venues/explore?&client_id=AA5IFTXJZJCQ023SACSUMAGZ11WYQ1TWHRRMF0JLQBJAY3PC&client_secret=FGJSLALMRKIDXQKL4HT5KQJSEXUDFOETQSC3B04UHGMY5ZNP&v=20210228&ll=35.28263142857143,-120.66234418367347&radius=2000&limit=500'"
            ]
          },
          "metadata": {
            "tags": []
          },
          "execution_count": 8
        }
      ]
    },
    {
      "cell_type": "code",
      "metadata": {
        "id": "b8xSZdFv4N9a"
      },
      "source": [
        "results = requests.get(url).json()"
      ],
      "execution_count": 9,
      "outputs": []
    },
    {
      "cell_type": "code",
      "metadata": {
        "id": "ANG0i9m64Ta5"
      },
      "source": [
        "def get_category_type(row):\r\n",
        "    try:\r\n",
        "        categories_list = row['categories']\r\n",
        "    except:\r\n",
        "        categories_list = row['venue.categories']\r\n",
        "        \r\n",
        "    if len(categories_list) == 0:\r\n",
        "        return None\r\n",
        "    else:\r\n",
        "        return categories_list[0]['name']"
      ],
      "execution_count": 10,
      "outputs": []
    },
    {
      "cell_type": "code",
      "metadata": {
        "colab": {
          "base_uri": "https://localhost:8080/",
          "height": 253
        },
        "id": "tgQEvSHV9nru",
        "outputId": "ecdfaa6e-d7de-4e36-c171-46389f20b12f"
      },
      "source": [
        "venues = results['response']['groups'][0]['items']\r\n",
        "    \r\n",
        "nearby_venues = json_normalize(venues) # flatten JSON\r\n",
        "\r\n",
        "# filter columns\r\n",
        "filtered_columns = ['venue.name', 'venue.categories', 'venue.location.lat', 'venue.location.lng']\r\n",
        "nearby_venues =nearby_venues.loc[:, filtered_columns]\r\n",
        "\r\n",
        "# filter the category for each row\r\n",
        "nearby_venues['venue.categories'] = nearby_venues.apply(get_category_type, axis=1)\r\n",
        "\r\n",
        "# clean columns\r\n",
        "nearby_venues.columns = [col.split(\".\")[-1] for col in nearby_venues.columns]\r\n",
        "\r\n",
        "nearby_venues.head()"
      ],
      "execution_count": 11,
      "outputs": [
        {
          "output_type": "stream",
          "text": [
            "/usr/local/lib/python3.7/dist-packages/ipykernel_launcher.py:3: FutureWarning: pandas.io.json.json_normalize is deprecated, use pandas.json_normalize instead\n",
            "  This is separate from the ipykernel package so we can avoid doing imports until\n"
          ],
          "name": "stderr"
        },
        {
          "output_type": "execute_result",
          "data": {
            "text/html": [
              "<div>\n",
              "<style scoped>\n",
              "    .dataframe tbody tr th:only-of-type {\n",
              "        vertical-align: middle;\n",
              "    }\n",
              "\n",
              "    .dataframe tbody tr th {\n",
              "        vertical-align: top;\n",
              "    }\n",
              "\n",
              "    .dataframe thead th {\n",
              "        text-align: right;\n",
              "    }\n",
              "</style>\n",
              "<table border=\"1\" class=\"dataframe\">\n",
              "  <thead>\n",
              "    <tr style=\"text-align: right;\">\n",
              "      <th></th>\n",
              "      <th>name</th>\n",
              "      <th>categories</th>\n",
              "      <th>lat</th>\n",
              "      <th>lng</th>\n",
              "    </tr>\n",
              "  </thead>\n",
              "  <tbody>\n",
              "    <tr>\n",
              "      <th>0</th>\n",
              "      <td>Firestone Grill</td>\n",
              "      <td>BBQ Joint</td>\n",
              "      <td>35.281176</td>\n",
              "      <td>-120.660420</td>\n",
              "    </tr>\n",
              "    <tr>\n",
              "      <th>1</th>\n",
              "      <td>Louisa's Place</td>\n",
              "      <td>Breakfast Spot</td>\n",
              "      <td>35.280863</td>\n",
              "      <td>-120.661680</td>\n",
              "    </tr>\n",
              "    <tr>\n",
              "      <th>2</th>\n",
              "      <td>Scout Coffee Co.</td>\n",
              "      <td>Coffee Shop</td>\n",
              "      <td>35.278963</td>\n",
              "      <td>-120.662836</td>\n",
              "    </tr>\n",
              "    <tr>\n",
              "      <th>3</th>\n",
              "      <td>San Luis Obispo Farmers' Market</td>\n",
              "      <td>Farmers Market</td>\n",
              "      <td>35.279390</td>\n",
              "      <td>-120.663637</td>\n",
              "    </tr>\n",
              "    <tr>\n",
              "      <th>4</th>\n",
              "      <td>BarrelHouse Brewing SLO - Taproom</td>\n",
              "      <td>Brewery</td>\n",
              "      <td>35.280131</td>\n",
              "      <td>-120.663279</td>\n",
              "    </tr>\n",
              "  </tbody>\n",
              "</table>\n",
              "</div>"
            ],
            "text/plain": [
              "                                name      categories        lat         lng\n",
              "0                    Firestone Grill       BBQ Joint  35.281176 -120.660420\n",
              "1                     Louisa's Place  Breakfast Spot  35.280863 -120.661680\n",
              "2                   Scout Coffee Co.     Coffee Shop  35.278963 -120.662836\n",
              "3    San Luis Obispo Farmers' Market  Farmers Market  35.279390 -120.663637\n",
              "4  BarrelHouse Brewing SLO - Taproom         Brewery  35.280131 -120.663279"
            ]
          },
          "metadata": {
            "tags": []
          },
          "execution_count": 11
        }
      ]
    },
    {
      "cell_type": "code",
      "metadata": {
        "colab": {
          "base_uri": "https://localhost:8080/",
          "height": 406
        },
        "id": "__97xjkIGcpn",
        "outputId": "59d13c10-f176-4269-9389-b973fac3e175"
      },
      "source": [
        "sl_venues = nearby_venues\r\n",
        "sl_venues"
      ],
      "execution_count": 12,
      "outputs": [
        {
          "output_type": "execute_result",
          "data": {
            "text/html": [
              "<div>\n",
              "<style scoped>\n",
              "    .dataframe tbody tr th:only-of-type {\n",
              "        vertical-align: middle;\n",
              "    }\n",
              "\n",
              "    .dataframe tbody tr th {\n",
              "        vertical-align: top;\n",
              "    }\n",
              "\n",
              "    .dataframe thead th {\n",
              "        text-align: right;\n",
              "    }\n",
              "</style>\n",
              "<table border=\"1\" class=\"dataframe\">\n",
              "  <thead>\n",
              "    <tr style=\"text-align: right;\">\n",
              "      <th></th>\n",
              "      <th>name</th>\n",
              "      <th>categories</th>\n",
              "      <th>lat</th>\n",
              "      <th>lng</th>\n",
              "    </tr>\n",
              "  </thead>\n",
              "  <tbody>\n",
              "    <tr>\n",
              "      <th>0</th>\n",
              "      <td>Firestone Grill</td>\n",
              "      <td>BBQ Joint</td>\n",
              "      <td>35.281176</td>\n",
              "      <td>-120.660420</td>\n",
              "    </tr>\n",
              "    <tr>\n",
              "      <th>1</th>\n",
              "      <td>Louisa's Place</td>\n",
              "      <td>Breakfast Spot</td>\n",
              "      <td>35.280863</td>\n",
              "      <td>-120.661680</td>\n",
              "    </tr>\n",
              "    <tr>\n",
              "      <th>2</th>\n",
              "      <td>Scout Coffee Co.</td>\n",
              "      <td>Coffee Shop</td>\n",
              "      <td>35.278963</td>\n",
              "      <td>-120.662836</td>\n",
              "    </tr>\n",
              "    <tr>\n",
              "      <th>3</th>\n",
              "      <td>San Luis Obispo Farmers' Market</td>\n",
              "      <td>Farmers Market</td>\n",
              "      <td>35.279390</td>\n",
              "      <td>-120.663637</td>\n",
              "    </tr>\n",
              "    <tr>\n",
              "      <th>4</th>\n",
              "      <td>BarrelHouse Brewing SLO - Taproom</td>\n",
              "      <td>Brewery</td>\n",
              "      <td>35.280131</td>\n",
              "      <td>-120.663279</td>\n",
              "    </tr>\n",
              "    <tr>\n",
              "      <th>...</th>\n",
              "      <td>...</td>\n",
              "      <td>...</td>\n",
              "      <td>...</td>\n",
              "      <td>...</td>\n",
              "    </tr>\n",
              "    <tr>\n",
              "      <th>95</th>\n",
              "      <td>Thai-riffic</td>\n",
              "      <td>Thai Restaurant</td>\n",
              "      <td>35.270007</td>\n",
              "      <td>-120.670346</td>\n",
              "    </tr>\n",
              "    <tr>\n",
              "      <th>96</th>\n",
              "      <td>Mustang Lanes</td>\n",
              "      <td>Bowling Alley</td>\n",
              "      <td>35.300171</td>\n",
              "      <td>-120.658723</td>\n",
              "    </tr>\n",
              "    <tr>\n",
              "      <th>97</th>\n",
              "      <td>Mama's Meatball</td>\n",
              "      <td>Italian Restaurant</td>\n",
              "      <td>35.277951</td>\n",
              "      <td>-120.666726</td>\n",
              "    </tr>\n",
              "    <tr>\n",
              "      <th>98</th>\n",
              "      <td>San Luis Fish &amp; BBQ</td>\n",
              "      <td>BBQ Joint</td>\n",
              "      <td>35.276328</td>\n",
              "      <td>-120.667009</td>\n",
              "    </tr>\n",
              "    <tr>\n",
              "      <th>99</th>\n",
              "      <td>Speedway Express</td>\n",
              "      <td>Gas Station</td>\n",
              "      <td>35.293732</td>\n",
              "      <td>-120.668162</td>\n",
              "    </tr>\n",
              "  </tbody>\n",
              "</table>\n",
              "<p>100 rows × 4 columns</p>\n",
              "</div>"
            ],
            "text/plain": [
              "                                 name  ...         lng\n",
              "0                     Firestone Grill  ... -120.660420\n",
              "1                      Louisa's Place  ... -120.661680\n",
              "2                    Scout Coffee Co.  ... -120.662836\n",
              "3     San Luis Obispo Farmers' Market  ... -120.663637\n",
              "4   BarrelHouse Brewing SLO - Taproom  ... -120.663279\n",
              "..                                ...  ...         ...\n",
              "95                        Thai-riffic  ... -120.670346\n",
              "96                      Mustang Lanes  ... -120.658723\n",
              "97                    Mama's Meatball  ... -120.666726\n",
              "98                San Luis Fish & BBQ  ... -120.667009\n",
              "99                   Speedway Express  ... -120.668162\n",
              "\n",
              "[100 rows x 4 columns]"
            ]
          },
          "metadata": {
            "tags": []
          },
          "execution_count": 12
        }
      ]
    },
    {
      "cell_type": "markdown",
      "metadata": {
        "id": "sIxbu3WR-nJz"
      },
      "source": [
        "#### Madison"
      ]
    },
    {
      "cell_type": "code",
      "metadata": {
        "colab": {
          "base_uri": "https://localhost:8080/"
        },
        "id": "bxUZRaSP9gmY",
        "outputId": "20d6c593-79ae-4da3-d464-bebda2ffc692"
      },
      "source": [
        "address = madison\r\n",
        "\r\n",
        "geolocator = Nominatim(user_agent=\"foursquare_agent\")\r\n",
        "location = geolocator.geocode(address)\r\n",
        "latitude = location.latitude\r\n",
        "longitude = location.longitude\r\n",
        "print(latitude, longitude)"
      ],
      "execution_count": 13,
      "outputs": [
        {
          "output_type": "stream",
          "text": [
            "43.04292418483257 -89.40407878799554\n"
          ],
          "name": "stdout"
        }
      ]
    },
    {
      "cell_type": "code",
      "metadata": {
        "colab": {
          "base_uri": "https://localhost:8080/",
          "height": 71
        },
        "id": "msSerKUd9lmI",
        "outputId": "4e289781-131a-401a-ad75-ace042af792c"
      },
      "source": [
        "LIMIT = 500\r\n",
        "radius = 2000\r\n",
        "url = 'https://api.foursquare.com/v2/venues/explore?&client_id={}&client_secret={}&v={}&ll={},{}&radius={}&limit={}'.format(\r\n",
        "    CLIENT_ID, \r\n",
        "    CLIENT_SECRET, \r\n",
        "    VERSION, \r\n",
        "    latitude, \r\n",
        "    longitude, \r\n",
        "    radius, \r\n",
        "    LIMIT)\r\n",
        "url"
      ],
      "execution_count": 14,
      "outputs": [
        {
          "output_type": "execute_result",
          "data": {
            "application/vnd.google.colaboratory.intrinsic+json": {
              "type": "string"
            },
            "text/plain": [
              "'https://api.foursquare.com/v2/venues/explore?&client_id=AA5IFTXJZJCQ023SACSUMAGZ11WYQ1TWHRRMF0JLQBJAY3PC&client_secret=FGJSLALMRKIDXQKL4HT5KQJSEXUDFOETQSC3B04UHGMY5ZNP&v=20210228&ll=43.04292418483257,-89.40407878799554&radius=2000&limit=500'"
            ]
          },
          "metadata": {
            "tags": []
          },
          "execution_count": 14
        }
      ]
    },
    {
      "cell_type": "code",
      "metadata": {
        "id": "oc72lBJi9nd1"
      },
      "source": [
        "results = requests.get(url).json()"
      ],
      "execution_count": 15,
      "outputs": []
    },
    {
      "cell_type": "code",
      "metadata": {
        "id": "AwdgXiMn9pXF"
      },
      "source": [
        "def get_category_type(row):\r\n",
        "    try:\r\n",
        "        categories_list = row['categories']\r\n",
        "    except:\r\n",
        "        categories_list = row['venue.categories']\r\n",
        "        \r\n",
        "    if len(categories_list) == 0:\r\n",
        "        return None\r\n",
        "    else:\r\n",
        "        return categories_list[0]['name']"
      ],
      "execution_count": 16,
      "outputs": []
    },
    {
      "cell_type": "code",
      "metadata": {
        "colab": {
          "base_uri": "https://localhost:8080/",
          "height": 253
        },
        "id": "DeGG4T1W9qAF",
        "outputId": "c324809b-1811-4eb9-e03f-2ea4e0290c04"
      },
      "source": [
        "venues = results['response']['groups'][0]['items']\r\n",
        "    \r\n",
        "nearby_venues = json_normalize(venues) # flatten JSON\r\n",
        "\r\n",
        "# filter columns\r\n",
        "filtered_columns = ['venue.name', 'venue.categories', 'venue.location.lat', 'venue.location.lng']\r\n",
        "nearby_venues =nearby_venues.loc[:, filtered_columns]\r\n",
        "\r\n",
        "# filter the category for each row\r\n",
        "nearby_venues['venue.categories'] = nearby_venues.apply(get_category_type, axis=1)\r\n",
        "\r\n",
        "# clean columns\r\n",
        "nearby_venues.columns = [col.split(\".\")[-1] for col in nearby_venues.columns]\r\n",
        "\r\n",
        "nearby_venues.head()"
      ],
      "execution_count": 17,
      "outputs": [
        {
          "output_type": "stream",
          "text": [
            "/usr/local/lib/python3.7/dist-packages/ipykernel_launcher.py:3: FutureWarning: pandas.io.json.json_normalize is deprecated, use pandas.json_normalize instead\n",
            "  This is separate from the ipykernel package so we can avoid doing imports until\n"
          ],
          "name": "stderr"
        },
        {
          "output_type": "execute_result",
          "data": {
            "text/html": [
              "<div>\n",
              "<style scoped>\n",
              "    .dataframe tbody tr th:only-of-type {\n",
              "        vertical-align: middle;\n",
              "    }\n",
              "\n",
              "    .dataframe tbody tr th {\n",
              "        vertical-align: top;\n",
              "    }\n",
              "\n",
              "    .dataframe thead th {\n",
              "        text-align: right;\n",
              "    }\n",
              "</style>\n",
              "<table border=\"1\" class=\"dataframe\">\n",
              "  <thead>\n",
              "    <tr style=\"text-align: right;\">\n",
              "      <th></th>\n",
              "      <th>name</th>\n",
              "      <th>categories</th>\n",
              "      <th>lat</th>\n",
              "      <th>lng</th>\n",
              "    </tr>\n",
              "  </thead>\n",
              "  <tbody>\n",
              "    <tr>\n",
              "      <th>0</th>\n",
              "      <td>KWIK TRIP #531</td>\n",
              "      <td>Convenience Store</td>\n",
              "      <td>43.036830</td>\n",
              "      <td>-89.404930</td>\n",
              "    </tr>\n",
              "    <tr>\n",
              "      <th>1</th>\n",
              "      <td>El Pastor Restaurant And Bar</td>\n",
              "      <td>Mexican Restaurant</td>\n",
              "      <td>43.043956</td>\n",
              "      <td>-89.394384</td>\n",
              "    </tr>\n",
              "    <tr>\n",
              "      <th>2</th>\n",
              "      <td>Lane's Bakery &amp; Coffee</td>\n",
              "      <td>Bakery</td>\n",
              "      <td>43.040666</td>\n",
              "      <td>-89.395176</td>\n",
              "    </tr>\n",
              "    <tr>\n",
              "      <th>3</th>\n",
              "      <td>Culver's</td>\n",
              "      <td>Fast Food Restaurant</td>\n",
              "      <td>43.036030</td>\n",
              "      <td>-89.415063</td>\n",
              "    </tr>\n",
              "    <tr>\n",
              "      <th>4</th>\n",
              "      <td>Taquería Guadalajara</td>\n",
              "      <td>Mexican Restaurant</td>\n",
              "      <td>43.055595</td>\n",
              "      <td>-89.397383</td>\n",
              "    </tr>\n",
              "  </tbody>\n",
              "</table>\n",
              "</div>"
            ],
            "text/plain": [
              "                           name            categories        lat        lng\n",
              "0                KWIK TRIP #531     Convenience Store  43.036830 -89.404930\n",
              "1  El Pastor Restaurant And Bar    Mexican Restaurant  43.043956 -89.394384\n",
              "2        Lane's Bakery & Coffee                Bakery  43.040666 -89.395176\n",
              "3                      Culver's  Fast Food Restaurant  43.036030 -89.415063\n",
              "4          Taquería Guadalajara    Mexican Restaurant  43.055595 -89.397383"
            ]
          },
          "metadata": {
            "tags": []
          },
          "execution_count": 17
        }
      ]
    },
    {
      "cell_type": "code",
      "metadata": {
        "colab": {
          "base_uri": "https://localhost:8080/",
          "height": 406
        },
        "id": "WSHautfA9p8N",
        "outputId": "46b122eb-1a2e-41b8-a19f-1f1ab9a1fc51"
      },
      "source": [
        "m_venues = nearby_venues\r\n",
        "m_venues"
      ],
      "execution_count": 19,
      "outputs": [
        {
          "output_type": "execute_result",
          "data": {
            "text/html": [
              "<div>\n",
              "<style scoped>\n",
              "    .dataframe tbody tr th:only-of-type {\n",
              "        vertical-align: middle;\n",
              "    }\n",
              "\n",
              "    .dataframe tbody tr th {\n",
              "        vertical-align: top;\n",
              "    }\n",
              "\n",
              "    .dataframe thead th {\n",
              "        text-align: right;\n",
              "    }\n",
              "</style>\n",
              "<table border=\"1\" class=\"dataframe\">\n",
              "  <thead>\n",
              "    <tr style=\"text-align: right;\">\n",
              "      <th></th>\n",
              "      <th>name</th>\n",
              "      <th>categories</th>\n",
              "      <th>lat</th>\n",
              "      <th>lng</th>\n",
              "    </tr>\n",
              "  </thead>\n",
              "  <tbody>\n",
              "    <tr>\n",
              "      <th>0</th>\n",
              "      <td>KWIK TRIP #531</td>\n",
              "      <td>Convenience Store</td>\n",
              "      <td>43.036830</td>\n",
              "      <td>-89.404930</td>\n",
              "    </tr>\n",
              "    <tr>\n",
              "      <th>1</th>\n",
              "      <td>El Pastor Restaurant And Bar</td>\n",
              "      <td>Mexican Restaurant</td>\n",
              "      <td>43.043956</td>\n",
              "      <td>-89.394384</td>\n",
              "    </tr>\n",
              "    <tr>\n",
              "      <th>2</th>\n",
              "      <td>Lane's Bakery &amp; Coffee</td>\n",
              "      <td>Bakery</td>\n",
              "      <td>43.040666</td>\n",
              "      <td>-89.395176</td>\n",
              "    </tr>\n",
              "    <tr>\n",
              "      <th>3</th>\n",
              "      <td>Culver's</td>\n",
              "      <td>Fast Food Restaurant</td>\n",
              "      <td>43.036030</td>\n",
              "      <td>-89.415063</td>\n",
              "    </tr>\n",
              "    <tr>\n",
              "      <th>4</th>\n",
              "      <td>Taquería Guadalajara</td>\n",
              "      <td>Mexican Restaurant</td>\n",
              "      <td>43.055595</td>\n",
              "      <td>-89.397383</td>\n",
              "    </tr>\n",
              "    <tr>\n",
              "      <th>...</th>\n",
              "      <td>...</td>\n",
              "      <td>...</td>\n",
              "      <td>...</td>\n",
              "      <td>...</td>\n",
              "    </tr>\n",
              "    <tr>\n",
              "      <th>83</th>\n",
              "      <td>Delta Beer Lab</td>\n",
              "      <td>Brewery</td>\n",
              "      <td>43.037258</td>\n",
              "      <td>-89.382469</td>\n",
              "    </tr>\n",
              "    <tr>\n",
              "      <th>84</th>\n",
              "      <td>Madison Professional Dance Center</td>\n",
              "      <td>Dance Studio</td>\n",
              "      <td>43.027063</td>\n",
              "      <td>-89.395699</td>\n",
              "    </tr>\n",
              "    <tr>\n",
              "      <th>85</th>\n",
              "      <td>Big Dane Collective</td>\n",
              "      <td>Gym</td>\n",
              "      <td>43.026362</td>\n",
              "      <td>-89.397767</td>\n",
              "    </tr>\n",
              "    <tr>\n",
              "      <th>86</th>\n",
              "      <td>Bernie's Beach</td>\n",
              "      <td>Park</td>\n",
              "      <td>43.056980</td>\n",
              "      <td>-89.389277</td>\n",
              "    </tr>\n",
              "    <tr>\n",
              "      <th>87</th>\n",
              "      <td>Tiger Habitat</td>\n",
              "      <td>Zoo Exhibit</td>\n",
              "      <td>43.060173</td>\n",
              "      <td>-89.410408</td>\n",
              "    </tr>\n",
              "  </tbody>\n",
              "</table>\n",
              "<p>88 rows × 4 columns</p>\n",
              "</div>"
            ],
            "text/plain": [
              "                                 name  ...        lng\n",
              "0                      KWIK TRIP #531  ... -89.404930\n",
              "1        El Pastor Restaurant And Bar  ... -89.394384\n",
              "2              Lane's Bakery & Coffee  ... -89.395176\n",
              "3                            Culver's  ... -89.415063\n",
              "4                Taquería Guadalajara  ... -89.397383\n",
              "..                                ...  ...        ...\n",
              "83                     Delta Beer Lab  ... -89.382469\n",
              "84  Madison Professional Dance Center  ... -89.395699\n",
              "85                Big Dane Collective  ... -89.397767\n",
              "86                     Bernie's Beach  ... -89.389277\n",
              "87                      Tiger Habitat  ... -89.410408\n",
              "\n",
              "[88 rows x 4 columns]"
            ]
          },
          "metadata": {
            "tags": []
          },
          "execution_count": 19
        }
      ]
    },
    {
      "cell_type": "markdown",
      "metadata": {
        "id": "ea6whOrQ-s6l"
      },
      "source": [
        "#### Santa Barbara"
      ]
    },
    {
      "cell_type": "code",
      "metadata": {
        "colab": {
          "base_uri": "https://localhost:8080/"
        },
        "id": "-QwVskVo8fIB",
        "outputId": "408b667a-b1f5-485b-abcf-90387ef141a9"
      },
      "source": [
        "address = santa_barbara\r\n",
        "\r\n",
        "geolocator = Nominatim(user_agent=\"foursquare_agent\")\r\n",
        "location = geolocator.geocode(address)\r\n",
        "latitude = location.latitude\r\n",
        "longitude = location.longitude\r\n",
        "print(latitude, longitude)"
      ],
      "execution_count": 20,
      "outputs": [
        {
          "output_type": "stream",
          "text": [
            "34.420073714285714 -119.6975069387755\n"
          ],
          "name": "stdout"
        }
      ]
    },
    {
      "cell_type": "code",
      "metadata": {
        "colab": {
          "base_uri": "https://localhost:8080/",
          "height": 71
        },
        "id": "91sKR-B18jho",
        "outputId": "dc2834d3-54a8-466e-ea6c-b34953a8f447"
      },
      "source": [
        "LIMIT = 500\r\n",
        "radius = 2000\r\n",
        "url = 'https://api.foursquare.com/v2/venues/explore?&client_id={}&client_secret={}&v={}&ll={},{}&radius={}&limit={}'.format(\r\n",
        "    CLIENT_ID, \r\n",
        "    CLIENT_SECRET, \r\n",
        "    VERSION, \r\n",
        "    latitude, \r\n",
        "    longitude, \r\n",
        "    radius, \r\n",
        "    LIMIT)\r\n",
        "url"
      ],
      "execution_count": 21,
      "outputs": [
        {
          "output_type": "execute_result",
          "data": {
            "application/vnd.google.colaboratory.intrinsic+json": {
              "type": "string"
            },
            "text/plain": [
              "'https://api.foursquare.com/v2/venues/explore?&client_id=AA5IFTXJZJCQ023SACSUMAGZ11WYQ1TWHRRMF0JLQBJAY3PC&client_secret=FGJSLALMRKIDXQKL4HT5KQJSEXUDFOETQSC3B04UHGMY5ZNP&v=20210228&ll=34.420073714285714,-119.6975069387755&radius=2000&limit=500'"
            ]
          },
          "metadata": {
            "tags": []
          },
          "execution_count": 21
        }
      ]
    },
    {
      "cell_type": "code",
      "metadata": {
        "id": "rSiQ4Xgg8lvx"
      },
      "source": [
        "results = requests.get(url).json()"
      ],
      "execution_count": 22,
      "outputs": []
    },
    {
      "cell_type": "code",
      "metadata": {
        "id": "HW1jnYdA8ode"
      },
      "source": [
        "def get_category_type(row):\r\n",
        "    try:\r\n",
        "        categories_list = row['categories']\r\n",
        "    except:\r\n",
        "        categories_list = row['venue.categories']\r\n",
        "        \r\n",
        "    if len(categories_list) == 0:\r\n",
        "        return None\r\n",
        "    else:\r\n",
        "        return categories_list[0]['name']"
      ],
      "execution_count": 23,
      "outputs": []
    },
    {
      "cell_type": "code",
      "metadata": {
        "colab": {
          "base_uri": "https://localhost:8080/",
          "height": 253
        },
        "id": "MvLySeYX8qid",
        "outputId": "219584f4-03b8-4224-a0f3-71644c94075f"
      },
      "source": [
        "venues = results['response']['groups'][0]['items']\r\n",
        "    \r\n",
        "nearby_venues = json_normalize(venues) # flatten JSON\r\n",
        "\r\n",
        "# filter columns\r\n",
        "filtered_columns = ['venue.name', 'venue.categories', 'venue.location.lat', 'venue.location.lng']\r\n",
        "nearby_venues =nearby_venues.loc[:, filtered_columns]\r\n",
        "\r\n",
        "# filter the category for each row\r\n",
        "nearby_venues['venue.categories'] = nearby_venues.apply(get_category_type, axis=1)\r\n",
        "\r\n",
        "# clean columns\r\n",
        "nearby_venues.columns = [col.split(\".\")[-1] for col in nearby_venues.columns]\r\n",
        "\r\n",
        "nearby_venues.head()"
      ],
      "execution_count": 24,
      "outputs": [
        {
          "output_type": "stream",
          "text": [
            "/usr/local/lib/python3.7/dist-packages/ipykernel_launcher.py:3: FutureWarning: pandas.io.json.json_normalize is deprecated, use pandas.json_normalize instead\n",
            "  This is separate from the ipykernel package so we can avoid doing imports until\n"
          ],
          "name": "stderr"
        },
        {
          "output_type": "execute_result",
          "data": {
            "text/html": [
              "<div>\n",
              "<style scoped>\n",
              "    .dataframe tbody tr th:only-of-type {\n",
              "        vertical-align: middle;\n",
              "    }\n",
              "\n",
              "    .dataframe tbody tr th {\n",
              "        vertical-align: top;\n",
              "    }\n",
              "\n",
              "    .dataframe thead th {\n",
              "        text-align: right;\n",
              "    }\n",
              "</style>\n",
              "<table border=\"1\" class=\"dataframe\">\n",
              "  <thead>\n",
              "    <tr style=\"text-align: right;\">\n",
              "      <th></th>\n",
              "      <th>name</th>\n",
              "      <th>categories</th>\n",
              "      <th>lat</th>\n",
              "      <th>lng</th>\n",
              "    </tr>\n",
              "  </thead>\n",
              "  <tbody>\n",
              "    <tr>\n",
              "      <th>0</th>\n",
              "      <td>McConnell's Fine Ice Creams</td>\n",
              "      <td>Ice Cream Shop</td>\n",
              "      <td>34.419388</td>\n",
              "      <td>-119.698888</td>\n",
              "    </tr>\n",
              "    <tr>\n",
              "      <th>1</th>\n",
              "      <td>Dune Coffee Roasters</td>\n",
              "      <td>Coffee Shop</td>\n",
              "      <td>34.418816</td>\n",
              "      <td>-119.695372</td>\n",
              "    </tr>\n",
              "    <tr>\n",
              "      <th>2</th>\n",
              "      <td>Handlebar Coffee</td>\n",
              "      <td>Coffee Shop</td>\n",
              "      <td>34.422274</td>\n",
              "      <td>-119.698528</td>\n",
              "    </tr>\n",
              "    <tr>\n",
              "      <th>3</th>\n",
              "      <td>Santa Barbara Certified Farmers Market</td>\n",
              "      <td>Farmers Market</td>\n",
              "      <td>34.419974</td>\n",
              "      <td>-119.695230</td>\n",
              "    </tr>\n",
              "    <tr>\n",
              "      <th>4</th>\n",
              "      <td>Blenders in the Grass</td>\n",
              "      <td>Juice Bar</td>\n",
              "      <td>34.419202</td>\n",
              "      <td>-119.698733</td>\n",
              "    </tr>\n",
              "  </tbody>\n",
              "</table>\n",
              "</div>"
            ],
            "text/plain": [
              "                                     name  ...         lng\n",
              "0             McConnell's Fine Ice Creams  ... -119.698888\n",
              "1                    Dune Coffee Roasters  ... -119.695372\n",
              "2                        Handlebar Coffee  ... -119.698528\n",
              "3  Santa Barbara Certified Farmers Market  ... -119.695230\n",
              "4                   Blenders in the Grass  ... -119.698733\n",
              "\n",
              "[5 rows x 4 columns]"
            ]
          },
          "metadata": {
            "tags": []
          },
          "execution_count": 24
        }
      ]
    },
    {
      "cell_type": "code",
      "metadata": {
        "colab": {
          "base_uri": "https://localhost:8080/",
          "height": 406
        },
        "id": "34TsxSR29QvB",
        "outputId": "96dab1ee-5305-4512-beb7-a1648b2f4379"
      },
      "source": [
        "sb_venues = nearby_venues\r\n",
        "sb_venues"
      ],
      "execution_count": 25,
      "outputs": [
        {
          "output_type": "execute_result",
          "data": {
            "text/html": [
              "<div>\n",
              "<style scoped>\n",
              "    .dataframe tbody tr th:only-of-type {\n",
              "        vertical-align: middle;\n",
              "    }\n",
              "\n",
              "    .dataframe tbody tr th {\n",
              "        vertical-align: top;\n",
              "    }\n",
              "\n",
              "    .dataframe thead th {\n",
              "        text-align: right;\n",
              "    }\n",
              "</style>\n",
              "<table border=\"1\" class=\"dataframe\">\n",
              "  <thead>\n",
              "    <tr style=\"text-align: right;\">\n",
              "      <th></th>\n",
              "      <th>name</th>\n",
              "      <th>categories</th>\n",
              "      <th>lat</th>\n",
              "      <th>lng</th>\n",
              "    </tr>\n",
              "  </thead>\n",
              "  <tbody>\n",
              "    <tr>\n",
              "      <th>0</th>\n",
              "      <td>McConnell's Fine Ice Creams</td>\n",
              "      <td>Ice Cream Shop</td>\n",
              "      <td>34.419388</td>\n",
              "      <td>-119.698888</td>\n",
              "    </tr>\n",
              "    <tr>\n",
              "      <th>1</th>\n",
              "      <td>Dune Coffee Roasters</td>\n",
              "      <td>Coffee Shop</td>\n",
              "      <td>34.418816</td>\n",
              "      <td>-119.695372</td>\n",
              "    </tr>\n",
              "    <tr>\n",
              "      <th>2</th>\n",
              "      <td>Handlebar Coffee</td>\n",
              "      <td>Coffee Shop</td>\n",
              "      <td>34.422274</td>\n",
              "      <td>-119.698528</td>\n",
              "    </tr>\n",
              "    <tr>\n",
              "      <th>3</th>\n",
              "      <td>Santa Barbara Certified Farmers Market</td>\n",
              "      <td>Farmers Market</td>\n",
              "      <td>34.419974</td>\n",
              "      <td>-119.695230</td>\n",
              "    </tr>\n",
              "    <tr>\n",
              "      <th>4</th>\n",
              "      <td>Blenders in the Grass</td>\n",
              "      <td>Juice Bar</td>\n",
              "      <td>34.419202</td>\n",
              "      <td>-119.698733</td>\n",
              "    </tr>\n",
              "    <tr>\n",
              "      <th>...</th>\n",
              "      <td>...</td>\n",
              "      <td>...</td>\n",
              "      <td>...</td>\n",
              "      <td>...</td>\n",
              "    </tr>\n",
              "    <tr>\n",
              "      <th>95</th>\n",
              "      <td>Renaud's Patisserie &amp; Bistro</td>\n",
              "      <td>Bakery</td>\n",
              "      <td>34.425319</td>\n",
              "      <td>-119.705944</td>\n",
              "    </tr>\n",
              "    <tr>\n",
              "      <th>96</th>\n",
              "      <td>Wine+Beer</td>\n",
              "      <td>Wine Bar</td>\n",
              "      <td>34.423530</td>\n",
              "      <td>-119.706908</td>\n",
              "    </tr>\n",
              "    <tr>\n",
              "      <th>97</th>\n",
              "      <td>South Coast Deli</td>\n",
              "      <td>Deli / Bodega</td>\n",
              "      <td>34.425104</td>\n",
              "      <td>-119.709248</td>\n",
              "    </tr>\n",
              "    <tr>\n",
              "      <th>98</th>\n",
              "      <td>Crushcakes Cupcakery &amp; Crushcafe</td>\n",
              "      <td>Cupcake Shop</td>\n",
              "      <td>34.425678</td>\n",
              "      <td>-119.705349</td>\n",
              "    </tr>\n",
              "    <tr>\n",
              "      <th>99</th>\n",
              "      <td>Dart Coffee Co.</td>\n",
              "      <td>Coffee Shop</td>\n",
              "      <td>34.415800</td>\n",
              "      <td>-119.689941</td>\n",
              "    </tr>\n",
              "  </tbody>\n",
              "</table>\n",
              "<p>100 rows × 4 columns</p>\n",
              "</div>"
            ],
            "text/plain": [
              "                                      name  ...         lng\n",
              "0              McConnell's Fine Ice Creams  ... -119.698888\n",
              "1                     Dune Coffee Roasters  ... -119.695372\n",
              "2                         Handlebar Coffee  ... -119.698528\n",
              "3   Santa Barbara Certified Farmers Market  ... -119.695230\n",
              "4                    Blenders in the Grass  ... -119.698733\n",
              "..                                     ...  ...         ...\n",
              "95            Renaud's Patisserie & Bistro  ... -119.705944\n",
              "96                               Wine+Beer  ... -119.706908\n",
              "97                        South Coast Deli  ... -119.709248\n",
              "98        Crushcakes Cupcakery & Crushcafe  ... -119.705349\n",
              "99                         Dart Coffee Co.  ... -119.689941\n",
              "\n",
              "[100 rows x 4 columns]"
            ]
          },
          "metadata": {
            "tags": []
          },
          "execution_count": 25
        }
      ]
    },
    {
      "cell_type": "markdown",
      "metadata": {
        "id": "le5XDyLpAYxq"
      },
      "source": [
        "### Plotting"
      ]
    },
    {
      "cell_type": "code",
      "metadata": {
        "colab": {
          "base_uri": "https://localhost:8080/",
          "height": 402
        },
        "id": "gpqDy1INAco5",
        "outputId": "84601240-b256-474d-f9e1-1f2338086f09"
      },
      "source": [
        "sl_map = folium.Map(location=[35.28263142857143, -120.66234418367347], zoom_start=12)\r\n",
        "sl_map"
      ],
      "execution_count": 26,
      "outputs": [
        {
          "output_type": "execute_result",
          "data": {
            "text/html": [
              "<div style=\"width:100%;\"><div style=\"position:relative;width:100%;height:0;padding-bottom:60%;\"><span style=\"color:#565656\">Make this Notebook Trusted to load map: File -> Trust Notebook</span><iframe src=\"about:blank\" style=\"position:absolute;width:100%;height:100%;left:0;top:0;border:none !important;\" data-html=%3C%21DOCTYPE%20html%3E%0A%3Chead%3E%20%20%20%20%0A%20%20%20%20%3Cmeta%20http-equiv%3D%22content-type%22%20content%3D%22text/html%3B%20charset%3DUTF-8%22%20/%3E%0A%20%20%20%20%3Cscript%3EL_PREFER_CANVAS%3Dfalse%3B%20L_NO_TOUCH%3Dfalse%3B%20L_DISABLE_3D%3Dfalse%3B%3C/script%3E%0A%20%20%20%20%3Cscript%20src%3D%22https%3A//cdn.jsdelivr.net/npm/leaflet%401.4.0/dist/leaflet.js%22%3E%3C/script%3E%0A%20%20%20%20%3Cscript%20src%3D%22https%3A//code.jquery.com/jquery-1.12.4.min.js%22%3E%3C/script%3E%0A%20%20%20%20%3Cscript%20src%3D%22https%3A//maxcdn.bootstrapcdn.com/bootstrap/3.2.0/js/bootstrap.min.js%22%3E%3C/script%3E%0A%20%20%20%20%3Cscript%20src%3D%22https%3A//cdnjs.cloudflare.com/ajax/libs/Leaflet.awesome-markers/2.0.2/leaflet.awesome-markers.js%22%3E%3C/script%3E%0A%20%20%20%20%3Clink%20rel%3D%22stylesheet%22%20href%3D%22https%3A//cdn.jsdelivr.net/npm/leaflet%401.4.0/dist/leaflet.css%22/%3E%0A%20%20%20%20%3Clink%20rel%3D%22stylesheet%22%20href%3D%22https%3A//maxcdn.bootstrapcdn.com/bootstrap/3.2.0/css/bootstrap.min.css%22/%3E%0A%20%20%20%20%3Clink%20rel%3D%22stylesheet%22%20href%3D%22https%3A//maxcdn.bootstrapcdn.com/bootstrap/3.2.0/css/bootstrap-theme.min.css%22/%3E%0A%20%20%20%20%3Clink%20rel%3D%22stylesheet%22%20href%3D%22https%3A//maxcdn.bootstrapcdn.com/font-awesome/4.6.3/css/font-awesome.min.css%22/%3E%0A%20%20%20%20%3Clink%20rel%3D%22stylesheet%22%20href%3D%22https%3A//cdnjs.cloudflare.com/ajax/libs/Leaflet.awesome-markers/2.0.2/leaflet.awesome-markers.css%22/%3E%0A%20%20%20%20%3Clink%20rel%3D%22stylesheet%22%20href%3D%22https%3A//rawcdn.githack.com/python-visualization/folium/master/folium/templates/leaflet.awesome.rotate.css%22/%3E%0A%20%20%20%20%3Cstyle%3Ehtml%2C%20body%20%7Bwidth%3A%20100%25%3Bheight%3A%20100%25%3Bmargin%3A%200%3Bpadding%3A%200%3B%7D%3C/style%3E%0A%20%20%20%20%3Cstyle%3E%23map%20%7Bposition%3Aabsolute%3Btop%3A0%3Bbottom%3A0%3Bright%3A0%3Bleft%3A0%3B%7D%3C/style%3E%0A%20%20%20%20%0A%20%20%20%20%3Cmeta%20name%3D%22viewport%22%20content%3D%22width%3Ddevice-width%2C%0A%20%20%20%20%20%20%20%20initial-scale%3D1.0%2C%20maximum-scale%3D1.0%2C%20user-scalable%3Dno%22%20/%3E%0A%20%20%20%20%3Cstyle%3E%23map_5b748116b8064567bcb8bd88b5c7f04a%20%7B%0A%20%20%20%20%20%20%20%20position%3A%20relative%3B%0A%20%20%20%20%20%20%20%20width%3A%20100.0%25%3B%0A%20%20%20%20%20%20%20%20height%3A%20100.0%25%3B%0A%20%20%20%20%20%20%20%20left%3A%200.0%25%3B%0A%20%20%20%20%20%20%20%20top%3A%200.0%25%3B%0A%20%20%20%20%20%20%20%20%7D%0A%20%20%20%20%3C/style%3E%0A%3C/head%3E%0A%3Cbody%3E%20%20%20%20%0A%20%20%20%20%0A%20%20%20%20%3Cdiv%20class%3D%22folium-map%22%20id%3D%22map_5b748116b8064567bcb8bd88b5c7f04a%22%20%3E%3C/div%3E%0A%3C/body%3E%0A%3Cscript%3E%20%20%20%20%0A%20%20%20%20%0A%20%20%20%20%0A%20%20%20%20%20%20%20%20var%20bounds%20%3D%20null%3B%0A%20%20%20%20%0A%0A%20%20%20%20var%20map_5b748116b8064567bcb8bd88b5c7f04a%20%3D%20L.map%28%0A%20%20%20%20%20%20%20%20%27map_5b748116b8064567bcb8bd88b5c7f04a%27%2C%20%7B%0A%20%20%20%20%20%20%20%20center%3A%20%5B35.28263142857143%2C%20-120.66234418367347%5D%2C%0A%20%20%20%20%20%20%20%20zoom%3A%2012%2C%0A%20%20%20%20%20%20%20%20maxBounds%3A%20bounds%2C%0A%20%20%20%20%20%20%20%20layers%3A%20%5B%5D%2C%0A%20%20%20%20%20%20%20%20worldCopyJump%3A%20false%2C%0A%20%20%20%20%20%20%20%20crs%3A%20L.CRS.EPSG3857%2C%0A%20%20%20%20%20%20%20%20zoomControl%3A%20true%2C%0A%20%20%20%20%20%20%20%20%7D%29%3B%0A%0A%0A%20%20%20%20%0A%20%20%20%20var%20tile_layer_8113e71bae2d4f598d51ebcf0d0a7f96%20%3D%20L.tileLayer%28%0A%20%20%20%20%20%20%20%20%27https%3A//%7Bs%7D.tile.openstreetmap.org/%7Bz%7D/%7Bx%7D/%7By%7D.png%27%2C%0A%20%20%20%20%20%20%20%20%7B%0A%20%20%20%20%20%20%20%20%22attribution%22%3A%20null%2C%0A%20%20%20%20%20%20%20%20%22detectRetina%22%3A%20false%2C%0A%20%20%20%20%20%20%20%20%22maxNativeZoom%22%3A%2018%2C%0A%20%20%20%20%20%20%20%20%22maxZoom%22%3A%2018%2C%0A%20%20%20%20%20%20%20%20%22minZoom%22%3A%200%2C%0A%20%20%20%20%20%20%20%20%22noWrap%22%3A%20false%2C%0A%20%20%20%20%20%20%20%20%22opacity%22%3A%201%2C%0A%20%20%20%20%20%20%20%20%22subdomains%22%3A%20%22abc%22%2C%0A%20%20%20%20%20%20%20%20%22tms%22%3A%20false%0A%7D%29.addTo%28map_5b748116b8064567bcb8bd88b5c7f04a%29%3B%0A%3C/script%3E onload=\"this.contentDocument.open();this.contentDocument.write(    decodeURIComponent(this.getAttribute('data-html')));this.contentDocument.close();\" allowfullscreen webkitallowfullscreen mozallowfullscreen></iframe></div></div>"
            ],
            "text/plain": [
              "<folium.folium.Map at 0x7fd38764e8d0>"
            ]
          },
          "metadata": {
            "tags": []
          },
          "execution_count": 26
        }
      ]
    },
    {
      "cell_type": "code",
      "metadata": {
        "colab": {
          "base_uri": "https://localhost:8080/",
          "height": 402
        },
        "id": "krkaDALZAdKQ",
        "outputId": "4bf6e42c-2a9c-4646-8184-428dbad8d915"
      },
      "source": [
        "m_map = folium.Map(location=[43.04292418483257, -89.40407878799554], zoom_start=12)\r\n",
        "m_map"
      ],
      "execution_count": 27,
      "outputs": [
        {
          "output_type": "execute_result",
          "data": {
            "text/html": [
              "<div style=\"width:100%;\"><div style=\"position:relative;width:100%;height:0;padding-bottom:60%;\"><span style=\"color:#565656\">Make this Notebook Trusted to load map: File -> Trust Notebook</span><iframe src=\"about:blank\" style=\"position:absolute;width:100%;height:100%;left:0;top:0;border:none !important;\" data-html=%3C%21DOCTYPE%20html%3E%0A%3Chead%3E%20%20%20%20%0A%20%20%20%20%3Cmeta%20http-equiv%3D%22content-type%22%20content%3D%22text/html%3B%20charset%3DUTF-8%22%20/%3E%0A%20%20%20%20%3Cscript%3EL_PREFER_CANVAS%3Dfalse%3B%20L_NO_TOUCH%3Dfalse%3B%20L_DISABLE_3D%3Dfalse%3B%3C/script%3E%0A%20%20%20%20%3Cscript%20src%3D%22https%3A//cdn.jsdelivr.net/npm/leaflet%401.4.0/dist/leaflet.js%22%3E%3C/script%3E%0A%20%20%20%20%3Cscript%20src%3D%22https%3A//code.jquery.com/jquery-1.12.4.min.js%22%3E%3C/script%3E%0A%20%20%20%20%3Cscript%20src%3D%22https%3A//maxcdn.bootstrapcdn.com/bootstrap/3.2.0/js/bootstrap.min.js%22%3E%3C/script%3E%0A%20%20%20%20%3Cscript%20src%3D%22https%3A//cdnjs.cloudflare.com/ajax/libs/Leaflet.awesome-markers/2.0.2/leaflet.awesome-markers.js%22%3E%3C/script%3E%0A%20%20%20%20%3Clink%20rel%3D%22stylesheet%22%20href%3D%22https%3A//cdn.jsdelivr.net/npm/leaflet%401.4.0/dist/leaflet.css%22/%3E%0A%20%20%20%20%3Clink%20rel%3D%22stylesheet%22%20href%3D%22https%3A//maxcdn.bootstrapcdn.com/bootstrap/3.2.0/css/bootstrap.min.css%22/%3E%0A%20%20%20%20%3Clink%20rel%3D%22stylesheet%22%20href%3D%22https%3A//maxcdn.bootstrapcdn.com/bootstrap/3.2.0/css/bootstrap-theme.min.css%22/%3E%0A%20%20%20%20%3Clink%20rel%3D%22stylesheet%22%20href%3D%22https%3A//maxcdn.bootstrapcdn.com/font-awesome/4.6.3/css/font-awesome.min.css%22/%3E%0A%20%20%20%20%3Clink%20rel%3D%22stylesheet%22%20href%3D%22https%3A//cdnjs.cloudflare.com/ajax/libs/Leaflet.awesome-markers/2.0.2/leaflet.awesome-markers.css%22/%3E%0A%20%20%20%20%3Clink%20rel%3D%22stylesheet%22%20href%3D%22https%3A//rawcdn.githack.com/python-visualization/folium/master/folium/templates/leaflet.awesome.rotate.css%22/%3E%0A%20%20%20%20%3Cstyle%3Ehtml%2C%20body%20%7Bwidth%3A%20100%25%3Bheight%3A%20100%25%3Bmargin%3A%200%3Bpadding%3A%200%3B%7D%3C/style%3E%0A%20%20%20%20%3Cstyle%3E%23map%20%7Bposition%3Aabsolute%3Btop%3A0%3Bbottom%3A0%3Bright%3A0%3Bleft%3A0%3B%7D%3C/style%3E%0A%20%20%20%20%0A%20%20%20%20%3Cmeta%20name%3D%22viewport%22%20content%3D%22width%3Ddevice-width%2C%0A%20%20%20%20%20%20%20%20initial-scale%3D1.0%2C%20maximum-scale%3D1.0%2C%20user-scalable%3Dno%22%20/%3E%0A%20%20%20%20%3Cstyle%3E%23map_d3db38ecea34446d9c7fb2f972abd186%20%7B%0A%20%20%20%20%20%20%20%20position%3A%20relative%3B%0A%20%20%20%20%20%20%20%20width%3A%20100.0%25%3B%0A%20%20%20%20%20%20%20%20height%3A%20100.0%25%3B%0A%20%20%20%20%20%20%20%20left%3A%200.0%25%3B%0A%20%20%20%20%20%20%20%20top%3A%200.0%25%3B%0A%20%20%20%20%20%20%20%20%7D%0A%20%20%20%20%3C/style%3E%0A%3C/head%3E%0A%3Cbody%3E%20%20%20%20%0A%20%20%20%20%0A%20%20%20%20%3Cdiv%20class%3D%22folium-map%22%20id%3D%22map_d3db38ecea34446d9c7fb2f972abd186%22%20%3E%3C/div%3E%0A%3C/body%3E%0A%3Cscript%3E%20%20%20%20%0A%20%20%20%20%0A%20%20%20%20%0A%20%20%20%20%20%20%20%20var%20bounds%20%3D%20null%3B%0A%20%20%20%20%0A%0A%20%20%20%20var%20map_d3db38ecea34446d9c7fb2f972abd186%20%3D%20L.map%28%0A%20%20%20%20%20%20%20%20%27map_d3db38ecea34446d9c7fb2f972abd186%27%2C%20%7B%0A%20%20%20%20%20%20%20%20center%3A%20%5B43.04292418483257%2C%20-89.40407878799554%5D%2C%0A%20%20%20%20%20%20%20%20zoom%3A%2012%2C%0A%20%20%20%20%20%20%20%20maxBounds%3A%20bounds%2C%0A%20%20%20%20%20%20%20%20layers%3A%20%5B%5D%2C%0A%20%20%20%20%20%20%20%20worldCopyJump%3A%20false%2C%0A%20%20%20%20%20%20%20%20crs%3A%20L.CRS.EPSG3857%2C%0A%20%20%20%20%20%20%20%20zoomControl%3A%20true%2C%0A%20%20%20%20%20%20%20%20%7D%29%3B%0A%0A%0A%20%20%20%20%0A%20%20%20%20var%20tile_layer_c3a0292b4db74349a440044ed11fb87d%20%3D%20L.tileLayer%28%0A%20%20%20%20%20%20%20%20%27https%3A//%7Bs%7D.tile.openstreetmap.org/%7Bz%7D/%7Bx%7D/%7By%7D.png%27%2C%0A%20%20%20%20%20%20%20%20%7B%0A%20%20%20%20%20%20%20%20%22attribution%22%3A%20null%2C%0A%20%20%20%20%20%20%20%20%22detectRetina%22%3A%20false%2C%0A%20%20%20%20%20%20%20%20%22maxNativeZoom%22%3A%2018%2C%0A%20%20%20%20%20%20%20%20%22maxZoom%22%3A%2018%2C%0A%20%20%20%20%20%20%20%20%22minZoom%22%3A%200%2C%0A%20%20%20%20%20%20%20%20%22noWrap%22%3A%20false%2C%0A%20%20%20%20%20%20%20%20%22opacity%22%3A%201%2C%0A%20%20%20%20%20%20%20%20%22subdomains%22%3A%20%22abc%22%2C%0A%20%20%20%20%20%20%20%20%22tms%22%3A%20false%0A%7D%29.addTo%28map_d3db38ecea34446d9c7fb2f972abd186%29%3B%0A%3C/script%3E onload=\"this.contentDocument.open();this.contentDocument.write(    decodeURIComponent(this.getAttribute('data-html')));this.contentDocument.close();\" allowfullscreen webkitallowfullscreen mozallowfullscreen></iframe></div></div>"
            ],
            "text/plain": [
              "<folium.folium.Map at 0x7fd38774c510>"
            ]
          },
          "metadata": {
            "tags": []
          },
          "execution_count": 27
        }
      ]
    },
    {
      "cell_type": "code",
      "metadata": {
        "colab": {
          "base_uri": "https://localhost:8080/",
          "height": 402
        },
        "id": "LMnJ9L7rAdH-",
        "outputId": "7068c5bc-2776-444a-8f7a-15aff7b1f745"
      },
      "source": [
        "sb_map = folium.Map(location=[34.420073714285714, -119.6975069387755], zoom_start=12)\r\n",
        "sb_map"
      ],
      "execution_count": 28,
      "outputs": [
        {
          "output_type": "execute_result",
          "data": {
            "text/html": [
              "<div style=\"width:100%;\"><div style=\"position:relative;width:100%;height:0;padding-bottom:60%;\"><span style=\"color:#565656\">Make this Notebook Trusted to load map: File -> Trust Notebook</span><iframe src=\"about:blank\" style=\"position:absolute;width:100%;height:100%;left:0;top:0;border:none !important;\" data-html=%3C%21DOCTYPE%20html%3E%0A%3Chead%3E%20%20%20%20%0A%20%20%20%20%3Cmeta%20http-equiv%3D%22content-type%22%20content%3D%22text/html%3B%20charset%3DUTF-8%22%20/%3E%0A%20%20%20%20%3Cscript%3EL_PREFER_CANVAS%3Dfalse%3B%20L_NO_TOUCH%3Dfalse%3B%20L_DISABLE_3D%3Dfalse%3B%3C/script%3E%0A%20%20%20%20%3Cscript%20src%3D%22https%3A//cdn.jsdelivr.net/npm/leaflet%401.4.0/dist/leaflet.js%22%3E%3C/script%3E%0A%20%20%20%20%3Cscript%20src%3D%22https%3A//code.jquery.com/jquery-1.12.4.min.js%22%3E%3C/script%3E%0A%20%20%20%20%3Cscript%20src%3D%22https%3A//maxcdn.bootstrapcdn.com/bootstrap/3.2.0/js/bootstrap.min.js%22%3E%3C/script%3E%0A%20%20%20%20%3Cscript%20src%3D%22https%3A//cdnjs.cloudflare.com/ajax/libs/Leaflet.awesome-markers/2.0.2/leaflet.awesome-markers.js%22%3E%3C/script%3E%0A%20%20%20%20%3Clink%20rel%3D%22stylesheet%22%20href%3D%22https%3A//cdn.jsdelivr.net/npm/leaflet%401.4.0/dist/leaflet.css%22/%3E%0A%20%20%20%20%3Clink%20rel%3D%22stylesheet%22%20href%3D%22https%3A//maxcdn.bootstrapcdn.com/bootstrap/3.2.0/css/bootstrap.min.css%22/%3E%0A%20%20%20%20%3Clink%20rel%3D%22stylesheet%22%20href%3D%22https%3A//maxcdn.bootstrapcdn.com/bootstrap/3.2.0/css/bootstrap-theme.min.css%22/%3E%0A%20%20%20%20%3Clink%20rel%3D%22stylesheet%22%20href%3D%22https%3A//maxcdn.bootstrapcdn.com/font-awesome/4.6.3/css/font-awesome.min.css%22/%3E%0A%20%20%20%20%3Clink%20rel%3D%22stylesheet%22%20href%3D%22https%3A//cdnjs.cloudflare.com/ajax/libs/Leaflet.awesome-markers/2.0.2/leaflet.awesome-markers.css%22/%3E%0A%20%20%20%20%3Clink%20rel%3D%22stylesheet%22%20href%3D%22https%3A//rawcdn.githack.com/python-visualization/folium/master/folium/templates/leaflet.awesome.rotate.css%22/%3E%0A%20%20%20%20%3Cstyle%3Ehtml%2C%20body%20%7Bwidth%3A%20100%25%3Bheight%3A%20100%25%3Bmargin%3A%200%3Bpadding%3A%200%3B%7D%3C/style%3E%0A%20%20%20%20%3Cstyle%3E%23map%20%7Bposition%3Aabsolute%3Btop%3A0%3Bbottom%3A0%3Bright%3A0%3Bleft%3A0%3B%7D%3C/style%3E%0A%20%20%20%20%0A%20%20%20%20%3Cmeta%20name%3D%22viewport%22%20content%3D%22width%3Ddevice-width%2C%0A%20%20%20%20%20%20%20%20initial-scale%3D1.0%2C%20maximum-scale%3D1.0%2C%20user-scalable%3Dno%22%20/%3E%0A%20%20%20%20%3Cstyle%3E%23map_0b8d27b82e6f4dc9a8de65ebd87684ab%20%7B%0A%20%20%20%20%20%20%20%20position%3A%20relative%3B%0A%20%20%20%20%20%20%20%20width%3A%20100.0%25%3B%0A%20%20%20%20%20%20%20%20height%3A%20100.0%25%3B%0A%20%20%20%20%20%20%20%20left%3A%200.0%25%3B%0A%20%20%20%20%20%20%20%20top%3A%200.0%25%3B%0A%20%20%20%20%20%20%20%20%7D%0A%20%20%20%20%3C/style%3E%0A%3C/head%3E%0A%3Cbody%3E%20%20%20%20%0A%20%20%20%20%0A%20%20%20%20%3Cdiv%20class%3D%22folium-map%22%20id%3D%22map_0b8d27b82e6f4dc9a8de65ebd87684ab%22%20%3E%3C/div%3E%0A%3C/body%3E%0A%3Cscript%3E%20%20%20%20%0A%20%20%20%20%0A%20%20%20%20%0A%20%20%20%20%20%20%20%20var%20bounds%20%3D%20null%3B%0A%20%20%20%20%0A%0A%20%20%20%20var%20map_0b8d27b82e6f4dc9a8de65ebd87684ab%20%3D%20L.map%28%0A%20%20%20%20%20%20%20%20%27map_0b8d27b82e6f4dc9a8de65ebd87684ab%27%2C%20%7B%0A%20%20%20%20%20%20%20%20center%3A%20%5B34.420073714285714%2C%20-119.6975069387755%5D%2C%0A%20%20%20%20%20%20%20%20zoom%3A%2012%2C%0A%20%20%20%20%20%20%20%20maxBounds%3A%20bounds%2C%0A%20%20%20%20%20%20%20%20layers%3A%20%5B%5D%2C%0A%20%20%20%20%20%20%20%20worldCopyJump%3A%20false%2C%0A%20%20%20%20%20%20%20%20crs%3A%20L.CRS.EPSG3857%2C%0A%20%20%20%20%20%20%20%20zoomControl%3A%20true%2C%0A%20%20%20%20%20%20%20%20%7D%29%3B%0A%0A%0A%20%20%20%20%0A%20%20%20%20var%20tile_layer_bd2043c5449f4f10a6fcb64336a8c9eb%20%3D%20L.tileLayer%28%0A%20%20%20%20%20%20%20%20%27https%3A//%7Bs%7D.tile.openstreetmap.org/%7Bz%7D/%7Bx%7D/%7By%7D.png%27%2C%0A%20%20%20%20%20%20%20%20%7B%0A%20%20%20%20%20%20%20%20%22attribution%22%3A%20null%2C%0A%20%20%20%20%20%20%20%20%22detectRetina%22%3A%20false%2C%0A%20%20%20%20%20%20%20%20%22maxNativeZoom%22%3A%2018%2C%0A%20%20%20%20%20%20%20%20%22maxZoom%22%3A%2018%2C%0A%20%20%20%20%20%20%20%20%22minZoom%22%3A%200%2C%0A%20%20%20%20%20%20%20%20%22noWrap%22%3A%20false%2C%0A%20%20%20%20%20%20%20%20%22opacity%22%3A%201%2C%0A%20%20%20%20%20%20%20%20%22subdomains%22%3A%20%22abc%22%2C%0A%20%20%20%20%20%20%20%20%22tms%22%3A%20false%0A%7D%29.addTo%28map_0b8d27b82e6f4dc9a8de65ebd87684ab%29%3B%0A%3C/script%3E onload=\"this.contentDocument.open();this.contentDocument.write(    decodeURIComponent(this.getAttribute('data-html')));this.contentDocument.close();\" allowfullscreen webkitallowfullscreen mozallowfullscreen></iframe></div></div>"
            ],
            "text/plain": [
              "<folium.folium.Map at 0x7fd387652790>"
            ]
          },
          "metadata": {
            "tags": []
          },
          "execution_count": 28
        }
      ]
    },
    {
      "cell_type": "markdown",
      "metadata": {
        "id": "S7VEzZSv3Tok"
      },
      "source": [
        "### Data Wrangling"
      ]
    },
    {
      "cell_type": "markdown",
      "metadata": {
        "id": "dG_vsmAyA8wA"
      },
      "source": [
        "### Clustering"
      ]
    },
    {
      "cell_type": "markdown",
      "metadata": {
        "id": "PdONP0xf0Sj9"
      },
      "source": [
        "## Results"
      ]
    },
    {
      "cell_type": "markdown",
      "metadata": {
        "id": "c021P3600Sob"
      },
      "source": [
        "## Discussion"
      ]
    },
    {
      "cell_type": "markdown",
      "metadata": {
        "id": "Q17ugjLzpO9-"
      },
      "source": [
        "## Conclusion"
      ]
    },
    {
      "cell_type": "code",
      "metadata": {
        "id": "YcBHusNPpL6z"
      },
      "source": [
        ""
      ],
      "execution_count": null,
      "outputs": []
    }
  ]
}