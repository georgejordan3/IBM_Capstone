{
  "nbformat": 4,
  "nbformat_minor": 0,
  "metadata": {
    "colab": {
      "name": "Bicycle_Cities.ipynb",
      "provenance": [],
      "collapsed_sections": [],
      "authorship_tag": "ABX9TyN9egaNNY4WUZQ5oNvXQe5X",
      "include_colab_link": true
    },
    "kernelspec": {
      "name": "python3",
      "display_name": "Python 3"
    }
  },
  "cells": [
    {
      "cell_type": "markdown",
      "metadata": {
        "id": "view-in-github",
        "colab_type": "text"
      },
      "source": [
        "<a href=\"https://colab.research.google.com/github/georgejordan3/IBM_Capstone/blob/main/Bicycle_Cities.ipynb\" target=\"_parent\"><img src=\"https://colab.research.google.com/assets/colab-badge.svg\" alt=\"Open In Colab\"/></a>"
      ]
    },
    {
      "cell_type": "markdown",
      "metadata": {
        "id": "A069578ypQ3k"
      },
      "source": [
        "# Bicycle Cities - Evaluating the Best Cities in the US to Ride a Bicycle"
      ]
    },
    {
      "cell_type": "markdown",
      "metadata": {
        "id": "-d1m4smTpPIk"
      },
      "source": [
        "George Jordan <br>\r\n",
        "IBM Data Science Professional Certificate Capstone <br>\r\n",
        "Last Updated: 2-26-21"
      ]
    },
    {
      "cell_type": "markdown",
      "metadata": {
        "id": "IW26dsLVBkKQ"
      },
      "source": [
        "<img src=\"https://www.confluence-denver.com/galleries/Features/2016/Issue_164/bike_lanes_04.jpg\">\r\n",
        "\r\n",
        "Credit: [Confluence Denver](https://www.confluence-denver.com/features/denver_bike_lanes_082416.aspx)\r\n"
      ]
    },
    {
      "cell_type": "markdown",
      "metadata": {
        "id": "xNy8nvPu0SSE"
      },
      "source": [
        "## Introduction \r\n",
        "I am a competitive cyclist and moving to Denver was partially motivated by my love for cycling. While I have a strong understanding of the riding experience here, I wonder how my experience compares to other cyclists in various parts of the US. I hope to tell a detailed story of these cities through the eyes of a cyclist and through the lens of data.\r\n",
        "\r\n",
        "In this project, I will examine a list of the highest ranking bicycle cities in the country and apply my own analysis to gain further insight into the cities and their unique characteristics. I will use analytic tools as well as machine learning algorithms to see how these cities relate to each other and also gain insight into other supporting factors that have made these cities accessible via bicycle.\r\n",
        "\r\n",
        "While this project is personally interesting to me, I believe that the insights here could be useful for a variety of business applications. Perhaps there is a company in one of these cities that is considering including provisions to support bike commuters. Maybe the existence of bicycle infrastructure is important to a company and an investigation into potential locations for an office would require such an analysis to foster that kind of culture in the workplace.\r\n",
        "\r\n",
        "I believe that the bicycle is a very powerful tool to not only navigate a city but to also change it, through culture and infrastructure. I hope this project illuminates some of the impact that the bicycle has had on these cities."
      ]
    },
    {
      "cell_type": "markdown",
      "metadata": {
        "id": "5VNHT0d_0SVH"
      },
      "source": [
        "## Data \r\n",
        "### PlacesForBikes City Ratings\r\n",
        "- [PlacesForBikes City Ratings](https://cityratings.peopleforbikes.org/)\r\n",
        "\r\n",
        "For this project, I will be first looking at the PlacesForBikes ratings to see their list of top cities for bicycles. They have made their data available for the public as well as an explanation to their methodology in ranking. It is from this data that I will select a number of cities to examine further, while also studying their decisions in ranking.\r\n",
        "\r\n",
        "### Foursquare\r\n",
        "- [Foursquare](https://foursquare.com/)\r\n",
        "\r\n",
        "I will be using the Foursquare API to get an understanding of the selected cities from the rankings above. The most obvious query would be to find how many bike shops are within the city limits but also some other potential locations to be explored further. This data will be geospatially visualized using mapping libraries in Python.\r\n",
        "\r\n",
        "### Strava\r\n",
        "- [Strava](https://www.strava.com/about)\r\n",
        "\r\n",
        "Strava is an app that tracks user's activity files from a variety of sports, including cycling. Strava currently has 55 million users, so there will be no shortage of data to examine in these popular cycling cities. By using the Strava API, I will be able to gain insight into the areas and density of the rides taken within the city.\r\n",
        "\r\n",
        "### Zip Codes\r\n",
        "- [Zip-Codes.com](https://www.zip-codes.com/)\r\n",
        "\r\n",
        "In order to organize some this data, I will have to have quick access to a zipcode database for reference. I will use a webscraping tool in this project."
      ]
    },
    {
      "cell_type": "markdown",
      "metadata": {
        "id": "aNK-K2GM0SX-"
      },
      "source": [
        "## Methodology \r\n"
      ]
    },
    {
      "cell_type": "markdown",
      "metadata": {
        "id": "4K5R1X8abB5R"
      },
      "source": [
        "### Data Importing"
      ]
    },
    {
      "cell_type": "code",
      "metadata": {
        "id": "orVH7mV4gGDe"
      },
      "source": [
        "import pandas as pd"
      ],
      "execution_count": null,
      "outputs": []
    },
    {
      "cell_type": "markdown",
      "metadata": {
        "id": "G13KEsD3bkrJ"
      },
      "source": [
        "For the City Ratings, I saved the files locally and then uploaded the files into the notebook."
      ]
    },
    {
      "cell_type": "code",
      "metadata": {
        "id": "cLHxWc40bA-K"
      },
      "source": [
        "pfbr = pd.read_excel(\"pfbr\")"
      ],
      "execution_count": null,
      "outputs": []
    },
    {
      "cell_type": "markdown",
      "metadata": {
        "id": "bhyvcnKcg5yd"
      },
      "source": [
        "With the data uploaded, getting an idea of the scope of the dataset is an important way to start structuring our analysis."
      ]
    },
    {
      "cell_type": "code",
      "metadata": {
        "colab": {
          "base_uri": "https://localhost:8080/",
          "height": 384
        },
        "id": "gpCREtnihG_k",
        "outputId": "27e0eae8-4716-4ed1-eaf6-a98d4812eb78"
      },
      "source": [
        "pfbr.describe()"
      ],
      "execution_count": null,
      "outputs": [
        {
          "output_type": "execute_result",
          "data": {
            "text/html": [
              "<div>\n",
              "<style scoped>\n",
              "    .dataframe tbody tr th:only-of-type {\n",
              "        vertical-align: middle;\n",
              "    }\n",
              "\n",
              "    .dataframe tbody tr th {\n",
              "        vertical-align: top;\n",
              "    }\n",
              "\n",
              "    .dataframe thead th {\n",
              "        text-align: right;\n",
              "    }\n",
              "</style>\n",
              "<table border=\"1\" class=\"dataframe\">\n",
              "  <thead>\n",
              "    <tr style=\"text-align: right;\">\n",
              "      <th></th>\n",
              "      <th>Places_ID_2020</th>\n",
              "      <th>ACS Bike-to-Work Mode Share</th>\n",
              "      <th>Land Area</th>\n",
              "      <th>Population</th>\n",
              "      <th>ACS Target</th>\n",
              "      <th>ACS Normalized Score</th>\n",
              "      <th>ACS Ridership Points</th>\n",
              "      <th>SMS Recreation Riding</th>\n",
              "      <th>SMS Points</th>\n",
              "      <th>Community Survey Ridership Score</th>\n",
              "      <th>Total Ridership Points</th>\n",
              "      <th>Average Fatalities All Mode</th>\n",
              "      <th>All Mode Fatality Rate</th>\n",
              "      <th>All Mode Fatality Points</th>\n",
              "      <th>Average Fatalities Bike</th>\n",
              "      <th>Bike Fatality Rate</th>\n",
              "      <th>Bike Fatality Points</th>\n",
              "      <th>All Mode Injuries</th>\n",
              "      <th>All Mode Injury Rate</th>\n",
              "      <th>All Mode Injury Points</th>\n",
              "      <th>Bike Injuries</th>\n",
              "      <th>Bike Injury Rate</th>\n",
              "      <th>Bike Injury Points</th>\n",
              "      <th>All mode safety points</th>\n",
              "      <th>Bike Safety Points</th>\n",
              "      <th>Community Survey Safety Score</th>\n",
              "      <th>Total Safety Points</th>\n",
              "      <th>City Snapshot Points</th>\n",
              "      <th>Community Survey Acceleration Score</th>\n",
              "      <th>Total Acceleration Points</th>\n",
              "      <th>BNA</th>\n",
              "      <th>BNA Points</th>\n",
              "      <th>Community Survey Network Score</th>\n",
              "      <th>Total Network Points</th>\n",
              "      <th>Percent Communities of Concern</th>\n",
              "      <th>Number Underserved Communities</th>\n",
              "      <th>Average BNA</th>\n",
              "      <th>BNA Underserved Communities</th>\n",
              "      <th>BNA Gap</th>\n",
              "      <th>BNA Tier</th>\n",
              "      <th>BNA Target</th>\n",
              "      <th>Distance</th>\n",
              "      <th>BNA Points.1</th>\n",
              "      <th>ACS Bike-to-Work Mode Share Men</th>\n",
              "      <th>ACS Bike-to-Work Mode Share Women</th>\n",
              "      <th>ACS Gap</th>\n",
              "      <th>ACS Tier</th>\n",
              "      <th>ACS_Target</th>\n",
              "      <th>Distance.1</th>\n",
              "      <th>ACS Points</th>\n",
              "      <th>Total Reach Points</th>\n",
              "      <th>Bonus</th>\n",
              "      <th>Points with bonus</th>\n",
              "    </tr>\n",
              "  </thead>\n",
              "  <tbody>\n",
              "    <tr>\n",
              "      <th>count</th>\n",
              "      <td>567.000000</td>\n",
              "      <td>567.000000</td>\n",
              "      <td>567.000000</td>\n",
              "      <td>5.670000e+02</td>\n",
              "      <td>567.000000</td>\n",
              "      <td>567.000000</td>\n",
              "      <td>567.000000</td>\n",
              "      <td>566.000000</td>\n",
              "      <td>566.000000</td>\n",
              "      <td>415.000000</td>\n",
              "      <td>567.000000</td>\n",
              "      <td>562.000000</td>\n",
              "      <td>562.000000</td>\n",
              "      <td>562.000000</td>\n",
              "      <td>562.000000</td>\n",
              "      <td>528.000000</td>\n",
              "      <td>528.000000</td>\n",
              "      <td>49.000000</td>\n",
              "      <td>49.000000</td>\n",
              "      <td>49.000000</td>\n",
              "      <td>50.000000</td>\n",
              "      <td>50.000000</td>\n",
              "      <td>50.000000</td>\n",
              "      <td>562.000000</td>\n",
              "      <td>528.000000</td>\n",
              "      <td>415.000000</td>\n",
              "      <td>563.00000</td>\n",
              "      <td>84.000000</td>\n",
              "      <td>415.000000</td>\n",
              "      <td>419.000000</td>\n",
              "      <td>567.000000</td>\n",
              "      <td>567.000000</td>\n",
              "      <td>415.000000</td>\n",
              "      <td>567.000000</td>\n",
              "      <td>567.000000</td>\n",
              "      <td>567.000000</td>\n",
              "      <td>567.000000</td>\n",
              "      <td>567.000000</td>\n",
              "      <td>567.000000</td>\n",
              "      <td>400.000000</td>\n",
              "      <td>400.000000</td>\n",
              "      <td>400.000000</td>\n",
              "      <td>400.00000</td>\n",
              "      <td>567.000000</td>\n",
              "      <td>567.000000</td>\n",
              "      <td>567.000000</td>\n",
              "      <td>532.000000</td>\n",
              "      <td>532.000000</td>\n",
              "      <td>532.000000</td>\n",
              "      <td>532.000000</td>\n",
              "      <td>567.000000</td>\n",
              "      <td>567.000000</td>\n",
              "      <td>567.000000</td>\n",
              "    </tr>\n",
              "    <tr>\n",
              "      <th>mean</th>\n",
              "      <td>1571.841270</td>\n",
              "      <td>0.016409</td>\n",
              "      <td>62.511993</td>\n",
              "      <td>1.667682e+05</td>\n",
              "      <td>0.207453</td>\n",
              "      <td>7.528395</td>\n",
              "      <td>0.375132</td>\n",
              "      <td>0.155790</td>\n",
              "      <td>2.597173</td>\n",
              "      <td>2.465060</td>\n",
              "      <td>1.547949</td>\n",
              "      <td>12.441637</td>\n",
              "      <td>0.688078</td>\n",
              "      <td>3.012456</td>\n",
              "      <td>0.435231</td>\n",
              "      <td>16.231061</td>\n",
              "      <td>4.013258</td>\n",
              "      <td>301.500000</td>\n",
              "      <td>9.216550</td>\n",
              "      <td>1.979592</td>\n",
              "      <td>233.570000</td>\n",
              "      <td>3773.152823</td>\n",
              "      <td>2.280000</td>\n",
              "      <td>1.592527</td>\n",
              "      <td>2.114583</td>\n",
              "      <td>2.485060</td>\n",
              "      <td>1.79541</td>\n",
              "      <td>2.675595</td>\n",
              "      <td>2.436627</td>\n",
              "      <td>0.908499</td>\n",
              "      <td>23.253439</td>\n",
              "      <td>1.654321</td>\n",
              "      <td>2.585783</td>\n",
              "      <td>1.702131</td>\n",
              "      <td>12.279012</td>\n",
              "      <td>25.504409</td>\n",
              "      <td>20.887125</td>\n",
              "      <td>20.264727</td>\n",
              "      <td>0.621693</td>\n",
              "      <td>2.262500</td>\n",
              "      <td>-18.687500</td>\n",
              "      <td>19.647000</td>\n",
              "      <td>1.86400</td>\n",
              "      <td>0.012875</td>\n",
              "      <td>0.006349</td>\n",
              "      <td>0.003175</td>\n",
              "      <td>1.921053</td>\n",
              "      <td>-0.218421</td>\n",
              "      <td>0.220113</td>\n",
              "      <td>1.923684</td>\n",
              "      <td>1.811341</td>\n",
              "      <td>0.069665</td>\n",
              "      <td>1.642742</td>\n",
              "    </tr>\n",
              "    <tr>\n",
              "      <th>std</th>\n",
              "      <td>5566.382221</td>\n",
              "      <td>0.039262</td>\n",
              "      <td>157.373424</td>\n",
              "      <td>3.369143e+05</td>\n",
              "      <td>0.110523</td>\n",
              "      <td>12.540077</td>\n",
              "      <td>0.628953</td>\n",
              "      <td>0.022846</td>\n",
              "      <td>0.381138</td>\n",
              "      <td>0.311314</td>\n",
              "      <td>0.476178</td>\n",
              "      <td>26.481965</td>\n",
              "      <td>0.641592</td>\n",
              "      <td>0.998138</td>\n",
              "      <td>1.110943</td>\n",
              "      <td>99.924805</td>\n",
              "      <td>1.249597</td>\n",
              "      <td>661.187221</td>\n",
              "      <td>21.226128</td>\n",
              "      <td>1.492897</td>\n",
              "      <td>1533.255776</td>\n",
              "      <td>25784.915562</td>\n",
              "      <td>1.654185</td>\n",
              "      <td>0.628623</td>\n",
              "      <td>0.759279</td>\n",
              "      <td>0.373543</td>\n",
              "      <td>0.61098</td>\n",
              "      <td>1.177564</td>\n",
              "      <td>0.520784</td>\n",
              "      <td>0.978849</td>\n",
              "      <td>14.202756</td>\n",
              "      <td>0.756885</td>\n",
              "      <td>0.495063</td>\n",
              "      <td>0.682201</td>\n",
              "      <td>8.157348</td>\n",
              "      <td>62.898731</td>\n",
              "      <td>12.797697</td>\n",
              "      <td>14.006255</td>\n",
              "      <td>6.263045</td>\n",
              "      <td>0.869185</td>\n",
              "      <td>4.345925</td>\n",
              "      <td>6.879379</td>\n",
              "      <td>0.72648</td>\n",
              "      <td>0.047481</td>\n",
              "      <td>0.039367</td>\n",
              "      <td>0.022014</td>\n",
              "      <td>0.840012</td>\n",
              "      <td>0.262680</td>\n",
              "      <td>0.269598</td>\n",
              "      <td>0.838169</td>\n",
              "      <td>0.769549</td>\n",
              "      <td>0.173298</td>\n",
              "      <td>0.560002</td>\n",
              "    </tr>\n",
              "    <tr>\n",
              "      <th>min</th>\n",
              "      <td>1.000000</td>\n",
              "      <td>0.000000</td>\n",
              "      <td>0.600000</td>\n",
              "      <td>2.150000e+02</td>\n",
              "      <td>0.057000</td>\n",
              "      <td>0.000000</td>\n",
              "      <td>0.000000</td>\n",
              "      <td>0.090000</td>\n",
              "      <td>1.500000</td>\n",
              "      <td>1.300000</td>\n",
              "      <td>0.102228</td>\n",
              "      <td>0.000000</td>\n",
              "      <td>0.000000</td>\n",
              "      <td>0.000000</td>\n",
              "      <td>0.000000</td>\n",
              "      <td>0.000000</td>\n",
              "      <td>0.000000</td>\n",
              "      <td>0.000000</td>\n",
              "      <td>0.000000</td>\n",
              "      <td>0.000000</td>\n",
              "      <td>0.000000</td>\n",
              "      <td>0.000000</td>\n",
              "      <td>0.000000</td>\n",
              "      <td>0.000000</td>\n",
              "      <td>0.000000</td>\n",
              "      <td>1.400000</td>\n",
              "      <td>0.20000</td>\n",
              "      <td>0.000000</td>\n",
              "      <td>1.000000</td>\n",
              "      <td>0.208920</td>\n",
              "      <td>2.000000</td>\n",
              "      <td>1.000000</td>\n",
              "      <td>1.100000</td>\n",
              "      <td>0.800000</td>\n",
              "      <td>0.000000</td>\n",
              "      <td>0.000000</td>\n",
              "      <td>2.700000</td>\n",
              "      <td>1.100000</td>\n",
              "      <td>-33.700000</td>\n",
              "      <td>1.000000</td>\n",
              "      <td>-25.000000</td>\n",
              "      <td>-1.600000</td>\n",
              "      <td>0.00000</td>\n",
              "      <td>0.000000</td>\n",
              "      <td>0.000000</td>\n",
              "      <td>-0.100000</td>\n",
              "      <td>1.000000</td>\n",
              "      <td>-0.600000</td>\n",
              "      <td>0.000000</td>\n",
              "      <td>0.000000</td>\n",
              "      <td>0.000000</td>\n",
              "      <td>0.000000</td>\n",
              "      <td>0.505123</td>\n",
              "    </tr>\n",
              "    <tr>\n",
              "      <th>25%</th>\n",
              "      <td>186.500000</td>\n",
              "      <td>0.002000</td>\n",
              "      <td>12.600000</td>\n",
              "      <td>3.152800e+04</td>\n",
              "      <td>0.126000</td>\n",
              "      <td>1.200000</td>\n",
              "      <td>0.100000</td>\n",
              "      <td>0.144000</td>\n",
              "      <td>2.400000</td>\n",
              "      <td>2.300000</td>\n",
              "      <td>1.190639</td>\n",
              "      <td>1.200000</td>\n",
              "      <td>0.300000</td>\n",
              "      <td>2.000000</td>\n",
              "      <td>0.000000</td>\n",
              "      <td>0.000000</td>\n",
              "      <td>3.000000</td>\n",
              "      <td>21.000000</td>\n",
              "      <td>2.900000</td>\n",
              "      <td>1.000000</td>\n",
              "      <td>2.125000</td>\n",
              "      <td>21.875000</td>\n",
              "      <td>1.000000</td>\n",
              "      <td>1.000000</td>\n",
              "      <td>1.500000</td>\n",
              "      <td>2.200000</td>\n",
              "      <td>1.40000</td>\n",
              "      <td>2.050000</td>\n",
              "      <td>2.100000</td>\n",
              "      <td>0.420080</td>\n",
              "      <td>12.400000</td>\n",
              "      <td>1.000000</td>\n",
              "      <td>2.300000</td>\n",
              "      <td>1.255470</td>\n",
              "      <td>6.500000</td>\n",
              "      <td>2.000000</td>\n",
              "      <td>10.550000</td>\n",
              "      <td>9.750000</td>\n",
              "      <td>-1.350000</td>\n",
              "      <td>1.000000</td>\n",
              "      <td>-25.000000</td>\n",
              "      <td>15.300000</td>\n",
              "      <td>1.40000</td>\n",
              "      <td>0.000000</td>\n",
              "      <td>0.000000</td>\n",
              "      <td>0.000000</td>\n",
              "      <td>1.000000</td>\n",
              "      <td>-0.600000</td>\n",
              "      <td>0.000000</td>\n",
              "      <td>1.300000</td>\n",
              "      <td>1.358236</td>\n",
              "      <td>0.000000</td>\n",
              "      <td>1.286828</td>\n",
              "    </tr>\n",
              "    <tr>\n",
              "      <th>50%</th>\n",
              "      <td>376.000000</td>\n",
              "      <td>0.006000</td>\n",
              "      <td>28.300000</td>\n",
              "      <td>7.131300e+04</td>\n",
              "      <td>0.208000</td>\n",
              "      <td>3.200000</td>\n",
              "      <td>0.200000</td>\n",
              "      <td>0.154000</td>\n",
              "      <td>2.600000</td>\n",
              "      <td>2.500000</td>\n",
              "      <td>1.540199</td>\n",
              "      <td>3.900000</td>\n",
              "      <td>0.600000</td>\n",
              "      <td>3.000000</td>\n",
              "      <td>0.000000</td>\n",
              "      <td>0.650000</td>\n",
              "      <td>4.000000</td>\n",
              "      <td>93.500000</td>\n",
              "      <td>4.200000</td>\n",
              "      <td>2.000000</td>\n",
              "      <td>7.000000</td>\n",
              "      <td>48.050000</td>\n",
              "      <td>2.000000</td>\n",
              "      <td>1.500000</td>\n",
              "      <td>2.500000</td>\n",
              "      <td>2.500000</td>\n",
              "      <td>1.80000</td>\n",
              "      <td>2.700000</td>\n",
              "      <td>2.500000</td>\n",
              "      <td>0.511280</td>\n",
              "      <td>20.400000</td>\n",
              "      <td>2.000000</td>\n",
              "      <td>2.600000</td>\n",
              "      <td>1.600000</td>\n",
              "      <td>11.100000</td>\n",
              "      <td>6.000000</td>\n",
              "      <td>18.900000</td>\n",
              "      <td>17.600000</td>\n",
              "      <td>0.400000</td>\n",
              "      <td>3.000000</td>\n",
              "      <td>-15.000000</td>\n",
              "      <td>17.700000</td>\n",
              "      <td>1.80000</td>\n",
              "      <td>0.000000</td>\n",
              "      <td>0.000000</td>\n",
              "      <td>0.000000</td>\n",
              "      <td>2.000000</td>\n",
              "      <td>-0.100000</td>\n",
              "      <td>0.100000</td>\n",
              "      <td>1.600000</td>\n",
              "      <td>1.798655</td>\n",
              "      <td>0.000000</td>\n",
              "      <td>1.498295</td>\n",
              "    </tr>\n",
              "    <tr>\n",
              "      <th>75%</th>\n",
              "      <td>867.500000</td>\n",
              "      <td>0.014000</td>\n",
              "      <td>57.900000</td>\n",
              "      <td>1.527955e+05</td>\n",
              "      <td>0.263000</td>\n",
              "      <td>7.300000</td>\n",
              "      <td>0.400000</td>\n",
              "      <td>0.164000</td>\n",
              "      <td>2.700000</td>\n",
              "      <td>2.600000</td>\n",
              "      <td>1.716447</td>\n",
              "      <td>11.350000</td>\n",
              "      <td>0.900000</td>\n",
              "      <td>4.000000</td>\n",
              "      <td>0.400000</td>\n",
              "      <td>11.325000</td>\n",
              "      <td>5.000000</td>\n",
              "      <td>308.500000</td>\n",
              "      <td>7.100000</td>\n",
              "      <td>3.000000</td>\n",
              "      <td>12.250000</td>\n",
              "      <td>118.725000</td>\n",
              "      <td>4.000000</td>\n",
              "      <td>2.000000</td>\n",
              "      <td>2.500000</td>\n",
              "      <td>2.700000</td>\n",
              "      <td>2.18178</td>\n",
              "      <td>3.500000</td>\n",
              "      <td>2.800000</td>\n",
              "      <td>0.618030</td>\n",
              "      <td>31.350000</td>\n",
              "      <td>2.000000</td>\n",
              "      <td>2.900000</td>\n",
              "      <td>2.135310</td>\n",
              "      <td>17.100000</td>\n",
              "      <td>21.000000</td>\n",
              "      <td>27.750000</td>\n",
              "      <td>28.300000</td>\n",
              "      <td>2.950000</td>\n",
              "      <td>3.000000</td>\n",
              "      <td>-15.000000</td>\n",
              "      <td>22.800000</td>\n",
              "      <td>2.30000</td>\n",
              "      <td>0.000000</td>\n",
              "      <td>0.000000</td>\n",
              "      <td>0.000000</td>\n",
              "      <td>3.000000</td>\n",
              "      <td>0.000000</td>\n",
              "      <td>0.600000</td>\n",
              "      <td>3.000000</td>\n",
              "      <td>2.242401</td>\n",
              "      <td>0.000000</td>\n",
              "      <td>1.839440</td>\n",
              "    </tr>\n",
              "    <tr>\n",
              "      <th>max</th>\n",
              "      <td>50079.000000</td>\n",
              "      <td>0.600000</td>\n",
              "      <td>2703.900000</td>\n",
              "      <td>3.959657e+06</td>\n",
              "      <td>0.510000</td>\n",
              "      <td>100.000000</td>\n",
              "      <td>5.000000</td>\n",
              "      <td>0.276000</td>\n",
              "      <td>4.600000</td>\n",
              "      <td>3.300000</td>\n",
              "      <td>3.911170</td>\n",
              "      <td>261.000000</td>\n",
              "      <td>8.400000</td>\n",
              "      <td>5.000000</td>\n",
              "      <td>15.600000</td>\n",
              "      <td>2000.000000</td>\n",
              "      <td>5.000000</td>\n",
              "      <td>3856.000000</td>\n",
              "      <td>147.500000</td>\n",
              "      <td>5.000000</td>\n",
              "      <td>10855.500000</td>\n",
              "      <td>182445.400000</td>\n",
              "      <td>5.000000</td>\n",
              "      <td>5.000000</td>\n",
              "      <td>5.000000</td>\n",
              "      <td>3.500000</td>\n",
              "      <td>4.51776</td>\n",
              "      <td>4.900000</td>\n",
              "      <td>3.900000</td>\n",
              "      <td>4.631920</td>\n",
              "      <td>88.100000</td>\n",
              "      <td>5.000000</td>\n",
              "      <td>4.100000</td>\n",
              "      <td>4.823460</td>\n",
              "      <td>50.000000</td>\n",
              "      <td>728.000000</td>\n",
              "      <td>88.900000</td>\n",
              "      <td>88.900000</td>\n",
              "      <td>26.400000</td>\n",
              "      <td>3.000000</td>\n",
              "      <td>-15.000000</td>\n",
              "      <td>47.500000</td>\n",
              "      <td>5.20000</td>\n",
              "      <td>0.600000</td>\n",
              "      <td>0.600000</td>\n",
              "      <td>0.300000</td>\n",
              "      <td>3.000000</td>\n",
              "      <td>0.000000</td>\n",
              "      <td>0.900000</td>\n",
              "      <td>3.600000</td>\n",
              "      <td>4.185593</td>\n",
              "      <td>0.500000</td>\n",
              "      <td>3.544765</td>\n",
              "    </tr>\n",
              "  </tbody>\n",
              "</table>\n",
              "</div>"
            ],
            "text/plain": [
              "       Places_ID_2020  ...  Points with bonus\n",
              "count      567.000000  ...         567.000000\n",
              "mean      1571.841270  ...           1.642742\n",
              "std       5566.382221  ...           0.560002\n",
              "min          1.000000  ...           0.505123\n",
              "25%        186.500000  ...           1.286828\n",
              "50%        376.000000  ...           1.498295\n",
              "75%        867.500000  ...           1.839440\n",
              "max      50079.000000  ...           3.544765\n",
              "\n",
              "[8 rows x 53 columns]"
            ]
          },
          "metadata": {
            "tags": []
          },
          "execution_count": 17
        }
      ]
    },
    {
      "cell_type": "code",
      "metadata": {
        "colab": {
          "base_uri": "https://localhost:8080/"
        },
        "id": "O-wbxfe2hdf8",
        "outputId": "b11d4de5-eb03-4782-8cbc-418c81783abb"
      },
      "source": [
        "pfbr.shape"
      ],
      "execution_count": null,
      "outputs": [
        {
          "output_type": "execute_result",
          "data": {
            "text/plain": [
              "(567, 55)"
            ]
          },
          "metadata": {
            "tags": []
          },
          "execution_count": 15
        }
      ]
    },
    {
      "cell_type": "markdown",
      "metadata": {
        "id": "WmOQgwf5kkCS"
      },
      "source": [
        "With 57 columns in the dataframe, there seem to be a pretty overwhelming number of variables to consider. Doing an analysis of correlation to the \"Points with bonus\", the determinant of the ranking, should show us which variables are the most pertinent."
      ]
    },
    {
      "cell_type": "code",
      "metadata": {
        "colab": {
          "base_uri": "https://localhost:8080/"
        },
        "id": "OJ0zBsaC8Pn2",
        "outputId": "987493f0-8d4d-4fb8-f697-7fe8f709c97e"
      },
      "source": [
        "pfbr.corrwith(pfbr[\"Points with bonus\"]).sort_values(ascending=False)"
      ],
      "execution_count": null,
      "outputs": [
        {
          "output_type": "execute_result",
          "data": {
            "text/plain": [
              "Points with bonus                      1.000000\n",
              "Bonus                                  0.795198\n",
              "Total Acceleration Points              0.793944\n",
              "Total Safety Points                    0.666423\n",
              "Total Network Points                   0.643687\n",
              "Total Ridership Points                 0.616059\n",
              "Average BNA                            0.543552\n",
              "ACS Normalized Score                   0.542358\n",
              "ACS Ridership Points                   0.538885\n",
              "BNA                                    0.537928\n",
              "Community Survey Acceleration Score    0.533997\n",
              "BNA Points                             0.527640\n",
              "Community Survey Ridership Score       0.509141\n",
              "Total Reach Points                     0.504944\n",
              "Distance.1                             0.501925\n",
              "BNA Underserved Communities            0.501465\n",
              "ACS Tier                               0.488804\n",
              "Community Survey Network Score         0.471626\n",
              "Bike Safety Points                     0.463532\n",
              "All mode safety points                 0.463473\n",
              "ACS Points                             0.457128\n",
              "ACS Bike-to-Work Mode Share            0.375296\n",
              "ACS Bike-to-Work Mode Share Men        0.351057\n",
              "SMS Recreation Riding                  0.335022\n",
              "SMS Points                             0.334478\n",
              "Distance                               0.312825\n",
              "Bike Injury Points                     0.277047\n",
              "Community Survey Safety Score          0.257945\n",
              " Population                            0.257706\n",
              "All Mode Fatality Points               0.253002\n",
              "City Snapshot Points                   0.250364\n",
              "ACS Bike-to-Work Mode Share Women      0.247589\n",
              "BNA Points.1                           0.239161\n",
              "Number Underserved Communities         0.231982\n",
              "Average Fatalities Bike                0.205961\n",
              "ACS Gap                                0.202341\n",
              "Bike Fatality Points                   0.194393\n",
              "Average Fatalities All Mode            0.132789\n",
              "Places_ID_2020                         0.063349\n",
              "Land Area                              0.029400\n",
              "Percent Communities of Concern         0.023090\n",
              "All Mode Injury Rate                   0.021883\n",
              "All Mode Injuries                      0.014571\n",
              "BNA Gap                               -0.010397\n",
              "ACS Target                            -0.073379\n",
              "All Mode Injury Points                -0.094691\n",
              "Bike Fatality Rate                    -0.117456\n",
              "All Mode Fatality Rate                -0.192378\n",
              "Bike Injuries                         -0.241282\n",
              "Bike Injury Rate                      -0.242031\n",
              "ACS_Target                            -0.496480\n",
              "BNA Target                            -0.537572\n",
              "BNA Tier                              -0.537572\n",
              "dtype: float64"
            ]
          },
          "metadata": {
            "tags": []
          },
          "execution_count": 31
        }
      ]
    },
    {
      "cell_type": "markdown",
      "metadata": {
        "id": "DwG3H5pT-2Cl"
      },
      "source": [
        "\r\n"
      ]
    },
    {
      "cell_type": "markdown",
      "metadata": {
        "id": "S7VEzZSv3Tok"
      },
      "source": [
        "### Data Wrangling"
      ]
    },
    {
      "cell_type": "markdown",
      "metadata": {
        "id": "dG_vsmAyA8wA"
      },
      "source": [
        "### Clustering"
      ]
    },
    {
      "cell_type": "markdown",
      "metadata": {
        "id": "PdONP0xf0Sj9"
      },
      "source": [
        "## Results"
      ]
    },
    {
      "cell_type": "markdown",
      "metadata": {
        "id": "c021P3600Sob"
      },
      "source": [
        "## Discussion"
      ]
    },
    {
      "cell_type": "markdown",
      "metadata": {
        "id": "Q17ugjLzpO9-"
      },
      "source": [
        "## Conclusion"
      ]
    },
    {
      "cell_type": "code",
      "metadata": {
        "id": "YcBHusNPpL6z"
      },
      "source": [
        ""
      ],
      "execution_count": null,
      "outputs": []
    }
  ]
}