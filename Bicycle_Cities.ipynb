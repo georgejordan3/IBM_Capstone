{
  "nbformat": 4,
  "nbformat_minor": 0,
  "metadata": {
    "colab": {
      "name": "Bicycle_Cities.ipynb",
      "provenance": [],
      "collapsed_sections": [
        "sIxbu3WR-nJz",
        "ea6whOrQ-s6l",
        "xMWaHA9ofaSy",
        "4HqteNgUfa3X",
        "Qm4Kf_q7fbD5",
        "N_Xs69LFfbN_",
        "jti6VR9EfcGg",
        "D33D7uhqfcO4",
        "g6tqTe6PfcYP",
        "dG_vsmAyA8wA",
        "le5XDyLpAYxq",
        "U0I0GIhNmILL",
        "Tp1QCcR6mMEZ",
        "XjtNfAURmQgi",
        "W9Gh_PPunNg1",
        "JjbRaq69nSLo",
        "8CyvmCc3nhVW",
        "Jz4SeZtMn4oX",
        "k_NhRI1NqF42",
        "cWm7OfkUqIVM",
        "7FLx5Hk3qSVU"
      ],
      "toc_visible": true,
      "authorship_tag": "ABX9TyNehu7Dz9NJPIfBji+5r7/M",
      "include_colab_link": true
    },
    "kernelspec": {
      "name": "python3",
      "display_name": "Python 3"
    }
  },
  "cells": [
    {
      "cell_type": "markdown",
      "metadata": {
        "id": "view-in-github",
        "colab_type": "text"
      },
      "source": [
        "<a href=\"https://colab.research.google.com/github/georgejordan3/IBM_Capstone/blob/main/Bicycle_Cities.ipynb\" target=\"_parent\"><img src=\"https://colab.research.google.com/assets/colab-badge.svg\" alt=\"Open In Colab\"/></a>"
      ]
    },
    {
      "cell_type": "markdown",
      "metadata": {
        "id": "A069578ypQ3k"
      },
      "source": [
        "# Bicycle Cities - Evaluating the Best Cities in the US to Ride a Bicycle"
      ]
    },
    {
      "cell_type": "markdown",
      "metadata": {
        "id": "-d1m4smTpPIk"
      },
      "source": [
        "George Jordan <br>\r\n",
        "IBM Data Science Professional Certificate Capstone <br>\r\n",
        "Last Updated: 3-4-21"
      ]
    },
    {
      "cell_type": "markdown",
      "metadata": {
        "id": "IW26dsLVBkKQ"
      },
      "source": [
        "<img src=\"https://www.confluence-denver.com/galleries/Features/2016/Issue_164/bike_lanes_04.jpg\">\r\n",
        "\r\n",
        "Credit: [Confluence Denver](https://www.confluence-denver.com/features/denver_bike_lanes_082416.aspx)\r\n"
      ]
    },
    {
      "cell_type": "markdown",
      "metadata": {
        "id": "opkkcVYbeIPA"
      },
      "source": [
        "[Medium](https://georgejordan3.medium.com/bicycle-cities-evaluating-the-best-cities-in-the-us-to-ride-a-bicycle-30daaedb8e99)"
      ]
    },
    {
      "cell_type": "markdown",
      "metadata": {
        "id": "xNy8nvPu0SSE"
      },
      "source": [
        "## Introduction \r\n",
        "I am a competitive cyclist and moving to Denver was partially motivated by my love for cycling. While I have a strong understanding of the riding experience here, I wonder how my experience compares to other cyclists in various parts of the US. I hope to tell a detailed story of these cities through the eyes of a cyclist and through the lens of data.\r\n",
        "\r\n",
        "In this project, I will examine a list of the highest ranking bicycle cities in the country and apply my own analysis to gain further insight into the cities and their unique characteristics. I will use analytic tools as well as machine learning algorithms to see how these cities relate to each other and also gain insight into other supporting factors that have made these cities accessible via bicycle.\r\n",
        "\r\n",
        "While this project is personally interesting to me, I believe that the insights here could be useful for a variety of business applications. Perhaps there is a company in one of these cities that is considering including provisions to support bike commuters. Maybe the existence of bicycle infrastructure is important to a company and an investigation into potential locations for an office would require such an analysis to foster that kind of culture in the workplace.\r\n",
        "\r\n",
        "I believe that the bicycle is a very powerful tool to not only navigate a city but to also change it, through culture and infrastructure. I hope this project illuminates some of the impact that the bicycle has had on these cities."
      ]
    },
    {
      "cell_type": "markdown",
      "metadata": {
        "id": "5VNHT0d_0SVH"
      },
      "source": [
        "## Data \r\n",
        "### PlacesForBikes City Ratings\r\n",
        "- [PlacesForBikes City Ratings](https://cityratings.peopleforbikes.org/)\r\n",
        "\r\n",
        "For this project, I will be first looking at the PlacesForBikes ratings to see their list of top cities for bicycles. They have made their data available for the public as well as an explanation to their methodology in ranking. It is from this data that I will select a number of cities to examine further, while also studying their decisions in ranking.\r\n",
        "\r\n",
        "### Foursquare\r\n",
        "- [Foursquare](https://foursquare.com/)\r\n",
        "\r\n",
        "I will be using the Foursquare API to get an understanding of the selected cities from the rankings above. Using the Geocoder library, I will find venues close to the top-ranked cities in the City Ratings and see if there are any patterns. Then, I will use regression analysis to see if there is any relationship between the categories of these venues and the ranking they have received as a top city for bicycles."
      ]
    },
    {
      "cell_type": "markdown",
      "metadata": {
        "id": "aNK-K2GM0SX-"
      },
      "source": [
        "## Methodology \r\n"
      ]
    },
    {
      "cell_type": "markdown",
      "metadata": {
        "id": "4K5R1X8abB5R"
      },
      "source": [
        "### Using City Ranking"
      ]
    },
    {
      "cell_type": "code",
      "metadata": {
        "id": "orVH7mV4gGDe"
      },
      "source": [
        "import pandas as pd\r\n",
        "import folium\r\n",
        "import requests\r\n",
        "import numpy as np\r\n",
        "from pandas.io.json import json_normalize\r\n",
        "from geopy.geocoders import Nominatim"
      ],
      "execution_count": 2,
      "outputs": []
    },
    {
      "cell_type": "markdown",
      "metadata": {
        "id": "G13KEsD3bkrJ"
      },
      "source": [
        "For the City Ratings, I saved the files locally and then uploaded the files into the notebook."
      ]
    },
    {
      "cell_type": "code",
      "metadata": {
        "id": "cLHxWc40bA-K"
      },
      "source": [
        "# If I was using a file from some other hosting source, using !wget command would be apporpriate, but it seemed to be a waste of time to host the file online just to demonstrate the ability to upload a file.\r\n",
        "pfbr = pd.read_excel(\"pfbr.xls\")"
      ],
      "execution_count": 3,
      "outputs": []
    },
    {
      "cell_type": "markdown",
      "metadata": {
        "id": "bhyvcnKcg5yd"
      },
      "source": [
        "With the data uploaded, getting an idea of the scope of the dataset is an important way to start structuring our analysis."
      ]
    },
    {
      "cell_type": "code",
      "metadata": {
        "colab": {
          "base_uri": "https://localhost:8080/"
        },
        "id": "O-wbxfe2hdf8",
        "outputId": "787ea2e4-e123-4eaf-e409-12750e9592b7"
      },
      "source": [
        "pfbr.shape"
      ],
      "execution_count": 4,
      "outputs": [
        {
          "output_type": "execute_result",
          "data": {
            "text/plain": [
              "(567, 55)"
            ]
          },
          "metadata": {
            "tags": []
          },
          "execution_count": 4
        }
      ]
    },
    {
      "cell_type": "markdown",
      "metadata": {
        "id": "SVoLcfX-UkLg"
      },
      "source": [
        "We'll just be looking at the top ten cities.\n",
        "\n"
      ]
    },
    {
      "cell_type": "code",
      "metadata": {
        "colab": {
          "base_uri": "https://localhost:8080/",
          "height": 734
        },
        "id": "QZmZvEuKT0i0",
        "outputId": "86b55f8c-d200-4bf1-b50e-635536f1c33c"
      },
      "source": [
        "top_cities = pfbr.head(10)\n",
        "top_cities"
      ],
      "execution_count": 5,
      "outputs": [
        {
          "output_type": "execute_result",
          "data": {
            "text/html": [
              "<div>\n",
              "<style scoped>\n",
              "    .dataframe tbody tr th:only-of-type {\n",
              "        vertical-align: middle;\n",
              "    }\n",
              "\n",
              "    .dataframe tbody tr th {\n",
              "        vertical-align: top;\n",
              "    }\n",
              "\n",
              "    .dataframe thead th {\n",
              "        text-align: right;\n",
              "    }\n",
              "</style>\n",
              "<table border=\"1\" class=\"dataframe\">\n",
              "  <thead>\n",
              "    <tr style=\"text-align: right;\">\n",
              "      <th></th>\n",
              "      <th>Places_ID_2020</th>\n",
              "      <th>City</th>\n",
              "      <th>City_Alt</th>\n",
              "      <th>ACS Bike-to-Work Mode Share</th>\n",
              "      <th>Land Area</th>\n",
              "      <th>Population</th>\n",
              "      <th>ACS Target</th>\n",
              "      <th>ACS Normalized Score</th>\n",
              "      <th>ACS Ridership Points</th>\n",
              "      <th>SMS Recreation Riding</th>\n",
              "      <th>SMS Points</th>\n",
              "      <th>Community Survey Ridership Score</th>\n",
              "      <th>Total Ridership Points</th>\n",
              "      <th>Average Fatalities All Mode</th>\n",
              "      <th>All Mode Fatality Rate</th>\n",
              "      <th>All Mode Fatality Points</th>\n",
              "      <th>Average Fatalities Bike</th>\n",
              "      <th>Bike Fatality Rate</th>\n",
              "      <th>Bike Fatality Points</th>\n",
              "      <th>All Mode Injuries</th>\n",
              "      <th>All Mode Injury Rate</th>\n",
              "      <th>All Mode Injury Points</th>\n",
              "      <th>Bike Injuries</th>\n",
              "      <th>Bike Injury Rate</th>\n",
              "      <th>Bike Injury Points</th>\n",
              "      <th>All mode safety points</th>\n",
              "      <th>Bike Safety Points</th>\n",
              "      <th>Community Survey Safety Score</th>\n",
              "      <th>Total Safety Points</th>\n",
              "      <th>City Snapshot Points</th>\n",
              "      <th>Community Survey Acceleration Score</th>\n",
              "      <th>Total Acceleration Points</th>\n",
              "      <th>BNA</th>\n",
              "      <th>BNA Points</th>\n",
              "      <th>Community Survey Network Score</th>\n",
              "      <th>Total Network Points</th>\n",
              "      <th>Percent Communities of Concern</th>\n",
              "      <th>Number Underserved Communities</th>\n",
              "      <th>Average BNA</th>\n",
              "      <th>BNA Underserved Communities</th>\n",
              "      <th>BNA Gap</th>\n",
              "      <th>BNA Tier</th>\n",
              "      <th>BNA Target</th>\n",
              "      <th>Distance</th>\n",
              "      <th>BNA Points.1</th>\n",
              "      <th>ACS Bike-to-Work Mode Share Men</th>\n",
              "      <th>ACS Bike-to-Work Mode Share Women</th>\n",
              "      <th>ACS Gap</th>\n",
              "      <th>ACS Tier</th>\n",
              "      <th>ACS_Target</th>\n",
              "      <th>Distance.1</th>\n",
              "      <th>ACS Points</th>\n",
              "      <th>Total Reach Points</th>\n",
              "      <th>Bonus</th>\n",
              "      <th>Points with bonus</th>\n",
              "    </tr>\n",
              "  </thead>\n",
              "  <tbody>\n",
              "    <tr>\n",
              "      <th>0</th>\n",
              "      <td>487</td>\n",
              "      <td>SAN LUIS OBISPO, CALIFORNIA</td>\n",
              "      <td>SAN LUIS OBISPO, CA</td>\n",
              "      <td>0.093</td>\n",
              "      <td>13.1</td>\n",
              "      <td>47160</td>\n",
              "      <td>0.263</td>\n",
              "      <td>28.6</td>\n",
              "      <td>1.4</td>\n",
              "      <td>0.134</td>\n",
              "      <td>2.2</td>\n",
              "      <td>2.8</td>\n",
              "      <td>2.028725</td>\n",
              "      <td>1.2</td>\n",
              "      <td>0.3</td>\n",
              "      <td>4.0</td>\n",
              "      <td>0.2</td>\n",
              "      <td>1.1</td>\n",
              "      <td>4.0</td>\n",
              "      <td>NaN</td>\n",
              "      <td>NaN</td>\n",
              "      <td>NaN</td>\n",
              "      <td>NaN</td>\n",
              "      <td>NaN</td>\n",
              "      <td>NaN</td>\n",
              "      <td>2.0</td>\n",
              "      <td>2.0</td>\n",
              "      <td>2.7</td>\n",
              "      <td>2.13888</td>\n",
              "      <td>4.7</td>\n",
              "      <td>3.2</td>\n",
              "      <td>4.35786</td>\n",
              "      <td>61.6</td>\n",
              "      <td>4</td>\n",
              "      <td>3.2</td>\n",
              "      <td>3.83402</td>\n",
              "      <td>5.9</td>\n",
              "      <td>2</td>\n",
              "      <td>49.6</td>\n",
              "      <td>55.2</td>\n",
              "      <td>-5.6</td>\n",
              "      <td>NaN</td>\n",
              "      <td>NaN</td>\n",
              "      <td>NaN</td>\n",
              "      <td>NaN</td>\n",
              "      <td>0.1</td>\n",
              "      <td>0.0</td>\n",
              "      <td>0.1</td>\n",
              "      <td>3.0</td>\n",
              "      <td>-0.6</td>\n",
              "      <td>0.7</td>\n",
              "      <td>2.9</td>\n",
              "      <td>2.864338</td>\n",
              "      <td>0.5</td>\n",
              "      <td>3.544765</td>\n",
              "    </tr>\n",
              "    <tr>\n",
              "      <th>1</th>\n",
              "      <td>215</td>\n",
              "      <td>MADISON, WISCONSIN</td>\n",
              "      <td>MADISON, WI</td>\n",
              "      <td>0.061</td>\n",
              "      <td>78.8</td>\n",
              "      <td>252086</td>\n",
              "      <td>0.115</td>\n",
              "      <td>52.4</td>\n",
              "      <td>2.6</td>\n",
              "      <td>0.182</td>\n",
              "      <td>3.0</td>\n",
              "      <td>3.0</td>\n",
              "      <td>2.863614</td>\n",
              "      <td>8.4</td>\n",
              "      <td>0.3</td>\n",
              "      <td>4.0</td>\n",
              "      <td>0.4</td>\n",
              "      <td>0.6</td>\n",
              "      <td>4.0</td>\n",
              "      <td>84.5</td>\n",
              "      <td>3.4</td>\n",
              "      <td>2.0</td>\n",
              "      <td>8.0</td>\n",
              "      <td>11.7</td>\n",
              "      <td>4.0</td>\n",
              "      <td>3.0</td>\n",
              "      <td>4.0</td>\n",
              "      <td>3.1</td>\n",
              "      <td>3.42080</td>\n",
              "      <td>3.2</td>\n",
              "      <td>3.5</td>\n",
              "      <td>3.25176</td>\n",
              "      <td>49.8</td>\n",
              "      <td>3</td>\n",
              "      <td>3.4</td>\n",
              "      <td>3.08294</td>\n",
              "      <td>11.5</td>\n",
              "      <td>22</td>\n",
              "      <td>47.5</td>\n",
              "      <td>46.2</td>\n",
              "      <td>1.3</td>\n",
              "      <td>1.0</td>\n",
              "      <td>-25.0</td>\n",
              "      <td>26.3</td>\n",
              "      <td>2.2</td>\n",
              "      <td>0.1</td>\n",
              "      <td>0.0</td>\n",
              "      <td>0.0</td>\n",
              "      <td>3.0</td>\n",
              "      <td>-0.6</td>\n",
              "      <td>0.6</td>\n",
              "      <td>3.0</td>\n",
              "      <td>2.431013</td>\n",
              "      <td>0.5</td>\n",
              "      <td>3.510025</td>\n",
              "    </tr>\n",
              "    <tr>\n",
              "      <th>2</th>\n",
              "      <td>337</td>\n",
              "      <td>SANTA BARBARA, CALIFORNIA</td>\n",
              "      <td>SANTA BARBARA, CA</td>\n",
              "      <td>0.052</td>\n",
              "      <td>19.5</td>\n",
              "      <td>91325</td>\n",
              "      <td>0.263</td>\n",
              "      <td>19.3</td>\n",
              "      <td>1.0</td>\n",
              "      <td>0.157</td>\n",
              "      <td>2.6</td>\n",
              "      <td>2.8</td>\n",
              "      <td>1.990605</td>\n",
              "      <td>3.4</td>\n",
              "      <td>0.4</td>\n",
              "      <td>4.0</td>\n",
              "      <td>0.0</td>\n",
              "      <td>0.0</td>\n",
              "      <td>5.0</td>\n",
              "      <td>34.0</td>\n",
              "      <td>3.7</td>\n",
              "      <td>2.0</td>\n",
              "      <td>10.0</td>\n",
              "      <td>48.5</td>\n",
              "      <td>2.0</td>\n",
              "      <td>3.0</td>\n",
              "      <td>3.5</td>\n",
              "      <td>2.7</td>\n",
              "      <td>3.13792</td>\n",
              "      <td>3.8</td>\n",
              "      <td>3.4</td>\n",
              "      <td>3.72760</td>\n",
              "      <td>38.2</td>\n",
              "      <td>2</td>\n",
              "      <td>3.0</td>\n",
              "      <td>2.20700</td>\n",
              "      <td>16.5</td>\n",
              "      <td>16</td>\n",
              "      <td>33.9</td>\n",
              "      <td>36.6</td>\n",
              "      <td>-2.8</td>\n",
              "      <td>1.0</td>\n",
              "      <td>-25.0</td>\n",
              "      <td>22.2</td>\n",
              "      <td>2.7</td>\n",
              "      <td>0.1</td>\n",
              "      <td>0.0</td>\n",
              "      <td>0.1</td>\n",
              "      <td>3.0</td>\n",
              "      <td>-0.6</td>\n",
              "      <td>0.7</td>\n",
              "      <td>3.0</td>\n",
              "      <td>2.733556</td>\n",
              "      <td>0.5</td>\n",
              "      <td>3.259336</td>\n",
              "    </tr>\n",
              "    <tr>\n",
              "      <th>3</th>\n",
              "      <td>402</td>\n",
              "      <td>WASHINGTON, DISTRICT OF COLUMBIA</td>\n",
              "      <td>WASHINGTON, DC</td>\n",
              "      <td>0.097</td>\n",
              "      <td>61.1</td>\n",
              "      <td>684498</td>\n",
              "      <td>0.115</td>\n",
              "      <td>77.5</td>\n",
              "      <td>3.9</td>\n",
              "      <td>0.236</td>\n",
              "      <td>3.9</td>\n",
              "      <td>3.2</td>\n",
              "      <td>3.759195</td>\n",
              "      <td>27.0</td>\n",
              "      <td>0.4</td>\n",
              "      <td>4.0</td>\n",
              "      <td>1.6</td>\n",
              "      <td>1.0</td>\n",
              "      <td>4.0</td>\n",
              "      <td>308.5</td>\n",
              "      <td>4.5</td>\n",
              "      <td>2.0</td>\n",
              "      <td>46.0</td>\n",
              "      <td>28.1</td>\n",
              "      <td>4.0</td>\n",
              "      <td>3.0</td>\n",
              "      <td>4.0</td>\n",
              "      <td>2.3</td>\n",
              "      <td>3.26048</td>\n",
              "      <td>2.2</td>\n",
              "      <td>3.1</td>\n",
              "      <td>2.38442</td>\n",
              "      <td>37.8</td>\n",
              "      <td>2</td>\n",
              "      <td>2.9</td>\n",
              "      <td>2.18248</td>\n",
              "      <td>28.4</td>\n",
              "      <td>128</td>\n",
              "      <td>36.8</td>\n",
              "      <td>31.8</td>\n",
              "      <td>5.0</td>\n",
              "      <td>1.0</td>\n",
              "      <td>-25.0</td>\n",
              "      <td>30.0</td>\n",
              "      <td>1.8</td>\n",
              "      <td>0.1</td>\n",
              "      <td>0.1</td>\n",
              "      <td>0.0</td>\n",
              "      <td>3.0</td>\n",
              "      <td>-0.6</td>\n",
              "      <td>0.6</td>\n",
              "      <td>3.0</td>\n",
              "      <td>2.126418</td>\n",
              "      <td>0.5</td>\n",
              "      <td>3.242599</td>\n",
              "    </tr>\n",
              "    <tr>\n",
              "      <th>4</th>\n",
              "      <td>235</td>\n",
              "      <td>MISSOULA, MONTANA</td>\n",
              "      <td>MISSOULA, MT</td>\n",
              "      <td>0.074</td>\n",
              "      <td>29.3</td>\n",
              "      <td>72125</td>\n",
              "      <td>0.208</td>\n",
              "      <td>34.8</td>\n",
              "      <td>1.7</td>\n",
              "      <td>0.162</td>\n",
              "      <td>2.7</td>\n",
              "      <td>3.1</td>\n",
              "      <td>2.389284</td>\n",
              "      <td>1.8</td>\n",
              "      <td>0.2</td>\n",
              "      <td>4.0</td>\n",
              "      <td>0.0</td>\n",
              "      <td>0.0</td>\n",
              "      <td>5.0</td>\n",
              "      <td>107.5</td>\n",
              "      <td>14.9</td>\n",
              "      <td>0.0</td>\n",
              "      <td>8.0</td>\n",
              "      <td>31.1</td>\n",
              "      <td>3.0</td>\n",
              "      <td>2.0</td>\n",
              "      <td>4.0</td>\n",
              "      <td>2.9</td>\n",
              "      <td>2.98228</td>\n",
              "      <td>2.3</td>\n",
              "      <td>3.5</td>\n",
              "      <td>2.54700</td>\n",
              "      <td>26.1</td>\n",
              "      <td>2</td>\n",
              "      <td>3.7</td>\n",
              "      <td>2.33692</td>\n",
              "      <td>6.6</td>\n",
              "      <td>4</td>\n",
              "      <td>27.5</td>\n",
              "      <td>37.2</td>\n",
              "      <td>-9.7</td>\n",
              "      <td>1.0</td>\n",
              "      <td>-25.0</td>\n",
              "      <td>15.3</td>\n",
              "      <td>3.4</td>\n",
              "      <td>0.1</td>\n",
              "      <td>0.1</td>\n",
              "      <td>0.0</td>\n",
              "      <td>3.0</td>\n",
              "      <td>-0.6</td>\n",
              "      <td>0.6</td>\n",
              "      <td>3.0</td>\n",
              "      <td>3.287384</td>\n",
              "      <td>0.5</td>\n",
              "      <td>3.208574</td>\n",
              "    </tr>\n",
              "    <tr>\n",
              "      <th>5</th>\n",
              "      <td>629</td>\n",
              "      <td>ROGERS, ARKANSAS</td>\n",
              "      <td>ROGERS, AR</td>\n",
              "      <td>0.001</td>\n",
              "      <td>38.2</td>\n",
              "      <td>64947</td>\n",
              "      <td>0.172</td>\n",
              "      <td>0.8</td>\n",
              "      <td>0.0</td>\n",
              "      <td>0.138</td>\n",
              "      <td>2.3</td>\n",
              "      <td>2.4</td>\n",
              "      <td>1.420673</td>\n",
              "      <td>2.4</td>\n",
              "      <td>0.4</td>\n",
              "      <td>4.0</td>\n",
              "      <td>0.0</td>\n",
              "      <td>0.0</td>\n",
              "      <td>5.0</td>\n",
              "      <td>21.0</td>\n",
              "      <td>3.2</td>\n",
              "      <td>3.0</td>\n",
              "      <td>2.0</td>\n",
              "      <td>434.8</td>\n",
              "      <td>0.0</td>\n",
              "      <td>3.5</td>\n",
              "      <td>2.5</td>\n",
              "      <td>3.2</td>\n",
              "      <td>3.04872</td>\n",
              "      <td>4.2</td>\n",
              "      <td>3.4</td>\n",
              "      <td>4.03444</td>\n",
              "      <td>32.7</td>\n",
              "      <td>2</td>\n",
              "      <td>3.6</td>\n",
              "      <td>2.32376</td>\n",
              "      <td>13.0</td>\n",
              "      <td>6</td>\n",
              "      <td>28.6</td>\n",
              "      <td>33.4</td>\n",
              "      <td>-4.8</td>\n",
              "      <td>1.0</td>\n",
              "      <td>-25.0</td>\n",
              "      <td>20.2</td>\n",
              "      <td>2.9</td>\n",
              "      <td>0.0</td>\n",
              "      <td>0.0</td>\n",
              "      <td>0.0</td>\n",
              "      <td>1.0</td>\n",
              "      <td>0.0</td>\n",
              "      <td>0.0</td>\n",
              "      <td>1.9</td>\n",
              "      <td>2.637860</td>\n",
              "      <td>0.5</td>\n",
              "      <td>3.193091</td>\n",
              "    </tr>\n",
              "    <tr>\n",
              "      <th>6</th>\n",
              "      <td>132</td>\n",
              "      <td>FORT COLLINS, COLORADO</td>\n",
              "      <td>FORT COLLINS, CO</td>\n",
              "      <td>0.067</td>\n",
              "      <td>56.7</td>\n",
              "      <td>162511</td>\n",
              "      <td>0.126</td>\n",
              "      <td>50.1</td>\n",
              "      <td>2.5</td>\n",
              "      <td>0.166</td>\n",
              "      <td>2.8</td>\n",
              "      <td>3.0</td>\n",
              "      <td>2.720931</td>\n",
              "      <td>8.4</td>\n",
              "      <td>0.5</td>\n",
              "      <td>3.0</td>\n",
              "      <td>0.4</td>\n",
              "      <td>0.8</td>\n",
              "      <td>4.0</td>\n",
              "      <td>30.5</td>\n",
              "      <td>1.9</td>\n",
              "      <td>4.0</td>\n",
              "      <td>8.0</td>\n",
              "      <td>15.7</td>\n",
              "      <td>4.0</td>\n",
              "      <td>3.5</td>\n",
              "      <td>4.0</td>\n",
              "      <td>3.3</td>\n",
              "      <td>3.65560</td>\n",
              "      <td>1.6</td>\n",
              "      <td>3.8</td>\n",
              "      <td>2.00260</td>\n",
              "      <td>54.9</td>\n",
              "      <td>3</td>\n",
              "      <td>3.8</td>\n",
              "      <td>3.16506</td>\n",
              "      <td>7.3</td>\n",
              "      <td>8</td>\n",
              "      <td>51.3</td>\n",
              "      <td>42.1</td>\n",
              "      <td>9.2</td>\n",
              "      <td>1.0</td>\n",
              "      <td>-25.0</td>\n",
              "      <td>34.2</td>\n",
              "      <td>1.4</td>\n",
              "      <td>0.1</td>\n",
              "      <td>0.1</td>\n",
              "      <td>0.0</td>\n",
              "      <td>3.0</td>\n",
              "      <td>-0.6</td>\n",
              "      <td>0.6</td>\n",
              "      <td>3.1</td>\n",
              "      <td>1.812395</td>\n",
              "      <td>0.5</td>\n",
              "      <td>3.171317</td>\n",
              "    </tr>\n",
              "    <tr>\n",
              "      <th>7</th>\n",
              "      <td>101</td>\n",
              "      <td>DENVER, COLORADO</td>\n",
              "      <td>DENVER, CO</td>\n",
              "      <td>0.029</td>\n",
              "      <td>153.3</td>\n",
              "      <td>693417</td>\n",
              "      <td>0.064</td>\n",
              "      <td>37.2</td>\n",
              "      <td>1.9</td>\n",
              "      <td>0.223</td>\n",
              "      <td>3.7</td>\n",
              "      <td>3.0</td>\n",
              "      <td>2.822340</td>\n",
              "      <td>51.2</td>\n",
              "      <td>0.7</td>\n",
              "      <td>3.0</td>\n",
              "      <td>3.2</td>\n",
              "      <td>3.6</td>\n",
              "      <td>4.0</td>\n",
              "      <td>535.5</td>\n",
              "      <td>7.7</td>\n",
              "      <td>1.0</td>\n",
              "      <td>34.5</td>\n",
              "      <td>39.0</td>\n",
              "      <td>3.0</td>\n",
              "      <td>2.0</td>\n",
              "      <td>3.5</td>\n",
              "      <td>2.4</td>\n",
              "      <td>2.68318</td>\n",
              "      <td>3.3</td>\n",
              "      <td>3.0</td>\n",
              "      <td>3.23406</td>\n",
              "      <td>36.6</td>\n",
              "      <td>2</td>\n",
              "      <td>3.2</td>\n",
              "      <td>2.24832</td>\n",
              "      <td>18.6</td>\n",
              "      <td>111</td>\n",
              "      <td>35.9</td>\n",
              "      <td>32.4</td>\n",
              "      <td>3.5</td>\n",
              "      <td>1.0</td>\n",
              "      <td>-25.0</td>\n",
              "      <td>28.5</td>\n",
              "      <td>2.0</td>\n",
              "      <td>0.0</td>\n",
              "      <td>0.0</td>\n",
              "      <td>0.0</td>\n",
              "      <td>3.0</td>\n",
              "      <td>-0.6</td>\n",
              "      <td>0.6</td>\n",
              "      <td>3.1</td>\n",
              "      <td>2.265968</td>\n",
              "      <td>0.5</td>\n",
              "      <td>3.150774</td>\n",
              "    </tr>\n",
              "    <tr>\n",
              "      <th>8</th>\n",
              "      <td>2062</td>\n",
              "      <td>GRAND FORKS, NORTH DAKOTA</td>\n",
              "      <td>GRAND FORKS, ND</td>\n",
              "      <td>0.014</td>\n",
              "      <td>27.2</td>\n",
              "      <td>56556</td>\n",
              "      <td>0.208</td>\n",
              "      <td>6.3</td>\n",
              "      <td>0.3</td>\n",
              "      <td>0.172</td>\n",
              "      <td>2.9</td>\n",
              "      <td>2.4</td>\n",
              "      <td>1.745181</td>\n",
              "      <td>1.6</td>\n",
              "      <td>0.3</td>\n",
              "      <td>4.0</td>\n",
              "      <td>0.0</td>\n",
              "      <td>0.0</td>\n",
              "      <td>5.0</td>\n",
              "      <td>11.0</td>\n",
              "      <td>1.9</td>\n",
              "      <td>3.0</td>\n",
              "      <td>0.5</td>\n",
              "      <td>12.7</td>\n",
              "      <td>4.0</td>\n",
              "      <td>3.5</td>\n",
              "      <td>4.5</td>\n",
              "      <td>3.0</td>\n",
              "      <td>3.79228</td>\n",
              "      <td>2.1</td>\n",
              "      <td>2.1</td>\n",
              "      <td>2.06044</td>\n",
              "      <td>61.3</td>\n",
              "      <td>4</td>\n",
              "      <td>2.5</td>\n",
              "      <td>3.69718</td>\n",
              "      <td>6.7</td>\n",
              "      <td>3</td>\n",
              "      <td>61.8</td>\n",
              "      <td>54.1</td>\n",
              "      <td>7.7</td>\n",
              "      <td>1.0</td>\n",
              "      <td>-25.0</td>\n",
              "      <td>32.7</td>\n",
              "      <td>1.6</td>\n",
              "      <td>0.0</td>\n",
              "      <td>0.0</td>\n",
              "      <td>0.0</td>\n",
              "      <td>3.0</td>\n",
              "      <td>-0.6</td>\n",
              "      <td>0.6</td>\n",
              "      <td>3.1</td>\n",
              "      <td>1.947318</td>\n",
              "      <td>0.5</td>\n",
              "      <td>3.148480</td>\n",
              "    </tr>\n",
              "    <tr>\n",
              "      <th>9</th>\n",
              "      <td>126</td>\n",
              "      <td>FAYETTEVILLE, ARKANSAS</td>\n",
              "      <td>FAYETTEVILLE, AR</td>\n",
              "      <td>0.013</td>\n",
              "      <td>54.0</td>\n",
              "      <td>83736</td>\n",
              "      <td>0.126</td>\n",
              "      <td>9.6</td>\n",
              "      <td>0.5</td>\n",
              "      <td>0.153</td>\n",
              "      <td>2.5</td>\n",
              "      <td>2.6</td>\n",
              "      <td>1.735982</td>\n",
              "      <td>5.2</td>\n",
              "      <td>0.6</td>\n",
              "      <td>3.0</td>\n",
              "      <td>0.0</td>\n",
              "      <td>0.0</td>\n",
              "      <td>5.0</td>\n",
              "      <td>NaN</td>\n",
              "      <td>NaN</td>\n",
              "      <td>NaN</td>\n",
              "      <td>3.5</td>\n",
              "      <td>70.4</td>\n",
              "      <td>2.0</td>\n",
              "      <td>1.5</td>\n",
              "      <td>3.5</td>\n",
              "      <td>3.2</td>\n",
              "      <td>2.64624</td>\n",
              "      <td>4.9</td>\n",
              "      <td>3.8</td>\n",
              "      <td>4.63192</td>\n",
              "      <td>39.0</td>\n",
              "      <td>2</td>\n",
              "      <td>3.8</td>\n",
              "      <td>2.35232</td>\n",
              "      <td>12.5</td>\n",
              "      <td>7</td>\n",
              "      <td>33.8</td>\n",
              "      <td>24.2</td>\n",
              "      <td>9.5</td>\n",
              "      <td>1.0</td>\n",
              "      <td>-25.0</td>\n",
              "      <td>34.5</td>\n",
              "      <td>1.4</td>\n",
              "      <td>0.0</td>\n",
              "      <td>0.0</td>\n",
              "      <td>0.0</td>\n",
              "      <td>3.0</td>\n",
              "      <td>-0.6</td>\n",
              "      <td>0.6</td>\n",
              "      <td>3.1</td>\n",
              "      <td>1.798655</td>\n",
              "      <td>0.5</td>\n",
              "      <td>3.133023</td>\n",
              "    </tr>\n",
              "  </tbody>\n",
              "</table>\n",
              "</div>"
            ],
            "text/plain": [
              "   Places_ID_2020                              City  ... Bonus  Points with bonus\n",
              "0             487       SAN LUIS OBISPO, CALIFORNIA  ...   0.5           3.544765\n",
              "1             215                MADISON, WISCONSIN  ...   0.5           3.510025\n",
              "2             337         SANTA BARBARA, CALIFORNIA  ...   0.5           3.259336\n",
              "3             402  WASHINGTON, DISTRICT OF COLUMBIA  ...   0.5           3.242599\n",
              "4             235                 MISSOULA, MONTANA  ...   0.5           3.208574\n",
              "5             629                  ROGERS, ARKANSAS  ...   0.5           3.193091\n",
              "6             132            FORT COLLINS, COLORADO  ...   0.5           3.171317\n",
              "7             101                  DENVER, COLORADO  ...   0.5           3.150774\n",
              "8            2062         GRAND FORKS, NORTH DAKOTA  ...   0.5           3.148480\n",
              "9             126            FAYETTEVILLE, ARKANSAS  ...   0.5           3.133023\n",
              "\n",
              "[10 rows x 55 columns]"
            ]
          },
          "metadata": {
            "tags": []
          },
          "execution_count": 5
        }
      ]
    },
    {
      "cell_type": "markdown",
      "metadata": {
        "id": "WwhhUQEG8doO"
      },
      "source": [
        "I will use the addresses of the city hall's for each city to serve as the geospatial center for which we can find the coordinates."
      ]
    },
    {
      "cell_type": "code",
      "metadata": {
        "id": "Ph44F4gW8clg"
      },
      "source": [
        "san_luis = '990 Palm St, San Luis Obispo, CA 93401'\r\n",
        "madison = '2120 Fish Hatchery Rd, Madison, WI 53713'\r\n",
        "santa_barbara = '735 Anacapa St, Santa Barbara, CA 93101'\r\n",
        "dc = 'First St SE, Washington, DC 20004'\r\n",
        "missoula = '435 Ryman St, Missoula, MT 59802'\r\n",
        "rogers = '301 W Chestnut St, Rogers, AR 72756'\r\n",
        "ft_collins = '300 Laporte Ave, Fort Collins, CO 80521'\r\n",
        "denver = '1437 Bannock St, Denver, CO 80202'\r\n",
        "grand_forks = '255 N 4th St, Grand Forks, ND 58203'\r\n",
        "fayetteville = '113 W Mountain St, Fayetteville, AR 72701'"
      ],
      "execution_count": 6,
      "outputs": []
    },
    {
      "cell_type": "markdown",
      "metadata": {
        "id": "f3-kietjEjJI"
      },
      "source": [
        "### Using Foursquare"
      ]
    },
    {
      "cell_type": "markdown",
      "metadata": {
        "id": "Y-U_f4BP40iT"
      },
      "source": [
        "Using my personalized token, I accessed Foursquare's API making queries into what kind of venues were close to the city halls of these cities. In doing so, I hoped to see if there was any kind of trend that could found in the areas that have high bike riding scores."
      ]
    },
    {
      "cell_type": "code",
      "metadata": {
        "colab": {
          "base_uri": "https://localhost:8080/"
        },
        "id": "3gSrCrU13sEK",
        "outputId": "42c46693-c821-4823-bc7e-5d94f9fc4ce3"
      },
      "source": [
        "CLIENT_ID = 'AA5IFTXJZJCQ023SACSUMAGZ11WYQ1TWHRRMF0JLQBJAY3PC'\r\n",
        "CLIENT_SECRET = 'FGJSLALMRKIDXQKL4HT5KQJSEXUDFOETQSC3B04UHGMY5ZNP'\r\n",
        "ACCESS_TOKEN = 'ALDECKAYHJJ52RBIX0CCOHA3BSSEU5VPXGA1PTEVRXJTX0GF'\r\n",
        "VERSION = '20210304' #Date of query\r\n",
        "LIMIT = 30\r\n",
        "CODE = 'J5K1MCNFFHAY4YP3LPZHQOY4D400AKRCZOE3R1CH5O4HBGT2#_=_'\r\n",
        "print('Your credentails:')\r\n",
        "print('CLIENT_ID: ' + CLIENT_ID)\r\n",
        "print('CLIENT_SECRET:' + CLIENT_SECRET)"
      ],
      "execution_count": 7,
      "outputs": [
        {
          "output_type": "stream",
          "text": [
            "Your credentails:\n",
            "CLIENT_ID: AA5IFTXJZJCQ023SACSUMAGZ11WYQ1TWHRRMF0JLQBJAY3PC\n",
            "CLIENT_SECRET:FGJSLALMRKIDXQKL4HT5KQJSEXUDFOETQSC3B04UHGMY5ZNP\n"
          ],
          "name": "stdout"
        }
      ]
    },
    {
      "cell_type": "markdown",
      "metadata": {
        "id": "yEj4CoYb-iFV"
      },
      "source": [
        "#### San Luis Obispo"
      ]
    },
    {
      "cell_type": "code",
      "metadata": {
        "colab": {
          "base_uri": "https://localhost:8080/",
          "height": 327
        },
        "id": "Ef5AJtkFMdJ_",
        "outputId": "06948fbe-d151-422a-f7a6-6a02f78f60e7"
      },
      "source": [
        "# Project to automate the process below into a single executable function.\r\n",
        "\r\n",
        "def foursquare_api(city):\r\n",
        "  address = city\r\n",
        "\r\n",
        "  geolocator = Nominatim(user_agent=\"foursquare_agent\")\r\n",
        "  location = geolocator.geocode(address)\r\n",
        "  latitude = location.latitude\r\n",
        "  longitude = location.longitude\r\n",
        "\r\n",
        "  LIMIT = 500\r\n",
        "  radius = 2000\r\n",
        "  url = 'https://api.foursquare.com/v2/venues/explore?&client_id={}&client_secret={}&v={}&ll={},{}&radius={}&limit={}'.format(\r\n",
        "    CLIENT_ID, \r\n",
        "    CLIENT_SECRET, \r\n",
        "    VERSION, \r\n",
        "    latitude, \r\n",
        "    longitude, \r\n",
        "    radius, \r\n",
        "    LIMIT)\r\n",
        "  \r\n",
        "  results = requests.get(url).json()\r\n",
        "\r\n",
        "  def get_category_type(row):\r\n",
        "    try:\r\n",
        "        categories_list = row['categories']\r\n",
        "    except:\r\n",
        "        categories_list = row['venue.categories']\r\n",
        "        \r\n",
        "    if len(categories_list) == 0:\r\n",
        "        return None\r\n",
        "    else:\r\n",
        "        return categories_list[0]['name']\r\n",
        "\r\n",
        "  venues = results['response']['groups'][0]['items']\r\n",
        "    \r\n",
        "  nearby_venues = json_normalize(venues)\r\n",
        "\r\n",
        "  filtered_columns = ['venue.name', 'venue.categories', 'venue.location.lat', 'venue.location.lng']\r\n",
        "  nearby_venues =nearby_venues.loc[:, filtered_columns]\r\n",
        "\r\n",
        "  nearby_venues['venue.categories'] = nearby_venues.apply(get_category_type, axis=1)\r\n",
        "\r\n",
        "  nearby_venues.columns = [col.split(\".\")[-1] for col in nearby_venues.columns]\r\n",
        "  city_venues = nearby_venues\r\n",
        "  return city_venues.head()\r\n",
        "\r\n",
        "foursquare_api(san_luis)"
      ],
      "execution_count": 92,
      "outputs": [
        {
          "output_type": "error",
          "ename": "AttributeError",
          "evalue": "ignored",
          "traceback": [
            "\u001b[0;31m---------------------------------------------------------------------------\u001b[0m",
            "\u001b[0;31mAttributeError\u001b[0m                            Traceback (most recent call last)",
            "\u001b[0;32m<ipython-input-92-f28e3426a9c0>\u001b[0m in \u001b[0;36m<module>\u001b[0;34m()\u001b[0m\n\u001b[1;32m     46\u001b[0m   \u001b[0;32mreturn\u001b[0m \u001b[0mcity_venues\u001b[0m\u001b[0;34m.\u001b[0m\u001b[0mhead\u001b[0m\u001b[0;34m(\u001b[0m\u001b[0;34m)\u001b[0m\u001b[0;34m\u001b[0m\u001b[0;34m\u001b[0m\u001b[0m\n\u001b[1;32m     47\u001b[0m \u001b[0;34m\u001b[0m\u001b[0m\n\u001b[0;32m---> 48\u001b[0;31m \u001b[0mfoursquare_api\u001b[0m\u001b[0;34m(\u001b[0m\u001b[0msan_luis\u001b[0m\u001b[0;34m)\u001b[0m\u001b[0;34m\u001b[0m\u001b[0;34m\u001b[0m\u001b[0m\n\u001b[0m",
            "\u001b[0;32m<ipython-input-92-f28e3426a9c0>\u001b[0m in \u001b[0;36mfoursquare_api\u001b[0;34m(city)\u001b[0m\n\u001b[1;32m      6\u001b[0m   \u001b[0mgeolocator\u001b[0m \u001b[0;34m=\u001b[0m \u001b[0mNominatim\u001b[0m\u001b[0;34m(\u001b[0m\u001b[0muser_agent\u001b[0m\u001b[0;34m=\u001b[0m\u001b[0;34m\"foursquare_agent\"\u001b[0m\u001b[0;34m)\u001b[0m\u001b[0;34m\u001b[0m\u001b[0;34m\u001b[0m\u001b[0m\n\u001b[1;32m      7\u001b[0m   \u001b[0mlocation\u001b[0m \u001b[0;34m=\u001b[0m \u001b[0mgeolocator\u001b[0m\u001b[0;34m.\u001b[0m\u001b[0mgeocode\u001b[0m\u001b[0;34m(\u001b[0m\u001b[0maddress\u001b[0m\u001b[0;34m)\u001b[0m\u001b[0;34m\u001b[0m\u001b[0;34m\u001b[0m\u001b[0m\n\u001b[0;32m----> 8\u001b[0;31m   \u001b[0mlatitude\u001b[0m \u001b[0;34m=\u001b[0m \u001b[0mlocation\u001b[0m\u001b[0;34m.\u001b[0m\u001b[0mlatitude\u001b[0m\u001b[0;34m\u001b[0m\u001b[0;34m\u001b[0m\u001b[0m\n\u001b[0m\u001b[1;32m      9\u001b[0m   \u001b[0mlongitude\u001b[0m \u001b[0;34m=\u001b[0m \u001b[0mlocation\u001b[0m\u001b[0;34m.\u001b[0m\u001b[0mlongitude\u001b[0m\u001b[0;34m\u001b[0m\u001b[0;34m\u001b[0m\u001b[0m\n\u001b[1;32m     10\u001b[0m \u001b[0;34m\u001b[0m\u001b[0m\n",
            "\u001b[0;31mAttributeError\u001b[0m: 'NoneType' object has no attribute 'latitude'"
          ]
        }
      ]
    },
    {
      "cell_type": "code",
      "metadata": {
        "colab": {
          "base_uri": "https://localhost:8080/"
        },
        "id": "AFQwCFUE4DzB",
        "outputId": "a1f66785-de71-4af3-bce8-83ab8d762e7b"
      },
      "source": [
        "address = san_luis\r\n",
        "\r\n",
        "geolocator = Nominatim(user_agent=\"foursquare_agent\")\r\n",
        "location = geolocator.geocode(address)\r\n",
        "latitude = location.latitude\r\n",
        "longitude = location.longitude\r\n",
        "print(latitude, longitude)"
      ],
      "execution_count": 9,
      "outputs": [
        {
          "output_type": "stream",
          "text": [
            "35.28263142857143 -120.66234418367347\n"
          ],
          "name": "stdout"
        }
      ]
    },
    {
      "cell_type": "markdown",
      "metadata": {
        "id": "raxtLMInOyRQ"
      },
      "source": [
        "After retrieving the coordinates, I will use this information to use the Foursquare API and see what kinds of venues are nearby."
      ]
    },
    {
      "cell_type": "code",
      "metadata": {
        "colab": {
          "base_uri": "https://localhost:8080/",
          "height": 53
        },
        "id": "M_zYSi3c4GA5",
        "outputId": "21baafeb-d4d9-4499-e10c-2ae7eb047639"
      },
      "source": [
        "LIMIT = 500\r\n",
        "radius = 2000\r\n",
        "url = 'https://api.foursquare.com/v2/venues/explore?&client_id={}&client_secret={}&v={}&ll={},{}&radius={}&limit={}'.format(\r\n",
        "    CLIENT_ID, \r\n",
        "    CLIENT_SECRET, \r\n",
        "    VERSION, \r\n",
        "    latitude, \r\n",
        "    longitude, \r\n",
        "    radius, \r\n",
        "    LIMIT)\r\n",
        "url"
      ],
      "execution_count": 10,
      "outputs": [
        {
          "output_type": "execute_result",
          "data": {
            "application/vnd.google.colaboratory.intrinsic+json": {
              "type": "string"
            },
            "text/plain": [
              "'https://api.foursquare.com/v2/venues/explore?&client_id=AA5IFTXJZJCQ023SACSUMAGZ11WYQ1TWHRRMF0JLQBJAY3PC&client_secret=FGJSLALMRKIDXQKL4HT5KQJSEXUDFOETQSC3B04UHGMY5ZNP&v=20210304&ll=35.28263142857143,-120.66234418367347&radius=2000&limit=500'"
            ]
          },
          "metadata": {
            "tags": []
          },
          "execution_count": 10
        }
      ]
    },
    {
      "cell_type": "code",
      "metadata": {
        "id": "b8xSZdFv4N9a"
      },
      "source": [
        "results = requests.get(url).json()"
      ],
      "execution_count": 11,
      "outputs": []
    },
    {
      "cell_type": "markdown",
      "metadata": {
        "id": "sIVrKyNTO7A9"
      },
      "source": [
        "The next code cells show how I can organize the data so the relevant information is quickly accessible."
      ]
    },
    {
      "cell_type": "code",
      "metadata": {
        "id": "ANG0i9m64Ta5"
      },
      "source": [
        "def get_category_type(row):\r\n",
        "    try:\r\n",
        "        categories_list = row['categories']\r\n",
        "    except:\r\n",
        "        categories_list = row['venue.categories']\r\n",
        "        \r\n",
        "    if len(categories_list) == 0:\r\n",
        "        return None\r\n",
        "    else:\r\n",
        "        return categories_list[0]['name']"
      ],
      "execution_count": 12,
      "outputs": []
    },
    {
      "cell_type": "code",
      "metadata": {
        "colab": {
          "base_uri": "https://localhost:8080/",
          "height": 233
        },
        "id": "tgQEvSHV9nru",
        "outputId": "82c98342-aaf6-4e62-dc22-fecb7667cae5"
      },
      "source": [
        "venues = results['response']['groups'][0]['items']\r\n",
        "    \r\n",
        "nearby_venues = json_normalize(venues)\r\n",
        "\r\n",
        "filtered_columns = ['venue.name', 'venue.categories', 'venue.location.lat', 'venue.location.lng']\r\n",
        "nearby_venues =nearby_venues.loc[:, filtered_columns]\r\n",
        "\r\n",
        "nearby_venues['venue.categories'] = nearby_venues.apply(get_category_type, axis=1)\r\n",
        "\r\n",
        "nearby_venues.columns = [col.split(\".\")[-1] for col in nearby_venues.columns]\r\n",
        "san_luis_venues = nearby_venues\r\n",
        "san_luis_venues.head()"
      ],
      "execution_count": 13,
      "outputs": [
        {
          "output_type": "stream",
          "text": [
            "/usr/local/lib/python3.7/dist-packages/ipykernel_launcher.py:3: FutureWarning: pandas.io.json.json_normalize is deprecated, use pandas.json_normalize instead\n",
            "  This is separate from the ipykernel package so we can avoid doing imports until\n"
          ],
          "name": "stderr"
        },
        {
          "output_type": "execute_result",
          "data": {
            "text/html": [
              "<div>\n",
              "<style scoped>\n",
              "    .dataframe tbody tr th:only-of-type {\n",
              "        vertical-align: middle;\n",
              "    }\n",
              "\n",
              "    .dataframe tbody tr th {\n",
              "        vertical-align: top;\n",
              "    }\n",
              "\n",
              "    .dataframe thead th {\n",
              "        text-align: right;\n",
              "    }\n",
              "</style>\n",
              "<table border=\"1\" class=\"dataframe\">\n",
              "  <thead>\n",
              "    <tr style=\"text-align: right;\">\n",
              "      <th></th>\n",
              "      <th>name</th>\n",
              "      <th>categories</th>\n",
              "      <th>lat</th>\n",
              "      <th>lng</th>\n",
              "    </tr>\n",
              "  </thead>\n",
              "  <tbody>\n",
              "    <tr>\n",
              "      <th>0</th>\n",
              "      <td>Firestone Grill</td>\n",
              "      <td>BBQ Joint</td>\n",
              "      <td>35.281176</td>\n",
              "      <td>-120.660420</td>\n",
              "    </tr>\n",
              "    <tr>\n",
              "      <th>1</th>\n",
              "      <td>Louisa's Place</td>\n",
              "      <td>Breakfast Spot</td>\n",
              "      <td>35.280863</td>\n",
              "      <td>-120.661680</td>\n",
              "    </tr>\n",
              "    <tr>\n",
              "      <th>2</th>\n",
              "      <td>Scout Coffee Co.</td>\n",
              "      <td>Coffee Shop</td>\n",
              "      <td>35.278963</td>\n",
              "      <td>-120.662836</td>\n",
              "    </tr>\n",
              "    <tr>\n",
              "      <th>3</th>\n",
              "      <td>BarrelHouse Brewing SLO - Taproom</td>\n",
              "      <td>Brewery</td>\n",
              "      <td>35.280131</td>\n",
              "      <td>-120.663279</td>\n",
              "    </tr>\n",
              "    <tr>\n",
              "      <th>4</th>\n",
              "      <td>San Luis Obispo Farmers' Market</td>\n",
              "      <td>Farmers Market</td>\n",
              "      <td>35.279390</td>\n",
              "      <td>-120.663637</td>\n",
              "    </tr>\n",
              "  </tbody>\n",
              "</table>\n",
              "</div>"
            ],
            "text/plain": [
              "                                name      categories        lat         lng\n",
              "0                    Firestone Grill       BBQ Joint  35.281176 -120.660420\n",
              "1                     Louisa's Place  Breakfast Spot  35.280863 -120.661680\n",
              "2                   Scout Coffee Co.     Coffee Shop  35.278963 -120.662836\n",
              "3  BarrelHouse Brewing SLO - Taproom         Brewery  35.280131 -120.663279\n",
              "4    San Luis Obispo Farmers' Market  Farmers Market  35.279390 -120.663637"
            ]
          },
          "metadata": {
            "tags": []
          },
          "execution_count": 13
        }
      ]
    },
    {
      "cell_type": "code",
      "metadata": {
        "colab": {
          "base_uri": "https://localhost:8080/"
        },
        "id": "DHxP_LiRZMOh",
        "outputId": "8b5c4cb1-3bb1-48e5-cd94-a9829579e5dd"
      },
      "source": [
        "san_luis_categories = san_luis_venues['categories'].value_counts()\r\n",
        "san_luis_categories.head()"
      ],
      "execution_count": 14,
      "outputs": [
        {
          "output_type": "execute_result",
          "data": {
            "text/plain": [
              "Sandwich Place        6\n",
              "Coffee Shop           5\n",
              "Italian Restaurant    4\n",
              "Brewery               4\n",
              "Pizza Place           4\n",
              "Name: categories, dtype: int64"
            ]
          },
          "metadata": {
            "tags": []
          },
          "execution_count": 14
        }
      ]
    },
    {
      "cell_type": "markdown",
      "metadata": {
        "id": "Ggg36o9jOpVd"
      },
      "source": [
        "Now that I have created a code block for finding venues near the center of the city, I will repeat this process for the next nine cities."
      ]
    },
    {
      "cell_type": "markdown",
      "metadata": {
        "id": "sIxbu3WR-nJz"
      },
      "source": [
        "#### Madison"
      ]
    },
    {
      "cell_type": "code",
      "metadata": {
        "colab": {
          "base_uri": "https://localhost:8080/"
        },
        "id": "bxUZRaSP9gmY",
        "outputId": "8150c5d4-04d2-499d-bca2-1381adf279ff"
      },
      "source": [
        "address = madison\r\n",
        "\r\n",
        "geolocator = Nominatim(user_agent=\"foursquare_agent\")\r\n",
        "location = geolocator.geocode(address)\r\n",
        "latitude = location.latitude\r\n",
        "longitude = location.longitude\r\n",
        "print(latitude, longitude)"
      ],
      "execution_count": 15,
      "outputs": [
        {
          "output_type": "stream",
          "text": [
            "43.04292418483257 -89.40407878799554\n"
          ],
          "name": "stdout"
        }
      ]
    },
    {
      "cell_type": "code",
      "metadata": {
        "colab": {
          "base_uri": "https://localhost:8080/",
          "height": 53
        },
        "id": "msSerKUd9lmI",
        "outputId": "a32e7190-ffdf-4853-97b6-1ef94263df99"
      },
      "source": [
        "LIMIT = 500\r\n",
        "radius = 2000\r\n",
        "url = 'https://api.foursquare.com/v2/venues/explore?&client_id={}&client_secret={}&v={}&ll={},{}&radius={}&limit={}'.format(\r\n",
        "    CLIENT_ID, \r\n",
        "    CLIENT_SECRET, \r\n",
        "    VERSION, \r\n",
        "    latitude, \r\n",
        "    longitude, \r\n",
        "    radius, \r\n",
        "    LIMIT)\r\n",
        "url"
      ],
      "execution_count": 16,
      "outputs": [
        {
          "output_type": "execute_result",
          "data": {
            "application/vnd.google.colaboratory.intrinsic+json": {
              "type": "string"
            },
            "text/plain": [
              "'https://api.foursquare.com/v2/venues/explore?&client_id=AA5IFTXJZJCQ023SACSUMAGZ11WYQ1TWHRRMF0JLQBJAY3PC&client_secret=FGJSLALMRKIDXQKL4HT5KQJSEXUDFOETQSC3B04UHGMY5ZNP&v=20210304&ll=43.04292418483257,-89.40407878799554&radius=2000&limit=500'"
            ]
          },
          "metadata": {
            "tags": []
          },
          "execution_count": 16
        }
      ]
    },
    {
      "cell_type": "code",
      "metadata": {
        "id": "oc72lBJi9nd1"
      },
      "source": [
        "results = requests.get(url).json()"
      ],
      "execution_count": 17,
      "outputs": []
    },
    {
      "cell_type": "code",
      "metadata": {
        "id": "AwdgXiMn9pXF"
      },
      "source": [
        "def get_category_type(row):\r\n",
        "    try:\r\n",
        "        categories_list = row['categories']\r\n",
        "    except:\r\n",
        "        categories_list = row['venue.categories']\r\n",
        "        \r\n",
        "    if len(categories_list) == 0:\r\n",
        "        return None\r\n",
        "    else:\r\n",
        "        return categories_list[0]['name']"
      ],
      "execution_count": 18,
      "outputs": []
    },
    {
      "cell_type": "code",
      "metadata": {
        "colab": {
          "base_uri": "https://localhost:8080/",
          "height": 233
        },
        "id": "DeGG4T1W9qAF",
        "outputId": "4c8dea2a-07be-4ba7-b12b-02ddff29981d"
      },
      "source": [
        "venues = results['response']['groups'][0]['items']\r\n",
        "    \r\n",
        "nearby_venues = json_normalize(venues)\r\n",
        "\r\n",
        "filtered_columns = ['venue.name', 'venue.categories', 'venue.location.lat', 'venue.location.lng']\r\n",
        "nearby_venues =nearby_venues.loc[:, filtered_columns]\r\n",
        "\r\n",
        "nearby_venues['venue.categories'] = nearby_venues.apply(get_category_type, axis=1)\r\n",
        "\r\n",
        "nearby_venues.columns = [col.split(\".\")[-1] for col in nearby_venues.columns]\r\n",
        "madison_venues = nearby_venues\r\n",
        "madison_venues.head()"
      ],
      "execution_count": 19,
      "outputs": [
        {
          "output_type": "stream",
          "text": [
            "/usr/local/lib/python3.7/dist-packages/ipykernel_launcher.py:3: FutureWarning: pandas.io.json.json_normalize is deprecated, use pandas.json_normalize instead\n",
            "  This is separate from the ipykernel package so we can avoid doing imports until\n"
          ],
          "name": "stderr"
        },
        {
          "output_type": "execute_result",
          "data": {
            "text/html": [
              "<div>\n",
              "<style scoped>\n",
              "    .dataframe tbody tr th:only-of-type {\n",
              "        vertical-align: middle;\n",
              "    }\n",
              "\n",
              "    .dataframe tbody tr th {\n",
              "        vertical-align: top;\n",
              "    }\n",
              "\n",
              "    .dataframe thead th {\n",
              "        text-align: right;\n",
              "    }\n",
              "</style>\n",
              "<table border=\"1\" class=\"dataframe\">\n",
              "  <thead>\n",
              "    <tr style=\"text-align: right;\">\n",
              "      <th></th>\n",
              "      <th>name</th>\n",
              "      <th>categories</th>\n",
              "      <th>lat</th>\n",
              "      <th>lng</th>\n",
              "    </tr>\n",
              "  </thead>\n",
              "  <tbody>\n",
              "    <tr>\n",
              "      <th>0</th>\n",
              "      <td>KWIK TRIP #531</td>\n",
              "      <td>Convenience Store</td>\n",
              "      <td>43.036830</td>\n",
              "      <td>-89.404930</td>\n",
              "    </tr>\n",
              "    <tr>\n",
              "      <th>1</th>\n",
              "      <td>El Pastor Restaurant And Bar</td>\n",
              "      <td>Mexican Restaurant</td>\n",
              "      <td>43.043956</td>\n",
              "      <td>-89.394384</td>\n",
              "    </tr>\n",
              "    <tr>\n",
              "      <th>2</th>\n",
              "      <td>Lane's Bakery &amp; Coffee</td>\n",
              "      <td>Bakery</td>\n",
              "      <td>43.040666</td>\n",
              "      <td>-89.395176</td>\n",
              "    </tr>\n",
              "    <tr>\n",
              "      <th>3</th>\n",
              "      <td>Taquería Guadalajara</td>\n",
              "      <td>Mexican Restaurant</td>\n",
              "      <td>43.055595</td>\n",
              "      <td>-89.397383</td>\n",
              "    </tr>\n",
              "    <tr>\n",
              "      <th>4</th>\n",
              "      <td>Five Nightclub &amp; Showbar</td>\n",
              "      <td>Gay Bar</td>\n",
              "      <td>43.032618</td>\n",
              "      <td>-89.407168</td>\n",
              "    </tr>\n",
              "  </tbody>\n",
              "</table>\n",
              "</div>"
            ],
            "text/plain": [
              "                           name          categories        lat        lng\n",
              "0                KWIK TRIP #531   Convenience Store  43.036830 -89.404930\n",
              "1  El Pastor Restaurant And Bar  Mexican Restaurant  43.043956 -89.394384\n",
              "2        Lane's Bakery & Coffee              Bakery  43.040666 -89.395176\n",
              "3          Taquería Guadalajara  Mexican Restaurant  43.055595 -89.397383\n",
              "4      Five Nightclub & Showbar             Gay Bar  43.032618 -89.407168"
            ]
          },
          "metadata": {
            "tags": []
          },
          "execution_count": 19
        }
      ]
    },
    {
      "cell_type": "code",
      "metadata": {
        "colab": {
          "base_uri": "https://localhost:8080/"
        },
        "id": "HMjwBE1MaSkY",
        "outputId": "834ca212-db44-4e0d-b513-4f3ee6a510c3"
      },
      "source": [
        "madison_categories = madison_venues['categories'].value_counts()\r\n",
        "madison_categories.head()"
      ],
      "execution_count": 20,
      "outputs": [
        {
          "output_type": "execute_result",
          "data": {
            "text/plain": [
              "Fast Food Restaurant      4\n",
              "Sandwich Place            4\n",
              "Chinese Restaurant        4\n",
              "Furniture / Home Store    4\n",
              "Gas Station               3\n",
              "Name: categories, dtype: int64"
            ]
          },
          "metadata": {
            "tags": []
          },
          "execution_count": 20
        }
      ]
    },
    {
      "cell_type": "markdown",
      "metadata": {
        "id": "ea6whOrQ-s6l"
      },
      "source": [
        "#### Santa Barbara"
      ]
    },
    {
      "cell_type": "code",
      "metadata": {
        "colab": {
          "base_uri": "https://localhost:8080/"
        },
        "id": "-QwVskVo8fIB",
        "outputId": "790bffab-b924-4d06-b126-defdce315333"
      },
      "source": [
        "address = santa_barbara\r\n",
        "\r\n",
        "geolocator = Nominatim(user_agent=\"foursquare_agent\")\r\n",
        "location = geolocator.geocode(address)\r\n",
        "latitude = location.latitude\r\n",
        "longitude = location.longitude\r\n",
        "print(latitude, longitude)"
      ],
      "execution_count": 21,
      "outputs": [
        {
          "output_type": "stream",
          "text": [
            "34.420073714285714 -119.6975069387755\n"
          ],
          "name": "stdout"
        }
      ]
    },
    {
      "cell_type": "code",
      "metadata": {
        "colab": {
          "base_uri": "https://localhost:8080/",
          "height": 0
        },
        "id": "91sKR-B18jho",
        "outputId": "ac2c2626-7041-4bb0-e4fb-6af289785430"
      },
      "source": [
        "LIMIT = 500\r\n",
        "radius = 2000\r\n",
        "url = 'https://api.foursquare.com/v2/venues/explore?&client_id={}&client_secret={}&v={}&ll={},{}&radius={}&limit={}'.format(\r\n",
        "    CLIENT_ID, \r\n",
        "    CLIENT_SECRET, \r\n",
        "    VERSION, \r\n",
        "    latitude, \r\n",
        "    longitude, \r\n",
        "    radius, \r\n",
        "    LIMIT)\r\n",
        "url"
      ],
      "execution_count": 22,
      "outputs": [
        {
          "output_type": "execute_result",
          "data": {
            "application/vnd.google.colaboratory.intrinsic+json": {
              "type": "string"
            },
            "text/plain": [
              "'https://api.foursquare.com/v2/venues/explore?&client_id=AA5IFTXJZJCQ023SACSUMAGZ11WYQ1TWHRRMF0JLQBJAY3PC&client_secret=FGJSLALMRKIDXQKL4HT5KQJSEXUDFOETQSC3B04UHGMY5ZNP&v=20210304&ll=34.420073714285714,-119.6975069387755&radius=2000&limit=500'"
            ]
          },
          "metadata": {
            "tags": []
          },
          "execution_count": 22
        }
      ]
    },
    {
      "cell_type": "code",
      "metadata": {
        "id": "rSiQ4Xgg8lvx"
      },
      "source": [
        "results = requests.get(url).json()"
      ],
      "execution_count": 23,
      "outputs": []
    },
    {
      "cell_type": "code",
      "metadata": {
        "id": "HW1jnYdA8ode"
      },
      "source": [
        "def get_category_type(row):\r\n",
        "    try:\r\n",
        "        categories_list = row['categories']\r\n",
        "    except:\r\n",
        "        categories_list = row['venue.categories']\r\n",
        "        \r\n",
        "    if len(categories_list) == 0:\r\n",
        "        return None\r\n",
        "    else:\r\n",
        "        return categories_list[0]['name']"
      ],
      "execution_count": 24,
      "outputs": []
    },
    {
      "cell_type": "code",
      "metadata": {
        "colab": {
          "base_uri": "https://localhost:8080/",
          "height": 0
        },
        "id": "MvLySeYX8qid",
        "outputId": "d7bd07ea-1fa9-47e1-f406-239dc7b2eac4"
      },
      "source": [
        "venues = results['response']['groups'][0]['items']\r\n",
        "    \r\n",
        "nearby_venues = json_normalize(venues)\r\n",
        "\r\n",
        "filtered_columns = ['venue.name', 'venue.categories', 'venue.location.lat', 'venue.location.lng']\r\n",
        "nearby_venues =nearby_venues.loc[:, filtered_columns]\r\n",
        "\r\n",
        "nearby_venues['venue.categories'] = nearby_venues.apply(get_category_type, axis=1)\r\n",
        "\r\n",
        "nearby_venues.columns = [col.split(\".\")[-1] for col in nearby_venues.columns]\r\n",
        "santa_barbara_venues = nearby_venues\r\n",
        "santa_barbara_venues.head()"
      ],
      "execution_count": 25,
      "outputs": [
        {
          "output_type": "stream",
          "text": [
            "/usr/local/lib/python3.7/dist-packages/ipykernel_launcher.py:3: FutureWarning: pandas.io.json.json_normalize is deprecated, use pandas.json_normalize instead\n",
            "  This is separate from the ipykernel package so we can avoid doing imports until\n"
          ],
          "name": "stderr"
        },
        {
          "output_type": "execute_result",
          "data": {
            "text/html": [
              "<div>\n",
              "<style scoped>\n",
              "    .dataframe tbody tr th:only-of-type {\n",
              "        vertical-align: middle;\n",
              "    }\n",
              "\n",
              "    .dataframe tbody tr th {\n",
              "        vertical-align: top;\n",
              "    }\n",
              "\n",
              "    .dataframe thead th {\n",
              "        text-align: right;\n",
              "    }\n",
              "</style>\n",
              "<table border=\"1\" class=\"dataframe\">\n",
              "  <thead>\n",
              "    <tr style=\"text-align: right;\">\n",
              "      <th></th>\n",
              "      <th>name</th>\n",
              "      <th>categories</th>\n",
              "      <th>lat</th>\n",
              "      <th>lng</th>\n",
              "    </tr>\n",
              "  </thead>\n",
              "  <tbody>\n",
              "    <tr>\n",
              "      <th>0</th>\n",
              "      <td>McConnell's Fine Ice Creams</td>\n",
              "      <td>Ice Cream Shop</td>\n",
              "      <td>34.419388</td>\n",
              "      <td>-119.698888</td>\n",
              "    </tr>\n",
              "    <tr>\n",
              "      <th>1</th>\n",
              "      <td>Dune Coffee Roasters</td>\n",
              "      <td>Coffee Shop</td>\n",
              "      <td>34.418816</td>\n",
              "      <td>-119.695372</td>\n",
              "    </tr>\n",
              "    <tr>\n",
              "      <th>2</th>\n",
              "      <td>Handlebar Coffee</td>\n",
              "      <td>Coffee Shop</td>\n",
              "      <td>34.422274</td>\n",
              "      <td>-119.698528</td>\n",
              "    </tr>\n",
              "    <tr>\n",
              "      <th>3</th>\n",
              "      <td>Santa Barbara Certified Farmers Market</td>\n",
              "      <td>Farmers Market</td>\n",
              "      <td>34.419974</td>\n",
              "      <td>-119.695230</td>\n",
              "    </tr>\n",
              "    <tr>\n",
              "      <th>4</th>\n",
              "      <td>Blenders in the Grass</td>\n",
              "      <td>Juice Bar</td>\n",
              "      <td>34.419202</td>\n",
              "      <td>-119.698733</td>\n",
              "    </tr>\n",
              "  </tbody>\n",
              "</table>\n",
              "</div>"
            ],
            "text/plain": [
              "                                     name  ...         lng\n",
              "0             McConnell's Fine Ice Creams  ... -119.698888\n",
              "1                    Dune Coffee Roasters  ... -119.695372\n",
              "2                        Handlebar Coffee  ... -119.698528\n",
              "3  Santa Barbara Certified Farmers Market  ... -119.695230\n",
              "4                   Blenders in the Grass  ... -119.698733\n",
              "\n",
              "[5 rows x 4 columns]"
            ]
          },
          "metadata": {
            "tags": []
          },
          "execution_count": 25
        }
      ]
    },
    {
      "cell_type": "code",
      "metadata": {
        "colab": {
          "base_uri": "https://localhost:8080/"
        },
        "id": "RH_FLni4aZ9V",
        "outputId": "8baf2122-8be5-460e-baa0-94fb435fb14d"
      },
      "source": [
        "santa_barbara_categories = santa_barbara_venues['categories'].value_counts()\r\n",
        "santa_barbara_categories.head()"
      ],
      "execution_count": 26,
      "outputs": [
        {
          "output_type": "execute_result",
          "data": {
            "text/plain": [
              "Brewery                5\n",
              "Mexican Restaurant     5\n",
              "American Restaurant    4\n",
              "Bar                    4\n",
              "Coffee Shop            4\n",
              "Name: categories, dtype: int64"
            ]
          },
          "metadata": {
            "tags": []
          },
          "execution_count": 26
        }
      ]
    },
    {
      "cell_type": "markdown",
      "metadata": {
        "id": "xMWaHA9ofaSy"
      },
      "source": [
        "#### Washington DC"
      ]
    },
    {
      "cell_type": "code",
      "metadata": {
        "colab": {
          "base_uri": "https://localhost:8080/"
        },
        "id": "9xpg2ABzgUiY",
        "outputId": "708dee16-eaaf-44a6-ff8d-98ef4537df38"
      },
      "source": [
        "address = dc\r\n",
        "\r\n",
        "geolocator = Nominatim(user_agent=\"foursquare_agent\")\r\n",
        "location = geolocator.geocode(address)\r\n",
        "latitude = location.latitude\r\n",
        "longitude = location.longitude\r\n",
        "print(latitude, longitude)"
      ],
      "execution_count": 27,
      "outputs": [
        {
          "output_type": "stream",
          "text": [
            "38.8716329 -77.005766\n"
          ],
          "name": "stdout"
        }
      ]
    },
    {
      "cell_type": "code",
      "metadata": {
        "colab": {
          "base_uri": "https://localhost:8080/",
          "height": 0
        },
        "id": "lQQKGHG6gUsY",
        "outputId": "e6eaea0f-d31b-4764-c4ee-31a240cba4bb"
      },
      "source": [
        "LIMIT = 500\r\n",
        "radius = 2000\r\n",
        "url = 'https://api.foursquare.com/v2/venues/explore?&client_id={}&client_secret={}&v={}&ll={},{}&radius={}&limit={}'.format(\r\n",
        "    CLIENT_ID, \r\n",
        "    CLIENT_SECRET, \r\n",
        "    VERSION, \r\n",
        "    latitude, \r\n",
        "    longitude, \r\n",
        "    radius, \r\n",
        "    LIMIT)\r\n",
        "url"
      ],
      "execution_count": 28,
      "outputs": [
        {
          "output_type": "execute_result",
          "data": {
            "application/vnd.google.colaboratory.intrinsic+json": {
              "type": "string"
            },
            "text/plain": [
              "'https://api.foursquare.com/v2/venues/explore?&client_id=AA5IFTXJZJCQ023SACSUMAGZ11WYQ1TWHRRMF0JLQBJAY3PC&client_secret=FGJSLALMRKIDXQKL4HT5KQJSEXUDFOETQSC3B04UHGMY5ZNP&v=20210304&ll=38.8716329,-77.005766&radius=2000&limit=500'"
            ]
          },
          "metadata": {
            "tags": []
          },
          "execution_count": 28
        }
      ]
    },
    {
      "cell_type": "code",
      "metadata": {
        "id": "Fk1jPecKgU1f"
      },
      "source": [
        "results = requests.get(url).json()"
      ],
      "execution_count": 29,
      "outputs": []
    },
    {
      "cell_type": "code",
      "metadata": {
        "id": "tQT876j-gVAm"
      },
      "source": [
        "def get_category_type(row):\r\n",
        "    try:\r\n",
        "        categories_list = row['categories']\r\n",
        "    except:\r\n",
        "        categories_list = row['venue.categories']\r\n",
        "        \r\n",
        "    if len(categories_list) == 0:\r\n",
        "        return None\r\n",
        "    else:\r\n",
        "        return categories_list[0]['name']"
      ],
      "execution_count": 30,
      "outputs": []
    },
    {
      "cell_type": "code",
      "metadata": {
        "colab": {
          "base_uri": "https://localhost:8080/",
          "height": 0
        },
        "id": "3kleW0GDgVLI",
        "outputId": "11ca9bf7-21c5-4f90-c500-49eb52498230"
      },
      "source": [
        "venues = results['response']['groups'][0]['items']\r\n",
        "    \r\n",
        "nearby_venues = json_normalize(venues)\r\n",
        "\r\n",
        "filtered_columns = ['venue.name', 'venue.categories', 'venue.location.lat', 'venue.location.lng']\r\n",
        "nearby_venues =nearby_venues.loc[:, filtered_columns]\r\n",
        "\r\n",
        "nearby_venues['venue.categories'] = nearby_venues.apply(get_category_type, axis=1)\r\n",
        "\r\n",
        "nearby_venues.columns = [col.split(\".\")[-1] for col in nearby_venues.columns]\r\n",
        "dc_venues = nearby_venues\r\n",
        "dc_venues.head()"
      ],
      "execution_count": 31,
      "outputs": [
        {
          "output_type": "stream",
          "text": [
            "/usr/local/lib/python3.7/dist-packages/ipykernel_launcher.py:3: FutureWarning: pandas.io.json.json_normalize is deprecated, use pandas.json_normalize instead\n",
            "  This is separate from the ipykernel package so we can avoid doing imports until\n"
          ],
          "name": "stderr"
        },
        {
          "output_type": "execute_result",
          "data": {
            "text/html": [
              "<div>\n",
              "<style scoped>\n",
              "    .dataframe tbody tr th:only-of-type {\n",
              "        vertical-align: middle;\n",
              "    }\n",
              "\n",
              "    .dataframe tbody tr th {\n",
              "        vertical-align: top;\n",
              "    }\n",
              "\n",
              "    .dataframe thead th {\n",
              "        text-align: right;\n",
              "    }\n",
              "</style>\n",
              "<table border=\"1\" class=\"dataframe\">\n",
              "  <thead>\n",
              "    <tr style=\"text-align: right;\">\n",
              "      <th></th>\n",
              "      <th>name</th>\n",
              "      <th>categories</th>\n",
              "      <th>lat</th>\n",
              "      <th>lng</th>\n",
              "    </tr>\n",
              "  </thead>\n",
              "  <tbody>\n",
              "    <tr>\n",
              "      <th>0</th>\n",
              "      <td>The Yards Park</td>\n",
              "      <td>Park</td>\n",
              "      <td>38.873077</td>\n",
              "      <td>-77.001688</td>\n",
              "    </tr>\n",
              "    <tr>\n",
              "      <th>1</th>\n",
              "      <td>Nationals Park</td>\n",
              "      <td>Baseball Stadium</td>\n",
              "      <td>38.873261</td>\n",
              "      <td>-77.009679</td>\n",
              "    </tr>\n",
              "    <tr>\n",
              "      <th>2</th>\n",
              "      <td>All-Purpose</td>\n",
              "      <td>Pizza Place</td>\n",
              "      <td>38.871005</td>\n",
              "      <td>-77.006556</td>\n",
              "    </tr>\n",
              "    <tr>\n",
              "      <th>3</th>\n",
              "      <td>Nationals Clubhouse Team Store</td>\n",
              "      <td>Souvenir Shop</td>\n",
              "      <td>38.874130</td>\n",
              "      <td>-77.006917</td>\n",
              "    </tr>\n",
              "    <tr>\n",
              "      <th>4</th>\n",
              "      <td>District CrossFit</td>\n",
              "      <td>Gym</td>\n",
              "      <td>38.871238</td>\n",
              "      <td>-77.010856</td>\n",
              "    </tr>\n",
              "  </tbody>\n",
              "</table>\n",
              "</div>"
            ],
            "text/plain": [
              "                             name        categories        lat        lng\n",
              "0                  The Yards Park              Park  38.873077 -77.001688\n",
              "1                  Nationals Park  Baseball Stadium  38.873261 -77.009679\n",
              "2                     All-Purpose       Pizza Place  38.871005 -77.006556\n",
              "3  Nationals Clubhouse Team Store     Souvenir Shop  38.874130 -77.006917\n",
              "4               District CrossFit               Gym  38.871238 -77.010856"
            ]
          },
          "metadata": {
            "tags": []
          },
          "execution_count": 31
        }
      ]
    },
    {
      "cell_type": "code",
      "metadata": {
        "colab": {
          "base_uri": "https://localhost:8080/"
        },
        "id": "AU_MC0iIgVTQ",
        "outputId": "2ae411e5-5c63-45db-91a4-7415647324ad"
      },
      "source": [
        "dc_categories = dc_venues['categories'].value_counts()\r\n",
        "dc_categories.head()"
      ],
      "execution_count": 32,
      "outputs": [
        {
          "output_type": "execute_result",
          "data": {
            "text/plain": [
              "Italian Restaurant    4\n",
              "Park                  4\n",
              "Coffee Shop           4\n",
              "Pizza Place           3\n",
              "Gym                   3\n",
              "Name: categories, dtype: int64"
            ]
          },
          "metadata": {
            "tags": []
          },
          "execution_count": 32
        }
      ]
    },
    {
      "cell_type": "markdown",
      "metadata": {
        "id": "4HqteNgUfa3X"
      },
      "source": [
        "#### Missoula"
      ]
    },
    {
      "cell_type": "code",
      "metadata": {
        "colab": {
          "base_uri": "https://localhost:8080/"
        },
        "id": "1kGsYGygg5TQ",
        "outputId": "25a3db1d-24f2-4816-ddd0-08ffe83a967e"
      },
      "source": [
        "address = missoula\r\n",
        "\r\n",
        "geolocator = Nominatim(user_agent=\"foursquare_agent\")\r\n",
        "location = geolocator.geocode(address)\r\n",
        "latitude = location.latitude\r\n",
        "longitude = location.longitude\r\n",
        "print(latitude, longitude)"
      ],
      "execution_count": 33,
      "outputs": [
        {
          "output_type": "stream",
          "text": [
            "46.874451949999994 -113.99487574026844\n"
          ],
          "name": "stdout"
        }
      ]
    },
    {
      "cell_type": "code",
      "metadata": {
        "colab": {
          "base_uri": "https://localhost:8080/",
          "height": 0
        },
        "id": "nEQRMDP-g5bW",
        "outputId": "86b16948-3738-4c30-b802-be4271aa646f"
      },
      "source": [
        "LIMIT = 500\r\n",
        "radius = 2000\r\n",
        "url = 'https://api.foursquare.com/v2/venues/explore?&client_id={}&client_secret={}&v={}&ll={},{}&radius={}&limit={}'.format(\r\n",
        "    CLIENT_ID, \r\n",
        "    CLIENT_SECRET, \r\n",
        "    VERSION, \r\n",
        "    latitude, \r\n",
        "    longitude, \r\n",
        "    radius, \r\n",
        "    LIMIT)\r\n",
        "url"
      ],
      "execution_count": 34,
      "outputs": [
        {
          "output_type": "execute_result",
          "data": {
            "application/vnd.google.colaboratory.intrinsic+json": {
              "type": "string"
            },
            "text/plain": [
              "'https://api.foursquare.com/v2/venues/explore?&client_id=AA5IFTXJZJCQ023SACSUMAGZ11WYQ1TWHRRMF0JLQBJAY3PC&client_secret=FGJSLALMRKIDXQKL4HT5KQJSEXUDFOETQSC3B04UHGMY5ZNP&v=20210304&ll=46.874451949999994,-113.99487574026844&radius=2000&limit=500'"
            ]
          },
          "metadata": {
            "tags": []
          },
          "execution_count": 34
        }
      ]
    },
    {
      "cell_type": "code",
      "metadata": {
        "id": "1YPFy3rog5iW"
      },
      "source": [
        "results = requests.get(url).json()"
      ],
      "execution_count": 35,
      "outputs": []
    },
    {
      "cell_type": "code",
      "metadata": {
        "id": "T6ywzT-lg5pg"
      },
      "source": [
        "def get_category_type(row):\r\n",
        "    try:\r\n",
        "        categories_list = row['categories']\r\n",
        "    except:\r\n",
        "        categories_list = row['venue.categories']\r\n",
        "        \r\n",
        "    if len(categories_list) == 0:\r\n",
        "        return None\r\n",
        "    else:\r\n",
        "        return categories_list[0]['name']"
      ],
      "execution_count": 36,
      "outputs": []
    },
    {
      "cell_type": "code",
      "metadata": {
        "colab": {
          "base_uri": "https://localhost:8080/",
          "height": 0
        },
        "id": "PfBldKAXg5xm",
        "outputId": "31ef58fe-7f7d-40dd-e479-3119b23bdfb6"
      },
      "source": [
        "venues = results['response']['groups'][0]['items']\r\n",
        "    \r\n",
        "nearby_venues = json_normalize(venues)\r\n",
        "\r\n",
        "filtered_columns = ['venue.name', 'venue.categories', 'venue.location.lat', 'venue.location.lng']\r\n",
        "nearby_venues =nearby_venues.loc[:, filtered_columns]\r\n",
        "\r\n",
        "nearby_venues['venue.categories'] = nearby_venues.apply(get_category_type, axis=1)\r\n",
        "\r\n",
        "nearby_venues.columns = [col.split(\".\")[-1] for col in nearby_venues.columns]\r\n",
        "missoula_venues = nearby_venues\r\n",
        "missoula_venues.head()"
      ],
      "execution_count": 37,
      "outputs": [
        {
          "output_type": "stream",
          "text": [
            "/usr/local/lib/python3.7/dist-packages/ipykernel_launcher.py:3: FutureWarning: pandas.io.json.json_normalize is deprecated, use pandas.json_normalize instead\n",
            "  This is separate from the ipykernel package so we can avoid doing imports until\n"
          ],
          "name": "stderr"
        },
        {
          "output_type": "execute_result",
          "data": {
            "text/html": [
              "<div>\n",
              "<style scoped>\n",
              "    .dataframe tbody tr th:only-of-type {\n",
              "        vertical-align: middle;\n",
              "    }\n",
              "\n",
              "    .dataframe tbody tr th {\n",
              "        vertical-align: top;\n",
              "    }\n",
              "\n",
              "    .dataframe thead th {\n",
              "        text-align: right;\n",
              "    }\n",
              "</style>\n",
              "<table border=\"1\" class=\"dataframe\">\n",
              "  <thead>\n",
              "    <tr style=\"text-align: right;\">\n",
              "      <th></th>\n",
              "      <th>name</th>\n",
              "      <th>categories</th>\n",
              "      <th>lat</th>\n",
              "      <th>lng</th>\n",
              "    </tr>\n",
              "  </thead>\n",
              "  <tbody>\n",
              "    <tr>\n",
              "      <th>0</th>\n",
              "      <td>Biga Pizza</td>\n",
              "      <td>Pizza Place</td>\n",
              "      <td>46.871945</td>\n",
              "      <td>-113.997484</td>\n",
              "    </tr>\n",
              "    <tr>\n",
              "      <th>1</th>\n",
              "      <td>Liquid Planet</td>\n",
              "      <td>Coffee Shop</td>\n",
              "      <td>46.871900</td>\n",
              "      <td>-113.994259</td>\n",
              "    </tr>\n",
              "    <tr>\n",
              "      <th>2</th>\n",
              "      <td>James Bar</td>\n",
              "      <td>Bar</td>\n",
              "      <td>46.874983</td>\n",
              "      <td>-113.993293</td>\n",
              "    </tr>\n",
              "    <tr>\n",
              "      <th>3</th>\n",
              "      <td>The Depot</td>\n",
              "      <td>Bar</td>\n",
              "      <td>46.875874</td>\n",
              "      <td>-113.993835</td>\n",
              "    </tr>\n",
              "    <tr>\n",
              "      <th>4</th>\n",
              "      <td>Catalyst Cafe &amp; Espresso Bar</td>\n",
              "      <td>Breakfast Spot</td>\n",
              "      <td>46.870628</td>\n",
              "      <td>-113.995108</td>\n",
              "    </tr>\n",
              "  </tbody>\n",
              "</table>\n",
              "</div>"
            ],
            "text/plain": [
              "                           name      categories        lat         lng\n",
              "0                    Biga Pizza     Pizza Place  46.871945 -113.997484\n",
              "1                 Liquid Planet     Coffee Shop  46.871900 -113.994259\n",
              "2                     James Bar             Bar  46.874983 -113.993293\n",
              "3                     The Depot             Bar  46.875874 -113.993835\n",
              "4  Catalyst Cafe & Espresso Bar  Breakfast Spot  46.870628 -113.995108"
            ]
          },
          "metadata": {
            "tags": []
          },
          "execution_count": 37
        }
      ]
    },
    {
      "cell_type": "code",
      "metadata": {
        "colab": {
          "base_uri": "https://localhost:8080/"
        },
        "id": "yfXewUwdg54h",
        "outputId": "db9d1eed-8be4-418d-8d08-a6a82cce77dd"
      },
      "source": [
        "missoula_categories = missoula_venues['categories'].value_counts()\r\n",
        "missoula_categories.head()"
      ],
      "execution_count": 38,
      "outputs": [
        {
          "output_type": "execute_result",
          "data": {
            "text/plain": [
              "Bar            7\n",
              "Brewery        6\n",
              "Café           5\n",
              "Bakery         5\n",
              "Pizza Place    4\n",
              "Name: categories, dtype: int64"
            ]
          },
          "metadata": {
            "tags": []
          },
          "execution_count": 38
        }
      ]
    },
    {
      "cell_type": "markdown",
      "metadata": {
        "id": "Qm4Kf_q7fbD5"
      },
      "source": [
        "#### Rogers"
      ]
    },
    {
      "cell_type": "code",
      "metadata": {
        "colab": {
          "base_uri": "https://localhost:8080/"
        },
        "id": "w32VxoykhS0x",
        "outputId": "06986abf-fff9-4faf-c3f7-3f0504bdc39d"
      },
      "source": [
        "address = rogers\r\n",
        "\r\n",
        "geolocator = Nominatim(user_agent=\"foursquare_agent\")\r\n",
        "location = geolocator.geocode(address)\r\n",
        "latitude = location.latitude\r\n",
        "longitude = location.longitude\r\n",
        "print(latitude, longitude)"
      ],
      "execution_count": 39,
      "outputs": [
        {
          "output_type": "stream",
          "text": [
            "36.3347994 -94.1193531\n"
          ],
          "name": "stdout"
        }
      ]
    },
    {
      "cell_type": "code",
      "metadata": {
        "colab": {
          "base_uri": "https://localhost:8080/",
          "height": 0
        },
        "id": "V343a1SqhS9c",
        "outputId": "316c24c3-a256-47ae-ffe0-89d33e1990ea"
      },
      "source": [
        "LIMIT = 500\r\n",
        "radius = 2000\r\n",
        "url = 'https://api.foursquare.com/v2/venues/explore?&client_id={}&client_secret={}&v={}&ll={},{}&radius={}&limit={}'.format(\r\n",
        "    CLIENT_ID, \r\n",
        "    CLIENT_SECRET, \r\n",
        "    VERSION, \r\n",
        "    latitude, \r\n",
        "    longitude, \r\n",
        "    radius, \r\n",
        "    LIMIT)\r\n",
        "url"
      ],
      "execution_count": 40,
      "outputs": [
        {
          "output_type": "execute_result",
          "data": {
            "application/vnd.google.colaboratory.intrinsic+json": {
              "type": "string"
            },
            "text/plain": [
              "'https://api.foursquare.com/v2/venues/explore?&client_id=AA5IFTXJZJCQ023SACSUMAGZ11WYQ1TWHRRMF0JLQBJAY3PC&client_secret=FGJSLALMRKIDXQKL4HT5KQJSEXUDFOETQSC3B04UHGMY5ZNP&v=20210304&ll=36.3347994,-94.1193531&radius=2000&limit=500'"
            ]
          },
          "metadata": {
            "tags": []
          },
          "execution_count": 40
        }
      ]
    },
    {
      "cell_type": "code",
      "metadata": {
        "id": "1cobMAaKhTEw"
      },
      "source": [
        "results = requests.get(url).json()"
      ],
      "execution_count": 41,
      "outputs": []
    },
    {
      "cell_type": "code",
      "metadata": {
        "id": "9fTAX2VmhTNX"
      },
      "source": [
        "def get_category_type(row):\r\n",
        "    try:\r\n",
        "        categories_list = row['categories']\r\n",
        "    except:\r\n",
        "        categories_list = row['venue.categories']\r\n",
        "        \r\n",
        "    if len(categories_list) == 0:\r\n",
        "        return None\r\n",
        "    else:\r\n",
        "        return categories_list[0]['name']"
      ],
      "execution_count": 42,
      "outputs": []
    },
    {
      "cell_type": "code",
      "metadata": {
        "colab": {
          "base_uri": "https://localhost:8080/",
          "height": 0
        },
        "id": "m2xihXJJhTbK",
        "outputId": "93fdf5d4-54ef-4377-d5d1-accd364152d4"
      },
      "source": [
        "venues = results['response']['groups'][0]['items']\r\n",
        "    \r\n",
        "nearby_venues = json_normalize(venues)\r\n",
        "\r\n",
        "filtered_columns = ['venue.name', 'venue.categories', 'venue.location.lat', 'venue.location.lng']\r\n",
        "nearby_venues =nearby_venues.loc[:, filtered_columns]\r\n",
        "\r\n",
        "nearby_venues['venue.categories'] = nearby_venues.apply(get_category_type, axis=1)\r\n",
        "\r\n",
        "nearby_venues.columns = [col.split(\".\")[-1] for col in nearby_venues.columns]\r\n",
        "rogers_venues = nearby_venues\r\n",
        "rogers_venues.head()"
      ],
      "execution_count": 43,
      "outputs": [
        {
          "output_type": "stream",
          "text": [
            "/usr/local/lib/python3.7/dist-packages/ipykernel_launcher.py:3: FutureWarning: pandas.io.json.json_normalize is deprecated, use pandas.json_normalize instead\n",
            "  This is separate from the ipykernel package so we can avoid doing imports until\n"
          ],
          "name": "stderr"
        },
        {
          "output_type": "execute_result",
          "data": {
            "text/html": [
              "<div>\n",
              "<style scoped>\n",
              "    .dataframe tbody tr th:only-of-type {\n",
              "        vertical-align: middle;\n",
              "    }\n",
              "\n",
              "    .dataframe tbody tr th {\n",
              "        vertical-align: top;\n",
              "    }\n",
              "\n",
              "    .dataframe thead th {\n",
              "        text-align: right;\n",
              "    }\n",
              "</style>\n",
              "<table border=\"1\" class=\"dataframe\">\n",
              "  <thead>\n",
              "    <tr style=\"text-align: right;\">\n",
              "      <th></th>\n",
              "      <th>name</th>\n",
              "      <th>categories</th>\n",
              "      <th>lat</th>\n",
              "      <th>lng</th>\n",
              "    </tr>\n",
              "  </thead>\n",
              "  <tbody>\n",
              "    <tr>\n",
              "      <th>0</th>\n",
              "      <td>The Rail</td>\n",
              "      <td>Pizza Place</td>\n",
              "      <td>36.331388</td>\n",
              "      <td>-94.116527</td>\n",
              "    </tr>\n",
              "    <tr>\n",
              "      <th>1</th>\n",
              "      <td>Susie Q Malt Shop</td>\n",
              "      <td>Burger Joint</td>\n",
              "      <td>36.338225</td>\n",
              "      <td>-94.116815</td>\n",
              "    </tr>\n",
              "    <tr>\n",
              "      <th>2</th>\n",
              "      <td>Ozark Beer Co.</td>\n",
              "      <td>Brewery</td>\n",
              "      <td>36.333703</td>\n",
              "      <td>-94.114797</td>\n",
              "    </tr>\n",
              "    <tr>\n",
              "      <th>3</th>\n",
              "      <td>Parkside Public</td>\n",
              "      <td>Burger Joint</td>\n",
              "      <td>36.332561</td>\n",
              "      <td>-94.116397</td>\n",
              "    </tr>\n",
              "    <tr>\n",
              "      <th>4</th>\n",
              "      <td>Wesner's Grill</td>\n",
              "      <td>Breakfast Spot</td>\n",
              "      <td>36.334278</td>\n",
              "      <td>-94.116833</td>\n",
              "    </tr>\n",
              "  </tbody>\n",
              "</table>\n",
              "</div>"
            ],
            "text/plain": [
              "                name      categories        lat        lng\n",
              "0           The Rail     Pizza Place  36.331388 -94.116527\n",
              "1  Susie Q Malt Shop    Burger Joint  36.338225 -94.116815\n",
              "2     Ozark Beer Co.         Brewery  36.333703 -94.114797\n",
              "3    Parkside Public    Burger Joint  36.332561 -94.116397\n",
              "4     Wesner's Grill  Breakfast Spot  36.334278 -94.116833"
            ]
          },
          "metadata": {
            "tags": []
          },
          "execution_count": 43
        }
      ]
    },
    {
      "cell_type": "code",
      "metadata": {
        "colab": {
          "base_uri": "https://localhost:8080/"
        },
        "id": "gITvU-V0hThO",
        "outputId": "357beb0a-6ef0-48a5-e46d-e52affe8d712"
      },
      "source": [
        "rogers_categories = rogers_venues['categories'].value_counts()\r\n",
        "rogers_categories.head()"
      ],
      "execution_count": 44,
      "outputs": [
        {
          "output_type": "execute_result",
          "data": {
            "text/plain": [
              "Fast Food Restaurant    5\n",
              "Pizza Place             4\n",
              "Mexican Restaurant      3\n",
              "Grocery Store           3\n",
              "Burger Joint            3\n",
              "Name: categories, dtype: int64"
            ]
          },
          "metadata": {
            "tags": []
          },
          "execution_count": 44
        }
      ]
    },
    {
      "cell_type": "markdown",
      "metadata": {
        "id": "N_Xs69LFfbN_"
      },
      "source": [
        "#### Fort Collins"
      ]
    },
    {
      "cell_type": "code",
      "metadata": {
        "colab": {
          "base_uri": "https://localhost:8080/"
        },
        "id": "FROkD-GuiuoS",
        "outputId": "edec9539-ffab-42dc-e317-5d7e38091622"
      },
      "source": [
        "address = ft_collins\r\n",
        "\r\n",
        "geolocator = Nominatim(user_agent=\"foursquare_agent\")\r\n",
        "location = geolocator.geocode(address)\r\n",
        "latitude = location.latitude\r\n",
        "longitude = location.longitude\r\n",
        "print(latitude, longitude)"
      ],
      "execution_count": 45,
      "outputs": [
        {
          "output_type": "stream",
          "text": [
            "40.5898509 -105.081907325\n"
          ],
          "name": "stdout"
        }
      ]
    },
    {
      "cell_type": "code",
      "metadata": {
        "colab": {
          "base_uri": "https://localhost:8080/",
          "height": 0
        },
        "id": "Ew2OgwcMiuuu",
        "outputId": "d40b2edd-94df-4184-8295-190b43383d8f"
      },
      "source": [
        "LIMIT = 500\r\n",
        "radius = 2000\r\n",
        "url = 'https://api.foursquare.com/v2/venues/explore?&client_id={}&client_secret={}&v={}&ll={},{}&radius={}&limit={}'.format(\r\n",
        "    CLIENT_ID, \r\n",
        "    CLIENT_SECRET, \r\n",
        "    VERSION, \r\n",
        "    latitude, \r\n",
        "    longitude, \r\n",
        "    radius, \r\n",
        "    LIMIT)\r\n",
        "url"
      ],
      "execution_count": 46,
      "outputs": [
        {
          "output_type": "execute_result",
          "data": {
            "application/vnd.google.colaboratory.intrinsic+json": {
              "type": "string"
            },
            "text/plain": [
              "'https://api.foursquare.com/v2/venues/explore?&client_id=AA5IFTXJZJCQ023SACSUMAGZ11WYQ1TWHRRMF0JLQBJAY3PC&client_secret=FGJSLALMRKIDXQKL4HT5KQJSEXUDFOETQSC3B04UHGMY5ZNP&v=20210304&ll=40.5898509,-105.081907325&radius=2000&limit=500'"
            ]
          },
          "metadata": {
            "tags": []
          },
          "execution_count": 46
        }
      ]
    },
    {
      "cell_type": "code",
      "metadata": {
        "id": "Hd3XBUvdiu1P"
      },
      "source": [
        "results = requests.get(url).json()"
      ],
      "execution_count": 47,
      "outputs": []
    },
    {
      "cell_type": "code",
      "metadata": {
        "id": "6hFPtGfqiu8_"
      },
      "source": [
        "def get_category_type(row):\r\n",
        "    try:\r\n",
        "        categories_list = row['categories']\r\n",
        "    except:\r\n",
        "        categories_list = row['venue.categories']\r\n",
        "        \r\n",
        "    if len(categories_list) == 0:\r\n",
        "        return None\r\n",
        "    else:\r\n",
        "        return categories_list[0]['name']"
      ],
      "execution_count": 48,
      "outputs": []
    },
    {
      "cell_type": "code",
      "metadata": {
        "colab": {
          "base_uri": "https://localhost:8080/",
          "height": 0
        },
        "id": "BMlItCk9ivEq",
        "outputId": "39a0af33-4bc8-43ad-ee74-7c1c71999cfc"
      },
      "source": [
        "venues = results['response']['groups'][0]['items']\r\n",
        "    \r\n",
        "nearby_venues = json_normalize(venues)\r\n",
        "\r\n",
        "filtered_columns = ['venue.name', 'venue.categories', 'venue.location.lat', 'venue.location.lng']\r\n",
        "nearby_venues =nearby_venues.loc[:, filtered_columns]\r\n",
        "\r\n",
        "nearby_venues['venue.categories'] = nearby_venues.apply(get_category_type, axis=1)\r\n",
        "\r\n",
        "nearby_venues.columns = [col.split(\".\")[-1] for col in nearby_venues.columns]\r\n",
        "ft_collins_venues = nearby_venues\r\n",
        "ft_collins_venues.head()"
      ],
      "execution_count": 49,
      "outputs": [
        {
          "output_type": "stream",
          "text": [
            "/usr/local/lib/python3.7/dist-packages/ipykernel_launcher.py:3: FutureWarning: pandas.io.json.json_normalize is deprecated, use pandas.json_normalize instead\n",
            "  This is separate from the ipykernel package so we can avoid doing imports until\n"
          ],
          "name": "stderr"
        },
        {
          "output_type": "execute_result",
          "data": {
            "text/html": [
              "<div>\n",
              "<style scoped>\n",
              "    .dataframe tbody tr th:only-of-type {\n",
              "        vertical-align: middle;\n",
              "    }\n",
              "\n",
              "    .dataframe tbody tr th {\n",
              "        vertical-align: top;\n",
              "    }\n",
              "\n",
              "    .dataframe thead th {\n",
              "        text-align: right;\n",
              "    }\n",
              "</style>\n",
              "<table border=\"1\" class=\"dataframe\">\n",
              "  <thead>\n",
              "    <tr style=\"text-align: right;\">\n",
              "      <th></th>\n",
              "      <th>name</th>\n",
              "      <th>categories</th>\n",
              "      <th>lat</th>\n",
              "      <th>lng</th>\n",
              "    </tr>\n",
              "  </thead>\n",
              "  <tbody>\n",
              "    <tr>\n",
              "      <th>0</th>\n",
              "      <td>Beau Jo's</td>\n",
              "      <td>Pizza Place</td>\n",
              "      <td>40.589310</td>\n",
              "      <td>-105.077379</td>\n",
              "    </tr>\n",
              "    <tr>\n",
              "      <th>1</th>\n",
              "      <td>Snooze</td>\n",
              "      <td>Breakfast Spot</td>\n",
              "      <td>40.587188</td>\n",
              "      <td>-105.078213</td>\n",
              "    </tr>\n",
              "    <tr>\n",
              "      <th>2</th>\n",
              "      <td>Scrumpy's</td>\n",
              "      <td>Bar</td>\n",
              "      <td>40.589335</td>\n",
              "      <td>-105.077173</td>\n",
              "    </tr>\n",
              "    <tr>\n",
              "      <th>3</th>\n",
              "      <td>Silver Grill Cafe</td>\n",
              "      <td>Café</td>\n",
              "      <td>40.588695</td>\n",
              "      <td>-105.076388</td>\n",
              "    </tr>\n",
              "    <tr>\n",
              "      <th>4</th>\n",
              "      <td>Fort Collins Museum of Discovery</td>\n",
              "      <td>Museum</td>\n",
              "      <td>40.593142</td>\n",
              "      <td>-105.077953</td>\n",
              "    </tr>\n",
              "  </tbody>\n",
              "</table>\n",
              "</div>"
            ],
            "text/plain": [
              "                               name      categories        lat         lng\n",
              "0                         Beau Jo's     Pizza Place  40.589310 -105.077379\n",
              "1                            Snooze  Breakfast Spot  40.587188 -105.078213\n",
              "2                         Scrumpy's             Bar  40.589335 -105.077173\n",
              "3                 Silver Grill Cafe            Café  40.588695 -105.076388\n",
              "4  Fort Collins Museum of Discovery          Museum  40.593142 -105.077953"
            ]
          },
          "metadata": {
            "tags": []
          },
          "execution_count": 49
        }
      ]
    },
    {
      "cell_type": "code",
      "metadata": {
        "colab": {
          "base_uri": "https://localhost:8080/"
        },
        "id": "boGu-ET5ivLv",
        "outputId": "2677ded0-b35c-4b31-ae14-8a635aadec88"
      },
      "source": [
        "ft_collins_categories = ft_collins_venues['categories'].value_counts()\r\n",
        "ft_collins_categories.head()"
      ],
      "execution_count": 50,
      "outputs": [
        {
          "output_type": "execute_result",
          "data": {
            "text/plain": [
              "Coffee Shop            8\n",
              "Brewery                4\n",
              "Café                   4\n",
              "American Restaurant    4\n",
              "Candy Store            3\n",
              "Name: categories, dtype: int64"
            ]
          },
          "metadata": {
            "tags": []
          },
          "execution_count": 50
        }
      ]
    },
    {
      "cell_type": "markdown",
      "metadata": {
        "id": "jti6VR9EfcGg"
      },
      "source": [
        "#### Denver"
      ]
    },
    {
      "cell_type": "code",
      "metadata": {
        "colab": {
          "base_uri": "https://localhost:8080/"
        },
        "id": "ebFh0LUcjE2T",
        "outputId": "29dcebca-b7b5-4e87-ed08-8df9f7c6c401"
      },
      "source": [
        "address = denver\r\n",
        "\r\n",
        "geolocator = Nominatim(user_agent=\"foursquare_agent\")\r\n",
        "location = geolocator.geocode(address)\r\n",
        "latitude = location.latitude\r\n",
        "longitude = location.longitude\r\n",
        "print(latitude, longitude)"
      ],
      "execution_count": 51,
      "outputs": [
        {
          "output_type": "stream",
          "text": [
            "39.73918465 -104.99109381315253\n"
          ],
          "name": "stdout"
        }
      ]
    },
    {
      "cell_type": "code",
      "metadata": {
        "colab": {
          "base_uri": "https://localhost:8080/",
          "height": 0
        },
        "id": "ZTGx5gD3jE-v",
        "outputId": "3cf2131f-c1a8-4b12-a978-cc04d06965b1"
      },
      "source": [
        "LIMIT = 500\r\n",
        "radius = 2000\r\n",
        "url = 'https://api.foursquare.com/v2/venues/explore?&client_id={}&client_secret={}&v={}&ll={},{}&radius={}&limit={}'.format(\r\n",
        "    CLIENT_ID, \r\n",
        "    CLIENT_SECRET, \r\n",
        "    VERSION, \r\n",
        "    latitude, \r\n",
        "    longitude, \r\n",
        "    radius, \r\n",
        "    LIMIT)\r\n",
        "url"
      ],
      "execution_count": 52,
      "outputs": [
        {
          "output_type": "execute_result",
          "data": {
            "application/vnd.google.colaboratory.intrinsic+json": {
              "type": "string"
            },
            "text/plain": [
              "'https://api.foursquare.com/v2/venues/explore?&client_id=AA5IFTXJZJCQ023SACSUMAGZ11WYQ1TWHRRMF0JLQBJAY3PC&client_secret=FGJSLALMRKIDXQKL4HT5KQJSEXUDFOETQSC3B04UHGMY5ZNP&v=20210304&ll=39.73918465,-104.99109381315253&radius=2000&limit=500'"
            ]
          },
          "metadata": {
            "tags": []
          },
          "execution_count": 52
        }
      ]
    },
    {
      "cell_type": "code",
      "metadata": {
        "id": "CCfQ8M-jjFFH"
      },
      "source": [
        "results = requests.get(url).json()"
      ],
      "execution_count": 53,
      "outputs": []
    },
    {
      "cell_type": "code",
      "metadata": {
        "id": "rXMlmK6BjFMM"
      },
      "source": [
        "def get_category_type(row):\r\n",
        "    try:\r\n",
        "        categories_list = row['categories']\r\n",
        "    except:\r\n",
        "        categories_list = row['venue.categories']\r\n",
        "        \r\n",
        "    if len(categories_list) == 0:\r\n",
        "        return None\r\n",
        "    else:\r\n",
        "        return categories_list[0]['name']"
      ],
      "execution_count": 54,
      "outputs": []
    },
    {
      "cell_type": "code",
      "metadata": {
        "colab": {
          "base_uri": "https://localhost:8080/",
          "height": 0
        },
        "id": "1n6WUv3hjFSb",
        "outputId": "8a1f6609-3ddb-4e14-d43e-912c2b5533c3"
      },
      "source": [
        "venues = results['response']['groups'][0]['items']\r\n",
        "    \r\n",
        "nearby_venues = json_normalize(venues)\r\n",
        "\r\n",
        "filtered_columns = ['venue.name', 'venue.categories', 'venue.location.lat', 'venue.location.lng']\r\n",
        "nearby_venues =nearby_venues.loc[:, filtered_columns]\r\n",
        "\r\n",
        "nearby_venues['venue.categories'] = nearby_venues.apply(get_category_type, axis=1)\r\n",
        "\r\n",
        "nearby_venues.columns = [col.split(\".\")[-1] for col in nearby_venues.columns]\r\n",
        "denver_venues = nearby_venues\r\n",
        "denver_venues.head()"
      ],
      "execution_count": 55,
      "outputs": [
        {
          "output_type": "stream",
          "text": [
            "/usr/local/lib/python3.7/dist-packages/ipykernel_launcher.py:3: FutureWarning: pandas.io.json.json_normalize is deprecated, use pandas.json_normalize instead\n",
            "  This is separate from the ipykernel package so we can avoid doing imports until\n"
          ],
          "name": "stderr"
        },
        {
          "output_type": "execute_result",
          "data": {
            "text/html": [
              "<div>\n",
              "<style scoped>\n",
              "    .dataframe tbody tr th:only-of-type {\n",
              "        vertical-align: middle;\n",
              "    }\n",
              "\n",
              "    .dataframe tbody tr th {\n",
              "        vertical-align: top;\n",
              "    }\n",
              "\n",
              "    .dataframe thead th {\n",
              "        text-align: right;\n",
              "    }\n",
              "</style>\n",
              "<table border=\"1\" class=\"dataframe\">\n",
              "  <thead>\n",
              "    <tr style=\"text-align: right;\">\n",
              "      <th></th>\n",
              "      <th>name</th>\n",
              "      <th>categories</th>\n",
              "      <th>lat</th>\n",
              "      <th>lng</th>\n",
              "    </tr>\n",
              "  </thead>\n",
              "  <tbody>\n",
              "    <tr>\n",
              "      <th>0</th>\n",
              "      <td>Denver Art Museum</td>\n",
              "      <td>Art Museum</td>\n",
              "      <td>39.736479</td>\n",
              "      <td>-104.988712</td>\n",
              "    </tr>\n",
              "    <tr>\n",
              "      <th>1</th>\n",
              "      <td>Denver Press Club</td>\n",
              "      <td>Lounge</td>\n",
              "      <td>39.741368</td>\n",
              "      <td>-104.993350</td>\n",
              "    </tr>\n",
              "    <tr>\n",
              "      <th>2</th>\n",
              "      <td>Civic Center Park</td>\n",
              "      <td>Park</td>\n",
              "      <td>39.739370</td>\n",
              "      <td>-104.988776</td>\n",
              "    </tr>\n",
              "    <tr>\n",
              "      <th>3</th>\n",
              "      <td>Cuba Cuba</td>\n",
              "      <td>Cuban Restaurant</td>\n",
              "      <td>39.735205</td>\n",
              "      <td>-104.993231</td>\n",
              "    </tr>\n",
              "    <tr>\n",
              "      <th>4</th>\n",
              "      <td>The River</td>\n",
              "      <td>Yoga Studio</td>\n",
              "      <td>39.735743</td>\n",
              "      <td>-104.992752</td>\n",
              "    </tr>\n",
              "  </tbody>\n",
              "</table>\n",
              "</div>"
            ],
            "text/plain": [
              "                name        categories        lat         lng\n",
              "0  Denver Art Museum        Art Museum  39.736479 -104.988712\n",
              "1  Denver Press Club            Lounge  39.741368 -104.993350\n",
              "2  Civic Center Park              Park  39.739370 -104.988776\n",
              "3          Cuba Cuba  Cuban Restaurant  39.735205 -104.993231\n",
              "4          The River       Yoga Studio  39.735743 -104.992752"
            ]
          },
          "metadata": {
            "tags": []
          },
          "execution_count": 55
        }
      ]
    },
    {
      "cell_type": "code",
      "metadata": {
        "colab": {
          "base_uri": "https://localhost:8080/"
        },
        "id": "2rJ-vYTCjFbN",
        "outputId": "b140f018-eaf7-405d-d9b2-668911541466"
      },
      "source": [
        "denver_categories = denver_venues['categories'].value_counts()\r\n",
        "denver_categories.head()"
      ],
      "execution_count": 56,
      "outputs": [
        {
          "output_type": "execute_result",
          "data": {
            "text/plain": [
              "Hotel                  10\n",
              "Sandwich Place          6\n",
              "American Restaurant     5\n",
              "Italian Restaurant      4\n",
              "Breakfast Spot          3\n",
              "Name: categories, dtype: int64"
            ]
          },
          "metadata": {
            "tags": []
          },
          "execution_count": 56
        }
      ]
    },
    {
      "cell_type": "markdown",
      "metadata": {
        "id": "D33D7uhqfcO4"
      },
      "source": [
        "#### Grand Forks"
      ]
    },
    {
      "cell_type": "code",
      "metadata": {
        "colab": {
          "base_uri": "https://localhost:8080/"
        },
        "id": "Yntz-WEVj7Oc",
        "outputId": "689491bf-ca66-41d1-b614-de126738110f"
      },
      "source": [
        "address = grand_forks\r\n",
        "\r\n",
        "geolocator = Nominatim(user_agent=\"foursquare_agent\")\r\n",
        "location = geolocator.geocode(address)\r\n",
        "latitude = location.latitude\r\n",
        "longitude = location.longitude\r\n",
        "print(latitude, longitude)"
      ],
      "execution_count": 57,
      "outputs": [
        {
          "output_type": "stream",
          "text": [
            "47.9258868 -97.03478493376397\n"
          ],
          "name": "stdout"
        }
      ]
    },
    {
      "cell_type": "code",
      "metadata": {
        "colab": {
          "base_uri": "https://localhost:8080/",
          "height": 0
        },
        "id": "XgrokMugj7TZ",
        "outputId": "86c5a38f-74fb-442a-e9c4-714517454f14"
      },
      "source": [
        "LIMIT = 500\r\n",
        "radius = 2000\r\n",
        "url = 'https://api.foursquare.com/v2/venues/explore?&client_id={}&client_secret={}&v={}&ll={},{}&radius={}&limit={}'.format(\r\n",
        "    CLIENT_ID, \r\n",
        "    CLIENT_SECRET, \r\n",
        "    VERSION, \r\n",
        "    latitude, \r\n",
        "    longitude, \r\n",
        "    radius, \r\n",
        "    LIMIT)\r\n",
        "url"
      ],
      "execution_count": 58,
      "outputs": [
        {
          "output_type": "execute_result",
          "data": {
            "application/vnd.google.colaboratory.intrinsic+json": {
              "type": "string"
            },
            "text/plain": [
              "'https://api.foursquare.com/v2/venues/explore?&client_id=AA5IFTXJZJCQ023SACSUMAGZ11WYQ1TWHRRMF0JLQBJAY3PC&client_secret=FGJSLALMRKIDXQKL4HT5KQJSEXUDFOETQSC3B04UHGMY5ZNP&v=20210304&ll=47.9258868,-97.03478493376397&radius=2000&limit=500'"
            ]
          },
          "metadata": {
            "tags": []
          },
          "execution_count": 58
        }
      ]
    },
    {
      "cell_type": "code",
      "metadata": {
        "id": "DISneWHGj7Yp"
      },
      "source": [
        "results = requests.get(url).json()"
      ],
      "execution_count": 59,
      "outputs": []
    },
    {
      "cell_type": "code",
      "metadata": {
        "id": "zTipOms0j7fZ"
      },
      "source": [
        "def get_category_type(row):\r\n",
        "    try:\r\n",
        "        categories_list = row['categories']\r\n",
        "    except:\r\n",
        "        categories_list = row['venue.categories']\r\n",
        "        \r\n",
        "    if len(categories_list) == 0:\r\n",
        "        return None\r\n",
        "    else:\r\n",
        "        return categories_list[0]['name']"
      ],
      "execution_count": 60,
      "outputs": []
    },
    {
      "cell_type": "code",
      "metadata": {
        "colab": {
          "base_uri": "https://localhost:8080/",
          "height": 0
        },
        "id": "r8xuDCRzj7lP",
        "outputId": "be731b39-94f5-4829-e339-9ef78ee595a9"
      },
      "source": [
        "venues = results['response']['groups'][0]['items']\r\n",
        "    \r\n",
        "nearby_venues = json_normalize(venues)\r\n",
        "\r\n",
        "filtered_columns = ['venue.name', 'venue.categories', 'venue.location.lat', 'venue.location.lng']\r\n",
        "nearby_venues =nearby_venues.loc[:, filtered_columns]\r\n",
        "\r\n",
        "nearby_venues['venue.categories'] = nearby_venues.apply(get_category_type, axis=1)\r\n",
        "\r\n",
        "nearby_venues.columns = [col.split(\".\")[-1] for col in nearby_venues.columns]\r\n",
        "grand_forks_venues = nearby_venues\r\n",
        "grand_forks_venues.head()"
      ],
      "execution_count": 61,
      "outputs": [
        {
          "output_type": "stream",
          "text": [
            "/usr/local/lib/python3.7/dist-packages/ipykernel_launcher.py:3: FutureWarning: pandas.io.json.json_normalize is deprecated, use pandas.json_normalize instead\n",
            "  This is separate from the ipykernel package so we can avoid doing imports until\n"
          ],
          "name": "stderr"
        },
        {
          "output_type": "execute_result",
          "data": {
            "text/html": [
              "<div>\n",
              "<style scoped>\n",
              "    .dataframe tbody tr th:only-of-type {\n",
              "        vertical-align: middle;\n",
              "    }\n",
              "\n",
              "    .dataframe tbody tr th {\n",
              "        vertical-align: top;\n",
              "    }\n",
              "\n",
              "    .dataframe thead th {\n",
              "        text-align: right;\n",
              "    }\n",
              "</style>\n",
              "<table border=\"1\" class=\"dataframe\">\n",
              "  <thead>\n",
              "    <tr style=\"text-align: right;\">\n",
              "      <th></th>\n",
              "      <th>name</th>\n",
              "      <th>categories</th>\n",
              "      <th>lat</th>\n",
              "      <th>lng</th>\n",
              "    </tr>\n",
              "  </thead>\n",
              "  <tbody>\n",
              "    <tr>\n",
              "      <th>0</th>\n",
              "      <td>Shing Ya</td>\n",
              "      <td>Japanese Restaurant</td>\n",
              "      <td>47.926199</td>\n",
              "      <td>-97.032074</td>\n",
              "    </tr>\n",
              "    <tr>\n",
              "      <th>1</th>\n",
              "      <td>Rhombus Guys</td>\n",
              "      <td>Pizza Place</td>\n",
              "      <td>47.924126</td>\n",
              "      <td>-97.029622</td>\n",
              "    </tr>\n",
              "    <tr>\n",
              "      <th>2</th>\n",
              "      <td>Sky's Fine Dining and Cloud 9 Lounge</td>\n",
              "      <td>Diner</td>\n",
              "      <td>47.924724</td>\n",
              "      <td>-97.031473</td>\n",
              "    </tr>\n",
              "    <tr>\n",
              "      <th>3</th>\n",
              "      <td>The Toasted Frog</td>\n",
              "      <td>American Restaurant</td>\n",
              "      <td>47.926533</td>\n",
              "      <td>-97.032572</td>\n",
              "    </tr>\n",
              "    <tr>\n",
              "      <th>4</th>\n",
              "      <td>Widman's Candy Shop</td>\n",
              "      <td>Candy Store</td>\n",
              "      <td>47.924136</td>\n",
              "      <td>-97.028835</td>\n",
              "    </tr>\n",
              "  </tbody>\n",
              "</table>\n",
              "</div>"
            ],
            "text/plain": [
              "                                   name  ...        lng\n",
              "0                              Shing Ya  ... -97.032074\n",
              "1                          Rhombus Guys  ... -97.029622\n",
              "2  Sky's Fine Dining and Cloud 9 Lounge  ... -97.031473\n",
              "3                      The Toasted Frog  ... -97.032572\n",
              "4                   Widman's Candy Shop  ... -97.028835\n",
              "\n",
              "[5 rows x 4 columns]"
            ]
          },
          "metadata": {
            "tags": []
          },
          "execution_count": 61
        }
      ]
    },
    {
      "cell_type": "code",
      "metadata": {
        "colab": {
          "base_uri": "https://localhost:8080/"
        },
        "id": "-54oQHohj7ru",
        "outputId": "2ece3aa1-c0ce-4619-bf79-51ad714fa799"
      },
      "source": [
        "grand_forks_categories = grand_forks_venues['categories'].value_counts()\r\n",
        "grand_forks_categories.head()"
      ],
      "execution_count": 62,
      "outputs": [
        {
          "output_type": "execute_result",
          "data": {
            "text/plain": [
              "Bar                   10\n",
              "Pizza Place            5\n",
              "Sandwich Place         4\n",
              "Coffee Shop            3\n",
              "Mexican Restaurant     3\n",
              "Name: categories, dtype: int64"
            ]
          },
          "metadata": {
            "tags": []
          },
          "execution_count": 62
        }
      ]
    },
    {
      "cell_type": "markdown",
      "metadata": {
        "id": "g6tqTe6PfcYP"
      },
      "source": [
        "#### Fayetteville"
      ]
    },
    {
      "cell_type": "code",
      "metadata": {
        "colab": {
          "base_uri": "https://localhost:8080/"
        },
        "id": "Lyn1RMNekOeM",
        "outputId": "eb2b7088-fbad-41f6-bb89-6a36e24ebba8"
      },
      "source": [
        "address = fayetteville\r\n",
        "\r\n",
        "geolocator = Nominatim(user_agent=\"foursquare_agent\")\r\n",
        "location = geolocator.geocode(address)\r\n",
        "latitude = location.latitude\r\n",
        "longitude = location.longitude\r\n",
        "print(latitude, longitude)"
      ],
      "execution_count": 63,
      "outputs": [
        {
          "output_type": "stream",
          "text": [
            "36.0616665 -94.16113896362981\n"
          ],
          "name": "stdout"
        }
      ]
    },
    {
      "cell_type": "code",
      "metadata": {
        "colab": {
          "base_uri": "https://localhost:8080/",
          "height": 0
        },
        "id": "HHl4G2mBkOhk",
        "outputId": "772215bd-07b0-4804-f21f-2f6dd5c3b55d"
      },
      "source": [
        "LIMIT = 500\r\n",
        "radius = 2000\r\n",
        "url = 'https://api.foursquare.com/v2/venues/explore?&client_id={}&client_secret={}&v={}&ll={},{}&radius={}&limit={}'.format(\r\n",
        "    CLIENT_ID, \r\n",
        "    CLIENT_SECRET, \r\n",
        "    VERSION, \r\n",
        "    latitude, \r\n",
        "    longitude, \r\n",
        "    radius, \r\n",
        "    LIMIT)\r\n",
        "url"
      ],
      "execution_count": 64,
      "outputs": [
        {
          "output_type": "execute_result",
          "data": {
            "application/vnd.google.colaboratory.intrinsic+json": {
              "type": "string"
            },
            "text/plain": [
              "'https://api.foursquare.com/v2/venues/explore?&client_id=AA5IFTXJZJCQ023SACSUMAGZ11WYQ1TWHRRMF0JLQBJAY3PC&client_secret=FGJSLALMRKIDXQKL4HT5KQJSEXUDFOETQSC3B04UHGMY5ZNP&v=20210304&ll=36.0616665,-94.16113896362981&radius=2000&limit=500'"
            ]
          },
          "metadata": {
            "tags": []
          },
          "execution_count": 64
        }
      ]
    },
    {
      "cell_type": "code",
      "metadata": {
        "id": "8wTPEigFkOks"
      },
      "source": [
        "results = requests.get(url).json()"
      ],
      "execution_count": 65,
      "outputs": []
    },
    {
      "cell_type": "code",
      "metadata": {
        "id": "PHIG5jkwkOnl"
      },
      "source": [
        "def get_category_type(row):\r\n",
        "    try:\r\n",
        "        categories_list = row['categories']\r\n",
        "    except:\r\n",
        "        categories_list = row['venue.categories']\r\n",
        "        \r\n",
        "    if len(categories_list) == 0:\r\n",
        "        return None\r\n",
        "    else:\r\n",
        "        return categories_list[0]['name']"
      ],
      "execution_count": 66,
      "outputs": []
    },
    {
      "cell_type": "code",
      "metadata": {
        "colab": {
          "base_uri": "https://localhost:8080/",
          "height": 0
        },
        "id": "QzL4RXZrkO6r",
        "outputId": "064a9ffc-69a9-4230-d663-1bda5d8034bb"
      },
      "source": [
        "venues = results['response']['groups'][0]['items']\r\n",
        "    \r\n",
        "nearby_venues = json_normalize(venues)\r\n",
        "\r\n",
        "filtered_columns = ['venue.name', 'venue.categories', 'venue.location.lat', 'venue.location.lng']\r\n",
        "nearby_venues =nearby_venues.loc[:, filtered_columns]\r\n",
        "\r\n",
        "nearby_venues['venue.categories'] = nearby_venues.apply(get_category_type, axis=1)\r\n",
        "\r\n",
        "nearby_venues.columns = [col.split(\".\")[-1] for col in nearby_venues.columns]\r\n",
        "fayetteville_venues = nearby_venues\r\n",
        "fayetteville_venues.head()"
      ],
      "execution_count": 67,
      "outputs": [
        {
          "output_type": "stream",
          "text": [
            "/usr/local/lib/python3.7/dist-packages/ipykernel_launcher.py:3: FutureWarning: pandas.io.json.json_normalize is deprecated, use pandas.json_normalize instead\n",
            "  This is separate from the ipykernel package so we can avoid doing imports until\n"
          ],
          "name": "stderr"
        },
        {
          "output_type": "execute_result",
          "data": {
            "text/html": [
              "<div>\n",
              "<style scoped>\n",
              "    .dataframe tbody tr th:only-of-type {\n",
              "        vertical-align: middle;\n",
              "    }\n",
              "\n",
              "    .dataframe tbody tr th {\n",
              "        vertical-align: top;\n",
              "    }\n",
              "\n",
              "    .dataframe thead th {\n",
              "        text-align: right;\n",
              "    }\n",
              "</style>\n",
              "<table border=\"1\" class=\"dataframe\">\n",
              "  <thead>\n",
              "    <tr style=\"text-align: right;\">\n",
              "      <th></th>\n",
              "      <th>name</th>\n",
              "      <th>categories</th>\n",
              "      <th>lat</th>\n",
              "      <th>lng</th>\n",
              "    </tr>\n",
              "  </thead>\n",
              "  <tbody>\n",
              "    <tr>\n",
              "      <th>0</th>\n",
              "      <td>Fayetteville Farmers Market</td>\n",
              "      <td>Farmers Market</td>\n",
              "      <td>36.062333</td>\n",
              "      <td>-94.160252</td>\n",
              "    </tr>\n",
              "    <tr>\n",
              "      <th>1</th>\n",
              "      <td>Hugo's Restaurant</td>\n",
              "      <td>Burger Joint</td>\n",
              "      <td>36.063490</td>\n",
              "      <td>-94.160676</td>\n",
              "    </tr>\n",
              "    <tr>\n",
              "      <th>2</th>\n",
              "      <td>A Taste of Thai</td>\n",
              "      <td>Thai Restaurant</td>\n",
              "      <td>36.062573</td>\n",
              "      <td>-94.158676</td>\n",
              "    </tr>\n",
              "    <tr>\n",
              "      <th>3</th>\n",
              "      <td>Damgoode Pies</td>\n",
              "      <td>Pizza Place</td>\n",
              "      <td>36.062526</td>\n",
              "      <td>-94.158384</td>\n",
              "    </tr>\n",
              "    <tr>\n",
              "      <th>4</th>\n",
              "      <td>Little Bread Company</td>\n",
              "      <td>Bakery</td>\n",
              "      <td>36.064083</td>\n",
              "      <td>-94.160442</td>\n",
              "    </tr>\n",
              "  </tbody>\n",
              "</table>\n",
              "</div>"
            ],
            "text/plain": [
              "                          name       categories        lat        lng\n",
              "0  Fayetteville Farmers Market   Farmers Market  36.062333 -94.160252\n",
              "1            Hugo's Restaurant     Burger Joint  36.063490 -94.160676\n",
              "2              A Taste of Thai  Thai Restaurant  36.062573 -94.158676\n",
              "3                Damgoode Pies      Pizza Place  36.062526 -94.158384\n",
              "4         Little Bread Company           Bakery  36.064083 -94.160442"
            ]
          },
          "metadata": {
            "tags": []
          },
          "execution_count": 67
        }
      ]
    },
    {
      "cell_type": "code",
      "metadata": {
        "colab": {
          "base_uri": "https://localhost:8080/"
        },
        "id": "dlEmFPfEkPC5",
        "outputId": "28a26fbc-880d-48a3-db6c-3c5622804967"
      },
      "source": [
        "fayetteville_categories = fayetteville_venues['categories'].value_counts()\r\n",
        "fayetteville_categories.head()"
      ],
      "execution_count": 68,
      "outputs": [
        {
          "output_type": "execute_result",
          "data": {
            "text/plain": [
              "Pizza Place             6\n",
              "Sandwich Place          4\n",
              "Thai Restaurant         4\n",
              "Café                    4\n",
              "Fast Food Restaurant    4\n",
              "Name: categories, dtype: int64"
            ]
          },
          "metadata": {
            "tags": []
          },
          "execution_count": 68
        }
      ]
    },
    {
      "cell_type": "markdown",
      "metadata": {
        "id": "UuVFsCM7dYy0"
      },
      "source": [
        "### Combining the Dataframes"
      ]
    },
    {
      "cell_type": "markdown",
      "metadata": {
        "id": "r_iJWmLkPKYu"
      },
      "source": [
        "Now that I have constructed dataframes for every city, I will then combine all of the dataframes and count to see what is the most common type of venue between all of the cities."
      ]
    },
    {
      "cell_type": "code",
      "metadata": {
        "colab": {
          "base_uri": "https://localhost:8080/"
        },
        "id": "qsR3_sOCcQ9c",
        "outputId": "b5ad4535-c1ed-4668-949b-7ea28a16c852"
      },
      "source": [
        "combined = san_luis_venues.append([madison_venues, santa_barbara_venues, dc_venues, missoula_venues, rogers_venues, ft_collins_venues, denver_venues, grand_forks_venues, fayetteville_venues])\r\n",
        "combined.shape"
      ],
      "execution_count": 69,
      "outputs": [
        {
          "output_type": "execute_result",
          "data": {
            "text/plain": [
              "(907, 4)"
            ]
          },
          "metadata": {
            "tags": []
          },
          "execution_count": 69
        }
      ]
    },
    {
      "cell_type": "code",
      "metadata": {
        "colab": {
          "base_uri": "https://localhost:8080/"
        },
        "id": "FCpTlpIicc36",
        "outputId": "37b96e6e-765a-4ecb-a898-5cc972a02bfc"
      },
      "source": [
        "combined_categories = combined['categories'].value_counts()\r\n",
        "combined_categories.head(10)"
      ],
      "execution_count": 70,
      "outputs": [
        {
          "output_type": "execute_result",
          "data": {
            "text/plain": [
              "Coffee Shop            35\n",
              "Pizza Place            35\n",
              "Sandwich Place         35\n",
              "Bar                    35\n",
              "Mexican Restaurant     28\n",
              "Brewery                27\n",
              "American Restaurant    27\n",
              "Hotel                  25\n",
              "Café                   22\n",
              "Park                   21\n",
              "Name: categories, dtype: int64"
            ]
          },
          "metadata": {
            "tags": []
          },
          "execution_count": 70
        }
      ]
    },
    {
      "cell_type": "markdown",
      "metadata": {
        "id": "GJpEt8UGrNSb"
      },
      "source": [
        "Now that these categories for the top ten bicycle cities have been counted, I will apply this data to simple and multiple regression analyses to see if the location categories in these cities can predict the bicycle ranking score."
      ]
    },
    {
      "cell_type": "markdown",
      "metadata": {
        "id": "cib3Tpv38ehQ"
      },
      "source": [
        "#### Creating Category Dataframe with Score"
      ]
    },
    {
      "cell_type": "code",
      "metadata": {
        "id": "yuNWUGc88cYw",
        "colab": {
          "base_uri": "https://localhost:8080/",
          "height": 347
        },
        "outputId": "807d25d9-f1c9-4d92-d22b-e9d9f40d2511"
      },
      "source": [
        "data = {'Bar' : [1, 2, 4, 0, 7, 1, 5, 3, 12, 4],\r\n",
        "        'Pizza_Place' : [5, 1, 3, 3, 3, 4, 4, 1, 5, 6],\r\n",
        "        'Coffee_Shop' : [5, 3, 4, 4, 5, 0, 8, 1, 3, 4],\r\n",
        "        'Sandwich_Place' : [6, 4, 2, 2, 3, 1, 3, 6, 4, 4],\r\n",
        "        'American_Restaurant' : [2, 3, 5, 3, 1, 1, 4, 7, 3, 2],\r\n",
        "        'Mexican_Restuarant' : [4, 2, 5, 2, 3, 3, 2, 2, 3, 2],\r\n",
        "        'Brewery' : [4, 0, 5, 1, 6, 1, 4, 2, 2, 2],\r\n",
        "        'Hotel' : [2, 1, 3, 3, 3, 1, 2, 10, 0, 0],\r\n",
        "        'Park' : [0, 4, 0, 4, 4, 2, 2, 1, 3, 3],\r\n",
        "        'Cafe' : [3, 0, 2, 2, 5, 1, 4, 1, 0, 4],\r\n",
        "        'Score' : [3.544765, 3.510025, 3.259336, 3.242599, 3.208574, 3.193091, 3.171317, 3.150774, 3.148480, 3.133023]}\r\n",
        "category_score = pd.DataFrame.from_dict(data)\r\n",
        "category_score"
      ],
      "execution_count": 71,
      "outputs": [
        {
          "output_type": "execute_result",
          "data": {
            "text/html": [
              "<div>\n",
              "<style scoped>\n",
              "    .dataframe tbody tr th:only-of-type {\n",
              "        vertical-align: middle;\n",
              "    }\n",
              "\n",
              "    .dataframe tbody tr th {\n",
              "        vertical-align: top;\n",
              "    }\n",
              "\n",
              "    .dataframe thead th {\n",
              "        text-align: right;\n",
              "    }\n",
              "</style>\n",
              "<table border=\"1\" class=\"dataframe\">\n",
              "  <thead>\n",
              "    <tr style=\"text-align: right;\">\n",
              "      <th></th>\n",
              "      <th>Bar</th>\n",
              "      <th>Pizza_Place</th>\n",
              "      <th>Coffee_Shop</th>\n",
              "      <th>Sandwich_Place</th>\n",
              "      <th>American_Restaurant</th>\n",
              "      <th>Mexican_Restuarant</th>\n",
              "      <th>Brewery</th>\n",
              "      <th>Hotel</th>\n",
              "      <th>Park</th>\n",
              "      <th>Cafe</th>\n",
              "      <th>Score</th>\n",
              "    </tr>\n",
              "  </thead>\n",
              "  <tbody>\n",
              "    <tr>\n",
              "      <th>0</th>\n",
              "      <td>1</td>\n",
              "      <td>5</td>\n",
              "      <td>5</td>\n",
              "      <td>6</td>\n",
              "      <td>2</td>\n",
              "      <td>4</td>\n",
              "      <td>4</td>\n",
              "      <td>2</td>\n",
              "      <td>0</td>\n",
              "      <td>3</td>\n",
              "      <td>3.544765</td>\n",
              "    </tr>\n",
              "    <tr>\n",
              "      <th>1</th>\n",
              "      <td>2</td>\n",
              "      <td>1</td>\n",
              "      <td>3</td>\n",
              "      <td>4</td>\n",
              "      <td>3</td>\n",
              "      <td>2</td>\n",
              "      <td>0</td>\n",
              "      <td>1</td>\n",
              "      <td>4</td>\n",
              "      <td>0</td>\n",
              "      <td>3.510025</td>\n",
              "    </tr>\n",
              "    <tr>\n",
              "      <th>2</th>\n",
              "      <td>4</td>\n",
              "      <td>3</td>\n",
              "      <td>4</td>\n",
              "      <td>2</td>\n",
              "      <td>5</td>\n",
              "      <td>5</td>\n",
              "      <td>5</td>\n",
              "      <td>3</td>\n",
              "      <td>0</td>\n",
              "      <td>2</td>\n",
              "      <td>3.259336</td>\n",
              "    </tr>\n",
              "    <tr>\n",
              "      <th>3</th>\n",
              "      <td>0</td>\n",
              "      <td>3</td>\n",
              "      <td>4</td>\n",
              "      <td>2</td>\n",
              "      <td>3</td>\n",
              "      <td>2</td>\n",
              "      <td>1</td>\n",
              "      <td>3</td>\n",
              "      <td>4</td>\n",
              "      <td>2</td>\n",
              "      <td>3.242599</td>\n",
              "    </tr>\n",
              "    <tr>\n",
              "      <th>4</th>\n",
              "      <td>7</td>\n",
              "      <td>3</td>\n",
              "      <td>5</td>\n",
              "      <td>3</td>\n",
              "      <td>1</td>\n",
              "      <td>3</td>\n",
              "      <td>6</td>\n",
              "      <td>3</td>\n",
              "      <td>4</td>\n",
              "      <td>5</td>\n",
              "      <td>3.208574</td>\n",
              "    </tr>\n",
              "    <tr>\n",
              "      <th>5</th>\n",
              "      <td>1</td>\n",
              "      <td>4</td>\n",
              "      <td>0</td>\n",
              "      <td>1</td>\n",
              "      <td>1</td>\n",
              "      <td>3</td>\n",
              "      <td>1</td>\n",
              "      <td>1</td>\n",
              "      <td>2</td>\n",
              "      <td>1</td>\n",
              "      <td>3.193091</td>\n",
              "    </tr>\n",
              "    <tr>\n",
              "      <th>6</th>\n",
              "      <td>5</td>\n",
              "      <td>4</td>\n",
              "      <td>8</td>\n",
              "      <td>3</td>\n",
              "      <td>4</td>\n",
              "      <td>2</td>\n",
              "      <td>4</td>\n",
              "      <td>2</td>\n",
              "      <td>2</td>\n",
              "      <td>4</td>\n",
              "      <td>3.171317</td>\n",
              "    </tr>\n",
              "    <tr>\n",
              "      <th>7</th>\n",
              "      <td>3</td>\n",
              "      <td>1</td>\n",
              "      <td>1</td>\n",
              "      <td>6</td>\n",
              "      <td>7</td>\n",
              "      <td>2</td>\n",
              "      <td>2</td>\n",
              "      <td>10</td>\n",
              "      <td>1</td>\n",
              "      <td>1</td>\n",
              "      <td>3.150774</td>\n",
              "    </tr>\n",
              "    <tr>\n",
              "      <th>8</th>\n",
              "      <td>12</td>\n",
              "      <td>5</td>\n",
              "      <td>3</td>\n",
              "      <td>4</td>\n",
              "      <td>3</td>\n",
              "      <td>3</td>\n",
              "      <td>2</td>\n",
              "      <td>0</td>\n",
              "      <td>3</td>\n",
              "      <td>0</td>\n",
              "      <td>3.148480</td>\n",
              "    </tr>\n",
              "    <tr>\n",
              "      <th>9</th>\n",
              "      <td>4</td>\n",
              "      <td>6</td>\n",
              "      <td>4</td>\n",
              "      <td>4</td>\n",
              "      <td>2</td>\n",
              "      <td>2</td>\n",
              "      <td>2</td>\n",
              "      <td>0</td>\n",
              "      <td>3</td>\n",
              "      <td>4</td>\n",
              "      <td>3.133023</td>\n",
              "    </tr>\n",
              "  </tbody>\n",
              "</table>\n",
              "</div>"
            ],
            "text/plain": [
              "   Bar  Pizza_Place  Coffee_Shop  Sandwich_Place  ...  Hotel  Park  Cafe     Score\n",
              "0    1            5            5               6  ...      2     0     3  3.544765\n",
              "1    2            1            3               4  ...      1     4     0  3.510025\n",
              "2    4            3            4               2  ...      3     0     2  3.259336\n",
              "3    0            3            4               2  ...      3     4     2  3.242599\n",
              "4    7            3            5               3  ...      3     4     5  3.208574\n",
              "5    1            4            0               1  ...      1     2     1  3.193091\n",
              "6    5            4            8               3  ...      2     2     4  3.171317\n",
              "7    3            1            1               6  ...     10     1     1  3.150774\n",
              "8   12            5            3               4  ...      0     3     0  3.148480\n",
              "9    4            6            4               4  ...      0     3     4  3.133023\n",
              "\n",
              "[10 rows x 11 columns]"
            ]
          },
          "metadata": {
            "tags": []
          },
          "execution_count": 71
        }
      ]
    },
    {
      "cell_type": "markdown",
      "metadata": {
        "id": "dG_vsmAyA8wA"
      },
      "source": [
        "### Regression"
      ]
    },
    {
      "cell_type": "markdown",
      "metadata": {
        "id": "geTb9XOvQKgM"
      },
      "source": [
        "With the data collected and organized, I will now use a regression algorithm to see if the venue categories in close proximity to city halls can determine what kind of score each city received from the PlacesForBikes ratings."
      ]
    },
    {
      "cell_type": "code",
      "metadata": {
        "id": "kqsW0u74HSEU"
      },
      "source": [
        "import matplotlib.pyplot as plt\r\n",
        "from sklearn import linear_model\r\n",
        "from sklearn.metrics import r2_score"
      ],
      "execution_count": 72,
      "outputs": []
    },
    {
      "cell_type": "markdown",
      "metadata": {
        "id": "MMcChtUJ7UVL"
      },
      "source": [
        "#### Simple Linear Regression"
      ]
    },
    {
      "cell_type": "markdown",
      "metadata": {
        "id": "06xHW17d8Q6b"
      },
      "source": [
        "Since we are first going to test a single venue category as the independent variable and the score as the dependent variable, it would be valuable to see what the correlation of each venue has with the final score."
      ]
    },
    {
      "cell_type": "code",
      "metadata": {
        "colab": {
          "base_uri": "https://localhost:8080/",
          "height": 0
        },
        "id": "Qj1psljOC2KP",
        "outputId": "6767110f-0d55-4292-f88a-214761f558f0"
      },
      "source": [
        "category_score.corr(method='pearson')"
      ],
      "execution_count": 73,
      "outputs": [
        {
          "output_type": "execute_result",
          "data": {
            "text/html": [
              "<div>\n",
              "<style scoped>\n",
              "    .dataframe tbody tr th:only-of-type {\n",
              "        vertical-align: middle;\n",
              "    }\n",
              "\n",
              "    .dataframe tbody tr th {\n",
              "        vertical-align: top;\n",
              "    }\n",
              "\n",
              "    .dataframe thead th {\n",
              "        text-align: right;\n",
              "    }\n",
              "</style>\n",
              "<table border=\"1\" class=\"dataframe\">\n",
              "  <thead>\n",
              "    <tr style=\"text-align: right;\">\n",
              "      <th></th>\n",
              "      <th>Bar</th>\n",
              "      <th>Pizza_Place</th>\n",
              "      <th>Coffee_Shop</th>\n",
              "      <th>Sandwich_Place</th>\n",
              "      <th>American_Restaurant</th>\n",
              "      <th>Mexican_Restuarant</th>\n",
              "      <th>Brewery</th>\n",
              "      <th>Hotel</th>\n",
              "      <th>Park</th>\n",
              "      <th>Cafe</th>\n",
              "      <th>Score</th>\n",
              "    </tr>\n",
              "  </thead>\n",
              "  <tbody>\n",
              "    <tr>\n",
              "      <th>Bar</th>\n",
              "      <td>1.000000</td>\n",
              "      <td>0.275701</td>\n",
              "      <td>0.179985</td>\n",
              "      <td>0.085562</td>\n",
              "      <td>0.001693</td>\n",
              "      <td>0.085050</td>\n",
              "      <td>0.317499</td>\n",
              "      <td>-0.212623</td>\n",
              "      <td>0.186183</td>\n",
              "      <td>0.003583</td>\n",
              "      <td>-0.445668</td>\n",
              "    </tr>\n",
              "    <tr>\n",
              "      <th>Pizza_Place</th>\n",
              "      <td>0.275701</td>\n",
              "      <td>1.000000</td>\n",
              "      <td>0.289016</td>\n",
              "      <td>-0.061224</td>\n",
              "      <td>-0.526994</td>\n",
              "      <td>0.195615</td>\n",
              "      <td>0.190284</td>\n",
              "      <td>-0.643682</td>\n",
              "      <td>-0.107439</td>\n",
              "      <td>0.384559</td>\n",
              "      <td>-0.204865</td>\n",
              "    </tr>\n",
              "    <tr>\n",
              "      <th>Coffee_Shop</th>\n",
              "      <td>0.179985</td>\n",
              "      <td>0.289016</td>\n",
              "      <td>1.000000</td>\n",
              "      <td>0.045634</td>\n",
              "      <td>-0.073142</td>\n",
              "      <td>0.019440</td>\n",
              "      <td>0.569896</td>\n",
              "      <td>-0.252971</td>\n",
              "      <td>0.028829</td>\n",
              "      <td>0.676454</td>\n",
              "      <td>0.109309</td>\n",
              "    </tr>\n",
              "    <tr>\n",
              "      <th>Sandwich_Place</th>\n",
              "      <td>0.085562</td>\n",
              "      <td>-0.061224</td>\n",
              "      <td>0.045634</td>\n",
              "      <td>1.000000</td>\n",
              "      <td>0.345272</td>\n",
              "      <td>-0.130410</td>\n",
              "      <td>0.017299</td>\n",
              "      <td>0.386209</td>\n",
              "      <td>-0.279341</td>\n",
              "      <td>-0.038456</td>\n",
              "      <td>0.320921</td>\n",
              "    </tr>\n",
              "    <tr>\n",
              "      <th>American_Restaurant</th>\n",
              "      <td>0.001693</td>\n",
              "      <td>-0.526994</td>\n",
              "      <td>-0.073142</td>\n",
              "      <td>0.345272</td>\n",
              "      <td>1.000000</td>\n",
              "      <td>-0.046449</td>\n",
              "      <td>-0.021565</td>\n",
              "      <td>0.739897</td>\n",
              "      <td>-0.432417</td>\n",
              "      <td>-0.315032</td>\n",
              "      <td>-0.179037</td>\n",
              "    </tr>\n",
              "    <tr>\n",
              "      <th>Mexican_Restuarant</th>\n",
              "      <td>0.085050</td>\n",
              "      <td>0.195615</td>\n",
              "      <td>0.019440</td>\n",
              "      <td>-0.130410</td>\n",
              "      <td>-0.046449</td>\n",
              "      <td>1.000000</td>\n",
              "      <td>0.574805</td>\n",
              "      <td>-0.112178</td>\n",
              "      <td>-0.645351</td>\n",
              "      <td>0.024574</td>\n",
              "      <td>0.266157</td>\n",
              "    </tr>\n",
              "    <tr>\n",
              "      <th>Brewery</th>\n",
              "      <td>0.317499</td>\n",
              "      <td>0.190284</td>\n",
              "      <td>0.569896</td>\n",
              "      <td>0.017299</td>\n",
              "      <td>-0.021565</td>\n",
              "      <td>0.574805</td>\n",
              "      <td>1.000000</td>\n",
              "      <td>0.109121</td>\n",
              "      <td>-0.367915</td>\n",
              "      <td>0.704080</td>\n",
              "      <td>-0.078518</td>\n",
              "    </tr>\n",
              "    <tr>\n",
              "      <th>Hotel</th>\n",
              "      <td>-0.212623</td>\n",
              "      <td>-0.643682</td>\n",
              "      <td>-0.252971</td>\n",
              "      <td>0.386209</td>\n",
              "      <td>0.739897</td>\n",
              "      <td>-0.112178</td>\n",
              "      <td>0.109121</td>\n",
              "      <td>1.000000</td>\n",
              "      <td>-0.332705</td>\n",
              "      <td>-0.066159</td>\n",
              "      <td>-0.163629</td>\n",
              "    </tr>\n",
              "    <tr>\n",
              "      <th>Park</th>\n",
              "      <td>0.186183</td>\n",
              "      <td>-0.107439</td>\n",
              "      <td>0.028829</td>\n",
              "      <td>-0.279341</td>\n",
              "      <td>-0.432417</td>\n",
              "      <td>-0.645351</td>\n",
              "      <td>-0.367915</td>\n",
              "      <td>-0.332705</td>\n",
              "      <td>1.000000</td>\n",
              "      <td>0.016196</td>\n",
              "      <td>-0.154249</td>\n",
              "    </tr>\n",
              "    <tr>\n",
              "      <th>Cafe</th>\n",
              "      <td>0.003583</td>\n",
              "      <td>0.384559</td>\n",
              "      <td>0.676454</td>\n",
              "      <td>-0.038456</td>\n",
              "      <td>-0.315032</td>\n",
              "      <td>0.024574</td>\n",
              "      <td>0.704080</td>\n",
              "      <td>-0.066159</td>\n",
              "      <td>0.016196</td>\n",
              "      <td>1.000000</td>\n",
              "      <td>-0.168062</td>\n",
              "    </tr>\n",
              "    <tr>\n",
              "      <th>Score</th>\n",
              "      <td>-0.445668</td>\n",
              "      <td>-0.204865</td>\n",
              "      <td>0.109309</td>\n",
              "      <td>0.320921</td>\n",
              "      <td>-0.179037</td>\n",
              "      <td>0.266157</td>\n",
              "      <td>-0.078518</td>\n",
              "      <td>-0.163629</td>\n",
              "      <td>-0.154249</td>\n",
              "      <td>-0.168062</td>\n",
              "      <td>1.000000</td>\n",
              "    </tr>\n",
              "  </tbody>\n",
              "</table>\n",
              "</div>"
            ],
            "text/plain": [
              "                          Bar  Pizza_Place  ...      Cafe     Score\n",
              "Bar                  1.000000     0.275701  ...  0.003583 -0.445668\n",
              "Pizza_Place          0.275701     1.000000  ...  0.384559 -0.204865\n",
              "Coffee_Shop          0.179985     0.289016  ...  0.676454  0.109309\n",
              "Sandwich_Place       0.085562    -0.061224  ... -0.038456  0.320921\n",
              "American_Restaurant  0.001693    -0.526994  ... -0.315032 -0.179037\n",
              "Mexican_Restuarant   0.085050     0.195615  ...  0.024574  0.266157\n",
              "Brewery              0.317499     0.190284  ...  0.704080 -0.078518\n",
              "Hotel               -0.212623    -0.643682  ... -0.066159 -0.163629\n",
              "Park                 0.186183    -0.107439  ...  0.016196 -0.154249\n",
              "Cafe                 0.003583     0.384559  ...  1.000000 -0.168062\n",
              "Score               -0.445668    -0.204865  ... -0.168062  1.000000\n",
              "\n",
              "[11 rows x 11 columns]"
            ]
          },
          "metadata": {
            "tags": []
          },
          "execution_count": 73
        }
      ]
    },
    {
      "cell_type": "markdown",
      "metadata": {
        "id": "b6hP2NCVT14B"
      },
      "source": [
        "Unfortunately, the data shows that the most common occurring venue type was actually negatively correlated with score. This can be explained by only one occurrence of a bar in the highest rated city. Instead, we will take the highest correlated category type, which was 'Sandwich Place' and use that as our independent variable. The dependent variable will be 'Score'."
      ]
    },
    {
      "cell_type": "code",
      "metadata": {
        "id": "0eNPpYKLGlsV"
      },
      "source": [
        "msk = np.random.rand(len(category_score)) < 0.8\r\n",
        "train = category_score[msk]\r\n",
        "test = category_score[~msk]"
      ],
      "execution_count": 74,
      "outputs": []
    },
    {
      "cell_type": "markdown",
      "metadata": {
        "id": "K7rrmMRTUcSL"
      },
      "source": [
        "With the training and test sets randomly split, I will now train the model. Using SciKit-Learn, I have made a linear regression below."
      ]
    },
    {
      "cell_type": "code",
      "metadata": {
        "colab": {
          "base_uri": "https://localhost:8080/"
        },
        "id": "ls7lEK9JFWQV",
        "outputId": "061cb6ef-5e51-4892-859f-1d28a4063e13"
      },
      "source": [
        "regr = linear_model.LinearRegression()\r\n",
        "train_x = np.asanyarray(train[['Sandwich_Place']])\r\n",
        "train_y = np.asanyarray(train[['Score']])\r\n",
        "regr.fit (train_x, train_y)\r\n",
        "print ('Coefficients: ', regr.coef_)\r\n",
        "print ('Intercept: ',regr.intercept_)"
      ],
      "execution_count": 75,
      "outputs": [
        {
          "output_type": "stream",
          "text": [
            "Coefficients:  [[0.04681676]]\n",
            "Intercept:  [3.09134574]\n"
          ],
          "name": "stdout"
        }
      ]
    },
    {
      "cell_type": "code",
      "metadata": {
        "colab": {
          "base_uri": "https://localhost:8080/",
          "height": 0
        },
        "id": "OhnawhueG6zL",
        "outputId": "7fcb84ad-efe2-4d5d-9f1a-cda788e8221a"
      },
      "source": [
        "plt.scatter(train.Sandwich_Place, train.Score,  color='blue')\r\n",
        "plt.plot(train_x, regr.coef_[0][0]*train_x + regr.intercept_[0], '-r')\r\n",
        "plt.xlabel(\"Number of Sandwich Places\")\r\n",
        "plt.ylabel(\"Score\")"
      ],
      "execution_count": 76,
      "outputs": [
        {
          "output_type": "execute_result",
          "data": {
            "text/plain": [
              "Text(0, 0.5, 'Score')"
            ]
          },
          "metadata": {
            "tags": []
          },
          "execution_count": 76
        },
        {
          "output_type": "display_data",
          "data": {
            "image/png": "[encoded data removed]",
            "text/plain": [
              "<Figure size 432x288 with 1 Axes>"
            ]
          },
          "metadata": {
            "tags": [],
            "needs_background": "light"
          }
        }
      ]
    },
    {
      "cell_type": "markdown",
      "metadata": {
        "id": "5S5Jlz-9Uq2I"
      },
      "source": [
        "Already, this plotting looks very disappointing. Even selecting the highest correlative variable, there does not seem to be much correlation between the variables."
      ]
    },
    {
      "cell_type": "code",
      "metadata": {
        "colab": {
          "base_uri": "https://localhost:8080/"
        },
        "id": "8Kp37MmBI_aj",
        "outputId": "023fcdb3-7dad-4a6c-96d3-9578766d7237"
      },
      "source": [
        "test_x = np.asanyarray(test[['Sandwich_Place']])\r\n",
        "test_y = np.asanyarray(test[['Score']])\r\n",
        "test_y_ = regr.predict(test_x)\r\n",
        "\r\n",
        "print(\"Mean absolute error: %.2f\" % np.mean(np.absolute(test_y_ - test_y)))\r\n",
        "print(\"Residual sum of squares (MSE): %.2f\" % np.mean((test_y_ - test_y) ** 2))\r\n",
        "print(\"R2-score: %.2f\" % r2_score(test_y , test_y_) )"
      ],
      "execution_count": 77,
      "outputs": [
        {
          "output_type": "stream",
          "text": [
            "Mean absolute error: 0.23\n",
            "Residual sum of squares (MSE): 0.05\n",
            "R2-score: -0.59\n"
          ],
          "name": "stdout"
        }
      ]
    },
    {
      "cell_type": "markdown",
      "metadata": {
        "id": "EBClk6L8JfWp"
      },
      "source": [
        "Testing  for MSE and R2 scores shows that this model cannot predict a city's bicycle score by simply comparing a single venue type and its number of occurences within that city."
      ]
    },
    {
      "cell_type": "markdown",
      "metadata": {
        "id": "7EPXaBeT7kJj"
      },
      "source": [
        "#### Multiple Linear Regression"
      ]
    },
    {
      "cell_type": "markdown",
      "metadata": {
        "id": "Uo5TIwYY86sx"
      },
      "source": [
        "Since simple linear regression yielded a model that was not particularly useful, we next will try multiple linear regression."
      ]
    },
    {
      "cell_type": "code",
      "metadata": {
        "colab": {
          "base_uri": "https://localhost:8080/"
        },
        "id": "Fs7V5u3uKBrx",
        "outputId": "0dd997bd-1b33-4738-b55d-18da3ff919a1"
      },
      "source": [
        "list(category_score)"
      ],
      "execution_count": 78,
      "outputs": [
        {
          "output_type": "execute_result",
          "data": {
            "text/plain": [
              "['Bar',\n",
              " 'Pizza_Place',\n",
              " 'Coffee_Shop',\n",
              " 'Sandwich_Place',\n",
              " 'American_Restaurant',\n",
              " 'Mexican_Restuarant',\n",
              " 'Brewery',\n",
              " 'Hotel',\n",
              " 'Park',\n",
              " 'Cafe',\n",
              " 'Score']"
            ]
          },
          "metadata": {
            "tags": []
          },
          "execution_count": 78
        }
      ]
    },
    {
      "cell_type": "code",
      "metadata": {
        "id": "EypfHOq97rUD",
        "colab": {
          "base_uri": "https://localhost:8080/"
        },
        "outputId": "9c236860-6186-40d9-ba2d-c55d6e5c83cd"
      },
      "source": [
        "regr = linear_model.LinearRegression()\r\n",
        "x = np.asanyarray(train[['Bar',\r\n",
        " 'Pizza_Place',\r\n",
        " 'Coffee_Shop',\r\n",
        " 'Sandwich_Place',\r\n",
        " 'American_Restaurant',\r\n",
        " 'Mexican_Restuarant',\r\n",
        " 'Brewery',\r\n",
        " 'Hotel',\r\n",
        " 'Park',\r\n",
        " 'Cafe']])\r\n",
        "y = np.asanyarray(train[['Score']])\r\n",
        "regr.fit (x, y)\r\n",
        "print ('Coefficients: ', regr.coef_)"
      ],
      "execution_count": 79,
      "outputs": [
        {
          "output_type": "stream",
          "text": [
            "Coefficients:  [[-0.01670847 -0.01702731  0.01385417  0.06162409 -0.03559916  0.01613618\n",
            "   0.00883649  0.03146347 -0.01775367 -0.04135364]]\n"
          ],
          "name": "stdout"
        }
      ]
    },
    {
      "cell_type": "code",
      "metadata": {
        "colab": {
          "base_uri": "https://localhost:8080/"
        },
        "id": "RGxYsYu-SIU5",
        "outputId": "d320927c-e554-4603-d842-26c2efd4747c"
      },
      "source": [
        "y_hat= regr.predict(test[['Bar',\r\n",
        " 'Pizza_Place',\r\n",
        " 'Coffee_Shop',\r\n",
        " 'Sandwich_Place',\r\n",
        " 'American_Restaurant',\r\n",
        " 'Mexican_Restuarant',\r\n",
        " 'Brewery',\r\n",
        " 'Hotel',\r\n",
        " 'Park',\r\n",
        " 'Cafe']])\r\n",
        "x = np.asanyarray(test[['Bar',\r\n",
        " 'Pizza_Place',\r\n",
        " 'Coffee_Shop',\r\n",
        " 'Sandwich_Place',\r\n",
        " 'American_Restaurant',\r\n",
        " 'Mexican_Restuarant',\r\n",
        " 'Brewery',\r\n",
        " 'Hotel',\r\n",
        " 'Park',\r\n",
        " 'Cafe']])\r\n",
        "y = np.asanyarray(test[['Score']])\r\n",
        "print(\"Residual sum of squares: %.2f\"\r\n",
        "      % np.mean((y_hat - y) ** 2))\r\n",
        "print('Variance score: %.2f' % regr.score(x, y))"
      ],
      "execution_count": 80,
      "outputs": [
        {
          "output_type": "stream",
          "text": [
            "Residual sum of squares: 0.12\n",
            "Variance score: -2.64\n"
          ],
          "name": "stdout"
        }
      ]
    },
    {
      "cell_type": "markdown",
      "metadata": {
        "id": "YeehqXdPV-yv"
      },
      "source": [
        "While a Variance score of '1' would've indicated a perfectly predictive model, our scores show that multiple linear regression does not provide us with a predictive model."
      ]
    },
    {
      "cell_type": "markdown",
      "metadata": {
        "id": "PdONP0xf0Sj9"
      },
      "source": [
        "## Results"
      ]
    },
    {
      "cell_type": "markdown",
      "metadata": {
        "id": "VGHdEzdjWJYT"
      },
      "source": [
        "The results show that using Foursquare API to create dataframes of venues in ten cities and creating regression models, in the methodology as I have shown, does not result in a predictive model to predict scores for bicycle cities."
      ]
    },
    {
      "cell_type": "markdown",
      "metadata": {
        "id": "c021P3600Sob"
      },
      "source": [
        "## Discussion"
      ]
    },
    {
      "cell_type": "markdown",
      "metadata": {
        "id": "z_zBnjZQWnYn"
      },
      "source": [
        "While the results may be disappointing, I believe there are a lot of factors that could be addressed and I believe this project still has the capacity to provide valuable insights."
      ]
    },
    {
      "cell_type": "markdown",
      "metadata": {
        "id": "N1MegHaxW4TG"
      },
      "source": [
        "### Limitations and Changes"
      ]
    },
    {
      "cell_type": "markdown",
      "metadata": {
        "id": "RWkCCePNW66u"
      },
      "source": [
        "While some models may be made too powerful through overfitting, I believe this model that I have made suffers from the opposite problem of not having enough data to detect a signal and differentiate it from noise. I will now list some observations and potential changes that could take place in order to make more powerful models in the future using the same data set.\r\n",
        "<br>\r\n",
        "<br>\r\n",
        "\r\n",
        "\r\n",
        "*   The sample size that I studied was far too small. While the original dataset from PlacesForBikes contained 557 cities, I only collected data and observed ten of those cities, or a tiny 1.8% of the total cities observed. While it would've been ideal to process the data for all of the cities, I believe that was far beyond the time expectations of this project without the use of a python script to automate the process. While such a script is conceivable and very possible, I believed that it was beyond the scope of the class to design such a script. Further study should yield an interesting demonstration of programming, and with that, much more substantial data to study.\r\n",
        "*   My model relied only on data from one source: Foursquare. A much more robust predictive model for cities that are drastically different from one another would likely require data that takes some of these differences into account. More specialized data, such as number of bike trips, trails, weather, and other features would lead some insight into the nature of these cities and what makes them more conducive to bike riding. While I am sure that PlacesForBikes took these factors into account when determining scores for the cities, it would be a much more complicated task to use these features to construct machine learning algorithms that could predict the scores of cities.\r\n",
        "\r\n"
      ]
    },
    {
      "cell_type": "markdown",
      "metadata": {
        "id": "Q17ugjLzpO9-"
      },
      "source": [
        "## Conclusion"
      ]
    },
    {
      "cell_type": "markdown",
      "metadata": {
        "id": "2HOf1zi9ZL29"
      },
      "source": [
        "While I was unsuccessful in finding a signal in the data, I believe this project has plenty of potential to either be expanded or retooled to become more powerful and ready to tackle problems similar to the one I observed here. Moving forward, this project also is worthwhile in providing the null hypothesis of the relationship of venue types within a city and how bikeable it is: there is no relationship. Whether that hypothesis could be strengthened or argued against is up to the results of further study.\r\n",
        "\r\n",
        "I have enjoyed working through this project and have learned much in the world of data. I give myself a grade of A+ and a gold star. I hope you too can see the value of the work that I have done here."
      ]
    },
    {
      "cell_type": "markdown",
      "metadata": {
        "id": "6Wt29YcrvQdT"
      },
      "source": [
        "![greatjob.png](data:image/png;base64,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)"
      ]
    },
    {
      "cell_type": "markdown",
      "metadata": {
        "id": "le5XDyLpAYxq"
      },
      "source": [
        "### Plotting (Future Project)"
      ]
    },
    {
      "cell_type": "markdown",
      "metadata": {
        "id": "gfHEZq1ltrXE"
      },
      "source": [
        "Below are plotting maps for each city. While not directly related to the construction of a regression model, having this data visually presented can provide some interesting insights, such as the shape and layout of the cities. A clustering model of the different venues may provide interesting insights into the segmentation of the city. I have decided to leave these maps here to potentially used in the future should I decide to revisit this project."
      ]
    },
    {
      "cell_type": "markdown",
      "metadata": {
        "id": "U0I0GIhNmILL"
      },
      "source": [
        "#### San Luis Obispo"
      ]
    },
    {
      "cell_type": "code",
      "metadata": {
        "colab": {
          "base_uri": "https://localhost:8080/",
          "height": 0
        },
        "id": "oD3BOLzlNmrb",
        "outputId": "98094724-0041-42ab-8153-dd8ce4611505"
      },
      "source": [
        "san_luis_map = folium.Map(location=[35.28263142857143, -120.66234418367347], zoom_start=15)\r\n",
        "san_luis_points = san_luis_venues[['lat', 'lng']]\r\n",
        "\r\n",
        "san_luis = san_luis_points.values.tolist()\r\n",
        "for point in range(0, len(san_luis)):\r\n",
        "  folium.Marker(san_luis[point]).add_to(san_luis_map)\r\n",
        "san_luis_map"
      ],
      "execution_count": 81,
      "outputs": [
        {
          "output_type": "execute_result",
          "data": {
            "text/html": [
              "<div style=\"width:100%;\"><div style=\"position:relative;width:100%;height:0;padding-bottom:60%;\"><span style=\"color:#565656\">Make this Notebook Trusted to load map: File -> Trust Notebook</span><iframe src=\"about:blank\" style=\"position:absolute;width:100%;height:100%;left:0;top:0;border:none !important;\" data-html=%3C%21DOCTYPE%20html%3E%0A%3Chead%3E%20%20%20%20%0A%20%20%20%20%3Cmeta%20http-equiv%3D%22content-type%22%20content%3D%22text/html%3B%20charset%3DUTF-8%22%20/%3E%0A%20%20%20%20%3Cscript%3EL_PREFER_CANVAS%3Dfalse%3B%20L_NO_TOUCH%3Dfalse%3B%20L_DISABLE_3D%3Dfalse%3B%3C/script%3E%0A%20%20%20%20%3Cscript%20src%3D%22https%3A//cdn.jsdelivr.net/npm/leaflet%401.4.0/dist/leaflet.js%22%3E%3C/script%3E%0A%20%20%20%20%3Cscript%20src%3D%22https%3A//code.jquery.com/jquery-1.12.4.min.js%22%3E%3C/script%3E%0A%20%20%20%20%3Cscript%20src%3D%22https%3A//maxcdn.bootstrapcdn.com/bootstrap/3.2.0/js/bootstrap.min.js%22%3E%3C/script%3E%0A%20%20%20%20%3Cscript%20src%3D%22https%3A//cdnjs.cloudflare.com/ajax/libs/Leaflet.awesome-markers/2.0.2/leaflet.awesome-markers.js%22%3E%3C/script%3E%0A%20%20%20%20%3Clink%20rel%3D%22stylesheet%22%20href%3D%22https%3A//cdn.jsdelivr.net/npm/leaflet%401.4.0/dist/leaflet.css%22/%3E%0A%20%20%20%20%3Clink%20rel%3D%22stylesheet%22%20href%3D%22https%3A//maxcdn.bootstrapcdn.com/bootstrap/3.2.0/css/bootstrap.min.css%22/%3E%0A%20%20%20%20%3Clink%20rel%3D%22stylesheet%22%20href%3D%22https%3A//maxcdn.bootstrapcdn.com/bootstrap/3.2.0/css/bootstrap-theme.min.css%22/%3E%0A%20%20%20%20%3Clink%20rel%3D%22stylesheet%22%20href%3D%22https%3A//maxcdn.bootstrapcdn.com/font-awesome/4.6.3/css/font-awesome.min.css%22/%3E%0A%20%20%20%20%3Clink%20rel%3D%22stylesheet%22%20href%3D%22https%3A//cdnjs.cloudflare.com/ajax/libs/Leaflet.awesome-markers/2.0.2/leaflet.awesome-markers.css%22/%3E%0A%20%20%20%20%3Clink%20rel%3D%22stylesheet%22%20href%3D%22https%3A//rawcdn.githack.com/python-visualization/folium/master/folium/templates/leaflet.awesome.rotate.css%22/%3E%0A%20%20%20%20%3Cstyle%3Ehtml%2C%20body%20%7Bwidth%3A%20100%25%3Bheight%3A%20100%25%3Bmargin%3A%200%3Bpadding%3A%200%3B%7D%3C/style%3E%0A%20%20%20%20%3Cstyle%3E%23map%20%7Bposition%3Aabsolute%3Btop%3A0%3Bbottom%3A0%3Bright%3A0%3Bleft%3A0%3B%7D%3C/style%3E%0A%20%20%20%20%0A%20%20%20%20%3Cmeta%20name%3D%22viewport%22%20content%3D%22width%3Ddevice-width%2C%0A%20%20%20%20%20%20%20%20initial-scale%3D1.0%2C%20maximum-scale%3D1.0%2C%20user-scalable%3Dno%22%20/%3E%0A%20%20%20%20%3Cstyle%3E%23map_56d7a086a1f94b2fabf89df52d597412%20%7B%0A%20%20%20%20%20%20%20%20position%3A%20relative%3B%0A%20%20%20%20%20%20%20%20width%3A%20100.0%25%3B%0A%20%20%20%20%20%20%20%20height%3A%20100.0%25%3B%0A%20%20%20%20%20%20%20%20left%3A%200.0%25%3B%0A%20%20%20%20%20%20%20%20top%3A%200.0%25%3B%0A%20%20%20%20%20%20%20%20%7D%0A%20%20%20%20%3C/style%3E%0A%3C/head%3E%0A%3Cbody%3E%20%20%20%20%0A%20%20%20%20%0A%20%20%20%20%3Cdiv%20class%3D%22folium-map%22%20id%3D%22map_56d7a086a1f94b2fabf89df52d597412%22%20%3E%3C/div%3E%0A%3C/body%3E%0A%3Cscript%3E%20%20%20%20%0A%20%20%20%20%0A%20%20%20%20%0A%20%20%20%20%20%20%20%20var%20bounds%20%3D%20null%3B%0A%20%20%20%20%0A%0A%20%20%20%20var%20map_56d7a086a1f94b2fabf89df52d597412%20%3D%20L.map%28%0A%20%20%20%20%20%20%20%20%27map_56d7a086a1f94b2fabf89df52d597412%27%2C%20%7B%0A%20%20%20%20%20%20%20%20center%3A%20%5B35.28263142857143%2C%20-120.66234418367347%5D%2C%0A%20%20%20%20%20%20%20%20zoom%3A%2015%2C%0A%20%20%20%20%20%20%20%20maxBounds%3A%20bounds%2C%0A%20%20%20%20%20%20%20%20layers%3A%20%5B%5D%2C%0A%20%20%20%20%20%20%20%20worldCopyJump%3A%20false%2C%0A%20%20%20%20%20%20%20%20crs%3A%20L.CRS.EPSG3857%2C%0A%20%20%20%20%20%20%20%20zoomControl%3A%20true%2C%0A%20%20%20%20%20%20%20%20%7D%29%3B%0A%0A%0A%20%20%20%20%0A%20%20%20%20var%20tile_layer_b20971f5d48646c8bcc0ca1158e334aa%20%3D%20L.tileLayer%28%0A%20%20%20%20%20%20%20%20%27https%3A//%7Bs%7D.tile.openstreetmap.org/%7Bz%7D/%7Bx%7D/%7By%7D.png%27%2C%0A%20%20%20%20%20%20%20%20%7B%0A%20%20%20%20%20%20%20%20%22attribution%22%3A%20null%2C%0A%20%20%20%20%20%20%20%20%22detectRetina%22%3A%20false%2C%0A%20%20%20%20%20%20%20%20%22maxNativeZoom%22%3A%2018%2C%0A%20%20%20%20%20%20%20%20%22maxZoom%22%3A%2018%2C%0A%20%20%20%20%20%20%20%20%22minZoom%22%3A%200%2C%0A%20%20%20%20%20%20%20%20%22noWrap%22%3A%20false%2C%0A%20%20%20%20%20%20%20%20%22opacity%22%3A%201%2C%0A%20%20%20%20%20%20%20%20%22subdomains%22%3A%20%22abc%22%2C%0A%20%20%20%20%20%20%20%20%22tms%22%3A%20false%0A%7D%29.addTo%28map_56d7a086a1f94b2fabf89df52d597412%29%3B%0A%20%20%20%20%0A%20%20%20%20%20%20%20%20var%20marker_ab23da9cc366426d9f20ddbd3b455f75%20%3D%20L.marker%28%0A%20%20%20%20%20%20%20%20%20%20%20%20%5B35.28117635404707%2C%20-120.66042003695961%5D%2C%0A%20%20%20%20%20%20%20%20%20%20%20%20%7B%0A%20%20%20%20%20%20%20%20%20%20%20%20%20%20%20%20icon%3A%20new%20L.Icon.Default%28%29%2C%0A%20%20%20%20%20%20%20%20%20%20%20%20%20%20%20%20%7D%0A%20%20%20%20%20%20%20%20%20%20%20%20%29.addTo%28map_56d7a086a1f94b2fabf89df52d597412%29%3B%0A%20%20%20%20%20%20%20%20%0A%20%20%20%20%0A%20%20%20%20%20%20%20%20var%20marker_208e642388b2420ca85fec522a4ab001%20%3D%20L.marker%28%0A%20%20%20%20%20%20%20%20%20%20%20%20%5B35.2808632%2C%20-120.66168%5D%2C%0A%20%20%20%20%20%20%20%20%20%20%20%20%7B%0A%20%20%20%20%20%20%20%20%20%20%20%20%20%20%20%20icon%3A%20new%20L.Icon.Default%28%29%2C%0A%20%20%20%20%20%20%20%20%20%20%20%20%20%20%20%20%7D%0A%20%20%20%20%20%20%20%20%20%20%20%20%29.addTo%28map_56d7a086a1f94b2fabf89df52d597412%29%3B%0A%20%20%20%20%20%20%20%20%0A%20%20%20%20%0A%20%20%20%20%20%20%20%20var%20marker_20e1f9834dea408da1a6c3ee45a3d223%20%3D%20L.marker%28%0A%20%20%20%20%20%20%20%20%20%20%20%20%5B35.27896337034142%2C%20-120.66283606649789%5D%2C%0A%20%20%20%20%20%20%20%20%20%20%20%20%7B%0A%20%20%20%20%20%20%20%20%20%20%20%20%20%20%20%20icon%3A%20new%20L.Icon.Default%28%29%2C%0A%20%20%20%20%20%20%20%20%20%20%20%20%20%20%20%20%7D%0A%20%20%20%20%20%20%20%20%20%20%20%20%29.addTo%28map_56d7a086a1f94b2fabf89df52d597412%29%3B%0A%20%20%20%20%20%20%20%20%0A%20%20%20%20%0A%20%20%20%20%20%20%20%20var%20marker_8e764f9b8e15451984f4cb448d774332%20%3D%20L.marker%28%0A%20%20%20%20%20%20%20%20%20%20%20%20%5B35.280130807068076%2C%20-120.66327907927548%5D%2C%0A%20%20%20%20%20%20%20%20%20%20%20%20%7B%0A%20%20%20%20%20%20%20%20%20%20%20%20%20%20%20%20icon%3A%20new%20L.Icon.Default%28%29%2C%0A%20%20%20%20%20%20%20%20%20%20%20%20%20%20%20%20%7D%0A%20%20%20%20%20%20%20%20%20%20%20%20%29.addTo%28map_56d7a086a1f94b2fabf89df52d597412%29%3B%0A%20%20%20%20%20%20%20%20%0A%20%20%20%20%0A%20%20%20%20%20%20%20%20var%20marker_cb0a58110fe347529b14e45b514ed989%20%3D%20L.marker%28%0A%20%20%20%20%20%20%20%20%20%20%20%20%5B35.27938979906681%2C%20-120.66363719318535%5D%2C%0A%20%20%20%20%20%20%20%20%20%20%20%20%7B%0A%20%20%20%20%20%20%20%20%20%20%20%20%20%20%20%20icon%3A%20new%20L.Icon.Default%28%29%2C%0A%20%20%20%20%20%20%20%20%20%20%20%20%20%20%20%20%7D%0A%20%20%20%20%20%20%20%20%20%20%20%20%29.addTo%28map_56d7a086a1f94b2fabf89df52d597412%29%3B%0A%20%20%20%20%20%20%20%20%0A%20%20%20%20%0A%20%20%20%20%20%20%20%20var%20marker_72326bcb56204d4a9fc3d9ccba2b2c73%20%3D%20L.marker%28%0A%20%20%20%20%20%20%20%20%20%20%20%20%5B35.28056661965378%2C%20-120.66379730655997%5D%2C%0A%20%20%20%20%20%20%20%20%20%20%20%20%7B%0A%20%20%20%20%20%20%20%20%20%20%20%20%20%20%20%20icon%3A%20new%20L.Icon.Default%28%29%2C%0A%20%20%20%20%20%20%20%20%20%20%20%20%20%20%20%20%7D%0A%20%20%20%20%20%20%20%20%20%20%20%20%29.addTo%28map_56d7a086a1f94b2fabf89df52d597412%29%3B%0A%20%20%20%20%20%20%20%20%0A%20%20%20%20%0A%20%20%20%20%20%20%20%20var%20marker_494b9a8440234403b29e7405e915bc80%20%3D%20L.marker%28%0A%20%20%20%20%20%20%20%20%20%20%20%20%5B35.28153867779478%2C%20-120.66385264230759%5D%2C%0A%20%20%20%20%20%20%20%20%20%20%20%20%7B%0A%20%20%20%20%20%20%20%20%20%20%20%20%20%20%20%20icon%3A%20new%20L.Icon.Default%28%29%2C%0A%20%20%20%20%20%20%20%20%20%20%20%20%20%20%20%20%7D%0A%20%20%20%20%20%20%20%20%20%20%20%20%29.addTo%28map_56d7a086a1f94b2fabf89df52d597412%29%3B%0A%20%20%20%20%20%20%20%20%0A%20%20%20%20%0A%20%20%20%20%20%20%20%20var%20marker_84b9b2a1c2a14426b2e1d97e51e54a43%20%3D%20L.marker%28%0A%20%20%20%20%20%20%20%20%20%20%20%20%5B35.28185638242714%2C%20-120.66043174041907%5D%2C%0A%20%20%20%20%20%20%20%20%20%20%20%20%7B%0A%20%20%20%20%20%20%20%20%20%20%20%20%20%20%20%20icon%3A%20new%20L.Icon.Default%28%29%2C%0A%20%20%20%20%20%20%20%20%20%20%20%20%20%20%20%20%7D%0A%20%20%20%20%20%20%20%20%20%20%20%20%29.addTo%28map_56d7a086a1f94b2fabf89df52d597412%29%3B%0A%20%20%20%20%20%20%20%20%0A%20%20%20%20%0A%20%20%20%20%20%20%20%20var%20marker_15ae70c4c662447999c4cc77339bcc60%20%3D%20L.marker%28%0A%20%20%20%20%20%20%20%20%20%20%20%20%5B35.2803318622804%2C%20-120.66346659666638%5D%2C%0A%20%20%20%20%20%20%20%20%20%20%20%20%7B%0A%20%20%20%20%20%20%20%20%20%20%20%20%20%20%20%20icon%3A%20new%20L.Icon.Default%28%29%2C%0A%20%20%20%20%20%20%20%20%20%20%20%20%20%20%20%20%7D%0A%20%20%20%20%20%20%20%20%20%20%20%20%29.addTo%28map_56d7a086a1f94b2fabf89df52d597412%29%3B%0A%20%20%20%20%20%20%20%20%0A%20%20%20%20%0A%20%20%20%20%20%20%20%20var%20marker_6435f91cf7e848a49265e8a3ffee0566%20%3D%20L.marker%28%0A%20%20%20%20%20%20%20%20%20%20%20%20%5B35.27940972845244%2C%20-120.66448730007036%5D%2C%0A%20%20%20%20%20%20%20%20%20%20%20%20%7B%0A%20%20%20%20%20%20%20%20%20%20%20%20%20%20%20%20icon%3A%20new%20L.Icon.Default%28%29%2C%0A%20%20%20%20%20%20%20%20%20%20%20%20%20%20%20%20%7D%0A%20%20%20%20%20%20%20%20%20%20%20%20%29.addTo%28map_56d7a086a1f94b2fabf89df52d597412%29%3B%0A%20%20%20%20%20%20%20%20%0A%20%20%20%20%0A%20%20%20%20%20%20%20%20var%20marker_49e453addcff494d9328445f3972c9f3%20%3D%20L.marker%28%0A%20%20%20%20%20%20%20%20%20%20%20%20%5B35.283103644580635%2C%20-120.65780771011268%5D%2C%0A%20%20%20%20%20%20%20%20%20%20%20%20%7B%0A%20%20%20%20%20%20%20%20%20%20%20%20%20%20%20%20icon%3A%20new%20L.Icon.Default%28%29%2C%0A%20%20%20%20%20%20%20%20%20%20%20%20%20%20%20%20%7D%0A%20%20%20%20%20%20%20%20%20%20%20%20%29.addTo%28map_56d7a086a1f94b2fabf89df52d597412%29%3B%0A%20%20%20%20%20%20%20%20%0A%20%20%20%20%0A%20%20%20%20%20%20%20%20var%20marker_e941f3af102a481a9e420e16fe1294c5%20%3D%20L.marker%28%0A%20%20%20%20%20%20%20%20%20%20%20%20%5B35.27923023199097%2C%20-120.66417937566368%5D%2C%0A%20%20%20%20%20%20%20%20%20%20%20%20%7B%0A%20%20%20%20%20%20%20%20%20%20%20%20%20%20%20%20icon%3A%20new%20L.Icon.Default%28%29%2C%0A%20%20%20%20%20%20%20%20%20%20%20%20%20%20%20%20%7D%0A%20%20%20%20%20%20%20%20%20%20%20%20%29.addTo%28map_56d7a086a1f94b2fabf89df52d597412%29%3B%0A%20%20%20%20%20%20%20%20%0A%20%20%20%20%0A%20%20%20%20%20%20%20%20var%20marker_8220ae641cd14baba80eec3c0f4bd2e6%20%3D%20L.marker%28%0A%20%20%20%20%20%20%20%20%20%20%20%20%5B35.27913043324868%2C%20-120.66247031092644%5D%2C%0A%20%20%20%20%20%20%20%20%20%20%20%20%7B%0A%20%20%20%20%20%20%20%20%20%20%20%20%20%20%20%20icon%3A%20new%20L.Icon.Default%28%29%2C%0A%20%20%20%20%20%20%20%20%20%20%20%20%20%20%20%20%7D%0A%20%20%20%20%20%20%20%20%20%20%20%20%29.addTo%28map_56d7a086a1f94b2fabf89df52d597412%29%3B%0A%20%20%20%20%20%20%20%20%0A%20%20%20%20%0A%20%20%20%20%20%20%20%20var%20marker_744035794361440e8d41b8781ffbe67a%20%3D%20L.marker%28%0A%20%20%20%20%20%20%20%20%20%20%20%20%5B35.280861%2C%20-120.66166100000001%5D%2C%0A%20%20%20%20%20%20%20%20%20%20%20%20%7B%0A%20%20%20%20%20%20%20%20%20%20%20%20%20%20%20%20icon%3A%20new%20L.Icon.Default%28%29%2C%0A%20%20%20%20%20%20%20%20%20%20%20%20%20%20%20%20%7D%0A%20%20%20%20%20%20%20%20%20%20%20%20%29.addTo%28map_56d7a086a1f94b2fabf89df52d597412%29%3B%0A%20%20%20%20%20%20%20%20%0A%20%20%20%20%0A%20%20%20%20%20%20%20%20var%20marker_834890ce82624adf818b06cc3806aca8%20%3D%20L.marker%28%0A%20%20%20%20%20%20%20%20%20%20%20%20%5B35.27917280430721%2C%20-120.66398239696127%5D%2C%0A%20%20%20%20%20%20%20%20%20%20%20%20%7B%0A%20%20%20%20%20%20%20%20%20%20%20%20%20%20%20%20icon%3A%20new%20L.Icon.Default%28%29%2C%0A%20%20%20%20%20%20%20%20%20%20%20%20%20%20%20%20%7D%0A%20%20%20%20%20%20%20%20%20%20%20%20%29.addTo%28map_56d7a086a1f94b2fabf89df52d597412%29%3B%0A%20%20%20%20%20%20%20%20%0A%20%20%20%20%0A%20%20%20%20%20%20%20%20var%20marker_89d19918f18b434483bd94d6458f8f8e%20%3D%20L.marker%28%0A%20%20%20%20%20%20%20%20%20%20%20%20%5B35.28070803621639%2C%20-120.66167771816255%5D%2C%0A%20%20%20%20%20%20%20%20%20%20%20%20%7B%0A%20%20%20%20%20%20%20%20%20%20%20%20%20%20%20%20icon%3A%20new%20L.Icon.Default%28%29%2C%0A%20%20%20%20%20%20%20%20%20%20%20%20%20%20%20%20%7D%0A%20%20%20%20%20%20%20%20%20%20%20%20%29.addTo%28map_56d7a086a1f94b2fabf89df52d597412%29%3B%0A%20%20%20%20%20%20%20%20%0A%20%20%20%20%0A%20%20%20%20%20%20%20%20var%20marker_b321eea9dd22413da893c175a6941f50%20%3D%20L.marker%28%0A%20%20%20%20%20%20%20%20%20%20%20%20%5B35.280632210148404%2C%20-120.6630963971535%5D%2C%0A%20%20%20%20%20%20%20%20%20%20%20%20%7B%0A%20%20%20%20%20%20%20%20%20%20%20%20%20%20%20%20icon%3A%20new%20L.Icon.Default%28%29%2C%0A%20%20%20%20%20%20%20%20%20%20%20%20%20%20%20%20%7D%0A%20%20%20%20%20%20%20%20%20%20%20%20%29.addTo%28map_56d7a086a1f94b2fabf89df52d597412%29%3B%0A%20%20%20%20%20%20%20%20%0A%20%20%20%20%0A%20%20%20%20%20%20%20%20var%20marker_00eabe426ac845cc989cf89b9eefe31e%20%3D%20L.marker%28%0A%20%20%20%20%20%20%20%20%20%20%20%20%5B35.28483396600766%2C%20-120.66859384621274%5D%2C%0A%20%20%20%20%20%20%20%20%20%20%20%20%7B%0A%20%20%20%20%20%20%20%20%20%20%20%20%20%20%20%20icon%3A%20new%20L.Icon.Default%28%29%2C%0A%20%20%20%20%20%20%20%20%20%20%20%20%20%20%20%20%7D%0A%20%20%20%20%20%20%20%20%20%20%20%20%29.addTo%28map_56d7a086a1f94b2fabf89df52d597412%29%3B%0A%20%20%20%20%20%20%20%20%0A%20%20%20%20%0A%20%20%20%20%20%20%20%20var%20marker_12c67d30d858497eadaf07d5c141522d%20%3D%20L.marker%28%0A%20%20%20%20%20%20%20%20%20%20%20%20%5B35.279434676253935%2C%20-120.6616570143325%5D%2C%0A%20%20%20%20%20%20%20%20%20%20%20%20%7B%0A%20%20%20%20%20%20%20%20%20%20%20%20%20%20%20%20icon%3A%20new%20L.Icon.Default%28%29%2C%0A%20%20%20%20%20%20%20%20%20%20%20%20%20%20%20%20%7D%0A%20%20%20%20%20%20%20%20%20%20%20%20%29.addTo%28map_56d7a086a1f94b2fabf89df52d597412%29%3B%0A%20%20%20%20%20%20%20%20%0A%20%20%20%20%0A%20%20%20%20%20%20%20%20var%20marker_27a7523c822d41e3b9dc7136323035f5%20%3D%20L.marker%28%0A%20%20%20%20%20%20%20%20%20%20%20%20%5B35.278677489287595%2C%20-120.66483785718131%5D%2C%0A%20%20%20%20%20%20%20%20%20%20%20%20%7B%0A%20%20%20%20%20%20%20%20%20%20%20%20%20%20%20%20icon%3A%20new%20L.Icon.Default%28%29%2C%0A%20%20%20%20%20%20%20%20%20%20%20%20%20%20%20%20%7D%0A%20%20%20%20%20%20%20%20%20%20%20%20%29.addTo%28map_56d7a086a1f94b2fabf89df52d597412%29%3B%0A%20%20%20%20%20%20%20%20%0A%20%20%20%20%0A%20%20%20%20%20%20%20%20var%20marker_f1a877ed326a46e6ae72a938aab62775%20%3D%20L.marker%28%0A%20%20%20%20%20%20%20%20%20%20%20%20%5B35.27758636657907%2C%20-120.66308857520728%5D%2C%0A%20%20%20%20%20%20%20%20%20%20%20%20%7B%0A%20%20%20%20%20%20%20%20%20%20%20%20%20%20%20%20icon%3A%20new%20L.Icon.Default%28%29%2C%0A%20%20%20%20%20%20%20%20%20%20%20%20%20%20%20%20%7D%0A%20%20%20%20%20%20%20%20%20%20%20%20%29.addTo%28map_56d7a086a1f94b2fabf89df52d597412%29%3B%0A%20%20%20%20%20%20%20%20%0A%20%20%20%20%0A%20%20%20%20%20%20%20%20var%20marker_69c28fb4f04342a5aee0530f86263dfa%20%3D%20L.marker%28%0A%20%20%20%20%20%20%20%20%20%20%20%20%5B35.2785620423329%2C%20-120.66430226205853%5D%2C%0A%20%20%20%20%20%20%20%20%20%20%20%20%7B%0A%20%20%20%20%20%20%20%20%20%20%20%20%20%20%20%20icon%3A%20new%20L.Icon.Default%28%29%2C%0A%20%20%20%20%20%20%20%20%20%20%20%20%20%20%20%20%7D%0A%20%20%20%20%20%20%20%20%20%20%20%20%29.addTo%28map_56d7a086a1f94b2fabf89df52d597412%29%3B%0A%20%20%20%20%20%20%20%20%0A%20%20%20%20%0A%20%20%20%20%20%20%20%20var%20marker_04a720e136d44b038f1b6be24d500849%20%3D%20L.marker%28%0A%20%20%20%20%20%20%20%20%20%20%20%20%5B35.282168853653154%2C%20-120.65648746767661%5D%2C%0A%20%20%20%20%20%20%20%20%20%20%20%20%7B%0A%20%20%20%20%20%20%20%20%20%20%20%20%20%20%20%20icon%3A%20new%20L.Icon.Default%28%29%2C%0A%20%20%20%20%20%20%20%20%20%20%20%20%20%20%20%20%7D%0A%20%20%20%20%20%20%20%20%20%20%20%20%29.addTo%28map_56d7a086a1f94b2fabf89df52d597412%29%3B%0A%20%20%20%20%20%20%20%20%0A%20%20%20%20%0A%20%20%20%20%20%20%20%20var%20marker_3ec8049e16024ead82df0f9ae17865b4%20%3D%20L.marker%28%0A%20%20%20%20%20%20%20%20%20%20%20%20%5B35.278342330565074%2C%20-120.66671425583786%5D%2C%0A%20%20%20%20%20%20%20%20%20%20%20%20%7B%0A%20%20%20%20%20%20%20%20%20%20%20%20%20%20%20%20icon%3A%20new%20L.Icon.Default%28%29%2C%0A%20%20%20%20%20%20%20%20%20%20%20%20%20%20%20%20%7D%0A%20%20%20%20%20%20%20%20%20%20%20%20%29.addTo%28map_56d7a086a1f94b2fabf89df52d597412%29%3B%0A%20%20%20%20%20%20%20%20%0A%20%20%20%20%0A%20%20%20%20%20%20%20%20var%20marker_85e51176bb0140d287b407c52adb28cc%20%3D%20L.marker%28%0A%20%20%20%20%20%20%20%20%20%20%20%20%5B35.28143161864381%2C%20-120.6598938374237%5D%2C%0A%20%20%20%20%20%20%20%20%20%20%20%20%7B%0A%20%20%20%20%20%20%20%20%20%20%20%20%20%20%20%20icon%3A%20new%20L.Icon.Default%28%29%2C%0A%20%20%20%20%20%20%20%20%20%20%20%20%20%20%20%20%7D%0A%20%20%20%20%20%20%20%20%20%20%20%20%29.addTo%28map_56d7a086a1f94b2fabf89df52d597412%29%3B%0A%20%20%20%20%20%20%20%20%0A%20%20%20%20%0A%20%20%20%20%20%20%20%20var%20marker_e4d69ad5384e4114adf51190bd443d9f%20%3D%20L.marker%28%0A%20%20%20%20%20%20%20%20%20%20%20%20%5B35.27995243634379%2C%20-120.66265466317748%5D%2C%0A%20%20%20%20%20%20%20%20%20%20%20%20%7B%0A%20%20%20%20%20%20%20%20%20%20%20%20%20%20%20%20icon%3A%20new%20L.Icon.Default%28%29%2C%0A%20%20%20%20%20%20%20%20%20%20%20%20%20%20%20%20%7D%0A%20%20%20%20%20%20%20%20%20%20%20%20%29.addTo%28map_56d7a086a1f94b2fabf89df52d597412%29%3B%0A%20%20%20%20%20%20%20%20%0A%20%20%20%20%0A%20%20%20%20%20%20%20%20var%20marker_defdef728335419582defd333af64078%20%3D%20L.marker%28%0A%20%20%20%20%20%20%20%20%20%20%20%20%5B35.285730577218246%2C%20-120.65559927403042%5D%2C%0A%20%20%20%20%20%20%20%20%20%20%20%20%7B%0A%20%20%20%20%20%20%20%20%20%20%20%20%20%20%20%20icon%3A%20new%20L.Icon.Default%28%29%2C%0A%20%20%20%20%20%20%20%20%20%20%20%20%20%20%20%20%7D%0A%20%20%20%20%20%20%20%20%20%20%20%20%29.addTo%28map_56d7a086a1f94b2fabf89df52d597412%29%3B%0A%20%20%20%20%20%20%20%20%0A%20%20%20%20%0A%20%20%20%20%20%20%20%20var%20marker_7bceaaa996114da293b86be75cf930b6%20%3D%20L.marker%28%0A%20%20%20%20%20%20%20%20%20%20%20%20%5B35.279845%2C%20-120.662675%5D%2C%0A%20%20%20%20%20%20%20%20%20%20%20%20%7B%0A%20%20%20%20%20%20%20%20%20%20%20%20%20%20%20%20icon%3A%20new%20L.Icon.Default%28%29%2C%0A%20%20%20%20%20%20%20%20%20%20%20%20%20%20%20%20%7D%0A%20%20%20%20%20%20%20%20%20%20%20%20%29.addTo%28map_56d7a086a1f94b2fabf89df52d597412%29%3B%0A%20%20%20%20%20%20%20%20%0A%20%20%20%20%0A%20%20%20%20%20%20%20%20var%20marker_579df8d29e624b098be464f1c1185a62%20%3D%20L.marker%28%0A%20%20%20%20%20%20%20%20%20%20%20%20%5B35.28451792568278%2C%20-120.65705483803536%5D%2C%0A%20%20%20%20%20%20%20%20%20%20%20%20%7B%0A%20%20%20%20%20%20%20%20%20%20%20%20%20%20%20%20icon%3A%20new%20L.Icon.Default%28%29%2C%0A%20%20%20%20%20%20%20%20%20%20%20%20%20%20%20%20%7D%0A%20%20%20%20%20%20%20%20%20%20%20%20%29.addTo%28map_56d7a086a1f94b2fabf89df52d597412%29%3B%0A%20%20%20%20%20%20%20%20%0A%20%20%20%20%0A%20%20%20%20%20%20%20%20var%20marker_f0de1bcc530e4079a6df636f1132fd1a%20%3D%20L.marker%28%0A%20%20%20%20%20%20%20%20%20%20%20%20%5B35.2787851806981%2C%20-120.66480536125984%5D%2C%0A%20%20%20%20%20%20%20%20%20%20%20%20%7B%0A%20%20%20%20%20%20%20%20%20%20%20%20%20%20%20%20icon%3A%20new%20L.Icon.Default%28%29%2C%0A%20%20%20%20%20%20%20%20%20%20%20%20%20%20%20%20%7D%0A%20%20%20%20%20%20%20%20%20%20%20%20%29.addTo%28map_56d7a086a1f94b2fabf89df52d597412%29%3B%0A%20%20%20%20%20%20%20%20%0A%20%20%20%20%0A%20%20%20%20%20%20%20%20var%20marker_ed20ed8c916145df948fdb3b563fd12d%20%3D%20L.marker%28%0A%20%20%20%20%20%20%20%20%20%20%20%20%5B35.280034254957826%2C%20-120.6636608207602%5D%2C%0A%20%20%20%20%20%20%20%20%20%20%20%20%7B%0A%20%20%20%20%20%20%20%20%20%20%20%20%20%20%20%20icon%3A%20new%20L.Icon.Default%28%29%2C%0A%20%20%20%20%20%20%20%20%20%20%20%20%20%20%20%20%7D%0A%20%20%20%20%20%20%20%20%20%20%20%20%29.addTo%28map_56d7a086a1f94b2fabf89df52d597412%29%3B%0A%20%20%20%20%20%20%20%20%0A%20%20%20%20%0A%20%20%20%20%20%20%20%20var%20marker_b72e99938e1e4c40a60e1d52f4dfc4de%20%3D%20L.marker%28%0A%20%20%20%20%20%20%20%20%20%20%20%20%5B35.27886290485119%2C%20-120.66470940983854%5D%2C%0A%20%20%20%20%20%20%20%20%20%20%20%20%7B%0A%20%20%20%20%20%20%20%20%20%20%20%20%20%20%20%20icon%3A%20new%20L.Icon.Default%28%29%2C%0A%20%20%20%20%20%20%20%20%20%20%20%20%20%20%20%20%7D%0A%20%20%20%20%20%20%20%20%20%20%20%20%29.addTo%28map_56d7a086a1f94b2fabf89df52d597412%29%3B%0A%20%20%20%20%20%20%20%20%0A%20%20%20%20%0A%20%20%20%20%20%20%20%20var%20marker_209730dfd8864ccd964bf66bb42cb6b8%20%3D%20L.marker%28%0A%20%20%20%20%20%20%20%20%20%20%20%20%5B35.280248643580315%2C%20-120.66130070734543%5D%2C%0A%20%20%20%20%20%20%20%20%20%20%20%20%7B%0A%20%20%20%20%20%20%20%20%20%20%20%20%20%20%20%20icon%3A%20new%20L.Icon.Default%28%29%2C%0A%20%20%20%20%20%20%20%20%20%20%20%20%20%20%20%20%7D%0A%20%20%20%20%20%20%20%20%20%20%20%20%29.addTo%28map_56d7a086a1f94b2fabf89df52d597412%29%3B%0A%20%20%20%20%20%20%20%20%0A%20%20%20%20%0A%20%20%20%20%20%20%20%20var%20marker_dd432731bb6f43d6be179cc9f54d8ba1%20%3D%20L.marker%28%0A%20%20%20%20%20%20%20%20%20%20%20%20%5B35.27957212843203%2C%20-120.66269139746363%5D%2C%0A%20%20%20%20%20%20%20%20%20%20%20%20%7B%0A%20%20%20%20%20%20%20%20%20%20%20%20%20%20%20%20icon%3A%20new%20L.Icon.Default%28%29%2C%0A%20%20%20%20%20%20%20%20%20%20%20%20%20%20%20%20%7D%0A%20%20%20%20%20%20%20%20%20%20%20%20%29.addTo%28map_56d7a086a1f94b2fabf89df52d597412%29%3B%0A%20%20%20%20%20%20%20%20%0A%20%20%20%20%0A%20%20%20%20%20%20%20%20var%20marker_f0d81d4b5b944ac98a65950d42c5b87a%20%3D%20L.marker%28%0A%20%20%20%20%20%20%20%20%20%20%20%20%5B35.28723379921986%2C%20-120.6644630959124%5D%2C%0A%20%20%20%20%20%20%20%20%20%20%20%20%7B%0A%20%20%20%20%20%20%20%20%20%20%20%20%20%20%20%20icon%3A%20new%20L.Icon.Default%28%29%2C%0A%20%20%20%20%20%20%20%20%20%20%20%20%20%20%20%20%7D%0A%20%20%20%20%20%20%20%20%20%20%20%20%29.addTo%28map_56d7a086a1f94b2fabf89df52d597412%29%3B%0A%20%20%20%20%20%20%20%20%0A%20%20%20%20%0A%20%20%20%20%20%20%20%20var%20marker_78966e72bd7947fdbdfe9ceb753d3fc7%20%3D%20L.marker%28%0A%20%20%20%20%20%20%20%20%20%20%20%20%5B35.284544759747774%2C%20-120.65697702199995%5D%2C%0A%20%20%20%20%20%20%20%20%20%20%20%20%7B%0A%20%20%20%20%20%20%20%20%20%20%20%20%20%20%20%20icon%3A%20new%20L.Icon.Default%28%29%2C%0A%20%20%20%20%20%20%20%20%20%20%20%20%20%20%20%20%7D%0A%20%20%20%20%20%20%20%20%20%20%20%20%29.addTo%28map_56d7a086a1f94b2fabf89df52d597412%29%3B%0A%20%20%20%20%20%20%20%20%0A%20%20%20%20%0A%20%20%20%20%20%20%20%20var%20marker_2a76d7d5164a442eaeee2b4e3fba8c55%20%3D%20L.marker%28%0A%20%20%20%20%20%20%20%20%20%20%20%20%5B35.27993309659784%2C%20-120.66259820590801%5D%2C%0A%20%20%20%20%20%20%20%20%20%20%20%20%7B%0A%20%20%20%20%20%20%20%20%20%20%20%20%20%20%20%20icon%3A%20new%20L.Icon.Default%28%29%2C%0A%20%20%20%20%20%20%20%20%20%20%20%20%20%20%20%20%7D%0A%20%20%20%20%20%20%20%20%20%20%20%20%29.addTo%28map_56d7a086a1f94b2fabf89df52d597412%29%3B%0A%20%20%20%20%20%20%20%20%0A%20%20%20%20%0A%20%20%20%20%20%20%20%20var%20marker_32519eccbe8248bbab6f9cc440da195c%20%3D%20L.marker%28%0A%20%20%20%20%20%20%20%20%20%20%20%20%5B35.27968255440739%2C%20-120.66344341623571%5D%2C%0A%20%20%20%20%20%20%20%20%20%20%20%20%7B%0A%20%20%20%20%20%20%20%20%20%20%20%20%20%20%20%20icon%3A%20new%20L.Icon.Default%28%29%2C%0A%20%20%20%20%20%20%20%20%20%20%20%20%20%20%20%20%7D%0A%20%20%20%20%20%20%20%20%20%20%20%20%29.addTo%28map_56d7a086a1f94b2fabf89df52d597412%29%3B%0A%20%20%20%20%20%20%20%20%0A%20%20%20%20%0A%20%20%20%20%20%20%20%20var%20marker_3a0cae338fa74abeb02aa5b46c473186%20%3D%20L.marker%28%0A%20%20%20%20%20%20%20%20%20%20%20%20%5B35.284425805387094%2C%20-120.65710113186827%5D%2C%0A%20%20%20%20%20%20%20%20%20%20%20%20%7B%0A%20%20%20%20%20%20%20%20%20%20%20%20%20%20%20%20icon%3A%20new%20L.Icon.Default%28%29%2C%0A%20%20%20%20%20%20%20%20%20%20%20%20%20%20%20%20%7D%0A%20%20%20%20%20%20%20%20%20%20%20%20%29.addTo%28map_56d7a086a1f94b2fabf89df52d597412%29%3B%0A%20%20%20%20%20%20%20%20%0A%20%20%20%20%0A%20%20%20%20%20%20%20%20var%20marker_d0641725237441269dbb3be06b58e775%20%3D%20L.marker%28%0A%20%20%20%20%20%20%20%20%20%20%20%20%5B35.279221%2C%20-120.664136%5D%2C%0A%20%20%20%20%20%20%20%20%20%20%20%20%7B%0A%20%20%20%20%20%20%20%20%20%20%20%20%20%20%20%20icon%3A%20new%20L.Icon.Default%28%29%2C%0A%20%20%20%20%20%20%20%20%20%20%20%20%20%20%20%20%7D%0A%20%20%20%20%20%20%20%20%20%20%20%20%29.addTo%28map_56d7a086a1f94b2fabf89df52d597412%29%3B%0A%20%20%20%20%20%20%20%20%0A%20%20%20%20%0A%20%20%20%20%20%20%20%20var%20marker_eef4b08893d847ffb1ec29817969c193%20%3D%20L.marker%28%0A%20%20%20%20%20%20%20%20%20%20%20%20%5B35.279284672180005%2C%20-120.6646761718674%5D%2C%0A%20%20%20%20%20%20%20%20%20%20%20%20%7B%0A%20%20%20%20%20%20%20%20%20%20%20%20%20%20%20%20icon%3A%20new%20L.Icon.Default%28%29%2C%0A%20%20%20%20%20%20%20%20%20%20%20%20%20%20%20%20%7D%0A%20%20%20%20%20%20%20%20%20%20%20%20%29.addTo%28map_56d7a086a1f94b2fabf89df52d597412%29%3B%0A%20%20%20%20%20%20%20%20%0A%20%20%20%20%0A%20%20%20%20%20%20%20%20var%20marker_4ca5fef476284ba6abd263986cc5253d%20%3D%20L.marker%28%0A%20%20%20%20%20%20%20%20%20%20%20%20%5B35.278774%2C%20-120.66311999999999%5D%2C%0A%20%20%20%20%20%20%20%20%20%20%20%20%7B%0A%20%20%20%20%20%20%20%20%20%20%20%20%20%20%20%20icon%3A%20new%20L.Icon.Default%28%29%2C%0A%20%20%20%20%20%20%20%20%20%20%20%20%20%20%20%20%7D%0A%20%20%20%20%20%20%20%20%20%20%20%20%29.addTo%28map_56d7a086a1f94b2fabf89df52d597412%29%3B%0A%20%20%20%20%20%20%20%20%0A%20%20%20%20%0A%20%20%20%20%20%20%20%20var%20marker_9bf00bac98a648ec96266483a7acdcf3%20%3D%20L.marker%28%0A%20%20%20%20%20%20%20%20%20%20%20%20%5B35.2756760535326%2C%20-120.6558137986572%5D%2C%0A%20%20%20%20%20%20%20%20%20%20%20%20%7B%0A%20%20%20%20%20%20%20%20%20%20%20%20%20%20%20%20icon%3A%20new%20L.Icon.Default%28%29%2C%0A%20%20%20%20%20%20%20%20%20%20%20%20%20%20%20%20%7D%0A%20%20%20%20%20%20%20%20%20%20%20%20%29.addTo%28map_56d7a086a1f94b2fabf89df52d597412%29%3B%0A%20%20%20%20%20%20%20%20%0A%20%20%20%20%0A%20%20%20%20%20%20%20%20var%20marker_5f2eeb15139d4f3fbbe3df7299c19db7%20%3D%20L.marker%28%0A%20%20%20%20%20%20%20%20%20%20%20%20%5B35.285821%2C%20-120.654633%5D%2C%0A%20%20%20%20%20%20%20%20%20%20%20%20%7B%0A%20%20%20%20%20%20%20%20%20%20%20%20%20%20%20%20icon%3A%20new%20L.Icon.Default%28%29%2C%0A%20%20%20%20%20%20%20%20%20%20%20%20%20%20%20%20%7D%0A%20%20%20%20%20%20%20%20%20%20%20%20%29.addTo%28map_56d7a086a1f94b2fabf89df52d597412%29%3B%0A%20%20%20%20%20%20%20%20%0A%20%20%20%20%0A%20%20%20%20%20%20%20%20var%20marker_db8eb4d14eb24841bb64b619124e1ade%20%3D%20L.marker%28%0A%20%20%20%20%20%20%20%20%20%20%20%20%5B35.28693307257402%2C%20-120.66490680684215%5D%2C%0A%20%20%20%20%20%20%20%20%20%20%20%20%7B%0A%20%20%20%20%20%20%20%20%20%20%20%20%20%20%20%20icon%3A%20new%20L.Icon.Default%28%29%2C%0A%20%20%20%20%20%20%20%20%20%20%20%20%20%20%20%20%7D%0A%20%20%20%20%20%20%20%20%20%20%20%20%29.addTo%28map_56d7a086a1f94b2fabf89df52d597412%29%3B%0A%20%20%20%20%20%20%20%20%0A%20%20%20%20%0A%20%20%20%20%20%20%20%20var%20marker_5f1e8de1fdfc48b6b12868ce375f22d4%20%3D%20L.marker%28%0A%20%20%20%20%20%20%20%20%20%20%20%20%5B35.27983147935612%2C%20-120.67245981432752%5D%2C%0A%20%20%20%20%20%20%20%20%20%20%20%20%7B%0A%20%20%20%20%20%20%20%20%20%20%20%20%20%20%20%20icon%3A%20new%20L.Icon.Default%28%29%2C%0A%20%20%20%20%20%20%20%20%20%20%20%20%20%20%20%20%7D%0A%20%20%20%20%20%20%20%20%20%20%20%20%29.addTo%28map_56d7a086a1f94b2fabf89df52d597412%29%3B%0A%20%20%20%20%20%20%20%20%0A%20%20%20%20%0A%20%20%20%20%20%20%20%20var%20marker_95691480a17b41a2a88684906b92de14%20%3D%20L.marker%28%0A%20%20%20%20%20%20%20%20%20%20%20%20%5B35.278523925230736%2C%20-120.6648316770705%5D%2C%0A%20%20%20%20%20%20%20%20%20%20%20%20%7B%0A%20%20%20%20%20%20%20%20%20%20%20%20%20%20%20%20icon%3A%20new%20L.Icon.Default%28%29%2C%0A%20%20%20%20%20%20%20%20%20%20%20%20%20%20%20%20%7D%0A%20%20%20%20%20%20%20%20%20%20%20%20%29.addTo%28map_56d7a086a1f94b2fabf89df52d597412%29%3B%0A%20%20%20%20%20%20%20%20%0A%20%20%20%20%0A%20%20%20%20%20%20%20%20var%20marker_7fbd97806cc04956b9e834007ce65122%20%3D%20L.marker%28%0A%20%20%20%20%20%20%20%20%20%20%20%20%5B35.28639092685804%2C%20-120.65471064607355%5D%2C%0A%20%20%20%20%20%20%20%20%20%20%20%20%7B%0A%20%20%20%20%20%20%20%20%20%20%20%20%20%20%20%20icon%3A%20new%20L.Icon.Default%28%29%2C%0A%20%20%20%20%20%20%20%20%20%20%20%20%20%20%20%20%7D%0A%20%20%20%20%20%20%20%20%20%20%20%20%29.addTo%28map_56d7a086a1f94b2fabf89df52d597412%29%3B%0A%20%20%20%20%20%20%20%20%0A%20%20%20%20%0A%20%20%20%20%20%20%20%20var%20marker_4ee9418b83434b3bba9f6391f79e9d27%20%3D%20L.marker%28%0A%20%20%20%20%20%20%20%20%20%20%20%20%5B35.27227768287372%2C%20-120.66444832611%5D%2C%0A%20%20%20%20%20%20%20%20%20%20%20%20%7B%0A%20%20%20%20%20%20%20%20%20%20%20%20%20%20%20%20icon%3A%20new%20L.Icon.Default%28%29%2C%0A%20%20%20%20%20%20%20%20%20%20%20%20%20%20%20%20%7D%0A%20%20%20%20%20%20%20%20%20%20%20%20%29.addTo%28map_56d7a086a1f94b2fabf89df52d597412%29%3B%0A%20%20%20%20%20%20%20%20%0A%20%20%20%20%0A%20%20%20%20%20%20%20%20var%20marker_aa566250b2ea4d57b43810a3a722e064%20%3D%20L.marker%28%0A%20%20%20%20%20%20%20%20%20%20%20%20%5B35.280377%2C%20-120.661721%5D%2C%0A%20%20%20%20%20%20%20%20%20%20%20%20%7B%0A%20%20%20%20%20%20%20%20%20%20%20%20%20%20%20%20icon%3A%20new%20L.Icon.Default%28%29%2C%0A%20%20%20%20%20%20%20%20%20%20%20%20%20%20%20%20%7D%0A%20%20%20%20%20%20%20%20%20%20%20%20%29.addTo%28map_56d7a086a1f94b2fabf89df52d597412%29%3B%0A%20%20%20%20%20%20%20%20%0A%20%20%20%20%0A%20%20%20%20%20%20%20%20var%20marker_19b595e0f4a440158251cf96ae4b3164%20%3D%20L.marker%28%0A%20%20%20%20%20%20%20%20%20%20%20%20%5B35.27673839904204%2C%20-120.65655691830496%5D%2C%0A%20%20%20%20%20%20%20%20%20%20%20%20%7B%0A%20%20%20%20%20%20%20%20%20%20%20%20%20%20%20%20icon%3A%20new%20L.Icon.Default%28%29%2C%0A%20%20%20%20%20%20%20%20%20%20%20%20%20%20%20%20%7D%0A%20%20%20%20%20%20%20%20%20%20%20%20%29.addTo%28map_56d7a086a1f94b2fabf89df52d597412%29%3B%0A%20%20%20%20%20%20%20%20%0A%20%20%20%20%0A%20%20%20%20%20%20%20%20var%20marker_03d5eee6d9074718ad791c7dbc90d1bd%20%3D%20L.marker%28%0A%20%20%20%20%20%20%20%20%20%20%20%20%5B35.2874092960365%2C%20-120.66569829385828%5D%2C%0A%20%20%20%20%20%20%20%20%20%20%20%20%7B%0A%20%20%20%20%20%20%20%20%20%20%20%20%20%20%20%20icon%3A%20new%20L.Icon.Default%28%29%2C%0A%20%20%20%20%20%20%20%20%20%20%20%20%20%20%20%20%7D%0A%20%20%20%20%20%20%20%20%20%20%20%20%29.addTo%28map_56d7a086a1f94b2fabf89df52d597412%29%3B%0A%20%20%20%20%20%20%20%20%0A%20%20%20%20%0A%20%20%20%20%20%20%20%20var%20marker_d9af6c567e824bf191630bcefff3317f%20%3D%20L.marker%28%0A%20%20%20%20%20%20%20%20%20%20%20%20%5B35.27533332822796%2C%20-120.65569027910503%5D%2C%0A%20%20%20%20%20%20%20%20%20%20%20%20%7B%0A%20%20%20%20%20%20%20%20%20%20%20%20%20%20%20%20icon%3A%20new%20L.Icon.Default%28%29%2C%0A%20%20%20%20%20%20%20%20%20%20%20%20%20%20%20%20%7D%0A%20%20%20%20%20%20%20%20%20%20%20%20%29.addTo%28map_56d7a086a1f94b2fabf89df52d597412%29%3B%0A%20%20%20%20%20%20%20%20%0A%20%20%20%20%0A%20%20%20%20%20%20%20%20var%20marker_98edd70edeaa47b7aac886be76fca3ef%20%3D%20L.marker%28%0A%20%20%20%20%20%20%20%20%20%20%20%20%5B35.278205%2C%20-120.66643400000001%5D%2C%0A%20%20%20%20%20%20%20%20%20%20%20%20%7B%0A%20%20%20%20%20%20%20%20%20%20%20%20%20%20%20%20icon%3A%20new%20L.Icon.Default%28%29%2C%0A%20%20%20%20%20%20%20%20%20%20%20%20%20%20%20%20%7D%0A%20%20%20%20%20%20%20%20%20%20%20%20%29.addTo%28map_56d7a086a1f94b2fabf89df52d597412%29%3B%0A%20%20%20%20%20%20%20%20%0A%20%20%20%20%0A%20%20%20%20%20%20%20%20var%20marker_05fc882fd8c6489487862ee89730e4b7%20%3D%20L.marker%28%0A%20%20%20%20%20%20%20%20%20%20%20%20%5B35.274206536913994%2C%20-120.65633863927482%5D%2C%0A%20%20%20%20%20%20%20%20%20%20%20%20%7B%0A%20%20%20%20%20%20%20%20%20%20%20%20%20%20%20%20icon%3A%20new%20L.Icon.Default%28%29%2C%0A%20%20%20%20%20%20%20%20%20%20%20%20%20%20%20%20%7D%0A%20%20%20%20%20%20%20%20%20%20%20%20%29.addTo%28map_56d7a086a1f94b2fabf89df52d597412%29%3B%0A%20%20%20%20%20%20%20%20%0A%20%20%20%20%0A%20%20%20%20%20%20%20%20var%20marker_d1b5826934af4c38829303e6ef2b8be7%20%3D%20L.marker%28%0A%20%20%20%20%20%20%20%20%20%20%20%20%5B35.29440837801128%2C%20-120.66990250497626%5D%2C%0A%20%20%20%20%20%20%20%20%20%20%20%20%7B%0A%20%20%20%20%20%20%20%20%20%20%20%20%20%20%20%20icon%3A%20new%20L.Icon.Default%28%29%2C%0A%20%20%20%20%20%20%20%20%20%20%20%20%20%20%20%20%7D%0A%20%20%20%20%20%20%20%20%20%20%20%20%29.addTo%28map_56d7a086a1f94b2fabf89df52d597412%29%3B%0A%20%20%20%20%20%20%20%20%0A%20%20%20%20%0A%20%20%20%20%20%20%20%20var%20marker_9c6587745941438985e9860e2b4f960b%20%3D%20L.marker%28%0A%20%20%20%20%20%20%20%20%20%20%20%20%5B35.293542940422746%2C%20-120.67205777848456%5D%2C%0A%20%20%20%20%20%20%20%20%20%20%20%20%7B%0A%20%20%20%20%20%20%20%20%20%20%20%20%20%20%20%20icon%3A%20new%20L.Icon.Default%28%29%2C%0A%20%20%20%20%20%20%20%20%20%20%20%20%20%20%20%20%7D%0A%20%20%20%20%20%20%20%20%20%20%20%20%29.addTo%28map_56d7a086a1f94b2fabf89df52d597412%29%3B%0A%20%20%20%20%20%20%20%20%0A%20%20%20%20%0A%20%20%20%20%20%20%20%20var%20marker_194e0b7246ca4e6ebc5ac2c59bfc828e%20%3D%20L.marker%28%0A%20%20%20%20%20%20%20%20%20%20%20%20%5B35.29477143201343%2C%20-120.66982612756121%5D%2C%0A%20%20%20%20%20%20%20%20%20%20%20%20%7B%0A%20%20%20%20%20%20%20%20%20%20%20%20%20%20%20%20icon%3A%20new%20L.Icon.Default%28%29%2C%0A%20%20%20%20%20%20%20%20%20%20%20%20%20%20%20%20%7D%0A%20%20%20%20%20%20%20%20%20%20%20%20%29.addTo%28map_56d7a086a1f94b2fabf89df52d597412%29%3B%0A%20%20%20%20%20%20%20%20%0A%20%20%20%20%0A%20%20%20%20%20%20%20%20var%20marker_25d9135e966b4707a434492417e17102%20%3D%20L.marker%28%0A%20%20%20%20%20%20%20%20%20%20%20%20%5B35.29367629071305%2C%20-120.6688625881301%5D%2C%0A%20%20%20%20%20%20%20%20%20%20%20%20%7B%0A%20%20%20%20%20%20%20%20%20%20%20%20%20%20%20%20icon%3A%20new%20L.Icon.Default%28%29%2C%0A%20%20%20%20%20%20%20%20%20%20%20%20%20%20%20%20%7D%0A%20%20%20%20%20%20%20%20%20%20%20%20%29.addTo%28map_56d7a086a1f94b2fabf89df52d597412%29%3B%0A%20%20%20%20%20%20%20%20%0A%20%20%20%20%0A%20%20%20%20%20%20%20%20var%20marker_1edae3ad4c6a4273bfa1d92bee3f30cb%20%3D%20L.marker%28%0A%20%20%20%20%20%20%20%20%20%20%20%20%5B35.2901913%2C%20-120.6493573%5D%2C%0A%20%20%20%20%20%20%20%20%20%20%20%20%7B%0A%20%20%20%20%20%20%20%20%20%20%20%20%20%20%20%20icon%3A%20new%20L.Icon.Default%28%29%2C%0A%20%20%20%20%20%20%20%20%20%20%20%20%20%20%20%20%7D%0A%20%20%20%20%20%20%20%20%20%20%20%20%29.addTo%28map_56d7a086a1f94b2fabf89df52d597412%29%3B%0A%20%20%20%20%20%20%20%20%0A%20%20%20%20%0A%20%20%20%20%20%20%20%20var%20marker_76fbad306a284234a0d7953ade1d0aad%20%3D%20L.marker%28%0A%20%20%20%20%20%20%20%20%20%20%20%20%5B35.290840527721485%2C%20-120.65938243555287%5D%2C%0A%20%20%20%20%20%20%20%20%20%20%20%20%7B%0A%20%20%20%20%20%20%20%20%20%20%20%20%20%20%20%20icon%3A%20new%20L.Icon.Default%28%29%2C%0A%20%20%20%20%20%20%20%20%20%20%20%20%20%20%20%20%7D%0A%20%20%20%20%20%20%20%20%20%20%20%20%29.addTo%28map_56d7a086a1f94b2fabf89df52d597412%29%3B%0A%20%20%20%20%20%20%20%20%0A%20%20%20%20%0A%20%20%20%20%20%20%20%20var%20marker_6d49f5b2f3f046c4b44f833a6d2d4596%20%3D%20L.marker%28%0A%20%20%20%20%20%20%20%20%20%20%20%20%5B35.293694%2C%20-120.67092%5D%2C%0A%20%20%20%20%20%20%20%20%20%20%20%20%7B%0A%20%20%20%20%20%20%20%20%20%20%20%20%20%20%20%20icon%3A%20new%20L.Icon.Default%28%29%2C%0A%20%20%20%20%20%20%20%20%20%20%20%20%20%20%20%20%7D%0A%20%20%20%20%20%20%20%20%20%20%20%20%29.addTo%28map_56d7a086a1f94b2fabf89df52d597412%29%3B%0A%20%20%20%20%20%20%20%20%0A%20%20%20%20%0A%20%20%20%20%20%20%20%20var%20marker_c064cd14ef904ba9bc5a9b65c1ec67e3%20%3D%20L.marker%28%0A%20%20%20%20%20%20%20%20%20%20%20%20%5B35.29316899552404%2C%20-120.67294039138905%5D%2C%0A%20%20%20%20%20%20%20%20%20%20%20%20%7B%0A%20%20%20%20%20%20%20%20%20%20%20%20%20%20%20%20icon%3A%20new%20L.Icon.Default%28%29%2C%0A%20%20%20%20%20%20%20%20%20%20%20%20%20%20%20%20%7D%0A%20%20%20%20%20%20%20%20%20%20%20%20%29.addTo%28map_56d7a086a1f94b2fabf89df52d597412%29%3B%0A%20%20%20%20%20%20%20%20%0A%20%20%20%20%0A%20%20%20%20%20%20%20%20var%20marker_668abf493b1144c5a5a04188a1499165%20%3D%20L.marker%28%0A%20%20%20%20%20%20%20%20%20%20%20%20%5B35.2725954606745%2C%20-120.65899999167239%5D%2C%0A%20%20%20%20%20%20%20%20%20%20%20%20%7B%0A%20%20%20%20%20%20%20%20%20%20%20%20%20%20%20%20icon%3A%20new%20L.Icon.Default%28%29%2C%0A%20%20%20%20%20%20%20%20%20%20%20%20%20%20%20%20%7D%0A%20%20%20%20%20%20%20%20%20%20%20%20%29.addTo%28map_56d7a086a1f94b2fabf89df52d597412%29%3B%0A%20%20%20%20%20%20%20%20%0A%20%20%20%20%0A%20%20%20%20%20%20%20%20var%20marker_deb995108f76410bb532a4408bee284c%20%3D%20L.marker%28%0A%20%20%20%20%20%20%20%20%20%20%20%20%5B35.27511004425989%2C%20-120.66844196039956%5D%2C%0A%20%20%20%20%20%20%20%20%20%20%20%20%7B%0A%20%20%20%20%20%20%20%20%20%20%20%20%20%20%20%20icon%3A%20new%20L.Icon.Default%28%29%2C%0A%20%20%20%20%20%20%20%20%20%20%20%20%20%20%20%20%7D%0A%20%20%20%20%20%20%20%20%20%20%20%20%29.addTo%28map_56d7a086a1f94b2fabf89df52d597412%29%3B%0A%20%20%20%20%20%20%20%20%0A%20%20%20%20%0A%20%20%20%20%20%20%20%20var%20marker_364bbd96e4774faeaaba97cd3cf9fbf6%20%3D%20L.marker%28%0A%20%20%20%20%20%20%20%20%20%20%20%20%5B35.29068001927343%2C%20-120.65961540440546%5D%2C%0A%20%20%20%20%20%20%20%20%20%20%20%20%7B%0A%20%20%20%20%20%20%20%20%20%20%20%20%20%20%20%20icon%3A%20new%20L.Icon.Default%28%29%2C%0A%20%20%20%20%20%20%20%20%20%20%20%20%20%20%20%20%7D%0A%20%20%20%20%20%20%20%20%20%20%20%20%29.addTo%28map_56d7a086a1f94b2fabf89df52d597412%29%3B%0A%20%20%20%20%20%20%20%20%0A%20%20%20%20%0A%20%20%20%20%20%20%20%20var%20marker_fadf45db5c164adda2782dee038951b4%20%3D%20L.marker%28%0A%20%20%20%20%20%20%20%20%20%20%20%20%5B35.27745434247164%2C%20-120.6666459956528%5D%2C%0A%20%20%20%20%20%20%20%20%20%20%20%20%7B%0A%20%20%20%20%20%20%20%20%20%20%20%20%20%20%20%20icon%3A%20new%20L.Icon.Default%28%29%2C%0A%20%20%20%20%20%20%20%20%20%20%20%20%20%20%20%20%7D%0A%20%20%20%20%20%20%20%20%20%20%20%20%29.addTo%28map_56d7a086a1f94b2fabf89df52d597412%29%3B%0A%20%20%20%20%20%20%20%20%0A%20%20%20%20%0A%20%20%20%20%20%20%20%20var%20marker_19f7050af06c4352a126c4bd1cbc952e%20%3D%20L.marker%28%0A%20%20%20%20%20%20%20%20%20%20%20%20%5B35.269272467800576%2C%20-120.6554654666848%5D%2C%0A%20%20%20%20%20%20%20%20%20%20%20%20%7B%0A%20%20%20%20%20%20%20%20%20%20%20%20%20%20%20%20icon%3A%20new%20L.Icon.Default%28%29%2C%0A%20%20%20%20%20%20%20%20%20%20%20%20%20%20%20%20%7D%0A%20%20%20%20%20%20%20%20%20%20%20%20%29.addTo%28map_56d7a086a1f94b2fabf89df52d597412%29%3B%0A%20%20%20%20%20%20%20%20%0A%20%20%20%20%0A%20%20%20%20%20%20%20%20var%20marker_e74e1421be5b419fb658c5796b950ea7%20%3D%20L.marker%28%0A%20%20%20%20%20%20%20%20%20%20%20%20%5B35.29855089439779%2C%20-120.65993749704346%5D%2C%0A%20%20%20%20%20%20%20%20%20%20%20%20%7B%0A%20%20%20%20%20%20%20%20%20%20%20%20%20%20%20%20icon%3A%20new%20L.Icon.Default%28%29%2C%0A%20%20%20%20%20%20%20%20%20%20%20%20%20%20%20%20%7D%0A%20%20%20%20%20%20%20%20%20%20%20%20%29.addTo%28map_56d7a086a1f94b2fabf89df52d597412%29%3B%0A%20%20%20%20%20%20%20%20%0A%20%20%20%20%0A%20%20%20%20%20%20%20%20var%20marker_2d5a3f5fc3954b77960ec13a3d38c452%20%3D%20L.marker%28%0A%20%20%20%20%20%20%20%20%20%20%20%20%5B35.28808388082219%2C%20-120.66446851987847%5D%2C%0A%20%20%20%20%20%20%20%20%20%20%20%20%7B%0A%20%20%20%20%20%20%20%20%20%20%20%20%20%20%20%20icon%3A%20new%20L.Icon.Default%28%29%2C%0A%20%20%20%20%20%20%20%20%20%20%20%20%20%20%20%20%7D%0A%20%20%20%20%20%20%20%20%20%20%20%20%29.addTo%28map_56d7a086a1f94b2fabf89df52d597412%29%3B%0A%20%20%20%20%20%20%20%20%0A%20%20%20%20%0A%20%20%20%20%20%20%20%20var%20marker_40288ec1920d4a63b1d9e8b53c30d3f0%20%3D%20L.marker%28%0A%20%20%20%20%20%20%20%20%20%20%20%20%5B35.278687264260775%2C%20-120.66609567947688%5D%2C%0A%20%20%20%20%20%20%20%20%20%20%20%20%7B%0A%20%20%20%20%20%20%20%20%20%20%20%20%20%20%20%20icon%3A%20new%20L.Icon.Default%28%29%2C%0A%20%20%20%20%20%20%20%20%20%20%20%20%20%20%20%20%7D%0A%20%20%20%20%20%20%20%20%20%20%20%20%29.addTo%28map_56d7a086a1f94b2fabf89df52d597412%29%3B%0A%20%20%20%20%20%20%20%20%0A%20%20%20%20%0A%20%20%20%20%20%20%20%20var%20marker_42a0fbfa56634c61b63182c920ea3acc%20%3D%20L.marker%28%0A%20%20%20%20%20%20%20%20%20%20%20%20%5B35.293450950232234%2C%20-120.66795949219227%5D%2C%0A%20%20%20%20%20%20%20%20%20%20%20%20%7B%0A%20%20%20%20%20%20%20%20%20%20%20%20%20%20%20%20icon%3A%20new%20L.Icon.Default%28%29%2C%0A%20%20%20%20%20%20%20%20%20%20%20%20%20%20%20%20%7D%0A%20%20%20%20%20%20%20%20%20%20%20%20%29.addTo%28map_56d7a086a1f94b2fabf89df52d597412%29%3B%0A%20%20%20%20%20%20%20%20%0A%20%20%20%20%0A%20%20%20%20%20%20%20%20var%20marker_8fcd76fcc98949debeb88f77196ca782%20%3D%20L.marker%28%0A%20%20%20%20%20%20%20%20%20%20%20%20%5B35.2909686245701%2C%20-120.65034745153777%5D%2C%0A%20%20%20%20%20%20%20%20%20%20%20%20%7B%0A%20%20%20%20%20%20%20%20%20%20%20%20%20%20%20%20icon%3A%20new%20L.Icon.Default%28%29%2C%0A%20%20%20%20%20%20%20%20%20%20%20%20%20%20%20%20%7D%0A%20%20%20%20%20%20%20%20%20%20%20%20%29.addTo%28map_56d7a086a1f94b2fabf89df52d597412%29%3B%0A%20%20%20%20%20%20%20%20%0A%20%20%20%20%0A%20%20%20%20%20%20%20%20var%20marker_de3e54e1646a4e31abae9dc14ca6d821%20%3D%20L.marker%28%0A%20%20%20%20%20%20%20%20%20%20%20%20%5B35.294566%2C%20-120.669795%5D%2C%0A%20%20%20%20%20%20%20%20%20%20%20%20%7B%0A%20%20%20%20%20%20%20%20%20%20%20%20%20%20%20%20icon%3A%20new%20L.Icon.Default%28%29%2C%0A%20%20%20%20%20%20%20%20%20%20%20%20%20%20%20%20%7D%0A%20%20%20%20%20%20%20%20%20%20%20%20%29.addTo%28map_56d7a086a1f94b2fabf89df52d597412%29%3B%0A%20%20%20%20%20%20%20%20%0A%20%20%20%20%0A%20%20%20%20%20%20%20%20var%20marker_efb4b92a588f42ce8e19a5fc5e1b5c34%20%3D%20L.marker%28%0A%20%20%20%20%20%20%20%20%20%20%20%20%5B35.293883473819754%2C%20-120.67317633618352%5D%2C%0A%20%20%20%20%20%20%20%20%20%20%20%20%7B%0A%20%20%20%20%20%20%20%20%20%20%20%20%20%20%20%20icon%3A%20new%20L.Icon.Default%28%29%2C%0A%20%20%20%20%20%20%20%20%20%20%20%20%20%20%20%20%7D%0A%20%20%20%20%20%20%20%20%20%20%20%20%29.addTo%28map_56d7a086a1f94b2fabf89df52d597412%29%3B%0A%20%20%20%20%20%20%20%20%0A%20%20%20%20%0A%20%20%20%20%20%20%20%20var%20marker_128c99f5833e4e9f86bb9bb6da630985%20%3D%20L.marker%28%0A%20%20%20%20%20%20%20%20%20%20%20%20%5B35.267344%2C%20-120.652418%5D%2C%0A%20%20%20%20%20%20%20%20%20%20%20%20%7B%0A%20%20%20%20%20%20%20%20%20%20%20%20%20%20%20%20icon%3A%20new%20L.Icon.Default%28%29%2C%0A%20%20%20%20%20%20%20%20%20%20%20%20%20%20%20%20%7D%0A%20%20%20%20%20%20%20%20%20%20%20%20%29.addTo%28map_56d7a086a1f94b2fabf89df52d597412%29%3B%0A%20%20%20%20%20%20%20%20%0A%20%20%20%20%0A%20%20%20%20%20%20%20%20var%20marker_cb6478b5ac90499aa8eed403a895b1fe%20%3D%20L.marker%28%0A%20%20%20%20%20%20%20%20%20%20%20%20%5B35.27744190323586%2C%20-120.66666955727409%5D%2C%0A%20%20%20%20%20%20%20%20%20%20%20%20%7B%0A%20%20%20%20%20%20%20%20%20%20%20%20%20%20%20%20icon%3A%20new%20L.Icon.Default%28%29%2C%0A%20%20%20%20%20%20%20%20%20%20%20%20%20%20%20%20%7D%0A%20%20%20%20%20%20%20%20%20%20%20%20%29.addTo%28map_56d7a086a1f94b2fabf89df52d597412%29%3B%0A%20%20%20%20%20%20%20%20%0A%20%20%20%20%0A%20%20%20%20%20%20%20%20var%20marker_3b02b76b5ec04559a2218297d9dbb8a6%20%3D%20L.marker%28%0A%20%20%20%20%20%20%20%20%20%20%20%20%5B35.299317270847986%2C%20-120.6571286916733%5D%2C%0A%20%20%20%20%20%20%20%20%20%20%20%20%7B%0A%20%20%20%20%20%20%20%20%20%20%20%20%20%20%20%20icon%3A%20new%20L.Icon.Default%28%29%2C%0A%20%20%20%20%20%20%20%20%20%20%20%20%20%20%20%20%7D%0A%20%20%20%20%20%20%20%20%20%20%20%20%29.addTo%28map_56d7a086a1f94b2fabf89df52d597412%29%3B%0A%20%20%20%20%20%20%20%20%0A%20%20%20%20%0A%20%20%20%20%20%20%20%20var%20marker_b0c8fe939b0e4c4d867a429564692200%20%3D%20L.marker%28%0A%20%20%20%20%20%20%20%20%20%20%20%20%5B35.29384994506836%2C%20-120.67024230957031%5D%2C%0A%20%20%20%20%20%20%20%20%20%20%20%20%7B%0A%20%20%20%20%20%20%20%20%20%20%20%20%20%20%20%20icon%3A%20new%20L.Icon.Default%28%29%2C%0A%20%20%20%20%20%20%20%20%20%20%20%20%20%20%20%20%7D%0A%20%20%20%20%20%20%20%20%20%20%20%20%29.addTo%28map_56d7a086a1f94b2fabf89df52d597412%29%3B%0A%20%20%20%20%20%20%20%20%0A%20%20%20%20%0A%20%20%20%20%20%20%20%20var%20marker_0fa2838a79dc4992a6414a02fa372d93%20%3D%20L.marker%28%0A%20%20%20%20%20%20%20%20%20%20%20%20%5B35.2942861725851%2C%20-120.66891729631917%5D%2C%0A%20%20%20%20%20%20%20%20%20%20%20%20%7B%0A%20%20%20%20%20%20%20%20%20%20%20%20%20%20%20%20icon%3A%20new%20L.Icon.Default%28%29%2C%0A%20%20%20%20%20%20%20%20%20%20%20%20%20%20%20%20%7D%0A%20%20%20%20%20%20%20%20%20%20%20%20%29.addTo%28map_56d7a086a1f94b2fabf89df52d597412%29%3B%0A%20%20%20%20%20%20%20%20%0A%20%20%20%20%0A%20%20%20%20%20%20%20%20var%20marker_cacdf4714ab34e0884d40dbf5aad443d%20%3D%20L.marker%28%0A%20%20%20%20%20%20%20%20%20%20%20%20%5B35.293675%2C%20-120.67085%5D%2C%0A%20%20%20%20%20%20%20%20%20%20%20%20%7B%0A%20%20%20%20%20%20%20%20%20%20%20%20%20%20%20%20icon%3A%20new%20L.Icon.Default%28%29%2C%0A%20%20%20%20%20%20%20%20%20%20%20%20%20%20%20%20%7D%0A%20%20%20%20%20%20%20%20%20%20%20%20%29.addTo%28map_56d7a086a1f94b2fabf89df52d597412%29%3B%0A%20%20%20%20%20%20%20%20%0A%20%20%20%20%0A%20%20%20%20%20%20%20%20var%20marker_f1296eb0551440b7a881c690491a77ca%20%3D%20L.marker%28%0A%20%20%20%20%20%20%20%20%20%20%20%20%5B35.293903226969704%2C%20-120.6686560358553%5D%2C%0A%20%20%20%20%20%20%20%20%20%20%20%20%7B%0A%20%20%20%20%20%20%20%20%20%20%20%20%20%20%20%20icon%3A%20new%20L.Icon.Default%28%29%2C%0A%20%20%20%20%20%20%20%20%20%20%20%20%20%20%20%20%7D%0A%20%20%20%20%20%20%20%20%20%20%20%20%29.addTo%28map_56d7a086a1f94b2fabf89df52d597412%29%3B%0A%20%20%20%20%20%20%20%20%0A%20%20%20%20%0A%20%20%20%20%20%20%20%20var%20marker_d1fce15aaec042889bbde0bfed53f6e2%20%3D%20L.marker%28%0A%20%20%20%20%20%20%20%20%20%20%20%20%5B35.27388067197592%2C%20-120.66933138745566%5D%2C%0A%20%20%20%20%20%20%20%20%20%20%20%20%7B%0A%20%20%20%20%20%20%20%20%20%20%20%20%20%20%20%20icon%3A%20new%20L.Icon.Default%28%29%2C%0A%20%20%20%20%20%20%20%20%20%20%20%20%20%20%20%20%7D%0A%20%20%20%20%20%20%20%20%20%20%20%20%29.addTo%28map_56d7a086a1f94b2fabf89df52d597412%29%3B%0A%20%20%20%20%20%20%20%20%0A%20%20%20%20%0A%20%20%20%20%20%20%20%20var%20marker_b393dcaf79314503bbd22b9fa30410d7%20%3D%20L.marker%28%0A%20%20%20%20%20%20%20%20%20%20%20%20%5B35.288369%2C%20-120.665345%5D%2C%0A%20%20%20%20%20%20%20%20%20%20%20%20%7B%0A%20%20%20%20%20%20%20%20%20%20%20%20%20%20%20%20icon%3A%20new%20L.Icon.Default%28%29%2C%0A%20%20%20%20%20%20%20%20%20%20%20%20%20%20%20%20%7D%0A%20%20%20%20%20%20%20%20%20%20%20%20%29.addTo%28map_56d7a086a1f94b2fabf89df52d597412%29%3B%0A%20%20%20%20%20%20%20%20%0A%20%20%20%20%0A%20%20%20%20%20%20%20%20var%20marker_bc53625c50354dacaf64bc4b1a675964%20%3D%20L.marker%28%0A%20%20%20%20%20%20%20%20%20%20%20%20%5B35.26902303114947%2C%20-120.67085900430988%5D%2C%0A%20%20%20%20%20%20%20%20%20%20%20%20%7B%0A%20%20%20%20%20%20%20%20%20%20%20%20%20%20%20%20icon%3A%20new%20L.Icon.Default%28%29%2C%0A%20%20%20%20%20%20%20%20%20%20%20%20%20%20%20%20%7D%0A%20%20%20%20%20%20%20%20%20%20%20%20%29.addTo%28map_56d7a086a1f94b2fabf89df52d597412%29%3B%0A%20%20%20%20%20%20%20%20%0A%20%20%20%20%0A%20%20%20%20%20%20%20%20var%20marker_da312846bab04a87a922fd524a2f8ccc%20%3D%20L.marker%28%0A%20%20%20%20%20%20%20%20%20%20%20%20%5B35.29381295168551%2C%20-120.67145765034242%5D%2C%0A%20%20%20%20%20%20%20%20%20%20%20%20%7B%0A%20%20%20%20%20%20%20%20%20%20%20%20%20%20%20%20icon%3A%20new%20L.Icon.Default%28%29%2C%0A%20%20%20%20%20%20%20%20%20%20%20%20%20%20%20%20%7D%0A%20%20%20%20%20%20%20%20%20%20%20%20%29.addTo%28map_56d7a086a1f94b2fabf89df52d597412%29%3B%0A%20%20%20%20%20%20%20%20%0A%20%20%20%20%0A%20%20%20%20%20%20%20%20var%20marker_51a6e0a29207472c83f1427eadbc953f%20%3D%20L.marker%28%0A%20%20%20%20%20%20%20%20%20%20%20%20%5B35.274628%2C%20-120.669044%5D%2C%0A%20%20%20%20%20%20%20%20%20%20%20%20%7B%0A%20%20%20%20%20%20%20%20%20%20%20%20%20%20%20%20icon%3A%20new%20L.Icon.Default%28%29%2C%0A%20%20%20%20%20%20%20%20%20%20%20%20%20%20%20%20%7D%0A%20%20%20%20%20%20%20%20%20%20%20%20%29.addTo%28map_56d7a086a1f94b2fabf89df52d597412%29%3B%0A%20%20%20%20%20%20%20%20%0A%20%20%20%20%0A%20%20%20%20%20%20%20%20var%20marker_1c8ab0f1703a43f2b0dd65651c12f143%20%3D%20L.marker%28%0A%20%20%20%20%20%20%20%20%20%20%20%20%5B35.29435746808543%2C%20-120.67145510219248%5D%2C%0A%20%20%20%20%20%20%20%20%20%20%20%20%7B%0A%20%20%20%20%20%20%20%20%20%20%20%20%20%20%20%20icon%3A%20new%20L.Icon.Default%28%29%2C%0A%20%20%20%20%20%20%20%20%20%20%20%20%20%20%20%20%7D%0A%20%20%20%20%20%20%20%20%20%20%20%20%29.addTo%28map_56d7a086a1f94b2fabf89df52d597412%29%3B%0A%20%20%20%20%20%20%20%20%0A%20%20%20%20%0A%20%20%20%20%20%20%20%20var%20marker_3b47427a418745618f57a371d76431b3%20%3D%20L.marker%28%0A%20%20%20%20%20%20%20%20%20%20%20%20%5B35.29388530620938%2C%20-120.66948579844991%5D%2C%0A%20%20%20%20%20%20%20%20%20%20%20%20%7B%0A%20%20%20%20%20%20%20%20%20%20%20%20%20%20%20%20icon%3A%20new%20L.Icon.Default%28%29%2C%0A%20%20%20%20%20%20%20%20%20%20%20%20%20%20%20%20%7D%0A%20%20%20%20%20%20%20%20%20%20%20%20%29.addTo%28map_56d7a086a1f94b2fabf89df52d597412%29%3B%0A%20%20%20%20%20%20%20%20%0A%20%20%20%20%0A%20%20%20%20%20%20%20%20var%20marker_76dc67b052d44400b07d0881279e51e2%20%3D%20L.marker%28%0A%20%20%20%20%20%20%20%20%20%20%20%20%5B35.2995649%2C%20-120.6594153%5D%2C%0A%20%20%20%20%20%20%20%20%20%20%20%20%7B%0A%20%20%20%20%20%20%20%20%20%20%20%20%20%20%20%20icon%3A%20new%20L.Icon.Default%28%29%2C%0A%20%20%20%20%20%20%20%20%20%20%20%20%20%20%20%20%7D%0A%20%20%20%20%20%20%20%20%20%20%20%20%29.addTo%28map_56d7a086a1f94b2fabf89df52d597412%29%3B%0A%20%20%20%20%20%20%20%20%0A%20%20%20%20%0A%20%20%20%20%20%20%20%20var%20marker_f1e51f6d2dc6450d8abd9a54a05e1e79%20%3D%20L.marker%28%0A%20%20%20%20%20%20%20%20%20%20%20%20%5B35.267661507446384%2C%20-120.65885066986084%5D%2C%0A%20%20%20%20%20%20%20%20%20%20%20%20%7B%0A%20%20%20%20%20%20%20%20%20%20%20%20%20%20%20%20icon%3A%20new%20L.Icon.Default%28%29%2C%0A%20%20%20%20%20%20%20%20%20%20%20%20%20%20%20%20%7D%0A%20%20%20%20%20%20%20%20%20%20%20%20%29.addTo%28map_56d7a086a1f94b2fabf89df52d597412%29%3B%0A%20%20%20%20%20%20%20%20%0A%20%20%20%20%0A%20%20%20%20%20%20%20%20var%20marker_d8b392b36eb9442695467e1cb30083cb%20%3D%20L.marker%28%0A%20%20%20%20%20%20%20%20%20%20%20%20%5B35.2937146888983%2C%20-120.6723249297587%5D%2C%0A%20%20%20%20%20%20%20%20%20%20%20%20%7B%0A%20%20%20%20%20%20%20%20%20%20%20%20%20%20%20%20icon%3A%20new%20L.Icon.Default%28%29%2C%0A%20%20%20%20%20%20%20%20%20%20%20%20%20%20%20%20%7D%0A%20%20%20%20%20%20%20%20%20%20%20%20%29.addTo%28map_56d7a086a1f94b2fabf89df52d597412%29%3B%0A%20%20%20%20%20%20%20%20%0A%20%20%20%20%0A%20%20%20%20%20%20%20%20var%20marker_b87ae13b3dca4504b1cac48572d670bf%20%3D%20L.marker%28%0A%20%20%20%20%20%20%20%20%20%20%20%20%5B35.26918378174353%2C%20-120.67012543818237%5D%2C%0A%20%20%20%20%20%20%20%20%20%20%20%20%7B%0A%20%20%20%20%20%20%20%20%20%20%20%20%20%20%20%20icon%3A%20new%20L.Icon.Default%28%29%2C%0A%20%20%20%20%20%20%20%20%20%20%20%20%20%20%20%20%7D%0A%20%20%20%20%20%20%20%20%20%20%20%20%29.addTo%28map_56d7a086a1f94b2fabf89df52d597412%29%3B%0A%20%20%20%20%20%20%20%20%0A%20%20%20%20%0A%20%20%20%20%20%20%20%20var%20marker_745a21481152458e87da904444efd7b3%20%3D%20L.marker%28%0A%20%20%20%20%20%20%20%20%20%20%20%20%5B35.29449574258192%2C%20-120.67099020540248%5D%2C%0A%20%20%20%20%20%20%20%20%20%20%20%20%7B%0A%20%20%20%20%20%20%20%20%20%20%20%20%20%20%20%20icon%3A%20new%20L.Icon.Default%28%29%2C%0A%20%20%20%20%20%20%20%20%20%20%20%20%20%20%20%20%7D%0A%20%20%20%20%20%20%20%20%20%20%20%20%29.addTo%28map_56d7a086a1f94b2fabf89df52d597412%29%3B%0A%20%20%20%20%20%20%20%20%0A%20%20%20%20%0A%20%20%20%20%20%20%20%20var%20marker_7f68b74ae0e94ff6b46847ae0daf15c4%20%3D%20L.marker%28%0A%20%20%20%20%20%20%20%20%20%20%20%20%5B35.29448767332801%2C%20-120.67055437714544%5D%2C%0A%20%20%20%20%20%20%20%20%20%20%20%20%7B%0A%20%20%20%20%20%20%20%20%20%20%20%20%20%20%20%20icon%3A%20new%20L.Icon.Default%28%29%2C%0A%20%20%20%20%20%20%20%20%20%20%20%20%20%20%20%20%7D%0A%20%20%20%20%20%20%20%20%20%20%20%20%29.addTo%28map_56d7a086a1f94b2fabf89df52d597412%29%3B%0A%20%20%20%20%20%20%20%20%0A%20%20%20%20%0A%20%20%20%20%20%20%20%20var%20marker_d33de85964064bf2b7ee2341c2093fe3%20%3D%20L.marker%28%0A%20%20%20%20%20%20%20%20%20%20%20%20%5B35.27000716569029%2C%20-120.67034581816031%5D%2C%0A%20%20%20%20%20%20%20%20%20%20%20%20%7B%0A%20%20%20%20%20%20%20%20%20%20%20%20%20%20%20%20icon%3A%20new%20L.Icon.Default%28%29%2C%0A%20%20%20%20%20%20%20%20%20%20%20%20%20%20%20%20%7D%0A%20%20%20%20%20%20%20%20%20%20%20%20%29.addTo%28map_56d7a086a1f94b2fabf89df52d597412%29%3B%0A%20%20%20%20%20%20%20%20%0A%20%20%20%20%0A%20%20%20%20%20%20%20%20var%20marker_19f54701490e49c590a62fcd7599976d%20%3D%20L.marker%28%0A%20%20%20%20%20%20%20%20%20%20%20%20%5B35.300170976277414%2C%20-120.658723029048%5D%2C%0A%20%20%20%20%20%20%20%20%20%20%20%20%7B%0A%20%20%20%20%20%20%20%20%20%20%20%20%20%20%20%20icon%3A%20new%20L.Icon.Default%28%29%2C%0A%20%20%20%20%20%20%20%20%20%20%20%20%20%20%20%20%7D%0A%20%20%20%20%20%20%20%20%20%20%20%20%29.addTo%28map_56d7a086a1f94b2fabf89df52d597412%29%3B%0A%20%20%20%20%20%20%20%20%0A%20%20%20%20%0A%20%20%20%20%20%20%20%20var%20marker_2ef27c041eea4b8d8f40cbe6ce54e38f%20%3D%20L.marker%28%0A%20%20%20%20%20%20%20%20%20%20%20%20%5B35.277950662847594%2C%20-120.66672649846846%5D%2C%0A%20%20%20%20%20%20%20%20%20%20%20%20%7B%0A%20%20%20%20%20%20%20%20%20%20%20%20%20%20%20%20icon%3A%20new%20L.Icon.Default%28%29%2C%0A%20%20%20%20%20%20%20%20%20%20%20%20%20%20%20%20%7D%0A%20%20%20%20%20%20%20%20%20%20%20%20%29.addTo%28map_56d7a086a1f94b2fabf89df52d597412%29%3B%0A%20%20%20%20%20%20%20%20%0A%20%20%20%20%0A%20%20%20%20%20%20%20%20var%20marker_0abbc80e0c79472da2e59445b5716488%20%3D%20L.marker%28%0A%20%20%20%20%20%20%20%20%20%20%20%20%5B35.29373229699873%2C%20-120.66816225571779%5D%2C%0A%20%20%20%20%20%20%20%20%20%20%20%20%7B%0A%20%20%20%20%20%20%20%20%20%20%20%20%20%20%20%20icon%3A%20new%20L.Icon.Default%28%29%2C%0A%20%20%20%20%20%20%20%20%20%20%20%20%20%20%20%20%7D%0A%20%20%20%20%20%20%20%20%20%20%20%20%29.addTo%28map_56d7a086a1f94b2fabf89df52d597412%29%3B%0A%20%20%20%20%20%20%20%20%0A%20%20%20%20%0A%20%20%20%20%20%20%20%20var%20marker_7e3eaa6a438e4acb88f2a23d2e3ac2df%20%3D%20L.marker%28%0A%20%20%20%20%20%20%20%20%20%20%20%20%5B35.27632832868032%2C%20-120.6670087162389%5D%2C%0A%20%20%20%20%20%20%20%20%20%20%20%20%7B%0A%20%20%20%20%20%20%20%20%20%20%20%20%20%20%20%20icon%3A%20new%20L.Icon.Default%28%29%2C%0A%20%20%20%20%20%20%20%20%20%20%20%20%20%20%20%20%7D%0A%20%20%20%20%20%20%20%20%20%20%20%20%29.addTo%28map_56d7a086a1f94b2fabf89df52d597412%29%3B%0A%20%20%20%20%20%20%20%20%0A%3C/script%3E onload=\"this.contentDocument.open();this.contentDocument.write(    decodeURIComponent(this.getAttribute('data-html')));this.contentDocument.close();\" allowfullscreen webkitallowfullscreen mozallowfullscreen></iframe></div></div>"
            ],
            "text/plain": [
              "<folium.folium.Map at 0x7f07af7b6090>"
            ]
          },
          "metadata": {
            "tags": []
          },
          "execution_count": 81
        }
      ]
    },
    {
      "cell_type": "markdown",
      "metadata": {
        "id": "Tp1QCcR6mMEZ"
      },
      "source": [
        "#### Madison"
      ]
    },
    {
      "cell_type": "code",
      "metadata": {
        "colab": {
          "base_uri": "https://localhost:8080/",
          "height": 0
        },
        "id": "Z6D8RT4ZSvP5",
        "outputId": "53a5c4f5-9dab-4a1f-edb2-1557f3caebef"
      },
      "source": [
        "madison_map = folium.Map(location=[43.04292418483257, -89.40407878799554], zoom_start=15)\r\n",
        "madison_points = madison_venues[['lat', 'lng']]\r\n",
        "\r\n",
        "madison = madison_points.values.tolist()\r\n",
        "for point in range(0, len(madison)):\r\n",
        "  folium.Marker(madison[point]).add_to(madison_map)\r\n",
        "madison_map"
      ],
      "execution_count": 82,
      "outputs": [
        {
          "output_type": "execute_result",
          "data": {
            "text/html": [
              "<div style=\"width:100%;\"><div style=\"position:relative;width:100%;height:0;padding-bottom:60%;\"><span style=\"color:#565656\">Make this Notebook Trusted to load map: File -> Trust Notebook</span><iframe src=\"about:blank\" style=\"position:absolute;width:100%;height:100%;left:0;top:0;border:none !important;\" data-html=%3C%21DOCTYPE%20html%3E%0A%3Chead%3E%20%20%20%20%0A%20%20%20%20%3Cmeta%20http-equiv%3D%22content-type%22%20content%3D%22text/html%3B%20charset%3DUTF-8%22%20/%3E%0A%20%20%20%20%3Cscript%3EL_PREFER_CANVAS%3Dfalse%3B%20L_NO_TOUCH%3Dfalse%3B%20L_DISABLE_3D%3Dfalse%3B%3C/script%3E%0A%20%20%20%20%3Cscript%20src%3D%22https%3A//cdn.jsdelivr.net/npm/leaflet%401.4.0/dist/leaflet.js%22%3E%3C/script%3E%0A%20%20%20%20%3Cscript%20src%3D%22https%3A//code.jquery.com/jquery-1.12.4.min.js%22%3E%3C/script%3E%0A%20%20%20%20%3Cscript%20src%3D%22https%3A//maxcdn.bootstrapcdn.com/bootstrap/3.2.0/js/bootstrap.min.js%22%3E%3C/script%3E%0A%20%20%20%20%3Cscript%20src%3D%22https%3A//cdnjs.cloudflare.com/ajax/libs/Leaflet.awesome-markers/2.0.2/leaflet.awesome-markers.js%22%3E%3C/script%3E%0A%20%20%20%20%3Clink%20rel%3D%22stylesheet%22%20href%3D%22https%3A//cdn.jsdelivr.net/npm/leaflet%401.4.0/dist/leaflet.css%22/%3E%0A%20%20%20%20%3Clink%20rel%3D%22stylesheet%22%20href%3D%22https%3A//maxcdn.bootstrapcdn.com/bootstrap/3.2.0/css/bootstrap.min.css%22/%3E%0A%20%20%20%20%3Clink%20rel%3D%22stylesheet%22%20href%3D%22https%3A//maxcdn.bootstrapcdn.com/bootstrap/3.2.0/css/bootstrap-theme.min.css%22/%3E%0A%20%20%20%20%3Clink%20rel%3D%22stylesheet%22%20href%3D%22https%3A//maxcdn.bootstrapcdn.com/font-awesome/4.6.3/css/font-awesome.min.css%22/%3E%0A%20%20%20%20%3Clink%20rel%3D%22stylesheet%22%20href%3D%22https%3A//cdnjs.cloudflare.com/ajax/libs/Leaflet.awesome-markers/2.0.2/leaflet.awesome-markers.css%22/%3E%0A%20%20%20%20%3Clink%20rel%3D%22stylesheet%22%20href%3D%22https%3A//rawcdn.githack.com/python-visualization/folium/master/folium/templates/leaflet.awesome.rotate.css%22/%3E%0A%20%20%20%20%3Cstyle%3Ehtml%2C%20body%20%7Bwidth%3A%20100%25%3Bheight%3A%20100%25%3Bmargin%3A%200%3Bpadding%3A%200%3B%7D%3C/style%3E%0A%20%20%20%20%3Cstyle%3E%23map%20%7Bposition%3Aabsolute%3Btop%3A0%3Bbottom%3A0%3Bright%3A0%3Bleft%3A0%3B%7D%3C/style%3E%0A%20%20%20%20%0A%20%20%20%20%3Cmeta%20name%3D%22viewport%22%20content%3D%22width%3Ddevice-width%2C%0A%20%20%20%20%20%20%20%20initial-scale%3D1.0%2C%20maximum-scale%3D1.0%2C%20user-scalable%3Dno%22%20/%3E%0A%20%20%20%20%3Cstyle%3E%23map_e1129b66cf4d4c19bb44d8c3caf50e2f%20%7B%0A%20%20%20%20%20%20%20%20position%3A%20relative%3B%0A%20%20%20%20%20%20%20%20width%3A%20100.0%25%3B%0A%20%20%20%20%20%20%20%20height%3A%20100.0%25%3B%0A%20%20%20%20%20%20%20%20left%3A%200.0%25%3B%0A%20%20%20%20%20%20%20%20top%3A%200.0%25%3B%0A%20%20%20%20%20%20%20%20%7D%0A%20%20%20%20%3C/style%3E%0A%3C/head%3E%0A%3Cbody%3E%20%20%20%20%0A%20%20%20%20%0A%20%20%20%20%3Cdiv%20class%3D%22folium-map%22%20id%3D%22map_e1129b66cf4d4c19bb44d8c3caf50e2f%22%20%3E%3C/div%3E%0A%3C/body%3E%0A%3Cscript%3E%20%20%20%20%0A%20%20%20%20%0A%20%20%20%20%0A%20%20%20%20%20%20%20%20var%20bounds%20%3D%20null%3B%0A%20%20%20%20%0A%0A%20%20%20%20var%20map_e1129b66cf4d4c19bb44d8c3caf50e2f%20%3D%20L.map%28%0A%20%20%20%20%20%20%20%20%27map_e1129b66cf4d4c19bb44d8c3caf50e2f%27%2C%20%7B%0A%20%20%20%20%20%20%20%20center%3A%20%5B43.04292418483257%2C%20-89.40407878799554%5D%2C%0A%20%20%20%20%20%20%20%20zoom%3A%2015%2C%0A%20%20%20%20%20%20%20%20maxBounds%3A%20bounds%2C%0A%20%20%20%20%20%20%20%20layers%3A%20%5B%5D%2C%0A%20%20%20%20%20%20%20%20worldCopyJump%3A%20false%2C%0A%20%20%20%20%20%20%20%20crs%3A%20L.CRS.EPSG3857%2C%0A%20%20%20%20%20%20%20%20zoomControl%3A%20true%2C%0A%20%20%20%20%20%20%20%20%7D%29%3B%0A%0A%0A%20%20%20%20%0A%20%20%20%20var%20tile_layer_0256238209754096bc4c7bcb9d8a02bb%20%3D%20L.tileLayer%28%0A%20%20%20%20%20%20%20%20%27https%3A//%7Bs%7D.tile.openstreetmap.org/%7Bz%7D/%7Bx%7D/%7By%7D.png%27%2C%0A%20%20%20%20%20%20%20%20%7B%0A%20%20%20%20%20%20%20%20%22attribution%22%3A%20null%2C%0A%20%20%20%20%20%20%20%20%22detectRetina%22%3A%20false%2C%0A%20%20%20%20%20%20%20%20%22maxNativeZoom%22%3A%2018%2C%0A%20%20%20%20%20%20%20%20%22maxZoom%22%3A%2018%2C%0A%20%20%20%20%20%20%20%20%22minZoom%22%3A%200%2C%0A%20%20%20%20%20%20%20%20%22noWrap%22%3A%20false%2C%0A%20%20%20%20%20%20%20%20%22opacity%22%3A%201%2C%0A%20%20%20%20%20%20%20%20%22subdomains%22%3A%20%22abc%22%2C%0A%20%20%20%20%20%20%20%20%22tms%22%3A%20false%0A%7D%29.addTo%28map_e1129b66cf4d4c19bb44d8c3caf50e2f%29%3B%0A%20%20%20%20%0A%20%20%20%20%20%20%20%20var%20marker_1bcdcf455c9044b88a608e1a229a3bfe%20%3D%20L.marker%28%0A%20%20%20%20%20%20%20%20%20%20%20%20%5B43.03683%2C%20-89.40493%5D%2C%0A%20%20%20%20%20%20%20%20%20%20%20%20%7B%0A%20%20%20%20%20%20%20%20%20%20%20%20%20%20%20%20icon%3A%20new%20L.Icon.Default%28%29%2C%0A%20%20%20%20%20%20%20%20%20%20%20%20%20%20%20%20%7D%0A%20%20%20%20%20%20%20%20%20%20%20%20%29.addTo%28map_e1129b66cf4d4c19bb44d8c3caf50e2f%29%3B%0A%20%20%20%20%20%20%20%20%0A%20%20%20%20%0A%20%20%20%20%20%20%20%20var%20marker_b96f04a443084ab7aee61f425d94e038%20%3D%20L.marker%28%0A%20%20%20%20%20%20%20%20%20%20%20%20%5B43.04395614460106%2C%20-89.39438399567224%5D%2C%0A%20%20%20%20%20%20%20%20%20%20%20%20%7B%0A%20%20%20%20%20%20%20%20%20%20%20%20%20%20%20%20icon%3A%20new%20L.Icon.Default%28%29%2C%0A%20%20%20%20%20%20%20%20%20%20%20%20%20%20%20%20%7D%0A%20%20%20%20%20%20%20%20%20%20%20%20%29.addTo%28map_e1129b66cf4d4c19bb44d8c3caf50e2f%29%3B%0A%20%20%20%20%20%20%20%20%0A%20%20%20%20%0A%20%20%20%20%20%20%20%20var%20marker_81ef7572cb394bc38f4a9a86464c3fd9%20%3D%20L.marker%28%0A%20%20%20%20%20%20%20%20%20%20%20%20%5B43.04066639958932%2C%20-89.3951759622226%5D%2C%0A%20%20%20%20%20%20%20%20%20%20%20%20%7B%0A%20%20%20%20%20%20%20%20%20%20%20%20%20%20%20%20icon%3A%20new%20L.Icon.Default%28%29%2C%0A%20%20%20%20%20%20%20%20%20%20%20%20%20%20%20%20%7D%0A%20%20%20%20%20%20%20%20%20%20%20%20%29.addTo%28map_e1129b66cf4d4c19bb44d8c3caf50e2f%29%3B%0A%20%20%20%20%20%20%20%20%0A%20%20%20%20%0A%20%20%20%20%20%20%20%20var%20marker_91ba06bc7a9d429eb68456d75c89256f%20%3D%20L.marker%28%0A%20%20%20%20%20%20%20%20%20%20%20%20%5B43.055594533389524%2C%20-89.39738250748914%5D%2C%0A%20%20%20%20%20%20%20%20%20%20%20%20%7B%0A%20%20%20%20%20%20%20%20%20%20%20%20%20%20%20%20icon%3A%20new%20L.Icon.Default%28%29%2C%0A%20%20%20%20%20%20%20%20%20%20%20%20%20%20%20%20%7D%0A%20%20%20%20%20%20%20%20%20%20%20%20%29.addTo%28map_e1129b66cf4d4c19bb44d8c3caf50e2f%29%3B%0A%20%20%20%20%20%20%20%20%0A%20%20%20%20%0A%20%20%20%20%20%20%20%20var%20marker_f7a0e7ac6a1644e59ae66984d14d6d79%20%3D%20L.marker%28%0A%20%20%20%20%20%20%20%20%20%20%20%20%5B43.0326180464072%2C%20-89.40716798100087%5D%2C%0A%20%20%20%20%20%20%20%20%20%20%20%20%7B%0A%20%20%20%20%20%20%20%20%20%20%20%20%20%20%20%20icon%3A%20new%20L.Icon.Default%28%29%2C%0A%20%20%20%20%20%20%20%20%20%20%20%20%20%20%20%20%7D%0A%20%20%20%20%20%20%20%20%20%20%20%20%29.addTo%28map_e1129b66cf4d4c19bb44d8c3caf50e2f%29%3B%0A%20%20%20%20%20%20%20%20%0A%20%20%20%20%0A%20%20%20%20%20%20%20%20var%20marker_01ca352d47234bf8b462009758d2eb5b%20%3D%20L.marker%28%0A%20%20%20%20%20%20%20%20%20%20%20%20%5B43.03603024800349%2C%20-89.41506326570321%5D%2C%0A%20%20%20%20%20%20%20%20%20%20%20%20%7B%0A%20%20%20%20%20%20%20%20%20%20%20%20%20%20%20%20icon%3A%20new%20L.Icon.Default%28%29%2C%0A%20%20%20%20%20%20%20%20%20%20%20%20%20%20%20%20%7D%0A%20%20%20%20%20%20%20%20%20%20%20%20%29.addTo%28map_e1129b66cf4d4c19bb44d8c3caf50e2f%29%3B%0A%20%20%20%20%20%20%20%20%0A%20%20%20%20%0A%20%20%20%20%20%20%20%20var%20marker_870a0e2b3e114aecafa004383407db04%20%3D%20L.marker%28%0A%20%20%20%20%20%20%20%20%20%20%20%20%5B43.05009761739045%2C%20-89.39212063693732%5D%2C%0A%20%20%20%20%20%20%20%20%20%20%20%20%7B%0A%20%20%20%20%20%20%20%20%20%20%20%20%20%20%20%20icon%3A%20new%20L.Icon.Default%28%29%2C%0A%20%20%20%20%20%20%20%20%20%20%20%20%20%20%20%20%7D%0A%20%20%20%20%20%20%20%20%20%20%20%20%29.addTo%28map_e1129b66cf4d4c19bb44d8c3caf50e2f%29%3B%0A%20%20%20%20%20%20%20%20%0A%20%20%20%20%0A%20%20%20%20%20%20%20%20var%20marker_ae8eb6ee25b94361b55f00843e4cb256%20%3D%20L.marker%28%0A%20%20%20%20%20%20%20%20%20%20%20%20%5B43.036366%2C%20-89.406785%5D%2C%0A%20%20%20%20%20%20%20%20%20%20%20%20%7B%0A%20%20%20%20%20%20%20%20%20%20%20%20%20%20%20%20icon%3A%20new%20L.Icon.Default%28%29%2C%0A%20%20%20%20%20%20%20%20%20%20%20%20%20%20%20%20%7D%0A%20%20%20%20%20%20%20%20%20%20%20%20%29.addTo%28map_e1129b66cf4d4c19bb44d8c3caf50e2f%29%3B%0A%20%20%20%20%20%20%20%20%0A%20%20%20%20%0A%20%20%20%20%20%20%20%20var%20marker_a69ba5de96964485ba2c2d83ae8b4a36%20%3D%20L.marker%28%0A%20%20%20%20%20%20%20%20%20%20%20%20%5B43.054105227753205%2C%20-89.39679923549417%5D%2C%0A%20%20%20%20%20%20%20%20%20%20%20%20%7B%0A%20%20%20%20%20%20%20%20%20%20%20%20%20%20%20%20icon%3A%20new%20L.Icon.Default%28%29%2C%0A%20%20%20%20%20%20%20%20%20%20%20%20%20%20%20%20%7D%0A%20%20%20%20%20%20%20%20%20%20%20%20%29.addTo%28map_e1129b66cf4d4c19bb44d8c3caf50e2f%29%3B%0A%20%20%20%20%20%20%20%20%0A%20%20%20%20%0A%20%20%20%20%20%20%20%20var%20marker_580de39bed13474fb4b1fd140db53b74%20%3D%20L.marker%28%0A%20%20%20%20%20%20%20%20%20%20%20%20%5B43.03004020182599%2C%20-89.41090044755059%5D%2C%0A%20%20%20%20%20%20%20%20%20%20%20%20%7B%0A%20%20%20%20%20%20%20%20%20%20%20%20%20%20%20%20icon%3A%20new%20L.Icon.Default%28%29%2C%0A%20%20%20%20%20%20%20%20%20%20%20%20%20%20%20%20%7D%0A%20%20%20%20%20%20%20%20%20%20%20%20%29.addTo%28map_e1129b66cf4d4c19bb44d8c3caf50e2f%29%3B%0A%20%20%20%20%20%20%20%20%0A%20%20%20%20%0A%20%20%20%20%20%20%20%20var%20marker_0ca3701335b447a783dc1658177ee24a%20%3D%20L.marker%28%0A%20%20%20%20%20%20%20%20%20%20%20%20%5B43.05227239344059%2C%20-89.39469667112733%5D%2C%0A%20%20%20%20%20%20%20%20%20%20%20%20%7B%0A%20%20%20%20%20%20%20%20%20%20%20%20%20%20%20%20icon%3A%20new%20L.Icon.Default%28%29%2C%0A%20%20%20%20%20%20%20%20%20%20%20%20%20%20%20%20%7D%0A%20%20%20%20%20%20%20%20%20%20%20%20%29.addTo%28map_e1129b66cf4d4c19bb44d8c3caf50e2f%29%3B%0A%20%20%20%20%20%20%20%20%0A%20%20%20%20%0A%20%20%20%20%20%20%20%20var%20marker_c258f0421e524f158b5c192e7fbf8145%20%3D%20L.marker%28%0A%20%20%20%20%20%20%20%20%20%20%20%20%5B43.030651334646976%2C%20-89.40643954358055%5D%2C%0A%20%20%20%20%20%20%20%20%20%20%20%20%7B%0A%20%20%20%20%20%20%20%20%20%20%20%20%20%20%20%20icon%3A%20new%20L.Icon.Default%28%29%2C%0A%20%20%20%20%20%20%20%20%20%20%20%20%20%20%20%20%7D%0A%20%20%20%20%20%20%20%20%20%20%20%20%29.addTo%28map_e1129b66cf4d4c19bb44d8c3caf50e2f%29%3B%0A%20%20%20%20%20%20%20%20%0A%20%20%20%20%0A%20%20%20%20%20%20%20%20var%20marker_80bd897c85bf4e1b815818ced486cff7%20%3D%20L.marker%28%0A%20%20%20%20%20%20%20%20%20%20%20%20%5B43.04485013069431%2C%20-89.39468021033309%5D%2C%0A%20%20%20%20%20%20%20%20%20%20%20%20%7B%0A%20%20%20%20%20%20%20%20%20%20%20%20%20%20%20%20icon%3A%20new%20L.Icon.Default%28%29%2C%0A%20%20%20%20%20%20%20%20%20%20%20%20%20%20%20%20%7D%0A%20%20%20%20%20%20%20%20%20%20%20%20%29.addTo%28map_e1129b66cf4d4c19bb44d8c3caf50e2f%29%3B%0A%20%20%20%20%20%20%20%20%0A%20%20%20%20%0A%20%20%20%20%20%20%20%20var%20marker_2f2f22b8617e461486d452bab73daddd%20%3D%20L.marker%28%0A%20%20%20%20%20%20%20%20%20%20%20%20%5B43.036442068059166%2C%20-89.38883551246604%5D%2C%0A%20%20%20%20%20%20%20%20%20%20%20%20%7B%0A%20%20%20%20%20%20%20%20%20%20%20%20%20%20%20%20icon%3A%20new%20L.Icon.Default%28%29%2C%0A%20%20%20%20%20%20%20%20%20%20%20%20%20%20%20%20%7D%0A%20%20%20%20%20%20%20%20%20%20%20%20%29.addTo%28map_e1129b66cf4d4c19bb44d8c3caf50e2f%29%3B%0A%20%20%20%20%20%20%20%20%0A%20%20%20%20%0A%20%20%20%20%20%20%20%20var%20marker_f363c35c6c3a4b07a3f4d93a2da4ac44%20%3D%20L.marker%28%0A%20%20%20%20%20%20%20%20%20%20%20%20%5B43.03597203914271%2C%20-89.40500609196273%5D%2C%0A%20%20%20%20%20%20%20%20%20%20%20%20%7B%0A%20%20%20%20%20%20%20%20%20%20%20%20%20%20%20%20icon%3A%20new%20L.Icon.Default%28%29%2C%0A%20%20%20%20%20%20%20%20%20%20%20%20%20%20%20%20%7D%0A%20%20%20%20%20%20%20%20%20%20%20%20%29.addTo%28map_e1129b66cf4d4c19bb44d8c3caf50e2f%29%3B%0A%20%20%20%20%20%20%20%20%0A%20%20%20%20%0A%20%20%20%20%20%20%20%20var%20marker_a0255dd01c534d7f92ae193889dc2e10%20%3D%20L.marker%28%0A%20%20%20%20%20%20%20%20%20%20%20%20%5B43.03462251056593%2C%20-89.42085177083345%5D%2C%0A%20%20%20%20%20%20%20%20%20%20%20%20%7B%0A%20%20%20%20%20%20%20%20%20%20%20%20%20%20%20%20icon%3A%20new%20L.Icon.Default%28%29%2C%0A%20%20%20%20%20%20%20%20%20%20%20%20%20%20%20%20%7D%0A%20%20%20%20%20%20%20%20%20%20%20%20%29.addTo%28map_e1129b66cf4d4c19bb44d8c3caf50e2f%29%3B%0A%20%20%20%20%20%20%20%20%0A%20%20%20%20%0A%20%20%20%20%20%20%20%20var%20marker_41270ad7d50945aa95a73de023ab3b68%20%3D%20L.marker%28%0A%20%20%20%20%20%20%20%20%20%20%20%20%5B43.055946%2C%20-89.397588%5D%2C%0A%20%20%20%20%20%20%20%20%20%20%20%20%7B%0A%20%20%20%20%20%20%20%20%20%20%20%20%20%20%20%20icon%3A%20new%20L.Icon.Default%28%29%2C%0A%20%20%20%20%20%20%20%20%20%20%20%20%20%20%20%20%7D%0A%20%20%20%20%20%20%20%20%20%20%20%20%29.addTo%28map_e1129b66cf4d4c19bb44d8c3caf50e2f%29%3B%0A%20%20%20%20%20%20%20%20%0A%20%20%20%20%0A%20%20%20%20%20%20%20%20var%20marker_afaa48e739094907b5b2b8b4a2e905c9%20%3D%20L.marker%28%0A%20%20%20%20%20%20%20%20%20%20%20%20%5B43.06066987682918%2C%20-89.401014337782%5D%2C%0A%20%20%20%20%20%20%20%20%20%20%20%20%7B%0A%20%20%20%20%20%20%20%20%20%20%20%20%20%20%20%20icon%3A%20new%20L.Icon.Default%28%29%2C%0A%20%20%20%20%20%20%20%20%20%20%20%20%20%20%20%20%7D%0A%20%20%20%20%20%20%20%20%20%20%20%20%29.addTo%28map_e1129b66cf4d4c19bb44d8c3caf50e2f%29%3B%0A%20%20%20%20%20%20%20%20%0A%20%20%20%20%0A%20%20%20%20%20%20%20%20var%20marker_b45b1e550fc54b2f808265035cda7ccc%20%3D%20L.marker%28%0A%20%20%20%20%20%20%20%20%20%20%20%20%5B43.03485946575431%2C%20-89.42232465188226%5D%2C%0A%20%20%20%20%20%20%20%20%20%20%20%20%7B%0A%20%20%20%20%20%20%20%20%20%20%20%20%20%20%20%20icon%3A%20new%20L.Icon.Default%28%29%2C%0A%20%20%20%20%20%20%20%20%20%20%20%20%20%20%20%20%7D%0A%20%20%20%20%20%20%20%20%20%20%20%20%29.addTo%28map_e1129b66cf4d4c19bb44d8c3caf50e2f%29%3B%0A%20%20%20%20%20%20%20%20%0A%20%20%20%20%0A%20%20%20%20%20%20%20%20var%20marker_7ef376cc0fe54139b1787ac3933e92a1%20%3D%20L.marker%28%0A%20%20%20%20%20%20%20%20%20%20%20%20%5B43.041131358929086%2C%20-89.39524275969437%5D%2C%0A%20%20%20%20%20%20%20%20%20%20%20%20%7B%0A%20%20%20%20%20%20%20%20%20%20%20%20%20%20%20%20icon%3A%20new%20L.Icon.Default%28%29%2C%0A%20%20%20%20%20%20%20%20%20%20%20%20%20%20%20%20%7D%0A%20%20%20%20%20%20%20%20%20%20%20%20%29.addTo%28map_e1129b66cf4d4c19bb44d8c3caf50e2f%29%3B%0A%20%20%20%20%20%20%20%20%0A%20%20%20%20%0A%20%20%20%20%20%20%20%20var%20marker_26808fe0d6c34bcfa5bdc31bf2836648%20%3D%20L.marker%28%0A%20%20%20%20%20%20%20%20%20%20%20%20%5B43.03639440295531%2C%20-89.41512418355438%5D%2C%0A%20%20%20%20%20%20%20%20%20%20%20%20%7B%0A%20%20%20%20%20%20%20%20%20%20%20%20%20%20%20%20icon%3A%20new%20L.Icon.Default%28%29%2C%0A%20%20%20%20%20%20%20%20%20%20%20%20%20%20%20%20%7D%0A%20%20%20%20%20%20%20%20%20%20%20%20%29.addTo%28map_e1129b66cf4d4c19bb44d8c3caf50e2f%29%3B%0A%20%20%20%20%20%20%20%20%0A%20%20%20%20%0A%20%20%20%20%20%20%20%20var%20marker_c4b56c8cfd324c439346ca62d39d327d%20%3D%20L.marker%28%0A%20%20%20%20%20%20%20%20%20%20%20%20%5B43.030598979595%2C%20-89.4103372310116%5D%2C%0A%20%20%20%20%20%20%20%20%20%20%20%20%7B%0A%20%20%20%20%20%20%20%20%20%20%20%20%20%20%20%20icon%3A%20new%20L.Icon.Default%28%29%2C%0A%20%20%20%20%20%20%20%20%20%20%20%20%20%20%20%20%7D%0A%20%20%20%20%20%20%20%20%20%20%20%20%29.addTo%28map_e1129b66cf4d4c19bb44d8c3caf50e2f%29%3B%0A%20%20%20%20%20%20%20%20%0A%20%20%20%20%0A%20%20%20%20%20%20%20%20var%20marker_c6a7c4dfad67424a8f8ca1e60b7123ca%20%3D%20L.marker%28%0A%20%20%20%20%20%20%20%20%20%20%20%20%5B43.045714944857146%2C%20-89.37987327575684%5D%2C%0A%20%20%20%20%20%20%20%20%20%20%20%20%7B%0A%20%20%20%20%20%20%20%20%20%20%20%20%20%20%20%20icon%3A%20new%20L.Icon.Default%28%29%2C%0A%20%20%20%20%20%20%20%20%20%20%20%20%20%20%20%20%7D%0A%20%20%20%20%20%20%20%20%20%20%20%20%29.addTo%28map_e1129b66cf4d4c19bb44d8c3caf50e2f%29%3B%0A%20%20%20%20%20%20%20%20%0A%20%20%20%20%0A%20%20%20%20%20%20%20%20var%20marker_2431639eeed748cfb166e223d4c3dbda%20%3D%20L.marker%28%0A%20%20%20%20%20%20%20%20%20%20%20%20%5B43.03561021802984%2C%20-89.41007886852195%5D%2C%0A%20%20%20%20%20%20%20%20%20%20%20%20%7B%0A%20%20%20%20%20%20%20%20%20%20%20%20%20%20%20%20icon%3A%20new%20L.Icon.Default%28%29%2C%0A%20%20%20%20%20%20%20%20%20%20%20%20%20%20%20%20%7D%0A%20%20%20%20%20%20%20%20%20%20%20%20%29.addTo%28map_e1129b66cf4d4c19bb44d8c3caf50e2f%29%3B%0A%20%20%20%20%20%20%20%20%0A%20%20%20%20%0A%20%20%20%20%20%20%20%20var%20marker_bf077f2c01b44049bbe9d12780cb8bd0%20%3D%20L.marker%28%0A%20%20%20%20%20%20%20%20%20%20%20%20%5B43.052307108140184%2C%20-89.38633039827116%5D%2C%0A%20%20%20%20%20%20%20%20%20%20%20%20%7B%0A%20%20%20%20%20%20%20%20%20%20%20%20%20%20%20%20icon%3A%20new%20L.Icon.Default%28%29%2C%0A%20%20%20%20%20%20%20%20%20%20%20%20%20%20%20%20%7D%0A%20%20%20%20%20%20%20%20%20%20%20%20%29.addTo%28map_e1129b66cf4d4c19bb44d8c3caf50e2f%29%3B%0A%20%20%20%20%20%20%20%20%0A%20%20%20%20%0A%20%20%20%20%20%20%20%20var%20marker_03bfb63a2bbc404298dc0c36c7284d89%20%3D%20L.marker%28%0A%20%20%20%20%20%20%20%20%20%20%20%20%5B43.03212907974149%2C%20-89.39433506293257%5D%2C%0A%20%20%20%20%20%20%20%20%20%20%20%20%7B%0A%20%20%20%20%20%20%20%20%20%20%20%20%20%20%20%20icon%3A%20new%20L.Icon.Default%28%29%2C%0A%20%20%20%20%20%20%20%20%20%20%20%20%20%20%20%20%7D%0A%20%20%20%20%20%20%20%20%20%20%20%20%29.addTo%28map_e1129b66cf4d4c19bb44d8c3caf50e2f%29%3B%0A%20%20%20%20%20%20%20%20%0A%20%20%20%20%0A%20%20%20%20%20%20%20%20var%20marker_a4c27469df1647fabdddec0cfd2b985b%20%3D%20L.marker%28%0A%20%20%20%20%20%20%20%20%20%20%20%20%5B43.03642334950893%2C%20-89.40711526166137%5D%2C%0A%20%20%20%20%20%20%20%20%20%20%20%20%7B%0A%20%20%20%20%20%20%20%20%20%20%20%20%20%20%20%20icon%3A%20new%20L.Icon.Default%28%29%2C%0A%20%20%20%20%20%20%20%20%20%20%20%20%20%20%20%20%7D%0A%20%20%20%20%20%20%20%20%20%20%20%20%29.addTo%28map_e1129b66cf4d4c19bb44d8c3caf50e2f%29%3B%0A%20%20%20%20%20%20%20%20%0A%20%20%20%20%0A%20%20%20%20%20%20%20%20var%20marker_370ae783ad72401a8f2006c8d8970798%20%3D%20L.marker%28%0A%20%20%20%20%20%20%20%20%20%20%20%20%5B43.032114637511796%2C%20-89.38482998424367%5D%2C%0A%20%20%20%20%20%20%20%20%20%20%20%20%7B%0A%20%20%20%20%20%20%20%20%20%20%20%20%20%20%20%20icon%3A%20new%20L.Icon.Default%28%29%2C%0A%20%20%20%20%20%20%20%20%20%20%20%20%20%20%20%20%7D%0A%20%20%20%20%20%20%20%20%20%20%20%20%29.addTo%28map_e1129b66cf4d4c19bb44d8c3caf50e2f%29%3B%0A%20%20%20%20%20%20%20%20%0A%20%20%20%20%0A%20%20%20%20%20%20%20%20var%20marker_0921df0a02d74537838cb78b1c084e8b%20%3D%20L.marker%28%0A%20%20%20%20%20%20%20%20%20%20%20%20%5B43.06040898717492%2C%20-89.40845134335882%5D%2C%0A%20%20%20%20%20%20%20%20%20%20%20%20%7B%0A%20%20%20%20%20%20%20%20%20%20%20%20%20%20%20%20icon%3A%20new%20L.Icon.Default%28%29%2C%0A%20%20%20%20%20%20%20%20%20%20%20%20%20%20%20%20%7D%0A%20%20%20%20%20%20%20%20%20%20%20%20%29.addTo%28map_e1129b66cf4d4c19bb44d8c3caf50e2f%29%3B%0A%20%20%20%20%20%20%20%20%0A%20%20%20%20%0A%20%20%20%20%20%20%20%20var%20marker_118fbcdfd27742d6b41cac0f4467915c%20%3D%20L.marker%28%0A%20%20%20%20%20%20%20%20%20%20%20%20%5B43.03630921733968%2C%20-89.40668110491083%5D%2C%0A%20%20%20%20%20%20%20%20%20%20%20%20%7B%0A%20%20%20%20%20%20%20%20%20%20%20%20%20%20%20%20icon%3A%20new%20L.Icon.Default%28%29%2C%0A%20%20%20%20%20%20%20%20%20%20%20%20%20%20%20%20%7D%0A%20%20%20%20%20%20%20%20%20%20%20%20%29.addTo%28map_e1129b66cf4d4c19bb44d8c3caf50e2f%29%3B%0A%20%20%20%20%20%20%20%20%0A%20%20%20%20%0A%20%20%20%20%20%20%20%20var%20marker_31676cc1f6a3412d9a1f26b848e66d25%20%3D%20L.marker%28%0A%20%20%20%20%20%20%20%20%20%20%20%20%5B43.044214815954156%2C%20-89.38004793613649%5D%2C%0A%20%20%20%20%20%20%20%20%20%20%20%20%7B%0A%20%20%20%20%20%20%20%20%20%20%20%20%20%20%20%20icon%3A%20new%20L.Icon.Default%28%29%2C%0A%20%20%20%20%20%20%20%20%20%20%20%20%20%20%20%20%7D%0A%20%20%20%20%20%20%20%20%20%20%20%20%29.addTo%28map_e1129b66cf4d4c19bb44d8c3caf50e2f%29%3B%0A%20%20%20%20%20%20%20%20%0A%20%20%20%20%0A%20%20%20%20%20%20%20%20var%20marker_6c14e3edea444d568f7c2ace750c0a18%20%3D%20L.marker%28%0A%20%20%20%20%20%20%20%20%20%20%20%20%5B43.03468300636784%2C%20-89.42391430905745%5D%2C%0A%20%20%20%20%20%20%20%20%20%20%20%20%7B%0A%20%20%20%20%20%20%20%20%20%20%20%20%20%20%20%20icon%3A%20new%20L.Icon.Default%28%29%2C%0A%20%20%20%20%20%20%20%20%20%20%20%20%20%20%20%20%7D%0A%20%20%20%20%20%20%20%20%20%20%20%20%29.addTo%28map_e1129b66cf4d4c19bb44d8c3caf50e2f%29%3B%0A%20%20%20%20%20%20%20%20%0A%20%20%20%20%0A%20%20%20%20%20%20%20%20var%20marker_2ffe95e8f59b44d2bc4a4f571f9bec4a%20%3D%20L.marker%28%0A%20%20%20%20%20%20%20%20%20%20%20%20%5B43.056752416468996%2C%20-89.39845115396551%5D%2C%0A%20%20%20%20%20%20%20%20%20%20%20%20%7B%0A%20%20%20%20%20%20%20%20%20%20%20%20%20%20%20%20icon%3A%20new%20L.Icon.Default%28%29%2C%0A%20%20%20%20%20%20%20%20%20%20%20%20%20%20%20%20%7D%0A%20%20%20%20%20%20%20%20%20%20%20%20%29.addTo%28map_e1129b66cf4d4c19bb44d8c3caf50e2f%29%3B%0A%20%20%20%20%20%20%20%20%0A%20%20%20%20%0A%20%20%20%20%20%20%20%20var%20marker_f62a8252d9c0473581772df5ca9b0d5c%20%3D%20L.marker%28%0A%20%20%20%20%20%20%20%20%20%20%20%20%5B43.058190628751895%2C%20-89.41077798510248%5D%2C%0A%20%20%20%20%20%20%20%20%20%20%20%20%7B%0A%20%20%20%20%20%20%20%20%20%20%20%20%20%20%20%20icon%3A%20new%20L.Icon.Default%28%29%2C%0A%20%20%20%20%20%20%20%20%20%20%20%20%20%20%20%20%7D%0A%20%20%20%20%20%20%20%20%20%20%20%20%29.addTo%28map_e1129b66cf4d4c19bb44d8c3caf50e2f%29%3B%0A%20%20%20%20%20%20%20%20%0A%20%20%20%20%0A%20%20%20%20%20%20%20%20var%20marker_9039d7a041244381b3a4f1c0133e0c54%20%3D%20L.marker%28%0A%20%20%20%20%20%20%20%20%20%20%20%20%5B43.03594791744374%2C%20-89.40924294182808%5D%2C%0A%20%20%20%20%20%20%20%20%20%20%20%20%7B%0A%20%20%20%20%20%20%20%20%20%20%20%20%20%20%20%20icon%3A%20new%20L.Icon.Default%28%29%2C%0A%20%20%20%20%20%20%20%20%20%20%20%20%20%20%20%20%7D%0A%20%20%20%20%20%20%20%20%20%20%20%20%29.addTo%28map_e1129b66cf4d4c19bb44d8c3caf50e2f%29%3B%0A%20%20%20%20%20%20%20%20%0A%20%20%20%20%0A%20%20%20%20%20%20%20%20var%20marker_4d2017a838ad41d9896a2a87b4823921%20%3D%20L.marker%28%0A%20%20%20%20%20%20%20%20%20%20%20%20%5B43.03136072360231%2C%20-89.40811985556537%5D%2C%0A%20%20%20%20%20%20%20%20%20%20%20%20%7B%0A%20%20%20%20%20%20%20%20%20%20%20%20%20%20%20%20icon%3A%20new%20L.Icon.Default%28%29%2C%0A%20%20%20%20%20%20%20%20%20%20%20%20%20%20%20%20%7D%0A%20%20%20%20%20%20%20%20%20%20%20%20%29.addTo%28map_e1129b66cf4d4c19bb44d8c3caf50e2f%29%3B%0A%20%20%20%20%20%20%20%20%0A%20%20%20%20%0A%20%20%20%20%20%20%20%20var%20marker_c59bb774ad494397900537c823b64718%20%3D%20L.marker%28%0A%20%20%20%20%20%20%20%20%20%20%20%20%5B43.03469356961355%2C%20-89.42216455375714%5D%2C%0A%20%20%20%20%20%20%20%20%20%20%20%20%7B%0A%20%20%20%20%20%20%20%20%20%20%20%20%20%20%20%20icon%3A%20new%20L.Icon.Default%28%29%2C%0A%20%20%20%20%20%20%20%20%20%20%20%20%20%20%20%20%7D%0A%20%20%20%20%20%20%20%20%20%20%20%20%29.addTo%28map_e1129b66cf4d4c19bb44d8c3caf50e2f%29%3B%0A%20%20%20%20%20%20%20%20%0A%20%20%20%20%0A%20%20%20%20%20%20%20%20var%20marker_927c0b9455cd43eba7ae5b84f28fe7dc%20%3D%20L.marker%28%0A%20%20%20%20%20%20%20%20%20%20%20%20%5B43.03495952282539%2C%20-89.4211333839958%5D%2C%0A%20%20%20%20%20%20%20%20%20%20%20%20%7B%0A%20%20%20%20%20%20%20%20%20%20%20%20%20%20%20%20icon%3A%20new%20L.Icon.Default%28%29%2C%0A%20%20%20%20%20%20%20%20%20%20%20%20%20%20%20%20%7D%0A%20%20%20%20%20%20%20%20%20%20%20%20%29.addTo%28map_e1129b66cf4d4c19bb44d8c3caf50e2f%29%3B%0A%20%20%20%20%20%20%20%20%0A%20%20%20%20%0A%20%20%20%20%20%20%20%20var%20marker_4a424bb531a445e4a9ea9e849a44b60b%20%3D%20L.marker%28%0A%20%20%20%20%20%20%20%20%20%20%20%20%5B43.03633267508588%2C%20-89.4122838727119%5D%2C%0A%20%20%20%20%20%20%20%20%20%20%20%20%7B%0A%20%20%20%20%20%20%20%20%20%20%20%20%20%20%20%20icon%3A%20new%20L.Icon.Default%28%29%2C%0A%20%20%20%20%20%20%20%20%20%20%20%20%20%20%20%20%7D%0A%20%20%20%20%20%20%20%20%20%20%20%20%29.addTo%28map_e1129b66cf4d4c19bb44d8c3caf50e2f%29%3B%0A%20%20%20%20%20%20%20%20%0A%20%20%20%20%0A%20%20%20%20%20%20%20%20var%20marker_d318b7d7bb05438bb633276c07351c75%20%3D%20L.marker%28%0A%20%20%20%20%20%20%20%20%20%20%20%20%5B43.0591332%2C%20-89.4003117%5D%2C%0A%20%20%20%20%20%20%20%20%20%20%20%20%7B%0A%20%20%20%20%20%20%20%20%20%20%20%20%20%20%20%20icon%3A%20new%20L.Icon.Default%28%29%2C%0A%20%20%20%20%20%20%20%20%20%20%20%20%20%20%20%20%7D%0A%20%20%20%20%20%20%20%20%20%20%20%20%29.addTo%28map_e1129b66cf4d4c19bb44d8c3caf50e2f%29%3B%0A%20%20%20%20%20%20%20%20%0A%20%20%20%20%0A%20%20%20%20%20%20%20%20var%20marker_4344d5a107e5403cbb632f886a7f0c27%20%3D%20L.marker%28%0A%20%20%20%20%20%20%20%20%20%20%20%20%5B43.03026283412885%2C%20-89.40934538841248%5D%2C%0A%20%20%20%20%20%20%20%20%20%20%20%20%7B%0A%20%20%20%20%20%20%20%20%20%20%20%20%20%20%20%20icon%3A%20new%20L.Icon.Default%28%29%2C%0A%20%20%20%20%20%20%20%20%20%20%20%20%20%20%20%20%7D%0A%20%20%20%20%20%20%20%20%20%20%20%20%29.addTo%28map_e1129b66cf4d4c19bb44d8c3caf50e2f%29%3B%0A%20%20%20%20%20%20%20%20%0A%20%20%20%20%0A%20%20%20%20%20%20%20%20var%20marker_26dfefeebb294578b322bee26f4a8623%20%3D%20L.marker%28%0A%20%20%20%20%20%20%20%20%20%20%20%20%5B43.06035242126808%2C%20-89.40103289785625%5D%2C%0A%20%20%20%20%20%20%20%20%20%20%20%20%7B%0A%20%20%20%20%20%20%20%20%20%20%20%20%20%20%20%20icon%3A%20new%20L.Icon.Default%28%29%2C%0A%20%20%20%20%20%20%20%20%20%20%20%20%20%20%20%20%7D%0A%20%20%20%20%20%20%20%20%20%20%20%20%29.addTo%28map_e1129b66cf4d4c19bb44d8c3caf50e2f%29%3B%0A%20%20%20%20%20%20%20%20%0A%20%20%20%20%0A%20%20%20%20%20%20%20%20var%20marker_748ce49fd0ff47ab838529198b691f8f%20%3D%20L.marker%28%0A%20%20%20%20%20%20%20%20%20%20%20%20%5B43.053163%2C%20-89.39636999999999%5D%2C%0A%20%20%20%20%20%20%20%20%20%20%20%20%7B%0A%20%20%20%20%20%20%20%20%20%20%20%20%20%20%20%20icon%3A%20new%20L.Icon.Default%28%29%2C%0A%20%20%20%20%20%20%20%20%20%20%20%20%20%20%20%20%7D%0A%20%20%20%20%20%20%20%20%20%20%20%20%29.addTo%28map_e1129b66cf4d4c19bb44d8c3caf50e2f%29%3B%0A%20%20%20%20%20%20%20%20%0A%20%20%20%20%0A%20%20%20%20%20%20%20%20var%20marker_fe375b54dd324563bf50ebec2622059d%20%3D%20L.marker%28%0A%20%20%20%20%20%20%20%20%20%20%20%20%5B43.059346246904425%2C%20-89.40155314859419%5D%2C%0A%20%20%20%20%20%20%20%20%20%20%20%20%7B%0A%20%20%20%20%20%20%20%20%20%20%20%20%20%20%20%20icon%3A%20new%20L.Icon.Default%28%29%2C%0A%20%20%20%20%20%20%20%20%20%20%20%20%20%20%20%20%7D%0A%20%20%20%20%20%20%20%20%20%20%20%20%29.addTo%28map_e1129b66cf4d4c19bb44d8c3caf50e2f%29%3B%0A%20%20%20%20%20%20%20%20%0A%20%20%20%20%0A%20%20%20%20%20%20%20%20var%20marker_ae94b0e4100c4f79acf024eee27d42af%20%3D%20L.marker%28%0A%20%20%20%20%20%20%20%20%20%20%20%20%5B43.04033317969312%2C%20-89.39502287820395%5D%2C%0A%20%20%20%20%20%20%20%20%20%20%20%20%7B%0A%20%20%20%20%20%20%20%20%20%20%20%20%20%20%20%20icon%3A%20new%20L.Icon.Default%28%29%2C%0A%20%20%20%20%20%20%20%20%20%20%20%20%20%20%20%20%7D%0A%20%20%20%20%20%20%20%20%20%20%20%20%29.addTo%28map_e1129b66cf4d4c19bb44d8c3caf50e2f%29%3B%0A%20%20%20%20%20%20%20%20%0A%20%20%20%20%0A%20%20%20%20%20%20%20%20var%20marker_821e68ca27d14cfd96cb870b6095d125%20%3D%20L.marker%28%0A%20%20%20%20%20%20%20%20%20%20%20%20%5B43.02700768269381%2C%20-89.41292097518192%5D%2C%0A%20%20%20%20%20%20%20%20%20%20%20%20%7B%0A%20%20%20%20%20%20%20%20%20%20%20%20%20%20%20%20icon%3A%20new%20L.Icon.Default%28%29%2C%0A%20%20%20%20%20%20%20%20%20%20%20%20%20%20%20%20%7D%0A%20%20%20%20%20%20%20%20%20%20%20%20%29.addTo%28map_e1129b66cf4d4c19bb44d8c3caf50e2f%29%3B%0A%20%20%20%20%20%20%20%20%0A%20%20%20%20%0A%20%20%20%20%20%20%20%20var%20marker_2f1ae09c84c140cf8ba6c5dccdbc6416%20%3D%20L.marker%28%0A%20%20%20%20%20%20%20%20%20%20%20%20%5B43.05637074278169%2C%20-89.38896975551697%5D%2C%0A%20%20%20%20%20%20%20%20%20%20%20%20%7B%0A%20%20%20%20%20%20%20%20%20%20%20%20%20%20%20%20icon%3A%20new%20L.Icon.Default%28%29%2C%0A%20%20%20%20%20%20%20%20%20%20%20%20%20%20%20%20%7D%0A%20%20%20%20%20%20%20%20%20%20%20%20%29.addTo%28map_e1129b66cf4d4c19bb44d8c3caf50e2f%29%3B%0A%20%20%20%20%20%20%20%20%0A%20%20%20%20%0A%20%20%20%20%20%20%20%20var%20marker_ec346d4701314ebeab435bd252523d65%20%3D%20L.marker%28%0A%20%20%20%20%20%20%20%20%20%20%20%20%5B43.05333684698989%2C%20-89.3872508638272%5D%2C%0A%20%20%20%20%20%20%20%20%20%20%20%20%7B%0A%20%20%20%20%20%20%20%20%20%20%20%20%20%20%20%20icon%3A%20new%20L.Icon.Default%28%29%2C%0A%20%20%20%20%20%20%20%20%20%20%20%20%20%20%20%20%7D%0A%20%20%20%20%20%20%20%20%20%20%20%20%29.addTo%28map_e1129b66cf4d4c19bb44d8c3caf50e2f%29%3B%0A%20%20%20%20%20%20%20%20%0A%20%20%20%20%0A%20%20%20%20%20%20%20%20var%20marker_f609c0903662466a9c8eff67c9ab7b33%20%3D%20L.marker%28%0A%20%20%20%20%20%20%20%20%20%20%20%20%5B43.0355032%2C%20-89.408629%5D%2C%0A%20%20%20%20%20%20%20%20%20%20%20%20%7B%0A%20%20%20%20%20%20%20%20%20%20%20%20%20%20%20%20icon%3A%20new%20L.Icon.Default%28%29%2C%0A%20%20%20%20%20%20%20%20%20%20%20%20%20%20%20%20%7D%0A%20%20%20%20%20%20%20%20%20%20%20%20%29.addTo%28map_e1129b66cf4d4c19bb44d8c3caf50e2f%29%3B%0A%20%20%20%20%20%20%20%20%0A%20%20%20%20%0A%20%20%20%20%20%20%20%20var%20marker_d4e0b3a930af468a8bb94740a9cbfc5f%20%3D%20L.marker%28%0A%20%20%20%20%20%20%20%20%20%20%20%20%5B43.060059994585%2C%20-89.41070864484011%5D%2C%0A%20%20%20%20%20%20%20%20%20%20%20%20%7B%0A%20%20%20%20%20%20%20%20%20%20%20%20%20%20%20%20icon%3A%20new%20L.Icon.Default%28%29%2C%0A%20%20%20%20%20%20%20%20%20%20%20%20%20%20%20%20%7D%0A%20%20%20%20%20%20%20%20%20%20%20%20%29.addTo%28map_e1129b66cf4d4c19bb44d8c3caf50e2f%29%3B%0A%20%20%20%20%20%20%20%20%0A%20%20%20%20%0A%20%20%20%20%20%20%20%20var%20marker_719217f0037140d19404ce6af9c2f53b%20%3D%20L.marker%28%0A%20%20%20%20%20%20%20%20%20%20%20%20%5B43.033973693847656%2C%20-89.41600036621094%5D%2C%0A%20%20%20%20%20%20%20%20%20%20%20%20%7B%0A%20%20%20%20%20%20%20%20%20%20%20%20%20%20%20%20icon%3A%20new%20L.Icon.Default%28%29%2C%0A%20%20%20%20%20%20%20%20%20%20%20%20%20%20%20%20%7D%0A%20%20%20%20%20%20%20%20%20%20%20%20%29.addTo%28map_e1129b66cf4d4c19bb44d8c3caf50e2f%29%3B%0A%20%20%20%20%20%20%20%20%0A%20%20%20%20%0A%20%20%20%20%20%20%20%20var%20marker_4d53a1c6644d4bb38c5bbdc84b6876b1%20%3D%20L.marker%28%0A%20%20%20%20%20%20%20%20%20%20%20%20%5B43.04690672475223%2C%20-89.40115928649902%5D%2C%0A%20%20%20%20%20%20%20%20%20%20%20%20%7B%0A%20%20%20%20%20%20%20%20%20%20%20%20%20%20%20%20icon%3A%20new%20L.Icon.Default%28%29%2C%0A%20%20%20%20%20%20%20%20%20%20%20%20%20%20%20%20%7D%0A%20%20%20%20%20%20%20%20%20%20%20%20%29.addTo%28map_e1129b66cf4d4c19bb44d8c3caf50e2f%29%3B%0A%20%20%20%20%20%20%20%20%0A%20%20%20%20%0A%20%20%20%20%20%20%20%20var%20marker_607f02fe69794faa84ba764deb11de91%20%3D%20L.marker%28%0A%20%20%20%20%20%20%20%20%20%20%20%20%5B43.0423335019353%2C%20-89.39351972273465%5D%2C%0A%20%20%20%20%20%20%20%20%20%20%20%20%7B%0A%20%20%20%20%20%20%20%20%20%20%20%20%20%20%20%20icon%3A%20new%20L.Icon.Default%28%29%2C%0A%20%20%20%20%20%20%20%20%20%20%20%20%20%20%20%20%7D%0A%20%20%20%20%20%20%20%20%20%20%20%20%29.addTo%28map_e1129b66cf4d4c19bb44d8c3caf50e2f%29%3B%0A%20%20%20%20%20%20%20%20%0A%20%20%20%20%0A%20%20%20%20%20%20%20%20var%20marker_57a9bc9f99dc42978640e6e8434013ea%20%3D%20L.marker%28%0A%20%20%20%20%20%20%20%20%20%20%20%20%5B43.03651319860304%2C%20-89.4158694092183%5D%2C%0A%20%20%20%20%20%20%20%20%20%20%20%20%7B%0A%20%20%20%20%20%20%20%20%20%20%20%20%20%20%20%20icon%3A%20new%20L.Icon.Default%28%29%2C%0A%20%20%20%20%20%20%20%20%20%20%20%20%20%20%20%20%7D%0A%20%20%20%20%20%20%20%20%20%20%20%20%29.addTo%28map_e1129b66cf4d4c19bb44d8c3caf50e2f%29%3B%0A%20%20%20%20%20%20%20%20%0A%20%20%20%20%0A%20%20%20%20%20%20%20%20var%20marker_ffc730f1197b478ea1edd196b485b464%20%3D%20L.marker%28%0A%20%20%20%20%20%20%20%20%20%20%20%20%5B43.05800254036747%2C%20-89.39995177482307%5D%2C%0A%20%20%20%20%20%20%20%20%20%20%20%20%7B%0A%20%20%20%20%20%20%20%20%20%20%20%20%20%20%20%20icon%3A%20new%20L.Icon.Default%28%29%2C%0A%20%20%20%20%20%20%20%20%20%20%20%20%20%20%20%20%7D%0A%20%20%20%20%20%20%20%20%20%20%20%20%29.addTo%28map_e1129b66cf4d4c19bb44d8c3caf50e2f%29%3B%0A%20%20%20%20%20%20%20%20%0A%20%20%20%20%0A%20%20%20%20%20%20%20%20var%20marker_9aa5aba9b0134efa810053c70e47f628%20%3D%20L.marker%28%0A%20%20%20%20%20%20%20%20%20%20%20%20%5B43.05489175286123%2C%20-89.39698161985469%5D%2C%0A%20%20%20%20%20%20%20%20%20%20%20%20%7B%0A%20%20%20%20%20%20%20%20%20%20%20%20%20%20%20%20icon%3A%20new%20L.Icon.Default%28%29%2C%0A%20%20%20%20%20%20%20%20%20%20%20%20%20%20%20%20%7D%0A%20%20%20%20%20%20%20%20%20%20%20%20%29.addTo%28map_e1129b66cf4d4c19bb44d8c3caf50e2f%29%3B%0A%20%20%20%20%20%20%20%20%0A%20%20%20%20%0A%20%20%20%20%20%20%20%20var%20marker_3b953d6e35ac46c4abaaf91ce37e84db%20%3D%20L.marker%28%0A%20%20%20%20%20%20%20%20%20%20%20%20%5B43.06007874523864%2C%20-89.40056495406772%5D%2C%0A%20%20%20%20%20%20%20%20%20%20%20%20%7B%0A%20%20%20%20%20%20%20%20%20%20%20%20%20%20%20%20icon%3A%20new%20L.Icon.Default%28%29%2C%0A%20%20%20%20%20%20%20%20%20%20%20%20%20%20%20%20%7D%0A%20%20%20%20%20%20%20%20%20%20%20%20%29.addTo%28map_e1129b66cf4d4c19bb44d8c3caf50e2f%29%3B%0A%20%20%20%20%20%20%20%20%0A%20%20%20%20%0A%20%20%20%20%20%20%20%20var%20marker_99e0ecd9d7bf453bb2b8649405e0bbf2%20%3D%20L.marker%28%0A%20%20%20%20%20%20%20%20%20%20%20%20%5B43.0414708%2C%20-89.3936785%5D%2C%0A%20%20%20%20%20%20%20%20%20%20%20%20%7B%0A%20%20%20%20%20%20%20%20%20%20%20%20%20%20%20%20icon%3A%20new%20L.Icon.Default%28%29%2C%0A%20%20%20%20%20%20%20%20%20%20%20%20%20%20%20%20%7D%0A%20%20%20%20%20%20%20%20%20%20%20%20%29.addTo%28map_e1129b66cf4d4c19bb44d8c3caf50e2f%29%3B%0A%20%20%20%20%20%20%20%20%0A%20%20%20%20%0A%20%20%20%20%20%20%20%20var%20marker_309008c09c93446e999c52e7ad1920ed%20%3D%20L.marker%28%0A%20%20%20%20%20%20%20%20%20%20%20%20%5B43.0498057110854%2C%20-89.3936189264059%5D%2C%0A%20%20%20%20%20%20%20%20%20%20%20%20%7B%0A%20%20%20%20%20%20%20%20%20%20%20%20%20%20%20%20icon%3A%20new%20L.Icon.Default%28%29%2C%0A%20%20%20%20%20%20%20%20%20%20%20%20%20%20%20%20%7D%0A%20%20%20%20%20%20%20%20%20%20%20%20%29.addTo%28map_e1129b66cf4d4c19bb44d8c3caf50e2f%29%3B%0A%20%20%20%20%20%20%20%20%0A%20%20%20%20%0A%20%20%20%20%20%20%20%20var%20marker_6a70557b69c44e67995931e4e96fb7ce%20%3D%20L.marker%28%0A%20%20%20%20%20%20%20%20%20%20%20%20%5B43.034151438397906%2C%20-89.41583256573568%5D%2C%0A%20%20%20%20%20%20%20%20%20%20%20%20%7B%0A%20%20%20%20%20%20%20%20%20%20%20%20%20%20%20%20icon%3A%20new%20L.Icon.Default%28%29%2C%0A%20%20%20%20%20%20%20%20%20%20%20%20%20%20%20%20%7D%0A%20%20%20%20%20%20%20%20%20%20%20%20%29.addTo%28map_e1129b66cf4d4c19bb44d8c3caf50e2f%29%3B%0A%20%20%20%20%20%20%20%20%0A%20%20%20%20%0A%20%20%20%20%20%20%20%20var%20marker_fa1a70d9efbb4aa2a1b4e8de20acaafb%20%3D%20L.marker%28%0A%20%20%20%20%20%20%20%20%20%20%20%20%5B43.04290920100713%2C%20-89.40392658555231%5D%2C%0A%20%20%20%20%20%20%20%20%20%20%20%20%7B%0A%20%20%20%20%20%20%20%20%20%20%20%20%20%20%20%20icon%3A%20new%20L.Icon.Default%28%29%2C%0A%20%20%20%20%20%20%20%20%20%20%20%20%20%20%20%20%7D%0A%20%20%20%20%20%20%20%20%20%20%20%20%29.addTo%28map_e1129b66cf4d4c19bb44d8c3caf50e2f%29%3B%0A%20%20%20%20%20%20%20%20%0A%20%20%20%20%0A%20%20%20%20%20%20%20%20var%20marker_f1a33498571c43b2b620edd35716ed0a%20%3D%20L.marker%28%0A%20%20%20%20%20%20%20%20%20%20%20%20%5B43.05734826807034%2C%20-89.3995941563413%5D%2C%0A%20%20%20%20%20%20%20%20%20%20%20%20%7B%0A%20%20%20%20%20%20%20%20%20%20%20%20%20%20%20%20icon%3A%20new%20L.Icon.Default%28%29%2C%0A%20%20%20%20%20%20%20%20%20%20%20%20%20%20%20%20%7D%0A%20%20%20%20%20%20%20%20%20%20%20%20%29.addTo%28map_e1129b66cf4d4c19bb44d8c3caf50e2f%29%3B%0A%20%20%20%20%20%20%20%20%0A%20%20%20%20%0A%20%20%20%20%20%20%20%20var%20marker_99d1e534d18b4ddbb7bb378b20360442%20%3D%20L.marker%28%0A%20%20%20%20%20%20%20%20%20%20%20%20%5B43.03906581751517%2C%20-89.38664689382337%5D%2C%0A%20%20%20%20%20%20%20%20%20%20%20%20%7B%0A%20%20%20%20%20%20%20%20%20%20%20%20%20%20%20%20icon%3A%20new%20L.Icon.Default%28%29%2C%0A%20%20%20%20%20%20%20%20%20%20%20%20%20%20%20%20%7D%0A%20%20%20%20%20%20%20%20%20%20%20%20%29.addTo%28map_e1129b66cf4d4c19bb44d8c3caf50e2f%29%3B%0A%20%20%20%20%20%20%20%20%0A%20%20%20%20%0A%20%20%20%20%20%20%20%20var%20marker_412c93d975514e0cbcfb4ef6476e3e3d%20%3D%20L.marker%28%0A%20%20%20%20%20%20%20%20%20%20%20%20%5B43.0346121152442%2C%20-89.4233527779647%5D%2C%0A%20%20%20%20%20%20%20%20%20%20%20%20%7B%0A%20%20%20%20%20%20%20%20%20%20%20%20%20%20%20%20icon%3A%20new%20L.Icon.Default%28%29%2C%0A%20%20%20%20%20%20%20%20%20%20%20%20%20%20%20%20%7D%0A%20%20%20%20%20%20%20%20%20%20%20%20%29.addTo%28map_e1129b66cf4d4c19bb44d8c3caf50e2f%29%3B%0A%20%20%20%20%20%20%20%20%0A%20%20%20%20%0A%20%20%20%20%20%20%20%20var%20marker_7479fddf95064c19b5a0f16d856073e0%20%3D%20L.marker%28%0A%20%20%20%20%20%20%20%20%20%20%20%20%5B43.037148%2C%20-89.419534%5D%2C%0A%20%20%20%20%20%20%20%20%20%20%20%20%7B%0A%20%20%20%20%20%20%20%20%20%20%20%20%20%20%20%20icon%3A%20new%20L.Icon.Default%28%29%2C%0A%20%20%20%20%20%20%20%20%20%20%20%20%20%20%20%20%7D%0A%20%20%20%20%20%20%20%20%20%20%20%20%29.addTo%28map_e1129b66cf4d4c19bb44d8c3caf50e2f%29%3B%0A%20%20%20%20%20%20%20%20%0A%20%20%20%20%0A%20%20%20%20%20%20%20%20var%20marker_9826fdbdd8e34871821db02e51ea1333%20%3D%20L.marker%28%0A%20%20%20%20%20%20%20%20%20%20%20%20%5B43.02957798029657%2C%20-89.41114594690134%5D%2C%0A%20%20%20%20%20%20%20%20%20%20%20%20%7B%0A%20%20%20%20%20%20%20%20%20%20%20%20%20%20%20%20icon%3A%20new%20L.Icon.Default%28%29%2C%0A%20%20%20%20%20%20%20%20%20%20%20%20%20%20%20%20%7D%0A%20%20%20%20%20%20%20%20%20%20%20%20%29.addTo%28map_e1129b66cf4d4c19bb44d8c3caf50e2f%29%3B%0A%20%20%20%20%20%20%20%20%0A%20%20%20%20%0A%20%20%20%20%20%20%20%20var%20marker_76e64167a8dd4821a956bca733733132%20%3D%20L.marker%28%0A%20%20%20%20%20%20%20%20%20%20%20%20%5B43.044406%2C%20-89.380764%5D%2C%0A%20%20%20%20%20%20%20%20%20%20%20%20%7B%0A%20%20%20%20%20%20%20%20%20%20%20%20%20%20%20%20icon%3A%20new%20L.Icon.Default%28%29%2C%0A%20%20%20%20%20%20%20%20%20%20%20%20%20%20%20%20%7D%0A%20%20%20%20%20%20%20%20%20%20%20%20%29.addTo%28map_e1129b66cf4d4c19bb44d8c3caf50e2f%29%3B%0A%20%20%20%20%20%20%20%20%0A%20%20%20%20%0A%20%20%20%20%20%20%20%20var%20marker_ece181e31c2f42c5836aedc1925fea37%20%3D%20L.marker%28%0A%20%20%20%20%20%20%20%20%20%20%20%20%5B43.03812170479083%2C%20-89.39302816987043%5D%2C%0A%20%20%20%20%20%20%20%20%20%20%20%20%7B%0A%20%20%20%20%20%20%20%20%20%20%20%20%20%20%20%20icon%3A%20new%20L.Icon.Default%28%29%2C%0A%20%20%20%20%20%20%20%20%20%20%20%20%20%20%20%20%7D%0A%20%20%20%20%20%20%20%20%20%20%20%20%29.addTo%28map_e1129b66cf4d4c19bb44d8c3caf50e2f%29%3B%0A%20%20%20%20%20%20%20%20%0A%20%20%20%20%0A%20%20%20%20%20%20%20%20var%20marker_3d38376923f148359b918c4a9cedd22b%20%3D%20L.marker%28%0A%20%20%20%20%20%20%20%20%20%20%20%20%5B43.04906103580823%2C%20-89.40458773673159%5D%2C%0A%20%20%20%20%20%20%20%20%20%20%20%20%7B%0A%20%20%20%20%20%20%20%20%20%20%20%20%20%20%20%20icon%3A%20new%20L.Icon.Default%28%29%2C%0A%20%20%20%20%20%20%20%20%20%20%20%20%20%20%20%20%7D%0A%20%20%20%20%20%20%20%20%20%20%20%20%29.addTo%28map_e1129b66cf4d4c19bb44d8c3caf50e2f%29%3B%0A%20%20%20%20%20%20%20%20%0A%20%20%20%20%0A%20%20%20%20%20%20%20%20var%20marker_cf1d875ebbe74f72bff904da9f11366d%20%3D%20L.marker%28%0A%20%20%20%20%20%20%20%20%20%20%20%20%5B43.03171823621793%2C%20-89.40804600553986%5D%2C%0A%20%20%20%20%20%20%20%20%20%20%20%20%7B%0A%20%20%20%20%20%20%20%20%20%20%20%20%20%20%20%20icon%3A%20new%20L.Icon.Default%28%29%2C%0A%20%20%20%20%20%20%20%20%20%20%20%20%20%20%20%20%7D%0A%20%20%20%20%20%20%20%20%20%20%20%20%29.addTo%28map_e1129b66cf4d4c19bb44d8c3caf50e2f%29%3B%0A%20%20%20%20%20%20%20%20%0A%20%20%20%20%0A%20%20%20%20%20%20%20%20var%20marker_3949389064dd43509b3cc4c6bca45ee3%20%3D%20L.marker%28%0A%20%20%20%20%20%20%20%20%20%20%20%20%5B43.03641748284013%2C%20-89.39602366089616%5D%2C%0A%20%20%20%20%20%20%20%20%20%20%20%20%7B%0A%20%20%20%20%20%20%20%20%20%20%20%20%20%20%20%20icon%3A%20new%20L.Icon.Default%28%29%2C%0A%20%20%20%20%20%20%20%20%20%20%20%20%20%20%20%20%7D%0A%20%20%20%20%20%20%20%20%20%20%20%20%29.addTo%28map_e1129b66cf4d4c19bb44d8c3caf50e2f%29%3B%0A%20%20%20%20%20%20%20%20%0A%20%20%20%20%0A%20%20%20%20%20%20%20%20var%20marker_4c9b0f70784648a5955205b61adb6ee7%20%3D%20L.marker%28%0A%20%20%20%20%20%20%20%20%20%20%20%20%5B43.0380955114283%2C%20-89.41609554032766%5D%2C%0A%20%20%20%20%20%20%20%20%20%20%20%20%7B%0A%20%20%20%20%20%20%20%20%20%20%20%20%20%20%20%20icon%3A%20new%20L.Icon.Default%28%29%2C%0A%20%20%20%20%20%20%20%20%20%20%20%20%20%20%20%20%7D%0A%20%20%20%20%20%20%20%20%20%20%20%20%29.addTo%28map_e1129b66cf4d4c19bb44d8c3caf50e2f%29%3B%0A%20%20%20%20%20%20%20%20%0A%20%20%20%20%0A%20%20%20%20%20%20%20%20var%20marker_87db420555c042c4a311d24f0badc749%20%3D%20L.marker%28%0A%20%20%20%20%20%20%20%20%20%20%20%20%5B43.03612301797495%2C%20-89.39394950866699%5D%2C%0A%20%20%20%20%20%20%20%20%20%20%20%20%7B%0A%20%20%20%20%20%20%20%20%20%20%20%20%20%20%20%20icon%3A%20new%20L.Icon.Default%28%29%2C%0A%20%20%20%20%20%20%20%20%20%20%20%20%20%20%20%20%7D%0A%20%20%20%20%20%20%20%20%20%20%20%20%29.addTo%28map_e1129b66cf4d4c19bb44d8c3caf50e2f%29%3B%0A%20%20%20%20%20%20%20%20%0A%20%20%20%20%0A%20%20%20%20%20%20%20%20var%20marker_3add0215584943a3a9fb7dce8e954e53%20%3D%20L.marker%28%0A%20%20%20%20%20%20%20%20%20%20%20%20%5B43.03124322807922%2C%20-89.40590538302536%5D%2C%0A%20%20%20%20%20%20%20%20%20%20%20%20%7B%0A%20%20%20%20%20%20%20%20%20%20%20%20%20%20%20%20icon%3A%20new%20L.Icon.Default%28%29%2C%0A%20%20%20%20%20%20%20%20%20%20%20%20%20%20%20%20%7D%0A%20%20%20%20%20%20%20%20%20%20%20%20%29.addTo%28map_e1129b66cf4d4c19bb44d8c3caf50e2f%29%3B%0A%20%20%20%20%20%20%20%20%0A%20%20%20%20%0A%20%20%20%20%20%20%20%20var%20marker_2b48b09041cc4b21b1f1d3f2a43a4187%20%3D%20L.marker%28%0A%20%20%20%20%20%20%20%20%20%20%20%20%5B43.02996%2C%20-89.40196%5D%2C%0A%20%20%20%20%20%20%20%20%20%20%20%20%7B%0A%20%20%20%20%20%20%20%20%20%20%20%20%20%20%20%20icon%3A%20new%20L.Icon.Default%28%29%2C%0A%20%20%20%20%20%20%20%20%20%20%20%20%20%20%20%20%7D%0A%20%20%20%20%20%20%20%20%20%20%20%20%29.addTo%28map_e1129b66cf4d4c19bb44d8c3caf50e2f%29%3B%0A%20%20%20%20%20%20%20%20%0A%20%20%20%20%0A%20%20%20%20%20%20%20%20var%20marker_df82e4b24e574fb1b6a31509204971c9%20%3D%20L.marker%28%0A%20%20%20%20%20%20%20%20%20%20%20%20%5B43.05622062781687%2C%20-89.40682411193848%5D%2C%0A%20%20%20%20%20%20%20%20%20%20%20%20%7B%0A%20%20%20%20%20%20%20%20%20%20%20%20%20%20%20%20icon%3A%20new%20L.Icon.Default%28%29%2C%0A%20%20%20%20%20%20%20%20%20%20%20%20%20%20%20%20%7D%0A%20%20%20%20%20%20%20%20%20%20%20%20%29.addTo%28map_e1129b66cf4d4c19bb44d8c3caf50e2f%29%3B%0A%20%20%20%20%20%20%20%20%0A%20%20%20%20%0A%20%20%20%20%20%20%20%20var%20marker_30ddc49c56314a73a064187a2300fc9f%20%3D%20L.marker%28%0A%20%20%20%20%20%20%20%20%20%20%20%20%5B43.05346110029227%2C%20-89.41832542419434%5D%2C%0A%20%20%20%20%20%20%20%20%20%20%20%20%7B%0A%20%20%20%20%20%20%20%20%20%20%20%20%20%20%20%20icon%3A%20new%20L.Icon.Default%28%29%2C%0A%20%20%20%20%20%20%20%20%20%20%20%20%20%20%20%20%7D%0A%20%20%20%20%20%20%20%20%20%20%20%20%29.addTo%28map_e1129b66cf4d4c19bb44d8c3caf50e2f%29%3B%0A%20%20%20%20%20%20%20%20%0A%20%20%20%20%0A%20%20%20%20%20%20%20%20var%20marker_edfe14be4ce34c6eace0921fe4a0cc4d%20%3D%20L.marker%28%0A%20%20%20%20%20%20%20%20%20%20%20%20%5B43.057333138429634%2C%20-89.39759192540637%5D%2C%0A%20%20%20%20%20%20%20%20%20%20%20%20%7B%0A%20%20%20%20%20%20%20%20%20%20%20%20%20%20%20%20icon%3A%20new%20L.Icon.Default%28%29%2C%0A%20%20%20%20%20%20%20%20%20%20%20%20%20%20%20%20%7D%0A%20%20%20%20%20%20%20%20%20%20%20%20%29.addTo%28map_e1129b66cf4d4c19bb44d8c3caf50e2f%29%3B%0A%20%20%20%20%20%20%20%20%0A%20%20%20%20%0A%20%20%20%20%20%20%20%20var%20marker_7583c1fba972409b9e080689e199d79e%20%3D%20L.marker%28%0A%20%20%20%20%20%20%20%20%20%20%20%20%5B43.05875267161061%2C%20-89.4101540489807%5D%2C%0A%20%20%20%20%20%20%20%20%20%20%20%20%7B%0A%20%20%20%20%20%20%20%20%20%20%20%20%20%20%20%20icon%3A%20new%20L.Icon.Default%28%29%2C%0A%20%20%20%20%20%20%20%20%20%20%20%20%20%20%20%20%7D%0A%20%20%20%20%20%20%20%20%20%20%20%20%29.addTo%28map_e1129b66cf4d4c19bb44d8c3caf50e2f%29%3B%0A%20%20%20%20%20%20%20%20%0A%20%20%20%20%0A%20%20%20%20%20%20%20%20var%20marker_dbcc8ff2fb884be7ad1325222c5aaf63%20%3D%20L.marker%28%0A%20%20%20%20%20%20%20%20%20%20%20%20%5B43.05876680714561%2C%20-89.41084732524443%5D%2C%0A%20%20%20%20%20%20%20%20%20%20%20%20%7B%0A%20%20%20%20%20%20%20%20%20%20%20%20%20%20%20%20icon%3A%20new%20L.Icon.Default%28%29%2C%0A%20%20%20%20%20%20%20%20%20%20%20%20%20%20%20%20%7D%0A%20%20%20%20%20%20%20%20%20%20%20%20%29.addTo%28map_e1129b66cf4d4c19bb44d8c3caf50e2f%29%3B%0A%20%20%20%20%20%20%20%20%0A%20%20%20%20%0A%20%20%20%20%20%20%20%20var%20marker_6ab5c68df84f4d11a46e0e438a29a594%20%3D%20L.marker%28%0A%20%20%20%20%20%20%20%20%20%20%20%20%5B43.05876243498753%2C%20-89.41097600387609%5D%2C%0A%20%20%20%20%20%20%20%20%20%20%20%20%7B%0A%20%20%20%20%20%20%20%20%20%20%20%20%20%20%20%20icon%3A%20new%20L.Icon.Default%28%29%2C%0A%20%20%20%20%20%20%20%20%20%20%20%20%20%20%20%20%7D%0A%20%20%20%20%20%20%20%20%20%20%20%20%29.addTo%28map_e1129b66cf4d4c19bb44d8c3caf50e2f%29%3B%0A%20%20%20%20%20%20%20%20%0A%20%20%20%20%0A%20%20%20%20%20%20%20%20var%20marker_3653640cdf404bf3bada4dd79137ee6e%20%3D%20L.marker%28%0A%20%20%20%20%20%20%20%20%20%20%20%20%5B43.027063%2C%20-89.395699%5D%2C%0A%20%20%20%20%20%20%20%20%20%20%20%20%7B%0A%20%20%20%20%20%20%20%20%20%20%20%20%20%20%20%20icon%3A%20new%20L.Icon.Default%28%29%2C%0A%20%20%20%20%20%20%20%20%20%20%20%20%20%20%20%20%7D%0A%20%20%20%20%20%20%20%20%20%20%20%20%29.addTo%28map_e1129b66cf4d4c19bb44d8c3caf50e2f%29%3B%0A%20%20%20%20%20%20%20%20%0A%20%20%20%20%0A%20%20%20%20%20%20%20%20var%20marker_b2fcc161ece94e149fc0009f48135ad9%20%3D%20L.marker%28%0A%20%20%20%20%20%20%20%20%20%20%20%20%5B43.026362%2C%20-89.397767%5D%2C%0A%20%20%20%20%20%20%20%20%20%20%20%20%7B%0A%20%20%20%20%20%20%20%20%20%20%20%20%20%20%20%20icon%3A%20new%20L.Icon.Default%28%29%2C%0A%20%20%20%20%20%20%20%20%20%20%20%20%20%20%20%20%7D%0A%20%20%20%20%20%20%20%20%20%20%20%20%29.addTo%28map_e1129b66cf4d4c19bb44d8c3caf50e2f%29%3B%0A%20%20%20%20%20%20%20%20%0A%20%20%20%20%0A%20%20%20%20%20%20%20%20var%20marker_ae6ba7378bfb41f1b4e59255fed0fa8a%20%3D%20L.marker%28%0A%20%20%20%20%20%20%20%20%20%20%20%20%5B43.056979733054%2C%20-89.3892771405283%5D%2C%0A%20%20%20%20%20%20%20%20%20%20%20%20%7B%0A%20%20%20%20%20%20%20%20%20%20%20%20%20%20%20%20icon%3A%20new%20L.Icon.Default%28%29%2C%0A%20%20%20%20%20%20%20%20%20%20%20%20%20%20%20%20%7D%0A%20%20%20%20%20%20%20%20%20%20%20%20%29.addTo%28map_e1129b66cf4d4c19bb44d8c3caf50e2f%29%3B%0A%20%20%20%20%20%20%20%20%0A%3C/script%3E onload=\"this.contentDocument.open();this.contentDocument.write(    decodeURIComponent(this.getAttribute('data-html')));this.contentDocument.close();\" allowfullscreen webkitallowfullscreen mozallowfullscreen></iframe></div></div>"
            ],
            "text/plain": [
              "<folium.folium.Map at 0x7f07ad2e4e50>"
            ]
          },
          "metadata": {
            "tags": []
          },
          "execution_count": 82
        }
      ]
    },
    {
      "cell_type": "markdown",
      "metadata": {
        "id": "XjtNfAURmQgi"
      },
      "source": [
        "#### Santa Barbara"
      ]
    },
    {
      "cell_type": "code",
      "metadata": {
        "colab": {
          "base_uri": "https://localhost:8080/",
          "height": 0
        },
        "id": "LMnJ9L7rAdH-",
        "outputId": "f2e10b6b-abd5-452f-f61a-380f32590ff1"
      },
      "source": [
        "santa_barbara_map = folium.Map(location=[34.420073714285714, -119.6975069387755], zoom_start=15)\r\n",
        "santa_barbara_points = santa_barbara_venues[['lat', 'lng']]\r\n",
        "\r\n",
        "santa_barbara = santa_barbara_points.values.tolist()\r\n",
        "for point in range(0, len(santa_barbara)):\r\n",
        "  folium.Marker(santa_barbara[point]).add_to(santa_barbara_map)\r\n",
        "santa_barbara_map"
      ],
      "execution_count": 83,
      "outputs": [
        {
          "output_type": "execute_result",
          "data": {
            "text/html": [
              "<div style=\"width:100%;\"><div style=\"position:relative;width:100%;height:0;padding-bottom:60%;\"><span style=\"color:#565656\">Make this Notebook Trusted to load map: File -> Trust Notebook</span><iframe src=\"about:blank\" style=\"position:absolute;width:100%;height:100%;left:0;top:0;border:none !important;\" data-html=%3C%21DOCTYPE%20html%3E%0A%3Chead%3E%20%20%20%20%0A%20%20%20%20%3Cmeta%20http-equiv%3D%22content-type%22%20content%3D%22text/html%3B%20charset%3DUTF-8%22%20/%3E%0A%20%20%20%20%3Cscript%3EL_PREFER_CANVAS%3Dfalse%3B%20L_NO_TOUCH%3Dfalse%3B%20L_DISABLE_3D%3Dfalse%3B%3C/script%3E%0A%20%20%20%20%3Cscript%20src%3D%22https%3A//cdn.jsdelivr.net/npm/leaflet%401.4.0/dist/leaflet.js%22%3E%3C/script%3E%0A%20%20%20%20%3Cscript%20src%3D%22https%3A//code.jquery.com/jquery-1.12.4.min.js%22%3E%3C/script%3E%0A%20%20%20%20%3Cscript%20src%3D%22https%3A//maxcdn.bootstrapcdn.com/bootstrap/3.2.0/js/bootstrap.min.js%22%3E%3C/script%3E%0A%20%20%20%20%3Cscript%20src%3D%22https%3A//cdnjs.cloudflare.com/ajax/libs/Leaflet.awesome-markers/2.0.2/leaflet.awesome-markers.js%22%3E%3C/script%3E%0A%20%20%20%20%3Clink%20rel%3D%22stylesheet%22%20href%3D%22https%3A//cdn.jsdelivr.net/npm/leaflet%401.4.0/dist/leaflet.css%22/%3E%0A%20%20%20%20%3Clink%20rel%3D%22stylesheet%22%20href%3D%22https%3A//maxcdn.bootstrapcdn.com/bootstrap/3.2.0/css/bootstrap.min.css%22/%3E%0A%20%20%20%20%3Clink%20rel%3D%22stylesheet%22%20href%3D%22https%3A//maxcdn.bootstrapcdn.com/bootstrap/3.2.0/css/bootstrap-theme.min.css%22/%3E%0A%20%20%20%20%3Clink%20rel%3D%22stylesheet%22%20href%3D%22https%3A//maxcdn.bootstrapcdn.com/font-awesome/4.6.3/css/font-awesome.min.css%22/%3E%0A%20%20%20%20%3Clink%20rel%3D%22stylesheet%22%20href%3D%22https%3A//cdnjs.cloudflare.com/ajax/libs/Leaflet.awesome-markers/2.0.2/leaflet.awesome-markers.css%22/%3E%0A%20%20%20%20%3Clink%20rel%3D%22stylesheet%22%20href%3D%22https%3A//rawcdn.githack.com/python-visualization/folium/master/folium/templates/leaflet.awesome.rotate.css%22/%3E%0A%20%20%20%20%3Cstyle%3Ehtml%2C%20body%20%7Bwidth%3A%20100%25%3Bheight%3A%20100%25%3Bmargin%3A%200%3Bpadding%3A%200%3B%7D%3C/style%3E%0A%20%20%20%20%3Cstyle%3E%23map%20%7Bposition%3Aabsolute%3Btop%3A0%3Bbottom%3A0%3Bright%3A0%3Bleft%3A0%3B%7D%3C/style%3E%0A%20%20%20%20%0A%20%20%20%20%3Cmeta%20name%3D%22viewport%22%20content%3D%22width%3Ddevice-width%2C%0A%20%20%20%20%20%20%20%20initial-scale%3D1.0%2C%20maximum-scale%3D1.0%2C%20user-scalable%3Dno%22%20/%3E%0A%20%20%20%20%3Cstyle%3E%23map_9d53df53d1ea47e29de380846dff4abd%20%7B%0A%20%20%20%20%20%20%20%20position%3A%20relative%3B%0A%20%20%20%20%20%20%20%20width%3A%20100.0%25%3B%0A%20%20%20%20%20%20%20%20height%3A%20100.0%25%3B%0A%20%20%20%20%20%20%20%20left%3A%200.0%25%3B%0A%20%20%20%20%20%20%20%20top%3A%200.0%25%3B%0A%20%20%20%20%20%20%20%20%7D%0A%20%20%20%20%3C/style%3E%0A%3C/head%3E%0A%3Cbody%3E%20%20%20%20%0A%20%20%20%20%0A%20%20%20%20%3Cdiv%20class%3D%22folium-map%22%20id%3D%22map_9d53df53d1ea47e29de380846dff4abd%22%20%3E%3C/div%3E%0A%3C/body%3E%0A%3Cscript%3E%20%20%20%20%0A%20%20%20%20%0A%20%20%20%20%0A%20%20%20%20%20%20%20%20var%20bounds%20%3D%20null%3B%0A%20%20%20%20%0A%0A%20%20%20%20var%20map_9d53df53d1ea47e29de380846dff4abd%20%3D%20L.map%28%0A%20%20%20%20%20%20%20%20%27map_9d53df53d1ea47e29de380846dff4abd%27%2C%20%7B%0A%20%20%20%20%20%20%20%20center%3A%20%5B34.420073714285714%2C%20-119.6975069387755%5D%2C%0A%20%20%20%20%20%20%20%20zoom%3A%2015%2C%0A%20%20%20%20%20%20%20%20maxBounds%3A%20bounds%2C%0A%20%20%20%20%20%20%20%20layers%3A%20%5B%5D%2C%0A%20%20%20%20%20%20%20%20worldCopyJump%3A%20false%2C%0A%20%20%20%20%20%20%20%20crs%3A%20L.CRS.EPSG3857%2C%0A%20%20%20%20%20%20%20%20zoomControl%3A%20true%2C%0A%20%20%20%20%20%20%20%20%7D%29%3B%0A%0A%0A%20%20%20%20%0A%20%20%20%20var%20tile_layer_e1c6b6e19e7f4944a8a6241bfd57b75a%20%3D%20L.tileLayer%28%0A%20%20%20%20%20%20%20%20%27https%3A//%7Bs%7D.tile.openstreetmap.org/%7Bz%7D/%7Bx%7D/%7By%7D.png%27%2C%0A%20%20%20%20%20%20%20%20%7B%0A%20%20%20%20%20%20%20%20%22attribution%22%3A%20null%2C%0A%20%20%20%20%20%20%20%20%22detectRetina%22%3A%20false%2C%0A%20%20%20%20%20%20%20%20%22maxNativeZoom%22%3A%2018%2C%0A%20%20%20%20%20%20%20%20%22maxZoom%22%3A%2018%2C%0A%20%20%20%20%20%20%20%20%22minZoom%22%3A%200%2C%0A%20%20%20%20%20%20%20%20%22noWrap%22%3A%20false%2C%0A%20%20%20%20%20%20%20%20%22opacity%22%3A%201%2C%0A%20%20%20%20%20%20%20%20%22subdomains%22%3A%20%22abc%22%2C%0A%20%20%20%20%20%20%20%20%22tms%22%3A%20false%0A%7D%29.addTo%28map_9d53df53d1ea47e29de380846dff4abd%29%3B%0A%20%20%20%20%0A%20%20%20%20%20%20%20%20var%20marker_8782223e461d42e1a078728d049aaf44%20%3D%20L.marker%28%0A%20%20%20%20%20%20%20%20%20%20%20%20%5B34.41938754940268%2C%20-119.69888771559314%5D%2C%0A%20%20%20%20%20%20%20%20%20%20%20%20%7B%0A%20%20%20%20%20%20%20%20%20%20%20%20%20%20%20%20icon%3A%20new%20L.Icon.Default%28%29%2C%0A%20%20%20%20%20%20%20%20%20%20%20%20%20%20%20%20%7D%0A%20%20%20%20%20%20%20%20%20%20%20%20%29.addTo%28map_9d53df53d1ea47e29de380846dff4abd%29%3B%0A%20%20%20%20%20%20%20%20%0A%20%20%20%20%0A%20%20%20%20%20%20%20%20var%20marker_3c0d8b16ce2847b28ef20a5a5d886073%20%3D%20L.marker%28%0A%20%20%20%20%20%20%20%20%20%20%20%20%5B34.41881623320772%2C%20-119.69537208519013%5D%2C%0A%20%20%20%20%20%20%20%20%20%20%20%20%7B%0A%20%20%20%20%20%20%20%20%20%20%20%20%20%20%20%20icon%3A%20new%20L.Icon.Default%28%29%2C%0A%20%20%20%20%20%20%20%20%20%20%20%20%20%20%20%20%7D%0A%20%20%20%20%20%20%20%20%20%20%20%20%29.addTo%28map_9d53df53d1ea47e29de380846dff4abd%29%3B%0A%20%20%20%20%20%20%20%20%0A%20%20%20%20%0A%20%20%20%20%20%20%20%20var%20marker_f83f4636699f483989e671b5cd7bd5ef%20%3D%20L.marker%28%0A%20%20%20%20%20%20%20%20%20%20%20%20%5B34.42227369352757%2C%20-119.6985279713761%5D%2C%0A%20%20%20%20%20%20%20%20%20%20%20%20%7B%0A%20%20%20%20%20%20%20%20%20%20%20%20%20%20%20%20icon%3A%20new%20L.Icon.Default%28%29%2C%0A%20%20%20%20%20%20%20%20%20%20%20%20%20%20%20%20%7D%0A%20%20%20%20%20%20%20%20%20%20%20%20%29.addTo%28map_9d53df53d1ea47e29de380846dff4abd%29%3B%0A%20%20%20%20%20%20%20%20%0A%20%20%20%20%0A%20%20%20%20%20%20%20%20var%20marker_8dcf4f4278844a7eae050699a9a67be3%20%3D%20L.marker%28%0A%20%20%20%20%20%20%20%20%20%20%20%20%5B34.41997385818965%2C%20-119.69522953033447%5D%2C%0A%20%20%20%20%20%20%20%20%20%20%20%20%7B%0A%20%20%20%20%20%20%20%20%20%20%20%20%20%20%20%20icon%3A%20new%20L.Icon.Default%28%29%2C%0A%20%20%20%20%20%20%20%20%20%20%20%20%20%20%20%20%7D%0A%20%20%20%20%20%20%20%20%20%20%20%20%29.addTo%28map_9d53df53d1ea47e29de380846dff4abd%29%3B%0A%20%20%20%20%20%20%20%20%0A%20%20%20%20%0A%20%20%20%20%20%20%20%20var%20marker_2e23bebe04594b4da905093be0196260%20%3D%20L.marker%28%0A%20%20%20%20%20%20%20%20%20%20%20%20%5B34.41920157996452%2C%20-119.69873254370685%5D%2C%0A%20%20%20%20%20%20%20%20%20%20%20%20%7B%0A%20%20%20%20%20%20%20%20%20%20%20%20%20%20%20%20icon%3A%20new%20L.Icon.Default%28%29%2C%0A%20%20%20%20%20%20%20%20%20%20%20%20%20%20%20%20%7D%0A%20%20%20%20%20%20%20%20%20%20%20%20%29.addTo%28map_9d53df53d1ea47e29de380846dff4abd%29%3B%0A%20%20%20%20%20%20%20%20%0A%20%20%20%20%0A%20%20%20%20%20%20%20%20var%20marker_813881dff783481181e178de0de86579%20%3D%20L.marker%28%0A%20%20%20%20%20%20%20%20%20%20%20%20%5B34.42107651954379%2C%20-119.6990162395961%5D%2C%0A%20%20%20%20%20%20%20%20%20%20%20%20%7B%0A%20%20%20%20%20%20%20%20%20%20%20%20%20%20%20%20icon%3A%20new%20L.Icon.Default%28%29%2C%0A%20%20%20%20%20%20%20%20%20%20%20%20%20%20%20%20%7D%0A%20%20%20%20%20%20%20%20%20%20%20%20%29.addTo%28map_9d53df53d1ea47e29de380846dff4abd%29%3B%0A%20%20%20%20%20%20%20%20%0A%20%20%20%20%0A%20%20%20%20%20%20%20%20var%20marker_ca0abf8dad7b4772b909bd9158ba35bb%20%3D%20L.marker%28%0A%20%20%20%20%20%20%20%20%20%20%20%20%5B34.42026041555141%2C%20-119.70088462988485%5D%2C%0A%20%20%20%20%20%20%20%20%20%20%20%20%7B%0A%20%20%20%20%20%20%20%20%20%20%20%20%20%20%20%20icon%3A%20new%20L.Icon.Default%28%29%2C%0A%20%20%20%20%20%20%20%20%20%20%20%20%20%20%20%20%7D%0A%20%20%20%20%20%20%20%20%20%20%20%20%29.addTo%28map_9d53df53d1ea47e29de380846dff4abd%29%3B%0A%20%20%20%20%20%20%20%20%0A%20%20%20%20%0A%20%20%20%20%20%20%20%20var%20marker_3893b99000ee4fd2b85d34581f484e19%20%3D%20L.marker%28%0A%20%20%20%20%20%20%20%20%20%20%20%20%5B34.41849580990414%2C%20-119.69755817354473%5D%2C%0A%20%20%20%20%20%20%20%20%20%20%20%20%7B%0A%20%20%20%20%20%20%20%20%20%20%20%20%20%20%20%20icon%3A%20new%20L.Icon.Default%28%29%2C%0A%20%20%20%20%20%20%20%20%20%20%20%20%20%20%20%20%7D%0A%20%20%20%20%20%20%20%20%20%20%20%20%29.addTo%28map_9d53df53d1ea47e29de380846dff4abd%29%3B%0A%20%20%20%20%20%20%20%20%0A%20%20%20%20%0A%20%20%20%20%20%20%20%20var%20marker_d655258fc3c34273812a5342692e7e62%20%3D%20L.marker%28%0A%20%20%20%20%20%20%20%20%20%20%20%20%5B34.422394549655216%2C%20-119.69805004141311%5D%2C%0A%20%20%20%20%20%20%20%20%20%20%20%20%7B%0A%20%20%20%20%20%20%20%20%20%20%20%20%20%20%20%20icon%3A%20new%20L.Icon.Default%28%29%2C%0A%20%20%20%20%20%20%20%20%20%20%20%20%20%20%20%20%7D%0A%20%20%20%20%20%20%20%20%20%20%20%20%29.addTo%28map_9d53df53d1ea47e29de380846dff4abd%29%3B%0A%20%20%20%20%20%20%20%20%0A%20%20%20%20%0A%20%20%20%20%20%20%20%20var%20marker_59473eab1d3043a7bf3ec5ccb39f7c07%20%3D%20L.marker%28%0A%20%20%20%20%20%20%20%20%20%20%20%20%5B34.42308159241839%2C%20-119.69820915506091%5D%2C%0A%20%20%20%20%20%20%20%20%20%20%20%20%7B%0A%20%20%20%20%20%20%20%20%20%20%20%20%20%20%20%20icon%3A%20new%20L.Icon.Default%28%29%2C%0A%20%20%20%20%20%20%20%20%20%20%20%20%20%20%20%20%7D%0A%20%20%20%20%20%20%20%20%20%20%20%20%29.addTo%28map_9d53df53d1ea47e29de380846dff4abd%29%3B%0A%20%20%20%20%20%20%20%20%0A%20%20%20%20%0A%20%20%20%20%20%20%20%20var%20marker_d5112a25072f4236b4d7991df77ddf55%20%3D%20L.marker%28%0A%20%20%20%20%20%20%20%20%20%20%20%20%5B34.41896712493578%2C%20-119.7000958511653%5D%2C%0A%20%20%20%20%20%20%20%20%20%20%20%20%7B%0A%20%20%20%20%20%20%20%20%20%20%20%20%20%20%20%20icon%3A%20new%20L.Icon.Default%28%29%2C%0A%20%20%20%20%20%20%20%20%20%20%20%20%20%20%20%20%7D%0A%20%20%20%20%20%20%20%20%20%20%20%20%29.addTo%28map_9d53df53d1ea47e29de380846dff4abd%29%3B%0A%20%20%20%20%20%20%20%20%0A%20%20%20%20%0A%20%20%20%20%20%20%20%20var%20marker_0c28945c19164efaa2e914dfb25b2179%20%3D%20L.marker%28%0A%20%20%20%20%20%20%20%20%20%20%20%20%5B34.418153976152176%2C%20-119.69674833118916%5D%2C%0A%20%20%20%20%20%20%20%20%20%20%20%20%7B%0A%20%20%20%20%20%20%20%20%20%20%20%20%20%20%20%20icon%3A%20new%20L.Icon.Default%28%29%2C%0A%20%20%20%20%20%20%20%20%20%20%20%20%20%20%20%20%7D%0A%20%20%20%20%20%20%20%20%20%20%20%20%29.addTo%28map_9d53df53d1ea47e29de380846dff4abd%29%3B%0A%20%20%20%20%20%20%20%20%0A%20%20%20%20%0A%20%20%20%20%20%20%20%20var%20marker_d1ba728273dd455db778c28295b2939c%20%3D%20L.marker%28%0A%20%20%20%20%20%20%20%20%20%20%20%20%5B34.419500026953614%2C%20-119.69895002060518%5D%2C%0A%20%20%20%20%20%20%20%20%20%20%20%20%7B%0A%20%20%20%20%20%20%20%20%20%20%20%20%20%20%20%20icon%3A%20new%20L.Icon.Default%28%29%2C%0A%20%20%20%20%20%20%20%20%20%20%20%20%20%20%20%20%7D%0A%20%20%20%20%20%20%20%20%20%20%20%20%29.addTo%28map_9d53df53d1ea47e29de380846dff4abd%29%3B%0A%20%20%20%20%20%20%20%20%0A%20%20%20%20%0A%20%20%20%20%20%20%20%20var%20marker_4151e301c8e44894a98fb08ac8bd4ba2%20%3D%20L.marker%28%0A%20%20%20%20%20%20%20%20%20%20%20%20%5B34.4195961%2C%20-119.7001497%5D%2C%0A%20%20%20%20%20%20%20%20%20%20%20%20%7B%0A%20%20%20%20%20%20%20%20%20%20%20%20%20%20%20%20icon%3A%20new%20L.Icon.Default%28%29%2C%0A%20%20%20%20%20%20%20%20%20%20%20%20%20%20%20%20%7D%0A%20%20%20%20%20%20%20%20%20%20%20%20%29.addTo%28map_9d53df53d1ea47e29de380846dff4abd%29%3B%0A%20%20%20%20%20%20%20%20%0A%20%20%20%20%0A%20%20%20%20%20%20%20%20var%20marker_68da3196de2b431caae8854178e222c0%20%3D%20L.marker%28%0A%20%20%20%20%20%20%20%20%20%20%20%20%5B34.42159246944255%2C%20-119.69981777157813%5D%2C%0A%20%20%20%20%20%20%20%20%20%20%20%20%7B%0A%20%20%20%20%20%20%20%20%20%20%20%20%20%20%20%20icon%3A%20new%20L.Icon.Default%28%29%2C%0A%20%20%20%20%20%20%20%20%20%20%20%20%20%20%20%20%7D%0A%20%20%20%20%20%20%20%20%20%20%20%20%29.addTo%28map_9d53df53d1ea47e29de380846dff4abd%29%3B%0A%20%20%20%20%20%20%20%20%0A%20%20%20%20%0A%20%20%20%20%20%20%20%20var%20marker_fec358b2c9c24fecb8da03317a26a1c8%20%3D%20L.marker%28%0A%20%20%20%20%20%20%20%20%20%20%20%20%5B34.421600186176725%2C%20-119.69733819443512%5D%2C%0A%20%20%20%20%20%20%20%20%20%20%20%20%7B%0A%20%20%20%20%20%20%20%20%20%20%20%20%20%20%20%20icon%3A%20new%20L.Icon.Default%28%29%2C%0A%20%20%20%20%20%20%20%20%20%20%20%20%20%20%20%20%7D%0A%20%20%20%20%20%20%20%20%20%20%20%20%29.addTo%28map_9d53df53d1ea47e29de380846dff4abd%29%3B%0A%20%20%20%20%20%20%20%20%0A%20%20%20%20%0A%20%20%20%20%20%20%20%20var%20marker_d51a0a8771fd4cc8ab1cc28e00b51e86%20%3D%20L.marker%28%0A%20%20%20%20%20%20%20%20%20%20%20%20%5B34.420919%2C%20-119.699852%5D%2C%0A%20%20%20%20%20%20%20%20%20%20%20%20%7B%0A%20%20%20%20%20%20%20%20%20%20%20%20%20%20%20%20icon%3A%20new%20L.Icon.Default%28%29%2C%0A%20%20%20%20%20%20%20%20%20%20%20%20%20%20%20%20%7D%0A%20%20%20%20%20%20%20%20%20%20%20%20%29.addTo%28map_9d53df53d1ea47e29de380846dff4abd%29%3B%0A%20%20%20%20%20%20%20%20%0A%20%20%20%20%0A%20%20%20%20%20%20%20%20var%20marker_f103769d35bf43ca97e0c18cf8d9f919%20%3D%20L.marker%28%0A%20%20%20%20%20%20%20%20%20%20%20%20%5B34.41798453951458%2C%20-119.69634780374557%5D%2C%0A%20%20%20%20%20%20%20%20%20%20%20%20%7B%0A%20%20%20%20%20%20%20%20%20%20%20%20%20%20%20%20icon%3A%20new%20L.Icon.Default%28%29%2C%0A%20%20%20%20%20%20%20%20%20%20%20%20%20%20%20%20%7D%0A%20%20%20%20%20%20%20%20%20%20%20%20%29.addTo%28map_9d53df53d1ea47e29de380846dff4abd%29%3B%0A%20%20%20%20%20%20%20%20%0A%20%20%20%20%0A%20%20%20%20%20%20%20%20var%20marker_58c9749612b9455db275d3851ef36693%20%3D%20L.marker%28%0A%20%20%20%20%20%20%20%20%20%20%20%20%5B34.41529110931957%2C%20-119.6944543458621%5D%2C%0A%20%20%20%20%20%20%20%20%20%20%20%20%7B%0A%20%20%20%20%20%20%20%20%20%20%20%20%20%20%20%20icon%3A%20new%20L.Icon.Default%28%29%2C%0A%20%20%20%20%20%20%20%20%20%20%20%20%20%20%20%20%7D%0A%20%20%20%20%20%20%20%20%20%20%20%20%29.addTo%28map_9d53df53d1ea47e29de380846dff4abd%29%3B%0A%20%20%20%20%20%20%20%20%0A%20%20%20%20%0A%20%20%20%20%20%20%20%20var%20marker_358e8c672c464b28bca4e93f432a398e%20%3D%20L.marker%28%0A%20%20%20%20%20%20%20%20%20%20%20%20%5B34.4186116%2C%20-119.7001508%5D%2C%0A%20%20%20%20%20%20%20%20%20%20%20%20%7B%0A%20%20%20%20%20%20%20%20%20%20%20%20%20%20%20%20icon%3A%20new%20L.Icon.Default%28%29%2C%0A%20%20%20%20%20%20%20%20%20%20%20%20%20%20%20%20%7D%0A%20%20%20%20%20%20%20%20%20%20%20%20%29.addTo%28map_9d53df53d1ea47e29de380846dff4abd%29%3B%0A%20%20%20%20%20%20%20%20%0A%20%20%20%20%0A%20%20%20%20%20%20%20%20var%20marker_24c92518c6274397ab019d78ecf92422%20%3D%20L.marker%28%0A%20%20%20%20%20%20%20%20%20%20%20%20%5B34.42230814934712%2C%20-119.7033909981081%5D%2C%0A%20%20%20%20%20%20%20%20%20%20%20%20%7B%0A%20%20%20%20%20%20%20%20%20%20%20%20%20%20%20%20icon%3A%20new%20L.Icon.Default%28%29%2C%0A%20%20%20%20%20%20%20%20%20%20%20%20%20%20%20%20%7D%0A%20%20%20%20%20%20%20%20%20%20%20%20%29.addTo%28map_9d53df53d1ea47e29de380846dff4abd%29%3B%0A%20%20%20%20%20%20%20%20%0A%20%20%20%20%0A%20%20%20%20%20%20%20%20var%20marker_338baed133ee4c08b3aca6f75ec42004%20%3D%20L.marker%28%0A%20%20%20%20%20%20%20%20%20%20%20%20%5B34.420451%2C%20-119.702614%5D%2C%0A%20%20%20%20%20%20%20%20%20%20%20%20%7B%0A%20%20%20%20%20%20%20%20%20%20%20%20%20%20%20%20icon%3A%20new%20L.Icon.Default%28%29%2C%0A%20%20%20%20%20%20%20%20%20%20%20%20%20%20%20%20%7D%0A%20%20%20%20%20%20%20%20%20%20%20%20%29.addTo%28map_9d53df53d1ea47e29de380846dff4abd%29%3B%0A%20%20%20%20%20%20%20%20%0A%20%20%20%20%0A%20%20%20%20%20%20%20%20var%20marker_0c23df2b8c78477dbfd0278302464d74%20%3D%20L.marker%28%0A%20%20%20%20%20%20%20%20%20%20%20%20%5B34.42424741475053%2C%20-119.70249610001359%5D%2C%0A%20%20%20%20%20%20%20%20%20%20%20%20%7B%0A%20%20%20%20%20%20%20%20%20%20%20%20%20%20%20%20icon%3A%20new%20L.Icon.Default%28%29%2C%0A%20%20%20%20%20%20%20%20%20%20%20%20%20%20%20%20%7D%0A%20%20%20%20%20%20%20%20%20%20%20%20%29.addTo%28map_9d53df53d1ea47e29de380846dff4abd%29%3B%0A%20%20%20%20%20%20%20%20%0A%20%20%20%20%0A%20%20%20%20%20%20%20%20var%20marker_a484327cb7b0490fb5b703809dfbf958%20%3D%20L.marker%28%0A%20%20%20%20%20%20%20%20%20%20%20%20%5B34.42047561650335%2C%20-119.69878974328245%5D%2C%0A%20%20%20%20%20%20%20%20%20%20%20%20%7B%0A%20%20%20%20%20%20%20%20%20%20%20%20%20%20%20%20icon%3A%20new%20L.Icon.Default%28%29%2C%0A%20%20%20%20%20%20%20%20%20%20%20%20%20%20%20%20%7D%0A%20%20%20%20%20%20%20%20%20%20%20%20%29.addTo%28map_9d53df53d1ea47e29de380846dff4abd%29%3B%0A%20%20%20%20%20%20%20%20%0A%20%20%20%20%0A%20%20%20%20%20%20%20%20var%20marker_3c228282beac4b7f8d01eebf4c172b97%20%3D%20L.marker%28%0A%20%20%20%20%20%20%20%20%20%20%20%20%5B34.41788%2C%20-119.697111%5D%2C%0A%20%20%20%20%20%20%20%20%20%20%20%20%7B%0A%20%20%20%20%20%20%20%20%20%20%20%20%20%20%20%20icon%3A%20new%20L.Icon.Default%28%29%2C%0A%20%20%20%20%20%20%20%20%20%20%20%20%20%20%20%20%7D%0A%20%20%20%20%20%20%20%20%20%20%20%20%29.addTo%28map_9d53df53d1ea47e29de380846dff4abd%29%3B%0A%20%20%20%20%20%20%20%20%0A%20%20%20%20%0A%20%20%20%20%20%20%20%20var%20marker_7e565b7117364a97bc60193429803829%20%3D%20L.marker%28%0A%20%20%20%20%20%20%20%20%20%20%20%20%5B34.41818455926864%2C%20-119.6976704565409%5D%2C%0A%20%20%20%20%20%20%20%20%20%20%20%20%7B%0A%20%20%20%20%20%20%20%20%20%20%20%20%20%20%20%20icon%3A%20new%20L.Icon.Default%28%29%2C%0A%20%20%20%20%20%20%20%20%20%20%20%20%20%20%20%20%7D%0A%20%20%20%20%20%20%20%20%20%20%20%20%29.addTo%28map_9d53df53d1ea47e29de380846dff4abd%29%3B%0A%20%20%20%20%20%20%20%20%0A%20%20%20%20%0A%20%20%20%20%20%20%20%20var%20marker_a020be1be3ce48beb71e1db8f259af60%20%3D%20L.marker%28%0A%20%20%20%20%20%20%20%20%20%20%20%20%5B34.419733105221894%2C%20-119.70018685946604%5D%2C%0A%20%20%20%20%20%20%20%20%20%20%20%20%7B%0A%20%20%20%20%20%20%20%20%20%20%20%20%20%20%20%20icon%3A%20new%20L.Icon.Default%28%29%2C%0A%20%20%20%20%20%20%20%20%20%20%20%20%20%20%20%20%7D%0A%20%20%20%20%20%20%20%20%20%20%20%20%29.addTo%28map_9d53df53d1ea47e29de380846dff4abd%29%3B%0A%20%20%20%20%20%20%20%20%0A%20%20%20%20%0A%20%20%20%20%20%20%20%20var%20marker_4201516a7734411cb36488d85c06de9e%20%3D%20L.marker%28%0A%20%20%20%20%20%20%20%20%20%20%20%20%5B34.417208984303436%2C%20-119.69627466612056%5D%2C%0A%20%20%20%20%20%20%20%20%20%20%20%20%7B%0A%20%20%20%20%20%20%20%20%20%20%20%20%20%20%20%20icon%3A%20new%20L.Icon.Default%28%29%2C%0A%20%20%20%20%20%20%20%20%20%20%20%20%20%20%20%20%7D%0A%20%20%20%20%20%20%20%20%20%20%20%20%29.addTo%28map_9d53df53d1ea47e29de380846dff4abd%29%3B%0A%20%20%20%20%20%20%20%20%0A%20%20%20%20%0A%20%20%20%20%20%20%20%20var%20marker_81e4a78fdd0b4b26a81e5eebeb5c9182%20%3D%20L.marker%28%0A%20%20%20%20%20%20%20%20%20%20%20%20%5B34.42467702768347%2C%20-119.70227557311078%5D%2C%0A%20%20%20%20%20%20%20%20%20%20%20%20%7B%0A%20%20%20%20%20%20%20%20%20%20%20%20%20%20%20%20icon%3A%20new%20L.Icon.Default%28%29%2C%0A%20%20%20%20%20%20%20%20%20%20%20%20%20%20%20%20%7D%0A%20%20%20%20%20%20%20%20%20%20%20%20%29.addTo%28map_9d53df53d1ea47e29de380846dff4abd%29%3B%0A%20%20%20%20%20%20%20%20%0A%20%20%20%20%0A%20%20%20%20%20%20%20%20var%20marker_e1f0e1c88e804caba77d1c8a18805e00%20%3D%20L.marker%28%0A%20%20%20%20%20%20%20%20%20%20%20%20%5B34.42042907932363%2C%20-119.70260353094363%5D%2C%0A%20%20%20%20%20%20%20%20%20%20%20%20%7B%0A%20%20%20%20%20%20%20%20%20%20%20%20%20%20%20%20icon%3A%20new%20L.Icon.Default%28%29%2C%0A%20%20%20%20%20%20%20%20%20%20%20%20%20%20%20%20%7D%0A%20%20%20%20%20%20%20%20%20%20%20%20%29.addTo%28map_9d53df53d1ea47e29de380846dff4abd%29%3B%0A%20%20%20%20%20%20%20%20%0A%20%20%20%20%0A%20%20%20%20%20%20%20%20var%20marker_b0c337d679c04462ba68e4725082e2bc%20%3D%20L.marker%28%0A%20%20%20%20%20%20%20%20%20%20%20%20%5B34.41844151174884%2C%20-119.70040596167608%5D%2C%0A%20%20%20%20%20%20%20%20%20%20%20%20%7B%0A%20%20%20%20%20%20%20%20%20%20%20%20%20%20%20%20icon%3A%20new%20L.Icon.Default%28%29%2C%0A%20%20%20%20%20%20%20%20%20%20%20%20%20%20%20%20%7D%0A%20%20%20%20%20%20%20%20%20%20%20%20%29.addTo%28map_9d53df53d1ea47e29de380846dff4abd%29%3B%0A%20%20%20%20%20%20%20%20%0A%20%20%20%20%0A%20%20%20%20%20%20%20%20var%20marker_e097aa5ed1004bea81e4fb234c7a1403%20%3D%20L.marker%28%0A%20%20%20%20%20%20%20%20%20%20%20%20%5B34.42013021679831%2C%20-119.69897746636819%5D%2C%0A%20%20%20%20%20%20%20%20%20%20%20%20%7B%0A%20%20%20%20%20%20%20%20%20%20%20%20%20%20%20%20icon%3A%20new%20L.Icon.Default%28%29%2C%0A%20%20%20%20%20%20%20%20%20%20%20%20%20%20%20%20%7D%0A%20%20%20%20%20%20%20%20%20%20%20%20%29.addTo%28map_9d53df53d1ea47e29de380846dff4abd%29%3B%0A%20%20%20%20%20%20%20%20%0A%20%20%20%20%0A%20%20%20%20%20%20%20%20var%20marker_d585d0058a684c8f95e4ceb763fd8a96%20%3D%20L.marker%28%0A%20%20%20%20%20%20%20%20%20%20%20%20%5B34.41645554665792%2C%20-119.69514495683777%5D%2C%0A%20%20%20%20%20%20%20%20%20%20%20%20%7B%0A%20%20%20%20%20%20%20%20%20%20%20%20%20%20%20%20icon%3A%20new%20L.Icon.Default%28%29%2C%0A%20%20%20%20%20%20%20%20%20%20%20%20%20%20%20%20%7D%0A%20%20%20%20%20%20%20%20%20%20%20%20%29.addTo%28map_9d53df53d1ea47e29de380846dff4abd%29%3B%0A%20%20%20%20%20%20%20%20%0A%20%20%20%20%0A%20%20%20%20%20%20%20%20var%20marker_777435b574cf407aa48b85bdacd253f9%20%3D%20L.marker%28%0A%20%20%20%20%20%20%20%20%20%20%20%20%5B34.41520385655709%2C%20-119.6947830474345%5D%2C%0A%20%20%20%20%20%20%20%20%20%20%20%20%7B%0A%20%20%20%20%20%20%20%20%20%20%20%20%20%20%20%20icon%3A%20new%20L.Icon.Default%28%29%2C%0A%20%20%20%20%20%20%20%20%20%20%20%20%20%20%20%20%7D%0A%20%20%20%20%20%20%20%20%20%20%20%20%29.addTo%28map_9d53df53d1ea47e29de380846dff4abd%29%3B%0A%20%20%20%20%20%20%20%20%0A%20%20%20%20%0A%20%20%20%20%20%20%20%20var%20marker_6c70dfd61dc64d5f9f1e9de63f03faa9%20%3D%20L.marker%28%0A%20%20%20%20%20%20%20%20%20%20%20%20%5B34.41531882117351%2C%20-119.69453783420188%5D%2C%0A%20%20%20%20%20%20%20%20%20%20%20%20%7B%0A%20%20%20%20%20%20%20%20%20%20%20%20%20%20%20%20icon%3A%20new%20L.Icon.Default%28%29%2C%0A%20%20%20%20%20%20%20%20%20%20%20%20%20%20%20%20%7D%0A%20%20%20%20%20%20%20%20%20%20%20%20%29.addTo%28map_9d53df53d1ea47e29de380846dff4abd%29%3B%0A%20%20%20%20%20%20%20%20%0A%20%20%20%20%0A%20%20%20%20%20%20%20%20var%20marker_f39eefbe2bb0491b930802d3e62bcba1%20%3D%20L.marker%28%0A%20%20%20%20%20%20%20%20%20%20%20%20%5B34.419181109048544%2C%20-119.69766452930213%5D%2C%0A%20%20%20%20%20%20%20%20%20%20%20%20%7B%0A%20%20%20%20%20%20%20%20%20%20%20%20%20%20%20%20icon%3A%20new%20L.Icon.Default%28%29%2C%0A%20%20%20%20%20%20%20%20%20%20%20%20%20%20%20%20%7D%0A%20%20%20%20%20%20%20%20%20%20%20%20%29.addTo%28map_9d53df53d1ea47e29de380846dff4abd%29%3B%0A%20%20%20%20%20%20%20%20%0A%20%20%20%20%0A%20%20%20%20%20%20%20%20var%20marker_2359c42257a24441985681caae7b5316%20%3D%20L.marker%28%0A%20%20%20%20%20%20%20%20%20%20%20%20%5B34.421059763156855%2C%20-119.70127965860988%5D%2C%0A%20%20%20%20%20%20%20%20%20%20%20%20%7B%0A%20%20%20%20%20%20%20%20%20%20%20%20%20%20%20%20icon%3A%20new%20L.Icon.Default%28%29%2C%0A%20%20%20%20%20%20%20%20%20%20%20%20%20%20%20%20%7D%0A%20%20%20%20%20%20%20%20%20%20%20%20%29.addTo%28map_9d53df53d1ea47e29de380846dff4abd%29%3B%0A%20%20%20%20%20%20%20%20%0A%20%20%20%20%0A%20%20%20%20%20%20%20%20var%20marker_a9d8d865d7904b6d9966bc6ac05d1ab7%20%3D%20L.marker%28%0A%20%20%20%20%20%20%20%20%20%20%20%20%5B34.41429866998417%2C%20-119.69453157863651%5D%2C%0A%20%20%20%20%20%20%20%20%20%20%20%20%7B%0A%20%20%20%20%20%20%20%20%20%20%20%20%20%20%20%20icon%3A%20new%20L.Icon.Default%28%29%2C%0A%20%20%20%20%20%20%20%20%20%20%20%20%20%20%20%20%7D%0A%20%20%20%20%20%20%20%20%20%20%20%20%29.addTo%28map_9d53df53d1ea47e29de380846dff4abd%29%3B%0A%20%20%20%20%20%20%20%20%0A%20%20%20%20%0A%20%20%20%20%20%20%20%20var%20marker_f9d2364c450b43ca88f773ab7cc5f7e0%20%3D%20L.marker%28%0A%20%20%20%20%20%20%20%20%20%20%20%20%5B34.41896166294291%2C%20-119.69737573922944%5D%2C%0A%20%20%20%20%20%20%20%20%20%20%20%20%7B%0A%20%20%20%20%20%20%20%20%20%20%20%20%20%20%20%20icon%3A%20new%20L.Icon.Default%28%29%2C%0A%20%20%20%20%20%20%20%20%20%20%20%20%20%20%20%20%7D%0A%20%20%20%20%20%20%20%20%20%20%20%20%29.addTo%28map_9d53df53d1ea47e29de380846dff4abd%29%3B%0A%20%20%20%20%20%20%20%20%0A%20%20%20%20%0A%20%20%20%20%20%20%20%20var%20marker_5ea8bc29a33c4b4faf9ae5767ad36201%20%3D%20L.marker%28%0A%20%20%20%20%20%20%20%20%20%20%20%20%5B34.417302071642496%2C%20-119.6892837118679%5D%2C%0A%20%20%20%20%20%20%20%20%20%20%20%20%7B%0A%20%20%20%20%20%20%20%20%20%20%20%20%20%20%20%20icon%3A%20new%20L.Icon.Default%28%29%2C%0A%20%20%20%20%20%20%20%20%20%20%20%20%20%20%20%20%7D%0A%20%20%20%20%20%20%20%20%20%20%20%20%29.addTo%28map_9d53df53d1ea47e29de380846dff4abd%29%3B%0A%20%20%20%20%20%20%20%20%0A%20%20%20%20%0A%20%20%20%20%20%20%20%20var%20marker_c0a0290a534b4db4b4f190999cba1678%20%3D%20L.marker%28%0A%20%20%20%20%20%20%20%20%20%20%20%20%5B34.42316141257673%2C%20-119.69872954036735%5D%2C%0A%20%20%20%20%20%20%20%20%20%20%20%20%7B%0A%20%20%20%20%20%20%20%20%20%20%20%20%20%20%20%20icon%3A%20new%20L.Icon.Default%28%29%2C%0A%20%20%20%20%20%20%20%20%20%20%20%20%20%20%20%20%7D%0A%20%20%20%20%20%20%20%20%20%20%20%20%29.addTo%28map_9d53df53d1ea47e29de380846dff4abd%29%3B%0A%20%20%20%20%20%20%20%20%0A%20%20%20%20%0A%20%20%20%20%20%20%20%20var%20marker_88d0540b55a64a6b9beb30e0abdb6246%20%3D%20L.marker%28%0A%20%20%20%20%20%20%20%20%20%20%20%20%5B34.41901086391027%2C%20-119.70414126784328%5D%2C%0A%20%20%20%20%20%20%20%20%20%20%20%20%7B%0A%20%20%20%20%20%20%20%20%20%20%20%20%20%20%20%20icon%3A%20new%20L.Icon.Default%28%29%2C%0A%20%20%20%20%20%20%20%20%20%20%20%20%20%20%20%20%7D%0A%20%20%20%20%20%20%20%20%20%20%20%20%29.addTo%28map_9d53df53d1ea47e29de380846dff4abd%29%3B%0A%20%20%20%20%20%20%20%20%0A%20%20%20%20%0A%20%20%20%20%20%20%20%20var%20marker_42629627f28e48859e05dd7da662a518%20%3D%20L.marker%28%0A%20%20%20%20%20%20%20%20%20%20%20%20%5B34.41948706138943%2C%20-119.70169682507678%5D%2C%0A%20%20%20%20%20%20%20%20%20%20%20%20%7B%0A%20%20%20%20%20%20%20%20%20%20%20%20%20%20%20%20icon%3A%20new%20L.Icon.Default%28%29%2C%0A%20%20%20%20%20%20%20%20%20%20%20%20%20%20%20%20%7D%0A%20%20%20%20%20%20%20%20%20%20%20%20%29.addTo%28map_9d53df53d1ea47e29de380846dff4abd%29%3B%0A%20%20%20%20%20%20%20%20%0A%20%20%20%20%0A%20%20%20%20%20%20%20%20var%20marker_1ffe013ba2ef41b8808bac7f7d8bd568%20%3D%20L.marker%28%0A%20%20%20%20%20%20%20%20%20%20%20%20%5B34.42066432628757%2C%20-119.700913155661%5D%2C%0A%20%20%20%20%20%20%20%20%20%20%20%20%7B%0A%20%20%20%20%20%20%20%20%20%20%20%20%20%20%20%20icon%3A%20new%20L.Icon.Default%28%29%2C%0A%20%20%20%20%20%20%20%20%20%20%20%20%20%20%20%20%7D%0A%20%20%20%20%20%20%20%20%20%20%20%20%29.addTo%28map_9d53df53d1ea47e29de380846dff4abd%29%3B%0A%20%20%20%20%20%20%20%20%0A%20%20%20%20%0A%20%20%20%20%20%20%20%20var%20marker_69858801ec1a4b82b5a6d9ba239b93b3%20%3D%20L.marker%28%0A%20%20%20%20%20%20%20%20%20%20%20%20%5B34.417609027068956%2C%20-119.69938727639516%5D%2C%0A%20%20%20%20%20%20%20%20%20%20%20%20%7B%0A%20%20%20%20%20%20%20%20%20%20%20%20%20%20%20%20icon%3A%20new%20L.Icon.Default%28%29%2C%0A%20%20%20%20%20%20%20%20%20%20%20%20%20%20%20%20%7D%0A%20%20%20%20%20%20%20%20%20%20%20%20%29.addTo%28map_9d53df53d1ea47e29de380846dff4abd%29%3B%0A%20%20%20%20%20%20%20%20%0A%20%20%20%20%0A%20%20%20%20%20%20%20%20var%20marker_2ea0b7773bb842d6ae11149b362bb21f%20%3D%20L.marker%28%0A%20%20%20%20%20%20%20%20%20%20%20%20%5B34.42398538929098%2C%20-119.6979620395173%5D%2C%0A%20%20%20%20%20%20%20%20%20%20%20%20%7B%0A%20%20%20%20%20%20%20%20%20%20%20%20%20%20%20%20icon%3A%20new%20L.Icon.Default%28%29%2C%0A%20%20%20%20%20%20%20%20%20%20%20%20%20%20%20%20%7D%0A%20%20%20%20%20%20%20%20%20%20%20%20%29.addTo%28map_9d53df53d1ea47e29de380846dff4abd%29%3B%0A%20%20%20%20%20%20%20%20%0A%20%20%20%20%0A%20%20%20%20%20%20%20%20var%20marker_585348588ef843788fc1da4ba6ad94c7%20%3D%20L.marker%28%0A%20%20%20%20%20%20%20%20%20%20%20%20%5B34.417831%2C%20-119.699632%5D%2C%0A%20%20%20%20%20%20%20%20%20%20%20%20%7B%0A%20%20%20%20%20%20%20%20%20%20%20%20%20%20%20%20icon%3A%20new%20L.Icon.Default%28%29%2C%0A%20%20%20%20%20%20%20%20%20%20%20%20%20%20%20%20%7D%0A%20%20%20%20%20%20%20%20%20%20%20%20%29.addTo%28map_9d53df53d1ea47e29de380846dff4abd%29%3B%0A%20%20%20%20%20%20%20%20%0A%20%20%20%20%0A%20%20%20%20%20%20%20%20var%20marker_3254607a193740f690bf24d05891a5fa%20%3D%20L.marker%28%0A%20%20%20%20%20%20%20%20%20%20%20%20%5B34.41465471916046%2C%20-119.69146696349188%5D%2C%0A%20%20%20%20%20%20%20%20%20%20%20%20%7B%0A%20%20%20%20%20%20%20%20%20%20%20%20%20%20%20%20icon%3A%20new%20L.Icon.Default%28%29%2C%0A%20%20%20%20%20%20%20%20%20%20%20%20%20%20%20%20%7D%0A%20%20%20%20%20%20%20%20%20%20%20%20%29.addTo%28map_9d53df53d1ea47e29de380846dff4abd%29%3B%0A%20%20%20%20%20%20%20%20%0A%20%20%20%20%0A%20%20%20%20%20%20%20%20var%20marker_2fcf53eff21b4866a8c3707bc9710022%20%3D%20L.marker%28%0A%20%20%20%20%20%20%20%20%20%20%20%20%5B34.4236276427218%2C%20-119.70473048429355%5D%2C%0A%20%20%20%20%20%20%20%20%20%20%20%20%7B%0A%20%20%20%20%20%20%20%20%20%20%20%20%20%20%20%20icon%3A%20new%20L.Icon.Default%28%29%2C%0A%20%20%20%20%20%20%20%20%20%20%20%20%20%20%20%20%7D%0A%20%20%20%20%20%20%20%20%20%20%20%20%29.addTo%28map_9d53df53d1ea47e29de380846dff4abd%29%3B%0A%20%20%20%20%20%20%20%20%0A%20%20%20%20%0A%20%20%20%20%20%20%20%20var%20marker_5d9188b2b64e4880bbbc13433ed006c6%20%3D%20L.marker%28%0A%20%20%20%20%20%20%20%20%20%20%20%20%5B34.423669401748484%2C%20-119.70491616690309%5D%2C%0A%20%20%20%20%20%20%20%20%20%20%20%20%7B%0A%20%20%20%20%20%20%20%20%20%20%20%20%20%20%20%20icon%3A%20new%20L.Icon.Default%28%29%2C%0A%20%20%20%20%20%20%20%20%20%20%20%20%20%20%20%20%7D%0A%20%20%20%20%20%20%20%20%20%20%20%20%29.addTo%28map_9d53df53d1ea47e29de380846dff4abd%29%3B%0A%20%20%20%20%20%20%20%20%0A%20%20%20%20%0A%20%20%20%20%20%20%20%20var%20marker_306e4a1c711a4501ac201571ad39324a%20%3D%20L.marker%28%0A%20%20%20%20%20%20%20%20%20%20%20%20%5B34.418238401482064%2C%20-119.702856850181%5D%2C%0A%20%20%20%20%20%20%20%20%20%20%20%20%7B%0A%20%20%20%20%20%20%20%20%20%20%20%20%20%20%20%20icon%3A%20new%20L.Icon.Default%28%29%2C%0A%20%20%20%20%20%20%20%20%20%20%20%20%20%20%20%20%7D%0A%20%20%20%20%20%20%20%20%20%20%20%20%29.addTo%28map_9d53df53d1ea47e29de380846dff4abd%29%3B%0A%20%20%20%20%20%20%20%20%0A%20%20%20%20%0A%20%20%20%20%20%20%20%20var%20marker_6cb1e3ab96374610a7c968415e6b81e7%20%3D%20L.marker%28%0A%20%20%20%20%20%20%20%20%20%20%20%20%5B34.419526%2C%20-119.698815%5D%2C%0A%20%20%20%20%20%20%20%20%20%20%20%20%7B%0A%20%20%20%20%20%20%20%20%20%20%20%20%20%20%20%20icon%3A%20new%20L.Icon.Default%28%29%2C%0A%20%20%20%20%20%20%20%20%20%20%20%20%20%20%20%20%7D%0A%20%20%20%20%20%20%20%20%20%20%20%20%29.addTo%28map_9d53df53d1ea47e29de380846dff4abd%29%3B%0A%20%20%20%20%20%20%20%20%0A%20%20%20%20%0A%20%20%20%20%20%20%20%20var%20marker_205393d3278f4c9d9668e41695da157b%20%3D%20L.marker%28%0A%20%20%20%20%20%20%20%20%20%20%20%20%5B34.41631756159509%2C%20-119.68951223805361%5D%2C%0A%20%20%20%20%20%20%20%20%20%20%20%20%7B%0A%20%20%20%20%20%20%20%20%20%20%20%20%20%20%20%20icon%3A%20new%20L.Icon.Default%28%29%2C%0A%20%20%20%20%20%20%20%20%20%20%20%20%20%20%20%20%7D%0A%20%20%20%20%20%20%20%20%20%20%20%20%29.addTo%28map_9d53df53d1ea47e29de380846dff4abd%29%3B%0A%20%20%20%20%20%20%20%20%0A%20%20%20%20%0A%20%20%20%20%20%20%20%20var%20marker_eaa2181df98e43a1806b36d88256d3a6%20%3D%20L.marker%28%0A%20%20%20%20%20%20%20%20%20%20%20%20%5B34.42189838960215%2C%20-119.70401717541179%5D%2C%0A%20%20%20%20%20%20%20%20%20%20%20%20%7B%0A%20%20%20%20%20%20%20%20%20%20%20%20%20%20%20%20icon%3A%20new%20L.Icon.Default%28%29%2C%0A%20%20%20%20%20%20%20%20%20%20%20%20%20%20%20%20%7D%0A%20%20%20%20%20%20%20%20%20%20%20%20%29.addTo%28map_9d53df53d1ea47e29de380846dff4abd%29%3B%0A%20%20%20%20%20%20%20%20%0A%20%20%20%20%0A%20%20%20%20%20%20%20%20var%20marker_6082d4d990c94714baf99c1051841b75%20%3D%20L.marker%28%0A%20%20%20%20%20%20%20%20%20%20%20%20%5B34.41407940551608%2C%20-119.69170994907354%5D%2C%0A%20%20%20%20%20%20%20%20%20%20%20%20%7B%0A%20%20%20%20%20%20%20%20%20%20%20%20%20%20%20%20icon%3A%20new%20L.Icon.Default%28%29%2C%0A%20%20%20%20%20%20%20%20%20%20%20%20%20%20%20%20%7D%0A%20%20%20%20%20%20%20%20%20%20%20%20%29.addTo%28map_9d53df53d1ea47e29de380846dff4abd%29%3B%0A%20%20%20%20%20%20%20%20%0A%20%20%20%20%0A%20%20%20%20%20%20%20%20var%20marker_f1493be80ab24f94b1b810cf131bf252%20%3D%20L.marker%28%0A%20%20%20%20%20%20%20%20%20%20%20%20%5B34.41469620367479%2C%20-119.6905267087198%5D%2C%0A%20%20%20%20%20%20%20%20%20%20%20%20%7B%0A%20%20%20%20%20%20%20%20%20%20%20%20%20%20%20%20icon%3A%20new%20L.Icon.Default%28%29%2C%0A%20%20%20%20%20%20%20%20%20%20%20%20%20%20%20%20%7D%0A%20%20%20%20%20%20%20%20%20%20%20%20%29.addTo%28map_9d53df53d1ea47e29de380846dff4abd%29%3B%0A%20%20%20%20%20%20%20%20%0A%20%20%20%20%0A%20%20%20%20%20%20%20%20var%20marker_27d00b9d4a2b489cb1a2aa60becf744a%20%3D%20L.marker%28%0A%20%20%20%20%20%20%20%20%20%20%20%20%5B34.41465629245606%2C%20-119.69033150248039%5D%2C%0A%20%20%20%20%20%20%20%20%20%20%20%20%7B%0A%20%20%20%20%20%20%20%20%20%20%20%20%20%20%20%20icon%3A%20new%20L.Icon.Default%28%29%2C%0A%20%20%20%20%20%20%20%20%20%20%20%20%20%20%20%20%7D%0A%20%20%20%20%20%20%20%20%20%20%20%20%29.addTo%28map_9d53df53d1ea47e29de380846dff4abd%29%3B%0A%20%20%20%20%20%20%20%20%0A%20%20%20%20%0A%20%20%20%20%20%20%20%20var%20marker_2a812e7cbca24094ab81f1ffc73b0d80%20%3D%20L.marker%28%0A%20%20%20%20%20%20%20%20%20%20%20%20%5B34.42291936055932%2C%20-119.70354083158864%5D%2C%0A%20%20%20%20%20%20%20%20%20%20%20%20%7B%0A%20%20%20%20%20%20%20%20%20%20%20%20%20%20%20%20icon%3A%20new%20L.Icon.Default%28%29%2C%0A%20%20%20%20%20%20%20%20%20%20%20%20%20%20%20%20%7D%0A%20%20%20%20%20%20%20%20%20%20%20%20%29.addTo%28map_9d53df53d1ea47e29de380846dff4abd%29%3B%0A%20%20%20%20%20%20%20%20%0A%20%20%20%20%0A%20%20%20%20%20%20%20%20var%20marker_0c1f9f2c6ef244908e6761ca46e3eeb8%20%3D%20L.marker%28%0A%20%20%20%20%20%20%20%20%20%20%20%20%5B34.42389696138905%2C%20-119.70541714413983%5D%2C%0A%20%20%20%20%20%20%20%20%20%20%20%20%7B%0A%20%20%20%20%20%20%20%20%20%20%20%20%20%20%20%20icon%3A%20new%20L.Icon.Default%28%29%2C%0A%20%20%20%20%20%20%20%20%20%20%20%20%20%20%20%20%7D%0A%20%20%20%20%20%20%20%20%20%20%20%20%29.addTo%28map_9d53df53d1ea47e29de380846dff4abd%29%3B%0A%20%20%20%20%20%20%20%20%0A%20%20%20%20%0A%20%20%20%20%20%20%20%20var%20marker_91a76a2326e64deea86bf706f1c6a728%20%3D%20L.marker%28%0A%20%20%20%20%20%20%20%20%20%20%20%20%5B34.4236518228999%2C%20-119.70593577867625%5D%2C%0A%20%20%20%20%20%20%20%20%20%20%20%20%7B%0A%20%20%20%20%20%20%20%20%20%20%20%20%20%20%20%20icon%3A%20new%20L.Icon.Default%28%29%2C%0A%20%20%20%20%20%20%20%20%20%20%20%20%20%20%20%20%7D%0A%20%20%20%20%20%20%20%20%20%20%20%20%29.addTo%28map_9d53df53d1ea47e29de380846dff4abd%29%3B%0A%20%20%20%20%20%20%20%20%0A%20%20%20%20%0A%20%20%20%20%20%20%20%20var%20marker_57e834c09941402f830d62ebb58f73b1%20%3D%20L.marker%28%0A%20%20%20%20%20%20%20%20%20%20%20%20%5B34.42104954651928%2C%20-119.69057014287809%5D%2C%0A%20%20%20%20%20%20%20%20%20%20%20%20%7B%0A%20%20%20%20%20%20%20%20%20%20%20%20%20%20%20%20icon%3A%20new%20L.Icon.Default%28%29%2C%0A%20%20%20%20%20%20%20%20%20%20%20%20%20%20%20%20%7D%0A%20%20%20%20%20%20%20%20%20%20%20%20%29.addTo%28map_9d53df53d1ea47e29de380846dff4abd%29%3B%0A%20%20%20%20%20%20%20%20%0A%20%20%20%20%0A%20%20%20%20%20%20%20%20var%20marker_c5b0e4bd9f5b4fb0b789b0eab99f3f50%20%3D%20L.marker%28%0A%20%20%20%20%20%20%20%20%20%20%20%20%5B34.41498095436733%2C%20-119.69076533347597%5D%2C%0A%20%20%20%20%20%20%20%20%20%20%20%20%7B%0A%20%20%20%20%20%20%20%20%20%20%20%20%20%20%20%20icon%3A%20new%20L.Icon.Default%28%29%2C%0A%20%20%20%20%20%20%20%20%20%20%20%20%20%20%20%20%7D%0A%20%20%20%20%20%20%20%20%20%20%20%20%29.addTo%28map_9d53df53d1ea47e29de380846dff4abd%29%3B%0A%20%20%20%20%20%20%20%20%0A%20%20%20%20%0A%20%20%20%20%20%20%20%20var%20marker_0e2d256b16a546c7bed52eba192eef7b%20%3D%20L.marker%28%0A%20%20%20%20%20%20%20%20%20%20%20%20%5B34.42257260992376%2C%20-119.70333757342851%5D%2C%0A%20%20%20%20%20%20%20%20%20%20%20%20%7B%0A%20%20%20%20%20%20%20%20%20%20%20%20%20%20%20%20icon%3A%20new%20L.Icon.Default%28%29%2C%0A%20%20%20%20%20%20%20%20%20%20%20%20%20%20%20%20%7D%0A%20%20%20%20%20%20%20%20%20%20%20%20%29.addTo%28map_9d53df53d1ea47e29de380846dff4abd%29%3B%0A%20%20%20%20%20%20%20%20%0A%20%20%20%20%0A%20%20%20%20%20%20%20%20var%20marker_8385110b9af546f3a0cc98d8b3810c7d%20%3D%20L.marker%28%0A%20%20%20%20%20%20%20%20%20%20%20%20%5B34.41512585677164%2C%20-119.69432131753602%5D%2C%0A%20%20%20%20%20%20%20%20%20%20%20%20%7B%0A%20%20%20%20%20%20%20%20%20%20%20%20%20%20%20%20icon%3A%20new%20L.Icon.Default%28%29%2C%0A%20%20%20%20%20%20%20%20%20%20%20%20%20%20%20%20%7D%0A%20%20%20%20%20%20%20%20%20%20%20%20%29.addTo%28map_9d53df53d1ea47e29de380846dff4abd%29%3B%0A%20%20%20%20%20%20%20%20%0A%20%20%20%20%0A%20%20%20%20%20%20%20%20var%20marker_a712e3ffa40b44f1b70b4bec0783e418%20%3D%20L.marker%28%0A%20%20%20%20%20%20%20%20%20%20%20%20%5B34.414683493554584%2C%20-119.69081420786107%5D%2C%0A%20%20%20%20%20%20%20%20%20%20%20%20%7B%0A%20%20%20%20%20%20%20%20%20%20%20%20%20%20%20%20icon%3A%20new%20L.Icon.Default%28%29%2C%0A%20%20%20%20%20%20%20%20%20%20%20%20%20%20%20%20%7D%0A%20%20%20%20%20%20%20%20%20%20%20%20%29.addTo%28map_9d53df53d1ea47e29de380846dff4abd%29%3B%0A%20%20%20%20%20%20%20%20%0A%20%20%20%20%0A%20%20%20%20%20%20%20%20var%20marker_c17d466b796744d69c8a2cbae23097a9%20%3D%20L.marker%28%0A%20%20%20%20%20%20%20%20%20%20%20%20%5B34.416104%2C%20-119.6929817%5D%2C%0A%20%20%20%20%20%20%20%20%20%20%20%20%7B%0A%20%20%20%20%20%20%20%20%20%20%20%20%20%20%20%20icon%3A%20new%20L.Icon.Default%28%29%2C%0A%20%20%20%20%20%20%20%20%20%20%20%20%20%20%20%20%7D%0A%20%20%20%20%20%20%20%20%20%20%20%20%29.addTo%28map_9d53df53d1ea47e29de380846dff4abd%29%3B%0A%20%20%20%20%20%20%20%20%0A%20%20%20%20%0A%20%20%20%20%20%20%20%20var%20marker_80750120fa6442a68ba1666e34c55abe%20%3D%20L.marker%28%0A%20%20%20%20%20%20%20%20%20%20%20%20%5B34.414629%2C%20-119.690663%5D%2C%0A%20%20%20%20%20%20%20%20%20%20%20%20%7B%0A%20%20%20%20%20%20%20%20%20%20%20%20%20%20%20%20icon%3A%20new%20L.Icon.Default%28%29%2C%0A%20%20%20%20%20%20%20%20%20%20%20%20%20%20%20%20%7D%0A%20%20%20%20%20%20%20%20%20%20%20%20%29.addTo%28map_9d53df53d1ea47e29de380846dff4abd%29%3B%0A%20%20%20%20%20%20%20%20%0A%20%20%20%20%0A%20%20%20%20%20%20%20%20var%20marker_a526fe31e3a9420ca2fa4c1ec3544300%20%3D%20L.marker%28%0A%20%20%20%20%20%20%20%20%20%20%20%20%5B34.422556024011094%2C%20-119.70547977067919%5D%2C%0A%20%20%20%20%20%20%20%20%20%20%20%20%7B%0A%20%20%20%20%20%20%20%20%20%20%20%20%20%20%20%20icon%3A%20new%20L.Icon.Default%28%29%2C%0A%20%20%20%20%20%20%20%20%20%20%20%20%20%20%20%20%7D%0A%20%20%20%20%20%20%20%20%20%20%20%20%29.addTo%28map_9d53df53d1ea47e29de380846dff4abd%29%3B%0A%20%20%20%20%20%20%20%20%0A%20%20%20%20%0A%20%20%20%20%20%20%20%20var%20marker_8454136cff38470e91d137ec2acd6eec%20%3D%20L.marker%28%0A%20%20%20%20%20%20%20%20%20%20%20%20%5B34.42351256268008%2C%20-119.70686720465116%5D%2C%0A%20%20%20%20%20%20%20%20%20%20%20%20%7B%0A%20%20%20%20%20%20%20%20%20%20%20%20%20%20%20%20icon%3A%20new%20L.Icon.Default%28%29%2C%0A%20%20%20%20%20%20%20%20%20%20%20%20%20%20%20%20%7D%0A%20%20%20%20%20%20%20%20%20%20%20%20%29.addTo%28map_9d53df53d1ea47e29de380846dff4abd%29%3B%0A%20%20%20%20%20%20%20%20%0A%20%20%20%20%0A%20%20%20%20%20%20%20%20var%20marker_e222f23b64ea4cf8a8fa17f4cc93b959%20%3D%20L.marker%28%0A%20%20%20%20%20%20%20%20%20%20%20%20%5B34.42142309762148%2C%20-119.70128864049911%5D%2C%0A%20%20%20%20%20%20%20%20%20%20%20%20%7B%0A%20%20%20%20%20%20%20%20%20%20%20%20%20%20%20%20icon%3A%20new%20L.Icon.Default%28%29%2C%0A%20%20%20%20%20%20%20%20%20%20%20%20%20%20%20%20%7D%0A%20%20%20%20%20%20%20%20%20%20%20%20%29.addTo%28map_9d53df53d1ea47e29de380846dff4abd%29%3B%0A%20%20%20%20%20%20%20%20%0A%20%20%20%20%0A%20%20%20%20%20%20%20%20var%20marker_73e2c4b996de467b9509101f3bb4f651%20%3D%20L.marker%28%0A%20%20%20%20%20%20%20%20%20%20%20%20%5B34.413466266608204%2C%20-119.69127817997268%5D%2C%0A%20%20%20%20%20%20%20%20%20%20%20%20%7B%0A%20%20%20%20%20%20%20%20%20%20%20%20%20%20%20%20icon%3A%20new%20L.Icon.Default%28%29%2C%0A%20%20%20%20%20%20%20%20%20%20%20%20%20%20%20%20%7D%0A%20%20%20%20%20%20%20%20%20%20%20%20%29.addTo%28map_9d53df53d1ea47e29de380846dff4abd%29%3B%0A%20%20%20%20%20%20%20%20%0A%20%20%20%20%0A%20%20%20%20%20%20%20%20var%20marker_b79b0501f4f7470e8c3aff6b5748de92%20%3D%20L.marker%28%0A%20%20%20%20%20%20%20%20%20%20%20%20%5B34.4156813070025%2C%20-119.68852132558823%5D%2C%0A%20%20%20%20%20%20%20%20%20%20%20%20%7B%0A%20%20%20%20%20%20%20%20%20%20%20%20%20%20%20%20icon%3A%20new%20L.Icon.Default%28%29%2C%0A%20%20%20%20%20%20%20%20%20%20%20%20%20%20%20%20%7D%0A%20%20%20%20%20%20%20%20%20%20%20%20%29.addTo%28map_9d53df53d1ea47e29de380846dff4abd%29%3B%0A%20%20%20%20%20%20%20%20%0A%20%20%20%20%0A%20%20%20%20%20%20%20%20var%20marker_067ea16426e045f99d4a778d6d6a2057%20%3D%20L.marker%28%0A%20%20%20%20%20%20%20%20%20%20%20%20%5B34.41548262128218%2C%20-119.69122364853851%5D%2C%0A%20%20%20%20%20%20%20%20%20%20%20%20%7B%0A%20%20%20%20%20%20%20%20%20%20%20%20%20%20%20%20icon%3A%20new%20L.Icon.Default%28%29%2C%0A%20%20%20%20%20%20%20%20%20%20%20%20%20%20%20%20%7D%0A%20%20%20%20%20%20%20%20%20%20%20%20%29.addTo%28map_9d53df53d1ea47e29de380846dff4abd%29%3B%0A%20%20%20%20%20%20%20%20%0A%20%20%20%20%0A%20%20%20%20%20%20%20%20var%20marker_51368793387a454bb59c9e3ae017b05e%20%3D%20L.marker%28%0A%20%20%20%20%20%20%20%20%20%20%20%20%5B34.42098448944579%2C%20-119.70109546935882%5D%2C%0A%20%20%20%20%20%20%20%20%20%20%20%20%7B%0A%20%20%20%20%20%20%20%20%20%20%20%20%20%20%20%20icon%3A%20new%20L.Icon.Default%28%29%2C%0A%20%20%20%20%20%20%20%20%20%20%20%20%20%20%20%20%7D%0A%20%20%20%20%20%20%20%20%20%20%20%20%29.addTo%28map_9d53df53d1ea47e29de380846dff4abd%29%3B%0A%20%20%20%20%20%20%20%20%0A%20%20%20%20%0A%20%20%20%20%20%20%20%20var%20marker_4135526021634ed48acc8ab14d6ac3fd%20%3D%20L.marker%28%0A%20%20%20%20%20%20%20%20%20%20%20%20%5B34.415270003296804%2C%20-119.6905698319878%5D%2C%0A%20%20%20%20%20%20%20%20%20%20%20%20%7B%0A%20%20%20%20%20%20%20%20%20%20%20%20%20%20%20%20icon%3A%20new%20L.Icon.Default%28%29%2C%0A%20%20%20%20%20%20%20%20%20%20%20%20%20%20%20%20%7D%0A%20%20%20%20%20%20%20%20%20%20%20%20%29.addTo%28map_9d53df53d1ea47e29de380846dff4abd%29%3B%0A%20%20%20%20%20%20%20%20%0A%20%20%20%20%0A%20%20%20%20%20%20%20%20var%20marker_4c070046464249899ae97d353c8efc40%20%3D%20L.marker%28%0A%20%20%20%20%20%20%20%20%20%20%20%20%5B34.41576609567899%2C%20-119.68865468695395%5D%2C%0A%20%20%20%20%20%20%20%20%20%20%20%20%7B%0A%20%20%20%20%20%20%20%20%20%20%20%20%20%20%20%20icon%3A%20new%20L.Icon.Default%28%29%2C%0A%20%20%20%20%20%20%20%20%20%20%20%20%20%20%20%20%7D%0A%20%20%20%20%20%20%20%20%20%20%20%20%29.addTo%28map_9d53df53d1ea47e29de380846dff4abd%29%3B%0A%20%20%20%20%20%20%20%20%0A%20%20%20%20%0A%20%20%20%20%20%20%20%20var%20marker_50e7bb9689f74d0aba8120bfab4cfdc0%20%3D%20L.marker%28%0A%20%20%20%20%20%20%20%20%20%20%20%20%5B34.41504027935458%2C%20-119.69237613998914%5D%2C%0A%20%20%20%20%20%20%20%20%20%20%20%20%7B%0A%20%20%20%20%20%20%20%20%20%20%20%20%20%20%20%20icon%3A%20new%20L.Icon.Default%28%29%2C%0A%20%20%20%20%20%20%20%20%20%20%20%20%20%20%20%20%7D%0A%20%20%20%20%20%20%20%20%20%20%20%20%29.addTo%28map_9d53df53d1ea47e29de380846dff4abd%29%3B%0A%20%20%20%20%20%20%20%20%0A%20%20%20%20%0A%20%20%20%20%20%20%20%20var%20marker_001e33490d814271a65387413a21a2d2%20%3D%20L.marker%28%0A%20%20%20%20%20%20%20%20%20%20%20%20%5B34.4229128%2C%20-119.7043234%5D%2C%0A%20%20%20%20%20%20%20%20%20%20%20%20%7B%0A%20%20%20%20%20%20%20%20%20%20%20%20%20%20%20%20icon%3A%20new%20L.Icon.Default%28%29%2C%0A%20%20%20%20%20%20%20%20%20%20%20%20%20%20%20%20%7D%0A%20%20%20%20%20%20%20%20%20%20%20%20%29.addTo%28map_9d53df53d1ea47e29de380846dff4abd%29%3B%0A%20%20%20%20%20%20%20%20%0A%20%20%20%20%0A%20%20%20%20%20%20%20%20var%20marker_5ee7e9022ab4497b9131452a288dd976%20%3D%20L.marker%28%0A%20%20%20%20%20%20%20%20%20%20%20%20%5B34.413266%2C%20-119.68997%5D%2C%0A%20%20%20%20%20%20%20%20%20%20%20%20%7B%0A%20%20%20%20%20%20%20%20%20%20%20%20%20%20%20%20icon%3A%20new%20L.Icon.Default%28%29%2C%0A%20%20%20%20%20%20%20%20%20%20%20%20%20%20%20%20%7D%0A%20%20%20%20%20%20%20%20%20%20%20%20%29.addTo%28map_9d53df53d1ea47e29de380846dff4abd%29%3B%0A%20%20%20%20%20%20%20%20%0A%20%20%20%20%0A%20%20%20%20%20%20%20%20var%20marker_0ead736de229454685215fda59fc9a7a%20%3D%20L.marker%28%0A%20%20%20%20%20%20%20%20%20%20%20%20%5B34.419601%2C%20-119.699107%5D%2C%0A%20%20%20%20%20%20%20%20%20%20%20%20%7B%0A%20%20%20%20%20%20%20%20%20%20%20%20%20%20%20%20icon%3A%20new%20L.Icon.Default%28%29%2C%0A%20%20%20%20%20%20%20%20%20%20%20%20%20%20%20%20%7D%0A%20%20%20%20%20%20%20%20%20%20%20%20%29.addTo%28map_9d53df53d1ea47e29de380846dff4abd%29%3B%0A%20%20%20%20%20%20%20%20%0A%20%20%20%20%0A%20%20%20%20%20%20%20%20var%20marker_29478c3681fd41df988e38a84f0bf8e8%20%3D%20L.marker%28%0A%20%20%20%20%20%20%20%20%20%20%20%20%5B34.4234918336315%2C%20-119.7069088882291%5D%2C%0A%20%20%20%20%20%20%20%20%20%20%20%20%7B%0A%20%20%20%20%20%20%20%20%20%20%20%20%20%20%20%20icon%3A%20new%20L.Icon.Default%28%29%2C%0A%20%20%20%20%20%20%20%20%20%20%20%20%20%20%20%20%7D%0A%20%20%20%20%20%20%20%20%20%20%20%20%29.addTo%28map_9d53df53d1ea47e29de380846dff4abd%29%3B%0A%20%20%20%20%20%20%20%20%0A%20%20%20%20%0A%20%20%20%20%20%20%20%20var%20marker_5b144e0231034015af5f7126517dd6cb%20%3D%20L.marker%28%0A%20%20%20%20%20%20%20%20%20%20%20%20%5B34.42368617644202%2C%20-119.70566274913207%5D%2C%0A%20%20%20%20%20%20%20%20%20%20%20%20%7B%0A%20%20%20%20%20%20%20%20%20%20%20%20%20%20%20%20icon%3A%20new%20L.Icon.Default%28%29%2C%0A%20%20%20%20%20%20%20%20%20%20%20%20%20%20%20%20%7D%0A%20%20%20%20%20%20%20%20%20%20%20%20%29.addTo%28map_9d53df53d1ea47e29de380846dff4abd%29%3B%0A%20%20%20%20%20%20%20%20%0A%20%20%20%20%0A%20%20%20%20%20%20%20%20var%20marker_5be9a3b2a3974e89b9a1e790387e8a33%20%3D%20L.marker%28%0A%20%20%20%20%20%20%20%20%20%20%20%20%5B34.42732473746666%2C%20-119.70435626763394%5D%2C%0A%20%20%20%20%20%20%20%20%20%20%20%20%7B%0A%20%20%20%20%20%20%20%20%20%20%20%20%20%20%20%20icon%3A%20new%20L.Icon.Default%28%29%2C%0A%20%20%20%20%20%20%20%20%20%20%20%20%20%20%20%20%7D%0A%20%20%20%20%20%20%20%20%20%20%20%20%29.addTo%28map_9d53df53d1ea47e29de380846dff4abd%29%3B%0A%20%20%20%20%20%20%20%20%0A%20%20%20%20%0A%20%20%20%20%20%20%20%20var%20marker_70165e6cb3d5452d9aa086b403aa1a15%20%3D%20L.marker%28%0A%20%20%20%20%20%20%20%20%20%20%20%20%5B34.417089744661055%2C%20-119.69621467230976%5D%2C%0A%20%20%20%20%20%20%20%20%20%20%20%20%7B%0A%20%20%20%20%20%20%20%20%20%20%20%20%20%20%20%20icon%3A%20new%20L.Icon.Default%28%29%2C%0A%20%20%20%20%20%20%20%20%20%20%20%20%20%20%20%20%7D%0A%20%20%20%20%20%20%20%20%20%20%20%20%29.addTo%28map_9d53df53d1ea47e29de380846dff4abd%29%3B%0A%20%20%20%20%20%20%20%20%0A%20%20%20%20%0A%20%20%20%20%20%20%20%20var%20marker_6c2b3dea991e46028d37d18b55a929bd%20%3D%20L.marker%28%0A%20%20%20%20%20%20%20%20%20%20%20%20%5B34.414220641905224%2C%20-119.68849713544564%5D%2C%0A%20%20%20%20%20%20%20%20%20%20%20%20%7B%0A%20%20%20%20%20%20%20%20%20%20%20%20%20%20%20%20icon%3A%20new%20L.Icon.Default%28%29%2C%0A%20%20%20%20%20%20%20%20%20%20%20%20%20%20%20%20%7D%0A%20%20%20%20%20%20%20%20%20%20%20%20%29.addTo%28map_9d53df53d1ea47e29de380846dff4abd%29%3B%0A%20%20%20%20%20%20%20%20%0A%20%20%20%20%0A%20%20%20%20%20%20%20%20var%20marker_b8465b536ffe4d0d9f5c3f04ba95dbfa%20%3D%20L.marker%28%0A%20%20%20%20%20%20%20%20%20%20%20%20%5B34.413653333004774%2C%20-119.69160528598024%5D%2C%0A%20%20%20%20%20%20%20%20%20%20%20%20%7B%0A%20%20%20%20%20%20%20%20%20%20%20%20%20%20%20%20icon%3A%20new%20L.Icon.Default%28%29%2C%0A%20%20%20%20%20%20%20%20%20%20%20%20%20%20%20%20%7D%0A%20%20%20%20%20%20%20%20%20%20%20%20%29.addTo%28map_9d53df53d1ea47e29de380846dff4abd%29%3B%0A%20%20%20%20%20%20%20%20%0A%20%20%20%20%0A%20%20%20%20%20%20%20%20var%20marker_dc645afec1dd4b60a4332724558005b4%20%3D%20L.marker%28%0A%20%20%20%20%20%20%20%20%20%20%20%20%5B34.417336%2C%20-119.695984%5D%2C%0A%20%20%20%20%20%20%20%20%20%20%20%20%7B%0A%20%20%20%20%20%20%20%20%20%20%20%20%20%20%20%20icon%3A%20new%20L.Icon.Default%28%29%2C%0A%20%20%20%20%20%20%20%20%20%20%20%20%20%20%20%20%7D%0A%20%20%20%20%20%20%20%20%20%20%20%20%29.addTo%28map_9d53df53d1ea47e29de380846dff4abd%29%3B%0A%20%20%20%20%20%20%20%20%0A%20%20%20%20%0A%20%20%20%20%20%20%20%20var%20marker_b8a548c568554fb8bfd92e397ab5f8ee%20%3D%20L.marker%28%0A%20%20%20%20%20%20%20%20%20%20%20%20%5B34.42412912074362%2C%20-119.70475291968502%5D%2C%0A%20%20%20%20%20%20%20%20%20%20%20%20%7B%0A%20%20%20%20%20%20%20%20%20%20%20%20%20%20%20%20icon%3A%20new%20L.Icon.Default%28%29%2C%0A%20%20%20%20%20%20%20%20%20%20%20%20%20%20%20%20%7D%0A%20%20%20%20%20%20%20%20%20%20%20%20%29.addTo%28map_9d53df53d1ea47e29de380846dff4abd%29%3B%0A%20%20%20%20%20%20%20%20%0A%20%20%20%20%0A%20%20%20%20%20%20%20%20var%20marker_4eecb3d0dee6434196811a49bd0132de%20%3D%20L.marker%28%0A%20%20%20%20%20%20%20%20%20%20%20%20%5B34.41862392894659%2C%20-119.69960948371367%5D%2C%0A%20%20%20%20%20%20%20%20%20%20%20%20%7B%0A%20%20%20%20%20%20%20%20%20%20%20%20%20%20%20%20icon%3A%20new%20L.Icon.Default%28%29%2C%0A%20%20%20%20%20%20%20%20%20%20%20%20%20%20%20%20%7D%0A%20%20%20%20%20%20%20%20%20%20%20%20%29.addTo%28map_9d53df53d1ea47e29de380846dff4abd%29%3B%0A%20%20%20%20%20%20%20%20%0A%20%20%20%20%0A%20%20%20%20%20%20%20%20var%20marker_2fe55cd1ddc449d894547836907fd951%20%3D%20L.marker%28%0A%20%20%20%20%20%20%20%20%20%20%20%20%5B34.424824824211356%2C%20-119.70672403267399%5D%2C%0A%20%20%20%20%20%20%20%20%20%20%20%20%7B%0A%20%20%20%20%20%20%20%20%20%20%20%20%20%20%20%20icon%3A%20new%20L.Icon.Default%28%29%2C%0A%20%20%20%20%20%20%20%20%20%20%20%20%20%20%20%20%7D%0A%20%20%20%20%20%20%20%20%20%20%20%20%29.addTo%28map_9d53df53d1ea47e29de380846dff4abd%29%3B%0A%20%20%20%20%20%20%20%20%0A%20%20%20%20%0A%20%20%20%20%20%20%20%20var%20marker_bdfbe996a32d4c68b6994a71a291188d%20%3D%20L.marker%28%0A%20%20%20%20%20%20%20%20%20%20%20%20%5B34.41340650574514%2C%20-119.69076291920608%5D%2C%0A%20%20%20%20%20%20%20%20%20%20%20%20%7B%0A%20%20%20%20%20%20%20%20%20%20%20%20%20%20%20%20icon%3A%20new%20L.Icon.Default%28%29%2C%0A%20%20%20%20%20%20%20%20%20%20%20%20%20%20%20%20%7D%0A%20%20%20%20%20%20%20%20%20%20%20%20%29.addTo%28map_9d53df53d1ea47e29de380846dff4abd%29%3B%0A%20%20%20%20%20%20%20%20%0A%20%20%20%20%0A%20%20%20%20%20%20%20%20var%20marker_58d4f6ba9c894bba97727a95714d5567%20%3D%20L.marker%28%0A%20%20%20%20%20%20%20%20%20%20%20%20%5B34.4171703485564%2C%20-119.69579939484392%5D%2C%0A%20%20%20%20%20%20%20%20%20%20%20%20%7B%0A%20%20%20%20%20%20%20%20%20%20%20%20%20%20%20%20icon%3A%20new%20L.Icon.Default%28%29%2C%0A%20%20%20%20%20%20%20%20%20%20%20%20%20%20%20%20%7D%0A%20%20%20%20%20%20%20%20%20%20%20%20%29.addTo%28map_9d53df53d1ea47e29de380846dff4abd%29%3B%0A%20%20%20%20%20%20%20%20%0A%20%20%20%20%0A%20%20%20%20%20%20%20%20var%20marker_cf1117b8c8fb4c439acbb9227a3dd5ed%20%3D%20L.marker%28%0A%20%20%20%20%20%20%20%20%20%20%20%20%5B34.42264412392479%2C%20-119.68802474748891%5D%2C%0A%20%20%20%20%20%20%20%20%20%20%20%20%7B%0A%20%20%20%20%20%20%20%20%20%20%20%20%20%20%20%20icon%3A%20new%20L.Icon.Default%28%29%2C%0A%20%20%20%20%20%20%20%20%20%20%20%20%20%20%20%20%7D%0A%20%20%20%20%20%20%20%20%20%20%20%20%29.addTo%28map_9d53df53d1ea47e29de380846dff4abd%29%3B%0A%20%20%20%20%20%20%20%20%0A%20%20%20%20%0A%20%20%20%20%20%20%20%20var%20marker_26349d08de254e39adff4daf1eb7b83a%20%3D%20L.marker%28%0A%20%20%20%20%20%20%20%20%20%20%20%20%5B34.41398868004491%2C%20-119.68879998117046%5D%2C%0A%20%20%20%20%20%20%20%20%20%20%20%20%7B%0A%20%20%20%20%20%20%20%20%20%20%20%20%20%20%20%20icon%3A%20new%20L.Icon.Default%28%29%2C%0A%20%20%20%20%20%20%20%20%20%20%20%20%20%20%20%20%7D%0A%20%20%20%20%20%20%20%20%20%20%20%20%29.addTo%28map_9d53df53d1ea47e29de380846dff4abd%29%3B%0A%20%20%20%20%20%20%20%20%0A%20%20%20%20%0A%20%20%20%20%20%20%20%20var%20marker_3f459264b8bb4da4bf28c3b69ccffd17%20%3D%20L.marker%28%0A%20%20%20%20%20%20%20%20%20%20%20%20%5B34.42353197754041%2C%20-119.70691528593896%5D%2C%0A%20%20%20%20%20%20%20%20%20%20%20%20%7B%0A%20%20%20%20%20%20%20%20%20%20%20%20%20%20%20%20icon%3A%20new%20L.Icon.Default%28%29%2C%0A%20%20%20%20%20%20%20%20%20%20%20%20%20%20%20%20%7D%0A%20%20%20%20%20%20%20%20%20%20%20%20%29.addTo%28map_9d53df53d1ea47e29de380846dff4abd%29%3B%0A%20%20%20%20%20%20%20%20%0A%20%20%20%20%0A%20%20%20%20%20%20%20%20var%20marker_fd210c34795645c5947840a6e0d575df%20%3D%20L.marker%28%0A%20%20%20%20%20%20%20%20%20%20%20%20%5B34.42350097007086%2C%20-119.70693963846077%5D%2C%0A%20%20%20%20%20%20%20%20%20%20%20%20%7B%0A%20%20%20%20%20%20%20%20%20%20%20%20%20%20%20%20icon%3A%20new%20L.Icon.Default%28%29%2C%0A%20%20%20%20%20%20%20%20%20%20%20%20%20%20%20%20%7D%0A%20%20%20%20%20%20%20%20%20%20%20%20%29.addTo%28map_9d53df53d1ea47e29de380846dff4abd%29%3B%0A%20%20%20%20%20%20%20%20%0A%20%20%20%20%0A%20%20%20%20%20%20%20%20var%20marker_6ebf496043b6408883ed3b4dab63fae7%20%3D%20L.marker%28%0A%20%20%20%20%20%20%20%20%20%20%20%20%5B34.41812701526781%2C%20-119.69851592207291%5D%2C%0A%20%20%20%20%20%20%20%20%20%20%20%20%7B%0A%20%20%20%20%20%20%20%20%20%20%20%20%20%20%20%20icon%3A%20new%20L.Icon.Default%28%29%2C%0A%20%20%20%20%20%20%20%20%20%20%20%20%20%20%20%20%7D%0A%20%20%20%20%20%20%20%20%20%20%20%20%29.addTo%28map_9d53df53d1ea47e29de380846dff4abd%29%3B%0A%20%20%20%20%20%20%20%20%0A%20%20%20%20%0A%20%20%20%20%20%20%20%20var%20marker_b86e74049a734e4081e635e23910f4b5%20%3D%20L.marker%28%0A%20%20%20%20%20%20%20%20%20%20%20%20%5B34.425677750367974%2C%20-119.70534908396829%5D%2C%0A%20%20%20%20%20%20%20%20%20%20%20%20%7B%0A%20%20%20%20%20%20%20%20%20%20%20%20%20%20%20%20icon%3A%20new%20L.Icon.Default%28%29%2C%0A%20%20%20%20%20%20%20%20%20%20%20%20%20%20%20%20%7D%0A%20%20%20%20%20%20%20%20%20%20%20%20%29.addTo%28map_9d53df53d1ea47e29de380846dff4abd%29%3B%0A%20%20%20%20%20%20%20%20%0A%20%20%20%20%0A%20%20%20%20%20%20%20%20var%20marker_8c9b1e480791437fb837f8c6d54cf34b%20%3D%20L.marker%28%0A%20%20%20%20%20%20%20%20%20%20%20%20%5B34.423530361762005%2C%20-119.70690778645313%5D%2C%0A%20%20%20%20%20%20%20%20%20%20%20%20%7B%0A%20%20%20%20%20%20%20%20%20%20%20%20%20%20%20%20icon%3A%20new%20L.Icon.Default%28%29%2C%0A%20%20%20%20%20%20%20%20%20%20%20%20%20%20%20%20%7D%0A%20%20%20%20%20%20%20%20%20%20%20%20%29.addTo%28map_9d53df53d1ea47e29de380846dff4abd%29%3B%0A%20%20%20%20%20%20%20%20%0A%20%20%20%20%0A%20%20%20%20%20%20%20%20var%20marker_9e5ebf7223a544d68ccf98f1daffdb26%20%3D%20L.marker%28%0A%20%20%20%20%20%20%20%20%20%20%20%20%5B34.42510383152652%2C%20-119.70924780568677%5D%2C%0A%20%20%20%20%20%20%20%20%20%20%20%20%7B%0A%20%20%20%20%20%20%20%20%20%20%20%20%20%20%20%20icon%3A%20new%20L.Icon.Default%28%29%2C%0A%20%20%20%20%20%20%20%20%20%20%20%20%20%20%20%20%7D%0A%20%20%20%20%20%20%20%20%20%20%20%20%29.addTo%28map_9d53df53d1ea47e29de380846dff4abd%29%3B%0A%20%20%20%20%20%20%20%20%0A%3C/script%3E onload=\"this.contentDocument.open();this.contentDocument.write(    decodeURIComponent(this.getAttribute('data-html')));this.contentDocument.close();\" allowfullscreen webkitallowfullscreen mozallowfullscreen></iframe></div></div>"
            ],
            "text/plain": [
              "<folium.folium.Map at 0x7f07ad2c4f10>"
            ]
          },
          "metadata": {
            "tags": []
          },
          "execution_count": 83
        }
      ]
    },
    {
      "cell_type": "markdown",
      "metadata": {
        "id": "W9Gh_PPunNg1"
      },
      "source": [
        "#### Washington DC"
      ]
    },
    {
      "cell_type": "code",
      "metadata": {
        "colab": {
          "base_uri": "https://localhost:8080/",
          "height": 0
        },
        "id": "3GFTGD2dmr-C",
        "outputId": "57227c1d-2908-440e-d832-007ae76346f2"
      },
      "source": [
        "dc_map = folium.Map(location=[38.8716329, -77.005766], zoom_start=15)\r\n",
        "dc_points = dc_venues[['lat', 'lng']]\r\n",
        "\r\n",
        "dc = dc_points.values.tolist()\r\n",
        "for point in range(0, len(dc)):\r\n",
        "  folium.Marker(dc[point]).add_to(dc_map)\r\n",
        "dc_map"
      ],
      "execution_count": 84,
      "outputs": [
        {
          "output_type": "execute_result",
          "data": {
            "text/html": [
              "<div style=\"width:100%;\"><div style=\"position:relative;width:100%;height:0;padding-bottom:60%;\"><span style=\"color:#565656\">Make this Notebook Trusted to load map: File -> Trust Notebook</span><iframe src=\"about:blank\" style=\"position:absolute;width:100%;height:100%;left:0;top:0;border:none !important;\" data-html=%3C%21DOCTYPE%20html%3E%0A%3Chead%3E%20%20%20%20%0A%20%20%20%20%3Cmeta%20http-equiv%3D%22content-type%22%20content%3D%22text/html%3B%20charset%3DUTF-8%22%20/%3E%0A%20%20%20%20%3Cscript%3EL_PREFER_CANVAS%3Dfalse%3B%20L_NO_TOUCH%3Dfalse%3B%20L_DISABLE_3D%3Dfalse%3B%3C/script%3E%0A%20%20%20%20%3Cscript%20src%3D%22https%3A//cdn.jsdelivr.net/npm/leaflet%401.4.0/dist/leaflet.js%22%3E%3C/script%3E%0A%20%20%20%20%3Cscript%20src%3D%22https%3A//code.jquery.com/jquery-1.12.4.min.js%22%3E%3C/script%3E%0A%20%20%20%20%3Cscript%20src%3D%22https%3A//maxcdn.bootstrapcdn.com/bootstrap/3.2.0/js/bootstrap.min.js%22%3E%3C/script%3E%0A%20%20%20%20%3Cscript%20src%3D%22https%3A//cdnjs.cloudflare.com/ajax/libs/Leaflet.awesome-markers/2.0.2/leaflet.awesome-markers.js%22%3E%3C/script%3E%0A%20%20%20%20%3Clink%20rel%3D%22stylesheet%22%20href%3D%22https%3A//cdn.jsdelivr.net/npm/leaflet%401.4.0/dist/leaflet.css%22/%3E%0A%20%20%20%20%3Clink%20rel%3D%22stylesheet%22%20href%3D%22https%3A//maxcdn.bootstrapcdn.com/bootstrap/3.2.0/css/bootstrap.min.css%22/%3E%0A%20%20%20%20%3Clink%20rel%3D%22stylesheet%22%20href%3D%22https%3A//maxcdn.bootstrapcdn.com/bootstrap/3.2.0/css/bootstrap-theme.min.css%22/%3E%0A%20%20%20%20%3Clink%20rel%3D%22stylesheet%22%20href%3D%22https%3A//maxcdn.bootstrapcdn.com/font-awesome/4.6.3/css/font-awesome.min.css%22/%3E%0A%20%20%20%20%3Clink%20rel%3D%22stylesheet%22%20href%3D%22https%3A//cdnjs.cloudflare.com/ajax/libs/Leaflet.awesome-markers/2.0.2/leaflet.awesome-markers.css%22/%3E%0A%20%20%20%20%3Clink%20rel%3D%22stylesheet%22%20href%3D%22https%3A//rawcdn.githack.com/python-visualization/folium/master/folium/templates/leaflet.awesome.rotate.css%22/%3E%0A%20%20%20%20%3Cstyle%3Ehtml%2C%20body%20%7Bwidth%3A%20100%25%3Bheight%3A%20100%25%3Bmargin%3A%200%3Bpadding%3A%200%3B%7D%3C/style%3E%0A%20%20%20%20%3Cstyle%3E%23map%20%7Bposition%3Aabsolute%3Btop%3A0%3Bbottom%3A0%3Bright%3A0%3Bleft%3A0%3B%7D%3C/style%3E%0A%20%20%20%20%0A%20%20%20%20%3Cmeta%20name%3D%22viewport%22%20content%3D%22width%3Ddevice-width%2C%0A%20%20%20%20%20%20%20%20initial-scale%3D1.0%2C%20maximum-scale%3D1.0%2C%20user-scalable%3Dno%22%20/%3E%0A%20%20%20%20%3Cstyle%3E%23map_aaa704ed917d43e2bfff5c00caa5ca37%20%7B%0A%20%20%20%20%20%20%20%20position%3A%20relative%3B%0A%20%20%20%20%20%20%20%20width%3A%20100.0%25%3B%0A%20%20%20%20%20%20%20%20height%3A%20100.0%25%3B%0A%20%20%20%20%20%20%20%20left%3A%200.0%25%3B%0A%20%20%20%20%20%20%20%20top%3A%200.0%25%3B%0A%20%20%20%20%20%20%20%20%7D%0A%20%20%20%20%3C/style%3E%0A%3C/head%3E%0A%3Cbody%3E%20%20%20%20%0A%20%20%20%20%0A%20%20%20%20%3Cdiv%20class%3D%22folium-map%22%20id%3D%22map_aaa704ed917d43e2bfff5c00caa5ca37%22%20%3E%3C/div%3E%0A%3C/body%3E%0A%3Cscript%3E%20%20%20%20%0A%20%20%20%20%0A%20%20%20%20%0A%20%20%20%20%20%20%20%20var%20bounds%20%3D%20null%3B%0A%20%20%20%20%0A%0A%20%20%20%20var%20map_aaa704ed917d43e2bfff5c00caa5ca37%20%3D%20L.map%28%0A%20%20%20%20%20%20%20%20%27map_aaa704ed917d43e2bfff5c00caa5ca37%27%2C%20%7B%0A%20%20%20%20%20%20%20%20center%3A%20%5B38.8716329%2C%20-77.005766%5D%2C%0A%20%20%20%20%20%20%20%20zoom%3A%2015%2C%0A%20%20%20%20%20%20%20%20maxBounds%3A%20bounds%2C%0A%20%20%20%20%20%20%20%20layers%3A%20%5B%5D%2C%0A%20%20%20%20%20%20%20%20worldCopyJump%3A%20false%2C%0A%20%20%20%20%20%20%20%20crs%3A%20L.CRS.EPSG3857%2C%0A%20%20%20%20%20%20%20%20zoomControl%3A%20true%2C%0A%20%20%20%20%20%20%20%20%7D%29%3B%0A%0A%0A%20%20%20%20%0A%20%20%20%20var%20tile_layer_4c837396d4984df2be852fc9b3cf3b27%20%3D%20L.tileLayer%28%0A%20%20%20%20%20%20%20%20%27https%3A//%7Bs%7D.tile.openstreetmap.org/%7Bz%7D/%7Bx%7D/%7By%7D.png%27%2C%0A%20%20%20%20%20%20%20%20%7B%0A%20%20%20%20%20%20%20%20%22attribution%22%3A%20null%2C%0A%20%20%20%20%20%20%20%20%22detectRetina%22%3A%20false%2C%0A%20%20%20%20%20%20%20%20%22maxNativeZoom%22%3A%2018%2C%0A%20%20%20%20%20%20%20%20%22maxZoom%22%3A%2018%2C%0A%20%20%20%20%20%20%20%20%22minZoom%22%3A%200%2C%0A%20%20%20%20%20%20%20%20%22noWrap%22%3A%20false%2C%0A%20%20%20%20%20%20%20%20%22opacity%22%3A%201%2C%0A%20%20%20%20%20%20%20%20%22subdomains%22%3A%20%22abc%22%2C%0A%20%20%20%20%20%20%20%20%22tms%22%3A%20false%0A%7D%29.addTo%28map_aaa704ed917d43e2bfff5c00caa5ca37%29%3B%0A%20%20%20%20%0A%20%20%20%20%20%20%20%20var%20marker_e6d860f7e7be4f3cbb75dea89c766577%20%3D%20L.marker%28%0A%20%20%20%20%20%20%20%20%20%20%20%20%5B38.87307655791501%2C%20-77.00168788433075%5D%2C%0A%20%20%20%20%20%20%20%20%20%20%20%20%7B%0A%20%20%20%20%20%20%20%20%20%20%20%20%20%20%20%20icon%3A%20new%20L.Icon.Default%28%29%2C%0A%20%20%20%20%20%20%20%20%20%20%20%20%20%20%20%20%7D%0A%20%20%20%20%20%20%20%20%20%20%20%20%29.addTo%28map_aaa704ed917d43e2bfff5c00caa5ca37%29%3B%0A%20%20%20%20%20%20%20%20%0A%20%20%20%20%0A%20%20%20%20%20%20%20%20var%20marker_6e9bbad4a0c7494fbb5be25bace5f824%20%3D%20L.marker%28%0A%20%20%20%20%20%20%20%20%20%20%20%20%5B38.873261463788104%2C%20-77.00967916240899%5D%2C%0A%20%20%20%20%20%20%20%20%20%20%20%20%7B%0A%20%20%20%20%20%20%20%20%20%20%20%20%20%20%20%20icon%3A%20new%20L.Icon.Default%28%29%2C%0A%20%20%20%20%20%20%20%20%20%20%20%20%20%20%20%20%7D%0A%20%20%20%20%20%20%20%20%20%20%20%20%29.addTo%28map_aaa704ed917d43e2bfff5c00caa5ca37%29%3B%0A%20%20%20%20%20%20%20%20%0A%20%20%20%20%0A%20%20%20%20%20%20%20%20var%20marker_3c1baeb227764066b6fcbef265783e69%20%3D%20L.marker%28%0A%20%20%20%20%20%20%20%20%20%20%20%20%5B38.87100512234256%2C%20-77.00655596830606%5D%2C%0A%20%20%20%20%20%20%20%20%20%20%20%20%7B%0A%20%20%20%20%20%20%20%20%20%20%20%20%20%20%20%20icon%3A%20new%20L.Icon.Default%28%29%2C%0A%20%20%20%20%20%20%20%20%20%20%20%20%20%20%20%20%7D%0A%20%20%20%20%20%20%20%20%20%20%20%20%29.addTo%28map_aaa704ed917d43e2bfff5c00caa5ca37%29%3B%0A%20%20%20%20%20%20%20%20%0A%20%20%20%20%0A%20%20%20%20%20%20%20%20var%20marker_d164fae0c21f45538655d9ef4efa46bf%20%3D%20L.marker%28%0A%20%20%20%20%20%20%20%20%20%20%20%20%5B38.87413039903325%2C%20-77.00691672180255%5D%2C%0A%20%20%20%20%20%20%20%20%20%20%20%20%7B%0A%20%20%20%20%20%20%20%20%20%20%20%20%20%20%20%20icon%3A%20new%20L.Icon.Default%28%29%2C%0A%20%20%20%20%20%20%20%20%20%20%20%20%20%20%20%20%7D%0A%20%20%20%20%20%20%20%20%20%20%20%20%29.addTo%28map_aaa704ed917d43e2bfff5c00caa5ca37%29%3B%0A%20%20%20%20%20%20%20%20%0A%20%20%20%20%0A%20%20%20%20%20%20%20%20var%20marker_fe17fa74a196435787c3fd2272eba1d9%20%3D%20L.marker%28%0A%20%20%20%20%20%20%20%20%20%20%20%20%5B38.87123764281815%2C%20-77.01085627616612%5D%2C%0A%20%20%20%20%20%20%20%20%20%20%20%20%7B%0A%20%20%20%20%20%20%20%20%20%20%20%20%20%20%20%20icon%3A%20new%20L.Icon.Default%28%29%2C%0A%20%20%20%20%20%20%20%20%20%20%20%20%20%20%20%20%7D%0A%20%20%20%20%20%20%20%20%20%20%20%20%29.addTo%28map_aaa704ed917d43e2bfff5c00caa5ca37%29%3B%0A%20%20%20%20%20%20%20%20%0A%20%20%20%20%0A%20%20%20%20%20%20%20%20var%20marker_b72ef6c8c45f429f838dbec51f84a19a%20%3D%20L.marker%28%0A%20%20%20%20%20%20%20%20%20%20%20%20%5B38.87557817991924%2C%20-77.00621008872986%5D%2C%0A%20%20%20%20%20%20%20%20%20%20%20%20%7B%0A%20%20%20%20%20%20%20%20%20%20%20%20%20%20%20%20icon%3A%20new%20L.Icon.Default%28%29%2C%0A%20%20%20%20%20%20%20%20%20%20%20%20%20%20%20%20%7D%0A%20%20%20%20%20%20%20%20%20%20%20%20%29.addTo%28map_aaa704ed917d43e2bfff5c00caa5ca37%29%3B%0A%20%20%20%20%20%20%20%20%0A%20%20%20%20%0A%20%20%20%20%20%20%20%20var%20marker_fc468be5c92944a48c8591d1dbc85833%20%3D%20L.marker%28%0A%20%20%20%20%20%20%20%20%20%20%20%20%5B38.871205693575405%2C%20-77.00634183154543%5D%2C%0A%20%20%20%20%20%20%20%20%20%20%20%20%7B%0A%20%20%20%20%20%20%20%20%20%20%20%20%20%20%20%20icon%3A%20new%20L.Icon.Default%28%29%2C%0A%20%20%20%20%20%20%20%20%20%20%20%20%20%20%20%20%7D%0A%20%20%20%20%20%20%20%20%20%20%20%20%29.addTo%28map_aaa704ed917d43e2bfff5c00caa5ca37%29%3B%0A%20%20%20%20%20%20%20%20%0A%20%20%20%20%0A%20%20%20%20%20%20%20%20var%20marker_319bea8f0bc046c4a261478e366c01cb%20%3D%20L.marker%28%0A%20%20%20%20%20%20%20%20%20%20%20%20%5B38.87431363224861%2C%20-77.00088027361069%5D%2C%0A%20%20%20%20%20%20%20%20%20%20%20%20%7B%0A%20%20%20%20%20%20%20%20%20%20%20%20%20%20%20%20icon%3A%20new%20L.Icon.Default%28%29%2C%0A%20%20%20%20%20%20%20%20%20%20%20%20%20%20%20%20%7D%0A%20%20%20%20%20%20%20%20%20%20%20%20%29.addTo%28map_aaa704ed917d43e2bfff5c00caa5ca37%29%3B%0A%20%20%20%20%20%20%20%20%0A%20%20%20%20%0A%20%20%20%20%20%20%20%20var%20marker_67eea93779194ae395836d5fa8c62428%20%3D%20L.marker%28%0A%20%20%20%20%20%20%20%20%20%20%20%20%5B38.873468%2C%20-77.001579%5D%2C%0A%20%20%20%20%20%20%20%20%20%20%20%20%7B%0A%20%20%20%20%20%20%20%20%20%20%20%20%20%20%20%20icon%3A%20new%20L.Icon.Default%28%29%2C%0A%20%20%20%20%20%20%20%20%20%20%20%20%20%20%20%20%7D%0A%20%20%20%20%20%20%20%20%20%20%20%20%29.addTo%28map_aaa704ed917d43e2bfff5c00caa5ca37%29%3B%0A%20%20%20%20%20%20%20%20%0A%20%20%20%20%0A%20%20%20%20%20%20%20%20var%20marker_a9859d70c7284796a1487c97bd19b5cc%20%3D%20L.marker%28%0A%20%20%20%20%20%20%20%20%20%20%20%20%5B38.87363702503492%2C%20-77.00691361064956%5D%2C%0A%20%20%20%20%20%20%20%20%20%20%20%20%7B%0A%20%20%20%20%20%20%20%20%20%20%20%20%20%20%20%20icon%3A%20new%20L.Icon.Default%28%29%2C%0A%20%20%20%20%20%20%20%20%20%20%20%20%20%20%20%20%7D%0A%20%20%20%20%20%20%20%20%20%20%20%20%29.addTo%28map_aaa704ed917d43e2bfff5c00caa5ca37%29%3B%0A%20%20%20%20%20%20%20%20%0A%20%20%20%20%0A%20%20%20%20%20%20%20%20var%20marker_c313648b1cb143cc9e78ef03b4e79a11%20%3D%20L.marker%28%0A%20%20%20%20%20%20%20%20%20%20%20%20%5B38.873606959251205%2C%20-77.00148940086365%5D%2C%0A%20%20%20%20%20%20%20%20%20%20%20%20%7B%0A%20%20%20%20%20%20%20%20%20%20%20%20%20%20%20%20icon%3A%20new%20L.Icon.Default%28%29%2C%0A%20%20%20%20%20%20%20%20%20%20%20%20%20%20%20%20%7D%0A%20%20%20%20%20%20%20%20%20%20%20%20%29.addTo%28map_aaa704ed917d43e2bfff5c00caa5ca37%29%3B%0A%20%20%20%20%20%20%20%20%0A%20%20%20%20%0A%20%20%20%20%20%20%20%20var%20marker_db2de4fa04474088b01054a93e6cb36f%20%3D%20L.marker%28%0A%20%20%20%20%20%20%20%20%20%20%20%20%5B38.87657647622877%2C%20-77.00488503296945%5D%2C%0A%20%20%20%20%20%20%20%20%20%20%20%20%7B%0A%20%20%20%20%20%20%20%20%20%20%20%20%20%20%20%20icon%3A%20new%20L.Icon.Default%28%29%2C%0A%20%20%20%20%20%20%20%20%20%20%20%20%20%20%20%20%7D%0A%20%20%20%20%20%20%20%20%20%20%20%20%29.addTo%28map_aaa704ed917d43e2bfff5c00caa5ca37%29%3B%0A%20%20%20%20%20%20%20%20%0A%20%20%20%20%0A%20%20%20%20%20%20%20%20var%20marker_7c90c37e4a244d4bb24993c03c14649b%20%3D%20L.marker%28%0A%20%20%20%20%20%20%20%20%20%20%20%20%5B38.87516890554908%2C%20-77.00077325105667%5D%2C%0A%20%20%20%20%20%20%20%20%20%20%20%20%7B%0A%20%20%20%20%20%20%20%20%20%20%20%20%20%20%20%20icon%3A%20new%20L.Icon.Default%28%29%2C%0A%20%20%20%20%20%20%20%20%20%20%20%20%20%20%20%20%7D%0A%20%20%20%20%20%20%20%20%20%20%20%20%29.addTo%28map_aaa704ed917d43e2bfff5c00caa5ca37%29%3B%0A%20%20%20%20%20%20%20%20%0A%20%20%20%20%0A%20%20%20%20%20%20%20%20var%20marker_1318902a1abb42a192bbf93c3dd5da15%20%3D%20L.marker%28%0A%20%20%20%20%20%20%20%20%20%20%20%20%5B38.87498972308532%2C%20-77.0002377005753%5D%2C%0A%20%20%20%20%20%20%20%20%20%20%20%20%7B%0A%20%20%20%20%20%20%20%20%20%20%20%20%20%20%20%20icon%3A%20new%20L.Icon.Default%28%29%2C%0A%20%20%20%20%20%20%20%20%20%20%20%20%20%20%20%20%7D%0A%20%20%20%20%20%20%20%20%20%20%20%20%29.addTo%28map_aaa704ed917d43e2bfff5c00caa5ca37%29%3B%0A%20%20%20%20%20%20%20%20%0A%20%20%20%20%0A%20%20%20%20%20%20%20%20var%20marker_ed65b0f42b4f4609a1b065f7a3d56695%20%3D%20L.marker%28%0A%20%20%20%20%20%20%20%20%20%20%20%20%5B38.87360278287821%2C%20-77.00163424015045%5D%2C%0A%20%20%20%20%20%20%20%20%20%20%20%20%7B%0A%20%20%20%20%20%20%20%20%20%20%20%20%20%20%20%20icon%3A%20new%20L.Icon.Default%28%29%2C%0A%20%20%20%20%20%20%20%20%20%20%20%20%20%20%20%20%7D%0A%20%20%20%20%20%20%20%20%20%20%20%20%29.addTo%28map_aaa704ed917d43e2bfff5c00caa5ca37%29%3B%0A%20%20%20%20%20%20%20%20%0A%20%20%20%20%0A%20%20%20%20%20%20%20%20var%20marker_d04eed33b86548febed82fe1f80bac42%20%3D%20L.marker%28%0A%20%20%20%20%20%20%20%20%20%20%20%20%5B38.876641%2C%20-77.007192%5D%2C%0A%20%20%20%20%20%20%20%20%20%20%20%20%7B%0A%20%20%20%20%20%20%20%20%20%20%20%20%20%20%20%20icon%3A%20new%20L.Icon.Default%28%29%2C%0A%20%20%20%20%20%20%20%20%20%20%20%20%20%20%20%20%7D%0A%20%20%20%20%20%20%20%20%20%20%20%20%29.addTo%28map_aaa704ed917d43e2bfff5c00caa5ca37%29%3B%0A%20%20%20%20%20%20%20%20%0A%20%20%20%20%0A%20%20%20%20%20%20%20%20var%20marker_0b908262ef7f45aebab4208b8965d76a%20%3D%20L.marker%28%0A%20%20%20%20%20%20%20%20%20%20%20%20%5B38.8743105%2C%20-77.0009366%5D%2C%0A%20%20%20%20%20%20%20%20%20%20%20%20%7B%0A%20%20%20%20%20%20%20%20%20%20%20%20%20%20%20%20icon%3A%20new%20L.Icon.Default%28%29%2C%0A%20%20%20%20%20%20%20%20%20%20%20%20%20%20%20%20%7D%0A%20%20%20%20%20%20%20%20%20%20%20%20%29.addTo%28map_aaa704ed917d43e2bfff5c00caa5ca37%29%3B%0A%20%20%20%20%20%20%20%20%0A%20%20%20%20%0A%20%20%20%20%20%20%20%20var%20marker_8da0f8f05a41417a91ed5d1f26443d1a%20%3D%20L.marker%28%0A%20%20%20%20%20%20%20%20%20%20%20%20%5B38.87346736491293%2C%20-77.00078981910637%5D%2C%0A%20%20%20%20%20%20%20%20%20%20%20%20%7B%0A%20%20%20%20%20%20%20%20%20%20%20%20%20%20%20%20icon%3A%20new%20L.Icon.Default%28%29%2C%0A%20%20%20%20%20%20%20%20%20%20%20%20%20%20%20%20%7D%0A%20%20%20%20%20%20%20%20%20%20%20%20%29.addTo%28map_aaa704ed917d43e2bfff5c00caa5ca37%29%3B%0A%20%20%20%20%20%20%20%20%0A%20%20%20%20%0A%20%20%20%20%20%20%20%20var%20marker_ed63bbdd627e4450bd4377bdc0842f13%20%3D%20L.marker%28%0A%20%20%20%20%20%20%20%20%20%20%20%20%5B38.87479846846213%2C%20-77.00868576765059%5D%2C%0A%20%20%20%20%20%20%20%20%20%20%20%20%7B%0A%20%20%20%20%20%20%20%20%20%20%20%20%20%20%20%20icon%3A%20new%20L.Icon.Default%28%29%2C%0A%20%20%20%20%20%20%20%20%20%20%20%20%20%20%20%20%7D%0A%20%20%20%20%20%20%20%20%20%20%20%20%29.addTo%28map_aaa704ed917d43e2bfff5c00caa5ca37%29%3B%0A%20%20%20%20%20%20%20%20%0A%20%20%20%20%0A%20%20%20%20%20%20%20%20var%20marker_2d0a0a954b9940478fe0378d0975c0c0%20%3D%20L.marker%28%0A%20%20%20%20%20%20%20%20%20%20%20%20%5B38.874331%2C%20-77.000912%5D%2C%0A%20%20%20%20%20%20%20%20%20%20%20%20%7B%0A%20%20%20%20%20%20%20%20%20%20%20%20%20%20%20%20icon%3A%20new%20L.Icon.Default%28%29%2C%0A%20%20%20%20%20%20%20%20%20%20%20%20%20%20%20%20%7D%0A%20%20%20%20%20%20%20%20%20%20%20%20%29.addTo%28map_aaa704ed917d43e2bfff5c00caa5ca37%29%3B%0A%20%20%20%20%20%20%20%20%0A%20%20%20%20%0A%20%20%20%20%20%20%20%20var%20marker_414ae0468c0747d59118f262d6966ea6%20%3D%20L.marker%28%0A%20%20%20%20%20%20%20%20%20%20%20%20%5B38.875113778629824%2C%20-77.00117290019988%5D%2C%0A%20%20%20%20%20%20%20%20%20%20%20%20%7B%0A%20%20%20%20%20%20%20%20%20%20%20%20%20%20%20%20icon%3A%20new%20L.Icon.Default%28%29%2C%0A%20%20%20%20%20%20%20%20%20%20%20%20%20%20%20%20%7D%0A%20%20%20%20%20%20%20%20%20%20%20%20%29.addTo%28map_aaa704ed917d43e2bfff5c00caa5ca37%29%3B%0A%20%20%20%20%20%20%20%20%0A%20%20%20%20%0A%20%20%20%20%20%20%20%20var%20marker_2863d4796cd14fe2bed266e95ed932c3%20%3D%20L.marker%28%0A%20%20%20%20%20%20%20%20%20%20%20%20%5B38.875249425907654%2C%20-77.00018637045478%5D%2C%0A%20%20%20%20%20%20%20%20%20%20%20%20%7B%0A%20%20%20%20%20%20%20%20%20%20%20%20%20%20%20%20icon%3A%20new%20L.Icon.Default%28%29%2C%0A%20%20%20%20%20%20%20%20%20%20%20%20%20%20%20%20%7D%0A%20%20%20%20%20%20%20%20%20%20%20%20%29.addTo%28map_aaa704ed917d43e2bfff5c00caa5ca37%29%3B%0A%20%20%20%20%20%20%20%20%0A%20%20%20%20%0A%20%20%20%20%20%20%20%20var%20marker_9c155a145f66469680d8e2db7b1908fe%20%3D%20L.marker%28%0A%20%20%20%20%20%20%20%20%20%20%20%20%5B38.8761512658888%2C%20-77.00595706472512%5D%2C%0A%20%20%20%20%20%20%20%20%20%20%20%20%7B%0A%20%20%20%20%20%20%20%20%20%20%20%20%20%20%20%20icon%3A%20new%20L.Icon.Default%28%29%2C%0A%20%20%20%20%20%20%20%20%20%20%20%20%20%20%20%20%7D%0A%20%20%20%20%20%20%20%20%20%20%20%20%29.addTo%28map_aaa704ed917d43e2bfff5c00caa5ca37%29%3B%0A%20%20%20%20%20%20%20%20%0A%20%20%20%20%0A%20%20%20%20%20%20%20%20var%20marker_012336f610c841c2926a8f767172c657%20%3D%20L.marker%28%0A%20%20%20%20%20%20%20%20%20%20%20%20%5B38.87790431703141%2C%20-77.00325965881348%5D%2C%0A%20%20%20%20%20%20%20%20%20%20%20%20%7B%0A%20%20%20%20%20%20%20%20%20%20%20%20%20%20%20%20icon%3A%20new%20L.Icon.Default%28%29%2C%0A%20%20%20%20%20%20%20%20%20%20%20%20%20%20%20%20%7D%0A%20%20%20%20%20%20%20%20%20%20%20%20%29.addTo%28map_aaa704ed917d43e2bfff5c00caa5ca37%29%3B%0A%20%20%20%20%20%20%20%20%0A%20%20%20%20%0A%20%20%20%20%20%20%20%20var%20marker_ad66115e383b4b7581c31352180e8a6d%20%3D%20L.marker%28%0A%20%20%20%20%20%20%20%20%20%20%20%20%5B38.8751%2C%20-77.0003223%5D%2C%0A%20%20%20%20%20%20%20%20%20%20%20%20%7B%0A%20%20%20%20%20%20%20%20%20%20%20%20%20%20%20%20icon%3A%20new%20L.Icon.Default%28%29%2C%0A%20%20%20%20%20%20%20%20%20%20%20%20%20%20%20%20%7D%0A%20%20%20%20%20%20%20%20%20%20%20%20%29.addTo%28map_aaa704ed917d43e2bfff5c00caa5ca37%29%3B%0A%20%20%20%20%20%20%20%20%0A%20%20%20%20%0A%20%20%20%20%20%20%20%20var%20marker_611f037b1b1c4006aa857906dc9ea87a%20%3D%20L.marker%28%0A%20%20%20%20%20%20%20%20%20%20%20%20%5B38.87833887482248%2C%20-77.00209968853517%5D%2C%0A%20%20%20%20%20%20%20%20%20%20%20%20%7B%0A%20%20%20%20%20%20%20%20%20%20%20%20%20%20%20%20icon%3A%20new%20L.Icon.Default%28%29%2C%0A%20%20%20%20%20%20%20%20%20%20%20%20%20%20%20%20%7D%0A%20%20%20%20%20%20%20%20%20%20%20%20%29.addTo%28map_aaa704ed917d43e2bfff5c00caa5ca37%29%3B%0A%20%20%20%20%20%20%20%20%0A%20%20%20%20%0A%20%20%20%20%20%20%20%20var%20marker_23c26e43f0b643ac98e7062a1d92b66b%20%3D%20L.marker%28%0A%20%20%20%20%20%20%20%20%20%20%20%20%5B38.87938451278179%2C%20-77.00540301120128%5D%2C%0A%20%20%20%20%20%20%20%20%20%20%20%20%7B%0A%20%20%20%20%20%20%20%20%20%20%20%20%20%20%20%20icon%3A%20new%20L.Icon.Default%28%29%2C%0A%20%20%20%20%20%20%20%20%20%20%20%20%20%20%20%20%7D%0A%20%20%20%20%20%20%20%20%20%20%20%20%29.addTo%28map_aaa704ed917d43e2bfff5c00caa5ca37%29%3B%0A%20%20%20%20%20%20%20%20%0A%20%20%20%20%0A%20%20%20%20%20%20%20%20var%20marker_5938128603824d54b2c94ef8280a3fbe%20%3D%20L.marker%28%0A%20%20%20%20%20%20%20%20%20%20%20%20%5B38.8758825%2C%20-77.0061833%5D%2C%0A%20%20%20%20%20%20%20%20%20%20%20%20%7B%0A%20%20%20%20%20%20%20%20%20%20%20%20%20%20%20%20icon%3A%20new%20L.Icon.Default%28%29%2C%0A%20%20%20%20%20%20%20%20%20%20%20%20%20%20%20%20%7D%0A%20%20%20%20%20%20%20%20%20%20%20%20%29.addTo%28map_aaa704ed917d43e2bfff5c00caa5ca37%29%3B%0A%20%20%20%20%20%20%20%20%0A%20%20%20%20%0A%20%20%20%20%20%20%20%20var%20marker_4c0cd94adc2c4a9ea4ba87f74605fb90%20%3D%20L.marker%28%0A%20%20%20%20%20%20%20%20%20%20%20%20%5B38.8782049970615%2C%20-77.00770139694214%5D%2C%0A%20%20%20%20%20%20%20%20%20%20%20%20%7B%0A%20%20%20%20%20%20%20%20%20%20%20%20%20%20%20%20icon%3A%20new%20L.Icon.Default%28%29%2C%0A%20%20%20%20%20%20%20%20%20%20%20%20%20%20%20%20%7D%0A%20%20%20%20%20%20%20%20%20%20%20%20%29.addTo%28map_aaa704ed917d43e2bfff5c00caa5ca37%29%3B%0A%20%20%20%20%20%20%20%20%0A%20%20%20%20%0A%20%20%20%20%20%20%20%20var%20marker_ff0c06acc63648f89ae340286feb6d14%20%3D%20L.marker%28%0A%20%20%20%20%20%20%20%20%20%20%20%20%5B38.878665370556774%2C%20-77.00819611567879%5D%2C%0A%20%20%20%20%20%20%20%20%20%20%20%20%7B%0A%20%20%20%20%20%20%20%20%20%20%20%20%20%20%20%20icon%3A%20new%20L.Icon.Default%28%29%2C%0A%20%20%20%20%20%20%20%20%20%20%20%20%20%20%20%20%7D%0A%20%20%20%20%20%20%20%20%20%20%20%20%29.addTo%28map_aaa704ed917d43e2bfff5c00caa5ca37%29%3B%0A%20%20%20%20%20%20%20%20%0A%20%20%20%20%0A%20%20%20%20%20%20%20%20var%20marker_ae64c75e37a54bb38b5693395d4b23e5%20%3D%20L.marker%28%0A%20%20%20%20%20%20%20%20%20%20%20%20%5B38.880480355234496%2C%20-77.00479531725239%5D%2C%0A%20%20%20%20%20%20%20%20%20%20%20%20%7B%0A%20%20%20%20%20%20%20%20%20%20%20%20%20%20%20%20icon%3A%20new%20L.Icon.Default%28%29%2C%0A%20%20%20%20%20%20%20%20%20%20%20%20%20%20%20%20%7D%0A%20%20%20%20%20%20%20%20%20%20%20%20%29.addTo%28map_aaa704ed917d43e2bfff5c00caa5ca37%29%3B%0A%20%20%20%20%20%20%20%20%0A%20%20%20%20%0A%20%20%20%20%20%20%20%20var%20marker_440f5c91088d48fcb8baf3655d8f1736%20%3D%20L.marker%28%0A%20%20%20%20%20%20%20%20%20%20%20%20%5B38.87488301112958%2C%20-77.00605462147534%5D%2C%0A%20%20%20%20%20%20%20%20%20%20%20%20%7B%0A%20%20%20%20%20%20%20%20%20%20%20%20%20%20%20%20icon%3A%20new%20L.Icon.Default%28%29%2C%0A%20%20%20%20%20%20%20%20%20%20%20%20%20%20%20%20%7D%0A%20%20%20%20%20%20%20%20%20%20%20%20%29.addTo%28map_aaa704ed917d43e2bfff5c00caa5ca37%29%3B%0A%20%20%20%20%20%20%20%20%0A%20%20%20%20%0A%20%20%20%20%20%20%20%20var%20marker_dfb489f7625d484189db3d8e41f73458%20%3D%20L.marker%28%0A%20%20%20%20%20%20%20%20%20%20%20%20%5B38.876485472704225%2C%20-77.0070253272002%5D%2C%0A%20%20%20%20%20%20%20%20%20%20%20%20%7B%0A%20%20%20%20%20%20%20%20%20%20%20%20%20%20%20%20icon%3A%20new%20L.Icon.Default%28%29%2C%0A%20%20%20%20%20%20%20%20%20%20%20%20%20%20%20%20%7D%0A%20%20%20%20%20%20%20%20%20%20%20%20%29.addTo%28map_aaa704ed917d43e2bfff5c00caa5ca37%29%3B%0A%20%20%20%20%20%20%20%20%0A%20%20%20%20%0A%20%20%20%20%20%20%20%20var%20marker_bffc351ecbac46d0b458d7b3f9a87067%20%3D%20L.marker%28%0A%20%20%20%20%20%20%20%20%20%20%20%20%5B38.87619929880294%2C%20-77.00039585450284%5D%2C%0A%20%20%20%20%20%20%20%20%20%20%20%20%7B%0A%20%20%20%20%20%20%20%20%20%20%20%20%20%20%20%20icon%3A%20new%20L.Icon.Default%28%29%2C%0A%20%20%20%20%20%20%20%20%20%20%20%20%20%20%20%20%7D%0A%20%20%20%20%20%20%20%20%20%20%20%20%29.addTo%28map_aaa704ed917d43e2bfff5c00caa5ca37%29%3B%0A%20%20%20%20%20%20%20%20%0A%20%20%20%20%0A%20%20%20%20%20%20%20%20var%20marker_bb9c4b196aa343b6bbc2aaaa7cc25622%20%3D%20L.marker%28%0A%20%20%20%20%20%20%20%20%20%20%20%20%5B38.877688%2C%20-77.003767%5D%2C%0A%20%20%20%20%20%20%20%20%20%20%20%20%7B%0A%20%20%20%20%20%20%20%20%20%20%20%20%20%20%20%20icon%3A%20new%20L.Icon.Default%28%29%2C%0A%20%20%20%20%20%20%20%20%20%20%20%20%20%20%20%20%7D%0A%20%20%20%20%20%20%20%20%20%20%20%20%29.addTo%28map_aaa704ed917d43e2bfff5c00caa5ca37%29%3B%0A%20%20%20%20%20%20%20%20%0A%20%20%20%20%0A%20%20%20%20%20%20%20%20var%20marker_f74b97c759f3429ebda8041a5f93af2a%20%3D%20L.marker%28%0A%20%20%20%20%20%20%20%20%20%20%20%20%5B38.87608423164435%2C%20-77.00780885836896%5D%2C%0A%20%20%20%20%20%20%20%20%20%20%20%20%7B%0A%20%20%20%20%20%20%20%20%20%20%20%20%20%20%20%20icon%3A%20new%20L.Icon.Default%28%29%2C%0A%20%20%20%20%20%20%20%20%20%20%20%20%20%20%20%20%7D%0A%20%20%20%20%20%20%20%20%20%20%20%20%29.addTo%28map_aaa704ed917d43e2bfff5c00caa5ca37%29%3B%0A%20%20%20%20%20%20%20%20%0A%20%20%20%20%0A%20%20%20%20%20%20%20%20var%20marker_88c536a0d72e453ab235fb0765618252%20%3D%20L.marker%28%0A%20%20%20%20%20%20%20%20%20%20%20%20%5B38.874702688948474%2C%20-77.0005961857365%5D%2C%0A%20%20%20%20%20%20%20%20%20%20%20%20%7B%0A%20%20%20%20%20%20%20%20%20%20%20%20%20%20%20%20icon%3A%20new%20L.Icon.Default%28%29%2C%0A%20%20%20%20%20%20%20%20%20%20%20%20%20%20%20%20%7D%0A%20%20%20%20%20%20%20%20%20%20%20%20%29.addTo%28map_aaa704ed917d43e2bfff5c00caa5ca37%29%3B%0A%20%20%20%20%20%20%20%20%0A%20%20%20%20%0A%20%20%20%20%20%20%20%20var%20marker_29ab59718dfb4a3a936a3043a4720ad8%20%3D%20L.marker%28%0A%20%20%20%20%20%20%20%20%20%20%20%20%5B38.87528166504957%2C%20-77.00019121170044%5D%2C%0A%20%20%20%20%20%20%20%20%20%20%20%20%7B%0A%20%20%20%20%20%20%20%20%20%20%20%20%20%20%20%20icon%3A%20new%20L.Icon.Default%28%29%2C%0A%20%20%20%20%20%20%20%20%20%20%20%20%20%20%20%20%7D%0A%20%20%20%20%20%20%20%20%20%20%20%20%29.addTo%28map_aaa704ed917d43e2bfff5c00caa5ca37%29%3B%0A%20%20%20%20%20%20%20%20%0A%20%20%20%20%0A%20%20%20%20%20%20%20%20var%20marker_62e7d3d3df764a5eb1264bb0e7cdf781%20%3D%20L.marker%28%0A%20%20%20%20%20%20%20%20%20%20%20%20%5B38.87921484804848%2C%20-77.00542780047218%5D%2C%0A%20%20%20%20%20%20%20%20%20%20%20%20%7B%0A%20%20%20%20%20%20%20%20%20%20%20%20%20%20%20%20icon%3A%20new%20L.Icon.Default%28%29%2C%0A%20%20%20%20%20%20%20%20%20%20%20%20%20%20%20%20%7D%0A%20%20%20%20%20%20%20%20%20%20%20%20%29.addTo%28map_aaa704ed917d43e2bfff5c00caa5ca37%29%3B%0A%20%20%20%20%20%20%20%20%0A%20%20%20%20%0A%20%20%20%20%20%20%20%20var%20marker_f26d732850ec45abb6f609c6a91e5c42%20%3D%20L.marker%28%0A%20%20%20%20%20%20%20%20%20%20%20%20%5B38.874840999999996%2C%20-77.009504%5D%2C%0A%20%20%20%20%20%20%20%20%20%20%20%20%7B%0A%20%20%20%20%20%20%20%20%20%20%20%20%20%20%20%20icon%3A%20new%20L.Icon.Default%28%29%2C%0A%20%20%20%20%20%20%20%20%20%20%20%20%20%20%20%20%7D%0A%20%20%20%20%20%20%20%20%20%20%20%20%29.addTo%28map_aaa704ed917d43e2bfff5c00caa5ca37%29%3B%0A%20%20%20%20%20%20%20%20%0A%20%20%20%20%0A%20%20%20%20%20%20%20%20var%20marker_509f24bfdb94482eb22599f4aa526d0e%20%3D%20L.marker%28%0A%20%20%20%20%20%20%20%20%20%20%20%20%5B38.88043936826367%2C%20-77.01203330688317%5D%2C%0A%20%20%20%20%20%20%20%20%20%20%20%20%7B%0A%20%20%20%20%20%20%20%20%20%20%20%20%20%20%20%20icon%3A%20new%20L.Icon.Default%28%29%2C%0A%20%20%20%20%20%20%20%20%20%20%20%20%20%20%20%20%7D%0A%20%20%20%20%20%20%20%20%20%20%20%20%29.addTo%28map_aaa704ed917d43e2bfff5c00caa5ca37%29%3B%0A%20%20%20%20%20%20%20%20%0A%20%20%20%20%0A%20%20%20%20%20%20%20%20var%20marker_71c2a3ddb85d4d45b8be6e38836cb559%20%3D%20L.marker%28%0A%20%20%20%20%20%20%20%20%20%20%20%20%5B38.879475%2C%20-77.008693%5D%2C%0A%20%20%20%20%20%20%20%20%20%20%20%20%7B%0A%20%20%20%20%20%20%20%20%20%20%20%20%20%20%20%20icon%3A%20new%20L.Icon.Default%28%29%2C%0A%20%20%20%20%20%20%20%20%20%20%20%20%20%20%20%20%7D%0A%20%20%20%20%20%20%20%20%20%20%20%20%29.addTo%28map_aaa704ed917d43e2bfff5c00caa5ca37%29%3B%0A%20%20%20%20%20%20%20%20%0A%20%20%20%20%0A%20%20%20%20%20%20%20%20var%20marker_1ed0c18299674660af2858e83af4a401%20%3D%20L.marker%28%0A%20%20%20%20%20%20%20%20%20%20%20%20%5B38.880659828533844%2C%20-76.99517486409908%5D%2C%0A%20%20%20%20%20%20%20%20%20%20%20%20%7B%0A%20%20%20%20%20%20%20%20%20%20%20%20%20%20%20%20icon%3A%20new%20L.Icon.Default%28%29%2C%0A%20%20%20%20%20%20%20%20%20%20%20%20%20%20%20%20%7D%0A%20%20%20%20%20%20%20%20%20%20%20%20%29.addTo%28map_aaa704ed917d43e2bfff5c00caa5ca37%29%3B%0A%20%20%20%20%20%20%20%20%0A%20%20%20%20%0A%20%20%20%20%20%20%20%20var%20marker_4d10931045034c3685ef7bdbbc2e0e91%20%3D%20L.marker%28%0A%20%20%20%20%20%20%20%20%20%20%20%20%5B38.88006807877894%2C%20-76.99596446761717%5D%2C%0A%20%20%20%20%20%20%20%20%20%20%20%20%7B%0A%20%20%20%20%20%20%20%20%20%20%20%20%20%20%20%20icon%3A%20new%20L.Icon.Default%28%29%2C%0A%20%20%20%20%20%20%20%20%20%20%20%20%20%20%20%20%7D%0A%20%20%20%20%20%20%20%20%20%20%20%20%29.addTo%28map_aaa704ed917d43e2bfff5c00caa5ca37%29%3B%0A%20%20%20%20%20%20%20%20%0A%20%20%20%20%0A%20%20%20%20%20%20%20%20var%20marker_8c350a21d57d4392bbcdffa44e949aa8%20%3D%20L.marker%28%0A%20%20%20%20%20%20%20%20%20%20%20%20%5B38.877754%2C%20-76.995258%5D%2C%0A%20%20%20%20%20%20%20%20%20%20%20%20%7B%0A%20%20%20%20%20%20%20%20%20%20%20%20%20%20%20%20icon%3A%20new%20L.Icon.Default%28%29%2C%0A%20%20%20%20%20%20%20%20%20%20%20%20%20%20%20%20%7D%0A%20%20%20%20%20%20%20%20%20%20%20%20%29.addTo%28map_aaa704ed917d43e2bfff5c00caa5ca37%29%3B%0A%20%20%20%20%20%20%20%20%0A%20%20%20%20%0A%20%20%20%20%20%20%20%20var%20marker_9f40d40178fe40de8ccbd49eccd642aa%20%3D%20L.marker%28%0A%20%20%20%20%20%20%20%20%20%20%20%20%5B38.87962485779243%2C%20-76.99521839618683%5D%2C%0A%20%20%20%20%20%20%20%20%20%20%20%20%7B%0A%20%20%20%20%20%20%20%20%20%20%20%20%20%20%20%20icon%3A%20new%20L.Icon.Default%28%29%2C%0A%20%20%20%20%20%20%20%20%20%20%20%20%20%20%20%20%7D%0A%20%20%20%20%20%20%20%20%20%20%20%20%29.addTo%28map_aaa704ed917d43e2bfff5c00caa5ca37%29%3B%0A%20%20%20%20%20%20%20%20%0A%20%20%20%20%0A%20%20%20%20%20%20%20%20var%20marker_6a48e21d9b0e43a1885121efe98f1c41%20%3D%20L.marker%28%0A%20%20%20%20%20%20%20%20%20%20%20%20%5B38.868366%2C%20-77.012901%5D%2C%0A%20%20%20%20%20%20%20%20%20%20%20%20%7B%0A%20%20%20%20%20%20%20%20%20%20%20%20%20%20%20%20icon%3A%20new%20L.Icon.Default%28%29%2C%0A%20%20%20%20%20%20%20%20%20%20%20%20%20%20%20%20%7D%0A%20%20%20%20%20%20%20%20%20%20%20%20%29.addTo%28map_aaa704ed917d43e2bfff5c00caa5ca37%29%3B%0A%20%20%20%20%20%20%20%20%0A%20%20%20%20%0A%20%20%20%20%20%20%20%20var%20marker_a84db24276394423a46130ef7246dd55%20%3D%20L.marker%28%0A%20%20%20%20%20%20%20%20%20%20%20%20%5B38.87473085401066%2C%20-77.0017649067459%5D%2C%0A%20%20%20%20%20%20%20%20%20%20%20%20%7B%0A%20%20%20%20%20%20%20%20%20%20%20%20%20%20%20%20icon%3A%20new%20L.Icon.Default%28%29%2C%0A%20%20%20%20%20%20%20%20%20%20%20%20%20%20%20%20%7D%0A%20%20%20%20%20%20%20%20%20%20%20%20%29.addTo%28map_aaa704ed917d43e2bfff5c00caa5ca37%29%3B%0A%20%20%20%20%20%20%20%20%0A%20%20%20%20%0A%20%20%20%20%20%20%20%20var%20marker_0a1bd744e93b46ce8eb4633eb3bd0b8a%20%3D%20L.marker%28%0A%20%20%20%20%20%20%20%20%20%20%20%20%5B38.87711383774855%2C%20-77.02037532932083%5D%2C%0A%20%20%20%20%20%20%20%20%20%20%20%20%7B%0A%20%20%20%20%20%20%20%20%20%20%20%20%20%20%20%20icon%3A%20new%20L.Icon.Default%28%29%2C%0A%20%20%20%20%20%20%20%20%20%20%20%20%20%20%20%20%7D%0A%20%20%20%20%20%20%20%20%20%20%20%20%29.addTo%28map_aaa704ed917d43e2bfff5c00caa5ca37%29%3B%0A%20%20%20%20%20%20%20%20%0A%20%20%20%20%0A%20%20%20%20%20%20%20%20var%20marker_a7c1018c41374afda25b3c4fe69d1a01%20%3D%20L.marker%28%0A%20%20%20%20%20%20%20%20%20%20%20%20%5B38.88139638231453%2C%20-76.99512143022986%5D%2C%0A%20%20%20%20%20%20%20%20%20%20%20%20%7B%0A%20%20%20%20%20%20%20%20%20%20%20%20%20%20%20%20icon%3A%20new%20L.Icon.Default%28%29%2C%0A%20%20%20%20%20%20%20%20%20%20%20%20%20%20%20%20%7D%0A%20%20%20%20%20%20%20%20%20%20%20%20%29.addTo%28map_aaa704ed917d43e2bfff5c00caa5ca37%29%3B%0A%20%20%20%20%20%20%20%20%0A%20%20%20%20%0A%20%20%20%20%20%20%20%20var%20marker_69f17adeb7f84be9828440e930bb2245%20%3D%20L.marker%28%0A%20%20%20%20%20%20%20%20%20%20%20%20%5B38.8820918%2C%20-76.9951762%5D%2C%0A%20%20%20%20%20%20%20%20%20%20%20%20%7B%0A%20%20%20%20%20%20%20%20%20%20%20%20%20%20%20%20icon%3A%20new%20L.Icon.Default%28%29%2C%0A%20%20%20%20%20%20%20%20%20%20%20%20%20%20%20%20%7D%0A%20%20%20%20%20%20%20%20%20%20%20%20%29.addTo%28map_aaa704ed917d43e2bfff5c00caa5ca37%29%3B%0A%20%20%20%20%20%20%20%20%0A%20%20%20%20%0A%20%20%20%20%20%20%20%20var%20marker_e6997368f78944d8a01c78317c7e70a9%20%3D%20L.marker%28%0A%20%20%20%20%20%20%20%20%20%20%20%20%5B38.88304859757655%2C%20-76.99503612145953%5D%2C%0A%20%20%20%20%20%20%20%20%20%20%20%20%7B%0A%20%20%20%20%20%20%20%20%20%20%20%20%20%20%20%20icon%3A%20new%20L.Icon.Default%28%29%2C%0A%20%20%20%20%20%20%20%20%20%20%20%20%20%20%20%20%7D%0A%20%20%20%20%20%20%20%20%20%20%20%20%29.addTo%28map_aaa704ed917d43e2bfff5c00caa5ca37%29%3B%0A%20%20%20%20%20%20%20%20%0A%20%20%20%20%0A%20%20%20%20%20%20%20%20var%20marker_71281c2200e24cf2a701778ca3a69d93%20%3D%20L.marker%28%0A%20%20%20%20%20%20%20%20%20%20%20%20%5B38.87625501596972%2C%20-77.00604145864982%5D%2C%0A%20%20%20%20%20%20%20%20%20%20%20%20%7B%0A%20%20%20%20%20%20%20%20%20%20%20%20%20%20%20%20icon%3A%20new%20L.Icon.Default%28%29%2C%0A%20%20%20%20%20%20%20%20%20%20%20%20%20%20%20%20%7D%0A%20%20%20%20%20%20%20%20%20%20%20%20%29.addTo%28map_aaa704ed917d43e2bfff5c00caa5ca37%29%3B%0A%20%20%20%20%20%20%20%20%0A%20%20%20%20%0A%20%20%20%20%20%20%20%20var%20marker_7585879d278846ef9390e4bc9219a84c%20%3D%20L.marker%28%0A%20%20%20%20%20%20%20%20%20%20%20%20%5B38.88067720685155%2C%20-76.99518620967865%5D%2C%0A%20%20%20%20%20%20%20%20%20%20%20%20%7B%0A%20%20%20%20%20%20%20%20%20%20%20%20%20%20%20%20icon%3A%20new%20L.Icon.Default%28%29%2C%0A%20%20%20%20%20%20%20%20%20%20%20%20%20%20%20%20%7D%0A%20%20%20%20%20%20%20%20%20%20%20%20%29.addTo%28map_aaa704ed917d43e2bfff5c00caa5ca37%29%3B%0A%20%20%20%20%20%20%20%20%0A%20%20%20%20%0A%20%20%20%20%20%20%20%20var%20marker_3eb8fa9248a64f5587c73f3fd0604218%20%3D%20L.marker%28%0A%20%20%20%20%20%20%20%20%20%20%20%20%5B38.881907015665305%2C%20-76.99524790048599%5D%2C%0A%20%20%20%20%20%20%20%20%20%20%20%20%7B%0A%20%20%20%20%20%20%20%20%20%20%20%20%20%20%20%20icon%3A%20new%20L.Icon.Default%28%29%2C%0A%20%20%20%20%20%20%20%20%20%20%20%20%20%20%20%20%7D%0A%20%20%20%20%20%20%20%20%20%20%20%20%29.addTo%28map_aaa704ed917d43e2bfff5c00caa5ca37%29%3B%0A%20%20%20%20%20%20%20%20%0A%20%20%20%20%0A%20%20%20%20%20%20%20%20var%20marker_e7bb7bc97f144a38b3451a207aef645a%20%3D%20L.marker%28%0A%20%20%20%20%20%20%20%20%20%20%20%20%5B38.87507378417645%2C%20-77.012787183201%5D%2C%0A%20%20%20%20%20%20%20%20%20%20%20%20%7B%0A%20%20%20%20%20%20%20%20%20%20%20%20%20%20%20%20icon%3A%20new%20L.Icon.Default%28%29%2C%0A%20%20%20%20%20%20%20%20%20%20%20%20%20%20%20%20%7D%0A%20%20%20%20%20%20%20%20%20%20%20%20%29.addTo%28map_aaa704ed917d43e2bfff5c00caa5ca37%29%3B%0A%20%20%20%20%20%20%20%20%0A%20%20%20%20%0A%20%20%20%20%20%20%20%20var%20marker_4676324794d943e082ce112d048efe74%20%3D%20L.marker%28%0A%20%20%20%20%20%20%20%20%20%20%20%20%5B38.882070045263234%2C%20-76.99514310674265%5D%2C%0A%20%20%20%20%20%20%20%20%20%20%20%20%7B%0A%20%20%20%20%20%20%20%20%20%20%20%20%20%20%20%20icon%3A%20new%20L.Icon.Default%28%29%2C%0A%20%20%20%20%20%20%20%20%20%20%20%20%20%20%20%20%7D%0A%20%20%20%20%20%20%20%20%20%20%20%20%29.addTo%28map_aaa704ed917d43e2bfff5c00caa5ca37%29%3B%0A%20%20%20%20%20%20%20%20%0A%20%20%20%20%0A%20%20%20%20%20%20%20%20var%20marker_0ebe627627f84069a67cd9b8c9c8e48d%20%3D%20L.marker%28%0A%20%20%20%20%20%20%20%20%20%20%20%20%5B38.88154580068334%2C%20-77.00441837310791%5D%2C%0A%20%20%20%20%20%20%20%20%20%20%20%20%7B%0A%20%20%20%20%20%20%20%20%20%20%20%20%20%20%20%20icon%3A%20new%20L.Icon.Default%28%29%2C%0A%20%20%20%20%20%20%20%20%20%20%20%20%20%20%20%20%7D%0A%20%20%20%20%20%20%20%20%20%20%20%20%29.addTo%28map_aaa704ed917d43e2bfff5c00caa5ca37%29%3B%0A%20%20%20%20%20%20%20%20%0A%20%20%20%20%0A%20%20%20%20%20%20%20%20var%20marker_3d673c8276c04389b340bfd58483a92a%20%3D%20L.marker%28%0A%20%20%20%20%20%20%20%20%20%20%20%20%5B38.88323324257738%2C%20-76.99359549643728%5D%2C%0A%20%20%20%20%20%20%20%20%20%20%20%20%7B%0A%20%20%20%20%20%20%20%20%20%20%20%20%20%20%20%20icon%3A%20new%20L.Icon.Default%28%29%2C%0A%20%20%20%20%20%20%20%20%20%20%20%20%20%20%20%20%7D%0A%20%20%20%20%20%20%20%20%20%20%20%20%29.addTo%28map_aaa704ed917d43e2bfff5c00caa5ca37%29%3B%0A%20%20%20%20%20%20%20%20%0A%20%20%20%20%0A%20%20%20%20%20%20%20%20var%20marker_72c714278de04f54b48c5beecd8ccd08%20%3D%20L.marker%28%0A%20%20%20%20%20%20%20%20%20%20%20%20%5B38.884594146933125%2C%20-76.9968330860138%5D%2C%0A%20%20%20%20%20%20%20%20%20%20%20%20%7B%0A%20%20%20%20%20%20%20%20%20%20%20%20%20%20%20%20icon%3A%20new%20L.Icon.Default%28%29%2C%0A%20%20%20%20%20%20%20%20%20%20%20%20%20%20%20%20%7D%0A%20%20%20%20%20%20%20%20%20%20%20%20%29.addTo%28map_aaa704ed917d43e2bfff5c00caa5ca37%29%3B%0A%20%20%20%20%20%20%20%20%0A%20%20%20%20%0A%20%20%20%20%20%20%20%20var%20marker_3355fe1cce4b4d18b8aaa36edfa143e9%20%3D%20L.marker%28%0A%20%20%20%20%20%20%20%20%20%20%20%20%5B38.877305%2C%20-76.994827%5D%2C%0A%20%20%20%20%20%20%20%20%20%20%20%20%7B%0A%20%20%20%20%20%20%20%20%20%20%20%20%20%20%20%20icon%3A%20new%20L.Icon.Default%28%29%2C%0A%20%20%20%20%20%20%20%20%20%20%20%20%20%20%20%20%7D%0A%20%20%20%20%20%20%20%20%20%20%20%20%29.addTo%28map_aaa704ed917d43e2bfff5c00caa5ca37%29%3B%0A%20%20%20%20%20%20%20%20%0A%20%20%20%20%0A%20%20%20%20%20%20%20%20var%20marker_bdd16b6b2868444a960ee73316bed00b%20%3D%20L.marker%28%0A%20%20%20%20%20%20%20%20%20%20%20%20%5B38.88247620736948%2C%20-76.99514162612523%5D%2C%0A%20%20%20%20%20%20%20%20%20%20%20%20%7B%0A%20%20%20%20%20%20%20%20%20%20%20%20%20%20%20%20icon%3A%20new%20L.Icon.Default%28%29%2C%0A%20%20%20%20%20%20%20%20%20%20%20%20%20%20%20%20%7D%0A%20%20%20%20%20%20%20%20%20%20%20%20%29.addTo%28map_aaa704ed917d43e2bfff5c00caa5ca37%29%3B%0A%20%20%20%20%20%20%20%20%0A%20%20%20%20%0A%20%20%20%20%20%20%20%20var%20marker_848152279143430aa5fb8055d851f1aa%20%3D%20L.marker%28%0A%20%20%20%20%20%20%20%20%20%20%20%20%5B38.881452366146156%2C%20-76.99634994484103%5D%2C%0A%20%20%20%20%20%20%20%20%20%20%20%20%7B%0A%20%20%20%20%20%20%20%20%20%20%20%20%20%20%20%20icon%3A%20new%20L.Icon.Default%28%29%2C%0A%20%20%20%20%20%20%20%20%20%20%20%20%20%20%20%20%7D%0A%20%20%20%20%20%20%20%20%20%20%20%20%29.addTo%28map_aaa704ed917d43e2bfff5c00caa5ca37%29%3B%0A%20%20%20%20%20%20%20%20%0A%20%20%20%20%0A%20%20%20%20%20%20%20%20var%20marker_09214c57046648a0b8251eadbc51e19d%20%3D%20L.marker%28%0A%20%20%20%20%20%20%20%20%20%20%20%20%5B38.88700454456916%2C%20-77.00273394584656%5D%2C%0A%20%20%20%20%20%20%20%20%20%20%20%20%7B%0A%20%20%20%20%20%20%20%20%20%20%20%20%20%20%20%20icon%3A%20new%20L.Icon.Default%28%29%2C%0A%20%20%20%20%20%20%20%20%20%20%20%20%20%20%20%20%7D%0A%20%20%20%20%20%20%20%20%20%20%20%20%29.addTo%28map_aaa704ed917d43e2bfff5c00caa5ca37%29%3B%0A%20%20%20%20%20%20%20%20%0A%20%20%20%20%0A%20%20%20%20%20%20%20%20var%20marker_1a2106be3520424db48a92e5241e3bb4%20%3D%20L.marker%28%0A%20%20%20%20%20%20%20%20%20%20%20%20%5B38.868913%2C%20-77.012522%5D%2C%0A%20%20%20%20%20%20%20%20%20%20%20%20%7B%0A%20%20%20%20%20%20%20%20%20%20%20%20%20%20%20%20icon%3A%20new%20L.Icon.Default%28%29%2C%0A%20%20%20%20%20%20%20%20%20%20%20%20%20%20%20%20%7D%0A%20%20%20%20%20%20%20%20%20%20%20%20%29.addTo%28map_aaa704ed917d43e2bfff5c00caa5ca37%29%3B%0A%20%20%20%20%20%20%20%20%0A%20%20%20%20%0A%20%20%20%20%20%20%20%20var%20marker_1c8d9379c5c248afa36ee6390125c248%20%3D%20L.marker%28%0A%20%20%20%20%20%20%20%20%20%20%20%20%5B38.88361311500241%2C%20-76.9949532968252%5D%2C%0A%20%20%20%20%20%20%20%20%20%20%20%20%7B%0A%20%20%20%20%20%20%20%20%20%20%20%20%20%20%20%20icon%3A%20new%20L.Icon.Default%28%29%2C%0A%20%20%20%20%20%20%20%20%20%20%20%20%20%20%20%20%7D%0A%20%20%20%20%20%20%20%20%20%20%20%20%29.addTo%28map_aaa704ed917d43e2bfff5c00caa5ca37%29%3B%0A%20%20%20%20%20%20%20%20%0A%20%20%20%20%0A%20%20%20%20%20%20%20%20var%20marker_bff47e212ef349038d080198b7c7e483%20%3D%20L.marker%28%0A%20%20%20%20%20%20%20%20%20%20%20%20%5B38.879036288189546%2C%20-77.01957670568564%5D%2C%0A%20%20%20%20%20%20%20%20%20%20%20%20%7B%0A%20%20%20%20%20%20%20%20%20%20%20%20%20%20%20%20icon%3A%20new%20L.Icon.Default%28%29%2C%0A%20%20%20%20%20%20%20%20%20%20%20%20%20%20%20%20%7D%0A%20%20%20%20%20%20%20%20%20%20%20%20%29.addTo%28map_aaa704ed917d43e2bfff5c00caa5ca37%29%3B%0A%20%20%20%20%20%20%20%20%0A%20%20%20%20%0A%20%20%20%20%20%20%20%20var%20marker_1135aaa159d1410ab50b5efb2f48cf04%20%3D%20L.marker%28%0A%20%20%20%20%20%20%20%20%20%20%20%20%5B38.8835942726393%2C%20-76.99495245070658%5D%2C%0A%20%20%20%20%20%20%20%20%20%20%20%20%7B%0A%20%20%20%20%20%20%20%20%20%20%20%20%20%20%20%20icon%3A%20new%20L.Icon.Default%28%29%2C%0A%20%20%20%20%20%20%20%20%20%20%20%20%20%20%20%20%7D%0A%20%20%20%20%20%20%20%20%20%20%20%20%29.addTo%28map_aaa704ed917d43e2bfff5c00caa5ca37%29%3B%0A%20%20%20%20%20%20%20%20%0A%20%20%20%20%0A%20%20%20%20%20%20%20%20var%20marker_8f9c0dc13f5a48e58458ef9e3df8b0c2%20%3D%20L.marker%28%0A%20%20%20%20%20%20%20%20%20%20%20%20%5B38.88654108953132%2C%20-76.99627973961427%5D%2C%0A%20%20%20%20%20%20%20%20%20%20%20%20%7B%0A%20%20%20%20%20%20%20%20%20%20%20%20%20%20%20%20icon%3A%20new%20L.Icon.Default%28%29%2C%0A%20%20%20%20%20%20%20%20%20%20%20%20%20%20%20%20%7D%0A%20%20%20%20%20%20%20%20%20%20%20%20%29.addTo%28map_aaa704ed917d43e2bfff5c00caa5ca37%29%3B%0A%20%20%20%20%20%20%20%20%0A%20%20%20%20%0A%20%20%20%20%20%20%20%20var%20marker_1cc55926483d4a0f828becedb113cb04%20%3D%20L.marker%28%0A%20%20%20%20%20%20%20%20%20%20%20%20%5B38.882185681090746%2C%20-76.99490593329081%5D%2C%0A%20%20%20%20%20%20%20%20%20%20%20%20%7B%0A%20%20%20%20%20%20%20%20%20%20%20%20%20%20%20%20icon%3A%20new%20L.Icon.Default%28%29%2C%0A%20%20%20%20%20%20%20%20%20%20%20%20%20%20%20%20%7D%0A%20%20%20%20%20%20%20%20%20%20%20%20%29.addTo%28map_aaa704ed917d43e2bfff5c00caa5ca37%29%3B%0A%20%20%20%20%20%20%20%20%0A%20%20%20%20%0A%20%20%20%20%20%20%20%20var%20marker_c31805a7719b4991b92dda0c72c68519%20%3D%20L.marker%28%0A%20%20%20%20%20%20%20%20%20%20%20%20%5B38.88264966661476%2C%20-76.9951574410489%5D%2C%0A%20%20%20%20%20%20%20%20%20%20%20%20%7B%0A%20%20%20%20%20%20%20%20%20%20%20%20%20%20%20%20icon%3A%20new%20L.Icon.Default%28%29%2C%0A%20%20%20%20%20%20%20%20%20%20%20%20%20%20%20%20%7D%0A%20%20%20%20%20%20%20%20%20%20%20%20%29.addTo%28map_aaa704ed917d43e2bfff5c00caa5ca37%29%3B%0A%20%20%20%20%20%20%20%20%0A%20%20%20%20%0A%20%20%20%20%20%20%20%20var%20marker_10c99b5a2b6b4071b88ee2fe989d9b9f%20%3D%20L.marker%28%0A%20%20%20%20%20%20%20%20%20%20%20%20%5B38.88145456663173%2C%20-76.99497194655814%5D%2C%0A%20%20%20%20%20%20%20%20%20%20%20%20%7B%0A%20%20%20%20%20%20%20%20%20%20%20%20%20%20%20%20icon%3A%20new%20L.Icon.Default%28%29%2C%0A%20%20%20%20%20%20%20%20%20%20%20%20%20%20%20%20%7D%0A%20%20%20%20%20%20%20%20%20%20%20%20%29.addTo%28map_aaa704ed917d43e2bfff5c00caa5ca37%29%3B%0A%20%20%20%20%20%20%20%20%0A%20%20%20%20%0A%20%20%20%20%20%20%20%20var%20marker_da51c90a9d634863998dd2898045ed60%20%3D%20L.marker%28%0A%20%20%20%20%20%20%20%20%20%20%20%20%5B38.88155491501278%2C%20-76.99507020024208%5D%2C%0A%20%20%20%20%20%20%20%20%20%20%20%20%7B%0A%20%20%20%20%20%20%20%20%20%20%20%20%20%20%20%20icon%3A%20new%20L.Icon.Default%28%29%2C%0A%20%20%20%20%20%20%20%20%20%20%20%20%20%20%20%20%7D%0A%20%20%20%20%20%20%20%20%20%20%20%20%29.addTo%28map_aaa704ed917d43e2bfff5c00caa5ca37%29%3B%0A%20%20%20%20%20%20%20%20%0A%20%20%20%20%0A%20%20%20%20%20%20%20%20var%20marker_24fe67e5bad849eaa59786390553b1ff%20%3D%20L.marker%28%0A%20%20%20%20%20%20%20%20%20%20%20%20%5B38.88512406123133%2C%20-76.99619302772342%5D%2C%0A%20%20%20%20%20%20%20%20%20%20%20%20%7B%0A%20%20%20%20%20%20%20%20%20%20%20%20%20%20%20%20icon%3A%20new%20L.Icon.Default%28%29%2C%0A%20%20%20%20%20%20%20%20%20%20%20%20%20%20%20%20%7D%0A%20%20%20%20%20%20%20%20%20%20%20%20%29.addTo%28map_aaa704ed917d43e2bfff5c00caa5ca37%29%3B%0A%20%20%20%20%20%20%20%20%0A%20%20%20%20%0A%20%20%20%20%20%20%20%20var%20marker_d55e734a07904f919f30ea1ae3902314%20%3D%20L.marker%28%0A%20%20%20%20%20%20%20%20%20%20%20%20%5B38.8771128305992%2C%20-77.02061656643737%5D%2C%0A%20%20%20%20%20%20%20%20%20%20%20%20%7B%0A%20%20%20%20%20%20%20%20%20%20%20%20%20%20%20%20icon%3A%20new%20L.Icon.Default%28%29%2C%0A%20%20%20%20%20%20%20%20%20%20%20%20%20%20%20%20%7D%0A%20%20%20%20%20%20%20%20%20%20%20%20%29.addTo%28map_aaa704ed917d43e2bfff5c00caa5ca37%29%3B%0A%20%20%20%20%20%20%20%20%0A%20%20%20%20%0A%20%20%20%20%20%20%20%20var%20marker_62ab4f6c577b43f3a90602dfa00d136d%20%3D%20L.marker%28%0A%20%20%20%20%20%20%20%20%20%20%20%20%5B38.88560129931687%2C%20-76.99629683321412%5D%2C%0A%20%20%20%20%20%20%20%20%20%20%20%20%7B%0A%20%20%20%20%20%20%20%20%20%20%20%20%20%20%20%20icon%3A%20new%20L.Icon.Default%28%29%2C%0A%20%20%20%20%20%20%20%20%20%20%20%20%20%20%20%20%7D%0A%20%20%20%20%20%20%20%20%20%20%20%20%29.addTo%28map_aaa704ed917d43e2bfff5c00caa5ca37%29%3B%0A%20%20%20%20%20%20%20%20%0A%20%20%20%20%0A%20%20%20%20%20%20%20%20var%20marker_d7034eb8c0a54be4978315ffe6217c65%20%3D%20L.marker%28%0A%20%20%20%20%20%20%20%20%20%20%20%20%5B38.885169%2C%20-76.996301%5D%2C%0A%20%20%20%20%20%20%20%20%20%20%20%20%7B%0A%20%20%20%20%20%20%20%20%20%20%20%20%20%20%20%20icon%3A%20new%20L.Icon.Default%28%29%2C%0A%20%20%20%20%20%20%20%20%20%20%20%20%20%20%20%20%7D%0A%20%20%20%20%20%20%20%20%20%20%20%20%29.addTo%28map_aaa704ed917d43e2bfff5c00caa5ca37%29%3B%0A%20%20%20%20%20%20%20%20%0A%20%20%20%20%0A%20%20%20%20%20%20%20%20var%20marker_5628446dcdd444c2966b025fd5f6c643%20%3D%20L.marker%28%0A%20%20%20%20%20%20%20%20%20%20%20%20%5B38.8797083781284%2C%20-77.02551126480103%5D%2C%0A%20%20%20%20%20%20%20%20%20%20%20%20%7B%0A%20%20%20%20%20%20%20%20%20%20%20%20%20%20%20%20icon%3A%20new%20L.Icon.Default%28%29%2C%0A%20%20%20%20%20%20%20%20%20%20%20%20%20%20%20%20%7D%0A%20%20%20%20%20%20%20%20%20%20%20%20%29.addTo%28map_aaa704ed917d43e2bfff5c00caa5ca37%29%3B%0A%20%20%20%20%20%20%20%20%0A%20%20%20%20%0A%20%20%20%20%20%20%20%20var%20marker_93bbc83efa604496a82349231f5de690%20%3D%20L.marker%28%0A%20%20%20%20%20%20%20%20%20%20%20%20%5B38.88694086686134%2C%20-77.00257301330566%5D%2C%0A%20%20%20%20%20%20%20%20%20%20%20%20%7B%0A%20%20%20%20%20%20%20%20%20%20%20%20%20%20%20%20icon%3A%20new%20L.Icon.Default%28%29%2C%0A%20%20%20%20%20%20%20%20%20%20%20%20%20%20%20%20%7D%0A%20%20%20%20%20%20%20%20%20%20%20%20%29.addTo%28map_aaa704ed917d43e2bfff5c00caa5ca37%29%3B%0A%20%20%20%20%20%20%20%20%0A%20%20%20%20%0A%20%20%20%20%20%20%20%20var%20marker_80752b78281d4ba09c08784f66914c96%20%3D%20L.marker%28%0A%20%20%20%20%20%20%20%20%20%20%20%20%5B38.8786888%2C%20-77.0233785%5D%2C%0A%20%20%20%20%20%20%20%20%20%20%20%20%7B%0A%20%20%20%20%20%20%20%20%20%20%20%20%20%20%20%20icon%3A%20new%20L.Icon.Default%28%29%2C%0A%20%20%20%20%20%20%20%20%20%20%20%20%20%20%20%20%7D%0A%20%20%20%20%20%20%20%20%20%20%20%20%29.addTo%28map_aaa704ed917d43e2bfff5c00caa5ca37%29%3B%0A%20%20%20%20%20%20%20%20%0A%20%20%20%20%0A%20%20%20%20%20%20%20%20var%20marker_fe2dad13983a422c838cb393c05c7f5c%20%3D%20L.marker%28%0A%20%20%20%20%20%20%20%20%20%20%20%20%5B38.880049346332456%2C%20-77.02601735712379%5D%2C%0A%20%20%20%20%20%20%20%20%20%20%20%20%7B%0A%20%20%20%20%20%20%20%20%20%20%20%20%20%20%20%20icon%3A%20new%20L.Icon.Default%28%29%2C%0A%20%20%20%20%20%20%20%20%20%20%20%20%20%20%20%20%7D%0A%20%20%20%20%20%20%20%20%20%20%20%20%29.addTo%28map_aaa704ed917d43e2bfff5c00caa5ca37%29%3B%0A%20%20%20%20%20%20%20%20%0A%20%20%20%20%0A%20%20%20%20%20%20%20%20var%20marker_1ae4d664e3de459f97226a15c9ed77d9%20%3D%20L.marker%28%0A%20%20%20%20%20%20%20%20%20%20%20%20%5B38.882193063220974%2C%20-76.99445396661758%5D%2C%0A%20%20%20%20%20%20%20%20%20%20%20%20%7B%0A%20%20%20%20%20%20%20%20%20%20%20%20%20%20%20%20icon%3A%20new%20L.Icon.Default%28%29%2C%0A%20%20%20%20%20%20%20%20%20%20%20%20%20%20%20%20%7D%0A%20%20%20%20%20%20%20%20%20%20%20%20%29.addTo%28map_aaa704ed917d43e2bfff5c00caa5ca37%29%3B%0A%20%20%20%20%20%20%20%20%0A%20%20%20%20%0A%20%20%20%20%20%20%20%20var%20marker_c70433d750df466fa11439dd8fedc31d%20%3D%20L.marker%28%0A%20%20%20%20%20%20%20%20%20%20%20%20%5B38.885880259269776%2C%20-76.99656218290329%5D%2C%0A%20%20%20%20%20%20%20%20%20%20%20%20%7B%0A%20%20%20%20%20%20%20%20%20%20%20%20%20%20%20%20icon%3A%20new%20L.Icon.Default%28%29%2C%0A%20%20%20%20%20%20%20%20%20%20%20%20%20%20%20%20%7D%0A%20%20%20%20%20%20%20%20%20%20%20%20%29.addTo%28map_aaa704ed917d43e2bfff5c00caa5ca37%29%3B%0A%20%20%20%20%20%20%20%20%0A%20%20%20%20%0A%20%20%20%20%20%20%20%20var%20marker_327ccb6c835b4296b9a5d4decc141e1d%20%3D%20L.marker%28%0A%20%20%20%20%20%20%20%20%20%20%20%20%5B38.8858566%2C%20-76.99636339999999%5D%2C%0A%20%20%20%20%20%20%20%20%20%20%20%20%7B%0A%20%20%20%20%20%20%20%20%20%20%20%20%20%20%20%20icon%3A%20new%20L.Icon.Default%28%29%2C%0A%20%20%20%20%20%20%20%20%20%20%20%20%20%20%20%20%7D%0A%20%20%20%20%20%20%20%20%20%20%20%20%29.addTo%28map_aaa704ed917d43e2bfff5c00caa5ca37%29%3B%0A%20%20%20%20%20%20%20%20%0A%20%20%20%20%0A%20%20%20%20%20%20%20%20var%20marker_4b485465edbd4701a49d870dfb444032%20%3D%20L.marker%28%0A%20%20%20%20%20%20%20%20%20%20%20%20%5B38.88510620027779%2C%20-76.99754606673183%5D%2C%0A%20%20%20%20%20%20%20%20%20%20%20%20%7B%0A%20%20%20%20%20%20%20%20%20%20%20%20%20%20%20%20icon%3A%20new%20L.Icon.Default%28%29%2C%0A%20%20%20%20%20%20%20%20%20%20%20%20%20%20%20%20%7D%0A%20%20%20%20%20%20%20%20%20%20%20%20%29.addTo%28map_aaa704ed917d43e2bfff5c00caa5ca37%29%3B%0A%20%20%20%20%20%20%20%20%0A%20%20%20%20%0A%20%20%20%20%20%20%20%20var%20marker_229e4ab1b4fe435289b4ace81ab6f442%20%3D%20L.marker%28%0A%20%20%20%20%20%20%20%20%20%20%20%20%5B38.87895711013007%2C%20-77.02468796520878%5D%2C%0A%20%20%20%20%20%20%20%20%20%20%20%20%7B%0A%20%20%20%20%20%20%20%20%20%20%20%20%20%20%20%20icon%3A%20new%20L.Icon.Default%28%29%2C%0A%20%20%20%20%20%20%20%20%20%20%20%20%20%20%20%20%7D%0A%20%20%20%20%20%20%20%20%20%20%20%20%29.addTo%28map_aaa704ed917d43e2bfff5c00caa5ca37%29%3B%0A%20%20%20%20%20%20%20%20%0A%20%20%20%20%0A%20%20%20%20%20%20%20%20var%20marker_745cd34c3067411a944d147469ca0529%20%3D%20L.marker%28%0A%20%20%20%20%20%20%20%20%20%20%20%20%5B38.883017141094676%2C%20-76.99987080022139%5D%2C%0A%20%20%20%20%20%20%20%20%20%20%20%20%7B%0A%20%20%20%20%20%20%20%20%20%20%20%20%20%20%20%20icon%3A%20new%20L.Icon.Default%28%29%2C%0A%20%20%20%20%20%20%20%20%20%20%20%20%20%20%20%20%7D%0A%20%20%20%20%20%20%20%20%20%20%20%20%29.addTo%28map_aaa704ed917d43e2bfff5c00caa5ca37%29%3B%0A%20%20%20%20%20%20%20%20%0A%20%20%20%20%0A%20%20%20%20%20%20%20%20var%20marker_9aa44ca821da4b97aeac1a23ca8c5a57%20%3D%20L.marker%28%0A%20%20%20%20%20%20%20%20%20%20%20%20%5B38.86701519394666%2C%20-76.9876298772047%5D%2C%0A%20%20%20%20%20%20%20%20%20%20%20%20%7B%0A%20%20%20%20%20%20%20%20%20%20%20%20%20%20%20%20icon%3A%20new%20L.Icon.Default%28%29%2C%0A%20%20%20%20%20%20%20%20%20%20%20%20%20%20%20%20%7D%0A%20%20%20%20%20%20%20%20%20%20%20%20%29.addTo%28map_aaa704ed917d43e2bfff5c00caa5ca37%29%3B%0A%20%20%20%20%20%20%20%20%0A%20%20%20%20%0A%20%20%20%20%20%20%20%20var%20marker_2e121594523248fe997c006738d406c4%20%3D%20L.marker%28%0A%20%20%20%20%20%20%20%20%20%20%20%20%5B38.87896390122137%2C%20-77.02395625518095%5D%2C%0A%20%20%20%20%20%20%20%20%20%20%20%20%7B%0A%20%20%20%20%20%20%20%20%20%20%20%20%20%20%20%20icon%3A%20new%20L.Icon.Default%28%29%2C%0A%20%20%20%20%20%20%20%20%20%20%20%20%20%20%20%20%7D%0A%20%20%20%20%20%20%20%20%20%20%20%20%29.addTo%28map_aaa704ed917d43e2bfff5c00caa5ca37%29%3B%0A%20%20%20%20%20%20%20%20%0A%20%20%20%20%0A%20%20%20%20%20%20%20%20var%20marker_aba35c25e5da4ffd8d9ef9eff71ae4ca%20%3D%20L.marker%28%0A%20%20%20%20%20%20%20%20%20%20%20%20%5B38.88466820315038%2C%20-76.9955181017756%5D%2C%0A%20%20%20%20%20%20%20%20%20%20%20%20%7B%0A%20%20%20%20%20%20%20%20%20%20%20%20%20%20%20%20icon%3A%20new%20L.Icon.Default%28%29%2C%0A%20%20%20%20%20%20%20%20%20%20%20%20%20%20%20%20%7D%0A%20%20%20%20%20%20%20%20%20%20%20%20%29.addTo%28map_aaa704ed917d43e2bfff5c00caa5ca37%29%3B%0A%20%20%20%20%20%20%20%20%0A%20%20%20%20%0A%20%20%20%20%20%20%20%20var%20marker_618987dd4bf24b988073ed142170e9fb%20%3D%20L.marker%28%0A%20%20%20%20%20%20%20%20%20%20%20%20%5B38.880936115739125%2C%20-76.98776185512543%5D%2C%0A%20%20%20%20%20%20%20%20%20%20%20%20%7B%0A%20%20%20%20%20%20%20%20%20%20%20%20%20%20%20%20icon%3A%20new%20L.Icon.Default%28%29%2C%0A%20%20%20%20%20%20%20%20%20%20%20%20%20%20%20%20%7D%0A%20%20%20%20%20%20%20%20%20%20%20%20%29.addTo%28map_aaa704ed917d43e2bfff5c00caa5ca37%29%3B%0A%20%20%20%20%20%20%20%20%0A%20%20%20%20%0A%20%20%20%20%20%20%20%20var%20marker_14f20a95983446ee9b450c2d7084e893%20%3D%20L.marker%28%0A%20%20%20%20%20%20%20%20%20%20%20%20%5B38.88675161901138%2C%20-77.00182870095%5D%2C%0A%20%20%20%20%20%20%20%20%20%20%20%20%7B%0A%20%20%20%20%20%20%20%20%20%20%20%20%20%20%20%20icon%3A%20new%20L.Icon.Default%28%29%2C%0A%20%20%20%20%20%20%20%20%20%20%20%20%20%20%20%20%7D%0A%20%20%20%20%20%20%20%20%20%20%20%20%29.addTo%28map_aaa704ed917d43e2bfff5c00caa5ca37%29%3B%0A%20%20%20%20%20%20%20%20%0A%20%20%20%20%0A%20%20%20%20%20%20%20%20var%20marker_c566f569208b4d3baa98c74ecb7b3ad2%20%3D%20L.marker%28%0A%20%20%20%20%20%20%20%20%20%20%20%20%5B38.88825299727735%2C%20-77.01290124326792%5D%2C%0A%20%20%20%20%20%20%20%20%20%20%20%20%7B%0A%20%20%20%20%20%20%20%20%20%20%20%20%20%20%20%20icon%3A%20new%20L.Icon.Default%28%29%2C%0A%20%20%20%20%20%20%20%20%20%20%20%20%20%20%20%20%7D%0A%20%20%20%20%20%20%20%20%20%20%20%20%29.addTo%28map_aaa704ed917d43e2bfff5c00caa5ca37%29%3B%0A%20%20%20%20%20%20%20%20%0A%20%20%20%20%0A%20%20%20%20%20%20%20%20var%20marker_267fe3e9435742d698a8d37364ee0bb4%20%3D%20L.marker%28%0A%20%20%20%20%20%20%20%20%20%20%20%20%5B38.869676221789966%2C%20-77.01473449559143%5D%2C%0A%20%20%20%20%20%20%20%20%20%20%20%20%7B%0A%20%20%20%20%20%20%20%20%20%20%20%20%20%20%20%20icon%3A%20new%20L.Icon.Default%28%29%2C%0A%20%20%20%20%20%20%20%20%20%20%20%20%20%20%20%20%7D%0A%20%20%20%20%20%20%20%20%20%20%20%20%29.addTo%28map_aaa704ed917d43e2bfff5c00caa5ca37%29%3B%0A%20%20%20%20%20%20%20%20%0A%20%20%20%20%0A%20%20%20%20%20%20%20%20var%20marker_a5aa23e116754209a61453714b5aa091%20%3D%20L.marker%28%0A%20%20%20%20%20%20%20%20%20%20%20%20%5B38.865250453353624%2C%20-76.98974103523531%5D%2C%0A%20%20%20%20%20%20%20%20%20%20%20%20%7B%0A%20%20%20%20%20%20%20%20%20%20%20%20%20%20%20%20icon%3A%20new%20L.Icon.Default%28%29%2C%0A%20%20%20%20%20%20%20%20%20%20%20%20%20%20%20%20%7D%0A%20%20%20%20%20%20%20%20%20%20%20%20%29.addTo%28map_aaa704ed917d43e2bfff5c00caa5ca37%29%3B%0A%20%20%20%20%20%20%20%20%0A%20%20%20%20%0A%20%20%20%20%20%20%20%20var%20marker_308845d8569a4332bbd7388642efe275%20%3D%20L.marker%28%0A%20%20%20%20%20%20%20%20%20%20%20%20%5B38.88729544584589%2C%20-77.01258303947579%5D%2C%0A%20%20%20%20%20%20%20%20%20%20%20%20%7B%0A%20%20%20%20%20%20%20%20%20%20%20%20%20%20%20%20icon%3A%20new%20L.Icon.Default%28%29%2C%0A%20%20%20%20%20%20%20%20%20%20%20%20%20%20%20%20%7D%0A%20%20%20%20%20%20%20%20%20%20%20%20%29.addTo%28map_aaa704ed917d43e2bfff5c00caa5ca37%29%3B%0A%20%20%20%20%20%20%20%20%0A%20%20%20%20%0A%20%20%20%20%20%20%20%20var%20marker_e5cf8741fe2547308fe0ac61672be95f%20%3D%20L.marker%28%0A%20%20%20%20%20%20%20%20%20%20%20%20%5B38.88186288255072%2C%20-76.99468836611553%5D%2C%0A%20%20%20%20%20%20%20%20%20%20%20%20%7B%0A%20%20%20%20%20%20%20%20%20%20%20%20%20%20%20%20icon%3A%20new%20L.Icon.Default%28%29%2C%0A%20%20%20%20%20%20%20%20%20%20%20%20%20%20%20%20%7D%0A%20%20%20%20%20%20%20%20%20%20%20%20%29.addTo%28map_aaa704ed917d43e2bfff5c00caa5ca37%29%3B%0A%20%20%20%20%20%20%20%20%0A%20%20%20%20%0A%20%20%20%20%20%20%20%20var%20marker_3e9d947ba02243f4b81e70a547d2e452%20%3D%20L.marker%28%0A%20%20%20%20%20%20%20%20%20%20%20%20%5B38.886373297171765%2C%20-77.00101412378245%5D%2C%0A%20%20%20%20%20%20%20%20%20%20%20%20%7B%0A%20%20%20%20%20%20%20%20%20%20%20%20%20%20%20%20icon%3A%20new%20L.Icon.Default%28%29%2C%0A%20%20%20%20%20%20%20%20%20%20%20%20%20%20%20%20%7D%0A%20%20%20%20%20%20%20%20%20%20%20%20%29.addTo%28map_aaa704ed917d43e2bfff5c00caa5ca37%29%3B%0A%20%20%20%20%20%20%20%20%0A%20%20%20%20%0A%20%20%20%20%20%20%20%20var%20marker_19979db3cb9644cf89825a0faa83b992%20%3D%20L.marker%28%0A%20%20%20%20%20%20%20%20%20%20%20%20%5B38.886575030238745%2C%20-77.01337311739478%5D%2C%0A%20%20%20%20%20%20%20%20%20%20%20%20%7B%0A%20%20%20%20%20%20%20%20%20%20%20%20%20%20%20%20icon%3A%20new%20L.Icon.Default%28%29%2C%0A%20%20%20%20%20%20%20%20%20%20%20%20%20%20%20%20%7D%0A%20%20%20%20%20%20%20%20%20%20%20%20%29.addTo%28map_aaa704ed917d43e2bfff5c00caa5ca37%29%3B%0A%20%20%20%20%20%20%20%20%0A%20%20%20%20%0A%20%20%20%20%20%20%20%20var%20marker_69928133307346c282154c8e575a7d5f%20%3D%20L.marker%28%0A%20%20%20%20%20%20%20%20%20%20%20%20%5B38.887143767579516%2C%20-76.99623183134833%5D%2C%0A%20%20%20%20%20%20%20%20%20%20%20%20%7B%0A%20%20%20%20%20%20%20%20%20%20%20%20%20%20%20%20icon%3A%20new%20L.Icon.Default%28%29%2C%0A%20%20%20%20%20%20%20%20%20%20%20%20%20%20%20%20%7D%0A%20%20%20%20%20%20%20%20%20%20%20%20%29.addTo%28map_aaa704ed917d43e2bfff5c00caa5ca37%29%3B%0A%20%20%20%20%20%20%20%20%0A%3C/script%3E onload=\"this.contentDocument.open();this.contentDocument.write(    decodeURIComponent(this.getAttribute('data-html')));this.contentDocument.close();\" allowfullscreen webkitallowfullscreen mozallowfullscreen></iframe></div></div>"
            ],
            "text/plain": [
              "<folium.folium.Map at 0x7f07ad1ce1d0>"
            ]
          },
          "metadata": {
            "tags": []
          },
          "execution_count": 84
        }
      ]
    },
    {
      "cell_type": "markdown",
      "metadata": {
        "id": "JjbRaq69nSLo"
      },
      "source": [
        "#### Missoula"
      ]
    },
    {
      "cell_type": "code",
      "metadata": {
        "colab": {
          "base_uri": "https://localhost:8080/",
          "height": 0
        },
        "id": "zfD3Pmm-msKR",
        "outputId": "e3f0927b-72d6-4b10-8240-b3e08bc1afe9"
      },
      "source": [
        "missoula_map = folium.Map(location=[46.874451949999994, -113.99487574026844], zoom_start=15)\r\n",
        "missoula_points = missoula_venues[['lat', 'lng']]\r\n",
        "\r\n",
        "missoula = missoula_points.values.tolist()\r\n",
        "for point in range(0, len(missoula)):\r\n",
        "  folium.Marker(missoula[point]).add_to(missoula_map)\r\n",
        "missoula_map"
      ],
      "execution_count": 85,
      "outputs": [
        {
          "output_type": "execute_result",
          "data": {
            "text/html": [
              "<div style=\"width:100%;\"><div style=\"position:relative;width:100%;height:0;padding-bottom:60%;\"><span style=\"color:#565656\">Make this Notebook Trusted to load map: File -> Trust Notebook</span><iframe src=\"about:blank\" style=\"position:absolute;width:100%;height:100%;left:0;top:0;border:none !important;\" data-html=%3C%21DOCTYPE%20html%3E%0A%3Chead%3E%20%20%20%20%0A%20%20%20%20%3Cmeta%20http-equiv%3D%22content-type%22%20content%3D%22text/html%3B%20charset%3DUTF-8%22%20/%3E%0A%20%20%20%20%3Cscript%3EL_PREFER_CANVAS%3Dfalse%3B%20L_NO_TOUCH%3Dfalse%3B%20L_DISABLE_3D%3Dfalse%3B%3C/script%3E%0A%20%20%20%20%3Cscript%20src%3D%22https%3A//cdn.jsdelivr.net/npm/leaflet%401.4.0/dist/leaflet.js%22%3E%3C/script%3E%0A%20%20%20%20%3Cscript%20src%3D%22https%3A//code.jquery.com/jquery-1.12.4.min.js%22%3E%3C/script%3E%0A%20%20%20%20%3Cscript%20src%3D%22https%3A//maxcdn.bootstrapcdn.com/bootstrap/3.2.0/js/bootstrap.min.js%22%3E%3C/script%3E%0A%20%20%20%20%3Cscript%20src%3D%22https%3A//cdnjs.cloudflare.com/ajax/libs/Leaflet.awesome-markers/2.0.2/leaflet.awesome-markers.js%22%3E%3C/script%3E%0A%20%20%20%20%3Clink%20rel%3D%22stylesheet%22%20href%3D%22https%3A//cdn.jsdelivr.net/npm/leaflet%401.4.0/dist/leaflet.css%22/%3E%0A%20%20%20%20%3Clink%20rel%3D%22stylesheet%22%20href%3D%22https%3A//maxcdn.bootstrapcdn.com/bootstrap/3.2.0/css/bootstrap.min.css%22/%3E%0A%20%20%20%20%3Clink%20rel%3D%22stylesheet%22%20href%3D%22https%3A//maxcdn.bootstrapcdn.com/bootstrap/3.2.0/css/bootstrap-theme.min.css%22/%3E%0A%20%20%20%20%3Clink%20rel%3D%22stylesheet%22%20href%3D%22https%3A//maxcdn.bootstrapcdn.com/font-awesome/4.6.3/css/font-awesome.min.css%22/%3E%0A%20%20%20%20%3Clink%20rel%3D%22stylesheet%22%20href%3D%22https%3A//cdnjs.cloudflare.com/ajax/libs/Leaflet.awesome-markers/2.0.2/leaflet.awesome-markers.css%22/%3E%0A%20%20%20%20%3Clink%20rel%3D%22stylesheet%22%20href%3D%22https%3A//rawcdn.githack.com/python-visualization/folium/master/folium/templates/leaflet.awesome.rotate.css%22/%3E%0A%20%20%20%20%3Cstyle%3Ehtml%2C%20body%20%7Bwidth%3A%20100%25%3Bheight%3A%20100%25%3Bmargin%3A%200%3Bpadding%3A%200%3B%7D%3C/style%3E%0A%20%20%20%20%3Cstyle%3E%23map%20%7Bposition%3Aabsolute%3Btop%3A0%3Bbottom%3A0%3Bright%3A0%3Bleft%3A0%3B%7D%3C/style%3E%0A%20%20%20%20%0A%20%20%20%20%3Cmeta%20name%3D%22viewport%22%20content%3D%22width%3Ddevice-width%2C%0A%20%20%20%20%20%20%20%20initial-scale%3D1.0%2C%20maximum-scale%3D1.0%2C%20user-scalable%3Dno%22%20/%3E%0A%20%20%20%20%3Cstyle%3E%23map_9946762d9b1941cf93bb673c711ee704%20%7B%0A%20%20%20%20%20%20%20%20position%3A%20relative%3B%0A%20%20%20%20%20%20%20%20width%3A%20100.0%25%3B%0A%20%20%20%20%20%20%20%20height%3A%20100.0%25%3B%0A%20%20%20%20%20%20%20%20left%3A%200.0%25%3B%0A%20%20%20%20%20%20%20%20top%3A%200.0%25%3B%0A%20%20%20%20%20%20%20%20%7D%0A%20%20%20%20%3C/style%3E%0A%3C/head%3E%0A%3Cbody%3E%20%20%20%20%0A%20%20%20%20%0A%20%20%20%20%3Cdiv%20class%3D%22folium-map%22%20id%3D%22map_9946762d9b1941cf93bb673c711ee704%22%20%3E%3C/div%3E%0A%3C/body%3E%0A%3Cscript%3E%20%20%20%20%0A%20%20%20%20%0A%20%20%20%20%0A%20%20%20%20%20%20%20%20var%20bounds%20%3D%20null%3B%0A%20%20%20%20%0A%0A%20%20%20%20var%20map_9946762d9b1941cf93bb673c711ee704%20%3D%20L.map%28%0A%20%20%20%20%20%20%20%20%27map_9946762d9b1941cf93bb673c711ee704%27%2C%20%7B%0A%20%20%20%20%20%20%20%20center%3A%20%5B46.874451949999994%2C%20-113.99487574026844%5D%2C%0A%20%20%20%20%20%20%20%20zoom%3A%2015%2C%0A%20%20%20%20%20%20%20%20maxBounds%3A%20bounds%2C%0A%20%20%20%20%20%20%20%20layers%3A%20%5B%5D%2C%0A%20%20%20%20%20%20%20%20worldCopyJump%3A%20false%2C%0A%20%20%20%20%20%20%20%20crs%3A%20L.CRS.EPSG3857%2C%0A%20%20%20%20%20%20%20%20zoomControl%3A%20true%2C%0A%20%20%20%20%20%20%20%20%7D%29%3B%0A%0A%0A%20%20%20%20%0A%20%20%20%20var%20tile_layer_0745a96108f04674acd7bf4e4a2dd1c4%20%3D%20L.tileLayer%28%0A%20%20%20%20%20%20%20%20%27https%3A//%7Bs%7D.tile.openstreetmap.org/%7Bz%7D/%7Bx%7D/%7By%7D.png%27%2C%0A%20%20%20%20%20%20%20%20%7B%0A%20%20%20%20%20%20%20%20%22attribution%22%3A%20null%2C%0A%20%20%20%20%20%20%20%20%22detectRetina%22%3A%20false%2C%0A%20%20%20%20%20%20%20%20%22maxNativeZoom%22%3A%2018%2C%0A%20%20%20%20%20%20%20%20%22maxZoom%22%3A%2018%2C%0A%20%20%20%20%20%20%20%20%22minZoom%22%3A%200%2C%0A%20%20%20%20%20%20%20%20%22noWrap%22%3A%20false%2C%0A%20%20%20%20%20%20%20%20%22opacity%22%3A%201%2C%0A%20%20%20%20%20%20%20%20%22subdomains%22%3A%20%22abc%22%2C%0A%20%20%20%20%20%20%20%20%22tms%22%3A%20false%0A%7D%29.addTo%28map_9946762d9b1941cf93bb673c711ee704%29%3B%0A%20%20%20%20%0A%20%20%20%20%20%20%20%20var%20marker_30549d6e73a748aaa9974f835f84a023%20%3D%20L.marker%28%0A%20%20%20%20%20%20%20%20%20%20%20%20%5B46.87194471235912%2C%20-113.99748408534015%5D%2C%0A%20%20%20%20%20%20%20%20%20%20%20%20%7B%0A%20%20%20%20%20%20%20%20%20%20%20%20%20%20%20%20icon%3A%20new%20L.Icon.Default%28%29%2C%0A%20%20%20%20%20%20%20%20%20%20%20%20%20%20%20%20%7D%0A%20%20%20%20%20%20%20%20%20%20%20%20%29.addTo%28map_9946762d9b1941cf93bb673c711ee704%29%3B%0A%20%20%20%20%20%20%20%20%0A%20%20%20%20%0A%20%20%20%20%20%20%20%20var%20marker_db6744e2f6a94b7a823937763c26e042%20%3D%20L.marker%28%0A%20%20%20%20%20%20%20%20%20%20%20%20%5B46.871899500275674%2C%20-113.99425936094828%5D%2C%0A%20%20%20%20%20%20%20%20%20%20%20%20%7B%0A%20%20%20%20%20%20%20%20%20%20%20%20%20%20%20%20icon%3A%20new%20L.Icon.Default%28%29%2C%0A%20%20%20%20%20%20%20%20%20%20%20%20%20%20%20%20%7D%0A%20%20%20%20%20%20%20%20%20%20%20%20%29.addTo%28map_9946762d9b1941cf93bb673c711ee704%29%3B%0A%20%20%20%20%20%20%20%20%0A%20%20%20%20%0A%20%20%20%20%20%20%20%20var%20marker_e2a29975f19e4392a02e03a41ae941c6%20%3D%20L.marker%28%0A%20%20%20%20%20%20%20%20%20%20%20%20%5B46.8749831689638%2C%20-113.99329289923597%5D%2C%0A%20%20%20%20%20%20%20%20%20%20%20%20%7B%0A%20%20%20%20%20%20%20%20%20%20%20%20%20%20%20%20icon%3A%20new%20L.Icon.Default%28%29%2C%0A%20%20%20%20%20%20%20%20%20%20%20%20%20%20%20%20%7D%0A%20%20%20%20%20%20%20%20%20%20%20%20%29.addTo%28map_9946762d9b1941cf93bb673c711ee704%29%3B%0A%20%20%20%20%20%20%20%20%0A%20%20%20%20%0A%20%20%20%20%20%20%20%20var%20marker_0fc9bf91da594346aaac0e1307397cb7%20%3D%20L.marker%28%0A%20%20%20%20%20%20%20%20%20%20%20%20%5B46.87587424598599%2C%20-113.99383503856687%5D%2C%0A%20%20%20%20%20%20%20%20%20%20%20%20%7B%0A%20%20%20%20%20%20%20%20%20%20%20%20%20%20%20%20icon%3A%20new%20L.Icon.Default%28%29%2C%0A%20%20%20%20%20%20%20%20%20%20%20%20%20%20%20%20%7D%0A%20%20%20%20%20%20%20%20%20%20%20%20%29.addTo%28map_9946762d9b1941cf93bb673c711ee704%29%3B%0A%20%20%20%20%20%20%20%20%0A%20%20%20%20%0A%20%20%20%20%20%20%20%20var%20marker_997f24c4e21241dabbccf2a4e0de510b%20%3D%20L.marker%28%0A%20%20%20%20%20%20%20%20%20%20%20%20%5B46.87062802905879%2C%20-113.99510781846985%5D%2C%0A%20%20%20%20%20%20%20%20%20%20%20%20%7B%0A%20%20%20%20%20%20%20%20%20%20%20%20%20%20%20%20icon%3A%20new%20L.Icon.Default%28%29%2C%0A%20%20%20%20%20%20%20%20%20%20%20%20%20%20%20%20%7D%0A%20%20%20%20%20%20%20%20%20%20%20%20%29.addTo%28map_9946762d9b1941cf93bb673c711ee704%29%3B%0A%20%20%20%20%20%20%20%20%0A%20%20%20%20%0A%20%20%20%20%20%20%20%20var%20marker_62ebe4a90f72404abb781513cb2f3f77%20%3D%20L.marker%28%0A%20%20%20%20%20%20%20%20%20%20%20%20%5B46.871960945069105%2C%20-113.99691736386482%5D%2C%0A%20%20%20%20%20%20%20%20%20%20%20%20%7B%0A%20%20%20%20%20%20%20%20%20%20%20%20%20%20%20%20icon%3A%20new%20L.Icon.Default%28%29%2C%0A%20%20%20%20%20%20%20%20%20%20%20%20%20%20%20%20%7D%0A%20%20%20%20%20%20%20%20%20%20%20%20%29.addTo%28map_9946762d9b1941cf93bb673c711ee704%29%3B%0A%20%20%20%20%20%20%20%20%0A%20%20%20%20%0A%20%20%20%20%20%20%20%20var%20marker_bd0a74c9d0a043259df2db020ef1c605%20%3D%20L.marker%28%0A%20%20%20%20%20%20%20%20%20%20%20%20%5B46.87766%2C%20-113.9948%5D%2C%0A%20%20%20%20%20%20%20%20%20%20%20%20%7B%0A%20%20%20%20%20%20%20%20%20%20%20%20%20%20%20%20icon%3A%20new%20L.Icon.Default%28%29%2C%0A%20%20%20%20%20%20%20%20%20%20%20%20%20%20%20%20%7D%0A%20%20%20%20%20%20%20%20%20%20%20%20%29.addTo%28map_9946762d9b1941cf93bb673c711ee704%29%3B%0A%20%20%20%20%20%20%20%20%0A%20%20%20%20%0A%20%20%20%20%20%20%20%20var%20marker_859a4697b383430aba59040d856c849c%20%3D%20L.marker%28%0A%20%20%20%20%20%20%20%20%20%20%20%20%5B46.87153436138027%2C%20-113.9958981735602%5D%2C%0A%20%20%20%20%20%20%20%20%20%20%20%20%7B%0A%20%20%20%20%20%20%20%20%20%20%20%20%20%20%20%20icon%3A%20new%20L.Icon.Default%28%29%2C%0A%20%20%20%20%20%20%20%20%20%20%20%20%20%20%20%20%7D%0A%20%20%20%20%20%20%20%20%20%20%20%20%29.addTo%28map_9946762d9b1941cf93bb673c711ee704%29%3B%0A%20%20%20%20%20%20%20%20%0A%20%20%20%20%0A%20%20%20%20%20%20%20%20var%20marker_7b73151a944a430195f0b13f3716b136%20%3D%20L.marker%28%0A%20%20%20%20%20%20%20%20%20%20%20%20%5B46.875075665619754%2C%20-113.99308136299489%5D%2C%0A%20%20%20%20%20%20%20%20%20%20%20%20%7B%0A%20%20%20%20%20%20%20%20%20%20%20%20%20%20%20%20icon%3A%20new%20L.Icon.Default%28%29%2C%0A%20%20%20%20%20%20%20%20%20%20%20%20%20%20%20%20%7D%0A%20%20%20%20%20%20%20%20%20%20%20%20%29.addTo%28map_9946762d9b1941cf93bb673c711ee704%29%3B%0A%20%20%20%20%20%20%20%20%0A%20%20%20%20%0A%20%20%20%20%20%20%20%20var%20marker_7476bd66087e4a379ba35bc0405c2cc1%20%3D%20L.marker%28%0A%20%20%20%20%20%20%20%20%20%20%20%20%5B46.870304432757614%2C%20-113.99625732966763%5D%2C%0A%20%20%20%20%20%20%20%20%20%20%20%20%7B%0A%20%20%20%20%20%20%20%20%20%20%20%20%20%20%20%20icon%3A%20new%20L.Icon.Default%28%29%2C%0A%20%20%20%20%20%20%20%20%20%20%20%20%20%20%20%20%7D%0A%20%20%20%20%20%20%20%20%20%20%20%20%29.addTo%28map_9946762d9b1941cf93bb673c711ee704%29%3B%0A%20%20%20%20%20%20%20%20%0A%20%20%20%20%0A%20%20%20%20%20%20%20%20var%20marker_875f3b70bba245c4b87519fae26e572b%20%3D%20L.marker%28%0A%20%20%20%20%20%20%20%20%20%20%20%20%5B46.87095405942777%2C%20-113.99738678171228%5D%2C%0A%20%20%20%20%20%20%20%20%20%20%20%20%7B%0A%20%20%20%20%20%20%20%20%20%20%20%20%20%20%20%20icon%3A%20new%20L.Icon.Default%28%29%2C%0A%20%20%20%20%20%20%20%20%20%20%20%20%20%20%20%20%7D%0A%20%20%20%20%20%20%20%20%20%20%20%20%29.addTo%28map_9946762d9b1941cf93bb673c711ee704%29%3B%0A%20%20%20%20%20%20%20%20%0A%20%20%20%20%0A%20%20%20%20%20%20%20%20var%20marker_e9ea0705b9364ee6a930e1f44f6450a2%20%3D%20L.marker%28%0A%20%20%20%20%20%20%20%20%20%20%20%20%5B46.87273309066686%2C%20-113.99366807209745%5D%2C%0A%20%20%20%20%20%20%20%20%20%20%20%20%7B%0A%20%20%20%20%20%20%20%20%20%20%20%20%20%20%20%20icon%3A%20new%20L.Icon.Default%28%29%2C%0A%20%20%20%20%20%20%20%20%20%20%20%20%20%20%20%20%7D%0A%20%20%20%20%20%20%20%20%20%20%20%20%29.addTo%28map_9946762d9b1941cf93bb673c711ee704%29%3B%0A%20%20%20%20%20%20%20%20%0A%20%20%20%20%0A%20%20%20%20%20%20%20%20var%20marker_21e708a6f31f4ac5a9f4cac3764b1c71%20%3D%20L.marker%28%0A%20%20%20%20%20%20%20%20%20%20%20%20%5B46.87117676586573%2C%20-113.99752121455059%5D%2C%0A%20%20%20%20%20%20%20%20%20%20%20%20%7B%0A%20%20%20%20%20%20%20%20%20%20%20%20%20%20%20%20icon%3A%20new%20L.Icon.Default%28%29%2C%0A%20%20%20%20%20%20%20%20%20%20%20%20%20%20%20%20%7D%0A%20%20%20%20%20%20%20%20%20%20%20%20%29.addTo%28map_9946762d9b1941cf93bb673c711ee704%29%3B%0A%20%20%20%20%20%20%20%20%0A%20%20%20%20%0A%20%20%20%20%20%20%20%20var%20marker_45e98943cb554787aad6dbd0d0907318%20%3D%20L.marker%28%0A%20%20%20%20%20%20%20%20%20%20%20%20%5B46.873614907671836%2C%20-113.99423102254114%5D%2C%0A%20%20%20%20%20%20%20%20%20%20%20%20%7B%0A%20%20%20%20%20%20%20%20%20%20%20%20%20%20%20%20icon%3A%20new%20L.Icon.Default%28%29%2C%0A%20%20%20%20%20%20%20%20%20%20%20%20%20%20%20%20%7D%0A%20%20%20%20%20%20%20%20%20%20%20%20%29.addTo%28map_9946762d9b1941cf93bb673c711ee704%29%3B%0A%20%20%20%20%20%20%20%20%0A%20%20%20%20%0A%20%20%20%20%20%20%20%20var%20marker_f7c368371f81407d92c3963263f32676%20%3D%20L.marker%28%0A%20%20%20%20%20%20%20%20%20%20%20%20%5B46.87442988471711%2C%20-113.99298942329443%5D%2C%0A%20%20%20%20%20%20%20%20%20%20%20%20%7B%0A%20%20%20%20%20%20%20%20%20%20%20%20%20%20%20%20icon%3A%20new%20L.Icon.Default%28%29%2C%0A%20%20%20%20%20%20%20%20%20%20%20%20%20%20%20%20%7D%0A%20%20%20%20%20%20%20%20%20%20%20%20%29.addTo%28map_9946762d9b1941cf93bb673c711ee704%29%3B%0A%20%20%20%20%20%20%20%20%0A%20%20%20%20%0A%20%20%20%20%20%20%20%20var%20marker_93ce549d53674d0c9a08fdea44286edb%20%3D%20L.marker%28%0A%20%20%20%20%20%20%20%20%20%20%20%20%5B46.87191294097521%2C%20-113.9930248260498%5D%2C%0A%20%20%20%20%20%20%20%20%20%20%20%20%7B%0A%20%20%20%20%20%20%20%20%20%20%20%20%20%20%20%20icon%3A%20new%20L.Icon.Default%28%29%2C%0A%20%20%20%20%20%20%20%20%20%20%20%20%20%20%20%20%7D%0A%20%20%20%20%20%20%20%20%20%20%20%20%29.addTo%28map_9946762d9b1941cf93bb673c711ee704%29%3B%0A%20%20%20%20%20%20%20%20%0A%20%20%20%20%0A%20%20%20%20%20%20%20%20var%20marker_50b026e25b014c56aabd69169fca1bea%20%3D%20L.marker%28%0A%20%20%20%20%20%20%20%20%20%20%20%20%5B46.870872%2C%20-113.99705%5D%2C%0A%20%20%20%20%20%20%20%20%20%20%20%20%7B%0A%20%20%20%20%20%20%20%20%20%20%20%20%20%20%20%20icon%3A%20new%20L.Icon.Default%28%29%2C%0A%20%20%20%20%20%20%20%20%20%20%20%20%20%20%20%20%7D%0A%20%20%20%20%20%20%20%20%20%20%20%20%29.addTo%28map_9946762d9b1941cf93bb673c711ee704%29%3B%0A%20%20%20%20%20%20%20%20%0A%20%20%20%20%0A%20%20%20%20%20%20%20%20var%20marker_a088f29ba33b43e8b117ed20450e70f2%20%3D%20L.marker%28%0A%20%20%20%20%20%20%20%20%20%20%20%20%5B46.869703153738364%2C%20-113.99371011101391%5D%2C%0A%20%20%20%20%20%20%20%20%20%20%20%20%7B%0A%20%20%20%20%20%20%20%20%20%20%20%20%20%20%20%20icon%3A%20new%20L.Icon.Default%28%29%2C%0A%20%20%20%20%20%20%20%20%20%20%20%20%20%20%20%20%7D%0A%20%20%20%20%20%20%20%20%20%20%20%20%29.addTo%28map_9946762d9b1941cf93bb673c711ee704%29%3B%0A%20%20%20%20%20%20%20%20%0A%20%20%20%20%0A%20%20%20%20%20%20%20%20var%20marker_b04baf8732434c9cb4d71fd437458450%20%3D%20L.marker%28%0A%20%20%20%20%20%20%20%20%20%20%20%20%5B46.87350104216488%2C%20-113.99298431347569%5D%2C%0A%20%20%20%20%20%20%20%20%20%20%20%20%7B%0A%20%20%20%20%20%20%20%20%20%20%20%20%20%20%20%20icon%3A%20new%20L.Icon.Default%28%29%2C%0A%20%20%20%20%20%20%20%20%20%20%20%20%20%20%20%20%7D%0A%20%20%20%20%20%20%20%20%20%20%20%20%29.addTo%28map_9946762d9b1941cf93bb673c711ee704%29%3B%0A%20%20%20%20%20%20%20%20%0A%20%20%20%20%0A%20%20%20%20%20%20%20%20var%20marker_45d19756bdc54ff4a39d52297502ecef%20%3D%20L.marker%28%0A%20%20%20%20%20%20%20%20%20%20%20%20%5B46.87277414801122%2C%20-113.99342975320207%5D%2C%0A%20%20%20%20%20%20%20%20%20%20%20%20%7B%0A%20%20%20%20%20%20%20%20%20%20%20%20%20%20%20%20icon%3A%20new%20L.Icon.Default%28%29%2C%0A%20%20%20%20%20%20%20%20%20%20%20%20%20%20%20%20%7D%0A%20%20%20%20%20%20%20%20%20%20%20%20%29.addTo%28map_9946762d9b1941cf93bb673c711ee704%29%3B%0A%20%20%20%20%20%20%20%20%0A%20%20%20%20%0A%20%20%20%20%20%20%20%20var%20marker_c715f9bdc68d4ecab00e08c046cc1af8%20%3D%20L.marker%28%0A%20%20%20%20%20%20%20%20%20%20%20%20%5B46.86920147951588%2C%20-113.99632539144123%5D%2C%0A%20%20%20%20%20%20%20%20%20%20%20%20%7B%0A%20%20%20%20%20%20%20%20%20%20%20%20%20%20%20%20icon%3A%20new%20L.Icon.Default%28%29%2C%0A%20%20%20%20%20%20%20%20%20%20%20%20%20%20%20%20%7D%0A%20%20%20%20%20%20%20%20%20%20%20%20%29.addTo%28map_9946762d9b1941cf93bb673c711ee704%29%3B%0A%20%20%20%20%20%20%20%20%0A%20%20%20%20%0A%20%20%20%20%20%20%20%20var%20marker_b1db167b52bb4fab96239cdc17cf2c09%20%3D%20L.marker%28%0A%20%20%20%20%20%20%20%20%20%20%20%20%5B46.87064337273602%2C%20-113.99626659240164%5D%2C%0A%20%20%20%20%20%20%20%20%20%20%20%20%7B%0A%20%20%20%20%20%20%20%20%20%20%20%20%20%20%20%20icon%3A%20new%20L.Icon.Default%28%29%2C%0A%20%20%20%20%20%20%20%20%20%20%20%20%20%20%20%20%7D%0A%20%20%20%20%20%20%20%20%20%20%20%20%29.addTo%28map_9946762d9b1941cf93bb673c711ee704%29%3B%0A%20%20%20%20%20%20%20%20%0A%20%20%20%20%0A%20%20%20%20%20%20%20%20var%20marker_51819a11611a4b06a61c51e49fb926bb%20%3D%20L.marker%28%0A%20%20%20%20%20%20%20%20%20%20%20%20%5B46.87327383147011%2C%20-113.99357117208727%5D%2C%0A%20%20%20%20%20%20%20%20%20%20%20%20%7B%0A%20%20%20%20%20%20%20%20%20%20%20%20%20%20%20%20icon%3A%20new%20L.Icon.Default%28%29%2C%0A%20%20%20%20%20%20%20%20%20%20%20%20%20%20%20%20%7D%0A%20%20%20%20%20%20%20%20%20%20%20%20%29.addTo%28map_9946762d9b1941cf93bb673c711ee704%29%3B%0A%20%20%20%20%20%20%20%20%0A%20%20%20%20%0A%20%20%20%20%20%20%20%20var%20marker_b5c93d1af8e54e18b20005271bf26061%20%3D%20L.marker%28%0A%20%20%20%20%20%20%20%20%20%20%20%20%5B46.8696685319334%2C%20-113.99622892304667%5D%2C%0A%20%20%20%20%20%20%20%20%20%20%20%20%7B%0A%20%20%20%20%20%20%20%20%20%20%20%20%20%20%20%20icon%3A%20new%20L.Icon.Default%28%29%2C%0A%20%20%20%20%20%20%20%20%20%20%20%20%20%20%20%20%7D%0A%20%20%20%20%20%20%20%20%20%20%20%20%29.addTo%28map_9946762d9b1941cf93bb673c711ee704%29%3B%0A%20%20%20%20%20%20%20%20%0A%20%20%20%20%0A%20%20%20%20%20%20%20%20var%20marker_a924e9e0a88f47d28dac604704b295f0%20%3D%20L.marker%28%0A%20%20%20%20%20%20%20%20%20%20%20%20%5B46.872595635072535%2C%20-113.99661147988087%5D%2C%0A%20%20%20%20%20%20%20%20%20%20%20%20%7B%0A%20%20%20%20%20%20%20%20%20%20%20%20%20%20%20%20icon%3A%20new%20L.Icon.Default%28%29%2C%0A%20%20%20%20%20%20%20%20%20%20%20%20%20%20%20%20%7D%0A%20%20%20%20%20%20%20%20%20%20%20%20%29.addTo%28map_9946762d9b1941cf93bb673c711ee704%29%3B%0A%20%20%20%20%20%20%20%20%0A%20%20%20%20%0A%20%20%20%20%20%20%20%20var%20marker_f4e8ba9fc25a45979184fcd881207aa4%20%3D%20L.marker%28%0A%20%20%20%20%20%20%20%20%20%20%20%20%5B46.87363073902309%2C%20-113.99280270068256%5D%2C%0A%20%20%20%20%20%20%20%20%20%20%20%20%7B%0A%20%20%20%20%20%20%20%20%20%20%20%20%20%20%20%20icon%3A%20new%20L.Icon.Default%28%29%2C%0A%20%20%20%20%20%20%20%20%20%20%20%20%20%20%20%20%7D%0A%20%20%20%20%20%20%20%20%20%20%20%20%29.addTo%28map_9946762d9b1941cf93bb673c711ee704%29%3B%0A%20%20%20%20%20%20%20%20%0A%20%20%20%20%0A%20%20%20%20%20%20%20%20var%20marker_4731b5db77f94a3aa5df8d9b1451d29e%20%3D%20L.marker%28%0A%20%20%20%20%20%20%20%20%20%20%20%20%5B46.87375665899349%2C%20-113.99276932126249%5D%2C%0A%20%20%20%20%20%20%20%20%20%20%20%20%7B%0A%20%20%20%20%20%20%20%20%20%20%20%20%20%20%20%20icon%3A%20new%20L.Icon.Default%28%29%2C%0A%20%20%20%20%20%20%20%20%20%20%20%20%20%20%20%20%7D%0A%20%20%20%20%20%20%20%20%20%20%20%20%29.addTo%28map_9946762d9b1941cf93bb673c711ee704%29%3B%0A%20%20%20%20%20%20%20%20%0A%20%20%20%20%0A%20%20%20%20%20%20%20%20var%20marker_91a4f82bc67c45ccb02b93adb86adc4c%20%3D%20L.marker%28%0A%20%20%20%20%20%20%20%20%20%20%20%20%5B46.877727375113686%2C%20-114.00341380399152%5D%2C%0A%20%20%20%20%20%20%20%20%20%20%20%20%7B%0A%20%20%20%20%20%20%20%20%20%20%20%20%20%20%20%20icon%3A%20new%20L.Icon.Default%28%29%2C%0A%20%20%20%20%20%20%20%20%20%20%20%20%20%20%20%20%7D%0A%20%20%20%20%20%20%20%20%20%20%20%20%29.addTo%28map_9946762d9b1941cf93bb673c711ee704%29%3B%0A%20%20%20%20%20%20%20%20%0A%20%20%20%20%0A%20%20%20%20%20%20%20%20var%20marker_eff1291dd1824a7ebf2915165500f7c8%20%3D%20L.marker%28%0A%20%20%20%20%20%20%20%20%20%20%20%20%5B46.872679815239415%2C%20-113.99654161989295%5D%2C%0A%20%20%20%20%20%20%20%20%20%20%20%20%7B%0A%20%20%20%20%20%20%20%20%20%20%20%20%20%20%20%20icon%3A%20new%20L.Icon.Default%28%29%2C%0A%20%20%20%20%20%20%20%20%20%20%20%20%20%20%20%20%7D%0A%20%20%20%20%20%20%20%20%20%20%20%20%29.addTo%28map_9946762d9b1941cf93bb673c711ee704%29%3B%0A%20%20%20%20%20%20%20%20%0A%20%20%20%20%0A%20%20%20%20%20%20%20%20var%20marker_5d87207a7f024668a601e2aefeb28b1f%20%3D%20L.marker%28%0A%20%20%20%20%20%20%20%20%20%20%20%20%5B46.871619601787394%2C%20-113.99378949869661%5D%2C%0A%20%20%20%20%20%20%20%20%20%20%20%20%7B%0A%20%20%20%20%20%20%20%20%20%20%20%20%20%20%20%20icon%3A%20new%20L.Icon.Default%28%29%2C%0A%20%20%20%20%20%20%20%20%20%20%20%20%20%20%20%20%7D%0A%20%20%20%20%20%20%20%20%20%20%20%20%29.addTo%28map_9946762d9b1941cf93bb673c711ee704%29%3B%0A%20%20%20%20%20%20%20%20%0A%20%20%20%20%0A%20%20%20%20%20%20%20%20var%20marker_145d018c1c8c4623a56925f8df0a7d3a%20%3D%20L.marker%28%0A%20%20%20%20%20%20%20%20%20%20%20%20%5B46.8730755875155%2C%20-113.99381637286866%5D%2C%0A%20%20%20%20%20%20%20%20%20%20%20%20%7B%0A%20%20%20%20%20%20%20%20%20%20%20%20%20%20%20%20icon%3A%20new%20L.Icon.Default%28%29%2C%0A%20%20%20%20%20%20%20%20%20%20%20%20%20%20%20%20%7D%0A%20%20%20%20%20%20%20%20%20%20%20%20%29.addTo%28map_9946762d9b1941cf93bb673c711ee704%29%3B%0A%20%20%20%20%20%20%20%20%0A%20%20%20%20%0A%20%20%20%20%20%20%20%20var%20marker_08381524d3ad48bcab6e40b03d07e53e%20%3D%20L.marker%28%0A%20%20%20%20%20%20%20%20%20%20%20%20%5B46.87386479169753%2C%20-113.99327513817624%5D%2C%0A%20%20%20%20%20%20%20%20%20%20%20%20%7B%0A%20%20%20%20%20%20%20%20%20%20%20%20%20%20%20%20icon%3A%20new%20L.Icon.Default%28%29%2C%0A%20%20%20%20%20%20%20%20%20%20%20%20%20%20%20%20%7D%0A%20%20%20%20%20%20%20%20%20%20%20%20%29.addTo%28map_9946762d9b1941cf93bb673c711ee704%29%3B%0A%20%20%20%20%20%20%20%20%0A%20%20%20%20%0A%20%20%20%20%20%20%20%20var%20marker_8e2d3291d5fb440d99940e532b1de32b%20%3D%20L.marker%28%0A%20%20%20%20%20%20%20%20%20%20%20%20%5B46.865858296143514%2C%20-113.99870822610296%5D%2C%0A%20%20%20%20%20%20%20%20%20%20%20%20%7B%0A%20%20%20%20%20%20%20%20%20%20%20%20%20%20%20%20icon%3A%20new%20L.Icon.Default%28%29%2C%0A%20%20%20%20%20%20%20%20%20%20%20%20%20%20%20%20%7D%0A%20%20%20%20%20%20%20%20%20%20%20%20%29.addTo%28map_9946762d9b1941cf93bb673c711ee704%29%3B%0A%20%20%20%20%20%20%20%20%0A%20%20%20%20%0A%20%20%20%20%20%20%20%20var%20marker_17dba8fe89f84b869f856d24a5bb1f7e%20%3D%20L.marker%28%0A%20%20%20%20%20%20%20%20%20%20%20%20%5B46.86618311115127%2C%20-113.9975747486052%5D%2C%0A%20%20%20%20%20%20%20%20%20%20%20%20%7B%0A%20%20%20%20%20%20%20%20%20%20%20%20%20%20%20%20icon%3A%20new%20L.Icon.Default%28%29%2C%0A%20%20%20%20%20%20%20%20%20%20%20%20%20%20%20%20%7D%0A%20%20%20%20%20%20%20%20%20%20%20%20%29.addTo%28map_9946762d9b1941cf93bb673c711ee704%29%3B%0A%20%20%20%20%20%20%20%20%0A%20%20%20%20%0A%20%20%20%20%20%20%20%20var%20marker_f56a501f8fad42c4a09b450001e28d2f%20%3D%20L.marker%28%0A%20%20%20%20%20%20%20%20%20%20%20%20%5B46.86947155532024%2C%20-113.99285809506895%5D%2C%0A%20%20%20%20%20%20%20%20%20%20%20%20%7B%0A%20%20%20%20%20%20%20%20%20%20%20%20%20%20%20%20icon%3A%20new%20L.Icon.Default%28%29%2C%0A%20%20%20%20%20%20%20%20%20%20%20%20%20%20%20%20%7D%0A%20%20%20%20%20%20%20%20%20%20%20%20%29.addTo%28map_9946762d9b1941cf93bb673c711ee704%29%3B%0A%20%20%20%20%20%20%20%20%0A%20%20%20%20%0A%20%20%20%20%20%20%20%20var%20marker_2f742e45998945669fb6eca0a38f77df%20%3D%20L.marker%28%0A%20%20%20%20%20%20%20%20%20%20%20%20%5B46.86507523493901%2C%20-113.99794959718928%5D%2C%0A%20%20%20%20%20%20%20%20%20%20%20%20%7B%0A%20%20%20%20%20%20%20%20%20%20%20%20%20%20%20%20icon%3A%20new%20L.Icon.Default%28%29%2C%0A%20%20%20%20%20%20%20%20%20%20%20%20%20%20%20%20%7D%0A%20%20%20%20%20%20%20%20%20%20%20%20%29.addTo%28map_9946762d9b1941cf93bb673c711ee704%29%3B%0A%20%20%20%20%20%20%20%20%0A%20%20%20%20%0A%20%20%20%20%20%20%20%20var%20marker_03b168c7d15941a99ddb31fa0f96c4e1%20%3D%20L.marker%28%0A%20%20%20%20%20%20%20%20%20%20%20%20%5B46.86576107608036%2C%20-113.99714037717118%5D%2C%0A%20%20%20%20%20%20%20%20%20%20%20%20%7B%0A%20%20%20%20%20%20%20%20%20%20%20%20%20%20%20%20icon%3A%20new%20L.Icon.Default%28%29%2C%0A%20%20%20%20%20%20%20%20%20%20%20%20%20%20%20%20%7D%0A%20%20%20%20%20%20%20%20%20%20%20%20%29.addTo%28map_9946762d9b1941cf93bb673c711ee704%29%3B%0A%20%20%20%20%20%20%20%20%0A%20%20%20%20%0A%20%20%20%20%20%20%20%20var%20marker_2a2d01f381744d43873341e4d77965d9%20%3D%20L.marker%28%0A%20%20%20%20%20%20%20%20%20%20%20%20%5B46.87651193716263%2C%20-114.0095212924668%5D%2C%0A%20%20%20%20%20%20%20%20%20%20%20%20%7B%0A%20%20%20%20%20%20%20%20%20%20%20%20%20%20%20%20icon%3A%20new%20L.Icon.Default%28%29%2C%0A%20%20%20%20%20%20%20%20%20%20%20%20%20%20%20%20%7D%0A%20%20%20%20%20%20%20%20%20%20%20%20%29.addTo%28map_9946762d9b1941cf93bb673c711ee704%29%3B%0A%20%20%20%20%20%20%20%20%0A%20%20%20%20%0A%20%20%20%20%20%20%20%20var%20marker_736bfe3d04324c269ccf8d3fb5019783%20%3D%20L.marker%28%0A%20%20%20%20%20%20%20%20%20%20%20%20%5B46.87091270892707%2C%20-113.99651486876408%5D%2C%0A%20%20%20%20%20%20%20%20%20%20%20%20%7B%0A%20%20%20%20%20%20%20%20%20%20%20%20%20%20%20%20icon%3A%20new%20L.Icon.Default%28%29%2C%0A%20%20%20%20%20%20%20%20%20%20%20%20%20%20%20%20%7D%0A%20%20%20%20%20%20%20%20%20%20%20%20%29.addTo%28map_9946762d9b1941cf93bb673c711ee704%29%3B%0A%20%20%20%20%20%20%20%20%0A%20%20%20%20%0A%20%20%20%20%20%20%20%20var%20marker_c962411bf1cf4ad5adedc387595b7b43%20%3D%20L.marker%28%0A%20%20%20%20%20%20%20%20%20%20%20%20%5B46.86769722934613%2C%20-113.98689949387419%5D%2C%0A%20%20%20%20%20%20%20%20%20%20%20%20%7B%0A%20%20%20%20%20%20%20%20%20%20%20%20%20%20%20%20icon%3A%20new%20L.Icon.Default%28%29%2C%0A%20%20%20%20%20%20%20%20%20%20%20%20%20%20%20%20%7D%0A%20%20%20%20%20%20%20%20%20%20%20%20%29.addTo%28map_9946762d9b1941cf93bb673c711ee704%29%3B%0A%20%20%20%20%20%20%20%20%0A%20%20%20%20%0A%20%20%20%20%20%20%20%20var%20marker_aa1be80b25694e938a5e73e1d5f58956%20%3D%20L.marker%28%0A%20%20%20%20%20%20%20%20%20%20%20%20%5B46.87409925669533%2C%20-113.99332058111861%5D%2C%0A%20%20%20%20%20%20%20%20%20%20%20%20%7B%0A%20%20%20%20%20%20%20%20%20%20%20%20%20%20%20%20icon%3A%20new%20L.Icon.Default%28%29%2C%0A%20%20%20%20%20%20%20%20%20%20%20%20%20%20%20%20%7D%0A%20%20%20%20%20%20%20%20%20%20%20%20%29.addTo%28map_9946762d9b1941cf93bb673c711ee704%29%3B%0A%20%20%20%20%20%20%20%20%0A%20%20%20%20%0A%20%20%20%20%20%20%20%20var%20marker_516bb7799f8e4b77bf37404b7abc6973%20%3D%20L.marker%28%0A%20%20%20%20%20%20%20%20%20%20%20%20%5B46.86942434160789%2C%20-113.99606376012076%5D%2C%0A%20%20%20%20%20%20%20%20%20%20%20%20%7B%0A%20%20%20%20%20%20%20%20%20%20%20%20%20%20%20%20icon%3A%20new%20L.Icon.Default%28%29%2C%0A%20%20%20%20%20%20%20%20%20%20%20%20%20%20%20%20%7D%0A%20%20%20%20%20%20%20%20%20%20%20%20%29.addTo%28map_9946762d9b1941cf93bb673c711ee704%29%3B%0A%20%20%20%20%20%20%20%20%0A%20%20%20%20%0A%20%20%20%20%20%20%20%20var%20marker_1826159039ac4cb0a9990269194e4a49%20%3D%20L.marker%28%0A%20%20%20%20%20%20%20%20%20%20%20%20%5B46.87145558692316%2C%20-113.99438452570183%5D%2C%0A%20%20%20%20%20%20%20%20%20%20%20%20%7B%0A%20%20%20%20%20%20%20%20%20%20%20%20%20%20%20%20icon%3A%20new%20L.Icon.Default%28%29%2C%0A%20%20%20%20%20%20%20%20%20%20%20%20%20%20%20%20%7D%0A%20%20%20%20%20%20%20%20%20%20%20%20%29.addTo%28map_9946762d9b1941cf93bb673c711ee704%29%3B%0A%20%20%20%20%20%20%20%20%0A%20%20%20%20%0A%20%20%20%20%20%20%20%20var%20marker_cd0b7a03e31d4e7197d95bc8781eb23e%20%3D%20L.marker%28%0A%20%20%20%20%20%20%20%20%20%20%20%20%5B46.869332%2C%20-113.992973%5D%2C%0A%20%20%20%20%20%20%20%20%20%20%20%20%7B%0A%20%20%20%20%20%20%20%20%20%20%20%20%20%20%20%20icon%3A%20new%20L.Icon.Default%28%29%2C%0A%20%20%20%20%20%20%20%20%20%20%20%20%20%20%20%20%7D%0A%20%20%20%20%20%20%20%20%20%20%20%20%29.addTo%28map_9946762d9b1941cf93bb673c711ee704%29%3B%0A%20%20%20%20%20%20%20%20%0A%20%20%20%20%0A%20%20%20%20%20%20%20%20var%20marker_c05e7d79a3c242eab9e56e2b8fa40921%20%3D%20L.marker%28%0A%20%20%20%20%20%20%20%20%20%20%20%20%5B46.865937%2C%20-113.9987713%5D%2C%0A%20%20%20%20%20%20%20%20%20%20%20%20%7B%0A%20%20%20%20%20%20%20%20%20%20%20%20%20%20%20%20icon%3A%20new%20L.Icon.Default%28%29%2C%0A%20%20%20%20%20%20%20%20%20%20%20%20%20%20%20%20%7D%0A%20%20%20%20%20%20%20%20%20%20%20%20%29.addTo%28map_9946762d9b1941cf93bb673c711ee704%29%3B%0A%20%20%20%20%20%20%20%20%0A%20%20%20%20%0A%20%20%20%20%20%20%20%20var%20marker_d2412c3ce8e540faa51a298c7cef6c42%20%3D%20L.marker%28%0A%20%20%20%20%20%20%20%20%20%20%20%20%5B46.86705824589199%2C%20-113.99916374048148%5D%2C%0A%20%20%20%20%20%20%20%20%20%20%20%20%7B%0A%20%20%20%20%20%20%20%20%20%20%20%20%20%20%20%20icon%3A%20new%20L.Icon.Default%28%29%2C%0A%20%20%20%20%20%20%20%20%20%20%20%20%20%20%20%20%7D%0A%20%20%20%20%20%20%20%20%20%20%20%20%29.addTo%28map_9946762d9b1941cf93bb673c711ee704%29%3B%0A%20%20%20%20%20%20%20%20%0A%20%20%20%20%0A%20%20%20%20%20%20%20%20var%20marker_1c0a441a53b842a1874e9db4d6108e6d%20%3D%20L.marker%28%0A%20%20%20%20%20%20%20%20%20%20%20%20%5B46.870023%2C%20-113.991955%5D%2C%0A%20%20%20%20%20%20%20%20%20%20%20%20%7B%0A%20%20%20%20%20%20%20%20%20%20%20%20%20%20%20%20icon%3A%20new%20L.Icon.Default%28%29%2C%0A%20%20%20%20%20%20%20%20%20%20%20%20%20%20%20%20%7D%0A%20%20%20%20%20%20%20%20%20%20%20%20%29.addTo%28map_9946762d9b1941cf93bb673c711ee704%29%3B%0A%20%20%20%20%20%20%20%20%0A%20%20%20%20%0A%20%20%20%20%20%20%20%20var%20marker_48193b65708049fd818379a6117b19b1%20%3D%20L.marker%28%0A%20%20%20%20%20%20%20%20%20%20%20%20%5B46.87507324034795%2C%20-113.9913679654681%5D%2C%0A%20%20%20%20%20%20%20%20%20%20%20%20%7B%0A%20%20%20%20%20%20%20%20%20%20%20%20%20%20%20%20icon%3A%20new%20L.Icon.Default%28%29%2C%0A%20%20%20%20%20%20%20%20%20%20%20%20%20%20%20%20%7D%0A%20%20%20%20%20%20%20%20%20%20%20%20%29.addTo%28map_9946762d9b1941cf93bb673c711ee704%29%3B%0A%20%20%20%20%20%20%20%20%0A%20%20%20%20%0A%20%20%20%20%20%20%20%20var%20marker_25931d3d93f74bba9a09159fe203db7b%20%3D%20L.marker%28%0A%20%20%20%20%20%20%20%20%20%20%20%20%5B46.87230912803526%2C%20-113.9951032940153%5D%2C%0A%20%20%20%20%20%20%20%20%20%20%20%20%7B%0A%20%20%20%20%20%20%20%20%20%20%20%20%20%20%20%20icon%3A%20new%20L.Icon.Default%28%29%2C%0A%20%20%20%20%20%20%20%20%20%20%20%20%20%20%20%20%7D%0A%20%20%20%20%20%20%20%20%20%20%20%20%29.addTo%28map_9946762d9b1941cf93bb673c711ee704%29%3B%0A%20%20%20%20%20%20%20%20%0A%20%20%20%20%0A%20%20%20%20%20%20%20%20var%20marker_b907fc64aea14c11949230da8b07ffbd%20%3D%20L.marker%28%0A%20%20%20%20%20%20%20%20%20%20%20%20%5B46.86131303579038%2C%20-113.99849036995819%5D%2C%0A%20%20%20%20%20%20%20%20%20%20%20%20%7B%0A%20%20%20%20%20%20%20%20%20%20%20%20%20%20%20%20icon%3A%20new%20L.Icon.Default%28%29%2C%0A%20%20%20%20%20%20%20%20%20%20%20%20%20%20%20%20%7D%0A%20%20%20%20%20%20%20%20%20%20%20%20%29.addTo%28map_9946762d9b1941cf93bb673c711ee704%29%3B%0A%20%20%20%20%20%20%20%20%0A%20%20%20%20%0A%20%20%20%20%20%20%20%20var%20marker_3b4aa2d0f5fa40269627f80c6d7ffe20%20%3D%20L.marker%28%0A%20%20%20%20%20%20%20%20%20%20%20%20%5B46.86437904911157%2C%20-113.997230146374%5D%2C%0A%20%20%20%20%20%20%20%20%20%20%20%20%7B%0A%20%20%20%20%20%20%20%20%20%20%20%20%20%20%20%20icon%3A%20new%20L.Icon.Default%28%29%2C%0A%20%20%20%20%20%20%20%20%20%20%20%20%20%20%20%20%7D%0A%20%20%20%20%20%20%20%20%20%20%20%20%29.addTo%28map_9946762d9b1941cf93bb673c711ee704%29%3B%0A%20%20%20%20%20%20%20%20%0A%20%20%20%20%0A%20%20%20%20%20%20%20%20var%20marker_ccc89a083a204ec58bb3969fa63502fa%20%3D%20L.marker%28%0A%20%20%20%20%20%20%20%20%20%20%20%20%5B46.868457%2C%20-113.9868133%5D%2C%0A%20%20%20%20%20%20%20%20%20%20%20%20%7B%0A%20%20%20%20%20%20%20%20%20%20%20%20%20%20%20%20icon%3A%20new%20L.Icon.Default%28%29%2C%0A%20%20%20%20%20%20%20%20%20%20%20%20%20%20%20%20%7D%0A%20%20%20%20%20%20%20%20%20%20%20%20%29.addTo%28map_9946762d9b1941cf93bb673c711ee704%29%3B%0A%20%20%20%20%20%20%20%20%0A%20%20%20%20%0A%20%20%20%20%20%20%20%20var%20marker_8ebe91ae853447c7a8102afa5fc2b653%20%3D%20L.marker%28%0A%20%20%20%20%20%20%20%20%20%20%20%20%5B46.87097632123174%2C%20-113.99419871720532%5D%2C%0A%20%20%20%20%20%20%20%20%20%20%20%20%7B%0A%20%20%20%20%20%20%20%20%20%20%20%20%20%20%20%20icon%3A%20new%20L.Icon.Default%28%29%2C%0A%20%20%20%20%20%20%20%20%20%20%20%20%20%20%20%20%7D%0A%20%20%20%20%20%20%20%20%20%20%20%20%29.addTo%28map_9946762d9b1941cf93bb673c711ee704%29%3B%0A%20%20%20%20%20%20%20%20%0A%20%20%20%20%0A%20%20%20%20%20%20%20%20var%20marker_cb513b08c37046e18684939e7211a725%20%3D%20L.marker%28%0A%20%20%20%20%20%20%20%20%20%20%20%20%5B46.86934%2C%20-113.9829758%5D%2C%0A%20%20%20%20%20%20%20%20%20%20%20%20%7B%0A%20%20%20%20%20%20%20%20%20%20%20%20%20%20%20%20icon%3A%20new%20L.Icon.Default%28%29%2C%0A%20%20%20%20%20%20%20%20%20%20%20%20%20%20%20%20%7D%0A%20%20%20%20%20%20%20%20%20%20%20%20%29.addTo%28map_9946762d9b1941cf93bb673c711ee704%29%3B%0A%20%20%20%20%20%20%20%20%0A%20%20%20%20%0A%20%20%20%20%20%20%20%20var%20marker_1f3aea6dec3642f4a5e66583f106e6b6%20%3D%20L.marker%28%0A%20%20%20%20%20%20%20%20%20%20%20%20%5B46.873164667895765%2C%20-113.99249880636857%5D%2C%0A%20%20%20%20%20%20%20%20%20%20%20%20%7B%0A%20%20%20%20%20%20%20%20%20%20%20%20%20%20%20%20icon%3A%20new%20L.Icon.Default%28%29%2C%0A%20%20%20%20%20%20%20%20%20%20%20%20%20%20%20%20%7D%0A%20%20%20%20%20%20%20%20%20%20%20%20%29.addTo%28map_9946762d9b1941cf93bb673c711ee704%29%3B%0A%20%20%20%20%20%20%20%20%0A%20%20%20%20%0A%20%20%20%20%20%20%20%20var%20marker_0f393fe5e0b341f79a25c2c27b1d01da%20%3D%20L.marker%28%0A%20%20%20%20%20%20%20%20%20%20%20%20%5B46.86568111843868%2C%20-113.99726787874847%5D%2C%0A%20%20%20%20%20%20%20%20%20%20%20%20%7B%0A%20%20%20%20%20%20%20%20%20%20%20%20%20%20%20%20icon%3A%20new%20L.Icon.Default%28%29%2C%0A%20%20%20%20%20%20%20%20%20%20%20%20%20%20%20%20%7D%0A%20%20%20%20%20%20%20%20%20%20%20%20%29.addTo%28map_9946762d9b1941cf93bb673c711ee704%29%3B%0A%20%20%20%20%20%20%20%20%0A%20%20%20%20%0A%20%20%20%20%20%20%20%20var%20marker_3ef78a5bcd9f41c29ca156f5078d755e%20%3D%20L.marker%28%0A%20%20%20%20%20%20%20%20%20%20%20%20%5B46.870353056568845%2C%20-113.9897585510891%5D%2C%0A%20%20%20%20%20%20%20%20%20%20%20%20%7B%0A%20%20%20%20%20%20%20%20%20%20%20%20%20%20%20%20icon%3A%20new%20L.Icon.Default%28%29%2C%0A%20%20%20%20%20%20%20%20%20%20%20%20%20%20%20%20%7D%0A%20%20%20%20%20%20%20%20%20%20%20%20%29.addTo%28map_9946762d9b1941cf93bb673c711ee704%29%3B%0A%20%20%20%20%20%20%20%20%0A%20%20%20%20%0A%20%20%20%20%20%20%20%20var%20marker_5024fd1aa64b45e1b3821a3ba4e7aa76%20%3D%20L.marker%28%0A%20%20%20%20%20%20%20%20%20%20%20%20%5B46.87076220627453%2C%20-113.99264962012205%5D%2C%0A%20%20%20%20%20%20%20%20%20%20%20%20%7B%0A%20%20%20%20%20%20%20%20%20%20%20%20%20%20%20%20icon%3A%20new%20L.Icon.Default%28%29%2C%0A%20%20%20%20%20%20%20%20%20%20%20%20%20%20%20%20%7D%0A%20%20%20%20%20%20%20%20%20%20%20%20%29.addTo%28map_9946762d9b1941cf93bb673c711ee704%29%3B%0A%20%20%20%20%20%20%20%20%0A%20%20%20%20%0A%20%20%20%20%20%20%20%20var%20marker_d2f7792ff93a41e3abfb11e3f5c6a34b%20%3D%20L.marker%28%0A%20%20%20%20%20%20%20%20%20%20%20%20%5B46.86557102189259%2C%20-113.99824391776626%5D%2C%0A%20%20%20%20%20%20%20%20%20%20%20%20%7B%0A%20%20%20%20%20%20%20%20%20%20%20%20%20%20%20%20icon%3A%20new%20L.Icon.Default%28%29%2C%0A%20%20%20%20%20%20%20%20%20%20%20%20%20%20%20%20%7D%0A%20%20%20%20%20%20%20%20%20%20%20%20%29.addTo%28map_9946762d9b1941cf93bb673c711ee704%29%3B%0A%20%20%20%20%20%20%20%20%0A%20%20%20%20%0A%20%20%20%20%20%20%20%20var%20marker_5a4c60d7c12d415e8ab38cbbe0bf2f78%20%3D%20L.marker%28%0A%20%20%20%20%20%20%20%20%20%20%20%20%5B46.8720181963696%2C%20-113.99601500626852%5D%2C%0A%20%20%20%20%20%20%20%20%20%20%20%20%7B%0A%20%20%20%20%20%20%20%20%20%20%20%20%20%20%20%20icon%3A%20new%20L.Icon.Default%28%29%2C%0A%20%20%20%20%20%20%20%20%20%20%20%20%20%20%20%20%7D%0A%20%20%20%20%20%20%20%20%20%20%20%20%29.addTo%28map_9946762d9b1941cf93bb673c711ee704%29%3B%0A%20%20%20%20%20%20%20%20%0A%20%20%20%20%0A%20%20%20%20%20%20%20%20var%20marker_2870b0459e3b40a18fae2b98123882d4%20%3D%20L.marker%28%0A%20%20%20%20%20%20%20%20%20%20%20%20%5B46.871794123536006%2C%20-114.01886379286843%5D%2C%0A%20%20%20%20%20%20%20%20%20%20%20%20%7B%0A%20%20%20%20%20%20%20%20%20%20%20%20%20%20%20%20icon%3A%20new%20L.Icon.Default%28%29%2C%0A%20%20%20%20%20%20%20%20%20%20%20%20%20%20%20%20%7D%0A%20%20%20%20%20%20%20%20%20%20%20%20%29.addTo%28map_9946762d9b1941cf93bb673c711ee704%29%3B%0A%20%20%20%20%20%20%20%20%0A%20%20%20%20%0A%20%20%20%20%20%20%20%20var%20marker_0c390bb0f2f5400e9203748fa397c288%20%3D%20L.marker%28%0A%20%20%20%20%20%20%20%20%20%20%20%20%5B46.87661484342443%2C%20-114.01370650145779%5D%2C%0A%20%20%20%20%20%20%20%20%20%20%20%20%7B%0A%20%20%20%20%20%20%20%20%20%20%20%20%20%20%20%20icon%3A%20new%20L.Icon.Default%28%29%2C%0A%20%20%20%20%20%20%20%20%20%20%20%20%20%20%20%20%7D%0A%20%20%20%20%20%20%20%20%20%20%20%20%29.addTo%28map_9946762d9b1941cf93bb673c711ee704%29%3B%0A%20%20%20%20%20%20%20%20%0A%20%20%20%20%0A%20%20%20%20%20%20%20%20var%20marker_b52a47bcc9eb43a49dd132bc7c02ba90%20%3D%20L.marker%28%0A%20%20%20%20%20%20%20%20%20%20%20%20%5B46.87035307060904%2C%20-113.99801250405096%5D%2C%0A%20%20%20%20%20%20%20%20%20%20%20%20%7B%0A%20%20%20%20%20%20%20%20%20%20%20%20%20%20%20%20icon%3A%20new%20L.Icon.Default%28%29%2C%0A%20%20%20%20%20%20%20%20%20%20%20%20%20%20%20%20%7D%0A%20%20%20%20%20%20%20%20%20%20%20%20%29.addTo%28map_9946762d9b1941cf93bb673c711ee704%29%3B%0A%20%20%20%20%20%20%20%20%0A%20%20%20%20%0A%20%20%20%20%20%20%20%20var%20marker_ce5482af4e824cb39e8a2459a9333bad%20%3D%20L.marker%28%0A%20%20%20%20%20%20%20%20%20%20%20%20%5B46.86462931844006%2C%20-114.00389516872559%5D%2C%0A%20%20%20%20%20%20%20%20%20%20%20%20%7B%0A%20%20%20%20%20%20%20%20%20%20%20%20%20%20%20%20icon%3A%20new%20L.Icon.Default%28%29%2C%0A%20%20%20%20%20%20%20%20%20%20%20%20%20%20%20%20%7D%0A%20%20%20%20%20%20%20%20%20%20%20%20%29.addTo%28map_9946762d9b1941cf93bb673c711ee704%29%3B%0A%20%20%20%20%20%20%20%20%0A%20%20%20%20%0A%20%20%20%20%20%20%20%20var%20marker_607d0c5fc5464c95a80bfd93c17ac5df%20%3D%20L.marker%28%0A%20%20%20%20%20%20%20%20%20%20%20%20%5B46.866276533912014%2C%20-113.99756527992616%5D%2C%0A%20%20%20%20%20%20%20%20%20%20%20%20%7B%0A%20%20%20%20%20%20%20%20%20%20%20%20%20%20%20%20icon%3A%20new%20L.Icon.Default%28%29%2C%0A%20%20%20%20%20%20%20%20%20%20%20%20%20%20%20%20%7D%0A%20%20%20%20%20%20%20%20%20%20%20%20%29.addTo%28map_9946762d9b1941cf93bb673c711ee704%29%3B%0A%20%20%20%20%20%20%20%20%0A%20%20%20%20%0A%20%20%20%20%20%20%20%20var%20marker_35e532e3d9ee43858264a6a4af2a77c8%20%3D%20L.marker%28%0A%20%20%20%20%20%20%20%20%20%20%20%20%5B46.871989%2C%20-113.996304%5D%2C%0A%20%20%20%20%20%20%20%20%20%20%20%20%7B%0A%20%20%20%20%20%20%20%20%20%20%20%20%20%20%20%20icon%3A%20new%20L.Icon.Default%28%29%2C%0A%20%20%20%20%20%20%20%20%20%20%20%20%20%20%20%20%7D%0A%20%20%20%20%20%20%20%20%20%20%20%20%29.addTo%28map_9946762d9b1941cf93bb673c711ee704%29%3B%0A%20%20%20%20%20%20%20%20%0A%20%20%20%20%0A%20%20%20%20%20%20%20%20var%20marker_53250881a15b4dfdbfd5b7b0d2893610%20%3D%20L.marker%28%0A%20%20%20%20%20%20%20%20%20%20%20%20%5B46.86613143534497%2C%20-113.99765408751277%5D%2C%0A%20%20%20%20%20%20%20%20%20%20%20%20%7B%0A%20%20%20%20%20%20%20%20%20%20%20%20%20%20%20%20icon%3A%20new%20L.Icon.Default%28%29%2C%0A%20%20%20%20%20%20%20%20%20%20%20%20%20%20%20%20%7D%0A%20%20%20%20%20%20%20%20%20%20%20%20%29.addTo%28map_9946762d9b1941cf93bb673c711ee704%29%3B%0A%20%20%20%20%20%20%20%20%0A%20%20%20%20%0A%20%20%20%20%20%20%20%20var%20marker_59d18ab9cfdc472db3625bbbe581e765%20%3D%20L.marker%28%0A%20%20%20%20%20%20%20%20%20%20%20%20%5B46.86631982903953%2C%20-113.98174528239882%5D%2C%0A%20%20%20%20%20%20%20%20%20%20%20%20%7B%0A%20%20%20%20%20%20%20%20%20%20%20%20%20%20%20%20icon%3A%20new%20L.Icon.Default%28%29%2C%0A%20%20%20%20%20%20%20%20%20%20%20%20%20%20%20%20%7D%0A%20%20%20%20%20%20%20%20%20%20%20%20%29.addTo%28map_9946762d9b1941cf93bb673c711ee704%29%3B%0A%20%20%20%20%20%20%20%20%0A%20%20%20%20%0A%20%20%20%20%20%20%20%20var%20marker_621f937a9dd44e319fa8e18f5040948f%20%3D%20L.marker%28%0A%20%20%20%20%20%20%20%20%20%20%20%20%5B46.85735096261207%2C%20-113.99774853043766%5D%2C%0A%20%20%20%20%20%20%20%20%20%20%20%20%7B%0A%20%20%20%20%20%20%20%20%20%20%20%20%20%20%20%20icon%3A%20new%20L.Icon.Default%28%29%2C%0A%20%20%20%20%20%20%20%20%20%20%20%20%20%20%20%20%7D%0A%20%20%20%20%20%20%20%20%20%20%20%20%29.addTo%28map_9946762d9b1941cf93bb673c711ee704%29%3B%0A%20%20%20%20%20%20%20%20%0A%20%20%20%20%0A%20%20%20%20%20%20%20%20var%20marker_84da8cae724d4daf9bd5c2176f837716%20%3D%20L.marker%28%0A%20%20%20%20%20%20%20%20%20%20%20%20%5B46.866723086033865%2C%20-113.99833020295482%5D%2C%0A%20%20%20%20%20%20%20%20%20%20%20%20%7B%0A%20%20%20%20%20%20%20%20%20%20%20%20%20%20%20%20icon%3A%20new%20L.Icon.Default%28%29%2C%0A%20%20%20%20%20%20%20%20%20%20%20%20%20%20%20%20%7D%0A%20%20%20%20%20%20%20%20%20%20%20%20%29.addTo%28map_9946762d9b1941cf93bb673c711ee704%29%3B%0A%20%20%20%20%20%20%20%20%0A%20%20%20%20%0A%20%20%20%20%20%20%20%20var%20marker_6fd3e8426ae34997bd28c5317565d074%20%3D%20L.marker%28%0A%20%20%20%20%20%20%20%20%20%20%20%20%5B46.870198351710556%2C%20-113.99432112543207%5D%2C%0A%20%20%20%20%20%20%20%20%20%20%20%20%7B%0A%20%20%20%20%20%20%20%20%20%20%20%20%20%20%20%20icon%3A%20new%20L.Icon.Default%28%29%2C%0A%20%20%20%20%20%20%20%20%20%20%20%20%20%20%20%20%7D%0A%20%20%20%20%20%20%20%20%20%20%20%20%29.addTo%28map_9946762d9b1941cf93bb673c711ee704%29%3B%0A%20%20%20%20%20%20%20%20%0A%20%20%20%20%0A%20%20%20%20%20%20%20%20var%20marker_4c9513c6b980467da3ac7d6d7b679e70%20%3D%20L.marker%28%0A%20%20%20%20%20%20%20%20%20%20%20%20%5B46.88555031864222%2C%20-114.01496612233944%5D%2C%0A%20%20%20%20%20%20%20%20%20%20%20%20%7B%0A%20%20%20%20%20%20%20%20%20%20%20%20%20%20%20%20icon%3A%20new%20L.Icon.Default%28%29%2C%0A%20%20%20%20%20%20%20%20%20%20%20%20%20%20%20%20%7D%0A%20%20%20%20%20%20%20%20%20%20%20%20%29.addTo%28map_9946762d9b1941cf93bb673c711ee704%29%3B%0A%20%20%20%20%20%20%20%20%0A%20%20%20%20%0A%20%20%20%20%20%20%20%20var%20marker_d3d201a666b24551aebd6f3e69ce8170%20%3D%20L.marker%28%0A%20%20%20%20%20%20%20%20%20%20%20%20%5B46.85931867950099%2C%20-114.00234777713777%5D%2C%0A%20%20%20%20%20%20%20%20%20%20%20%20%7B%0A%20%20%20%20%20%20%20%20%20%20%20%20%20%20%20%20icon%3A%20new%20L.Icon.Default%28%29%2C%0A%20%20%20%20%20%20%20%20%20%20%20%20%20%20%20%20%7D%0A%20%20%20%20%20%20%20%20%20%20%20%20%29.addTo%28map_9946762d9b1941cf93bb673c711ee704%29%3B%0A%20%20%20%20%20%20%20%20%0A%20%20%20%20%0A%20%20%20%20%20%20%20%20var%20marker_22b5f8127d8643f0b72d436d0c00d21d%20%3D%20L.marker%28%0A%20%20%20%20%20%20%20%20%20%20%20%20%5B46.870036%2C%20-113.995578%5D%2C%0A%20%20%20%20%20%20%20%20%20%20%20%20%7B%0A%20%20%20%20%20%20%20%20%20%20%20%20%20%20%20%20icon%3A%20new%20L.Icon.Default%28%29%2C%0A%20%20%20%20%20%20%20%20%20%20%20%20%20%20%20%20%7D%0A%20%20%20%20%20%20%20%20%20%20%20%20%29.addTo%28map_9946762d9b1941cf93bb673c711ee704%29%3B%0A%20%20%20%20%20%20%20%20%0A%20%20%20%20%0A%20%20%20%20%20%20%20%20var%20marker_b545bce56b5c4be5894fe2734afbc87a%20%3D%20L.marker%28%0A%20%20%20%20%20%20%20%20%20%20%20%20%5B46.865184554346484%2C%20-114.00419114566701%5D%2C%0A%20%20%20%20%20%20%20%20%20%20%20%20%7B%0A%20%20%20%20%20%20%20%20%20%20%20%20%20%20%20%20icon%3A%20new%20L.Icon.Default%28%29%2C%0A%20%20%20%20%20%20%20%20%20%20%20%20%20%20%20%20%7D%0A%20%20%20%20%20%20%20%20%20%20%20%20%29.addTo%28map_9946762d9b1941cf93bb673c711ee704%29%3B%0A%20%20%20%20%20%20%20%20%0A%20%20%20%20%0A%20%20%20%20%20%20%20%20var%20marker_adfbd4229b04494c9f7898eaca4b02df%20%3D%20L.marker%28%0A%20%20%20%20%20%20%20%20%20%20%20%20%5B46.87484143300846%2C%20-113.99262464174483%5D%2C%0A%20%20%20%20%20%20%20%20%20%20%20%20%7B%0A%20%20%20%20%20%20%20%20%20%20%20%20%20%20%20%20icon%3A%20new%20L.Icon.Default%28%29%2C%0A%20%20%20%20%20%20%20%20%20%20%20%20%20%20%20%20%7D%0A%20%20%20%20%20%20%20%20%20%20%20%20%29.addTo%28map_9946762d9b1941cf93bb673c711ee704%29%3B%0A%20%20%20%20%20%20%20%20%0A%20%20%20%20%0A%20%20%20%20%20%20%20%20var%20marker_e1dead0904d74b93a5394ebd5db59df6%20%3D%20L.marker%28%0A%20%20%20%20%20%20%20%20%20%20%20%20%5B46.86196314194217%2C%20-113.98040276703715%5D%2C%0A%20%20%20%20%20%20%20%20%20%20%20%20%7B%0A%20%20%20%20%20%20%20%20%20%20%20%20%20%20%20%20icon%3A%20new%20L.Icon.Default%28%29%2C%0A%20%20%20%20%20%20%20%20%20%20%20%20%20%20%20%20%7D%0A%20%20%20%20%20%20%20%20%20%20%20%20%29.addTo%28map_9946762d9b1941cf93bb673c711ee704%29%3B%0A%20%20%20%20%20%20%20%20%0A%20%20%20%20%0A%20%20%20%20%20%20%20%20var%20marker_cace967eeb34459c8fd90664db8b0b00%20%3D%20L.marker%28%0A%20%20%20%20%20%20%20%20%20%20%20%20%5B46.86971186733753%2C%20-113.99110954960247%5D%2C%0A%20%20%20%20%20%20%20%20%20%20%20%20%7B%0A%20%20%20%20%20%20%20%20%20%20%20%20%20%20%20%20icon%3A%20new%20L.Icon.Default%28%29%2C%0A%20%20%20%20%20%20%20%20%20%20%20%20%20%20%20%20%7D%0A%20%20%20%20%20%20%20%20%20%20%20%20%29.addTo%28map_9946762d9b1941cf93bb673c711ee704%29%3B%0A%20%20%20%20%20%20%20%20%0A%20%20%20%20%0A%20%20%20%20%20%20%20%20var%20marker_fdea5310c5304eb485adc5d5a73d9a43%20%3D%20L.marker%28%0A%20%20%20%20%20%20%20%20%20%20%20%20%5B46.87364433433552%2C%20-113.99844486011887%5D%2C%0A%20%20%20%20%20%20%20%20%20%20%20%20%7B%0A%20%20%20%20%20%20%20%20%20%20%20%20%20%20%20%20icon%3A%20new%20L.Icon.Default%28%29%2C%0A%20%20%20%20%20%20%20%20%20%20%20%20%20%20%20%20%7D%0A%20%20%20%20%20%20%20%20%20%20%20%20%29.addTo%28map_9946762d9b1941cf93bb673c711ee704%29%3B%0A%20%20%20%20%20%20%20%20%0A%20%20%20%20%0A%20%20%20%20%20%20%20%20var%20marker_26cada96331f4560b05d4b981a7fa81e%20%3D%20L.marker%28%0A%20%20%20%20%20%20%20%20%20%20%20%20%5B46.86388831976947%2C%20-113.9834976196289%5D%2C%0A%20%20%20%20%20%20%20%20%20%20%20%20%7B%0A%20%20%20%20%20%20%20%20%20%20%20%20%20%20%20%20icon%3A%20new%20L.Icon.Default%28%29%2C%0A%20%20%20%20%20%20%20%20%20%20%20%20%20%20%20%20%7D%0A%20%20%20%20%20%20%20%20%20%20%20%20%29.addTo%28map_9946762d9b1941cf93bb673c711ee704%29%3B%0A%20%20%20%20%20%20%20%20%0A%20%20%20%20%0A%20%20%20%20%20%20%20%20var%20marker_507e1591f8a746a58ec66ddc52842def%20%3D%20L.marker%28%0A%20%20%20%20%20%20%20%20%20%20%20%20%5B46.85735158010367%2C%20-113.99769341419785%5D%2C%0A%20%20%20%20%20%20%20%20%20%20%20%20%7B%0A%20%20%20%20%20%20%20%20%20%20%20%20%20%20%20%20icon%3A%20new%20L.Icon.Default%28%29%2C%0A%20%20%20%20%20%20%20%20%20%20%20%20%20%20%20%20%7D%0A%20%20%20%20%20%20%20%20%20%20%20%20%29.addTo%28map_9946762d9b1941cf93bb673c711ee704%29%3B%0A%20%20%20%20%20%20%20%20%0A%20%20%20%20%0A%20%20%20%20%20%20%20%20var%20marker_b7d58b59cae64ad69f8d42406d8d18dd%20%3D%20L.marker%28%0A%20%20%20%20%20%20%20%20%20%20%20%20%5B46.86077088373857%2C%20-113.9830021365376%5D%2C%0A%20%20%20%20%20%20%20%20%20%20%20%20%7B%0A%20%20%20%20%20%20%20%20%20%20%20%20%20%20%20%20icon%3A%20new%20L.Icon.Default%28%29%2C%0A%20%20%20%20%20%20%20%20%20%20%20%20%20%20%20%20%7D%0A%20%20%20%20%20%20%20%20%20%20%20%20%29.addTo%28map_9946762d9b1941cf93bb673c711ee704%29%3B%0A%20%20%20%20%20%20%20%20%0A%20%20%20%20%0A%20%20%20%20%20%20%20%20var%20marker_cdc4f3ae9b36401db6b98f3f0fe7e4c9%20%3D%20L.marker%28%0A%20%20%20%20%20%20%20%20%20%20%20%20%5B46.87329548992062%2C%20-114.00751948356628%5D%2C%0A%20%20%20%20%20%20%20%20%20%20%20%20%7B%0A%20%20%20%20%20%20%20%20%20%20%20%20%20%20%20%20icon%3A%20new%20L.Icon.Default%28%29%2C%0A%20%20%20%20%20%20%20%20%20%20%20%20%20%20%20%20%7D%0A%20%20%20%20%20%20%20%20%20%20%20%20%29.addTo%28map_9946762d9b1941cf93bb673c711ee704%29%3B%0A%20%20%20%20%20%20%20%20%0A%20%20%20%20%0A%20%20%20%20%20%20%20%20var%20marker_6e9eb18b4ad248cbbde7241580028b3a%20%3D%20L.marker%28%0A%20%20%20%20%20%20%20%20%20%20%20%20%5B46.857909921413%2C%20-113.99767578568337%5D%2C%0A%20%20%20%20%20%20%20%20%20%20%20%20%7B%0A%20%20%20%20%20%20%20%20%20%20%20%20%20%20%20%20icon%3A%20new%20L.Icon.Default%28%29%2C%0A%20%20%20%20%20%20%20%20%20%20%20%20%20%20%20%20%7D%0A%20%20%20%20%20%20%20%20%20%20%20%20%29.addTo%28map_9946762d9b1941cf93bb673c711ee704%29%3B%0A%20%20%20%20%20%20%20%20%0A%20%20%20%20%0A%20%20%20%20%20%20%20%20var%20marker_64d3f489cd6f4f8d953c5ea2c95464d3%20%3D%20L.marker%28%0A%20%20%20%20%20%20%20%20%20%20%20%20%5B46.85704074789366%2C%20-113.99782203930617%5D%2C%0A%20%20%20%20%20%20%20%20%20%20%20%20%7B%0A%20%20%20%20%20%20%20%20%20%20%20%20%20%20%20%20icon%3A%20new%20L.Icon.Default%28%29%2C%0A%20%20%20%20%20%20%20%20%20%20%20%20%20%20%20%20%7D%0A%20%20%20%20%20%20%20%20%20%20%20%20%29.addTo%28map_9946762d9b1941cf93bb673c711ee704%29%3B%0A%20%20%20%20%20%20%20%20%0A%20%20%20%20%0A%20%20%20%20%20%20%20%20var%20marker_f571a125e4fb4810ac2cf1bde8e5b206%20%3D%20L.marker%28%0A%20%20%20%20%20%20%20%20%20%20%20%20%5B46.873704556192365%2C%20-113.99872461776526%5D%2C%0A%20%20%20%20%20%20%20%20%20%20%20%20%7B%0A%20%20%20%20%20%20%20%20%20%20%20%20%20%20%20%20icon%3A%20new%20L.Icon.Default%28%29%2C%0A%20%20%20%20%20%20%20%20%20%20%20%20%20%20%20%20%7D%0A%20%20%20%20%20%20%20%20%20%20%20%20%29.addTo%28map_9946762d9b1941cf93bb673c711ee704%29%3B%0A%20%20%20%20%20%20%20%20%0A%20%20%20%20%0A%20%20%20%20%20%20%20%20var%20marker_0dcd3be55a344ab6a4512227f66b514b%20%3D%20L.marker%28%0A%20%20%20%20%20%20%20%20%20%20%20%20%5B46.87604302148928%2C%20-114.00557576191105%5D%2C%0A%20%20%20%20%20%20%20%20%20%20%20%20%7B%0A%20%20%20%20%20%20%20%20%20%20%20%20%20%20%20%20icon%3A%20new%20L.Icon.Default%28%29%2C%0A%20%20%20%20%20%20%20%20%20%20%20%20%20%20%20%20%7D%0A%20%20%20%20%20%20%20%20%20%20%20%20%29.addTo%28map_9946762d9b1941cf93bb673c711ee704%29%3B%0A%20%20%20%20%20%20%20%20%0A%20%20%20%20%0A%20%20%20%20%20%20%20%20var%20marker_c6c70db727e840df9b1255d487e5bbbc%20%3D%20L.marker%28%0A%20%20%20%20%20%20%20%20%20%20%20%20%5B46.861325587424886%2C%20-113.98928451971477%5D%2C%0A%20%20%20%20%20%20%20%20%20%20%20%20%7B%0A%20%20%20%20%20%20%20%20%20%20%20%20%20%20%20%20icon%3A%20new%20L.Icon.Default%28%29%2C%0A%20%20%20%20%20%20%20%20%20%20%20%20%20%20%20%20%7D%0A%20%20%20%20%20%20%20%20%20%20%20%20%29.addTo%28map_9946762d9b1941cf93bb673c711ee704%29%3B%0A%20%20%20%20%20%20%20%20%0A%20%20%20%20%0A%20%20%20%20%20%20%20%20var%20marker_27ccdfb4495b450bb156fa12ec18f8db%20%3D%20L.marker%28%0A%20%20%20%20%20%20%20%20%20%20%20%20%5B46.87452856884427%2C%20-114.00300666689873%5D%2C%0A%20%20%20%20%20%20%20%20%20%20%20%20%7B%0A%20%20%20%20%20%20%20%20%20%20%20%20%20%20%20%20icon%3A%20new%20L.Icon.Default%28%29%2C%0A%20%20%20%20%20%20%20%20%20%20%20%20%20%20%20%20%7D%0A%20%20%20%20%20%20%20%20%20%20%20%20%29.addTo%28map_9946762d9b1941cf93bb673c711ee704%29%3B%0A%20%20%20%20%20%20%20%20%0A%20%20%20%20%0A%20%20%20%20%20%20%20%20var%20marker_7f3da63d8515404da9aa218fa52f550f%20%3D%20L.marker%28%0A%20%20%20%20%20%20%20%20%20%20%20%20%5B46.87263051716692%2C%20-114.02007323606514%5D%2C%0A%20%20%20%20%20%20%20%20%20%20%20%20%7B%0A%20%20%20%20%20%20%20%20%20%20%20%20%20%20%20%20icon%3A%20new%20L.Icon.Default%28%29%2C%0A%20%20%20%20%20%20%20%20%20%20%20%20%20%20%20%20%7D%0A%20%20%20%20%20%20%20%20%20%20%20%20%29.addTo%28map_9946762d9b1941cf93bb673c711ee704%29%3B%0A%20%20%20%20%20%20%20%20%0A%20%20%20%20%0A%20%20%20%20%20%20%20%20var%20marker_db82b6cabe7e457d9d030c1595e15f82%20%3D%20L.marker%28%0A%20%20%20%20%20%20%20%20%20%20%20%20%5B46.85949611584293%2C%20-113.99107129794513%5D%2C%0A%20%20%20%20%20%20%20%20%20%20%20%20%7B%0A%20%20%20%20%20%20%20%20%20%20%20%20%20%20%20%20icon%3A%20new%20L.Icon.Default%28%29%2C%0A%20%20%20%20%20%20%20%20%20%20%20%20%20%20%20%20%7D%0A%20%20%20%20%20%20%20%20%20%20%20%20%29.addTo%28map_9946762d9b1941cf93bb673c711ee704%29%3B%0A%20%20%20%20%20%20%20%20%0A%20%20%20%20%0A%20%20%20%20%20%20%20%20var%20marker_98ded45a91624b3084995fd646d68401%20%3D%20L.marker%28%0A%20%20%20%20%20%20%20%20%20%20%20%20%5B46.8777321%2C%20-114.0137518%5D%2C%0A%20%20%20%20%20%20%20%20%20%20%20%20%7B%0A%20%20%20%20%20%20%20%20%20%20%20%20%20%20%20%20icon%3A%20new%20L.Icon.Default%28%29%2C%0A%20%20%20%20%20%20%20%20%20%20%20%20%20%20%20%20%7D%0A%20%20%20%20%20%20%20%20%20%20%20%20%29.addTo%28map_9946762d9b1941cf93bb673c711ee704%29%3B%0A%20%20%20%20%20%20%20%20%0A%20%20%20%20%0A%20%20%20%20%20%20%20%20var%20marker_503651a2dbff4266a094cb96b2363829%20%3D%20L.marker%28%0A%20%20%20%20%20%20%20%20%20%20%20%20%5B46.87912775022094%2C%20-114.02007347973256%5D%2C%0A%20%20%20%20%20%20%20%20%20%20%20%20%7B%0A%20%20%20%20%20%20%20%20%20%20%20%20%20%20%20%20icon%3A%20new%20L.Icon.Default%28%29%2C%0A%20%20%20%20%20%20%20%20%20%20%20%20%20%20%20%20%7D%0A%20%20%20%20%20%20%20%20%20%20%20%20%29.addTo%28map_9946762d9b1941cf93bb673c711ee704%29%3B%0A%20%20%20%20%20%20%20%20%0A%20%20%20%20%0A%20%20%20%20%20%20%20%20var%20marker_94c05d0598bb4d9ea6b3d6c3bd5dd890%20%3D%20L.marker%28%0A%20%20%20%20%20%20%20%20%20%20%20%20%5B46.874667001958194%2C%20-113.9925742149353%5D%2C%0A%20%20%20%20%20%20%20%20%20%20%20%20%7B%0A%20%20%20%20%20%20%20%20%20%20%20%20%20%20%20%20icon%3A%20new%20L.Icon.Default%28%29%2C%0A%20%20%20%20%20%20%20%20%20%20%20%20%20%20%20%20%7D%0A%20%20%20%20%20%20%20%20%20%20%20%20%29.addTo%28map_9946762d9b1941cf93bb673c711ee704%29%3B%0A%20%20%20%20%20%20%20%20%0A%20%20%20%20%0A%20%20%20%20%20%20%20%20var%20marker_3908aab25f22466ba37afa8cbbdb4749%20%3D%20L.marker%28%0A%20%20%20%20%20%20%20%20%20%20%20%20%5B46.874511%2C%20-113.993365%5D%2C%0A%20%20%20%20%20%20%20%20%20%20%20%20%7B%0A%20%20%20%20%20%20%20%20%20%20%20%20%20%20%20%20icon%3A%20new%20L.Icon.Default%28%29%2C%0A%20%20%20%20%20%20%20%20%20%20%20%20%20%20%20%20%7D%0A%20%20%20%20%20%20%20%20%20%20%20%20%29.addTo%28map_9946762d9b1941cf93bb673c711ee704%29%3B%0A%20%20%20%20%20%20%20%20%0A%20%20%20%20%0A%20%20%20%20%20%20%20%20var%20marker_a9c6e25b0d434978a1efaa8ae2198fe9%20%3D%20L.marker%28%0A%20%20%20%20%20%20%20%20%20%20%20%20%5B46.872872369854065%2C%20-114.00512441255928%5D%2C%0A%20%20%20%20%20%20%20%20%20%20%20%20%7B%0A%20%20%20%20%20%20%20%20%20%20%20%20%20%20%20%20icon%3A%20new%20L.Icon.Default%28%29%2C%0A%20%20%20%20%20%20%20%20%20%20%20%20%20%20%20%20%7D%0A%20%20%20%20%20%20%20%20%20%20%20%20%29.addTo%28map_9946762d9b1941cf93bb673c711ee704%29%3B%0A%20%20%20%20%20%20%20%20%0A%20%20%20%20%0A%20%20%20%20%20%20%20%20var%20marker_55aad587ef1f4500a61892153d8dbd8c%20%3D%20L.marker%28%0A%20%20%20%20%20%20%20%20%20%20%20%20%5B46.87779%2C%20-114.004255%5D%2C%0A%20%20%20%20%20%20%20%20%20%20%20%20%7B%0A%20%20%20%20%20%20%20%20%20%20%20%20%20%20%20%20icon%3A%20new%20L.Icon.Default%28%29%2C%0A%20%20%20%20%20%20%20%20%20%20%20%20%20%20%20%20%7D%0A%20%20%20%20%20%20%20%20%20%20%20%20%29.addTo%28map_9946762d9b1941cf93bb673c711ee704%29%3B%0A%20%20%20%20%20%20%20%20%0A%20%20%20%20%0A%20%20%20%20%20%20%20%20var%20marker_aced419db7224c889c05964fb7d783c6%20%3D%20L.marker%28%0A%20%20%20%20%20%20%20%20%20%20%20%20%5B46.86457637985168%2C%20-113.99726224859836%5D%2C%0A%20%20%20%20%20%20%20%20%20%20%20%20%7B%0A%20%20%20%20%20%20%20%20%20%20%20%20%20%20%20%20icon%3A%20new%20L.Icon.Default%28%29%2C%0A%20%20%20%20%20%20%20%20%20%20%20%20%20%20%20%20%7D%0A%20%20%20%20%20%20%20%20%20%20%20%20%29.addTo%28map_9946762d9b1941cf93bb673c711ee704%29%3B%0A%20%20%20%20%20%20%20%20%0A%20%20%20%20%0A%20%20%20%20%20%20%20%20var%20marker_0d6f0c9aa1b6439fb635156b86b42e3f%20%3D%20L.marker%28%0A%20%20%20%20%20%20%20%20%20%20%20%20%5B46.88077103129887%2C%20-114.00710050710074%5D%2C%0A%20%20%20%20%20%20%20%20%20%20%20%20%7B%0A%20%20%20%20%20%20%20%20%20%20%20%20%20%20%20%20icon%3A%20new%20L.Icon.Default%28%29%2C%0A%20%20%20%20%20%20%20%20%20%20%20%20%20%20%20%20%7D%0A%20%20%20%20%20%20%20%20%20%20%20%20%29.addTo%28map_9946762d9b1941cf93bb673c711ee704%29%3B%0A%20%20%20%20%20%20%20%20%0A%20%20%20%20%0A%20%20%20%20%20%20%20%20var%20marker_118a13b272a740d6a0f5889410a0197f%20%3D%20L.marker%28%0A%20%20%20%20%20%20%20%20%20%20%20%20%5B46.87765560329924%2C%20-114.0119343996048%5D%2C%0A%20%20%20%20%20%20%20%20%20%20%20%20%7B%0A%20%20%20%20%20%20%20%20%20%20%20%20%20%20%20%20icon%3A%20new%20L.Icon.Default%28%29%2C%0A%20%20%20%20%20%20%20%20%20%20%20%20%20%20%20%20%7D%0A%20%20%20%20%20%20%20%20%20%20%20%20%29.addTo%28map_9946762d9b1941cf93bb673c711ee704%29%3B%0A%20%20%20%20%20%20%20%20%0A%3C/script%3E onload=\"this.contentDocument.open();this.contentDocument.write(    decodeURIComponent(this.getAttribute('data-html')));this.contentDocument.close();\" allowfullscreen webkitallowfullscreen mozallowfullscreen></iframe></div></div>"
            ],
            "text/plain": [
              "<folium.folium.Map at 0x7f07ad1c1350>"
            ]
          },
          "metadata": {
            "tags": []
          },
          "execution_count": 85
        }
      ]
    },
    {
      "cell_type": "markdown",
      "metadata": {
        "id": "8CyvmCc3nhVW"
      },
      "source": [
        "#### Rogers"
      ]
    },
    {
      "cell_type": "code",
      "metadata": {
        "colab": {
          "base_uri": "https://localhost:8080/",
          "height": 0
        },
        "id": "THos7kUCmsXA",
        "outputId": "9c7676b6-6109-4be8-88be-625fc7d58f15"
      },
      "source": [
        "rogers_map = folium.Map(location=[36.3347994, -94.1193531], zoom_start=15)\r\n",
        "rogers_points = rogers_venues[['lat', 'lng']]\r\n",
        "\r\n",
        "rogers = rogers_points.values.tolist()\r\n",
        "for point in range(0, len(rogers)):\r\n",
        "  folium.Marker(rogers[point]).add_to(rogers_map)\r\n",
        "rogers_map"
      ],
      "execution_count": 86,
      "outputs": [
        {
          "output_type": "execute_result",
          "data": {
            "text/html": [
              "<div style=\"width:100%;\"><div style=\"position:relative;width:100%;height:0;padding-bottom:60%;\"><span style=\"color:#565656\">Make this Notebook Trusted to load map: File -> Trust Notebook</span><iframe src=\"about:blank\" style=\"position:absolute;width:100%;height:100%;left:0;top:0;border:none !important;\" data-html=%3C%21DOCTYPE%20html%3E%0A%3Chead%3E%20%20%20%20%0A%20%20%20%20%3Cmeta%20http-equiv%3D%22content-type%22%20content%3D%22text/html%3B%20charset%3DUTF-8%22%20/%3E%0A%20%20%20%20%3Cscript%3EL_PREFER_CANVAS%3Dfalse%3B%20L_NO_TOUCH%3Dfalse%3B%20L_DISABLE_3D%3Dfalse%3B%3C/script%3E%0A%20%20%20%20%3Cscript%20src%3D%22https%3A//cdn.jsdelivr.net/npm/leaflet%401.4.0/dist/leaflet.js%22%3E%3C/script%3E%0A%20%20%20%20%3Cscript%20src%3D%22https%3A//code.jquery.com/jquery-1.12.4.min.js%22%3E%3C/script%3E%0A%20%20%20%20%3Cscript%20src%3D%22https%3A//maxcdn.bootstrapcdn.com/bootstrap/3.2.0/js/bootstrap.min.js%22%3E%3C/script%3E%0A%20%20%20%20%3Cscript%20src%3D%22https%3A//cdnjs.cloudflare.com/ajax/libs/Leaflet.awesome-markers/2.0.2/leaflet.awesome-markers.js%22%3E%3C/script%3E%0A%20%20%20%20%3Clink%20rel%3D%22stylesheet%22%20href%3D%22https%3A//cdn.jsdelivr.net/npm/leaflet%401.4.0/dist/leaflet.css%22/%3E%0A%20%20%20%20%3Clink%20rel%3D%22stylesheet%22%20href%3D%22https%3A//maxcdn.bootstrapcdn.com/bootstrap/3.2.0/css/bootstrap.min.css%22/%3E%0A%20%20%20%20%3Clink%20rel%3D%22stylesheet%22%20href%3D%22https%3A//maxcdn.bootstrapcdn.com/bootstrap/3.2.0/css/bootstrap-theme.min.css%22/%3E%0A%20%20%20%20%3Clink%20rel%3D%22stylesheet%22%20href%3D%22https%3A//maxcdn.bootstrapcdn.com/font-awesome/4.6.3/css/font-awesome.min.css%22/%3E%0A%20%20%20%20%3Clink%20rel%3D%22stylesheet%22%20href%3D%22https%3A//cdnjs.cloudflare.com/ajax/libs/Leaflet.awesome-markers/2.0.2/leaflet.awesome-markers.css%22/%3E%0A%20%20%20%20%3Clink%20rel%3D%22stylesheet%22%20href%3D%22https%3A//rawcdn.githack.com/python-visualization/folium/master/folium/templates/leaflet.awesome.rotate.css%22/%3E%0A%20%20%20%20%3Cstyle%3Ehtml%2C%20body%20%7Bwidth%3A%20100%25%3Bheight%3A%20100%25%3Bmargin%3A%200%3Bpadding%3A%200%3B%7D%3C/style%3E%0A%20%20%20%20%3Cstyle%3E%23map%20%7Bposition%3Aabsolute%3Btop%3A0%3Bbottom%3A0%3Bright%3A0%3Bleft%3A0%3B%7D%3C/style%3E%0A%20%20%20%20%0A%20%20%20%20%3Cmeta%20name%3D%22viewport%22%20content%3D%22width%3Ddevice-width%2C%0A%20%20%20%20%20%20%20%20initial-scale%3D1.0%2C%20maximum-scale%3D1.0%2C%20user-scalable%3Dno%22%20/%3E%0A%20%20%20%20%3Cstyle%3E%23map_dbc2756f0d154a1e86ada5b77d56857f%20%7B%0A%20%20%20%20%20%20%20%20position%3A%20relative%3B%0A%20%20%20%20%20%20%20%20width%3A%20100.0%25%3B%0A%20%20%20%20%20%20%20%20height%3A%20100.0%25%3B%0A%20%20%20%20%20%20%20%20left%3A%200.0%25%3B%0A%20%20%20%20%20%20%20%20top%3A%200.0%25%3B%0A%20%20%20%20%20%20%20%20%7D%0A%20%20%20%20%3C/style%3E%0A%3C/head%3E%0A%3Cbody%3E%20%20%20%20%0A%20%20%20%20%0A%20%20%20%20%3Cdiv%20class%3D%22folium-map%22%20id%3D%22map_dbc2756f0d154a1e86ada5b77d56857f%22%20%3E%3C/div%3E%0A%3C/body%3E%0A%3Cscript%3E%20%20%20%20%0A%20%20%20%20%0A%20%20%20%20%0A%20%20%20%20%20%20%20%20var%20bounds%20%3D%20null%3B%0A%20%20%20%20%0A%0A%20%20%20%20var%20map_dbc2756f0d154a1e86ada5b77d56857f%20%3D%20L.map%28%0A%20%20%20%20%20%20%20%20%27map_dbc2756f0d154a1e86ada5b77d56857f%27%2C%20%7B%0A%20%20%20%20%20%20%20%20center%3A%20%5B36.3347994%2C%20-94.1193531%5D%2C%0A%20%20%20%20%20%20%20%20zoom%3A%2015%2C%0A%20%20%20%20%20%20%20%20maxBounds%3A%20bounds%2C%0A%20%20%20%20%20%20%20%20layers%3A%20%5B%5D%2C%0A%20%20%20%20%20%20%20%20worldCopyJump%3A%20false%2C%0A%20%20%20%20%20%20%20%20crs%3A%20L.CRS.EPSG3857%2C%0A%20%20%20%20%20%20%20%20zoomControl%3A%20true%2C%0A%20%20%20%20%20%20%20%20%7D%29%3B%0A%0A%0A%20%20%20%20%0A%20%20%20%20var%20tile_layer_4543c7164f1b4c9cbbec7b3595ef63a0%20%3D%20L.tileLayer%28%0A%20%20%20%20%20%20%20%20%27https%3A//%7Bs%7D.tile.openstreetmap.org/%7Bz%7D/%7Bx%7D/%7By%7D.png%27%2C%0A%20%20%20%20%20%20%20%20%7B%0A%20%20%20%20%20%20%20%20%22attribution%22%3A%20null%2C%0A%20%20%20%20%20%20%20%20%22detectRetina%22%3A%20false%2C%0A%20%20%20%20%20%20%20%20%22maxNativeZoom%22%3A%2018%2C%0A%20%20%20%20%20%20%20%20%22maxZoom%22%3A%2018%2C%0A%20%20%20%20%20%20%20%20%22minZoom%22%3A%200%2C%0A%20%20%20%20%20%20%20%20%22noWrap%22%3A%20false%2C%0A%20%20%20%20%20%20%20%20%22opacity%22%3A%201%2C%0A%20%20%20%20%20%20%20%20%22subdomains%22%3A%20%22abc%22%2C%0A%20%20%20%20%20%20%20%20%22tms%22%3A%20false%0A%7D%29.addTo%28map_dbc2756f0d154a1e86ada5b77d56857f%29%3B%0A%20%20%20%20%0A%20%20%20%20%20%20%20%20var%20marker_1cd076d639254e338efa5d16ff0bd447%20%3D%20L.marker%28%0A%20%20%20%20%20%20%20%20%20%20%20%20%5B36.331387868103235%2C%20-94.11652652091347%5D%2C%0A%20%20%20%20%20%20%20%20%20%20%20%20%7B%0A%20%20%20%20%20%20%20%20%20%20%20%20%20%20%20%20icon%3A%20new%20L.Icon.Default%28%29%2C%0A%20%20%20%20%20%20%20%20%20%20%20%20%20%20%20%20%7D%0A%20%20%20%20%20%20%20%20%20%20%20%20%29.addTo%28map_dbc2756f0d154a1e86ada5b77d56857f%29%3B%0A%20%20%20%20%20%20%20%20%0A%20%20%20%20%0A%20%20%20%20%20%20%20%20var%20marker_afeaccf7bf664f36935bcea5ad6bdb1c%20%3D%20L.marker%28%0A%20%20%20%20%20%20%20%20%20%20%20%20%5B36.33822528960184%2C%20-94.11681477749948%5D%2C%0A%20%20%20%20%20%20%20%20%20%20%20%20%7B%0A%20%20%20%20%20%20%20%20%20%20%20%20%20%20%20%20icon%3A%20new%20L.Icon.Default%28%29%2C%0A%20%20%20%20%20%20%20%20%20%20%20%20%20%20%20%20%7D%0A%20%20%20%20%20%20%20%20%20%20%20%20%29.addTo%28map_dbc2756f0d154a1e86ada5b77d56857f%29%3B%0A%20%20%20%20%20%20%20%20%0A%20%20%20%20%0A%20%20%20%20%20%20%20%20var%20marker_bd27382b19604004a54070cfdd048948%20%3D%20L.marker%28%0A%20%20%20%20%20%20%20%20%20%20%20%20%5B36.33370334663452%2C%20-94.11479708434854%5D%2C%0A%20%20%20%20%20%20%20%20%20%20%20%20%7B%0A%20%20%20%20%20%20%20%20%20%20%20%20%20%20%20%20icon%3A%20new%20L.Icon.Default%28%29%2C%0A%20%20%20%20%20%20%20%20%20%20%20%20%20%20%20%20%7D%0A%20%20%20%20%20%20%20%20%20%20%20%20%29.addTo%28map_dbc2756f0d154a1e86ada5b77d56857f%29%3B%0A%20%20%20%20%20%20%20%20%0A%20%20%20%20%0A%20%20%20%20%20%20%20%20var%20marker_5c7bbb905be74e8fa51583e25a240ebb%20%3D%20L.marker%28%0A%20%20%20%20%20%20%20%20%20%20%20%20%5B36.33256146535647%2C%20-94.11639679728633%5D%2C%0A%20%20%20%20%20%20%20%20%20%20%20%20%7B%0A%20%20%20%20%20%20%20%20%20%20%20%20%20%20%20%20icon%3A%20new%20L.Icon.Default%28%29%2C%0A%20%20%20%20%20%20%20%20%20%20%20%20%20%20%20%20%7D%0A%20%20%20%20%20%20%20%20%20%20%20%20%29.addTo%28map_dbc2756f0d154a1e86ada5b77d56857f%29%3B%0A%20%20%20%20%20%20%20%20%0A%20%20%20%20%0A%20%20%20%20%20%20%20%20var%20marker_87020ffe228e42b5ac0e1c96774e45ec%20%3D%20L.marker%28%0A%20%20%20%20%20%20%20%20%20%20%20%20%5B36.334278%2C%20-94.116833%5D%2C%0A%20%20%20%20%20%20%20%20%20%20%20%20%7B%0A%20%20%20%20%20%20%20%20%20%20%20%20%20%20%20%20icon%3A%20new%20L.Icon.Default%28%29%2C%0A%20%20%20%20%20%20%20%20%20%20%20%20%20%20%20%20%7D%0A%20%20%20%20%20%20%20%20%20%20%20%20%29.addTo%28map_dbc2756f0d154a1e86ada5b77d56857f%29%3B%0A%20%20%20%20%20%20%20%20%0A%20%20%20%20%0A%20%20%20%20%20%20%20%20var%20marker_35ffed2bad4b4505b5637e37c259a8f3%20%3D%20L.marker%28%0A%20%20%20%20%20%20%20%20%20%20%20%20%5B36.33137679602509%2C%20-94.11654582864682%5D%2C%0A%20%20%20%20%20%20%20%20%20%20%20%20%7B%0A%20%20%20%20%20%20%20%20%20%20%20%20%20%20%20%20icon%3A%20new%20L.Icon.Default%28%29%2C%0A%20%20%20%20%20%20%20%20%20%20%20%20%20%20%20%20%7D%0A%20%20%20%20%20%20%20%20%20%20%20%20%29.addTo%28map_dbc2756f0d154a1e86ada5b77d56857f%29%3B%0A%20%20%20%20%20%20%20%20%0A%20%20%20%20%0A%20%20%20%20%20%20%20%20var%20marker_c6e1ace615bb4017a7d0d3500ec60f23%20%3D%20L.marker%28%0A%20%20%20%20%20%20%20%20%20%20%20%20%5B36.33122469720694%2C%20-94.11796198435336%5D%2C%0A%20%20%20%20%20%20%20%20%20%20%20%20%7B%0A%20%20%20%20%20%20%20%20%20%20%20%20%20%20%20%20icon%3A%20new%20L.Icon.Default%28%29%2C%0A%20%20%20%20%20%20%20%20%20%20%20%20%20%20%20%20%7D%0A%20%20%20%20%20%20%20%20%20%20%20%20%29.addTo%28map_dbc2756f0d154a1e86ada5b77d56857f%29%3B%0A%20%20%20%20%20%20%20%20%0A%20%20%20%20%0A%20%20%20%20%20%20%20%20var%20marker_cab2b8266edc45b4aa88c66eba279774%20%3D%20L.marker%28%0A%20%20%20%20%20%20%20%20%20%20%20%20%5B36.3326748162689%2C%20-94.12668835421675%5D%2C%0A%20%20%20%20%20%20%20%20%20%20%20%20%7B%0A%20%20%20%20%20%20%20%20%20%20%20%20%20%20%20%20icon%3A%20new%20L.Icon.Default%28%29%2C%0A%20%20%20%20%20%20%20%20%20%20%20%20%20%20%20%20%7D%0A%20%20%20%20%20%20%20%20%20%20%20%20%29.addTo%28map_dbc2756f0d154a1e86ada5b77d56857f%29%3B%0A%20%20%20%20%20%20%20%20%0A%20%20%20%20%0A%20%20%20%20%20%20%20%20var%20marker_6030187a8bbb4d6fa8e3f0b486962ae0%20%3D%20L.marker%28%0A%20%20%20%20%20%20%20%20%20%20%20%20%5B36.332654238998835%2C%20-94.11751416715788%5D%2C%0A%20%20%20%20%20%20%20%20%20%20%20%20%7B%0A%20%20%20%20%20%20%20%20%20%20%20%20%20%20%20%20icon%3A%20new%20L.Icon.Default%28%29%2C%0A%20%20%20%20%20%20%20%20%20%20%20%20%20%20%20%20%7D%0A%20%20%20%20%20%20%20%20%20%20%20%20%29.addTo%28map_dbc2756f0d154a1e86ada5b77d56857f%29%3B%0A%20%20%20%20%20%20%20%20%0A%20%20%20%20%0A%20%20%20%20%20%20%20%20var%20marker_c437c08228964030baf7af873295e58c%20%3D%20L.marker%28%0A%20%20%20%20%20%20%20%20%20%20%20%20%5B36.3339422%2C%20-94.1283328%5D%2C%0A%20%20%20%20%20%20%20%20%20%20%20%20%7B%0A%20%20%20%20%20%20%20%20%20%20%20%20%20%20%20%20icon%3A%20new%20L.Icon.Default%28%29%2C%0A%20%20%20%20%20%20%20%20%20%20%20%20%20%20%20%20%7D%0A%20%20%20%20%20%20%20%20%20%20%20%20%29.addTo%28map_dbc2756f0d154a1e86ada5b77d56857f%29%3B%0A%20%20%20%20%20%20%20%20%0A%20%20%20%20%0A%20%20%20%20%20%20%20%20var%20marker_b63b7fc0b5a444ba87018b75459181b2%20%3D%20L.marker%28%0A%20%20%20%20%20%20%20%20%20%20%20%20%5B36.33100270940089%2C%20-94.11701663985936%5D%2C%0A%20%20%20%20%20%20%20%20%20%20%20%20%7B%0A%20%20%20%20%20%20%20%20%20%20%20%20%20%20%20%20icon%3A%20new%20L.Icon.Default%28%29%2C%0A%20%20%20%20%20%20%20%20%20%20%20%20%20%20%20%20%7D%0A%20%20%20%20%20%20%20%20%20%20%20%20%29.addTo%28map_dbc2756f0d154a1e86ada5b77d56857f%29%3B%0A%20%20%20%20%20%20%20%20%0A%20%20%20%20%0A%20%20%20%20%20%20%20%20var%20marker_e34075d6d14e4662a4b0f913e17cff93%20%3D%20L.marker%28%0A%20%20%20%20%20%20%20%20%20%20%20%20%5B36.336551%2C%20-94.116485%5D%2C%0A%20%20%20%20%20%20%20%20%20%20%20%20%7B%0A%20%20%20%20%20%20%20%20%20%20%20%20%20%20%20%20icon%3A%20new%20L.Icon.Default%28%29%2C%0A%20%20%20%20%20%20%20%20%20%20%20%20%20%20%20%20%7D%0A%20%20%20%20%20%20%20%20%20%20%20%20%29.addTo%28map_dbc2756f0d154a1e86ada5b77d56857f%29%3B%0A%20%20%20%20%20%20%20%20%0A%20%20%20%20%0A%20%20%20%20%20%20%20%20var%20marker_725777d1b7bd41f283ba25996d3d0026%20%3D%20L.marker%28%0A%20%20%20%20%20%20%20%20%20%20%20%20%5B36.32558435763028%2C%20-94.12556589332365%5D%2C%0A%20%20%20%20%20%20%20%20%20%20%20%20%7B%0A%20%20%20%20%20%20%20%20%20%20%20%20%20%20%20%20icon%3A%20new%20L.Icon.Default%28%29%2C%0A%20%20%20%20%20%20%20%20%20%20%20%20%20%20%20%20%7D%0A%20%20%20%20%20%20%20%20%20%20%20%20%29.addTo%28map_dbc2756f0d154a1e86ada5b77d56857f%29%3B%0A%20%20%20%20%20%20%20%20%0A%20%20%20%20%0A%20%20%20%20%20%20%20%20var%20marker_d064937615824bb3979048b10d073035%20%3D%20L.marker%28%0A%20%20%20%20%20%20%20%20%20%20%20%20%5B36.32796213584444%2C%20-94.11307959519576%5D%2C%0A%20%20%20%20%20%20%20%20%20%20%20%20%7B%0A%20%20%20%20%20%20%20%20%20%20%20%20%20%20%20%20icon%3A%20new%20L.Icon.Default%28%29%2C%0A%20%20%20%20%20%20%20%20%20%20%20%20%20%20%20%20%7D%0A%20%20%20%20%20%20%20%20%20%20%20%20%29.addTo%28map_dbc2756f0d154a1e86ada5b77d56857f%29%3B%0A%20%20%20%20%20%20%20%20%0A%20%20%20%20%0A%20%20%20%20%20%20%20%20var%20marker_82671a07dd784064950ae0e23f7f1744%20%3D%20L.marker%28%0A%20%20%20%20%20%20%20%20%20%20%20%20%5B36.341322278392546%2C%20-94.11833441473641%5D%2C%0A%20%20%20%20%20%20%20%20%20%20%20%20%7B%0A%20%20%20%20%20%20%20%20%20%20%20%20%20%20%20%20icon%3A%20new%20L.Icon.Default%28%29%2C%0A%20%20%20%20%20%20%20%20%20%20%20%20%20%20%20%20%7D%0A%20%20%20%20%20%20%20%20%20%20%20%20%29.addTo%28map_dbc2756f0d154a1e86ada5b77d56857f%29%3B%0A%20%20%20%20%20%20%20%20%0A%20%20%20%20%0A%20%20%20%20%20%20%20%20var%20marker_86b217e6eefc4acbbf0d8047d1af5d7f%20%3D%20L.marker%28%0A%20%20%20%20%20%20%20%20%20%20%20%20%5B36.33193398151839%2C%20-94.12534185843349%5D%2C%0A%20%20%20%20%20%20%20%20%20%20%20%20%7B%0A%20%20%20%20%20%20%20%20%20%20%20%20%20%20%20%20icon%3A%20new%20L.Icon.Default%28%29%2C%0A%20%20%20%20%20%20%20%20%20%20%20%20%20%20%20%20%7D%0A%20%20%20%20%20%20%20%20%20%20%20%20%29.addTo%28map_dbc2756f0d154a1e86ada5b77d56857f%29%3B%0A%20%20%20%20%20%20%20%20%0A%20%20%20%20%0A%20%20%20%20%20%20%20%20var%20marker_2a73a675632b4f87aae7e1afb43dddf4%20%3D%20L.marker%28%0A%20%20%20%20%20%20%20%20%20%20%20%20%5B36.33911244977499%2C%20-94.11606159050237%5D%2C%0A%20%20%20%20%20%20%20%20%20%20%20%20%7B%0A%20%20%20%20%20%20%20%20%20%20%20%20%20%20%20%20icon%3A%20new%20L.Icon.Default%28%29%2C%0A%20%20%20%20%20%20%20%20%20%20%20%20%20%20%20%20%7D%0A%20%20%20%20%20%20%20%20%20%20%20%20%29.addTo%28map_dbc2756f0d154a1e86ada5b77d56857f%29%3B%0A%20%20%20%20%20%20%20%20%0A%20%20%20%20%0A%20%20%20%20%20%20%20%20var%20marker_dd90d78ebef9463087efb99c6d8375d0%20%3D%20L.marker%28%0A%20%20%20%20%20%20%20%20%20%20%20%20%5B36.33088827964294%2C%20-94.11796597019212%5D%2C%0A%20%20%20%20%20%20%20%20%20%20%20%20%7B%0A%20%20%20%20%20%20%20%20%20%20%20%20%20%20%20%20icon%3A%20new%20L.Icon.Default%28%29%2C%0A%20%20%20%20%20%20%20%20%20%20%20%20%20%20%20%20%7D%0A%20%20%20%20%20%20%20%20%20%20%20%20%29.addTo%28map_dbc2756f0d154a1e86ada5b77d56857f%29%3B%0A%20%20%20%20%20%20%20%20%0A%20%20%20%20%0A%20%20%20%20%20%20%20%20var%20marker_f81c2e8a06504a4fb4ce000712b03bf7%20%3D%20L.marker%28%0A%20%20%20%20%20%20%20%20%20%20%20%20%5B36.334048068116964%2C%20-94.13148934709365%5D%2C%0A%20%20%20%20%20%20%20%20%20%20%20%20%7B%0A%20%20%20%20%20%20%20%20%20%20%20%20%20%20%20%20icon%3A%20new%20L.Icon.Default%28%29%2C%0A%20%20%20%20%20%20%20%20%20%20%20%20%20%20%20%20%7D%0A%20%20%20%20%20%20%20%20%20%20%20%20%29.addTo%28map_dbc2756f0d154a1e86ada5b77d56857f%29%3B%0A%20%20%20%20%20%20%20%20%0A%20%20%20%20%0A%20%20%20%20%20%20%20%20var%20marker_05ea87455e744027967f759cb9e204b3%20%3D%20L.marker%28%0A%20%20%20%20%20%20%20%20%20%20%20%20%5B36.33812181787789%2C%20-94.11329479953842%5D%2C%0A%20%20%20%20%20%20%20%20%20%20%20%20%7B%0A%20%20%20%20%20%20%20%20%20%20%20%20%20%20%20%20icon%3A%20new%20L.Icon.Default%28%29%2C%0A%20%20%20%20%20%20%20%20%20%20%20%20%20%20%20%20%7D%0A%20%20%20%20%20%20%20%20%20%20%20%20%29.addTo%28map_dbc2756f0d154a1e86ada5b77d56857f%29%3B%0A%20%20%20%20%20%20%20%20%0A%20%20%20%20%0A%20%20%20%20%20%20%20%20var%20marker_53f83bf84634461d96bc386525f3a510%20%3D%20L.marker%28%0A%20%20%20%20%20%20%20%20%20%20%20%20%5B36.33447276455322%2C%20-94.13319988008975%5D%2C%0A%20%20%20%20%20%20%20%20%20%20%20%20%7B%0A%20%20%20%20%20%20%20%20%20%20%20%20%20%20%20%20icon%3A%20new%20L.Icon.Default%28%29%2C%0A%20%20%20%20%20%20%20%20%20%20%20%20%20%20%20%20%7D%0A%20%20%20%20%20%20%20%20%20%20%20%20%29.addTo%28map_dbc2756f0d154a1e86ada5b77d56857f%29%3B%0A%20%20%20%20%20%20%20%20%0A%20%20%20%20%0A%20%20%20%20%20%20%20%20var%20marker_335dd719f8494f45ad18d24e2be88e32%20%3D%20L.marker%28%0A%20%20%20%20%20%20%20%20%20%20%20%20%5B36.333202432777625%2C%20-94.10399479929694%5D%2C%0A%20%20%20%20%20%20%20%20%20%20%20%20%7B%0A%20%20%20%20%20%20%20%20%20%20%20%20%20%20%20%20icon%3A%20new%20L.Icon.Default%28%29%2C%0A%20%20%20%20%20%20%20%20%20%20%20%20%20%20%20%20%7D%0A%20%20%20%20%20%20%20%20%20%20%20%20%29.addTo%28map_dbc2756f0d154a1e86ada5b77d56857f%29%3B%0A%20%20%20%20%20%20%20%20%0A%20%20%20%20%0A%20%20%20%20%20%20%20%20var%20marker_6cf47d95d5f044e89c87787a5c8c892e%20%3D%20L.marker%28%0A%20%20%20%20%20%20%20%20%20%20%20%20%5B36.33049475876607%2C%20-94.12507369399754%5D%2C%0A%20%20%20%20%20%20%20%20%20%20%20%20%7B%0A%20%20%20%20%20%20%20%20%20%20%20%20%20%20%20%20icon%3A%20new%20L.Icon.Default%28%29%2C%0A%20%20%20%20%20%20%20%20%20%20%20%20%20%20%20%20%7D%0A%20%20%20%20%20%20%20%20%20%20%20%20%29.addTo%28map_dbc2756f0d154a1e86ada5b77d56857f%29%3B%0A%20%20%20%20%20%20%20%20%0A%20%20%20%20%0A%20%20%20%20%20%20%20%20var%20marker_0a0878c29aba48469fd780e088b043b8%20%3D%20L.marker%28%0A%20%20%20%20%20%20%20%20%20%20%20%20%5B36.3294794558277%2C%20-94.1253475659505%5D%2C%0A%20%20%20%20%20%20%20%20%20%20%20%20%7B%0A%20%20%20%20%20%20%20%20%20%20%20%20%20%20%20%20icon%3A%20new%20L.Icon.Default%28%29%2C%0A%20%20%20%20%20%20%20%20%20%20%20%20%20%20%20%20%7D%0A%20%20%20%20%20%20%20%20%20%20%20%20%29.addTo%28map_dbc2756f0d154a1e86ada5b77d56857f%29%3B%0A%20%20%20%20%20%20%20%20%0A%20%20%20%20%0A%20%20%20%20%20%20%20%20var%20marker_ea136e200d3944f79780e8214d1cf306%20%3D%20L.marker%28%0A%20%20%20%20%20%20%20%20%20%20%20%20%5B36.333468035744055%2C%20-94.1300747502559%5D%2C%0A%20%20%20%20%20%20%20%20%20%20%20%20%7B%0A%20%20%20%20%20%20%20%20%20%20%20%20%20%20%20%20icon%3A%20new%20L.Icon.Default%28%29%2C%0A%20%20%20%20%20%20%20%20%20%20%20%20%20%20%20%20%7D%0A%20%20%20%20%20%20%20%20%20%20%20%20%29.addTo%28map_dbc2756f0d154a1e86ada5b77d56857f%29%3B%0A%20%20%20%20%20%20%20%20%0A%20%20%20%20%0A%20%20%20%20%20%20%20%20var%20marker_962555b515f54dc3a71c138bf7436356%20%3D%20L.marker%28%0A%20%20%20%20%20%20%20%20%20%20%20%20%5B36.33309595338043%2C%20-94.13594649871811%5D%2C%0A%20%20%20%20%20%20%20%20%20%20%20%20%7B%0A%20%20%20%20%20%20%20%20%20%20%20%20%20%20%20%20icon%3A%20new%20L.Icon.Default%28%29%2C%0A%20%20%20%20%20%20%20%20%20%20%20%20%20%20%20%20%7D%0A%20%20%20%20%20%20%20%20%20%20%20%20%29.addTo%28map_dbc2756f0d154a1e86ada5b77d56857f%29%3B%0A%20%20%20%20%20%20%20%20%0A%20%20%20%20%0A%20%20%20%20%20%20%20%20var%20marker_ef5d1b3f74c249cfb27a1d71cb4f94f8%20%3D%20L.marker%28%0A%20%20%20%20%20%20%20%20%20%20%20%20%5B36.328561957764386%2C%20-94.12621540412684%5D%2C%0A%20%20%20%20%20%20%20%20%20%20%20%20%7B%0A%20%20%20%20%20%20%20%20%20%20%20%20%20%20%20%20icon%3A%20new%20L.Icon.Default%28%29%2C%0A%20%20%20%20%20%20%20%20%20%20%20%20%20%20%20%20%7D%0A%20%20%20%20%20%20%20%20%20%20%20%20%29.addTo%28map_dbc2756f0d154a1e86ada5b77d56857f%29%3B%0A%20%20%20%20%20%20%20%20%0A%20%20%20%20%0A%20%20%20%20%20%20%20%20var%20marker_809515cfd7794b35bd992fe36e00699b%20%3D%20L.marker%28%0A%20%20%20%20%20%20%20%20%20%20%20%20%5B36.334050066219646%2C%20-94.13055830084426%5D%2C%0A%20%20%20%20%20%20%20%20%20%20%20%20%7B%0A%20%20%20%20%20%20%20%20%20%20%20%20%20%20%20%20icon%3A%20new%20L.Icon.Default%28%29%2C%0A%20%20%20%20%20%20%20%20%20%20%20%20%20%20%20%20%7D%0A%20%20%20%20%20%20%20%20%20%20%20%20%29.addTo%28map_dbc2756f0d154a1e86ada5b77d56857f%29%3B%0A%20%20%20%20%20%20%20%20%0A%20%20%20%20%0A%20%20%20%20%20%20%20%20var%20marker_e06476f11da94e5981a26b46ec2c621e%20%3D%20L.marker%28%0A%20%20%20%20%20%20%20%20%20%20%20%20%5B36.328818377399855%2C%20-94.12553628832336%5D%2C%0A%20%20%20%20%20%20%20%20%20%20%20%20%7B%0A%20%20%20%20%20%20%20%20%20%20%20%20%20%20%20%20icon%3A%20new%20L.Icon.Default%28%29%2C%0A%20%20%20%20%20%20%20%20%20%20%20%20%20%20%20%20%7D%0A%20%20%20%20%20%20%20%20%20%20%20%20%29.addTo%28map_dbc2756f0d154a1e86ada5b77d56857f%29%3B%0A%20%20%20%20%20%20%20%20%0A%20%20%20%20%0A%20%20%20%20%20%20%20%20var%20marker_8f52d638065146aabbb1c5fda00d6e94%20%3D%20L.marker%28%0A%20%20%20%20%20%20%20%20%20%20%20%20%5B36.33421481655026%2C%20-94.13440926678884%5D%2C%0A%20%20%20%20%20%20%20%20%20%20%20%20%7B%0A%20%20%20%20%20%20%20%20%20%20%20%20%20%20%20%20icon%3A%20new%20L.Icon.Default%28%29%2C%0A%20%20%20%20%20%20%20%20%20%20%20%20%20%20%20%20%7D%0A%20%20%20%20%20%20%20%20%20%20%20%20%29.addTo%28map_dbc2756f0d154a1e86ada5b77d56857f%29%3B%0A%20%20%20%20%20%20%20%20%0A%20%20%20%20%0A%20%20%20%20%20%20%20%20var%20marker_1ed98ee351e147b0b80055f99fbddcd3%20%3D%20L.marker%28%0A%20%20%20%20%20%20%20%20%20%20%20%20%5B36.31942565792684%2C%20-94.12528754898409%5D%2C%0A%20%20%20%20%20%20%20%20%20%20%20%20%7B%0A%20%20%20%20%20%20%20%20%20%20%20%20%20%20%20%20icon%3A%20new%20L.Icon.Default%28%29%2C%0A%20%20%20%20%20%20%20%20%20%20%20%20%20%20%20%20%7D%0A%20%20%20%20%20%20%20%20%20%20%20%20%29.addTo%28map_dbc2756f0d154a1e86ada5b77d56857f%29%3B%0A%20%20%20%20%20%20%20%20%0A%20%20%20%20%0A%20%20%20%20%20%20%20%20var%20marker_e08d73d1e113491684f72dfa8e892fc9%20%3D%20L.marker%28%0A%20%20%20%20%20%20%20%20%20%20%20%20%5B36.33749250127062%2C%20-94.11740899108423%5D%2C%0A%20%20%20%20%20%20%20%20%20%20%20%20%7B%0A%20%20%20%20%20%20%20%20%20%20%20%20%20%20%20%20icon%3A%20new%20L.Icon.Default%28%29%2C%0A%20%20%20%20%20%20%20%20%20%20%20%20%20%20%20%20%7D%0A%20%20%20%20%20%20%20%20%20%20%20%20%29.addTo%28map_dbc2756f0d154a1e86ada5b77d56857f%29%3B%0A%20%20%20%20%20%20%20%20%0A%20%20%20%20%0A%20%20%20%20%20%20%20%20var%20marker_aa3ed8ef222f495881670fc81a1e912d%20%3D%20L.marker%28%0A%20%20%20%20%20%20%20%20%20%20%20%20%5B36.334386%2C%20-94.13993599999999%5D%2C%0A%20%20%20%20%20%20%20%20%20%20%20%20%7B%0A%20%20%20%20%20%20%20%20%20%20%20%20%20%20%20%20icon%3A%20new%20L.Icon.Default%28%29%2C%0A%20%20%20%20%20%20%20%20%20%20%20%20%20%20%20%20%7D%0A%20%20%20%20%20%20%20%20%20%20%20%20%29.addTo%28map_dbc2756f0d154a1e86ada5b77d56857f%29%3B%0A%20%20%20%20%20%20%20%20%0A%20%20%20%20%0A%20%20%20%20%20%20%20%20var%20marker_08188dd91d4347b8af648a8b0303e8de%20%3D%20L.marker%28%0A%20%20%20%20%20%20%20%20%20%20%20%20%5B36.32916335570985%2C%20-94.12628889083862%5D%2C%0A%20%20%20%20%20%20%20%20%20%20%20%20%7B%0A%20%20%20%20%20%20%20%20%20%20%20%20%20%20%20%20icon%3A%20new%20L.Icon.Default%28%29%2C%0A%20%20%20%20%20%20%20%20%20%20%20%20%20%20%20%20%7D%0A%20%20%20%20%20%20%20%20%20%20%20%20%29.addTo%28map_dbc2756f0d154a1e86ada5b77d56857f%29%3B%0A%20%20%20%20%20%20%20%20%0A%20%20%20%20%0A%20%20%20%20%20%20%20%20var%20marker_7b44c6f7d74c4915b7e4e4a89ae36ba9%20%3D%20L.marker%28%0A%20%20%20%20%20%20%20%20%20%20%20%20%5B36.33363769229106%2C%20-94.12180659051819%5D%2C%0A%20%20%20%20%20%20%20%20%20%20%20%20%7B%0A%20%20%20%20%20%20%20%20%20%20%20%20%20%20%20%20icon%3A%20new%20L.Icon.Default%28%29%2C%0A%20%20%20%20%20%20%20%20%20%20%20%20%20%20%20%20%7D%0A%20%20%20%20%20%20%20%20%20%20%20%20%29.addTo%28map_dbc2756f0d154a1e86ada5b77d56857f%29%3B%0A%20%20%20%20%20%20%20%20%0A%20%20%20%20%0A%20%20%20%20%20%20%20%20var%20marker_b1eb54bb5cb84314be34682bebed3d28%20%3D%20L.marker%28%0A%20%20%20%20%20%20%20%20%20%20%20%20%5B36.335079%2C%20-94.126224%5D%2C%0A%20%20%20%20%20%20%20%20%20%20%20%20%7B%0A%20%20%20%20%20%20%20%20%20%20%20%20%20%20%20%20icon%3A%20new%20L.Icon.Default%28%29%2C%0A%20%20%20%20%20%20%20%20%20%20%20%20%20%20%20%20%7D%0A%20%20%20%20%20%20%20%20%20%20%20%20%29.addTo%28map_dbc2756f0d154a1e86ada5b77d56857f%29%3B%0A%20%20%20%20%20%20%20%20%0A%20%20%20%20%0A%20%20%20%20%20%20%20%20var%20marker_7bb6dc426c70418bb199bb00feab807d%20%3D%20L.marker%28%0A%20%20%20%20%20%20%20%20%20%20%20%20%5B36.32904815673828%2C%20-94.1251449584961%5D%2C%0A%20%20%20%20%20%20%20%20%20%20%20%20%7B%0A%20%20%20%20%20%20%20%20%20%20%20%20%20%20%20%20icon%3A%20new%20L.Icon.Default%28%29%2C%0A%20%20%20%20%20%20%20%20%20%20%20%20%20%20%20%20%7D%0A%20%20%20%20%20%20%20%20%20%20%20%20%29.addTo%28map_dbc2756f0d154a1e86ada5b77d56857f%29%3B%0A%20%20%20%20%20%20%20%20%0A%20%20%20%20%0A%20%20%20%20%20%20%20%20var%20marker_c66f00c970324043ada477485e71dcbb%20%3D%20L.marker%28%0A%20%20%20%20%20%20%20%20%20%20%20%20%5B36.33436761220443%2C%20-94.14139106869698%5D%2C%0A%20%20%20%20%20%20%20%20%20%20%20%20%7B%0A%20%20%20%20%20%20%20%20%20%20%20%20%20%20%20%20icon%3A%20new%20L.Icon.Default%28%29%2C%0A%20%20%20%20%20%20%20%20%20%20%20%20%20%20%20%20%7D%0A%20%20%20%20%20%20%20%20%20%20%20%20%29.addTo%28map_dbc2756f0d154a1e86ada5b77d56857f%29%3B%0A%20%20%20%20%20%20%20%20%0A%20%20%20%20%0A%20%20%20%20%20%20%20%20var%20marker_e5e5429d42bc48f3a8dc74a853db1ee0%20%3D%20L.marker%28%0A%20%20%20%20%20%20%20%20%20%20%20%20%5B36.33408619231668%2C%20-94.13603091339984%5D%2C%0A%20%20%20%20%20%20%20%20%20%20%20%20%7B%0A%20%20%20%20%20%20%20%20%20%20%20%20%20%20%20%20icon%3A%20new%20L.Icon.Default%28%29%2C%0A%20%20%20%20%20%20%20%20%20%20%20%20%20%20%20%20%7D%0A%20%20%20%20%20%20%20%20%20%20%20%20%29.addTo%28map_dbc2756f0d154a1e86ada5b77d56857f%29%3B%0A%20%20%20%20%20%20%20%20%0A%20%20%20%20%0A%20%20%20%20%20%20%20%20var%20marker_77026f2f4c59401eab93938268523180%20%3D%20L.marker%28%0A%20%20%20%20%20%20%20%20%20%20%20%20%5B36.333656%2C%20-94.117664%5D%2C%0A%20%20%20%20%20%20%20%20%20%20%20%20%7B%0A%20%20%20%20%20%20%20%20%20%20%20%20%20%20%20%20icon%3A%20new%20L.Icon.Default%28%29%2C%0A%20%20%20%20%20%20%20%20%20%20%20%20%20%20%20%20%7D%0A%20%20%20%20%20%20%20%20%20%20%20%20%29.addTo%28map_dbc2756f0d154a1e86ada5b77d56857f%29%3B%0A%20%20%20%20%20%20%20%20%0A%20%20%20%20%0A%20%20%20%20%20%20%20%20var%20marker_94ec807af7ec436081fd57253cf4cc5c%20%3D%20L.marker%28%0A%20%20%20%20%20%20%20%20%20%20%20%20%5B36.32560387266806%2C%20-94.12472882386335%5D%2C%0A%20%20%20%20%20%20%20%20%20%20%20%20%7B%0A%20%20%20%20%20%20%20%20%20%20%20%20%20%20%20%20icon%3A%20new%20L.Icon.Default%28%29%2C%0A%20%20%20%20%20%20%20%20%20%20%20%20%20%20%20%20%7D%0A%20%20%20%20%20%20%20%20%20%20%20%20%29.addTo%28map_dbc2756f0d154a1e86ada5b77d56857f%29%3B%0A%20%20%20%20%20%20%20%20%0A%20%20%20%20%0A%20%20%20%20%20%20%20%20var%20marker_9187ef45068941609bd086bfbd47fabf%20%3D%20L.marker%28%0A%20%20%20%20%20%20%20%20%20%20%20%20%5B36.33399704865832%2C%20-94.12735104560852%5D%2C%0A%20%20%20%20%20%20%20%20%20%20%20%20%7B%0A%20%20%20%20%20%20%20%20%20%20%20%20%20%20%20%20icon%3A%20new%20L.Icon.Default%28%29%2C%0A%20%20%20%20%20%20%20%20%20%20%20%20%20%20%20%20%7D%0A%20%20%20%20%20%20%20%20%20%20%20%20%29.addTo%28map_dbc2756f0d154a1e86ada5b77d56857f%29%3B%0A%20%20%20%20%20%20%20%20%0A%20%20%20%20%0A%20%20%20%20%20%20%20%20var%20marker_109e9233f44c47fdaa3e4d5361056d6a%20%3D%20L.marker%28%0A%20%20%20%20%20%20%20%20%20%20%20%20%5B36.345147999999995%2C%20-94.121899%5D%2C%0A%20%20%20%20%20%20%20%20%20%20%20%20%7B%0A%20%20%20%20%20%20%20%20%20%20%20%20%20%20%20%20icon%3A%20new%20L.Icon.Default%28%29%2C%0A%20%20%20%20%20%20%20%20%20%20%20%20%20%20%20%20%7D%0A%20%20%20%20%20%20%20%20%20%20%20%20%29.addTo%28map_dbc2756f0d154a1e86ada5b77d56857f%29%3B%0A%20%20%20%20%20%20%20%20%0A%20%20%20%20%0A%20%20%20%20%20%20%20%20var%20marker_0a1e76a0511c41ae9d8516d5c546b26c%20%3D%20L.marker%28%0A%20%20%20%20%20%20%20%20%20%20%20%20%5B36.33179%2C%20-94.105116%5D%2C%0A%20%20%20%20%20%20%20%20%20%20%20%20%7B%0A%20%20%20%20%20%20%20%20%20%20%20%20%20%20%20%20icon%3A%20new%20L.Icon.Default%28%29%2C%0A%20%20%20%20%20%20%20%20%20%20%20%20%20%20%20%20%7D%0A%20%20%20%20%20%20%20%20%20%20%20%20%29.addTo%28map_dbc2756f0d154a1e86ada5b77d56857f%29%3B%0A%20%20%20%20%20%20%20%20%0A%20%20%20%20%0A%20%20%20%20%20%20%20%20var%20marker_4cb22aadaf334fa5ae525817c0581227%20%3D%20L.marker%28%0A%20%20%20%20%20%20%20%20%20%20%20%20%5B36.34505861727602%2C%20-94.13215831050627%5D%2C%0A%20%20%20%20%20%20%20%20%20%20%20%20%7B%0A%20%20%20%20%20%20%20%20%20%20%20%20%20%20%20%20icon%3A%20new%20L.Icon.Default%28%29%2C%0A%20%20%20%20%20%20%20%20%20%20%20%20%20%20%20%20%7D%0A%20%20%20%20%20%20%20%20%20%20%20%20%29.addTo%28map_dbc2756f0d154a1e86ada5b77d56857f%29%3B%0A%20%20%20%20%20%20%20%20%0A%20%20%20%20%0A%20%20%20%20%20%20%20%20var%20marker_49fba9e8dc8345ebba3293bb5393042b%20%3D%20L.marker%28%0A%20%20%20%20%20%20%20%20%20%20%20%20%5B36.33618300122895%2C%20-94.1008686764379%5D%2C%0A%20%20%20%20%20%20%20%20%20%20%20%20%7B%0A%20%20%20%20%20%20%20%20%20%20%20%20%20%20%20%20icon%3A%20new%20L.Icon.Default%28%29%2C%0A%20%20%20%20%20%20%20%20%20%20%20%20%20%20%20%20%7D%0A%20%20%20%20%20%20%20%20%20%20%20%20%29.addTo%28map_dbc2756f0d154a1e86ada5b77d56857f%29%3B%0A%20%20%20%20%20%20%20%20%0A%20%20%20%20%0A%20%20%20%20%20%20%20%20var%20marker_961823e361ef480a8a6b24bf4dc89304%20%3D%20L.marker%28%0A%20%20%20%20%20%20%20%20%20%20%20%20%5B36.34730560000001%2C%20-94.1335649%5D%2C%0A%20%20%20%20%20%20%20%20%20%20%20%20%7B%0A%20%20%20%20%20%20%20%20%20%20%20%20%20%20%20%20icon%3A%20new%20L.Icon.Default%28%29%2C%0A%20%20%20%20%20%20%20%20%20%20%20%20%20%20%20%20%7D%0A%20%20%20%20%20%20%20%20%20%20%20%20%29.addTo%28map_dbc2756f0d154a1e86ada5b77d56857f%29%3B%0A%20%20%20%20%20%20%20%20%0A%3C/script%3E onload=\"this.contentDocument.open();this.contentDocument.write(    decodeURIComponent(this.getAttribute('data-html')));this.contentDocument.close();\" allowfullscreen webkitallowfullscreen mozallowfullscreen></iframe></div></div>"
            ],
            "text/plain": [
              "<folium.folium.Map at 0x7f07ad119850>"
            ]
          },
          "metadata": {
            "tags": []
          },
          "execution_count": 86
        }
      ]
    },
    {
      "cell_type": "markdown",
      "metadata": {
        "id": "Jz4SeZtMn4oX"
      },
      "source": [
        "#### Ft. Collins"
      ]
    },
    {
      "cell_type": "code",
      "metadata": {
        "colab": {
          "base_uri": "https://localhost:8080/",
          "height": 0
        },
        "id": "7a3pMhT8msfR",
        "outputId": "95899e4e-0609-45b3-c16d-578d650abd13"
      },
      "source": [
        "ft_collins_map = folium.Map(location=[40.5898509, -105.081907325], zoom_start=15)\r\n",
        "ft_collins_points = ft_collins_venues[['lat', 'lng']]\r\n",
        "\r\n",
        "ft_collins = ft_collins_points.values.tolist()\r\n",
        "for point in range(0, len(ft_collins)):\r\n",
        "  folium.Marker(ft_collins[point]).add_to(ft_collins_map)\r\n",
        "ft_collins_map"
      ],
      "execution_count": 87,
      "outputs": [
        {
          "output_type": "execute_result",
          "data": {
            "text/html": [
              "<div style=\"width:100%;\"><div style=\"position:relative;width:100%;height:0;padding-bottom:60%;\"><span style=\"color:#565656\">Make this Notebook Trusted to load map: File -> Trust Notebook</span><iframe src=\"about:blank\" style=\"position:absolute;width:100%;height:100%;left:0;top:0;border:none !important;\" data-html=%3C%21DOCTYPE%20html%3E%0A%3Chead%3E%20%20%20%20%0A%20%20%20%20%3Cmeta%20http-equiv%3D%22content-type%22%20content%3D%22text/html%3B%20charset%3DUTF-8%22%20/%3E%0A%20%20%20%20%3Cscript%3EL_PREFER_CANVAS%3Dfalse%3B%20L_NO_TOUCH%3Dfalse%3B%20L_DISABLE_3D%3Dfalse%3B%3C/script%3E%0A%20%20%20%20%3Cscript%20src%3D%22https%3A//cdn.jsdelivr.net/npm/leaflet%401.4.0/dist/leaflet.js%22%3E%3C/script%3E%0A%20%20%20%20%3Cscript%20src%3D%22https%3A//code.jquery.com/jquery-1.12.4.min.js%22%3E%3C/script%3E%0A%20%20%20%20%3Cscript%20src%3D%22https%3A//maxcdn.bootstrapcdn.com/bootstrap/3.2.0/js/bootstrap.min.js%22%3E%3C/script%3E%0A%20%20%20%20%3Cscript%20src%3D%22https%3A//cdnjs.cloudflare.com/ajax/libs/Leaflet.awesome-markers/2.0.2/leaflet.awesome-markers.js%22%3E%3C/script%3E%0A%20%20%20%20%3Clink%20rel%3D%22stylesheet%22%20href%3D%22https%3A//cdn.jsdelivr.net/npm/leaflet%401.4.0/dist/leaflet.css%22/%3E%0A%20%20%20%20%3Clink%20rel%3D%22stylesheet%22%20href%3D%22https%3A//maxcdn.bootstrapcdn.com/bootstrap/3.2.0/css/bootstrap.min.css%22/%3E%0A%20%20%20%20%3Clink%20rel%3D%22stylesheet%22%20href%3D%22https%3A//maxcdn.bootstrapcdn.com/bootstrap/3.2.0/css/bootstrap-theme.min.css%22/%3E%0A%20%20%20%20%3Clink%20rel%3D%22stylesheet%22%20href%3D%22https%3A//maxcdn.bootstrapcdn.com/font-awesome/4.6.3/css/font-awesome.min.css%22/%3E%0A%20%20%20%20%3Clink%20rel%3D%22stylesheet%22%20href%3D%22https%3A//cdnjs.cloudflare.com/ajax/libs/Leaflet.awesome-markers/2.0.2/leaflet.awesome-markers.css%22/%3E%0A%20%20%20%20%3Clink%20rel%3D%22stylesheet%22%20href%3D%22https%3A//rawcdn.githack.com/python-visualization/folium/master/folium/templates/leaflet.awesome.rotate.css%22/%3E%0A%20%20%20%20%3Cstyle%3Ehtml%2C%20body%20%7Bwidth%3A%20100%25%3Bheight%3A%20100%25%3Bmargin%3A%200%3Bpadding%3A%200%3B%7D%3C/style%3E%0A%20%20%20%20%3Cstyle%3E%23map%20%7Bposition%3Aabsolute%3Btop%3A0%3Bbottom%3A0%3Bright%3A0%3Bleft%3A0%3B%7D%3C/style%3E%0A%20%20%20%20%0A%20%20%20%20%3Cmeta%20name%3D%22viewport%22%20content%3D%22width%3Ddevice-width%2C%0A%20%20%20%20%20%20%20%20initial-scale%3D1.0%2C%20maximum-scale%3D1.0%2C%20user-scalable%3Dno%22%20/%3E%0A%20%20%20%20%3Cstyle%3E%23map_d49bbd8991c244b4ba34fbf7a488b2a8%20%7B%0A%20%20%20%20%20%20%20%20position%3A%20relative%3B%0A%20%20%20%20%20%20%20%20width%3A%20100.0%25%3B%0A%20%20%20%20%20%20%20%20height%3A%20100.0%25%3B%0A%20%20%20%20%20%20%20%20left%3A%200.0%25%3B%0A%20%20%20%20%20%20%20%20top%3A%200.0%25%3B%0A%20%20%20%20%20%20%20%20%7D%0A%20%20%20%20%3C/style%3E%0A%3C/head%3E%0A%3Cbody%3E%20%20%20%20%0A%20%20%20%20%0A%20%20%20%20%3Cdiv%20class%3D%22folium-map%22%20id%3D%22map_d49bbd8991c244b4ba34fbf7a488b2a8%22%20%3E%3C/div%3E%0A%3C/body%3E%0A%3Cscript%3E%20%20%20%20%0A%20%20%20%20%0A%20%20%20%20%0A%20%20%20%20%20%20%20%20var%20bounds%20%3D%20null%3B%0A%20%20%20%20%0A%0A%20%20%20%20var%20map_d49bbd8991c244b4ba34fbf7a488b2a8%20%3D%20L.map%28%0A%20%20%20%20%20%20%20%20%27map_d49bbd8991c244b4ba34fbf7a488b2a8%27%2C%20%7B%0A%20%20%20%20%20%20%20%20center%3A%20%5B40.5898509%2C%20-105.081907325%5D%2C%0A%20%20%20%20%20%20%20%20zoom%3A%2015%2C%0A%20%20%20%20%20%20%20%20maxBounds%3A%20bounds%2C%0A%20%20%20%20%20%20%20%20layers%3A%20%5B%5D%2C%0A%20%20%20%20%20%20%20%20worldCopyJump%3A%20false%2C%0A%20%20%20%20%20%20%20%20crs%3A%20L.CRS.EPSG3857%2C%0A%20%20%20%20%20%20%20%20zoomControl%3A%20true%2C%0A%20%20%20%20%20%20%20%20%7D%29%3B%0A%0A%0A%20%20%20%20%0A%20%20%20%20var%20tile_layer_f820ae194c7b438782badd4a802bfe7c%20%3D%20L.tileLayer%28%0A%20%20%20%20%20%20%20%20%27https%3A//%7Bs%7D.tile.openstreetmap.org/%7Bz%7D/%7Bx%7D/%7By%7D.png%27%2C%0A%20%20%20%20%20%20%20%20%7B%0A%20%20%20%20%20%20%20%20%22attribution%22%3A%20null%2C%0A%20%20%20%20%20%20%20%20%22detectRetina%22%3A%20false%2C%0A%20%20%20%20%20%20%20%20%22maxNativeZoom%22%3A%2018%2C%0A%20%20%20%20%20%20%20%20%22maxZoom%22%3A%2018%2C%0A%20%20%20%20%20%20%20%20%22minZoom%22%3A%200%2C%0A%20%20%20%20%20%20%20%20%22noWrap%22%3A%20false%2C%0A%20%20%20%20%20%20%20%20%22opacity%22%3A%201%2C%0A%20%20%20%20%20%20%20%20%22subdomains%22%3A%20%22abc%22%2C%0A%20%20%20%20%20%20%20%20%22tms%22%3A%20false%0A%7D%29.addTo%28map_d49bbd8991c244b4ba34fbf7a488b2a8%29%3B%0A%20%20%20%20%0A%20%20%20%20%20%20%20%20var%20marker_8c433f157e964565ae91505631258dd5%20%3D%20L.marker%28%0A%20%20%20%20%20%20%20%20%20%20%20%20%5B40.58930993%2C%20-105.07737933%5D%2C%0A%20%20%20%20%20%20%20%20%20%20%20%20%7B%0A%20%20%20%20%20%20%20%20%20%20%20%20%20%20%20%20icon%3A%20new%20L.Icon.Default%28%29%2C%0A%20%20%20%20%20%20%20%20%20%20%20%20%20%20%20%20%7D%0A%20%20%20%20%20%20%20%20%20%20%20%20%29.addTo%28map_d49bbd8991c244b4ba34fbf7a488b2a8%29%3B%0A%20%20%20%20%20%20%20%20%0A%20%20%20%20%0A%20%20%20%20%20%20%20%20var%20marker_d29d5f991b7e4b7291bf34ee5e414174%20%3D%20L.marker%28%0A%20%20%20%20%20%20%20%20%20%20%20%20%5B40.587187836897954%2C%20-105.07821295989862%5D%2C%0A%20%20%20%20%20%20%20%20%20%20%20%20%7B%0A%20%20%20%20%20%20%20%20%20%20%20%20%20%20%20%20icon%3A%20new%20L.Icon.Default%28%29%2C%0A%20%20%20%20%20%20%20%20%20%20%20%20%20%20%20%20%7D%0A%20%20%20%20%20%20%20%20%20%20%20%20%29.addTo%28map_d49bbd8991c244b4ba34fbf7a488b2a8%29%3B%0A%20%20%20%20%20%20%20%20%0A%20%20%20%20%0A%20%20%20%20%20%20%20%20var%20marker_caeed5c0c38a4e2da535105b4e76caa8%20%3D%20L.marker%28%0A%20%20%20%20%20%20%20%20%20%20%20%20%5B40.58933490631239%2C%20-105.07717335217698%5D%2C%0A%20%20%20%20%20%20%20%20%20%20%20%20%7B%0A%20%20%20%20%20%20%20%20%20%20%20%20%20%20%20%20icon%3A%20new%20L.Icon.Default%28%29%2C%0A%20%20%20%20%20%20%20%20%20%20%20%20%20%20%20%20%7D%0A%20%20%20%20%20%20%20%20%20%20%20%20%29.addTo%28map_d49bbd8991c244b4ba34fbf7a488b2a8%29%3B%0A%20%20%20%20%20%20%20%20%0A%20%20%20%20%0A%20%20%20%20%20%20%20%20var%20marker_eb06b2fd0f004c97a6027f850eb4a6d7%20%3D%20L.marker%28%0A%20%20%20%20%20%20%20%20%20%20%20%20%5B40.58869530811403%2C%20-105.07638799527551%5D%2C%0A%20%20%20%20%20%20%20%20%20%20%20%20%7B%0A%20%20%20%20%20%20%20%20%20%20%20%20%20%20%20%20icon%3A%20new%20L.Icon.Default%28%29%2C%0A%20%20%20%20%20%20%20%20%20%20%20%20%20%20%20%20%7D%0A%20%20%20%20%20%20%20%20%20%20%20%20%29.addTo%28map_d49bbd8991c244b4ba34fbf7a488b2a8%29%3B%0A%20%20%20%20%20%20%20%20%0A%20%20%20%20%0A%20%20%20%20%20%20%20%20var%20marker_c28464a6e862468a8664f869953f3be3%20%3D%20L.marker%28%0A%20%20%20%20%20%20%20%20%20%20%20%20%5B40.593142427766146%2C%20-105.07795344218741%5D%2C%0A%20%20%20%20%20%20%20%20%20%20%20%20%7B%0A%20%20%20%20%20%20%20%20%20%20%20%20%20%20%20%20icon%3A%20new%20L.Icon.Default%28%29%2C%0A%20%20%20%20%20%20%20%20%20%20%20%20%20%20%20%20%7D%0A%20%20%20%20%20%20%20%20%20%20%20%20%29.addTo%28map_d49bbd8991c244b4ba34fbf7a488b2a8%29%3B%0A%20%20%20%20%20%20%20%20%0A%20%20%20%20%0A%20%20%20%20%20%20%20%20var%20marker_38dcc5ada8dd4f2883176b17bbd75707%20%3D%20L.marker%28%0A%20%20%20%20%20%20%20%20%20%20%20%20%5B40.587532622519156%2C%20-105.07712951966573%5D%2C%0A%20%20%20%20%20%20%20%20%20%20%20%20%7B%0A%20%20%20%20%20%20%20%20%20%20%20%20%20%20%20%20icon%3A%20new%20L.Icon.Default%28%29%2C%0A%20%20%20%20%20%20%20%20%20%20%20%20%20%20%20%20%7D%0A%20%20%20%20%20%20%20%20%20%20%20%20%29.addTo%28map_d49bbd8991c244b4ba34fbf7a488b2a8%29%3B%0A%20%20%20%20%20%20%20%20%0A%20%20%20%20%0A%20%20%20%20%20%20%20%20var%20marker_6d68202d14c34d82b3ba91311538d7cd%20%3D%20L.marker%28%0A%20%20%20%20%20%20%20%20%20%20%20%20%5B40.587173%2C%20-105.075988%5D%2C%0A%20%20%20%20%20%20%20%20%20%20%20%20%7B%0A%20%20%20%20%20%20%20%20%20%20%20%20%20%20%20%20icon%3A%20new%20L.Icon.Default%28%29%2C%0A%20%20%20%20%20%20%20%20%20%20%20%20%20%20%20%20%7D%0A%20%20%20%20%20%20%20%20%20%20%20%20%29.addTo%28map_d49bbd8991c244b4ba34fbf7a488b2a8%29%3B%0A%20%20%20%20%20%20%20%20%0A%20%20%20%20%0A%20%20%20%20%20%20%20%20var%20marker_399dc969a80c451f95e107af429689fc%20%3D%20L.marker%28%0A%20%20%20%20%20%20%20%20%20%20%20%20%5B40.58706616051926%2C%20-105.07660240891306%5D%2C%0A%20%20%20%20%20%20%20%20%20%20%20%20%7B%0A%20%20%20%20%20%20%20%20%20%20%20%20%20%20%20%20icon%3A%20new%20L.Icon.Default%28%29%2C%0A%20%20%20%20%20%20%20%20%20%20%20%20%20%20%20%20%7D%0A%20%20%20%20%20%20%20%20%20%20%20%20%29.addTo%28map_d49bbd8991c244b4ba34fbf7a488b2a8%29%3B%0A%20%20%20%20%20%20%20%20%0A%20%20%20%20%0A%20%20%20%20%20%20%20%20var%20marker_b585a83dc80649ae9cc1114d05579d87%20%3D%20L.marker%28%0A%20%20%20%20%20%20%20%20%20%20%20%20%5B40.5872237355882%2C%20-105.07814584770416%5D%2C%0A%20%20%20%20%20%20%20%20%20%20%20%20%7B%0A%20%20%20%20%20%20%20%20%20%20%20%20%20%20%20%20icon%3A%20new%20L.Icon.Default%28%29%2C%0A%20%20%20%20%20%20%20%20%20%20%20%20%20%20%20%20%7D%0A%20%20%20%20%20%20%20%20%20%20%20%20%29.addTo%28map_d49bbd8991c244b4ba34fbf7a488b2a8%29%3B%0A%20%20%20%20%20%20%20%20%0A%20%20%20%20%0A%20%20%20%20%20%20%20%20var%20marker_309a536feea04e2cb1b445e4c5c8e7cf%20%3D%20L.marker%28%0A%20%20%20%20%20%20%20%20%20%20%20%20%5B40.58680672523483%2C%20-105.07791424595457%5D%2C%0A%20%20%20%20%20%20%20%20%20%20%20%20%7B%0A%20%20%20%20%20%20%20%20%20%20%20%20%20%20%20%20icon%3A%20new%20L.Icon.Default%28%29%2C%0A%20%20%20%20%20%20%20%20%20%20%20%20%20%20%20%20%7D%0A%20%20%20%20%20%20%20%20%20%20%20%20%29.addTo%28map_d49bbd8991c244b4ba34fbf7a488b2a8%29%3B%0A%20%20%20%20%20%20%20%20%0A%20%20%20%20%0A%20%20%20%20%20%20%20%20var%20marker_d8824871871d4ac09a9f3fc3c77c1460%20%3D%20L.marker%28%0A%20%20%20%20%20%20%20%20%20%20%20%20%5B40.5885424%2C%20-105.0758704%5D%2C%0A%20%20%20%20%20%20%20%20%20%20%20%20%7B%0A%20%20%20%20%20%20%20%20%20%20%20%20%20%20%20%20icon%3A%20new%20L.Icon.Default%28%29%2C%0A%20%20%20%20%20%20%20%20%20%20%20%20%20%20%20%20%7D%0A%20%20%20%20%20%20%20%20%20%20%20%20%29.addTo%28map_d49bbd8991c244b4ba34fbf7a488b2a8%29%3B%0A%20%20%20%20%20%20%20%20%0A%20%20%20%20%0A%20%20%20%20%20%20%20%20var%20marker_b268d604fec5415785643ab9673192e8%20%3D%20L.marker%28%0A%20%20%20%20%20%20%20%20%20%20%20%20%5B40.587583895001984%2C%20-105.0770327107918%5D%2C%0A%20%20%20%20%20%20%20%20%20%20%20%20%7B%0A%20%20%20%20%20%20%20%20%20%20%20%20%20%20%20%20icon%3A%20new%20L.Icon.Default%28%29%2C%0A%20%20%20%20%20%20%20%20%20%20%20%20%20%20%20%20%7D%0A%20%20%20%20%20%20%20%20%20%20%20%20%29.addTo%28map_d49bbd8991c244b4ba34fbf7a488b2a8%29%3B%0A%20%20%20%20%20%20%20%20%0A%20%20%20%20%0A%20%20%20%20%20%20%20%20var%20marker_88c30d7a402f4201ae6c7eacb6973fd8%20%3D%20L.marker%28%0A%20%20%20%20%20%20%20%20%20%20%20%20%5B40.58651563418013%2C%20-105.0767559106132%5D%2C%0A%20%20%20%20%20%20%20%20%20%20%20%20%7B%0A%20%20%20%20%20%20%20%20%20%20%20%20%20%20%20%20icon%3A%20new%20L.Icon.Default%28%29%2C%0A%20%20%20%20%20%20%20%20%20%20%20%20%20%20%20%20%7D%0A%20%20%20%20%20%20%20%20%20%20%20%20%29.addTo%28map_d49bbd8991c244b4ba34fbf7a488b2a8%29%3B%0A%20%20%20%20%20%20%20%20%0A%20%20%20%20%0A%20%20%20%20%20%20%20%20var%20marker_afd0dd08588745c1b9240de32dafe8bb%20%3D%20L.marker%28%0A%20%20%20%20%20%20%20%20%20%20%20%20%5B40.58581893812462%2C%20-105.07867941277222%5D%2C%0A%20%20%20%20%20%20%20%20%20%20%20%20%7B%0A%20%20%20%20%20%20%20%20%20%20%20%20%20%20%20%20icon%3A%20new%20L.Icon.Default%28%29%2C%0A%20%20%20%20%20%20%20%20%20%20%20%20%20%20%20%20%7D%0A%20%20%20%20%20%20%20%20%20%20%20%20%29.addTo%28map_d49bbd8991c244b4ba34fbf7a488b2a8%29%3B%0A%20%20%20%20%20%20%20%20%0A%20%20%20%20%0A%20%20%20%20%20%20%20%20var%20marker_c8aba10e89694a2c9b52a51146d37078%20%3D%20L.marker%28%0A%20%20%20%20%20%20%20%20%20%20%20%20%5B40.58486939549405%2C%20-105.07855478160124%5D%2C%0A%20%20%20%20%20%20%20%20%20%20%20%20%7B%0A%20%20%20%20%20%20%20%20%20%20%20%20%20%20%20%20icon%3A%20new%20L.Icon.Default%28%29%2C%0A%20%20%20%20%20%20%20%20%20%20%20%20%20%20%20%20%7D%0A%20%20%20%20%20%20%20%20%20%20%20%20%29.addTo%28map_d49bbd8991c244b4ba34fbf7a488b2a8%29%3B%0A%20%20%20%20%20%20%20%20%0A%20%20%20%20%0A%20%20%20%20%20%20%20%20var%20marker_37b9d06bc2234e7bbc08d907306f1aab%20%3D%20L.marker%28%0A%20%20%20%20%20%20%20%20%20%20%20%20%5B40.58938380542164%2C%20-105.07451170914074%5D%2C%0A%20%20%20%20%20%20%20%20%20%20%20%20%7B%0A%20%20%20%20%20%20%20%20%20%20%20%20%20%20%20%20icon%3A%20new%20L.Icon.Default%28%29%2C%0A%20%20%20%20%20%20%20%20%20%20%20%20%20%20%20%20%7D%0A%20%20%20%20%20%20%20%20%20%20%20%20%29.addTo%28map_d49bbd8991c244b4ba34fbf7a488b2a8%29%3B%0A%20%20%20%20%20%20%20%20%0A%20%20%20%20%0A%20%20%20%20%20%20%20%20var%20marker_458839c4dfe749348ac9cf91a5cf728e%20%3D%20L.marker%28%0A%20%20%20%20%20%20%20%20%20%20%20%20%5B40.58782349627879%2C%20-105.07557201556423%5D%2C%0A%20%20%20%20%20%20%20%20%20%20%20%20%7B%0A%20%20%20%20%20%20%20%20%20%20%20%20%20%20%20%20icon%3A%20new%20L.Icon.Default%28%29%2C%0A%20%20%20%20%20%20%20%20%20%20%20%20%20%20%20%20%7D%0A%20%20%20%20%20%20%20%20%20%20%20%20%29.addTo%28map_d49bbd8991c244b4ba34fbf7a488b2a8%29%3B%0A%20%20%20%20%20%20%20%20%0A%20%20%20%20%0A%20%20%20%20%20%20%20%20var%20marker_655bbcf95614469daf3b7a7c46539db3%20%3D%20L.marker%28%0A%20%20%20%20%20%20%20%20%20%20%20%20%5B40.58765673797278%2C%20-105.07587278972767%5D%2C%0A%20%20%20%20%20%20%20%20%20%20%20%20%7B%0A%20%20%20%20%20%20%20%20%20%20%20%20%20%20%20%20icon%3A%20new%20L.Icon.Default%28%29%2C%0A%20%20%20%20%20%20%20%20%20%20%20%20%20%20%20%20%7D%0A%20%20%20%20%20%20%20%20%20%20%20%20%29.addTo%28map_d49bbd8991c244b4ba34fbf7a488b2a8%29%3B%0A%20%20%20%20%20%20%20%20%0A%20%20%20%20%0A%20%20%20%20%20%20%20%20var%20marker_ae1bc669d43a4057aa3473b23219482d%20%3D%20L.marker%28%0A%20%20%20%20%20%20%20%20%20%20%20%20%5B40.58639644648975%2C%20-105.07581145165155%5D%2C%0A%20%20%20%20%20%20%20%20%20%20%20%20%7B%0A%20%20%20%20%20%20%20%20%20%20%20%20%20%20%20%20icon%3A%20new%20L.Icon.Default%28%29%2C%0A%20%20%20%20%20%20%20%20%20%20%20%20%20%20%20%20%7D%0A%20%20%20%20%20%20%20%20%20%20%20%20%29.addTo%28map_d49bbd8991c244b4ba34fbf7a488b2a8%29%3B%0A%20%20%20%20%20%20%20%20%0A%20%20%20%20%0A%20%20%20%20%20%20%20%20var%20marker_ee00cf62c8aa403bb5e2d4fff01f0c37%20%3D%20L.marker%28%0A%20%20%20%20%20%20%20%20%20%20%20%20%5B40.58787362769049%2C%20-105.07687438184753%5D%2C%0A%20%20%20%20%20%20%20%20%20%20%20%20%7B%0A%20%20%20%20%20%20%20%20%20%20%20%20%20%20%20%20icon%3A%20new%20L.Icon.Default%28%29%2C%0A%20%20%20%20%20%20%20%20%20%20%20%20%20%20%20%20%7D%0A%20%20%20%20%20%20%20%20%20%20%20%20%29.addTo%28map_d49bbd8991c244b4ba34fbf7a488b2a8%29%3B%0A%20%20%20%20%20%20%20%20%0A%20%20%20%20%0A%20%20%20%20%20%20%20%20var%20marker_c4239082603949f3964cc2a06e63a853%20%3D%20L.marker%28%0A%20%20%20%20%20%20%20%20%20%20%20%20%5B40.584974%2C%20-105.076697%5D%2C%0A%20%20%20%20%20%20%20%20%20%20%20%20%7B%0A%20%20%20%20%20%20%20%20%20%20%20%20%20%20%20%20icon%3A%20new%20L.Icon.Default%28%29%2C%0A%20%20%20%20%20%20%20%20%20%20%20%20%20%20%20%20%7D%0A%20%20%20%20%20%20%20%20%20%20%20%20%29.addTo%28map_d49bbd8991c244b4ba34fbf7a488b2a8%29%3B%0A%20%20%20%20%20%20%20%20%0A%20%20%20%20%0A%20%20%20%20%20%20%20%20var%20marker_a38201f87b4e4f1a90bc70712e1c1c4a%20%3D%20L.marker%28%0A%20%20%20%20%20%20%20%20%20%20%20%20%5B40.58796005379696%2C%20-105.07680277544263%5D%2C%0A%20%20%20%20%20%20%20%20%20%20%20%20%7B%0A%20%20%20%20%20%20%20%20%20%20%20%20%20%20%20%20icon%3A%20new%20L.Icon.Default%28%29%2C%0A%20%20%20%20%20%20%20%20%20%20%20%20%20%20%20%20%7D%0A%20%20%20%20%20%20%20%20%20%20%20%20%29.addTo%28map_d49bbd8991c244b4ba34fbf7a488b2a8%29%3B%0A%20%20%20%20%20%20%20%20%0A%20%20%20%20%0A%20%20%20%20%20%20%20%20var%20marker_2458348cdc8f424691cd79558db0cfbc%20%3D%20L.marker%28%0A%20%20%20%20%20%20%20%20%20%20%20%20%5B40.584757%2C%20-105.077345%5D%2C%0A%20%20%20%20%20%20%20%20%20%20%20%20%7B%0A%20%20%20%20%20%20%20%20%20%20%20%20%20%20%20%20icon%3A%20new%20L.Icon.Default%28%29%2C%0A%20%20%20%20%20%20%20%20%20%20%20%20%20%20%20%20%7D%0A%20%20%20%20%20%20%20%20%20%20%20%20%29.addTo%28map_d49bbd8991c244b4ba34fbf7a488b2a8%29%3B%0A%20%20%20%20%20%20%20%20%0A%20%20%20%20%0A%20%20%20%20%20%20%20%20var%20marker_b108ff62f63a4516ae15822c9241a935%20%3D%20L.marker%28%0A%20%20%20%20%20%20%20%20%20%20%20%20%5B40.58779811728321%2C%20-105.07718916655875%5D%2C%0A%20%20%20%20%20%20%20%20%20%20%20%20%7B%0A%20%20%20%20%20%20%20%20%20%20%20%20%20%20%20%20icon%3A%20new%20L.Icon.Default%28%29%2C%0A%20%20%20%20%20%20%20%20%20%20%20%20%20%20%20%20%7D%0A%20%20%20%20%20%20%20%20%20%20%20%20%29.addTo%28map_d49bbd8991c244b4ba34fbf7a488b2a8%29%3B%0A%20%20%20%20%20%20%20%20%0A%20%20%20%20%0A%20%20%20%20%20%20%20%20var%20marker_3c997889aed2452aaf55cc0fb46f3a88%20%3D%20L.marker%28%0A%20%20%20%20%20%20%20%20%20%20%20%20%5B40.584345382937336%2C%20-105.07767019178789%5D%2C%0A%20%20%20%20%20%20%20%20%20%20%20%20%7B%0A%20%20%20%20%20%20%20%20%20%20%20%20%20%20%20%20icon%3A%20new%20L.Icon.Default%28%29%2C%0A%20%20%20%20%20%20%20%20%20%20%20%20%20%20%20%20%7D%0A%20%20%20%20%20%20%20%20%20%20%20%20%29.addTo%28map_d49bbd8991c244b4ba34fbf7a488b2a8%29%3B%0A%20%20%20%20%20%20%20%20%0A%20%20%20%20%0A%20%20%20%20%20%20%20%20var%20marker_093be07a39214386bd296c672cf21b56%20%3D%20L.marker%28%0A%20%20%20%20%20%20%20%20%20%20%20%20%5B40.588765663724395%2C%20-105.07421449724467%5D%2C%0A%20%20%20%20%20%20%20%20%20%20%20%20%7B%0A%20%20%20%20%20%20%20%20%20%20%20%20%20%20%20%20icon%3A%20new%20L.Icon.Default%28%29%2C%0A%20%20%20%20%20%20%20%20%20%20%20%20%20%20%20%20%7D%0A%20%20%20%20%20%20%20%20%20%20%20%20%29.addTo%28map_d49bbd8991c244b4ba34fbf7a488b2a8%29%3B%0A%20%20%20%20%20%20%20%20%0A%20%20%20%20%0A%20%20%20%20%20%20%20%20var%20marker_8dff1210e15543a3bee356876704c593%20%3D%20L.marker%28%0A%20%20%20%20%20%20%20%20%20%20%20%20%5B40.58736384168138%2C%20-105.07566422224043%5D%2C%0A%20%20%20%20%20%20%20%20%20%20%20%20%7B%0A%20%20%20%20%20%20%20%20%20%20%20%20%20%20%20%20icon%3A%20new%20L.Icon.Default%28%29%2C%0A%20%20%20%20%20%20%20%20%20%20%20%20%20%20%20%20%7D%0A%20%20%20%20%20%20%20%20%20%20%20%20%29.addTo%28map_d49bbd8991c244b4ba34fbf7a488b2a8%29%3B%0A%20%20%20%20%20%20%20%20%0A%20%20%20%20%0A%20%20%20%20%20%20%20%20var%20marker_61221e731c6a40c69b7686ac026921ac%20%3D%20L.marker%28%0A%20%20%20%20%20%20%20%20%20%20%20%20%5B40.58747187960581%2C%20-105.0765484515616%5D%2C%0A%20%20%20%20%20%20%20%20%20%20%20%20%7B%0A%20%20%20%20%20%20%20%20%20%20%20%20%20%20%20%20icon%3A%20new%20L.Icon.Default%28%29%2C%0A%20%20%20%20%20%20%20%20%20%20%20%20%20%20%20%20%7D%0A%20%20%20%20%20%20%20%20%20%20%20%20%29.addTo%28map_d49bbd8991c244b4ba34fbf7a488b2a8%29%3B%0A%20%20%20%20%20%20%20%20%0A%20%20%20%20%0A%20%20%20%20%20%20%20%20var%20marker_0b751b876d164e21bd08c00f5aef6b75%20%3D%20L.marker%28%0A%20%20%20%20%20%20%20%20%20%20%20%20%5B40.589203000000005%2C%20-105.07606000000001%5D%2C%0A%20%20%20%20%20%20%20%20%20%20%20%20%7B%0A%20%20%20%20%20%20%20%20%20%20%20%20%20%20%20%20icon%3A%20new%20L.Icon.Default%28%29%2C%0A%20%20%20%20%20%20%20%20%20%20%20%20%20%20%20%20%7D%0A%20%20%20%20%20%20%20%20%20%20%20%20%29.addTo%28map_d49bbd8991c244b4ba34fbf7a488b2a8%29%3B%0A%20%20%20%20%20%20%20%20%0A%20%20%20%20%0A%20%20%20%20%20%20%20%20var%20marker_1cd30311996b406d98f57a14d7aaa3a7%20%3D%20L.marker%28%0A%20%20%20%20%20%20%20%20%20%20%20%20%5B40.58267558097388%2C%20-105.08223506411782%5D%2C%0A%20%20%20%20%20%20%20%20%20%20%20%20%7B%0A%20%20%20%20%20%20%20%20%20%20%20%20%20%20%20%20icon%3A%20new%20L.Icon.Default%28%29%2C%0A%20%20%20%20%20%20%20%20%20%20%20%20%20%20%20%20%7D%0A%20%20%20%20%20%20%20%20%20%20%20%20%29.addTo%28map_d49bbd8991c244b4ba34fbf7a488b2a8%29%3B%0A%20%20%20%20%20%20%20%20%0A%20%20%20%20%0A%20%20%20%20%20%20%20%20var%20marker_333a0d3de6c743ac91233c9909a6ca54%20%3D%20L.marker%28%0A%20%20%20%20%20%20%20%20%20%20%20%20%5B40.5899346018202%2C%20-105.0766781726126%5D%2C%0A%20%20%20%20%20%20%20%20%20%20%20%20%7B%0A%20%20%20%20%20%20%20%20%20%20%20%20%20%20%20%20icon%3A%20new%20L.Icon.Default%28%29%2C%0A%20%20%20%20%20%20%20%20%20%20%20%20%20%20%20%20%7D%0A%20%20%20%20%20%20%20%20%20%20%20%20%29.addTo%28map_d49bbd8991c244b4ba34fbf7a488b2a8%29%3B%0A%20%20%20%20%20%20%20%20%0A%20%20%20%20%0A%20%20%20%20%20%20%20%20var%20marker_7c2dcd9a9c044da0bf22622093bdc679%20%3D%20L.marker%28%0A%20%20%20%20%20%20%20%20%20%20%20%20%5B40.58445233493771%2C%20-105.07735240947441%5D%2C%0A%20%20%20%20%20%20%20%20%20%20%20%20%7B%0A%20%20%20%20%20%20%20%20%20%20%20%20%20%20%20%20icon%3A%20new%20L.Icon.Default%28%29%2C%0A%20%20%20%20%20%20%20%20%20%20%20%20%20%20%20%20%7D%0A%20%20%20%20%20%20%20%20%20%20%20%20%29.addTo%28map_d49bbd8991c244b4ba34fbf7a488b2a8%29%3B%0A%20%20%20%20%20%20%20%20%0A%20%20%20%20%0A%20%20%20%20%20%20%20%20var%20marker_70714d19d207430fba3e8b11e6f860ec%20%3D%20L.marker%28%0A%20%20%20%20%20%20%20%20%20%20%20%20%5B40.58438168403422%2C%20-105.07731789563528%5D%2C%0A%20%20%20%20%20%20%20%20%20%20%20%20%7B%0A%20%20%20%20%20%20%20%20%20%20%20%20%20%20%20%20icon%3A%20new%20L.Icon.Default%28%29%2C%0A%20%20%20%20%20%20%20%20%20%20%20%20%20%20%20%20%7D%0A%20%20%20%20%20%20%20%20%20%20%20%20%29.addTo%28map_d49bbd8991c244b4ba34fbf7a488b2a8%29%3B%0A%20%20%20%20%20%20%20%20%0A%20%20%20%20%0A%20%20%20%20%20%20%20%20var%20marker_0b6da1877828419a8344475a9b0fe309%20%3D%20L.marker%28%0A%20%20%20%20%20%20%20%20%20%20%20%20%5B40.58622221130584%2C%20-105.07687453342675%5D%2C%0A%20%20%20%20%20%20%20%20%20%20%20%20%7B%0A%20%20%20%20%20%20%20%20%20%20%20%20%20%20%20%20icon%3A%20new%20L.Icon.Default%28%29%2C%0A%20%20%20%20%20%20%20%20%20%20%20%20%20%20%20%20%7D%0A%20%20%20%20%20%20%20%20%20%20%20%20%29.addTo%28map_d49bbd8991c244b4ba34fbf7a488b2a8%29%3B%0A%20%20%20%20%20%20%20%20%0A%20%20%20%20%0A%20%20%20%20%20%20%20%20var%20marker_b7c422e67c6a46d59e19eb1bfc513dcf%20%3D%20L.marker%28%0A%20%20%20%20%20%20%20%20%20%20%20%20%5B40.58373759843445%2C%20-105.07745111341562%5D%2C%0A%20%20%20%20%20%20%20%20%20%20%20%20%7B%0A%20%20%20%20%20%20%20%20%20%20%20%20%20%20%20%20icon%3A%20new%20L.Icon.Default%28%29%2C%0A%20%20%20%20%20%20%20%20%20%20%20%20%20%20%20%20%7D%0A%20%20%20%20%20%20%20%20%20%20%20%20%29.addTo%28map_d49bbd8991c244b4ba34fbf7a488b2a8%29%3B%0A%20%20%20%20%20%20%20%20%0A%20%20%20%20%0A%20%20%20%20%20%20%20%20var%20marker_aa49408778c5485cb0f29ae2fcfb4348%20%3D%20L.marker%28%0A%20%20%20%20%20%20%20%20%20%20%20%20%5B40.5845501%2C%20-105.0768052%5D%2C%0A%20%20%20%20%20%20%20%20%20%20%20%20%7B%0A%20%20%20%20%20%20%20%20%20%20%20%20%20%20%20%20icon%3A%20new%20L.Icon.Default%28%29%2C%0A%20%20%20%20%20%20%20%20%20%20%20%20%20%20%20%20%7D%0A%20%20%20%20%20%20%20%20%20%20%20%20%29.addTo%28map_d49bbd8991c244b4ba34fbf7a488b2a8%29%3B%0A%20%20%20%20%20%20%20%20%0A%20%20%20%20%0A%20%20%20%20%20%20%20%20var%20marker_92b83b6205dd45eab2046bbab447054a%20%3D%20L.marker%28%0A%20%20%20%20%20%20%20%20%20%20%20%20%5B40.58917139727392%2C%20-105.07617047122827%5D%2C%0A%20%20%20%20%20%20%20%20%20%20%20%20%7B%0A%20%20%20%20%20%20%20%20%20%20%20%20%20%20%20%20icon%3A%20new%20L.Icon.Default%28%29%2C%0A%20%20%20%20%20%20%20%20%20%20%20%20%20%20%20%20%7D%0A%20%20%20%20%20%20%20%20%20%20%20%20%29.addTo%28map_d49bbd8991c244b4ba34fbf7a488b2a8%29%3B%0A%20%20%20%20%20%20%20%20%0A%20%20%20%20%0A%20%20%20%20%20%20%20%20var%20marker_4b49bf26ca57493aaadb71ab4191d63a%20%3D%20L.marker%28%0A%20%20%20%20%20%20%20%20%20%20%20%20%5B40.5822123826703%2C%20-105.0830391474236%5D%2C%0A%20%20%20%20%20%20%20%20%20%20%20%20%7B%0A%20%20%20%20%20%20%20%20%20%20%20%20%20%20%20%20icon%3A%20new%20L.Icon.Default%28%29%2C%0A%20%20%20%20%20%20%20%20%20%20%20%20%20%20%20%20%7D%0A%20%20%20%20%20%20%20%20%20%20%20%20%29.addTo%28map_d49bbd8991c244b4ba34fbf7a488b2a8%29%3B%0A%20%20%20%20%20%20%20%20%0A%20%20%20%20%0A%20%20%20%20%20%20%20%20var%20marker_9e9b7f579522422fb015c5f799f9608c%20%3D%20L.marker%28%0A%20%20%20%20%20%20%20%20%20%20%20%20%5B40.588823380729394%2C%20-105.0764783407452%5D%2C%0A%20%20%20%20%20%20%20%20%20%20%20%20%7B%0A%20%20%20%20%20%20%20%20%20%20%20%20%20%20%20%20icon%3A%20new%20L.Icon.Default%28%29%2C%0A%20%20%20%20%20%20%20%20%20%20%20%20%20%20%20%20%7D%0A%20%20%20%20%20%20%20%20%20%20%20%20%29.addTo%28map_d49bbd8991c244b4ba34fbf7a488b2a8%29%3B%0A%20%20%20%20%20%20%20%20%0A%20%20%20%20%0A%20%20%20%20%20%20%20%20var%20marker_62dfb0c7362f4e36867ce8197313fb81%20%3D%20L.marker%28%0A%20%20%20%20%20%20%20%20%20%20%20%20%5B40.58805275265151%2C%20-105.07718219064866%5D%2C%0A%20%20%20%20%20%20%20%20%20%20%20%20%7B%0A%20%20%20%20%20%20%20%20%20%20%20%20%20%20%20%20icon%3A%20new%20L.Icon.Default%28%29%2C%0A%20%20%20%20%20%20%20%20%20%20%20%20%20%20%20%20%7D%0A%20%20%20%20%20%20%20%20%20%20%20%20%29.addTo%28map_d49bbd8991c244b4ba34fbf7a488b2a8%29%3B%0A%20%20%20%20%20%20%20%20%0A%20%20%20%20%0A%20%20%20%20%20%20%20%20var%20marker_049b99643be44f0c886ebc6dce5b7255%20%3D%20L.marker%28%0A%20%20%20%20%20%20%20%20%20%20%20%20%5B40.587356%2C%20-105.073114%5D%2C%0A%20%20%20%20%20%20%20%20%20%20%20%20%7B%0A%20%20%20%20%20%20%20%20%20%20%20%20%20%20%20%20icon%3A%20new%20L.Icon.Default%28%29%2C%0A%20%20%20%20%20%20%20%20%20%20%20%20%20%20%20%20%7D%0A%20%20%20%20%20%20%20%20%20%20%20%20%29.addTo%28map_d49bbd8991c244b4ba34fbf7a488b2a8%29%3B%0A%20%20%20%20%20%20%20%20%0A%20%20%20%20%0A%20%20%20%20%20%20%20%20var%20marker_7768b1fc19b84032b8e803b23ec4f2d6%20%3D%20L.marker%28%0A%20%20%20%20%20%20%20%20%20%20%20%20%5B40.58447531324826%2C%20-105.07736111966808%5D%2C%0A%20%20%20%20%20%20%20%20%20%20%20%20%7B%0A%20%20%20%20%20%20%20%20%20%20%20%20%20%20%20%20icon%3A%20new%20L.Icon.Default%28%29%2C%0A%20%20%20%20%20%20%20%20%20%20%20%20%20%20%20%20%7D%0A%20%20%20%20%20%20%20%20%20%20%20%20%29.addTo%28map_d49bbd8991c244b4ba34fbf7a488b2a8%29%3B%0A%20%20%20%20%20%20%20%20%0A%20%20%20%20%0A%20%20%20%20%20%20%20%20var%20marker_bbb921ef8bd24a44aafa1af13628bc9f%20%3D%20L.marker%28%0A%20%20%20%20%20%20%20%20%20%20%20%20%5B40.5876353707514%2C%20-105.07693083726203%5D%2C%0A%20%20%20%20%20%20%20%20%20%20%20%20%7B%0A%20%20%20%20%20%20%20%20%20%20%20%20%20%20%20%20icon%3A%20new%20L.Icon.Default%28%29%2C%0A%20%20%20%20%20%20%20%20%20%20%20%20%20%20%20%20%7D%0A%20%20%20%20%20%20%20%20%20%20%20%20%29.addTo%28map_d49bbd8991c244b4ba34fbf7a488b2a8%29%3B%0A%20%20%20%20%20%20%20%20%0A%20%20%20%20%0A%20%20%20%20%20%20%20%20var%20marker_c2b316c4dcbc4e3eb6c3ad9154fdd6ef%20%3D%20L.marker%28%0A%20%20%20%20%20%20%20%20%20%20%20%20%5B40.58874815913326%2C%20-105.07674524877822%5D%2C%0A%20%20%20%20%20%20%20%20%20%20%20%20%7B%0A%20%20%20%20%20%20%20%20%20%20%20%20%20%20%20%20icon%3A%20new%20L.Icon.Default%28%29%2C%0A%20%20%20%20%20%20%20%20%20%20%20%20%20%20%20%20%7D%0A%20%20%20%20%20%20%20%20%20%20%20%20%29.addTo%28map_d49bbd8991c244b4ba34fbf7a488b2a8%29%3B%0A%20%20%20%20%20%20%20%20%0A%20%20%20%20%0A%20%20%20%20%20%20%20%20var%20marker_a1043bd1d8b344268b23794fa58b4af8%20%3D%20L.marker%28%0A%20%20%20%20%20%20%20%20%20%20%20%20%5B40.590098126197795%2C%20-105.0755113207436%5D%2C%0A%20%20%20%20%20%20%20%20%20%20%20%20%7B%0A%20%20%20%20%20%20%20%20%20%20%20%20%20%20%20%20icon%3A%20new%20L.Icon.Default%28%29%2C%0A%20%20%20%20%20%20%20%20%20%20%20%20%20%20%20%20%7D%0A%20%20%20%20%20%20%20%20%20%20%20%20%29.addTo%28map_d49bbd8991c244b4ba34fbf7a488b2a8%29%3B%0A%20%20%20%20%20%20%20%20%0A%20%20%20%20%0A%20%20%20%20%20%20%20%20var%20marker_3aa3fe167fda4af89021e0e2caa8389b%20%3D%20L.marker%28%0A%20%20%20%20%20%20%20%20%20%20%20%20%5B40.58582962465542%2C%20-105.07853569609145%5D%2C%0A%20%20%20%20%20%20%20%20%20%20%20%20%7B%0A%20%20%20%20%20%20%20%20%20%20%20%20%20%20%20%20icon%3A%20new%20L.Icon.Default%28%29%2C%0A%20%20%20%20%20%20%20%20%20%20%20%20%20%20%20%20%7D%0A%20%20%20%20%20%20%20%20%20%20%20%20%29.addTo%28map_d49bbd8991c244b4ba34fbf7a488b2a8%29%3B%0A%20%20%20%20%20%20%20%20%0A%20%20%20%20%0A%20%20%20%20%20%20%20%20var%20marker_f0d722a8051149c18daace264630fa18%20%3D%20L.marker%28%0A%20%20%20%20%20%20%20%20%20%20%20%20%5B40.5886117296159%2C%20-105.07689001139148%5D%2C%0A%20%20%20%20%20%20%20%20%20%20%20%20%7B%0A%20%20%20%20%20%20%20%20%20%20%20%20%20%20%20%20icon%3A%20new%20L.Icon.Default%28%29%2C%0A%20%20%20%20%20%20%20%20%20%20%20%20%20%20%20%20%7D%0A%20%20%20%20%20%20%20%20%20%20%20%20%29.addTo%28map_d49bbd8991c244b4ba34fbf7a488b2a8%29%3B%0A%20%20%20%20%20%20%20%20%0A%20%20%20%20%0A%20%20%20%20%20%20%20%20var%20marker_81f9dbd80d2647fc8a76171a05a2bb6c%20%3D%20L.marker%28%0A%20%20%20%20%20%20%20%20%20%20%20%20%5B40.5875363%2C%20-105.073791%5D%2C%0A%20%20%20%20%20%20%20%20%20%20%20%20%7B%0A%20%20%20%20%20%20%20%20%20%20%20%20%20%20%20%20icon%3A%20new%20L.Icon.Default%28%29%2C%0A%20%20%20%20%20%20%20%20%20%20%20%20%20%20%20%20%7D%0A%20%20%20%20%20%20%20%20%20%20%20%20%29.addTo%28map_d49bbd8991c244b4ba34fbf7a488b2a8%29%3B%0A%20%20%20%20%20%20%20%20%0A%20%20%20%20%0A%20%20%20%20%20%20%20%20var%20marker_308ab7b7acc94d50b729469d919d95b7%20%3D%20L.marker%28%0A%20%20%20%20%20%20%20%20%20%20%20%20%5B40.58400837534992%2C%20-105.07745944945637%5D%2C%0A%20%20%20%20%20%20%20%20%20%20%20%20%7B%0A%20%20%20%20%20%20%20%20%20%20%20%20%20%20%20%20icon%3A%20new%20L.Icon.Default%28%29%2C%0A%20%20%20%20%20%20%20%20%20%20%20%20%20%20%20%20%7D%0A%20%20%20%20%20%20%20%20%20%20%20%20%29.addTo%28map_d49bbd8991c244b4ba34fbf7a488b2a8%29%3B%0A%20%20%20%20%20%20%20%20%0A%20%20%20%20%0A%20%20%20%20%20%20%20%20var%20marker_684a33c6d3d944a5a06901ed607168a7%20%3D%20L.marker%28%0A%20%20%20%20%20%20%20%20%20%20%20%20%5B40.58601202685605%2C%20-105.08018748545784%5D%2C%0A%20%20%20%20%20%20%20%20%20%20%20%20%7B%0A%20%20%20%20%20%20%20%20%20%20%20%20%20%20%20%20icon%3A%20new%20L.Icon.Default%28%29%2C%0A%20%20%20%20%20%20%20%20%20%20%20%20%20%20%20%20%7D%0A%20%20%20%20%20%20%20%20%20%20%20%20%29.addTo%28map_d49bbd8991c244b4ba34fbf7a488b2a8%29%3B%0A%20%20%20%20%20%20%20%20%0A%20%20%20%20%0A%20%20%20%20%20%20%20%20var%20marker_3c65d310db174d6fa7323268fe0717ec%20%3D%20L.marker%28%0A%20%20%20%20%20%20%20%20%20%20%20%20%5B40.587563%2C%20-105.07388799999998%5D%2C%0A%20%20%20%20%20%20%20%20%20%20%20%20%7B%0A%20%20%20%20%20%20%20%20%20%20%20%20%20%20%20%20icon%3A%20new%20L.Icon.Default%28%29%2C%0A%20%20%20%20%20%20%20%20%20%20%20%20%20%20%20%20%7D%0A%20%20%20%20%20%20%20%20%20%20%20%20%29.addTo%28map_d49bbd8991c244b4ba34fbf7a488b2a8%29%3B%0A%20%20%20%20%20%20%20%20%0A%20%20%20%20%0A%20%20%20%20%20%20%20%20var%20marker_73f335dc4f6440c4931b43c750097e8f%20%3D%20L.marker%28%0A%20%20%20%20%20%20%20%20%20%20%20%20%5B40.586125135603055%2C%20-105.07693288779647%5D%2C%0A%20%20%20%20%20%20%20%20%20%20%20%20%7B%0A%20%20%20%20%20%20%20%20%20%20%20%20%20%20%20%20icon%3A%20new%20L.Icon.Default%28%29%2C%0A%20%20%20%20%20%20%20%20%20%20%20%20%20%20%20%20%7D%0A%20%20%20%20%20%20%20%20%20%20%20%20%29.addTo%28map_d49bbd8991c244b4ba34fbf7a488b2a8%29%3B%0A%20%20%20%20%20%20%20%20%0A%20%20%20%20%0A%20%20%20%20%20%20%20%20var%20marker_a9600dd71ebe46b4a11c11d9fcfde4a6%20%3D%20L.marker%28%0A%20%20%20%20%20%20%20%20%20%20%20%20%5B40.5873658785906%2C%20-105.07538259029387%5D%2C%0A%20%20%20%20%20%20%20%20%20%20%20%20%7B%0A%20%20%20%20%20%20%20%20%20%20%20%20%20%20%20%20icon%3A%20new%20L.Icon.Default%28%29%2C%0A%20%20%20%20%20%20%20%20%20%20%20%20%20%20%20%20%7D%0A%20%20%20%20%20%20%20%20%20%20%20%20%29.addTo%28map_d49bbd8991c244b4ba34fbf7a488b2a8%29%3B%0A%20%20%20%20%20%20%20%20%0A%20%20%20%20%0A%20%20%20%20%20%20%20%20var%20marker_cccef535ee8c4ed0b9d290c8255add1d%20%3D%20L.marker%28%0A%20%20%20%20%20%20%20%20%20%20%20%20%5B40.588387048284304%2C%20-105.07489077473011%5D%2C%0A%20%20%20%20%20%20%20%20%20%20%20%20%7B%0A%20%20%20%20%20%20%20%20%20%20%20%20%20%20%20%20icon%3A%20new%20L.Icon.Default%28%29%2C%0A%20%20%20%20%20%20%20%20%20%20%20%20%20%20%20%20%7D%0A%20%20%20%20%20%20%20%20%20%20%20%20%29.addTo%28map_d49bbd8991c244b4ba34fbf7a488b2a8%29%3B%0A%20%20%20%20%20%20%20%20%0A%20%20%20%20%0A%20%20%20%20%20%20%20%20var%20marker_d302df3e20c04aee92adfc10e31891d4%20%3D%20L.marker%28%0A%20%20%20%20%20%20%20%20%20%20%20%20%5B40.590123%2C%20-105.073548%5D%2C%0A%20%20%20%20%20%20%20%20%20%20%20%20%7B%0A%20%20%20%20%20%20%20%20%20%20%20%20%20%20%20%20icon%3A%20new%20L.Icon.Default%28%29%2C%0A%20%20%20%20%20%20%20%20%20%20%20%20%20%20%20%20%7D%0A%20%20%20%20%20%20%20%20%20%20%20%20%29.addTo%28map_d49bbd8991c244b4ba34fbf7a488b2a8%29%3B%0A%20%20%20%20%20%20%20%20%0A%20%20%20%20%0A%20%20%20%20%20%20%20%20var%20marker_f7efa5ead78e4b43b2eb2ac4e88e679d%20%3D%20L.marker%28%0A%20%20%20%20%20%20%20%20%20%20%20%20%5B40.5884121813188%2C%20-105.0747546182561%5D%2C%0A%20%20%20%20%20%20%20%20%20%20%20%20%7B%0A%20%20%20%20%20%20%20%20%20%20%20%20%20%20%20%20icon%3A%20new%20L.Icon.Default%28%29%2C%0A%20%20%20%20%20%20%20%20%20%20%20%20%20%20%20%20%7D%0A%20%20%20%20%20%20%20%20%20%20%20%20%29.addTo%28map_d49bbd8991c244b4ba34fbf7a488b2a8%29%3B%0A%20%20%20%20%20%20%20%20%0A%20%20%20%20%0A%20%20%20%20%20%20%20%20var%20marker_c462a3302cce4e97aeef8b527de2bc61%20%3D%20L.marker%28%0A%20%20%20%20%20%20%20%20%20%20%20%20%5B40.5868861171193%2C%20-105.0773943794259%5D%2C%0A%20%20%20%20%20%20%20%20%20%20%20%20%7B%0A%20%20%20%20%20%20%20%20%20%20%20%20%20%20%20%20icon%3A%20new%20L.Icon.Default%28%29%2C%0A%20%20%20%20%20%20%20%20%20%20%20%20%20%20%20%20%7D%0A%20%20%20%20%20%20%20%20%20%20%20%20%29.addTo%28map_d49bbd8991c244b4ba34fbf7a488b2a8%29%3B%0A%20%20%20%20%20%20%20%20%0A%20%20%20%20%0A%20%20%20%20%20%20%20%20var%20marker_af174d533e7d4eac9e7d27907847eff7%20%3D%20L.marker%28%0A%20%20%20%20%20%20%20%20%20%20%20%20%5B40.5929883077423%2C%20-105.06930758800505%5D%2C%0A%20%20%20%20%20%20%20%20%20%20%20%20%7B%0A%20%20%20%20%20%20%20%20%20%20%20%20%20%20%20%20icon%3A%20new%20L.Icon.Default%28%29%2C%0A%20%20%20%20%20%20%20%20%20%20%20%20%20%20%20%20%7D%0A%20%20%20%20%20%20%20%20%20%20%20%20%29.addTo%28map_d49bbd8991c244b4ba34fbf7a488b2a8%29%3B%0A%20%20%20%20%20%20%20%20%0A%20%20%20%20%0A%20%20%20%20%20%20%20%20var%20marker_ee7a5cd1399c4846aa42ec34b3f92cc1%20%3D%20L.marker%28%0A%20%20%20%20%20%20%20%20%20%20%20%20%5B40.587873%2C%20-105.074785%5D%2C%0A%20%20%20%20%20%20%20%20%20%20%20%20%7B%0A%20%20%20%20%20%20%20%20%20%20%20%20%20%20%20%20icon%3A%20new%20L.Icon.Default%28%29%2C%0A%20%20%20%20%20%20%20%20%20%20%20%20%20%20%20%20%7D%0A%20%20%20%20%20%20%20%20%20%20%20%20%29.addTo%28map_d49bbd8991c244b4ba34fbf7a488b2a8%29%3B%0A%20%20%20%20%20%20%20%20%0A%20%20%20%20%0A%20%20%20%20%20%20%20%20var%20marker_b4c72816ce7f4fbcab8fbf4223d1f228%20%3D%20L.marker%28%0A%20%20%20%20%20%20%20%20%20%20%20%20%5B40.58636256285373%2C%20-105.07576466553837%5D%2C%0A%20%20%20%20%20%20%20%20%20%20%20%20%7B%0A%20%20%20%20%20%20%20%20%20%20%20%20%20%20%20%20icon%3A%20new%20L.Icon.Default%28%29%2C%0A%20%20%20%20%20%20%20%20%20%20%20%20%20%20%20%20%7D%0A%20%20%20%20%20%20%20%20%20%20%20%20%29.addTo%28map_d49bbd8991c244b4ba34fbf7a488b2a8%29%3B%0A%20%20%20%20%20%20%20%20%0A%20%20%20%20%0A%20%20%20%20%20%20%20%20var%20marker_128c56e510fe49eab01dfb2d25b75267%20%3D%20L.marker%28%0A%20%20%20%20%20%20%20%20%20%20%20%20%5B40.58714647710155%2C%20-105.0773862902524%5D%2C%0A%20%20%20%20%20%20%20%20%20%20%20%20%7B%0A%20%20%20%20%20%20%20%20%20%20%20%20%20%20%20%20icon%3A%20new%20L.Icon.Default%28%29%2C%0A%20%20%20%20%20%20%20%20%20%20%20%20%20%20%20%20%7D%0A%20%20%20%20%20%20%20%20%20%20%20%20%29.addTo%28map_d49bbd8991c244b4ba34fbf7a488b2a8%29%3B%0A%20%20%20%20%20%20%20%20%0A%20%20%20%20%0A%20%20%20%20%20%20%20%20var%20marker_09edf37d91eb4587aaa4ebec5eff11a3%20%3D%20L.marker%28%0A%20%20%20%20%20%20%20%20%20%20%20%20%5B40.591293065607836%2C%20-105.07424516794467%5D%2C%0A%20%20%20%20%20%20%20%20%20%20%20%20%7B%0A%20%20%20%20%20%20%20%20%20%20%20%20%20%20%20%20icon%3A%20new%20L.Icon.Default%28%29%2C%0A%20%20%20%20%20%20%20%20%20%20%20%20%20%20%20%20%7D%0A%20%20%20%20%20%20%20%20%20%20%20%20%29.addTo%28map_d49bbd8991c244b4ba34fbf7a488b2a8%29%3B%0A%20%20%20%20%20%20%20%20%0A%20%20%20%20%0A%20%20%20%20%20%20%20%20var%20marker_06066917560246dfbb4271a1e79fd050%20%3D%20L.marker%28%0A%20%20%20%20%20%20%20%20%20%20%20%20%5B40.589366%2C%20-105.07513200000001%5D%2C%0A%20%20%20%20%20%20%20%20%20%20%20%20%7B%0A%20%20%20%20%20%20%20%20%20%20%20%20%20%20%20%20icon%3A%20new%20L.Icon.Default%28%29%2C%0A%20%20%20%20%20%20%20%20%20%20%20%20%20%20%20%20%7D%0A%20%20%20%20%20%20%20%20%20%20%20%20%29.addTo%28map_d49bbd8991c244b4ba34fbf7a488b2a8%29%3B%0A%20%20%20%20%20%20%20%20%0A%20%20%20%20%0A%20%20%20%20%20%20%20%20var%20marker_c2cc56acfeef46349306bd50c48ca8f1%20%3D%20L.marker%28%0A%20%20%20%20%20%20%20%20%20%20%20%20%5B40.586497438112175%2C%20-105.07715325004706%5D%2C%0A%20%20%20%20%20%20%20%20%20%20%20%20%7B%0A%20%20%20%20%20%20%20%20%20%20%20%20%20%20%20%20icon%3A%20new%20L.Icon.Default%28%29%2C%0A%20%20%20%20%20%20%20%20%20%20%20%20%20%20%20%20%7D%0A%20%20%20%20%20%20%20%20%20%20%20%20%29.addTo%28map_d49bbd8991c244b4ba34fbf7a488b2a8%29%3B%0A%20%20%20%20%20%20%20%20%0A%20%20%20%20%0A%20%20%20%20%20%20%20%20var%20marker_80f9ecb8bf5b4bc0942b37f71fb77fff%20%3D%20L.marker%28%0A%20%20%20%20%20%20%20%20%20%20%20%20%5B40.585075834060596%2C%20-105.07677602050447%5D%2C%0A%20%20%20%20%20%20%20%20%20%20%20%20%7B%0A%20%20%20%20%20%20%20%20%20%20%20%20%20%20%20%20icon%3A%20new%20L.Icon.Default%28%29%2C%0A%20%20%20%20%20%20%20%20%20%20%20%20%20%20%20%20%7D%0A%20%20%20%20%20%20%20%20%20%20%20%20%29.addTo%28map_d49bbd8991c244b4ba34fbf7a488b2a8%29%3B%0A%20%20%20%20%20%20%20%20%0A%20%20%20%20%0A%20%20%20%20%20%20%20%20var%20marker_619a58d5acfd428f88ac475ca2caa905%20%3D%20L.marker%28%0A%20%20%20%20%20%20%20%20%20%20%20%20%5B40.58823696582358%2C%20-105.07551362200581%5D%2C%0A%20%20%20%20%20%20%20%20%20%20%20%20%7B%0A%20%20%20%20%20%20%20%20%20%20%20%20%20%20%20%20icon%3A%20new%20L.Icon.Default%28%29%2C%0A%20%20%20%20%20%20%20%20%20%20%20%20%20%20%20%20%7D%0A%20%20%20%20%20%20%20%20%20%20%20%20%29.addTo%28map_d49bbd8991c244b4ba34fbf7a488b2a8%29%3B%0A%20%20%20%20%20%20%20%20%0A%20%20%20%20%0A%20%20%20%20%20%20%20%20var%20marker_ccdc978c71974ce78fc5ff281767a798%20%3D%20L.marker%28%0A%20%20%20%20%20%20%20%20%20%20%20%20%5B40.5859523888849%2C%20-105.07731386707013%5D%2C%0A%20%20%20%20%20%20%20%20%20%20%20%20%7B%0A%20%20%20%20%20%20%20%20%20%20%20%20%20%20%20%20icon%3A%20new%20L.Icon.Default%28%29%2C%0A%20%20%20%20%20%20%20%20%20%20%20%20%20%20%20%20%7D%0A%20%20%20%20%20%20%20%20%20%20%20%20%29.addTo%28map_d49bbd8991c244b4ba34fbf7a488b2a8%29%3B%0A%20%20%20%20%20%20%20%20%0A%20%20%20%20%0A%20%20%20%20%20%20%20%20var%20marker_70735865a57d4efab81ce4175effc184%20%3D%20L.marker%28%0A%20%20%20%20%20%20%20%20%20%20%20%20%5B40.598352062315044%2C%20-105.07724218973004%5D%2C%0A%20%20%20%20%20%20%20%20%20%20%20%20%7B%0A%20%20%20%20%20%20%20%20%20%20%20%20%20%20%20%20icon%3A%20new%20L.Icon.Default%28%29%2C%0A%20%20%20%20%20%20%20%20%20%20%20%20%20%20%20%20%7D%0A%20%20%20%20%20%20%20%20%20%20%20%20%29.addTo%28map_d49bbd8991c244b4ba34fbf7a488b2a8%29%3B%0A%20%20%20%20%20%20%20%20%0A%20%20%20%20%0A%20%20%20%20%20%20%20%20var%20marker_5b05a8f7e89b4a6b976a2b265bf9c2c4%20%3D%20L.marker%28%0A%20%20%20%20%20%20%20%20%20%20%20%20%5B40.58732514545344%2C%20-105.07658340741557%5D%2C%0A%20%20%20%20%20%20%20%20%20%20%20%20%7B%0A%20%20%20%20%20%20%20%20%20%20%20%20%20%20%20%20icon%3A%20new%20L.Icon.Default%28%29%2C%0A%20%20%20%20%20%20%20%20%20%20%20%20%20%20%20%20%7D%0A%20%20%20%20%20%20%20%20%20%20%20%20%29.addTo%28map_d49bbd8991c244b4ba34fbf7a488b2a8%29%3B%0A%20%20%20%20%20%20%20%20%0A%20%20%20%20%0A%20%20%20%20%20%20%20%20var%20marker_76e896be87e24a59a3ebf93bcdfc2471%20%3D%20L.marker%28%0A%20%20%20%20%20%20%20%20%20%20%20%20%5B40.58105730375484%2C%20-105.07685636656194%5D%2C%0A%20%20%20%20%20%20%20%20%20%20%20%20%7B%0A%20%20%20%20%20%20%20%20%20%20%20%20%20%20%20%20icon%3A%20new%20L.Icon.Default%28%29%2C%0A%20%20%20%20%20%20%20%20%20%20%20%20%20%20%20%20%7D%0A%20%20%20%20%20%20%20%20%20%20%20%20%29.addTo%28map_d49bbd8991c244b4ba34fbf7a488b2a8%29%3B%0A%20%20%20%20%20%20%20%20%0A%20%20%20%20%0A%20%20%20%20%20%20%20%20var%20marker_9142f1e1416c46eca18209c167c35693%20%3D%20L.marker%28%0A%20%20%20%20%20%20%20%20%20%20%20%20%5B40.58612211357295%2C%20-105.0786605034848%5D%2C%0A%20%20%20%20%20%20%20%20%20%20%20%20%7B%0A%20%20%20%20%20%20%20%20%20%20%20%20%20%20%20%20icon%3A%20new%20L.Icon.Default%28%29%2C%0A%20%20%20%20%20%20%20%20%20%20%20%20%20%20%20%20%7D%0A%20%20%20%20%20%20%20%20%20%20%20%20%29.addTo%28map_d49bbd8991c244b4ba34fbf7a488b2a8%29%3B%0A%20%20%20%20%20%20%20%20%0A%20%20%20%20%0A%20%20%20%20%20%20%20%20var%20marker_6dee483026804b6e8e158df0d5b46e48%20%3D%20L.marker%28%0A%20%20%20%20%20%20%20%20%20%20%20%20%5B40.579597062501264%2C%20-105.07924786905444%5D%2C%0A%20%20%20%20%20%20%20%20%20%20%20%20%7B%0A%20%20%20%20%20%20%20%20%20%20%20%20%20%20%20%20icon%3A%20new%20L.Icon.Default%28%29%2C%0A%20%20%20%20%20%20%20%20%20%20%20%20%20%20%20%20%7D%0A%20%20%20%20%20%20%20%20%20%20%20%20%29.addTo%28map_d49bbd8991c244b4ba34fbf7a488b2a8%29%3B%0A%20%20%20%20%20%20%20%20%0A%20%20%20%20%0A%20%20%20%20%20%20%20%20var%20marker_fb6190b73eab4e6dba3834d71855c486%20%3D%20L.marker%28%0A%20%20%20%20%20%20%20%20%20%20%20%20%5B40.58432461481173%2C%20-105.07746415822412%5D%2C%0A%20%20%20%20%20%20%20%20%20%20%20%20%7B%0A%20%20%20%20%20%20%20%20%20%20%20%20%20%20%20%20icon%3A%20new%20L.Icon.Default%28%29%2C%0A%20%20%20%20%20%20%20%20%20%20%20%20%20%20%20%20%7D%0A%20%20%20%20%20%20%20%20%20%20%20%20%29.addTo%28map_d49bbd8991c244b4ba34fbf7a488b2a8%29%3B%0A%20%20%20%20%20%20%20%20%0A%20%20%20%20%0A%20%20%20%20%20%20%20%20var%20marker_e77fcdb8dde94251abb39da6c1963232%20%3D%20L.marker%28%0A%20%20%20%20%20%20%20%20%20%20%20%20%5B40.57854229335799%2C%20-105.07697491215339%5D%2C%0A%20%20%20%20%20%20%20%20%20%20%20%20%7B%0A%20%20%20%20%20%20%20%20%20%20%20%20%20%20%20%20icon%3A%20new%20L.Icon.Default%28%29%2C%0A%20%20%20%20%20%20%20%20%20%20%20%20%20%20%20%20%7D%0A%20%20%20%20%20%20%20%20%20%20%20%20%29.addTo%28map_d49bbd8991c244b4ba34fbf7a488b2a8%29%3B%0A%20%20%20%20%20%20%20%20%0A%20%20%20%20%0A%20%20%20%20%20%20%20%20var%20marker_6c528ddfe1ac4d6ab84ffd8230ff0670%20%3D%20L.marker%28%0A%20%20%20%20%20%20%20%20%20%20%20%20%5B40.582431%2C%20-105.076273%5D%2C%0A%20%20%20%20%20%20%20%20%20%20%20%20%7B%0A%20%20%20%20%20%20%20%20%20%20%20%20%20%20%20%20icon%3A%20new%20L.Icon.Default%28%29%2C%0A%20%20%20%20%20%20%20%20%20%20%20%20%20%20%20%20%7D%0A%20%20%20%20%20%20%20%20%20%20%20%20%29.addTo%28map_d49bbd8991c244b4ba34fbf7a488b2a8%29%3B%0A%20%20%20%20%20%20%20%20%0A%20%20%20%20%0A%20%20%20%20%20%20%20%20var%20marker_116a2af0715f4bc6b429f1ed4acd34bc%20%3D%20L.marker%28%0A%20%20%20%20%20%20%20%20%20%20%20%20%5B40.58842079996906%2C%20-105.07726091259815%5D%2C%0A%20%20%20%20%20%20%20%20%20%20%20%20%7B%0A%20%20%20%20%20%20%20%20%20%20%20%20%20%20%20%20icon%3A%20new%20L.Icon.Default%28%29%2C%0A%20%20%20%20%20%20%20%20%20%20%20%20%20%20%20%20%7D%0A%20%20%20%20%20%20%20%20%20%20%20%20%29.addTo%28map_d49bbd8991c244b4ba34fbf7a488b2a8%29%3B%0A%20%20%20%20%20%20%20%20%0A%20%20%20%20%0A%20%20%20%20%20%20%20%20var%20marker_55338a3622284a218c233b8ed6b4eb08%20%3D%20L.marker%28%0A%20%20%20%20%20%20%20%20%20%20%20%20%5B40.58197315903402%2C%20-105.08414942909835%5D%2C%0A%20%20%20%20%20%20%20%20%20%20%20%20%7B%0A%20%20%20%20%20%20%20%20%20%20%20%20%20%20%20%20icon%3A%20new%20L.Icon.Default%28%29%2C%0A%20%20%20%20%20%20%20%20%20%20%20%20%20%20%20%20%7D%0A%20%20%20%20%20%20%20%20%20%20%20%20%29.addTo%28map_d49bbd8991c244b4ba34fbf7a488b2a8%29%3B%0A%20%20%20%20%20%20%20%20%0A%20%20%20%20%0A%20%20%20%20%20%20%20%20var%20marker_7c39bb5014cb48f8b70ebc01d5234f50%20%3D%20L.marker%28%0A%20%20%20%20%20%20%20%20%20%20%20%20%5B40.585513770086216%2C%20-105.07818110057406%5D%2C%0A%20%20%20%20%20%20%20%20%20%20%20%20%7B%0A%20%20%20%20%20%20%20%20%20%20%20%20%20%20%20%20icon%3A%20new%20L.Icon.Default%28%29%2C%0A%20%20%20%20%20%20%20%20%20%20%20%20%20%20%20%20%7D%0A%20%20%20%20%20%20%20%20%20%20%20%20%29.addTo%28map_d49bbd8991c244b4ba34fbf7a488b2a8%29%3B%0A%20%20%20%20%20%20%20%20%0A%20%20%20%20%0A%20%20%20%20%20%20%20%20var%20marker_1dc3c6f0d92a43f9b6baa0d925dd6ab5%20%3D%20L.marker%28%0A%20%20%20%20%20%20%20%20%20%20%20%20%5B40.578894%2C%20-105.07873%5D%2C%0A%20%20%20%20%20%20%20%20%20%20%20%20%7B%0A%20%20%20%20%20%20%20%20%20%20%20%20%20%20%20%20icon%3A%20new%20L.Icon.Default%28%29%2C%0A%20%20%20%20%20%20%20%20%20%20%20%20%20%20%20%20%7D%0A%20%20%20%20%20%20%20%20%20%20%20%20%29.addTo%28map_d49bbd8991c244b4ba34fbf7a488b2a8%29%3B%0A%20%20%20%20%20%20%20%20%0A%20%20%20%20%0A%20%20%20%20%20%20%20%20var%20marker_f5e66fa8365244c7beffb5cc37d97be2%20%3D%20L.marker%28%0A%20%20%20%20%20%20%20%20%20%20%20%20%5B40.58374719449528%2C%20-105.07782406628222%5D%2C%0A%20%20%20%20%20%20%20%20%20%20%20%20%7B%0A%20%20%20%20%20%20%20%20%20%20%20%20%20%20%20%20icon%3A%20new%20L.Icon.Default%28%29%2C%0A%20%20%20%20%20%20%20%20%20%20%20%20%20%20%20%20%7D%0A%20%20%20%20%20%20%20%20%20%20%20%20%29.addTo%28map_d49bbd8991c244b4ba34fbf7a488b2a8%29%3B%0A%20%20%20%20%20%20%20%20%0A%20%20%20%20%0A%20%20%20%20%20%20%20%20var%20marker_fd0354b91dc446dfaa33c623e6e5c1e7%20%3D%20L.marker%28%0A%20%20%20%20%20%20%20%20%20%20%20%20%5B40.57869830418164%2C%20-105.07810359373636%5D%2C%0A%20%20%20%20%20%20%20%20%20%20%20%20%7B%0A%20%20%20%20%20%20%20%20%20%20%20%20%20%20%20%20icon%3A%20new%20L.Icon.Default%28%29%2C%0A%20%20%20%20%20%20%20%20%20%20%20%20%20%20%20%20%7D%0A%20%20%20%20%20%20%20%20%20%20%20%20%29.addTo%28map_d49bbd8991c244b4ba34fbf7a488b2a8%29%3B%0A%20%20%20%20%20%20%20%20%0A%20%20%20%20%0A%20%20%20%20%20%20%20%20var%20marker_7741964bac48461e94b30a4b89963dca%20%3D%20L.marker%28%0A%20%20%20%20%20%20%20%20%20%20%20%20%5B40.58226769791736%2C%20-105.07925463967258%5D%2C%0A%20%20%20%20%20%20%20%20%20%20%20%20%7B%0A%20%20%20%20%20%20%20%20%20%20%20%20%20%20%20%20icon%3A%20new%20L.Icon.Default%28%29%2C%0A%20%20%20%20%20%20%20%20%20%20%20%20%20%20%20%20%7D%0A%20%20%20%20%20%20%20%20%20%20%20%20%29.addTo%28map_d49bbd8991c244b4ba34fbf7a488b2a8%29%3B%0A%20%20%20%20%20%20%20%20%0A%20%20%20%20%0A%20%20%20%20%20%20%20%20var%20marker_a2bdb6692b704a879fa6f02f9286ac39%20%3D%20L.marker%28%0A%20%20%20%20%20%20%20%20%20%20%20%20%5B40.581342896193156%2C%20-105.07915012101886%5D%2C%0A%20%20%20%20%20%20%20%20%20%20%20%20%7B%0A%20%20%20%20%20%20%20%20%20%20%20%20%20%20%20%20icon%3A%20new%20L.Icon.Default%28%29%2C%0A%20%20%20%20%20%20%20%20%20%20%20%20%20%20%20%20%7D%0A%20%20%20%20%20%20%20%20%20%20%20%20%29.addTo%28map_d49bbd8991c244b4ba34fbf7a488b2a8%29%3B%0A%20%20%20%20%20%20%20%20%0A%20%20%20%20%0A%20%20%20%20%20%20%20%20var%20marker_44467ac3baa348709bb92b61499b6759%20%3D%20L.marker%28%0A%20%20%20%20%20%20%20%20%20%20%20%20%5B40.58833322488077%2C%20-105.07503653159716%5D%2C%0A%20%20%20%20%20%20%20%20%20%20%20%20%7B%0A%20%20%20%20%20%20%20%20%20%20%20%20%20%20%20%20icon%3A%20new%20L.Icon.Default%28%29%2C%0A%20%20%20%20%20%20%20%20%20%20%20%20%20%20%20%20%7D%0A%20%20%20%20%20%20%20%20%20%20%20%20%29.addTo%28map_d49bbd8991c244b4ba34fbf7a488b2a8%29%3B%0A%20%20%20%20%20%20%20%20%0A%20%20%20%20%0A%20%20%20%20%20%20%20%20var%20marker_eb7ef741f02846899df93c0c184d74db%20%3D%20L.marker%28%0A%20%20%20%20%20%20%20%20%20%20%20%20%5B40.58202725736052%2C%20-105.08583299239376%5D%2C%0A%20%20%20%20%20%20%20%20%20%20%20%20%7B%0A%20%20%20%20%20%20%20%20%20%20%20%20%20%20%20%20icon%3A%20new%20L.Icon.Default%28%29%2C%0A%20%20%20%20%20%20%20%20%20%20%20%20%20%20%20%20%7D%0A%20%20%20%20%20%20%20%20%20%20%20%20%29.addTo%28map_d49bbd8991c244b4ba34fbf7a488b2a8%29%3B%0A%20%20%20%20%20%20%20%20%0A%20%20%20%20%0A%20%20%20%20%20%20%20%20var%20marker_8593fbc352994f0aa2520b9de0b4d254%20%3D%20L.marker%28%0A%20%20%20%20%20%20%20%20%20%20%20%20%5B40.595809%2C%20-105.076321%5D%2C%0A%20%20%20%20%20%20%20%20%20%20%20%20%7B%0A%20%20%20%20%20%20%20%20%20%20%20%20%20%20%20%20icon%3A%20new%20L.Icon.Default%28%29%2C%0A%20%20%20%20%20%20%20%20%20%20%20%20%20%20%20%20%7D%0A%20%20%20%20%20%20%20%20%20%20%20%20%29.addTo%28map_d49bbd8991c244b4ba34fbf7a488b2a8%29%3B%0A%20%20%20%20%20%20%20%20%0A%20%20%20%20%0A%20%20%20%20%20%20%20%20var%20marker_e355d6c4e6c440cfb6636dd3565f2025%20%3D%20L.marker%28%0A%20%20%20%20%20%20%20%20%20%20%20%20%5B40.578740565369245%2C%20-105.07684431349087%5D%2C%0A%20%20%20%20%20%20%20%20%20%20%20%20%7B%0A%20%20%20%20%20%20%20%20%20%20%20%20%20%20%20%20icon%3A%20new%20L.Icon.Default%28%29%2C%0A%20%20%20%20%20%20%20%20%20%20%20%20%20%20%20%20%7D%0A%20%20%20%20%20%20%20%20%20%20%20%20%29.addTo%28map_d49bbd8991c244b4ba34fbf7a488b2a8%29%3B%0A%20%20%20%20%20%20%20%20%0A%20%20%20%20%0A%20%20%20%20%20%20%20%20var%20marker_06144f850e3d4e7ea69750c9f138c13d%20%3D%20L.marker%28%0A%20%20%20%20%20%20%20%20%20%20%20%20%5B40.58966469510793%2C%20-105.07530478057934%5D%2C%0A%20%20%20%20%20%20%20%20%20%20%20%20%7B%0A%20%20%20%20%20%20%20%20%20%20%20%20%20%20%20%20icon%3A%20new%20L.Icon.Default%28%29%2C%0A%20%20%20%20%20%20%20%20%20%20%20%20%20%20%20%20%7D%0A%20%20%20%20%20%20%20%20%20%20%20%20%29.addTo%28map_d49bbd8991c244b4ba34fbf7a488b2a8%29%3B%0A%20%20%20%20%20%20%20%20%0A%20%20%20%20%0A%20%20%20%20%20%20%20%20var%20marker_41cbbf7edf5148e7bb0a27e85119205c%20%3D%20L.marker%28%0A%20%20%20%20%20%20%20%20%20%20%20%20%5B40.6024265%2C%20-105.075726%5D%2C%0A%20%20%20%20%20%20%20%20%20%20%20%20%7B%0A%20%20%20%20%20%20%20%20%20%20%20%20%20%20%20%20icon%3A%20new%20L.Icon.Default%28%29%2C%0A%20%20%20%20%20%20%20%20%20%20%20%20%20%20%20%20%7D%0A%20%20%20%20%20%20%20%20%20%20%20%20%29.addTo%28map_d49bbd8991c244b4ba34fbf7a488b2a8%29%3B%0A%20%20%20%20%20%20%20%20%0A%20%20%20%20%0A%20%20%20%20%20%20%20%20var%20marker_7a8c0699334843e4913d63cedaf8bc8a%20%3D%20L.marker%28%0A%20%20%20%20%20%20%20%20%20%20%20%20%5B40.58913122168964%2C%20-105.06317077175376%5D%2C%0A%20%20%20%20%20%20%20%20%20%20%20%20%7B%0A%20%20%20%20%20%20%20%20%20%20%20%20%20%20%20%20icon%3A%20new%20L.Icon.Default%28%29%2C%0A%20%20%20%20%20%20%20%20%20%20%20%20%20%20%20%20%7D%0A%20%20%20%20%20%20%20%20%20%20%20%20%29.addTo%28map_d49bbd8991c244b4ba34fbf7a488b2a8%29%3B%0A%20%20%20%20%20%20%20%20%0A%20%20%20%20%0A%20%20%20%20%20%20%20%20var%20marker_6517be08d75b401ba936d53529513b96%20%3D%20L.marker%28%0A%20%20%20%20%20%20%20%20%20%20%20%20%5B40.593119841893106%2C%20-105.08748347338577%5D%2C%0A%20%20%20%20%20%20%20%20%20%20%20%20%7B%0A%20%20%20%20%20%20%20%20%20%20%20%20%20%20%20%20icon%3A%20new%20L.Icon.Default%28%29%2C%0A%20%20%20%20%20%20%20%20%20%20%20%20%20%20%20%20%7D%0A%20%20%20%20%20%20%20%20%20%20%20%20%29.addTo%28map_d49bbd8991c244b4ba34fbf7a488b2a8%29%3B%0A%20%20%20%20%20%20%20%20%0A%20%20%20%20%0A%20%20%20%20%20%20%20%20var%20marker_a51e9f786fa445d0bf3980f281f64949%20%3D%20L.marker%28%0A%20%20%20%20%20%20%20%20%20%20%20%20%5B40.57841%2C%20-105.07845%5D%2C%0A%20%20%20%20%20%20%20%20%20%20%20%20%7B%0A%20%20%20%20%20%20%20%20%20%20%20%20%20%20%20%20icon%3A%20new%20L.Icon.Default%28%29%2C%0A%20%20%20%20%20%20%20%20%20%20%20%20%20%20%20%20%7D%0A%20%20%20%20%20%20%20%20%20%20%20%20%29.addTo%28map_d49bbd8991c244b4ba34fbf7a488b2a8%29%3B%0A%20%20%20%20%20%20%20%20%0A%20%20%20%20%0A%20%20%20%20%20%20%20%20var%20marker_53197a9ba3224ee6898dc1cb95516adb%20%3D%20L.marker%28%0A%20%20%20%20%20%20%20%20%20%20%20%20%5B40.57830734344235%2C%20-105.07964268844201%5D%2C%0A%20%20%20%20%20%20%20%20%20%20%20%20%7B%0A%20%20%20%20%20%20%20%20%20%20%20%20%20%20%20%20icon%3A%20new%20L.Icon.Default%28%29%2C%0A%20%20%20%20%20%20%20%20%20%20%20%20%20%20%20%20%7D%0A%20%20%20%20%20%20%20%20%20%20%20%20%29.addTo%28map_d49bbd8991c244b4ba34fbf7a488b2a8%29%3B%0A%20%20%20%20%20%20%20%20%0A%20%20%20%20%0A%20%20%20%20%20%20%20%20var%20marker_71ca33cd9a7f406dad167210828547ed%20%3D%20L.marker%28%0A%20%20%20%20%20%20%20%20%20%20%20%20%5B40.602508%2C%20-105.076917%5D%2C%0A%20%20%20%20%20%20%20%20%20%20%20%20%7B%0A%20%20%20%20%20%20%20%20%20%20%20%20%20%20%20%20icon%3A%20new%20L.Icon.Default%28%29%2C%0A%20%20%20%20%20%20%20%20%20%20%20%20%20%20%20%20%7D%0A%20%20%20%20%20%20%20%20%20%20%20%20%29.addTo%28map_d49bbd8991c244b4ba34fbf7a488b2a8%29%3B%0A%20%20%20%20%20%20%20%20%0A%20%20%20%20%0A%20%20%20%20%20%20%20%20var%20marker_101effd45de4463b95ec40fb13851277%20%3D%20L.marker%28%0A%20%20%20%20%20%20%20%20%20%20%20%20%5B40.58806418492557%2C%20-105.08005047471657%5D%2C%0A%20%20%20%20%20%20%20%20%20%20%20%20%7B%0A%20%20%20%20%20%20%20%20%20%20%20%20%20%20%20%20icon%3A%20new%20L.Icon.Default%28%29%2C%0A%20%20%20%20%20%20%20%20%20%20%20%20%20%20%20%20%7D%0A%20%20%20%20%20%20%20%20%20%20%20%20%29.addTo%28map_d49bbd8991c244b4ba34fbf7a488b2a8%29%3B%0A%20%20%20%20%20%20%20%20%0A%20%20%20%20%0A%20%20%20%20%20%20%20%20var%20marker_ebf08ca37e314f469462ec1b26033ace%20%3D%20L.marker%28%0A%20%20%20%20%20%20%20%20%20%20%20%20%5B40.57780776623574%2C%20-105.077124329069%5D%2C%0A%20%20%20%20%20%20%20%20%20%20%20%20%7B%0A%20%20%20%20%20%20%20%20%20%20%20%20%20%20%20%20icon%3A%20new%20L.Icon.Default%28%29%2C%0A%20%20%20%20%20%20%20%20%20%20%20%20%20%20%20%20%7D%0A%20%20%20%20%20%20%20%20%20%20%20%20%29.addTo%28map_d49bbd8991c244b4ba34fbf7a488b2a8%29%3B%0A%20%20%20%20%20%20%20%20%0A%20%20%20%20%0A%20%20%20%20%20%20%20%20var%20marker_90845a82f92249c0898552a28ba8461d%20%3D%20L.marker%28%0A%20%20%20%20%20%20%20%20%20%20%20%20%5B40.57918797266291%2C%20-105.07670109954363%5D%2C%0A%20%20%20%20%20%20%20%20%20%20%20%20%7B%0A%20%20%20%20%20%20%20%20%20%20%20%20%20%20%20%20icon%3A%20new%20L.Icon.Default%28%29%2C%0A%20%20%20%20%20%20%20%20%20%20%20%20%20%20%20%20%7D%0A%20%20%20%20%20%20%20%20%20%20%20%20%29.addTo%28map_d49bbd8991c244b4ba34fbf7a488b2a8%29%3B%0A%20%20%20%20%20%20%20%20%0A%20%20%20%20%0A%20%20%20%20%20%20%20%20var%20marker_cc7f233973ac4498b44f5f1bf9f6feed%20%3D%20L.marker%28%0A%20%20%20%20%20%20%20%20%20%20%20%20%5B40.57471552346967%2C%20-105.08500435806775%5D%2C%0A%20%20%20%20%20%20%20%20%20%20%20%20%7B%0A%20%20%20%20%20%20%20%20%20%20%20%20%20%20%20%20icon%3A%20new%20L.Icon.Default%28%29%2C%0A%20%20%20%20%20%20%20%20%20%20%20%20%20%20%20%20%7D%0A%20%20%20%20%20%20%20%20%20%20%20%20%29.addTo%28map_d49bbd8991c244b4ba34fbf7a488b2a8%29%3B%0A%20%20%20%20%20%20%20%20%0A%20%20%20%20%0A%20%20%20%20%20%20%20%20var%20marker_87a16f5285eb451ebb8336f7c3fa0d45%20%3D%20L.marker%28%0A%20%20%20%20%20%20%20%20%20%20%20%20%5B40.57792072524498%2C%20-105.07681990566209%5D%2C%0A%20%20%20%20%20%20%20%20%20%20%20%20%7B%0A%20%20%20%20%20%20%20%20%20%20%20%20%20%20%20%20icon%3A%20new%20L.Icon.Default%28%29%2C%0A%20%20%20%20%20%20%20%20%20%20%20%20%20%20%20%20%7D%0A%20%20%20%20%20%20%20%20%20%20%20%20%29.addTo%28map_d49bbd8991c244b4ba34fbf7a488b2a8%29%3B%0A%20%20%20%20%20%20%20%20%0A%20%20%20%20%0A%20%20%20%20%20%20%20%20var%20marker_09798f00ee4e425b814562f2fc1bddb1%20%3D%20L.marker%28%0A%20%20%20%20%20%20%20%20%20%20%20%20%5B40.58372999312416%2C%20-105.1020079109997%5D%2C%0A%20%20%20%20%20%20%20%20%20%20%20%20%7B%0A%20%20%20%20%20%20%20%20%20%20%20%20%20%20%20%20icon%3A%20new%20L.Icon.Default%28%29%2C%0A%20%20%20%20%20%20%20%20%20%20%20%20%20%20%20%20%7D%0A%20%20%20%20%20%20%20%20%20%20%20%20%29.addTo%28map_d49bbd8991c244b4ba34fbf7a488b2a8%29%3B%0A%20%20%20%20%20%20%20%20%0A%3C/script%3E onload=\"this.contentDocument.open();this.contentDocument.write(    decodeURIComponent(this.getAttribute('data-html')));this.contentDocument.close();\" allowfullscreen webkitallowfullscreen mozallowfullscreen></iframe></div></div>"
            ],
            "text/plain": [
              "<folium.folium.Map at 0x7f07ad0ec650>"
            ]
          },
          "metadata": {
            "tags": []
          },
          "execution_count": 87
        }
      ]
    },
    {
      "cell_type": "markdown",
      "metadata": {
        "id": "k_NhRI1NqF42"
      },
      "source": [
        "#### Denver"
      ]
    },
    {
      "cell_type": "code",
      "metadata": {
        "colab": {
          "base_uri": "https://localhost:8080/",
          "height": 0
        },
        "id": "JXIAr_x_msoh",
        "outputId": "ccf46ea0-5c95-4db3-e06b-e575c303e6f8"
      },
      "source": [
        "denver_map = folium.Map(location=[39.73918465, -104.99109381315253], zoom_start=15)\r\n",
        "denver_points = denver_venues[['lat', 'lng']]\r\n",
        "\r\n",
        "denver = denver_points.values.tolist()\r\n",
        "for point in range(0, len(denver)):\r\n",
        "  folium.Marker(denver[point]).add_to(denver_map)\r\n",
        "denver_map"
      ],
      "execution_count": 88,
      "outputs": [
        {
          "output_type": "execute_result",
          "data": {
            "text/html": [
              "<div style=\"width:100%;\"><div style=\"position:relative;width:100%;height:0;padding-bottom:60%;\"><span style=\"color:#565656\">Make this Notebook Trusted to load map: File -> Trust Notebook</span><iframe src=\"about:blank\" style=\"position:absolute;width:100%;height:100%;left:0;top:0;border:none !important;\" data-html=%3C%21DOCTYPE%20html%3E%0A%3Chead%3E%20%20%20%20%0A%20%20%20%20%3Cmeta%20http-equiv%3D%22content-type%22%20content%3D%22text/html%3B%20charset%3DUTF-8%22%20/%3E%0A%20%20%20%20%3Cscript%3EL_PREFER_CANVAS%3Dfalse%3B%20L_NO_TOUCH%3Dfalse%3B%20L_DISABLE_3D%3Dfalse%3B%3C/script%3E%0A%20%20%20%20%3Cscript%20src%3D%22https%3A//cdn.jsdelivr.net/npm/leaflet%401.4.0/dist/leaflet.js%22%3E%3C/script%3E%0A%20%20%20%20%3Cscript%20src%3D%22https%3A//code.jquery.com/jquery-1.12.4.min.js%22%3E%3C/script%3E%0A%20%20%20%20%3Cscript%20src%3D%22https%3A//maxcdn.bootstrapcdn.com/bootstrap/3.2.0/js/bootstrap.min.js%22%3E%3C/script%3E%0A%20%20%20%20%3Cscript%20src%3D%22https%3A//cdnjs.cloudflare.com/ajax/libs/Leaflet.awesome-markers/2.0.2/leaflet.awesome-markers.js%22%3E%3C/script%3E%0A%20%20%20%20%3Clink%20rel%3D%22stylesheet%22%20href%3D%22https%3A//cdn.jsdelivr.net/npm/leaflet%401.4.0/dist/leaflet.css%22/%3E%0A%20%20%20%20%3Clink%20rel%3D%22stylesheet%22%20href%3D%22https%3A//maxcdn.bootstrapcdn.com/bootstrap/3.2.0/css/bootstrap.min.css%22/%3E%0A%20%20%20%20%3Clink%20rel%3D%22stylesheet%22%20href%3D%22https%3A//maxcdn.bootstrapcdn.com/bootstrap/3.2.0/css/bootstrap-theme.min.css%22/%3E%0A%20%20%20%20%3Clink%20rel%3D%22stylesheet%22%20href%3D%22https%3A//maxcdn.bootstrapcdn.com/font-awesome/4.6.3/css/font-awesome.min.css%22/%3E%0A%20%20%20%20%3Clink%20rel%3D%22stylesheet%22%20href%3D%22https%3A//cdnjs.cloudflare.com/ajax/libs/Leaflet.awesome-markers/2.0.2/leaflet.awesome-markers.css%22/%3E%0A%20%20%20%20%3Clink%20rel%3D%22stylesheet%22%20href%3D%22https%3A//rawcdn.githack.com/python-visualization/folium/master/folium/templates/leaflet.awesome.rotate.css%22/%3E%0A%20%20%20%20%3Cstyle%3Ehtml%2C%20body%20%7Bwidth%3A%20100%25%3Bheight%3A%20100%25%3Bmargin%3A%200%3Bpadding%3A%200%3B%7D%3C/style%3E%0A%20%20%20%20%3Cstyle%3E%23map%20%7Bposition%3Aabsolute%3Btop%3A0%3Bbottom%3A0%3Bright%3A0%3Bleft%3A0%3B%7D%3C/style%3E%0A%20%20%20%20%0A%20%20%20%20%3Cmeta%20name%3D%22viewport%22%20content%3D%22width%3Ddevice-width%2C%0A%20%20%20%20%20%20%20%20initial-scale%3D1.0%2C%20maximum-scale%3D1.0%2C%20user-scalable%3Dno%22%20/%3E%0A%20%20%20%20%3Cstyle%3E%23map_0903cfcede644c5ab8ff2bd1eccb0d1d%20%7B%0A%20%20%20%20%20%20%20%20position%3A%20relative%3B%0A%20%20%20%20%20%20%20%20width%3A%20100.0%25%3B%0A%20%20%20%20%20%20%20%20height%3A%20100.0%25%3B%0A%20%20%20%20%20%20%20%20left%3A%200.0%25%3B%0A%20%20%20%20%20%20%20%20top%3A%200.0%25%3B%0A%20%20%20%20%20%20%20%20%7D%0A%20%20%20%20%3C/style%3E%0A%3C/head%3E%0A%3Cbody%3E%20%20%20%20%0A%20%20%20%20%0A%20%20%20%20%3Cdiv%20class%3D%22folium-map%22%20id%3D%22map_0903cfcede644c5ab8ff2bd1eccb0d1d%22%20%3E%3C/div%3E%0A%3C/body%3E%0A%3Cscript%3E%20%20%20%20%0A%20%20%20%20%0A%20%20%20%20%0A%20%20%20%20%20%20%20%20var%20bounds%20%3D%20null%3B%0A%20%20%20%20%0A%0A%20%20%20%20var%20map_0903cfcede644c5ab8ff2bd1eccb0d1d%20%3D%20L.map%28%0A%20%20%20%20%20%20%20%20%27map_0903cfcede644c5ab8ff2bd1eccb0d1d%27%2C%20%7B%0A%20%20%20%20%20%20%20%20center%3A%20%5B39.73918465%2C%20-104.99109381315253%5D%2C%0A%20%20%20%20%20%20%20%20zoom%3A%2015%2C%0A%20%20%20%20%20%20%20%20maxBounds%3A%20bounds%2C%0A%20%20%20%20%20%20%20%20layers%3A%20%5B%5D%2C%0A%20%20%20%20%20%20%20%20worldCopyJump%3A%20false%2C%0A%20%20%20%20%20%20%20%20crs%3A%20L.CRS.EPSG3857%2C%0A%20%20%20%20%20%20%20%20zoomControl%3A%20true%2C%0A%20%20%20%20%20%20%20%20%7D%29%3B%0A%0A%0A%20%20%20%20%0A%20%20%20%20var%20tile_layer_4096db70cfd046d2bbab3bf262e196d2%20%3D%20L.tileLayer%28%0A%20%20%20%20%20%20%20%20%27https%3A//%7Bs%7D.tile.openstreetmap.org/%7Bz%7D/%7Bx%7D/%7By%7D.png%27%2C%0A%20%20%20%20%20%20%20%20%7B%0A%20%20%20%20%20%20%20%20%22attribution%22%3A%20null%2C%0A%20%20%20%20%20%20%20%20%22detectRetina%22%3A%20false%2C%0A%20%20%20%20%20%20%20%20%22maxNativeZoom%22%3A%2018%2C%0A%20%20%20%20%20%20%20%20%22maxZoom%22%3A%2018%2C%0A%20%20%20%20%20%20%20%20%22minZoom%22%3A%200%2C%0A%20%20%20%20%20%20%20%20%22noWrap%22%3A%20false%2C%0A%20%20%20%20%20%20%20%20%22opacity%22%3A%201%2C%0A%20%20%20%20%20%20%20%20%22subdomains%22%3A%20%22abc%22%2C%0A%20%20%20%20%20%20%20%20%22tms%22%3A%20false%0A%7D%29.addTo%28map_0903cfcede644c5ab8ff2bd1eccb0d1d%29%3B%0A%20%20%20%20%0A%20%20%20%20%20%20%20%20var%20marker_961be0eb6d2a4db29fc2ee924b48eec7%20%3D%20L.marker%28%0A%20%20%20%20%20%20%20%20%20%20%20%20%5B39.73647919918744%2C%20-104.98871184041062%5D%2C%0A%20%20%20%20%20%20%20%20%20%20%20%20%7B%0A%20%20%20%20%20%20%20%20%20%20%20%20%20%20%20%20icon%3A%20new%20L.Icon.Default%28%29%2C%0A%20%20%20%20%20%20%20%20%20%20%20%20%20%20%20%20%7D%0A%20%20%20%20%20%20%20%20%20%20%20%20%29.addTo%28map_0903cfcede644c5ab8ff2bd1eccb0d1d%29%3B%0A%20%20%20%20%20%20%20%20%0A%20%20%20%20%0A%20%20%20%20%20%20%20%20var%20marker_fe6f09dfd3c04aa68296d7ee87162553%20%3D%20L.marker%28%0A%20%20%20%20%20%20%20%20%20%20%20%20%5B39.74136797940575%2C%20-104.9933504214872%5D%2C%0A%20%20%20%20%20%20%20%20%20%20%20%20%7B%0A%20%20%20%20%20%20%20%20%20%20%20%20%20%20%20%20icon%3A%20new%20L.Icon.Default%28%29%2C%0A%20%20%20%20%20%20%20%20%20%20%20%20%20%20%20%20%7D%0A%20%20%20%20%20%20%20%20%20%20%20%20%29.addTo%28map_0903cfcede644c5ab8ff2bd1eccb0d1d%29%3B%0A%20%20%20%20%20%20%20%20%0A%20%20%20%20%0A%20%20%20%20%20%20%20%20var%20marker_b06605dfe0214292b079929684d17d73%20%3D%20L.marker%28%0A%20%20%20%20%20%20%20%20%20%20%20%20%5B39.73937019305758%2C%20-104.98877561591745%5D%2C%0A%20%20%20%20%20%20%20%20%20%20%20%20%7B%0A%20%20%20%20%20%20%20%20%20%20%20%20%20%20%20%20icon%3A%20new%20L.Icon.Default%28%29%2C%0A%20%20%20%20%20%20%20%20%20%20%20%20%20%20%20%20%7D%0A%20%20%20%20%20%20%20%20%20%20%20%20%29.addTo%28map_0903cfcede644c5ab8ff2bd1eccb0d1d%29%3B%0A%20%20%20%20%20%20%20%20%0A%20%20%20%20%0A%20%20%20%20%20%20%20%20var%20marker_55bb57dc16b74d868a6798e616f19549%20%3D%20L.marker%28%0A%20%20%20%20%20%20%20%20%20%20%20%20%5B39.73520488891748%2C%20-104.9932311376163%5D%2C%0A%20%20%20%20%20%20%20%20%20%20%20%20%7B%0A%20%20%20%20%20%20%20%20%20%20%20%20%20%20%20%20icon%3A%20new%20L.Icon.Default%28%29%2C%0A%20%20%20%20%20%20%20%20%20%20%20%20%20%20%20%20%7D%0A%20%20%20%20%20%20%20%20%20%20%20%20%29.addTo%28map_0903cfcede644c5ab8ff2bd1eccb0d1d%29%3B%0A%20%20%20%20%20%20%20%20%0A%20%20%20%20%0A%20%20%20%20%20%20%20%20var%20marker_9cfe0dfc38aa4a0ead294302ef3e448b%20%3D%20L.marker%28%0A%20%20%20%20%20%20%20%20%20%20%20%20%5B39.73574341251683%2C%20-104.99275241546601%5D%2C%0A%20%20%20%20%20%20%20%20%20%20%20%20%7B%0A%20%20%20%20%20%20%20%20%20%20%20%20%20%20%20%20icon%3A%20new%20L.Icon.Default%28%29%2C%0A%20%20%20%20%20%20%20%20%20%20%20%20%20%20%20%20%7D%0A%20%20%20%20%20%20%20%20%20%20%20%20%29.addTo%28map_0903cfcede644c5ab8ff2bd1eccb0d1d%29%3B%0A%20%20%20%20%20%20%20%20%0A%20%20%20%20%0A%20%20%20%20%20%20%20%20var%20marker_73ea2834384540848413b504df246e0b%20%3D%20L.marker%28%0A%20%20%20%20%20%20%20%20%20%20%20%20%5B39.736169%2C%20-104.992698%5D%2C%0A%20%20%20%20%20%20%20%20%20%20%20%20%7B%0A%20%20%20%20%20%20%20%20%20%20%20%20%20%20%20%20icon%3A%20new%20L.Icon.Default%28%29%2C%0A%20%20%20%20%20%20%20%20%20%20%20%20%20%20%20%20%7D%0A%20%20%20%20%20%20%20%20%20%20%20%20%29.addTo%28map_0903cfcede644c5ab8ff2bd1eccb0d1d%29%3B%0A%20%20%20%20%20%20%20%20%0A%20%20%20%20%0A%20%20%20%20%20%20%20%20var%20marker_afdfa7d641864f638878a5df2d2fb784%20%3D%20L.marker%28%0A%20%20%20%20%20%20%20%20%20%20%20%20%5B39.741684148074214%2C%20-104.99354184458088%5D%2C%0A%20%20%20%20%20%20%20%20%20%20%20%20%7B%0A%20%20%20%20%20%20%20%20%20%20%20%20%20%20%20%20icon%3A%20new%20L.Icon.Default%28%29%2C%0A%20%20%20%20%20%20%20%20%20%20%20%20%20%20%20%20%7D%0A%20%20%20%20%20%20%20%20%20%20%20%20%29.addTo%28map_0903cfcede644c5ab8ff2bd1eccb0d1d%29%3B%0A%20%20%20%20%20%20%20%20%0A%20%20%20%20%0A%20%20%20%20%20%20%20%20var%20marker_e3f61dc6562a402da3a921a62e912f7c%20%3D%20L.marker%28%0A%20%20%20%20%20%20%20%20%20%20%20%20%5B39.737003%2C%20-104.993409%5D%2C%0A%20%20%20%20%20%20%20%20%20%20%20%20%7B%0A%20%20%20%20%20%20%20%20%20%20%20%20%20%20%20%20icon%3A%20new%20L.Icon.Default%28%29%2C%0A%20%20%20%20%20%20%20%20%20%20%20%20%20%20%20%20%7D%0A%20%20%20%20%20%20%20%20%20%20%20%20%29.addTo%28map_0903cfcede644c5ab8ff2bd1eccb0d1d%29%3B%0A%20%20%20%20%20%20%20%20%0A%20%20%20%20%0A%20%20%20%20%20%20%20%20var%20marker_8b2e8a0be4284780afea875c9431abd1%20%3D%20L.marker%28%0A%20%20%20%20%20%20%20%20%20%20%20%20%5B39.74330995604333%2C%20-104.98986841008725%5D%2C%0A%20%20%20%20%20%20%20%20%20%20%20%20%7B%0A%20%20%20%20%20%20%20%20%20%20%20%20%20%20%20%20icon%3A%20new%20L.Icon.Default%28%29%2C%0A%20%20%20%20%20%20%20%20%20%20%20%20%20%20%20%20%7D%0A%20%20%20%20%20%20%20%20%20%20%20%20%29.addTo%28map_0903cfcede644c5ab8ff2bd1eccb0d1d%29%3B%0A%20%20%20%20%20%20%20%20%0A%20%20%20%20%0A%20%20%20%20%20%20%20%20var%20marker_61d91d54d3cc44a9949b1dda6e824a86%20%3D%20L.marker%28%0A%20%20%20%20%20%20%20%20%20%20%20%20%5B39.74415975305366%2C%20-104.99004724412951%5D%2C%0A%20%20%20%20%20%20%20%20%20%20%20%20%7B%0A%20%20%20%20%20%20%20%20%20%20%20%20%20%20%20%20icon%3A%20new%20L.Icon.Default%28%29%2C%0A%20%20%20%20%20%20%20%20%20%20%20%20%20%20%20%20%7D%0A%20%20%20%20%20%20%20%20%20%20%20%20%29.addTo%28map_0903cfcede644c5ab8ff2bd1eccb0d1d%29%3B%0A%20%20%20%20%20%20%20%20%0A%20%20%20%20%0A%20%20%20%20%20%20%20%20var%20marker_ce8ee17f073244e8a2efd4e4c95c4d2f%20%3D%20L.marker%28%0A%20%20%20%20%20%20%20%20%20%20%20%20%5B39.73690019271325%2C%20-104.99078953996067%5D%2C%0A%20%20%20%20%20%20%20%20%20%20%20%20%7B%0A%20%20%20%20%20%20%20%20%20%20%20%20%20%20%20%20icon%3A%20new%20L.Icon.Default%28%29%2C%0A%20%20%20%20%20%20%20%20%20%20%20%20%20%20%20%20%7D%0A%20%20%20%20%20%20%20%20%20%20%20%20%29.addTo%28map_0903cfcede644c5ab8ff2bd1eccb0d1d%29%3B%0A%20%20%20%20%20%20%20%20%0A%20%20%20%20%0A%20%20%20%20%20%20%20%20var%20marker_ad5822a092e7438d97fde154fdf5a7a1%20%3D%20L.marker%28%0A%20%20%20%20%20%20%20%20%20%20%20%20%5B39.73556497457513%2C%20-104.98697060082806%5D%2C%0A%20%20%20%20%20%20%20%20%20%20%20%20%7B%0A%20%20%20%20%20%20%20%20%20%20%20%20%20%20%20%20icon%3A%20new%20L.Icon.Default%28%29%2C%0A%20%20%20%20%20%20%20%20%20%20%20%20%20%20%20%20%7D%0A%20%20%20%20%20%20%20%20%20%20%20%20%29.addTo%28map_0903cfcede644c5ab8ff2bd1eccb0d1d%29%3B%0A%20%20%20%20%20%20%20%20%0A%20%20%20%20%0A%20%20%20%20%20%20%20%20var%20marker_1100fcd6f9644b64be78b18486957de9%20%3D%20L.marker%28%0A%20%20%20%20%20%20%20%20%20%20%20%20%5B39.743754970465%2C%20-104.99362259066844%5D%2C%0A%20%20%20%20%20%20%20%20%20%20%20%20%7B%0A%20%20%20%20%20%20%20%20%20%20%20%20%20%20%20%20icon%3A%20new%20L.Icon.Default%28%29%2C%0A%20%20%20%20%20%20%20%20%20%20%20%20%20%20%20%20%7D%0A%20%20%20%20%20%20%20%20%20%20%20%20%29.addTo%28map_0903cfcede644c5ab8ff2bd1eccb0d1d%29%3B%0A%20%20%20%20%20%20%20%20%0A%20%20%20%20%0A%20%20%20%20%20%20%20%20var%20marker_64927b5672684901b3f2d1803917fd2e%20%3D%20L.marker%28%0A%20%20%20%20%20%20%20%20%20%20%20%20%5B39.73678789164507%2C%20-104.9914470003725%5D%2C%0A%20%20%20%20%20%20%20%20%20%20%20%20%7B%0A%20%20%20%20%20%20%20%20%20%20%20%20%20%20%20%20icon%3A%20new%20L.Icon.Default%28%29%2C%0A%20%20%20%20%20%20%20%20%20%20%20%20%20%20%20%20%7D%0A%20%20%20%20%20%20%20%20%20%20%20%20%29.addTo%28map_0903cfcede644c5ab8ff2bd1eccb0d1d%29%3B%0A%20%20%20%20%20%20%20%20%0A%20%20%20%20%0A%20%20%20%20%20%20%20%20var%20marker_61d1becddfde4263b1d751c42bf55171%20%3D%20L.marker%28%0A%20%20%20%20%20%20%20%20%20%20%20%20%5B39.74426147133747%2C%20-104.99383807182306%5D%2C%0A%20%20%20%20%20%20%20%20%20%20%20%20%7B%0A%20%20%20%20%20%20%20%20%20%20%20%20%20%20%20%20icon%3A%20new%20L.Icon.Default%28%29%2C%0A%20%20%20%20%20%20%20%20%20%20%20%20%20%20%20%20%7D%0A%20%20%20%20%20%20%20%20%20%20%20%20%29.addTo%28map_0903cfcede644c5ab8ff2bd1eccb0d1d%29%3B%0A%20%20%20%20%20%20%20%20%0A%20%20%20%20%0A%20%20%20%20%20%20%20%20var%20marker_e8c78aef18a2434fa5f955b7ddebbbef%20%3D%20L.marker%28%0A%20%20%20%20%20%20%20%20%20%20%20%20%5B39.734387970476945%2C%20-104.99042643466467%5D%2C%0A%20%20%20%20%20%20%20%20%20%20%20%20%7B%0A%20%20%20%20%20%20%20%20%20%20%20%20%20%20%20%20icon%3A%20new%20L.Icon.Default%28%29%2C%0A%20%20%20%20%20%20%20%20%20%20%20%20%20%20%20%20%7D%0A%20%20%20%20%20%20%20%20%20%20%20%20%29.addTo%28map_0903cfcede644c5ab8ff2bd1eccb0d1d%29%3B%0A%20%20%20%20%20%20%20%20%0A%20%20%20%20%0A%20%20%20%20%20%20%20%20var%20marker_f3c24554eb7b428eac55108cfda959dd%20%3D%20L.marker%28%0A%20%20%20%20%20%20%20%20%20%20%20%20%5B39.734519081464725%2C%20-104.99044456068543%5D%2C%0A%20%20%20%20%20%20%20%20%20%20%20%20%7B%0A%20%20%20%20%20%20%20%20%20%20%20%20%20%20%20%20icon%3A%20new%20L.Icon.Default%28%29%2C%0A%20%20%20%20%20%20%20%20%20%20%20%20%20%20%20%20%7D%0A%20%20%20%20%20%20%20%20%20%20%20%20%29.addTo%28map_0903cfcede644c5ab8ff2bd1eccb0d1d%29%3B%0A%20%20%20%20%20%20%20%20%0A%20%20%20%20%0A%20%20%20%20%20%20%20%20var%20marker_c9fb72ab307b4db7a07313645d923613%20%3D%20L.marker%28%0A%20%20%20%20%20%20%20%20%20%20%20%20%5B39.7439251%2C%20-104.9878805%5D%2C%0A%20%20%20%20%20%20%20%20%20%20%20%20%7B%0A%20%20%20%20%20%20%20%20%20%20%20%20%20%20%20%20icon%3A%20new%20L.Icon.Default%28%29%2C%0A%20%20%20%20%20%20%20%20%20%20%20%20%20%20%20%20%7D%0A%20%20%20%20%20%20%20%20%20%20%20%20%29.addTo%28map_0903cfcede644c5ab8ff2bd1eccb0d1d%29%3B%0A%20%20%20%20%20%20%20%20%0A%20%20%20%20%0A%20%20%20%20%20%20%20%20var%20marker_f1409cb1b95e45de9500519b5c9de7d6%20%3D%20L.marker%28%0A%20%20%20%20%20%20%20%20%20%20%20%20%5B39.74386013942204%2C%20-104.99524585708056%5D%2C%0A%20%20%20%20%20%20%20%20%20%20%20%20%7B%0A%20%20%20%20%20%20%20%20%20%20%20%20%20%20%20%20icon%3A%20new%20L.Icon.Default%28%29%2C%0A%20%20%20%20%20%20%20%20%20%20%20%20%20%20%20%20%7D%0A%20%20%20%20%20%20%20%20%20%20%20%20%29.addTo%28map_0903cfcede644c5ab8ff2bd1eccb0d1d%29%3B%0A%20%20%20%20%20%20%20%20%0A%20%20%20%20%0A%20%20%20%20%20%20%20%20var%20marker_99cfaccf0b7d4c6090622a3224e394c9%20%3D%20L.marker%28%0A%20%20%20%20%20%20%20%20%20%20%20%20%5B39.73577439271511%2C%20-104.99259903609446%5D%2C%0A%20%20%20%20%20%20%20%20%20%20%20%20%7B%0A%20%20%20%20%20%20%20%20%20%20%20%20%20%20%20%20icon%3A%20new%20L.Icon.Default%28%29%2C%0A%20%20%20%20%20%20%20%20%20%20%20%20%20%20%20%20%7D%0A%20%20%20%20%20%20%20%20%20%20%20%20%29.addTo%28map_0903cfcede644c5ab8ff2bd1eccb0d1d%29%3B%0A%20%20%20%20%20%20%20%20%0A%20%20%20%20%0A%20%20%20%20%20%20%20%20var%20marker_c36fde6be27c41db978767820cbf6c8b%20%3D%20L.marker%28%0A%20%20%20%20%20%20%20%20%20%20%20%20%5B39.74181215959918%2C%20-104.99277747668543%5D%2C%0A%20%20%20%20%20%20%20%20%20%20%20%20%7B%0A%20%20%20%20%20%20%20%20%20%20%20%20%20%20%20%20icon%3A%20new%20L.Icon.Default%28%29%2C%0A%20%20%20%20%20%20%20%20%20%20%20%20%20%20%20%20%7D%0A%20%20%20%20%20%20%20%20%20%20%20%20%29.addTo%28map_0903cfcede644c5ab8ff2bd1eccb0d1d%29%3B%0A%20%20%20%20%20%20%20%20%0A%20%20%20%20%0A%20%20%20%20%20%20%20%20var%20marker_3a716e41d39c4ed99e9c3c53aa930fe2%20%3D%20L.marker%28%0A%20%20%20%20%20%20%20%20%20%20%20%20%5B39.743721193519725%2C%20-104.99088591300236%5D%2C%0A%20%20%20%20%20%20%20%20%20%20%20%20%7B%0A%20%20%20%20%20%20%20%20%20%20%20%20%20%20%20%20icon%3A%20new%20L.Icon.Default%28%29%2C%0A%20%20%20%20%20%20%20%20%20%20%20%20%20%20%20%20%7D%0A%20%20%20%20%20%20%20%20%20%20%20%20%29.addTo%28map_0903cfcede644c5ab8ff2bd1eccb0d1d%29%3B%0A%20%20%20%20%20%20%20%20%0A%20%20%20%20%0A%20%20%20%20%20%20%20%20var%20marker_f717654e7a8d4b2b9773358e3c5d55d4%20%3D%20L.marker%28%0A%20%20%20%20%20%20%20%20%20%20%20%20%5B39.74317047094815%2C%20-104.99259352684021%5D%2C%0A%20%20%20%20%20%20%20%20%20%20%20%20%7B%0A%20%20%20%20%20%20%20%20%20%20%20%20%20%20%20%20icon%3A%20new%20L.Icon.Default%28%29%2C%0A%20%20%20%20%20%20%20%20%20%20%20%20%20%20%20%20%7D%0A%20%20%20%20%20%20%20%20%20%20%20%20%29.addTo%28map_0903cfcede644c5ab8ff2bd1eccb0d1d%29%3B%0A%20%20%20%20%20%20%20%20%0A%20%20%20%20%0A%20%20%20%20%20%20%20%20var%20marker_9ba43c6101e84de6b0ab1222cc076a81%20%3D%20L.marker%28%0A%20%20%20%20%20%20%20%20%20%20%20%20%5B39.74406791655199%2C%20-104.99382369992497%5D%2C%0A%20%20%20%20%20%20%20%20%20%20%20%20%7B%0A%20%20%20%20%20%20%20%20%20%20%20%20%20%20%20%20icon%3A%20new%20L.Icon.Default%28%29%2C%0A%20%20%20%20%20%20%20%20%20%20%20%20%20%20%20%20%7D%0A%20%20%20%20%20%20%20%20%20%20%20%20%29.addTo%28map_0903cfcede644c5ab8ff2bd1eccb0d1d%29%3B%0A%20%20%20%20%20%20%20%20%0A%20%20%20%20%0A%20%20%20%20%20%20%20%20var%20marker_2c0d20ec32f04c66bd8fca476952c2e4%20%3D%20L.marker%28%0A%20%20%20%20%20%20%20%20%20%20%20%20%5B39.74462304193088%2C%20-104.98764991486857%5D%2C%0A%20%20%20%20%20%20%20%20%20%20%20%20%7B%0A%20%20%20%20%20%20%20%20%20%20%20%20%20%20%20%20icon%3A%20new%20L.Icon.Default%28%29%2C%0A%20%20%20%20%20%20%20%20%20%20%20%20%20%20%20%20%7D%0A%20%20%20%20%20%20%20%20%20%20%20%20%29.addTo%28map_0903cfcede644c5ab8ff2bd1eccb0d1d%29%3B%0A%20%20%20%20%20%20%20%20%0A%20%20%20%20%0A%20%20%20%20%20%20%20%20var%20marker_c32787e746ec451d816e4dfd178614b8%20%3D%20L.marker%28%0A%20%20%20%20%20%20%20%20%20%20%20%20%5B39.73672415201011%2C%20-104.98466906108206%5D%2C%0A%20%20%20%20%20%20%20%20%20%20%20%20%7B%0A%20%20%20%20%20%20%20%20%20%20%20%20%20%20%20%20icon%3A%20new%20L.Icon.Default%28%29%2C%0A%20%20%20%20%20%20%20%20%20%20%20%20%20%20%20%20%7D%0A%20%20%20%20%20%20%20%20%20%20%20%20%29.addTo%28map_0903cfcede644c5ab8ff2bd1eccb0d1d%29%3B%0A%20%20%20%20%20%20%20%20%0A%20%20%20%20%0A%20%20%20%20%20%20%20%20var%20marker_0a862f14e9bb4f95a2aad2c962231ace%20%3D%20L.marker%28%0A%20%20%20%20%20%20%20%20%20%20%20%20%5B39.74299178997917%2C%20-104.98905621194376%5D%2C%0A%20%20%20%20%20%20%20%20%20%20%20%20%7B%0A%20%20%20%20%20%20%20%20%20%20%20%20%20%20%20%20icon%3A%20new%20L.Icon.Default%28%29%2C%0A%20%20%20%20%20%20%20%20%20%20%20%20%20%20%20%20%7D%0A%20%20%20%20%20%20%20%20%20%20%20%20%29.addTo%28map_0903cfcede644c5ab8ff2bd1eccb0d1d%29%3B%0A%20%20%20%20%20%20%20%20%0A%20%20%20%20%0A%20%20%20%20%20%20%20%20var%20marker_e0e19be01f3d4b6da3b59136d2c2ec70%20%3D%20L.marker%28%0A%20%20%20%20%20%20%20%20%20%20%20%20%5B39.73395777415703%2C%20-104.99182925129965%5D%2C%0A%20%20%20%20%20%20%20%20%20%20%20%20%7B%0A%20%20%20%20%20%20%20%20%20%20%20%20%20%20%20%20icon%3A%20new%20L.Icon.Default%28%29%2C%0A%20%20%20%20%20%20%20%20%20%20%20%20%20%20%20%20%7D%0A%20%20%20%20%20%20%20%20%20%20%20%20%29.addTo%28map_0903cfcede644c5ab8ff2bd1eccb0d1d%29%3B%0A%20%20%20%20%20%20%20%20%0A%20%20%20%20%0A%20%20%20%20%20%20%20%20var%20marker_b7f088841357401aa8ef30ce82752be6%20%3D%20L.marker%28%0A%20%20%20%20%20%20%20%20%20%20%20%20%5B39.7343443%2C%20-104.9926925%5D%2C%0A%20%20%20%20%20%20%20%20%20%20%20%20%7B%0A%20%20%20%20%20%20%20%20%20%20%20%20%20%20%20%20icon%3A%20new%20L.Icon.Default%28%29%2C%0A%20%20%20%20%20%20%20%20%20%20%20%20%20%20%20%20%7D%0A%20%20%20%20%20%20%20%20%20%20%20%20%29.addTo%28map_0903cfcede644c5ab8ff2bd1eccb0d1d%29%3B%0A%20%20%20%20%20%20%20%20%0A%20%20%20%20%0A%20%20%20%20%20%20%20%20var%20marker_f62013483a354be7b1703fcda5ba2521%20%3D%20L.marker%28%0A%20%20%20%20%20%20%20%20%20%20%20%20%5B39.73348950308798%2C%20-104.98782210054736%5D%2C%0A%20%20%20%20%20%20%20%20%20%20%20%20%7B%0A%20%20%20%20%20%20%20%20%20%20%20%20%20%20%20%20icon%3A%20new%20L.Icon.Default%28%29%2C%0A%20%20%20%20%20%20%20%20%20%20%20%20%20%20%20%20%7D%0A%20%20%20%20%20%20%20%20%20%20%20%20%29.addTo%28map_0903cfcede644c5ab8ff2bd1eccb0d1d%29%3B%0A%20%20%20%20%20%20%20%20%0A%20%20%20%20%0A%20%20%20%20%20%20%20%20var%20marker_e9ed6d45845d43d4ae2ec3839ec1602c%20%3D%20L.marker%28%0A%20%20%20%20%20%20%20%20%20%20%20%20%5B39.743261%2C%20-104.99105%5D%2C%0A%20%20%20%20%20%20%20%20%20%20%20%20%7B%0A%20%20%20%20%20%20%20%20%20%20%20%20%20%20%20%20icon%3A%20new%20L.Icon.Default%28%29%2C%0A%20%20%20%20%20%20%20%20%20%20%20%20%20%20%20%20%7D%0A%20%20%20%20%20%20%20%20%20%20%20%20%29.addTo%28map_0903cfcede644c5ab8ff2bd1eccb0d1d%29%3B%0A%20%20%20%20%20%20%20%20%0A%20%20%20%20%0A%20%20%20%20%20%20%20%20var%20marker_e87d1b0151d7465bbcb072d209ec3e33%20%3D%20L.marker%28%0A%20%20%20%20%20%20%20%20%20%20%20%20%5B39.73500569782802%2C%20-104.98783943461963%5D%2C%0A%20%20%20%20%20%20%20%20%20%20%20%20%7B%0A%20%20%20%20%20%20%20%20%20%20%20%20%20%20%20%20icon%3A%20new%20L.Icon.Default%28%29%2C%0A%20%20%20%20%20%20%20%20%20%20%20%20%20%20%20%20%7D%0A%20%20%20%20%20%20%20%20%20%20%20%20%29.addTo%28map_0903cfcede644c5ab8ff2bd1eccb0d1d%29%3B%0A%20%20%20%20%20%20%20%20%0A%20%20%20%20%0A%20%20%20%20%20%20%20%20var%20marker_4b5d59a890c24d599d745d06d671da79%20%3D%20L.marker%28%0A%20%20%20%20%20%20%20%20%20%20%20%20%5B39.74404057749057%2C%20-104.9878614775352%5D%2C%0A%20%20%20%20%20%20%20%20%20%20%20%20%7B%0A%20%20%20%20%20%20%20%20%20%20%20%20%20%20%20%20icon%3A%20new%20L.Icon.Default%28%29%2C%0A%20%20%20%20%20%20%20%20%20%20%20%20%20%20%20%20%7D%0A%20%20%20%20%20%20%20%20%20%20%20%20%29.addTo%28map_0903cfcede644c5ab8ff2bd1eccb0d1d%29%3B%0A%20%20%20%20%20%20%20%20%0A%20%20%20%20%0A%20%20%20%20%20%20%20%20var%20marker_20681965a9a944c7a899d2a18ebdb3e4%20%3D%20L.marker%28%0A%20%20%20%20%20%20%20%20%20%20%20%20%5B39.73994899661985%2C%20-104.9827555095705%5D%2C%0A%20%20%20%20%20%20%20%20%20%20%20%20%7B%0A%20%20%20%20%20%20%20%20%20%20%20%20%20%20%20%20icon%3A%20new%20L.Icon.Default%28%29%2C%0A%20%20%20%20%20%20%20%20%20%20%20%20%20%20%20%20%7D%0A%20%20%20%20%20%20%20%20%20%20%20%20%29.addTo%28map_0903cfcede644c5ab8ff2bd1eccb0d1d%29%3B%0A%20%20%20%20%20%20%20%20%0A%20%20%20%20%0A%20%20%20%20%20%20%20%20var%20marker_6e2eb656508b49f9ab96e63892ca0899%20%3D%20L.marker%28%0A%20%20%20%20%20%20%20%20%20%20%20%20%5B39.743673211019306%2C%20-104.99412825727656%5D%2C%0A%20%20%20%20%20%20%20%20%20%20%20%20%7B%0A%20%20%20%20%20%20%20%20%20%20%20%20%20%20%20%20icon%3A%20new%20L.Icon.Default%28%29%2C%0A%20%20%20%20%20%20%20%20%20%20%20%20%20%20%20%20%7D%0A%20%20%20%20%20%20%20%20%20%20%20%20%29.addTo%28map_0903cfcede644c5ab8ff2bd1eccb0d1d%29%3B%0A%20%20%20%20%20%20%20%20%0A%20%20%20%20%0A%20%20%20%20%20%20%20%20var%20marker_f58709bf48f94d51901bbf656b1ba3d1%20%3D%20L.marker%28%0A%20%20%20%20%20%20%20%20%20%20%20%20%5B39.7444591985828%2C%20-104.99845605693795%5D%2C%0A%20%20%20%20%20%20%20%20%20%20%20%20%7B%0A%20%20%20%20%20%20%20%20%20%20%20%20%20%20%20%20icon%3A%20new%20L.Icon.Default%28%29%2C%0A%20%20%20%20%20%20%20%20%20%20%20%20%20%20%20%20%7D%0A%20%20%20%20%20%20%20%20%20%20%20%20%29.addTo%28map_0903cfcede644c5ab8ff2bd1eccb0d1d%29%3B%0A%20%20%20%20%20%20%20%20%0A%20%20%20%20%0A%20%20%20%20%20%20%20%20var%20marker_a0446d1d2adb404891379db2d7e28650%20%3D%20L.marker%28%0A%20%20%20%20%20%20%20%20%20%20%20%20%5B39.74473688229625%2C%20-104.99797816205279%5D%2C%0A%20%20%20%20%20%20%20%20%20%20%20%20%7B%0A%20%20%20%20%20%20%20%20%20%20%20%20%20%20%20%20icon%3A%20new%20L.Icon.Default%28%29%2C%0A%20%20%20%20%20%20%20%20%20%20%20%20%20%20%20%20%7D%0A%20%20%20%20%20%20%20%20%20%20%20%20%29.addTo%28map_0903cfcede644c5ab8ff2bd1eccb0d1d%29%3B%0A%20%20%20%20%20%20%20%20%0A%20%20%20%20%0A%20%20%20%20%20%20%20%20var%20marker_2595525fb8a545298105f6fb4629d6e0%20%3D%20L.marker%28%0A%20%20%20%20%20%20%20%20%20%20%20%20%5B39.736720854632324%2C%20-104.98440663856138%5D%2C%0A%20%20%20%20%20%20%20%20%20%20%20%20%7B%0A%20%20%20%20%20%20%20%20%20%20%20%20%20%20%20%20icon%3A%20new%20L.Icon.Default%28%29%2C%0A%20%20%20%20%20%20%20%20%20%20%20%20%20%20%20%20%7D%0A%20%20%20%20%20%20%20%20%20%20%20%20%29.addTo%28map_0903cfcede644c5ab8ff2bd1eccb0d1d%29%3B%0A%20%20%20%20%20%20%20%20%0A%20%20%20%20%0A%20%20%20%20%20%20%20%20var%20marker_505250502f8d4b4691d049670f8d1600%20%3D%20L.marker%28%0A%20%20%20%20%20%20%20%20%20%20%20%20%5B39.7465895%2C%20-104.9943332%5D%2C%0A%20%20%20%20%20%20%20%20%20%20%20%20%7B%0A%20%20%20%20%20%20%20%20%20%20%20%20%20%20%20%20icon%3A%20new%20L.Icon.Default%28%29%2C%0A%20%20%20%20%20%20%20%20%20%20%20%20%20%20%20%20%7D%0A%20%20%20%20%20%20%20%20%20%20%20%20%29.addTo%28map_0903cfcede644c5ab8ff2bd1eccb0d1d%29%3B%0A%20%20%20%20%20%20%20%20%0A%20%20%20%20%0A%20%20%20%20%20%20%20%20var%20marker_ec93fb9fd9904f0ab9342a3259f7cead%20%3D%20L.marker%28%0A%20%20%20%20%20%20%20%20%20%20%20%20%5B39.7442615%2C%20-104.9938381%5D%2C%0A%20%20%20%20%20%20%20%20%20%20%20%20%7B%0A%20%20%20%20%20%20%20%20%20%20%20%20%20%20%20%20icon%3A%20new%20L.Icon.Default%28%29%2C%0A%20%20%20%20%20%20%20%20%20%20%20%20%20%20%20%20%7D%0A%20%20%20%20%20%20%20%20%20%20%20%20%29.addTo%28map_0903cfcede644c5ab8ff2bd1eccb0d1d%29%3B%0A%20%20%20%20%20%20%20%20%0A%20%20%20%20%0A%20%20%20%20%20%20%20%20var%20marker_fbff9fb58fe54b358f778dac9d653a97%20%3D%20L.marker%28%0A%20%20%20%20%20%20%20%20%20%20%20%20%5B39.74443653727358%2C%20-104.99110929778462%5D%2C%0A%20%20%20%20%20%20%20%20%20%20%20%20%7B%0A%20%20%20%20%20%20%20%20%20%20%20%20%20%20%20%20icon%3A%20new%20L.Icon.Default%28%29%2C%0A%20%20%20%20%20%20%20%20%20%20%20%20%20%20%20%20%7D%0A%20%20%20%20%20%20%20%20%20%20%20%20%29.addTo%28map_0903cfcede644c5ab8ff2bd1eccb0d1d%29%3B%0A%20%20%20%20%20%20%20%20%0A%20%20%20%20%0A%20%20%20%20%20%20%20%20var%20marker_65d71da6dd514efdb3eb12ce93dc2326%20%3D%20L.marker%28%0A%20%20%20%20%20%20%20%20%20%20%20%20%5B39.74372514253115%2C%20-104.9909466520497%5D%2C%0A%20%20%20%20%20%20%20%20%20%20%20%20%7B%0A%20%20%20%20%20%20%20%20%20%20%20%20%20%20%20%20icon%3A%20new%20L.Icon.Default%28%29%2C%0A%20%20%20%20%20%20%20%20%20%20%20%20%20%20%20%20%7D%0A%20%20%20%20%20%20%20%20%20%20%20%20%29.addTo%28map_0903cfcede644c5ab8ff2bd1eccb0d1d%29%3B%0A%20%20%20%20%20%20%20%20%0A%20%20%20%20%0A%20%20%20%20%20%20%20%20var%20marker_1192138ca56b4a4b8234da9ed0605fa7%20%3D%20L.marker%28%0A%20%20%20%20%20%20%20%20%20%20%20%20%5B39.7471776%2C%20-104.9934033%5D%2C%0A%20%20%20%20%20%20%20%20%20%20%20%20%7B%0A%20%20%20%20%20%20%20%20%20%20%20%20%20%20%20%20icon%3A%20new%20L.Icon.Default%28%29%2C%0A%20%20%20%20%20%20%20%20%20%20%20%20%20%20%20%20%7D%0A%20%20%20%20%20%20%20%20%20%20%20%20%29.addTo%28map_0903cfcede644c5ab8ff2bd1eccb0d1d%29%3B%0A%20%20%20%20%20%20%20%20%0A%20%20%20%20%0A%20%20%20%20%20%20%20%20var%20marker_7af89eaaf0e745a7b2a92dad51d22ec4%20%3D%20L.marker%28%0A%20%20%20%20%20%20%20%20%20%20%20%20%5B39.747519%2C%20-104.989814%5D%2C%0A%20%20%20%20%20%20%20%20%20%20%20%20%7B%0A%20%20%20%20%20%20%20%20%20%20%20%20%20%20%20%20icon%3A%20new%20L.Icon.Default%28%29%2C%0A%20%20%20%20%20%20%20%20%20%20%20%20%20%20%20%20%7D%0A%20%20%20%20%20%20%20%20%20%20%20%20%29.addTo%28map_0903cfcede644c5ab8ff2bd1eccb0d1d%29%3B%0A%20%20%20%20%20%20%20%20%0A%20%20%20%20%0A%20%20%20%20%20%20%20%20var%20marker_d9c65474e0b94048ad8c9bc77a78aa9c%20%3D%20L.marker%28%0A%20%20%20%20%20%20%20%20%20%20%20%20%5B39.74453212774075%2C%20-104.99339843183407%5D%2C%0A%20%20%20%20%20%20%20%20%20%20%20%20%7B%0A%20%20%20%20%20%20%20%20%20%20%20%20%20%20%20%20icon%3A%20new%20L.Icon.Default%28%29%2C%0A%20%20%20%20%20%20%20%20%20%20%20%20%20%20%20%20%7D%0A%20%20%20%20%20%20%20%20%20%20%20%20%29.addTo%28map_0903cfcede644c5ab8ff2bd1eccb0d1d%29%3B%0A%20%20%20%20%20%20%20%20%0A%20%20%20%20%0A%20%20%20%20%20%20%20%20var%20marker_ab9b239f144349bbb38f7173df5c5c7e%20%3D%20L.marker%28%0A%20%20%20%20%20%20%20%20%20%20%20%20%5B39.74437159401043%2C%20-104.98968555450939%5D%2C%0A%20%20%20%20%20%20%20%20%20%20%20%20%7B%0A%20%20%20%20%20%20%20%20%20%20%20%20%20%20%20%20icon%3A%20new%20L.Icon.Default%28%29%2C%0A%20%20%20%20%20%20%20%20%20%20%20%20%20%20%20%20%7D%0A%20%20%20%20%20%20%20%20%20%20%20%20%29.addTo%28map_0903cfcede644c5ab8ff2bd1eccb0d1d%29%3B%0A%20%20%20%20%20%20%20%20%0A%20%20%20%20%0A%20%20%20%20%20%20%20%20var%20marker_e1276eef78974e73849dfc0aacfeed32%20%3D%20L.marker%28%0A%20%20%20%20%20%20%20%20%20%20%20%20%5B39.7461212%2C%20-104.9946818%5D%2C%0A%20%20%20%20%20%20%20%20%20%20%20%20%7B%0A%20%20%20%20%20%20%20%20%20%20%20%20%20%20%20%20icon%3A%20new%20L.Icon.Default%28%29%2C%0A%20%20%20%20%20%20%20%20%20%20%20%20%20%20%20%20%7D%0A%20%20%20%20%20%20%20%20%20%20%20%20%29.addTo%28map_0903cfcede644c5ab8ff2bd1eccb0d1d%29%3B%0A%20%20%20%20%20%20%20%20%0A%20%20%20%20%0A%20%20%20%20%20%20%20%20var%20marker_a10b859edad144e09e803e9180261bdf%20%3D%20L.marker%28%0A%20%20%20%20%20%20%20%20%20%20%20%20%5B39.735385812207255%2C%20-104.99878118572732%5D%2C%0A%20%20%20%20%20%20%20%20%20%20%20%20%7B%0A%20%20%20%20%20%20%20%20%20%20%20%20%20%20%20%20icon%3A%20new%20L.Icon.Default%28%29%2C%0A%20%20%20%20%20%20%20%20%20%20%20%20%20%20%20%20%7D%0A%20%20%20%20%20%20%20%20%20%20%20%20%29.addTo%28map_0903cfcede644c5ab8ff2bd1eccb0d1d%29%3B%0A%20%20%20%20%20%20%20%20%0A%20%20%20%20%0A%20%20%20%20%20%20%20%20var%20marker_a076ac5e0195413e8ceec18c0e1b3eba%20%3D%20L.marker%28%0A%20%20%20%20%20%20%20%20%20%20%20%20%5B39.746303%2C%20-104.995538%5D%2C%0A%20%20%20%20%20%20%20%20%20%20%20%20%7B%0A%20%20%20%20%20%20%20%20%20%20%20%20%20%20%20%20icon%3A%20new%20L.Icon.Default%28%29%2C%0A%20%20%20%20%20%20%20%20%20%20%20%20%20%20%20%20%7D%0A%20%20%20%20%20%20%20%20%20%20%20%20%29.addTo%28map_0903cfcede644c5ab8ff2bd1eccb0d1d%29%3B%0A%20%20%20%20%20%20%20%20%0A%20%20%20%20%0A%20%20%20%20%20%20%20%20var%20marker_6a05aa124def4e0789c559482e9b0d31%20%3D%20L.marker%28%0A%20%20%20%20%20%20%20%20%20%20%20%20%5B39.74409010080612%2C%20-104.99156138261549%5D%2C%0A%20%20%20%20%20%20%20%20%20%20%20%20%7B%0A%20%20%20%20%20%20%20%20%20%20%20%20%20%20%20%20icon%3A%20new%20L.Icon.Default%28%29%2C%0A%20%20%20%20%20%20%20%20%20%20%20%20%20%20%20%20%7D%0A%20%20%20%20%20%20%20%20%20%20%20%20%29.addTo%28map_0903cfcede644c5ab8ff2bd1eccb0d1d%29%3B%0A%20%20%20%20%20%20%20%20%0A%20%20%20%20%0A%20%20%20%20%20%20%20%20var%20marker_79d416d699ff4db8ab6c6f6c5b111e5e%20%3D%20L.marker%28%0A%20%20%20%20%20%20%20%20%20%20%20%20%5B39.7442835173492%2C%20-104.99112852802523%5D%2C%0A%20%20%20%20%20%20%20%20%20%20%20%20%7B%0A%20%20%20%20%20%20%20%20%20%20%20%20%20%20%20%20icon%3A%20new%20L.Icon.Default%28%29%2C%0A%20%20%20%20%20%20%20%20%20%20%20%20%20%20%20%20%7D%0A%20%20%20%20%20%20%20%20%20%20%20%20%29.addTo%28map_0903cfcede644c5ab8ff2bd1eccb0d1d%29%3B%0A%20%20%20%20%20%20%20%20%0A%20%20%20%20%0A%20%20%20%20%20%20%20%20var%20marker_82c414f2478b42dfa162ffa3f7ce4d8f%20%3D%20L.marker%28%0A%20%20%20%20%20%20%20%20%20%20%20%20%5B39.74002644199467%2C%20-104.98085087589864%5D%2C%0A%20%20%20%20%20%20%20%20%20%20%20%20%7B%0A%20%20%20%20%20%20%20%20%20%20%20%20%20%20%20%20icon%3A%20new%20L.Icon.Default%28%29%2C%0A%20%20%20%20%20%20%20%20%20%20%20%20%20%20%20%20%7D%0A%20%20%20%20%20%20%20%20%20%20%20%20%29.addTo%28map_0903cfcede644c5ab8ff2bd1eccb0d1d%29%3B%0A%20%20%20%20%20%20%20%20%0A%20%20%20%20%0A%20%20%20%20%20%20%20%20var%20marker_939249795fc9445fb69b1ba6a2bafcef%20%3D%20L.marker%28%0A%20%20%20%20%20%20%20%20%20%20%20%20%5B39.7441236%2C%20-104.9948532%5D%2C%0A%20%20%20%20%20%20%20%20%20%20%20%20%7B%0A%20%20%20%20%20%20%20%20%20%20%20%20%20%20%20%20icon%3A%20new%20L.Icon.Default%28%29%2C%0A%20%20%20%20%20%20%20%20%20%20%20%20%20%20%20%20%7D%0A%20%20%20%20%20%20%20%20%20%20%20%20%29.addTo%28map_0903cfcede644c5ab8ff2bd1eccb0d1d%29%3B%0A%20%20%20%20%20%20%20%20%0A%20%20%20%20%0A%20%20%20%20%20%20%20%20var%20marker_32910547e22f473ab12bdfa0380604c9%20%3D%20L.marker%28%0A%20%20%20%20%20%20%20%20%20%20%20%20%5B39.74343062565434%2C%20-104.98141282209014%5D%2C%0A%20%20%20%20%20%20%20%20%20%20%20%20%7B%0A%20%20%20%20%20%20%20%20%20%20%20%20%20%20%20%20icon%3A%20new%20L.Icon.Default%28%29%2C%0A%20%20%20%20%20%20%20%20%20%20%20%20%20%20%20%20%7D%0A%20%20%20%20%20%20%20%20%20%20%20%20%29.addTo%28map_0903cfcede644c5ab8ff2bd1eccb0d1d%29%3B%0A%20%20%20%20%20%20%20%20%0A%20%20%20%20%0A%20%20%20%20%20%20%20%20var%20marker_514a6fba38184e65a269428b78cdc5c9%20%3D%20L.marker%28%0A%20%20%20%20%20%20%20%20%20%20%20%20%5B39.74784250150359%2C%20-104.99274239705301%5D%2C%0A%20%20%20%20%20%20%20%20%20%20%20%20%7B%0A%20%20%20%20%20%20%20%20%20%20%20%20%20%20%20%20icon%3A%20new%20L.Icon.Default%28%29%2C%0A%20%20%20%20%20%20%20%20%20%20%20%20%20%20%20%20%7D%0A%20%20%20%20%20%20%20%20%20%20%20%20%29.addTo%28map_0903cfcede644c5ab8ff2bd1eccb0d1d%29%3B%0A%20%20%20%20%20%20%20%20%0A%20%20%20%20%0A%20%20%20%20%20%20%20%20var%20marker_d05266a27f5d4e388ca86e57fde0e06c%20%3D%20L.marker%28%0A%20%20%20%20%20%20%20%20%20%20%20%20%5B39.74582361807942%2C%20-104.99912079629519%5D%2C%0A%20%20%20%20%20%20%20%20%20%20%20%20%7B%0A%20%20%20%20%20%20%20%20%20%20%20%20%20%20%20%20icon%3A%20new%20L.Icon.Default%28%29%2C%0A%20%20%20%20%20%20%20%20%20%20%20%20%20%20%20%20%7D%0A%20%20%20%20%20%20%20%20%20%20%20%20%29.addTo%28map_0903cfcede644c5ab8ff2bd1eccb0d1d%29%3B%0A%20%20%20%20%20%20%20%20%0A%20%20%20%20%0A%20%20%20%20%20%20%20%20var%20marker_6051e6e351314d72a51e975c6f80ba52%20%3D%20L.marker%28%0A%20%20%20%20%20%20%20%20%20%20%20%20%5B39.736960247921495%2C%20-104.9794067618554%5D%2C%0A%20%20%20%20%20%20%20%20%20%20%20%20%7B%0A%20%20%20%20%20%20%20%20%20%20%20%20%20%20%20%20icon%3A%20new%20L.Icon.Default%28%29%2C%0A%20%20%20%20%20%20%20%20%20%20%20%20%20%20%20%20%7D%0A%20%20%20%20%20%20%20%20%20%20%20%20%29.addTo%28map_0903cfcede644c5ab8ff2bd1eccb0d1d%29%3B%0A%20%20%20%20%20%20%20%20%0A%20%20%20%20%0A%20%20%20%20%20%20%20%20var%20marker_5895165b390a4b7cb726d14ef22bc96d%20%3D%20L.marker%28%0A%20%20%20%20%20%20%20%20%20%20%20%20%5B39.739681%2C%20-104.979016%5D%2C%0A%20%20%20%20%20%20%20%20%20%20%20%20%7B%0A%20%20%20%20%20%20%20%20%20%20%20%20%20%20%20%20icon%3A%20new%20L.Icon.Default%28%29%2C%0A%20%20%20%20%20%20%20%20%20%20%20%20%20%20%20%20%7D%0A%20%20%20%20%20%20%20%20%20%20%20%20%29.addTo%28map_0903cfcede644c5ab8ff2bd1eccb0d1d%29%3B%0A%20%20%20%20%20%20%20%20%0A%20%20%20%20%0A%20%20%20%20%20%20%20%20var%20marker_c244d596f7b94c10887aedd71ab80aed%20%3D%20L.marker%28%0A%20%20%20%20%20%20%20%20%20%20%20%20%5B39.743412718911244%2C%20-104.98020196971015%5D%2C%0A%20%20%20%20%20%20%20%20%20%20%20%20%7B%0A%20%20%20%20%20%20%20%20%20%20%20%20%20%20%20%20icon%3A%20new%20L.Icon.Default%28%29%2C%0A%20%20%20%20%20%20%20%20%20%20%20%20%20%20%20%20%7D%0A%20%20%20%20%20%20%20%20%20%20%20%20%29.addTo%28map_0903cfcede644c5ab8ff2bd1eccb0d1d%29%3B%0A%20%20%20%20%20%20%20%20%0A%20%20%20%20%0A%20%20%20%20%20%20%20%20var%20marker_0aaca7da98d74c878cbec47154981468%20%3D%20L.marker%28%0A%20%20%20%20%20%20%20%20%20%20%20%20%5B39.74008075042005%2C%20-104.98411102616205%5D%2C%0A%20%20%20%20%20%20%20%20%20%20%20%20%7B%0A%20%20%20%20%20%20%20%20%20%20%20%20%20%20%20%20icon%3A%20new%20L.Icon.Default%28%29%2C%0A%20%20%20%20%20%20%20%20%20%20%20%20%20%20%20%20%7D%0A%20%20%20%20%20%20%20%20%20%20%20%20%29.addTo%28map_0903cfcede644c5ab8ff2bd1eccb0d1d%29%3B%0A%20%20%20%20%20%20%20%20%0A%20%20%20%20%0A%20%20%20%20%20%20%20%20var%20marker_0f6fafa1c29844aabe92a4a1727bbe3e%20%3D%20L.marker%28%0A%20%20%20%20%20%20%20%20%20%20%20%20%5B39.739835%2C%20-104.978072%5D%2C%0A%20%20%20%20%20%20%20%20%20%20%20%20%7B%0A%20%20%20%20%20%20%20%20%20%20%20%20%20%20%20%20icon%3A%20new%20L.Icon.Default%28%29%2C%0A%20%20%20%20%20%20%20%20%20%20%20%20%20%20%20%20%7D%0A%20%20%20%20%20%20%20%20%20%20%20%20%29.addTo%28map_0903cfcede644c5ab8ff2bd1eccb0d1d%29%3B%0A%20%20%20%20%20%20%20%20%0A%20%20%20%20%0A%20%20%20%20%20%20%20%20var%20marker_4d9754914d1045988faf806a00868561%20%3D%20L.marker%28%0A%20%20%20%20%20%20%20%20%20%20%20%20%5B39.73679145639866%2C%20-104.97972950480312%5D%2C%0A%20%20%20%20%20%20%20%20%20%20%20%20%7B%0A%20%20%20%20%20%20%20%20%20%20%20%20%20%20%20%20icon%3A%20new%20L.Icon.Default%28%29%2C%0A%20%20%20%20%20%20%20%20%20%20%20%20%20%20%20%20%7D%0A%20%20%20%20%20%20%20%20%20%20%20%20%29.addTo%28map_0903cfcede644c5ab8ff2bd1eccb0d1d%29%3B%0A%20%20%20%20%20%20%20%20%0A%20%20%20%20%0A%20%20%20%20%20%20%20%20var%20marker_1be2509b16794771aa44b324172146eb%20%3D%20L.marker%28%0A%20%20%20%20%20%20%20%20%20%20%20%20%5B39.74635026273784%2C%20-104.99087527767527%5D%2C%0A%20%20%20%20%20%20%20%20%20%20%20%20%7B%0A%20%20%20%20%20%20%20%20%20%20%20%20%20%20%20%20icon%3A%20new%20L.Icon.Default%28%29%2C%0A%20%20%20%20%20%20%20%20%20%20%20%20%20%20%20%20%7D%0A%20%20%20%20%20%20%20%20%20%20%20%20%29.addTo%28map_0903cfcede644c5ab8ff2bd1eccb0d1d%29%3B%0A%20%20%20%20%20%20%20%20%0A%20%20%20%20%0A%20%20%20%20%20%20%20%20var%20marker_797e3d565afe47e8b7fe08fb42f53808%20%3D%20L.marker%28%0A%20%20%20%20%20%20%20%20%20%20%20%20%5B39.740245973446925%2C%20-104.98363344567666%5D%2C%0A%20%20%20%20%20%20%20%20%20%20%20%20%7B%0A%20%20%20%20%20%20%20%20%20%20%20%20%20%20%20%20icon%3A%20new%20L.Icon.Default%28%29%2C%0A%20%20%20%20%20%20%20%20%20%20%20%20%20%20%20%20%7D%0A%20%20%20%20%20%20%20%20%20%20%20%20%29.addTo%28map_0903cfcede644c5ab8ff2bd1eccb0d1d%29%3B%0A%20%20%20%20%20%20%20%20%0A%20%20%20%20%0A%20%20%20%20%20%20%20%20var%20marker_97981768eca84d87aeb545d0f617f6bb%20%3D%20L.marker%28%0A%20%20%20%20%20%20%20%20%20%20%20%20%5B39.745728%2C%20-104.997065%5D%2C%0A%20%20%20%20%20%20%20%20%20%20%20%20%7B%0A%20%20%20%20%20%20%20%20%20%20%20%20%20%20%20%20icon%3A%20new%20L.Icon.Default%28%29%2C%0A%20%20%20%20%20%20%20%20%20%20%20%20%20%20%20%20%7D%0A%20%20%20%20%20%20%20%20%20%20%20%20%29.addTo%28map_0903cfcede644c5ab8ff2bd1eccb0d1d%29%3B%0A%20%20%20%20%20%20%20%20%0A%20%20%20%20%0A%20%20%20%20%20%20%20%20var%20marker_d36890af7a0b4259964c16d69aef17f6%20%3D%20L.marker%28%0A%20%20%20%20%20%20%20%20%20%20%20%20%5B39.745936173169966%2C%20-104.98933299879015%5D%2C%0A%20%20%20%20%20%20%20%20%20%20%20%20%7B%0A%20%20%20%20%20%20%20%20%20%20%20%20%20%20%20%20icon%3A%20new%20L.Icon.Default%28%29%2C%0A%20%20%20%20%20%20%20%20%20%20%20%20%20%20%20%20%7D%0A%20%20%20%20%20%20%20%20%20%20%20%20%29.addTo%28map_0903cfcede644c5ab8ff2bd1eccb0d1d%29%3B%0A%20%20%20%20%20%20%20%20%0A%20%20%20%20%0A%20%20%20%20%20%20%20%20var%20marker_e9b5bc4d442e4a7788654f390ab2c6d9%20%3D%20L.marker%28%0A%20%20%20%20%20%20%20%20%20%20%20%20%5B39.74596235732797%2C%20-104.9811984793548%5D%2C%0A%20%20%20%20%20%20%20%20%20%20%20%20%7B%0A%20%20%20%20%20%20%20%20%20%20%20%20%20%20%20%20icon%3A%20new%20L.Icon.Default%28%29%2C%0A%20%20%20%20%20%20%20%20%20%20%20%20%20%20%20%20%7D%0A%20%20%20%20%20%20%20%20%20%20%20%20%29.addTo%28map_0903cfcede644c5ab8ff2bd1eccb0d1d%29%3B%0A%20%20%20%20%20%20%20%20%0A%20%20%20%20%0A%20%20%20%20%20%20%20%20var%20marker_74bb412f31944f25a90cd539440c6fa3%20%3D%20L.marker%28%0A%20%20%20%20%20%20%20%20%20%20%20%20%5B39.737432018127265%2C%20-104.98068872888014%5D%2C%0A%20%20%20%20%20%20%20%20%20%20%20%20%7B%0A%20%20%20%20%20%20%20%20%20%20%20%20%20%20%20%20icon%3A%20new%20L.Icon.Default%28%29%2C%0A%20%20%20%20%20%20%20%20%20%20%20%20%20%20%20%20%7D%0A%20%20%20%20%20%20%20%20%20%20%20%20%29.addTo%28map_0903cfcede644c5ab8ff2bd1eccb0d1d%29%3B%0A%20%20%20%20%20%20%20%20%0A%20%20%20%20%0A%20%20%20%20%20%20%20%20var%20marker_12ffb0d33dc342ca9c95fd15d2340d5e%20%3D%20L.marker%28%0A%20%20%20%20%20%20%20%20%20%20%20%20%5B39.73056863531298%2C%20-104.98865273102385%5D%2C%0A%20%20%20%20%20%20%20%20%20%20%20%20%7B%0A%20%20%20%20%20%20%20%20%20%20%20%20%20%20%20%20icon%3A%20new%20L.Icon.Default%28%29%2C%0A%20%20%20%20%20%20%20%20%20%20%20%20%20%20%20%20%7D%0A%20%20%20%20%20%20%20%20%20%20%20%20%29.addTo%28map_0903cfcede644c5ab8ff2bd1eccb0d1d%29%3B%0A%20%20%20%20%20%20%20%20%0A%20%20%20%20%0A%20%20%20%20%20%20%20%20var%20marker_571d158283cc4271b53e6b77bd5c2aa9%20%3D%20L.marker%28%0A%20%20%20%20%20%20%20%20%20%20%20%20%5B39.73100465012887%2C%20-104.9861440674169%5D%2C%0A%20%20%20%20%20%20%20%20%20%20%20%20%7B%0A%20%20%20%20%20%20%20%20%20%20%20%20%20%20%20%20icon%3A%20new%20L.Icon.Default%28%29%2C%0A%20%20%20%20%20%20%20%20%20%20%20%20%20%20%20%20%7D%0A%20%20%20%20%20%20%20%20%20%20%20%20%29.addTo%28map_0903cfcede644c5ab8ff2bd1eccb0d1d%29%3B%0A%20%20%20%20%20%20%20%20%0A%20%20%20%20%0A%20%20%20%20%20%20%20%20var%20marker_4babee4a8f7241689d5e43b3b047e6a9%20%3D%20L.marker%28%0A%20%20%20%20%20%20%20%20%20%20%20%20%5B39.747628%2C%20-104.9989536%5D%2C%0A%20%20%20%20%20%20%20%20%20%20%20%20%7B%0A%20%20%20%20%20%20%20%20%20%20%20%20%20%20%20%20icon%3A%20new%20L.Icon.Default%28%29%2C%0A%20%20%20%20%20%20%20%20%20%20%20%20%20%20%20%20%7D%0A%20%20%20%20%20%20%20%20%20%20%20%20%29.addTo%28map_0903cfcede644c5ab8ff2bd1eccb0d1d%29%3B%0A%20%20%20%20%20%20%20%20%0A%20%20%20%20%0A%20%20%20%20%20%20%20%20var%20marker_43539b6d1d9141e2ba098377bb89060b%20%3D%20L.marker%28%0A%20%20%20%20%20%20%20%20%20%20%20%20%5B39.73063602133125%2C%20-104.99866937023756%5D%2C%0A%20%20%20%20%20%20%20%20%20%20%20%20%7B%0A%20%20%20%20%20%20%20%20%20%20%20%20%20%20%20%20icon%3A%20new%20L.Icon.Default%28%29%2C%0A%20%20%20%20%20%20%20%20%20%20%20%20%20%20%20%20%7D%0A%20%20%20%20%20%20%20%20%20%20%20%20%29.addTo%28map_0903cfcede644c5ab8ff2bd1eccb0d1d%29%3B%0A%20%20%20%20%20%20%20%20%0A%20%20%20%20%0A%20%20%20%20%20%20%20%20var%20marker_848c1e6dd58c4f38a0605ee9ea3e8c6a%20%3D%20L.marker%28%0A%20%20%20%20%20%20%20%20%20%20%20%20%5B39.7398851448818%2C%20-104.978575011681%5D%2C%0A%20%20%20%20%20%20%20%20%20%20%20%20%7B%0A%20%20%20%20%20%20%20%20%20%20%20%20%20%20%20%20icon%3A%20new%20L.Icon.Default%28%29%2C%0A%20%20%20%20%20%20%20%20%20%20%20%20%20%20%20%20%7D%0A%20%20%20%20%20%20%20%20%20%20%20%20%29.addTo%28map_0903cfcede644c5ab8ff2bd1eccb0d1d%29%3B%0A%20%20%20%20%20%20%20%20%0A%20%20%20%20%0A%20%20%20%20%20%20%20%20var%20marker_2e5c8ad5c8424b30a95f2ad6bb11a07e%20%3D%20L.marker%28%0A%20%20%20%20%20%20%20%20%20%20%20%20%5B39.73933481500926%2C%20-104.97918823380881%5D%2C%0A%20%20%20%20%20%20%20%20%20%20%20%20%7B%0A%20%20%20%20%20%20%20%20%20%20%20%20%20%20%20%20icon%3A%20new%20L.Icon.Default%28%29%2C%0A%20%20%20%20%20%20%20%20%20%20%20%20%20%20%20%20%7D%0A%20%20%20%20%20%20%20%20%20%20%20%20%29.addTo%28map_0903cfcede644c5ab8ff2bd1eccb0d1d%29%3B%0A%20%20%20%20%20%20%20%20%0A%20%20%20%20%0A%20%20%20%20%20%20%20%20var%20marker_a5cf09aefa6e486a9d6e785ff5f49c62%20%3D%20L.marker%28%0A%20%20%20%20%20%20%20%20%20%20%20%20%5B39.732938979279176%2C%20-104.98773460785128%5D%2C%0A%20%20%20%20%20%20%20%20%20%20%20%20%7B%0A%20%20%20%20%20%20%20%20%20%20%20%20%20%20%20%20icon%3A%20new%20L.Icon.Default%28%29%2C%0A%20%20%20%20%20%20%20%20%20%20%20%20%20%20%20%20%7D%0A%20%20%20%20%20%20%20%20%20%20%20%20%29.addTo%28map_0903cfcede644c5ab8ff2bd1eccb0d1d%29%3B%0A%20%20%20%20%20%20%20%20%0A%20%20%20%20%0A%20%20%20%20%20%20%20%20var%20marker_aab73f320ab64c47a7cdcf1ee6d5e4a4%20%3D%20L.marker%28%0A%20%20%20%20%20%20%20%20%20%20%20%20%5B39.74558%2C%20-104.9939%5D%2C%0A%20%20%20%20%20%20%20%20%20%20%20%20%7B%0A%20%20%20%20%20%20%20%20%20%20%20%20%20%20%20%20icon%3A%20new%20L.Icon.Default%28%29%2C%0A%20%20%20%20%20%20%20%20%20%20%20%20%20%20%20%20%7D%0A%20%20%20%20%20%20%20%20%20%20%20%20%29.addTo%28map_0903cfcede644c5ab8ff2bd1eccb0d1d%29%3B%0A%20%20%20%20%20%20%20%20%0A%20%20%20%20%0A%20%20%20%20%20%20%20%20var%20marker_dc34408e7ee34f12854797062534e3b6%20%3D%20L.marker%28%0A%20%20%20%20%20%20%20%20%20%20%20%20%5B39.74758615298366%2C%20-104.99906626686852%5D%2C%0A%20%20%20%20%20%20%20%20%20%20%20%20%7B%0A%20%20%20%20%20%20%20%20%20%20%20%20%20%20%20%20icon%3A%20new%20L.Icon.Default%28%29%2C%0A%20%20%20%20%20%20%20%20%20%20%20%20%20%20%20%20%7D%0A%20%20%20%20%20%20%20%20%20%20%20%20%29.addTo%28map_0903cfcede644c5ab8ff2bd1eccb0d1d%29%3B%0A%20%20%20%20%20%20%20%20%0A%20%20%20%20%0A%20%20%20%20%20%20%20%20var%20marker_496d39206c854b819fcebb8f67372fbe%20%3D%20L.marker%28%0A%20%20%20%20%20%20%20%20%20%20%20%20%5B39.72927815753679%2C%20-104.9859686012042%5D%2C%0A%20%20%20%20%20%20%20%20%20%20%20%20%7B%0A%20%20%20%20%20%20%20%20%20%20%20%20%20%20%20%20icon%3A%20new%20L.Icon.Default%28%29%2C%0A%20%20%20%20%20%20%20%20%20%20%20%20%20%20%20%20%7D%0A%20%20%20%20%20%20%20%20%20%20%20%20%29.addTo%28map_0903cfcede644c5ab8ff2bd1eccb0d1d%29%3B%0A%20%20%20%20%20%20%20%20%0A%20%20%20%20%0A%20%20%20%20%20%20%20%20var%20marker_a6c72b25669a4c84a3f26ca397b67fbe%20%3D%20L.marker%28%0A%20%20%20%20%20%20%20%20%20%20%20%20%5B39.74799814075769%2C%20-104.99871959013868%5D%2C%0A%20%20%20%20%20%20%20%20%20%20%20%20%7B%0A%20%20%20%20%20%20%20%20%20%20%20%20%20%20%20%20icon%3A%20new%20L.Icon.Default%28%29%2C%0A%20%20%20%20%20%20%20%20%20%20%20%20%20%20%20%20%7D%0A%20%20%20%20%20%20%20%20%20%20%20%20%29.addTo%28map_0903cfcede644c5ab8ff2bd1eccb0d1d%29%3B%0A%20%20%20%20%20%20%20%20%0A%20%20%20%20%0A%20%20%20%20%20%20%20%20var%20marker_f2360f512f5d4639a90298dd93738b02%20%3D%20L.marker%28%0A%20%20%20%20%20%20%20%20%20%20%20%20%5B39.74007925781255%2C%20-104.97817252247776%5D%2C%0A%20%20%20%20%20%20%20%20%20%20%20%20%7B%0A%20%20%20%20%20%20%20%20%20%20%20%20%20%20%20%20icon%3A%20new%20L.Icon.Default%28%29%2C%0A%20%20%20%20%20%20%20%20%20%20%20%20%20%20%20%20%7D%0A%20%20%20%20%20%20%20%20%20%20%20%20%29.addTo%28map_0903cfcede644c5ab8ff2bd1eccb0d1d%29%3B%0A%20%20%20%20%20%20%20%20%0A%20%20%20%20%0A%20%20%20%20%20%20%20%20var%20marker_cb66082a3948408a85b1513ef309dbc7%20%3D%20L.marker%28%0A%20%20%20%20%20%20%20%20%20%20%20%20%5B39.73696334662768%2C%20-104.98099485339526%5D%2C%0A%20%20%20%20%20%20%20%20%20%20%20%20%7B%0A%20%20%20%20%20%20%20%20%20%20%20%20%20%20%20%20icon%3A%20new%20L.Icon.Default%28%29%2C%0A%20%20%20%20%20%20%20%20%20%20%20%20%20%20%20%20%7D%0A%20%20%20%20%20%20%20%20%20%20%20%20%29.addTo%28map_0903cfcede644c5ab8ff2bd1eccb0d1d%29%3B%0A%20%20%20%20%20%20%20%20%0A%20%20%20%20%0A%20%20%20%20%20%20%20%20var%20marker_96c16441fe0d4424a677d6c6e8e049df%20%3D%20L.marker%28%0A%20%20%20%20%20%20%20%20%20%20%20%20%5B39.73681021185317%2C%20-104.97923001969335%5D%2C%0A%20%20%20%20%20%20%20%20%20%20%20%20%7B%0A%20%20%20%20%20%20%20%20%20%20%20%20%20%20%20%20icon%3A%20new%20L.Icon.Default%28%29%2C%0A%20%20%20%20%20%20%20%20%20%20%20%20%20%20%20%20%7D%0A%20%20%20%20%20%20%20%20%20%20%20%20%29.addTo%28map_0903cfcede644c5ab8ff2bd1eccb0d1d%29%3B%0A%20%20%20%20%20%20%20%20%0A%20%20%20%20%0A%20%20%20%20%20%20%20%20var%20marker_1e6ae0545d694a03b7b895bf31a3f96f%20%3D%20L.marker%28%0A%20%20%20%20%20%20%20%20%20%20%20%20%5B39.73026886312241%2C%20-104.98702452971202%5D%2C%0A%20%20%20%20%20%20%20%20%20%20%20%20%7B%0A%20%20%20%20%20%20%20%20%20%20%20%20%20%20%20%20icon%3A%20new%20L.Icon.Default%28%29%2C%0A%20%20%20%20%20%20%20%20%20%20%20%20%20%20%20%20%7D%0A%20%20%20%20%20%20%20%20%20%20%20%20%29.addTo%28map_0903cfcede644c5ab8ff2bd1eccb0d1d%29%3B%0A%20%20%20%20%20%20%20%20%0A%20%20%20%20%0A%20%20%20%20%20%20%20%20var%20marker_5a2f726cfb8649bc8acf683b42f8161c%20%3D%20L.marker%28%0A%20%20%20%20%20%20%20%20%20%20%20%20%5B39.74807953965701%2C%20-104.99899093411048%5D%2C%0A%20%20%20%20%20%20%20%20%20%20%20%20%7B%0A%20%20%20%20%20%20%20%20%20%20%20%20%20%20%20%20icon%3A%20new%20L.Icon.Default%28%29%2C%0A%20%20%20%20%20%20%20%20%20%20%20%20%20%20%20%20%7D%0A%20%20%20%20%20%20%20%20%20%20%20%20%29.addTo%28map_0903cfcede644c5ab8ff2bd1eccb0d1d%29%3B%0A%20%20%20%20%20%20%20%20%0A%20%20%20%20%0A%20%20%20%20%20%20%20%20var%20marker_e0b8c6561c2344fe95fabc2aacc23216%20%3D%20L.marker%28%0A%20%20%20%20%20%20%20%20%20%20%20%20%5B39.74824115214976%2C%20-104.99533451668454%5D%2C%0A%20%20%20%20%20%20%20%20%20%20%20%20%7B%0A%20%20%20%20%20%20%20%20%20%20%20%20%20%20%20%20icon%3A%20new%20L.Icon.Default%28%29%2C%0A%20%20%20%20%20%20%20%20%20%20%20%20%20%20%20%20%7D%0A%20%20%20%20%20%20%20%20%20%20%20%20%29.addTo%28map_0903cfcede644c5ab8ff2bd1eccb0d1d%29%3B%0A%20%20%20%20%20%20%20%20%0A%20%20%20%20%0A%20%20%20%20%20%20%20%20var%20marker_86674e1852e7446cb41ef36b262d8ef6%20%3D%20L.marker%28%0A%20%20%20%20%20%20%20%20%20%20%20%20%5B39.747921%2C%20-104.999412%5D%2C%0A%20%20%20%20%20%20%20%20%20%20%20%20%7B%0A%20%20%20%20%20%20%20%20%20%20%20%20%20%20%20%20icon%3A%20new%20L.Icon.Default%28%29%2C%0A%20%20%20%20%20%20%20%20%20%20%20%20%20%20%20%20%7D%0A%20%20%20%20%20%20%20%20%20%20%20%20%29.addTo%28map_0903cfcede644c5ab8ff2bd1eccb0d1d%29%3B%0A%20%20%20%20%20%20%20%20%0A%20%20%20%20%0A%20%20%20%20%20%20%20%20var%20marker_04f68c3510d04eaf9aff49b7e2671749%20%3D%20L.marker%28%0A%20%20%20%20%20%20%20%20%20%20%20%20%5B39.747899%2C%20-104.992678%5D%2C%0A%20%20%20%20%20%20%20%20%20%20%20%20%7B%0A%20%20%20%20%20%20%20%20%20%20%20%20%20%20%20%20icon%3A%20new%20L.Icon.Default%28%29%2C%0A%20%20%20%20%20%20%20%20%20%20%20%20%20%20%20%20%7D%0A%20%20%20%20%20%20%20%20%20%20%20%20%29.addTo%28map_0903cfcede644c5ab8ff2bd1eccb0d1d%29%3B%0A%20%20%20%20%20%20%20%20%0A%20%20%20%20%0A%20%20%20%20%20%20%20%20var%20marker_582ca0a799784cc59483e15b31c34005%20%3D%20L.marker%28%0A%20%20%20%20%20%20%20%20%20%20%20%20%5B39.74664678635583%2C%20-104.99456686894804%5D%2C%0A%20%20%20%20%20%20%20%20%20%20%20%20%7B%0A%20%20%20%20%20%20%20%20%20%20%20%20%20%20%20%20icon%3A%20new%20L.Icon.Default%28%29%2C%0A%20%20%20%20%20%20%20%20%20%20%20%20%20%20%20%20%7D%0A%20%20%20%20%20%20%20%20%20%20%20%20%29.addTo%28map_0903cfcede644c5ab8ff2bd1eccb0d1d%29%3B%0A%20%20%20%20%20%20%20%20%0A%20%20%20%20%0A%20%20%20%20%20%20%20%20var%20marker_20c269ca56284783907eaf90088df747%20%3D%20L.marker%28%0A%20%20%20%20%20%20%20%20%20%20%20%20%5B39.73061597850745%2C%20-104.99929169682693%5D%2C%0A%20%20%20%20%20%20%20%20%20%20%20%20%7B%0A%20%20%20%20%20%20%20%20%20%20%20%20%20%20%20%20icon%3A%20new%20L.Icon.Default%28%29%2C%0A%20%20%20%20%20%20%20%20%20%20%20%20%20%20%20%20%7D%0A%20%20%20%20%20%20%20%20%20%20%20%20%29.addTo%28map_0903cfcede644c5ab8ff2bd1eccb0d1d%29%3B%0A%20%20%20%20%20%20%20%20%0A%20%20%20%20%0A%20%20%20%20%20%20%20%20var%20marker_254b9c000b0e4a99a44ea696db6582d9%20%3D%20L.marker%28%0A%20%20%20%20%20%20%20%20%20%20%20%20%5B39.74792531953066%2C%20-104.99905385702054%5D%2C%0A%20%20%20%20%20%20%20%20%20%20%20%20%7B%0A%20%20%20%20%20%20%20%20%20%20%20%20%20%20%20%20icon%3A%20new%20L.Icon.Default%28%29%2C%0A%20%20%20%20%20%20%20%20%20%20%20%20%20%20%20%20%7D%0A%20%20%20%20%20%20%20%20%20%20%20%20%29.addTo%28map_0903cfcede644c5ab8ff2bd1eccb0d1d%29%3B%0A%20%20%20%20%20%20%20%20%0A%20%20%20%20%0A%20%20%20%20%20%20%20%20var%20marker_2ac1cc9bdd524f8f9cdb731db0626ca9%20%3D%20L.marker%28%0A%20%20%20%20%20%20%20%20%20%20%20%20%5B39.743354833511525%2C%20-104.97814334113545%5D%2C%0A%20%20%20%20%20%20%20%20%20%20%20%20%7B%0A%20%20%20%20%20%20%20%20%20%20%20%20%20%20%20%20icon%3A%20new%20L.Icon.Default%28%29%2C%0A%20%20%20%20%20%20%20%20%20%20%20%20%20%20%20%20%7D%0A%20%20%20%20%20%20%20%20%20%20%20%20%29.addTo%28map_0903cfcede644c5ab8ff2bd1eccb0d1d%29%3B%0A%20%20%20%20%20%20%20%20%0A%20%20%20%20%0A%20%20%20%20%20%20%20%20var%20marker_5e9b9873a17a443893723a00e779e50d%20%3D%20L.marker%28%0A%20%20%20%20%20%20%20%20%20%20%20%20%5B39.740442639761035%2C%20-104.97716596808625%5D%2C%0A%20%20%20%20%20%20%20%20%20%20%20%20%7B%0A%20%20%20%20%20%20%20%20%20%20%20%20%20%20%20%20icon%3A%20new%20L.Icon.Default%28%29%2C%0A%20%20%20%20%20%20%20%20%20%20%20%20%20%20%20%20%7D%0A%20%20%20%20%20%20%20%20%20%20%20%20%29.addTo%28map_0903cfcede644c5ab8ff2bd1eccb0d1d%29%3B%0A%20%20%20%20%20%20%20%20%0A%20%20%20%20%0A%20%20%20%20%20%20%20%20var%20marker_0a8d416c46794ccd86a4306dfe0ad95b%20%3D%20L.marker%28%0A%20%20%20%20%20%20%20%20%20%20%20%20%5B39.72896805218403%2C%20-104.9895671866995%5D%2C%0A%20%20%20%20%20%20%20%20%20%20%20%20%7B%0A%20%20%20%20%20%20%20%20%20%20%20%20%20%20%20%20icon%3A%20new%20L.Icon.Default%28%29%2C%0A%20%20%20%20%20%20%20%20%20%20%20%20%20%20%20%20%7D%0A%20%20%20%20%20%20%20%20%20%20%20%20%29.addTo%28map_0903cfcede644c5ab8ff2bd1eccb0d1d%29%3B%0A%20%20%20%20%20%20%20%20%0A%20%20%20%20%0A%20%20%20%20%20%20%20%20var%20marker_8ecf8872815546faa36a562290f32258%20%3D%20L.marker%28%0A%20%20%20%20%20%20%20%20%20%20%20%20%5B39.73694332555489%2C%20-104.98009844575212%5D%2C%0A%20%20%20%20%20%20%20%20%20%20%20%20%7B%0A%20%20%20%20%20%20%20%20%20%20%20%20%20%20%20%20icon%3A%20new%20L.Icon.Default%28%29%2C%0A%20%20%20%20%20%20%20%20%20%20%20%20%20%20%20%20%7D%0A%20%20%20%20%20%20%20%20%20%20%20%20%29.addTo%28map_0903cfcede644c5ab8ff2bd1eccb0d1d%29%3B%0A%20%20%20%20%20%20%20%20%0A%20%20%20%20%0A%20%20%20%20%20%20%20%20var%20marker_16a90dcec94245c8856ce3edc86edc75%20%3D%20L.marker%28%0A%20%20%20%20%20%20%20%20%20%20%20%20%5B39.749878056247255%2C%20-104.98736458186862%5D%2C%0A%20%20%20%20%20%20%20%20%20%20%20%20%7B%0A%20%20%20%20%20%20%20%20%20%20%20%20%20%20%20%20icon%3A%20new%20L.Icon.Default%28%29%2C%0A%20%20%20%20%20%20%20%20%20%20%20%20%20%20%20%20%7D%0A%20%20%20%20%20%20%20%20%20%20%20%20%29.addTo%28map_0903cfcede644c5ab8ff2bd1eccb0d1d%29%3B%0A%20%20%20%20%20%20%20%20%0A%20%20%20%20%0A%20%20%20%20%20%20%20%20var%20marker_9dd023a4b3d44cab922c3915564125d6%20%3D%20L.marker%28%0A%20%20%20%20%20%20%20%20%20%20%20%20%5B39.7463823%2C%20-104.9793541%5D%2C%0A%20%20%20%20%20%20%20%20%20%20%20%20%7B%0A%20%20%20%20%20%20%20%20%20%20%20%20%20%20%20%20icon%3A%20new%20L.Icon.Default%28%29%2C%0A%20%20%20%20%20%20%20%20%20%20%20%20%20%20%20%20%7D%0A%20%20%20%20%20%20%20%20%20%20%20%20%29.addTo%28map_0903cfcede644c5ab8ff2bd1eccb0d1d%29%3B%0A%20%20%20%20%20%20%20%20%0A%20%20%20%20%0A%20%20%20%20%20%20%20%20var%20marker_1e5b515c535b427584ca46ae23ae70e5%20%3D%20L.marker%28%0A%20%20%20%20%20%20%20%20%20%20%20%20%5B39.74615481038532%2C%20-104.98070492289509%5D%2C%0A%20%20%20%20%20%20%20%20%20%20%20%20%7B%0A%20%20%20%20%20%20%20%20%20%20%20%20%20%20%20%20icon%3A%20new%20L.Icon.Default%28%29%2C%0A%20%20%20%20%20%20%20%20%20%20%20%20%20%20%20%20%7D%0A%20%20%20%20%20%20%20%20%20%20%20%20%29.addTo%28map_0903cfcede644c5ab8ff2bd1eccb0d1d%29%3B%0A%20%20%20%20%20%20%20%20%0A%20%20%20%20%0A%20%20%20%20%20%20%20%20var%20marker_58aa865f11ee4d69ac003285743e1bc8%20%3D%20L.marker%28%0A%20%20%20%20%20%20%20%20%20%20%20%20%5B39.74827969707599%2C%20-104.99898403774944%5D%2C%0A%20%20%20%20%20%20%20%20%20%20%20%20%7B%0A%20%20%20%20%20%20%20%20%20%20%20%20%20%20%20%20icon%3A%20new%20L.Icon.Default%28%29%2C%0A%20%20%20%20%20%20%20%20%20%20%20%20%20%20%20%20%7D%0A%20%20%20%20%20%20%20%20%20%20%20%20%29.addTo%28map_0903cfcede644c5ab8ff2bd1eccb0d1d%29%3B%0A%20%20%20%20%20%20%20%20%0A%20%20%20%20%0A%20%20%20%20%20%20%20%20var%20marker_17f6692b01f24743910d7198f02d0f0c%20%3D%20L.marker%28%0A%20%20%20%20%20%20%20%20%20%20%20%20%5B39.7467129%2C%20-104.9809507%5D%2C%0A%20%20%20%20%20%20%20%20%20%20%20%20%7B%0A%20%20%20%20%20%20%20%20%20%20%20%20%20%20%20%20icon%3A%20new%20L.Icon.Default%28%29%2C%0A%20%20%20%20%20%20%20%20%20%20%20%20%20%20%20%20%7D%0A%20%20%20%20%20%20%20%20%20%20%20%20%29.addTo%28map_0903cfcede644c5ab8ff2bd1eccb0d1d%29%3B%0A%20%20%20%20%20%20%20%20%0A%20%20%20%20%0A%20%20%20%20%20%20%20%20var%20marker_30b86d2ef52b43ea8f50ae781f85d377%20%3D%20L.marker%28%0A%20%20%20%20%20%20%20%20%20%20%20%20%5B39.74790376934414%2C%20-104.99835394048091%5D%2C%0A%20%20%20%20%20%20%20%20%20%20%20%20%7B%0A%20%20%20%20%20%20%20%20%20%20%20%20%20%20%20%20icon%3A%20new%20L.Icon.Default%28%29%2C%0A%20%20%20%20%20%20%20%20%20%20%20%20%20%20%20%20%7D%0A%20%20%20%20%20%20%20%20%20%20%20%20%29.addTo%28map_0903cfcede644c5ab8ff2bd1eccb0d1d%29%3B%0A%20%20%20%20%20%20%20%20%0A%3C/script%3E onload=\"this.contentDocument.open();this.contentDocument.write(    decodeURIComponent(this.getAttribute('data-html')));this.contentDocument.close();\" allowfullscreen webkitallowfullscreen mozallowfullscreen></iframe></div></div>"
            ],
            "text/plain": [
              "<folium.folium.Map at 0x7f07ad048a50>"
            ]
          },
          "metadata": {
            "tags": []
          },
          "execution_count": 88
        }
      ]
    },
    {
      "cell_type": "markdown",
      "metadata": {
        "id": "cWm7OfkUqIVM"
      },
      "source": [
        "#### Grand Forks"
      ]
    },
    {
      "cell_type": "code",
      "metadata": {
        "colab": {
          "base_uri": "https://localhost:8080/",
          "height": 0
        },
        "id": "YEaCzNOpmsxE",
        "outputId": "f9527fe5-f7a8-4f4b-c140-7981a13115f4"
      },
      "source": [
        "grand_forks_map = folium.Map(location=[47.9258868, -97.03478493376397], zoom_start=15)\r\n",
        "grand_forks_points = grand_forks_venues[['lat', 'lng']]\r\n",
        "\r\n",
        "grand_forks = grand_forks_points.values.tolist()\r\n",
        "for point in range(0, len(grand_forks)):\r\n",
        "  folium.Marker(grand_forks[point]).add_to(grand_forks_map)\r\n",
        "grand_forks_map"
      ],
      "execution_count": 89,
      "outputs": [
        {
          "output_type": "execute_result",
          "data": {
            "text/html": [
              "<div style=\"width:100%;\"><div style=\"position:relative;width:100%;height:0;padding-bottom:60%;\"><span style=\"color:#565656\">Make this Notebook Trusted to load map: File -> Trust Notebook</span><iframe src=\"about:blank\" style=\"position:absolute;width:100%;height:100%;left:0;top:0;border:none !important;\" data-html=%3C%21DOCTYPE%20html%3E%0A%3Chead%3E%20%20%20%20%0A%20%20%20%20%3Cmeta%20http-equiv%3D%22content-type%22%20content%3D%22text/html%3B%20charset%3DUTF-8%22%20/%3E%0A%20%20%20%20%3Cscript%3EL_PREFER_CANVAS%3Dfalse%3B%20L_NO_TOUCH%3Dfalse%3B%20L_DISABLE_3D%3Dfalse%3B%3C/script%3E%0A%20%20%20%20%3Cscript%20src%3D%22https%3A//cdn.jsdelivr.net/npm/leaflet%401.4.0/dist/leaflet.js%22%3E%3C/script%3E%0A%20%20%20%20%3Cscript%20src%3D%22https%3A//code.jquery.com/jquery-1.12.4.min.js%22%3E%3C/script%3E%0A%20%20%20%20%3Cscript%20src%3D%22https%3A//maxcdn.bootstrapcdn.com/bootstrap/3.2.0/js/bootstrap.min.js%22%3E%3C/script%3E%0A%20%20%20%20%3Cscript%20src%3D%22https%3A//cdnjs.cloudflare.com/ajax/libs/Leaflet.awesome-markers/2.0.2/leaflet.awesome-markers.js%22%3E%3C/script%3E%0A%20%20%20%20%3Clink%20rel%3D%22stylesheet%22%20href%3D%22https%3A//cdn.jsdelivr.net/npm/leaflet%401.4.0/dist/leaflet.css%22/%3E%0A%20%20%20%20%3Clink%20rel%3D%22stylesheet%22%20href%3D%22https%3A//maxcdn.bootstrapcdn.com/bootstrap/3.2.0/css/bootstrap.min.css%22/%3E%0A%20%20%20%20%3Clink%20rel%3D%22stylesheet%22%20href%3D%22https%3A//maxcdn.bootstrapcdn.com/bootstrap/3.2.0/css/bootstrap-theme.min.css%22/%3E%0A%20%20%20%20%3Clink%20rel%3D%22stylesheet%22%20href%3D%22https%3A//maxcdn.bootstrapcdn.com/font-awesome/4.6.3/css/font-awesome.min.css%22/%3E%0A%20%20%20%20%3Clink%20rel%3D%22stylesheet%22%20href%3D%22https%3A//cdnjs.cloudflare.com/ajax/libs/Leaflet.awesome-markers/2.0.2/leaflet.awesome-markers.css%22/%3E%0A%20%20%20%20%3Clink%20rel%3D%22stylesheet%22%20href%3D%22https%3A//rawcdn.githack.com/python-visualization/folium/master/folium/templates/leaflet.awesome.rotate.css%22/%3E%0A%20%20%20%20%3Cstyle%3Ehtml%2C%20body%20%7Bwidth%3A%20100%25%3Bheight%3A%20100%25%3Bmargin%3A%200%3Bpadding%3A%200%3B%7D%3C/style%3E%0A%20%20%20%20%3Cstyle%3E%23map%20%7Bposition%3Aabsolute%3Btop%3A0%3Bbottom%3A0%3Bright%3A0%3Bleft%3A0%3B%7D%3C/style%3E%0A%20%20%20%20%0A%20%20%20%20%3Cmeta%20name%3D%22viewport%22%20content%3D%22width%3Ddevice-width%2C%0A%20%20%20%20%20%20%20%20initial-scale%3D1.0%2C%20maximum-scale%3D1.0%2C%20user-scalable%3Dno%22%20/%3E%0A%20%20%20%20%3Cstyle%3E%23map_478d6188cf59491182bcede8a31dd3a5%20%7B%0A%20%20%20%20%20%20%20%20position%3A%20relative%3B%0A%20%20%20%20%20%20%20%20width%3A%20100.0%25%3B%0A%20%20%20%20%20%20%20%20height%3A%20100.0%25%3B%0A%20%20%20%20%20%20%20%20left%3A%200.0%25%3B%0A%20%20%20%20%20%20%20%20top%3A%200.0%25%3B%0A%20%20%20%20%20%20%20%20%7D%0A%20%20%20%20%3C/style%3E%0A%3C/head%3E%0A%3Cbody%3E%20%20%20%20%0A%20%20%20%20%0A%20%20%20%20%3Cdiv%20class%3D%22folium-map%22%20id%3D%22map_478d6188cf59491182bcede8a31dd3a5%22%20%3E%3C/div%3E%0A%3C/body%3E%0A%3Cscript%3E%20%20%20%20%0A%20%20%20%20%0A%20%20%20%20%0A%20%20%20%20%20%20%20%20var%20bounds%20%3D%20null%3B%0A%20%20%20%20%0A%0A%20%20%20%20var%20map_478d6188cf59491182bcede8a31dd3a5%20%3D%20L.map%28%0A%20%20%20%20%20%20%20%20%27map_478d6188cf59491182bcede8a31dd3a5%27%2C%20%7B%0A%20%20%20%20%20%20%20%20center%3A%20%5B47.9258868%2C%20-97.03478493376397%5D%2C%0A%20%20%20%20%20%20%20%20zoom%3A%2015%2C%0A%20%20%20%20%20%20%20%20maxBounds%3A%20bounds%2C%0A%20%20%20%20%20%20%20%20layers%3A%20%5B%5D%2C%0A%20%20%20%20%20%20%20%20worldCopyJump%3A%20false%2C%0A%20%20%20%20%20%20%20%20crs%3A%20L.CRS.EPSG3857%2C%0A%20%20%20%20%20%20%20%20zoomControl%3A%20true%2C%0A%20%20%20%20%20%20%20%20%7D%29%3B%0A%0A%0A%20%20%20%20%0A%20%20%20%20var%20tile_layer_ffc90fe709714536bb76e03c6cedc833%20%3D%20L.tileLayer%28%0A%20%20%20%20%20%20%20%20%27https%3A//%7Bs%7D.tile.openstreetmap.org/%7Bz%7D/%7Bx%7D/%7By%7D.png%27%2C%0A%20%20%20%20%20%20%20%20%7B%0A%20%20%20%20%20%20%20%20%22attribution%22%3A%20null%2C%0A%20%20%20%20%20%20%20%20%22detectRetina%22%3A%20false%2C%0A%20%20%20%20%20%20%20%20%22maxNativeZoom%22%3A%2018%2C%0A%20%20%20%20%20%20%20%20%22maxZoom%22%3A%2018%2C%0A%20%20%20%20%20%20%20%20%22minZoom%22%3A%200%2C%0A%20%20%20%20%20%20%20%20%22noWrap%22%3A%20false%2C%0A%20%20%20%20%20%20%20%20%22opacity%22%3A%201%2C%0A%20%20%20%20%20%20%20%20%22subdomains%22%3A%20%22abc%22%2C%0A%20%20%20%20%20%20%20%20%22tms%22%3A%20false%0A%7D%29.addTo%28map_478d6188cf59491182bcede8a31dd3a5%29%3B%0A%20%20%20%20%0A%20%20%20%20%20%20%20%20var%20marker_72ed0ea39fcf46aa95a34d13958c8874%20%3D%20L.marker%28%0A%20%20%20%20%20%20%20%20%20%20%20%20%5B47.92619879355877%2C%20-97.03207441278352%5D%2C%0A%20%20%20%20%20%20%20%20%20%20%20%20%7B%0A%20%20%20%20%20%20%20%20%20%20%20%20%20%20%20%20icon%3A%20new%20L.Icon.Default%28%29%2C%0A%20%20%20%20%20%20%20%20%20%20%20%20%20%20%20%20%7D%0A%20%20%20%20%20%20%20%20%20%20%20%20%29.addTo%28map_478d6188cf59491182bcede8a31dd3a5%29%3B%0A%20%20%20%20%20%20%20%20%0A%20%20%20%20%0A%20%20%20%20%20%20%20%20var%20marker_9202b60f16ab4723874105d92af48332%20%3D%20L.marker%28%0A%20%20%20%20%20%20%20%20%20%20%20%20%5B47.92412550165358%2C%20-97.02962187036312%5D%2C%0A%20%20%20%20%20%20%20%20%20%20%20%20%7B%0A%20%20%20%20%20%20%20%20%20%20%20%20%20%20%20%20icon%3A%20new%20L.Icon.Default%28%29%2C%0A%20%20%20%20%20%20%20%20%20%20%20%20%20%20%20%20%7D%0A%20%20%20%20%20%20%20%20%20%20%20%20%29.addTo%28map_478d6188cf59491182bcede8a31dd3a5%29%3B%0A%20%20%20%20%20%20%20%20%0A%20%20%20%20%0A%20%20%20%20%20%20%20%20var%20marker_d666759e5bd54c1abd796a7eecff630a%20%3D%20L.marker%28%0A%20%20%20%20%20%20%20%20%20%20%20%20%5B47.92472356852375%2C%20-97.03147342474499%5D%2C%0A%20%20%20%20%20%20%20%20%20%20%20%20%7B%0A%20%20%20%20%20%20%20%20%20%20%20%20%20%20%20%20icon%3A%20new%20L.Icon.Default%28%29%2C%0A%20%20%20%20%20%20%20%20%20%20%20%20%20%20%20%20%7D%0A%20%20%20%20%20%20%20%20%20%20%20%20%29.addTo%28map_478d6188cf59491182bcede8a31dd3a5%29%3B%0A%20%20%20%20%20%20%20%20%0A%20%20%20%20%0A%20%20%20%20%20%20%20%20var%20marker_e935987a89ac425c80a69aa8ce8a6feb%20%3D%20L.marker%28%0A%20%20%20%20%20%20%20%20%20%20%20%20%5B47.926533356728946%2C%20-97.03257202241674%5D%2C%0A%20%20%20%20%20%20%20%20%20%20%20%20%7B%0A%20%20%20%20%20%20%20%20%20%20%20%20%20%20%20%20icon%3A%20new%20L.Icon.Default%28%29%2C%0A%20%20%20%20%20%20%20%20%20%20%20%20%20%20%20%20%7D%0A%20%20%20%20%20%20%20%20%20%20%20%20%29.addTo%28map_478d6188cf59491182bcede8a31dd3a5%29%3B%0A%20%20%20%20%20%20%20%20%0A%20%20%20%20%0A%20%20%20%20%20%20%20%20var%20marker_cdb239600feb428cbe141a3a3f7a6f26%20%3D%20L.marker%28%0A%20%20%20%20%20%20%20%20%20%20%20%20%5B47.924135643802984%2C%20-97.02883525144917%5D%2C%0A%20%20%20%20%20%20%20%20%20%20%20%20%7B%0A%20%20%20%20%20%20%20%20%20%20%20%20%20%20%20%20icon%3A%20new%20L.Icon.Default%28%29%2C%0A%20%20%20%20%20%20%20%20%20%20%20%20%20%20%20%20%7D%0A%20%20%20%20%20%20%20%20%20%20%20%20%29.addTo%28map_478d6188cf59491182bcede8a31dd3a5%29%3B%0A%20%20%20%20%20%20%20%20%0A%20%20%20%20%0A%20%20%20%20%20%20%20%20var%20marker_538b9b52e1794e7cb87037361bf17543%20%3D%20L.marker%28%0A%20%20%20%20%20%20%20%20%20%20%20%20%5B47.92377767731516%2C%20-97.03012927353336%5D%2C%0A%20%20%20%20%20%20%20%20%20%20%20%20%7B%0A%20%20%20%20%20%20%20%20%20%20%20%20%20%20%20%20icon%3A%20new%20L.Icon.Default%28%29%2C%0A%20%20%20%20%20%20%20%20%20%20%20%20%20%20%20%20%7D%0A%20%20%20%20%20%20%20%20%20%20%20%20%29.addTo%28map_478d6188cf59491182bcede8a31dd3a5%29%3B%0A%20%20%20%20%20%20%20%20%0A%20%20%20%20%0A%20%20%20%20%20%20%20%20var%20marker_deaa8659b1184b10a4dc3ae5f183953d%20%3D%20L.marker%28%0A%20%20%20%20%20%20%20%20%20%20%20%20%5B47.92393072063041%2C%20-97.03189697860435%5D%2C%0A%20%20%20%20%20%20%20%20%20%20%20%20%7B%0A%20%20%20%20%20%20%20%20%20%20%20%20%20%20%20%20icon%3A%20new%20L.Icon.Default%28%29%2C%0A%20%20%20%20%20%20%20%20%20%20%20%20%20%20%20%20%7D%0A%20%20%20%20%20%20%20%20%20%20%20%20%29.addTo%28map_478d6188cf59491182bcede8a31dd3a5%29%3B%0A%20%20%20%20%20%20%20%20%0A%20%20%20%20%0A%20%20%20%20%20%20%20%20var%20marker_542f401d21c241b5a42da9f0a7aed31a%20%3D%20L.marker%28%0A%20%20%20%20%20%20%20%20%20%20%20%20%5B47.92866%2C%20-97.02806%5D%2C%0A%20%20%20%20%20%20%20%20%20%20%20%20%7B%0A%20%20%20%20%20%20%20%20%20%20%20%20%20%20%20%20icon%3A%20new%20L.Icon.Default%28%29%2C%0A%20%20%20%20%20%20%20%20%20%20%20%20%20%20%20%20%7D%0A%20%20%20%20%20%20%20%20%20%20%20%20%29.addTo%28map_478d6188cf59491182bcede8a31dd3a5%29%3B%0A%20%20%20%20%20%20%20%20%0A%20%20%20%20%0A%20%20%20%20%20%20%20%20var%20marker_b3e4fbe71c83413988df22e54c2e5093%20%3D%20L.marker%28%0A%20%20%20%20%20%20%20%20%20%20%20%20%5B47.92568928273035%2C%20-97.03140702851266%5D%2C%0A%20%20%20%20%20%20%20%20%20%20%20%20%7B%0A%20%20%20%20%20%20%20%20%20%20%20%20%20%20%20%20icon%3A%20new%20L.Icon.Default%28%29%2C%0A%20%20%20%20%20%20%20%20%20%20%20%20%20%20%20%20%7D%0A%20%20%20%20%20%20%20%20%20%20%20%20%29.addTo%28map_478d6188cf59491182bcede8a31dd3a5%29%3B%0A%20%20%20%20%20%20%20%20%0A%20%20%20%20%0A%20%20%20%20%20%20%20%20var%20marker_9c1b5a28c9b6460eaf08f49d3d740ee1%20%3D%20L.marker%28%0A%20%20%20%20%20%20%20%20%20%20%20%20%5B47.92908146433036%2C%20-97.02693260000004%5D%2C%0A%20%20%20%20%20%20%20%20%20%20%20%20%7B%0A%20%20%20%20%20%20%20%20%20%20%20%20%20%20%20%20icon%3A%20new%20L.Icon.Default%28%29%2C%0A%20%20%20%20%20%20%20%20%20%20%20%20%20%20%20%20%7D%0A%20%20%20%20%20%20%20%20%20%20%20%20%29.addTo%28map_478d6188cf59491182bcede8a31dd3a5%29%3B%0A%20%20%20%20%20%20%20%20%0A%20%20%20%20%0A%20%20%20%20%20%20%20%20var%20marker_e9d69109ec8b4312ad6088de4513305b%20%3D%20L.marker%28%0A%20%20%20%20%20%20%20%20%20%20%20%20%5B47.92670289981992%2C%20-97.03350377726454%5D%2C%0A%20%20%20%20%20%20%20%20%20%20%20%20%7B%0A%20%20%20%20%20%20%20%20%20%20%20%20%20%20%20%20icon%3A%20new%20L.Icon.Default%28%29%2C%0A%20%20%20%20%20%20%20%20%20%20%20%20%20%20%20%20%7D%0A%20%20%20%20%20%20%20%20%20%20%20%20%29.addTo%28map_478d6188cf59491182bcede8a31dd3a5%29%3B%0A%20%20%20%20%20%20%20%20%0A%20%20%20%20%0A%20%20%20%20%20%20%20%20var%20marker_14f4df9d0d694e9d879091386ee87bfe%20%3D%20L.marker%28%0A%20%20%20%20%20%20%20%20%20%20%20%20%5B47.92191%2C%20-97.04099%5D%2C%0A%20%20%20%20%20%20%20%20%20%20%20%20%7B%0A%20%20%20%20%20%20%20%20%20%20%20%20%20%20%20%20icon%3A%20new%20L.Icon.Default%28%29%2C%0A%20%20%20%20%20%20%20%20%20%20%20%20%20%20%20%20%7D%0A%20%20%20%20%20%20%20%20%20%20%20%20%29.addTo%28map_478d6188cf59491182bcede8a31dd3a5%29%3B%0A%20%20%20%20%20%20%20%20%0A%20%20%20%20%0A%20%20%20%20%20%20%20%20var%20marker_0a9a104546b24f968407076e535997cb%20%3D%20L.marker%28%0A%20%20%20%20%20%20%20%20%20%20%20%20%5B47.924531714948394%2C%20-97.02915758230043%5D%2C%0A%20%20%20%20%20%20%20%20%20%20%20%20%7B%0A%20%20%20%20%20%20%20%20%20%20%20%20%20%20%20%20icon%3A%20new%20L.Icon.Default%28%29%2C%0A%20%20%20%20%20%20%20%20%20%20%20%20%20%20%20%20%7D%0A%20%20%20%20%20%20%20%20%20%20%20%20%29.addTo%28map_478d6188cf59491182bcede8a31dd3a5%29%3B%0A%20%20%20%20%20%20%20%20%0A%20%20%20%20%0A%20%20%20%20%20%20%20%20var%20marker_7b84560a3e19417ba4f72d9bd2ac2796%20%3D%20L.marker%28%0A%20%20%20%20%20%20%20%20%20%20%20%20%5B47.92354874771192%2C%20-97.03783036732389%5D%2C%0A%20%20%20%20%20%20%20%20%20%20%20%20%7B%0A%20%20%20%20%20%20%20%20%20%20%20%20%20%20%20%20icon%3A%20new%20L.Icon.Default%28%29%2C%0A%20%20%20%20%20%20%20%20%20%20%20%20%20%20%20%20%7D%0A%20%20%20%20%20%20%20%20%20%20%20%20%29.addTo%28map_478d6188cf59491182bcede8a31dd3a5%29%3B%0A%20%20%20%20%20%20%20%20%0A%20%20%20%20%0A%20%20%20%20%20%20%20%20var%20marker_597450143a7846e6b8957da96a321bd5%20%3D%20L.marker%28%0A%20%20%20%20%20%20%20%20%20%20%20%20%5B47.92988313273806%2C%20-97.04784328859209%5D%2C%0A%20%20%20%20%20%20%20%20%20%20%20%20%7B%0A%20%20%20%20%20%20%20%20%20%20%20%20%20%20%20%20icon%3A%20new%20L.Icon.Default%28%29%2C%0A%20%20%20%20%20%20%20%20%20%20%20%20%20%20%20%20%7D%0A%20%20%20%20%20%20%20%20%20%20%20%20%29.addTo%28map_478d6188cf59491182bcede8a31dd3a5%29%3B%0A%20%20%20%20%20%20%20%20%0A%20%20%20%20%0A%20%20%20%20%20%20%20%20var%20marker_ae20d40d7c3142efbfa70aae580f47c4%20%3D%20L.marker%28%0A%20%20%20%20%20%20%20%20%20%20%20%20%5B47.92921649546896%2C%20-97.02548405037727%5D%2C%0A%20%20%20%20%20%20%20%20%20%20%20%20%7B%0A%20%20%20%20%20%20%20%20%20%20%20%20%20%20%20%20icon%3A%20new%20L.Icon.Default%28%29%2C%0A%20%20%20%20%20%20%20%20%20%20%20%20%20%20%20%20%7D%0A%20%20%20%20%20%20%20%20%20%20%20%20%29.addTo%28map_478d6188cf59491182bcede8a31dd3a5%29%3B%0A%20%20%20%20%20%20%20%20%0A%20%20%20%20%0A%20%20%20%20%20%20%20%20var%20marker_7696f7e5838c4cd9adf8c0faba2020e4%20%3D%20L.marker%28%0A%20%20%20%20%20%20%20%20%20%20%20%20%5B47.92406159999999%2C%20-97.0325549%5D%2C%0A%20%20%20%20%20%20%20%20%20%20%20%20%7B%0A%20%20%20%20%20%20%20%20%20%20%20%20%20%20%20%20icon%3A%20new%20L.Icon.Default%28%29%2C%0A%20%20%20%20%20%20%20%20%20%20%20%20%20%20%20%20%7D%0A%20%20%20%20%20%20%20%20%20%20%20%20%29.addTo%28map_478d6188cf59491182bcede8a31dd3a5%29%3B%0A%20%20%20%20%20%20%20%20%0A%20%20%20%20%0A%20%20%20%20%20%20%20%20var%20marker_4093949c867049298bfd7af48957525f%20%3D%20L.marker%28%0A%20%20%20%20%20%20%20%20%20%20%20%20%5B47.92989431213838%2C%20-97.02432509152531%5D%2C%0A%20%20%20%20%20%20%20%20%20%20%20%20%7B%0A%20%20%20%20%20%20%20%20%20%20%20%20%20%20%20%20icon%3A%20new%20L.Icon.Default%28%29%2C%0A%20%20%20%20%20%20%20%20%20%20%20%20%20%20%20%20%7D%0A%20%20%20%20%20%20%20%20%20%20%20%20%29.addTo%28map_478d6188cf59491182bcede8a31dd3a5%29%3B%0A%20%20%20%20%20%20%20%20%0A%20%20%20%20%0A%20%20%20%20%20%20%20%20var%20marker_29685ada5cd146afb03d4501e1665af4%20%3D%20L.marker%28%0A%20%20%20%20%20%20%20%20%20%20%20%20%5B47.9284705%2C%20-97.0259891%5D%2C%0A%20%20%20%20%20%20%20%20%20%20%20%20%7B%0A%20%20%20%20%20%20%20%20%20%20%20%20%20%20%20%20icon%3A%20new%20L.Icon.Default%28%29%2C%0A%20%20%20%20%20%20%20%20%20%20%20%20%20%20%20%20%7D%0A%20%20%20%20%20%20%20%20%20%20%20%20%29.addTo%28map_478d6188cf59491182bcede8a31dd3a5%29%3B%0A%20%20%20%20%20%20%20%20%0A%20%20%20%20%0A%20%20%20%20%20%20%20%20var%20marker_8ff4cda90f9a4d55b2425288257496cb%20%3D%20L.marker%28%0A%20%20%20%20%20%20%20%20%20%20%20%20%5B47.92851%2C%20-97.02775%5D%2C%0A%20%20%20%20%20%20%20%20%20%20%20%20%7B%0A%20%20%20%20%20%20%20%20%20%20%20%20%20%20%20%20icon%3A%20new%20L.Icon.Default%28%29%2C%0A%20%20%20%20%20%20%20%20%20%20%20%20%20%20%20%20%7D%0A%20%20%20%20%20%20%20%20%20%20%20%20%29.addTo%28map_478d6188cf59491182bcede8a31dd3a5%29%3B%0A%20%20%20%20%20%20%20%20%0A%20%20%20%20%0A%20%20%20%20%20%20%20%20var%20marker_9b08d4a4243e4e08947243a21affe0ea%20%3D%20L.marker%28%0A%20%20%20%20%20%20%20%20%20%20%20%20%5B47.928955033501865%2C%20-97.02712143622074%5D%2C%0A%20%20%20%20%20%20%20%20%20%20%20%20%7B%0A%20%20%20%20%20%20%20%20%20%20%20%20%20%20%20%20icon%3A%20new%20L.Icon.Default%28%29%2C%0A%20%20%20%20%20%20%20%20%20%20%20%20%20%20%20%20%7D%0A%20%20%20%20%20%20%20%20%20%20%20%20%29.addTo%28map_478d6188cf59491182bcede8a31dd3a5%29%3B%0A%20%20%20%20%20%20%20%20%0A%20%20%20%20%0A%20%20%20%20%20%20%20%20var%20marker_d68bd2fe4ba34a9ba54742211b5f36fa%20%3D%20L.marker%28%0A%20%20%20%20%20%20%20%20%20%20%20%20%5B47.91504%2C%20-97.0442%5D%2C%0A%20%20%20%20%20%20%20%20%20%20%20%20%7B%0A%20%20%20%20%20%20%20%20%20%20%20%20%20%20%20%20icon%3A%20new%20L.Icon.Default%28%29%2C%0A%20%20%20%20%20%20%20%20%20%20%20%20%20%20%20%20%7D%0A%20%20%20%20%20%20%20%20%20%20%20%20%29.addTo%28map_478d6188cf59491182bcede8a31dd3a5%29%3B%0A%20%20%20%20%20%20%20%20%0A%20%20%20%20%0A%20%20%20%20%20%20%20%20var%20marker_a7a60ef1c791422b91d4455572a49efb%20%3D%20L.marker%28%0A%20%20%20%20%20%20%20%20%20%20%20%20%5B47.926498426216156%2C%20-97.03240679841619%5D%2C%0A%20%20%20%20%20%20%20%20%20%20%20%20%7B%0A%20%20%20%20%20%20%20%20%20%20%20%20%20%20%20%20icon%3A%20new%20L.Icon.Default%28%29%2C%0A%20%20%20%20%20%20%20%20%20%20%20%20%20%20%20%20%7D%0A%20%20%20%20%20%20%20%20%20%20%20%20%29.addTo%28map_478d6188cf59491182bcede8a31dd3a5%29%3B%0A%20%20%20%20%20%20%20%20%0A%20%20%20%20%0A%20%20%20%20%20%20%20%20var%20marker_d2249eef9e05483eaa86e20b7cc53724%20%3D%20L.marker%28%0A%20%20%20%20%20%20%20%20%20%20%20%20%5B47.92461910115757%2C%20-97.02973163858083%5D%2C%0A%20%20%20%20%20%20%20%20%20%20%20%20%7B%0A%20%20%20%20%20%20%20%20%20%20%20%20%20%20%20%20icon%3A%20new%20L.Icon.Default%28%29%2C%0A%20%20%20%20%20%20%20%20%20%20%20%20%20%20%20%20%7D%0A%20%20%20%20%20%20%20%20%20%20%20%20%29.addTo%28map_478d6188cf59491182bcede8a31dd3a5%29%3B%0A%20%20%20%20%20%20%20%20%0A%20%20%20%20%0A%20%20%20%20%20%20%20%20var%20marker_5f4b3fb30c5549bbb736a5673a731a0b%20%3D%20L.marker%28%0A%20%20%20%20%20%20%20%20%20%20%20%20%5B47.92279%2C%20-97.03428053333333%5D%2C%0A%20%20%20%20%20%20%20%20%20%20%20%20%7B%0A%20%20%20%20%20%20%20%20%20%20%20%20%20%20%20%20icon%3A%20new%20L.Icon.Default%28%29%2C%0A%20%20%20%20%20%20%20%20%20%20%20%20%20%20%20%20%7D%0A%20%20%20%20%20%20%20%20%20%20%20%20%29.addTo%28map_478d6188cf59491182bcede8a31dd3a5%29%3B%0A%20%20%20%20%20%20%20%20%0A%20%20%20%20%0A%20%20%20%20%20%20%20%20var%20marker_b250815ff43a48c694bdfa375e6368c2%20%3D%20L.marker%28%0A%20%20%20%20%20%20%20%20%20%20%20%20%5B47.925114523457076%2C%20-97.03091014599616%5D%2C%0A%20%20%20%20%20%20%20%20%20%20%20%20%7B%0A%20%20%20%20%20%20%20%20%20%20%20%20%20%20%20%20icon%3A%20new%20L.Icon.Default%28%29%2C%0A%20%20%20%20%20%20%20%20%20%20%20%20%20%20%20%20%7D%0A%20%20%20%20%20%20%20%20%20%20%20%20%29.addTo%28map_478d6188cf59491182bcede8a31dd3a5%29%3B%0A%20%20%20%20%20%20%20%20%0A%20%20%20%20%0A%20%20%20%20%20%20%20%20var%20marker_83192c91377d4b8f83cda74535b47845%20%3D%20L.marker%28%0A%20%20%20%20%20%20%20%20%20%20%20%20%5B47.92537903888764%2C%20-97.0310772564228%5D%2C%0A%20%20%20%20%20%20%20%20%20%20%20%20%7B%0A%20%20%20%20%20%20%20%20%20%20%20%20%20%20%20%20icon%3A%20new%20L.Icon.Default%28%29%2C%0A%20%20%20%20%20%20%20%20%20%20%20%20%20%20%20%20%7D%0A%20%20%20%20%20%20%20%20%20%20%20%20%29.addTo%28map_478d6188cf59491182bcede8a31dd3a5%29%3B%0A%20%20%20%20%20%20%20%20%0A%20%20%20%20%0A%20%20%20%20%20%20%20%20var%20marker_bd3d5ea071004ab28e341a3fc6f59ce8%20%3D%20L.marker%28%0A%20%20%20%20%20%20%20%20%20%20%20%20%5B47.9240921855384%2C%20-97.03220544345855%5D%2C%0A%20%20%20%20%20%20%20%20%20%20%20%20%7B%0A%20%20%20%20%20%20%20%20%20%20%20%20%20%20%20%20icon%3A%20new%20L.Icon.Default%28%29%2C%0A%20%20%20%20%20%20%20%20%20%20%20%20%20%20%20%20%7D%0A%20%20%20%20%20%20%20%20%20%20%20%20%29.addTo%28map_478d6188cf59491182bcede8a31dd3a5%29%3B%0A%20%20%20%20%20%20%20%20%0A%20%20%20%20%0A%20%20%20%20%20%20%20%20var%20marker_a62d40614a2941be8f222ef72c1d5fce%20%3D%20L.marker%28%0A%20%20%20%20%20%20%20%20%20%20%20%20%5B47.93262804292159%2C%20-97.04866826534271%5D%2C%0A%20%20%20%20%20%20%20%20%20%20%20%20%7B%0A%20%20%20%20%20%20%20%20%20%20%20%20%20%20%20%20icon%3A%20new%20L.Icon.Default%28%29%2C%0A%20%20%20%20%20%20%20%20%20%20%20%20%20%20%20%20%7D%0A%20%20%20%20%20%20%20%20%20%20%20%20%29.addTo%28map_478d6188cf59491182bcede8a31dd3a5%29%3B%0A%20%20%20%20%20%20%20%20%0A%20%20%20%20%0A%20%20%20%20%20%20%20%20var%20marker_ea50a55ca6bb48d1ace7167b3a111dea%20%3D%20L.marker%28%0A%20%20%20%20%20%20%20%20%20%20%20%20%5B47.923929307894035%2C%20-97.0286425177784%5D%2C%0A%20%20%20%20%20%20%20%20%20%20%20%20%7B%0A%20%20%20%20%20%20%20%20%20%20%20%20%20%20%20%20icon%3A%20new%20L.Icon.Default%28%29%2C%0A%20%20%20%20%20%20%20%20%20%20%20%20%20%20%20%20%7D%0A%20%20%20%20%20%20%20%20%20%20%20%20%29.addTo%28map_478d6188cf59491182bcede8a31dd3a5%29%3B%0A%20%20%20%20%20%20%20%20%0A%20%20%20%20%0A%20%20%20%20%20%20%20%20var%20marker_e9a5c0e9fa5f4fed9a21870f96168339%20%3D%20L.marker%28%0A%20%20%20%20%20%20%20%20%20%20%20%20%5B47.91609877605047%2C%20-97.04685671764145%5D%2C%0A%20%20%20%20%20%20%20%20%20%20%20%20%7B%0A%20%20%20%20%20%20%20%20%20%20%20%20%20%20%20%20icon%3A%20new%20L.Icon.Default%28%29%2C%0A%20%20%20%20%20%20%20%20%20%20%20%20%20%20%20%20%7D%0A%20%20%20%20%20%20%20%20%20%20%20%20%29.addTo%28map_478d6188cf59491182bcede8a31dd3a5%29%3B%0A%20%20%20%20%20%20%20%20%0A%20%20%20%20%0A%20%20%20%20%20%20%20%20var%20marker_f946a208991442bdb47ef03cc5299d1e%20%3D%20L.marker%28%0A%20%20%20%20%20%20%20%20%20%20%20%20%5B47.91596804928415%2C%20-97.04445949995312%5D%2C%0A%20%20%20%20%20%20%20%20%20%20%20%20%7B%0A%20%20%20%20%20%20%20%20%20%20%20%20%20%20%20%20icon%3A%20new%20L.Icon.Default%28%29%2C%0A%20%20%20%20%20%20%20%20%20%20%20%20%20%20%20%20%7D%0A%20%20%20%20%20%20%20%20%20%20%20%20%29.addTo%28map_478d6188cf59491182bcede8a31dd3a5%29%3B%0A%20%20%20%20%20%20%20%20%0A%20%20%20%20%0A%20%20%20%20%20%20%20%20var%20marker_4e859845e60a4661bca99277c4e9372b%20%3D%20L.marker%28%0A%20%20%20%20%20%20%20%20%20%20%20%20%5B47.92558321008631%2C%20-97.03094452775989%5D%2C%0A%20%20%20%20%20%20%20%20%20%20%20%20%7B%0A%20%20%20%20%20%20%20%20%20%20%20%20%20%20%20%20icon%3A%20new%20L.Icon.Default%28%29%2C%0A%20%20%20%20%20%20%20%20%20%20%20%20%20%20%20%20%7D%0A%20%20%20%20%20%20%20%20%20%20%20%20%29.addTo%28map_478d6188cf59491182bcede8a31dd3a5%29%3B%0A%20%20%20%20%20%20%20%20%0A%20%20%20%20%0A%20%20%20%20%20%20%20%20var%20marker_d8cab6b6a9f742b28dc85679228dbc56%20%3D%20L.marker%28%0A%20%20%20%20%20%20%20%20%20%20%20%20%5B47.91393532661673%2C%20-97.04529077600027%5D%2C%0A%20%20%20%20%20%20%20%20%20%20%20%20%7B%0A%20%20%20%20%20%20%20%20%20%20%20%20%20%20%20%20icon%3A%20new%20L.Icon.Default%28%29%2C%0A%20%20%20%20%20%20%20%20%20%20%20%20%20%20%20%20%7D%0A%20%20%20%20%20%20%20%20%20%20%20%20%29.addTo%28map_478d6188cf59491182bcede8a31dd3a5%29%3B%0A%20%20%20%20%20%20%20%20%0A%20%20%20%20%0A%20%20%20%20%20%20%20%20var%20marker_78089c25b24044879dd626846b4927b6%20%3D%20L.marker%28%0A%20%20%20%20%20%20%20%20%20%20%20%20%5B47.90966691061331%2C%20-97.04448401927948%5D%2C%0A%20%20%20%20%20%20%20%20%20%20%20%20%7B%0A%20%20%20%20%20%20%20%20%20%20%20%20%20%20%20%20icon%3A%20new%20L.Icon.Default%28%29%2C%0A%20%20%20%20%20%20%20%20%20%20%20%20%20%20%20%20%7D%0A%20%20%20%20%20%20%20%20%20%20%20%20%29.addTo%28map_478d6188cf59491182bcede8a31dd3a5%29%3B%0A%20%20%20%20%20%20%20%20%0A%20%20%20%20%0A%20%20%20%20%20%20%20%20var%20marker_14957360bbd2472b832a402ca4439c95%20%3D%20L.marker%28%0A%20%20%20%20%20%20%20%20%20%20%20%20%5B47.9096536114383%2C%20-97.04537146664565%5D%2C%0A%20%20%20%20%20%20%20%20%20%20%20%20%7B%0A%20%20%20%20%20%20%20%20%20%20%20%20%20%20%20%20icon%3A%20new%20L.Icon.Default%28%29%2C%0A%20%20%20%20%20%20%20%20%20%20%20%20%20%20%20%20%7D%0A%20%20%20%20%20%20%20%20%20%20%20%20%29.addTo%28map_478d6188cf59491182bcede8a31dd3a5%29%3B%0A%20%20%20%20%20%20%20%20%0A%20%20%20%20%0A%20%20%20%20%20%20%20%20var%20marker_e895e22da18e4952b8fab4cfae9c5792%20%3D%20L.marker%28%0A%20%20%20%20%20%20%20%20%20%20%20%20%5B47.91267969916368%2C%20-97.04468290976008%5D%2C%0A%20%20%20%20%20%20%20%20%20%20%20%20%7B%0A%20%20%20%20%20%20%20%20%20%20%20%20%20%20%20%20icon%3A%20new%20L.Icon.Default%28%29%2C%0A%20%20%20%20%20%20%20%20%20%20%20%20%20%20%20%20%7D%0A%20%20%20%20%20%20%20%20%20%20%20%20%29.addTo%28map_478d6188cf59491182bcede8a31dd3a5%29%3B%0A%20%20%20%20%20%20%20%20%0A%20%20%20%20%0A%20%20%20%20%20%20%20%20var%20marker_40e770bdbfa24e24996ba84afb30ea8d%20%3D%20L.marker%28%0A%20%20%20%20%20%20%20%20%20%20%20%20%5B47.92386728307757%2C%20-97.0613015583758%5D%2C%0A%20%20%20%20%20%20%20%20%20%20%20%20%7B%0A%20%20%20%20%20%20%20%20%20%20%20%20%20%20%20%20icon%3A%20new%20L.Icon.Default%28%29%2C%0A%20%20%20%20%20%20%20%20%20%20%20%20%20%20%20%20%7D%0A%20%20%20%20%20%20%20%20%20%20%20%20%29.addTo%28map_478d6188cf59491182bcede8a31dd3a5%29%3B%0A%20%20%20%20%20%20%20%20%0A%20%20%20%20%0A%20%20%20%20%20%20%20%20var%20marker_580e5a888272449fa188f911b0fd591f%20%3D%20L.marker%28%0A%20%20%20%20%20%20%20%20%20%20%20%20%5B47.93900970923482%2C%20-97.01930615141403%5D%2C%0A%20%20%20%20%20%20%20%20%20%20%20%20%7B%0A%20%20%20%20%20%20%20%20%20%20%20%20%20%20%20%20icon%3A%20new%20L.Icon.Default%28%29%2C%0A%20%20%20%20%20%20%20%20%20%20%20%20%20%20%20%20%7D%0A%20%20%20%20%20%20%20%20%20%20%20%20%29.addTo%28map_478d6188cf59491182bcede8a31dd3a5%29%3B%0A%20%20%20%20%20%20%20%20%0A%20%20%20%20%0A%20%20%20%20%20%20%20%20var%20marker_dd6b21f6f264405784d5f57bff00aa47%20%3D%20L.marker%28%0A%20%20%20%20%20%20%20%20%20%20%20%20%5B47.93534%2C%20-97.01951%5D%2C%0A%20%20%20%20%20%20%20%20%20%20%20%20%7B%0A%20%20%20%20%20%20%20%20%20%20%20%20%20%20%20%20icon%3A%20new%20L.Icon.Default%28%29%2C%0A%20%20%20%20%20%20%20%20%20%20%20%20%20%20%20%20%7D%0A%20%20%20%20%20%20%20%20%20%20%20%20%29.addTo%28map_478d6188cf59491182bcede8a31dd3a5%29%3B%0A%20%20%20%20%20%20%20%20%0A%20%20%20%20%0A%20%20%20%20%20%20%20%20var%20marker_3588819d7b4a414ea8b3407cc6613ffc%20%3D%20L.marker%28%0A%20%20%20%20%20%20%20%20%20%20%20%20%5B47.92552667168432%2C%20-97.03103558781027%5D%2C%0A%20%20%20%20%20%20%20%20%20%20%20%20%7B%0A%20%20%20%20%20%20%20%20%20%20%20%20%20%20%20%20icon%3A%20new%20L.Icon.Default%28%29%2C%0A%20%20%20%20%20%20%20%20%20%20%20%20%20%20%20%20%7D%0A%20%20%20%20%20%20%20%20%20%20%20%20%29.addTo%28map_478d6188cf59491182bcede8a31dd3a5%29%3B%0A%20%20%20%20%20%20%20%20%0A%20%20%20%20%0A%20%20%20%20%20%20%20%20var%20marker_ed6325ee43574068b2713f81f70e24bc%20%3D%20L.marker%28%0A%20%20%20%20%20%20%20%20%20%20%20%20%5B47.93273016707762%2C%20-97.05214278497027%5D%2C%0A%20%20%20%20%20%20%20%20%20%20%20%20%7B%0A%20%20%20%20%20%20%20%20%20%20%20%20%20%20%20%20icon%3A%20new%20L.Icon.Default%28%29%2C%0A%20%20%20%20%20%20%20%20%20%20%20%20%20%20%20%20%7D%0A%20%20%20%20%20%20%20%20%20%20%20%20%29.addTo%28map_478d6188cf59491182bcede8a31dd3a5%29%3B%0A%20%20%20%20%20%20%20%20%0A%20%20%20%20%0A%20%20%20%20%20%20%20%20var%20marker_d155dadbf0d641e5a566028b0ebc2148%20%3D%20L.marker%28%0A%20%20%20%20%20%20%20%20%20%20%20%20%5B47.914400771953225%2C%20-97.04432364919278%5D%2C%0A%20%20%20%20%20%20%20%20%20%20%20%20%7B%0A%20%20%20%20%20%20%20%20%20%20%20%20%20%20%20%20icon%3A%20new%20L.Icon.Default%28%29%2C%0A%20%20%20%20%20%20%20%20%20%20%20%20%20%20%20%20%7D%0A%20%20%20%20%20%20%20%20%20%20%20%20%29.addTo%28map_478d6188cf59491182bcede8a31dd3a5%29%3B%0A%20%20%20%20%20%20%20%20%0A%20%20%20%20%0A%20%20%20%20%20%20%20%20var%20marker_a551a23b4c054e9486495e711f04f95b%20%3D%20L.marker%28%0A%20%20%20%20%20%20%20%20%20%20%20%20%5B47.93274405879891%2C%20-97.05216716627291%5D%2C%0A%20%20%20%20%20%20%20%20%20%20%20%20%7B%0A%20%20%20%20%20%20%20%20%20%20%20%20%20%20%20%20icon%3A%20new%20L.Icon.Default%28%29%2C%0A%20%20%20%20%20%20%20%20%20%20%20%20%20%20%20%20%7D%0A%20%20%20%20%20%20%20%20%20%20%20%20%29.addTo%28map_478d6188cf59491182bcede8a31dd3a5%29%3B%0A%20%20%20%20%20%20%20%20%0A%20%20%20%20%0A%20%20%20%20%20%20%20%20var%20marker_b1ac67e7ac7f46b49a01edd70f70269a%20%3D%20L.marker%28%0A%20%20%20%20%20%20%20%20%20%20%20%20%5B47.92269486753067%2C%20-97.03643831151518%5D%2C%0A%20%20%20%20%20%20%20%20%20%20%20%20%7B%0A%20%20%20%20%20%20%20%20%20%20%20%20%20%20%20%20icon%3A%20new%20L.Icon.Default%28%29%2C%0A%20%20%20%20%20%20%20%20%20%20%20%20%20%20%20%20%7D%0A%20%20%20%20%20%20%20%20%20%20%20%20%29.addTo%28map_478d6188cf59491182bcede8a31dd3a5%29%3B%0A%20%20%20%20%20%20%20%20%0A%20%20%20%20%0A%20%20%20%20%20%20%20%20var%20marker_05167ae6290d48cdb039191be630a20e%20%3D%20L.marker%28%0A%20%20%20%20%20%20%20%20%20%20%20%20%5B47.91063741728203%2C%20-97.0446854113904%5D%2C%0A%20%20%20%20%20%20%20%20%20%20%20%20%7B%0A%20%20%20%20%20%20%20%20%20%20%20%20%20%20%20%20icon%3A%20new%20L.Icon.Default%28%29%2C%0A%20%20%20%20%20%20%20%20%20%20%20%20%20%20%20%20%7D%0A%20%20%20%20%20%20%20%20%20%20%20%20%29.addTo%28map_478d6188cf59491182bcede8a31dd3a5%29%3B%0A%20%20%20%20%20%20%20%20%0A%20%20%20%20%0A%20%20%20%20%20%20%20%20var%20marker_1bd577373fad42389662a39c59f0418a%20%3D%20L.marker%28%0A%20%20%20%20%20%20%20%20%20%20%20%20%5B47.935032481980265%2C%20-97.05311639176831%5D%2C%0A%20%20%20%20%20%20%20%20%20%20%20%20%7B%0A%20%20%20%20%20%20%20%20%20%20%20%20%20%20%20%20icon%3A%20new%20L.Icon.Default%28%29%2C%0A%20%20%20%20%20%20%20%20%20%20%20%20%20%20%20%20%7D%0A%20%20%20%20%20%20%20%20%20%20%20%20%29.addTo%28map_478d6188cf59491182bcede8a31dd3a5%29%3B%0A%20%20%20%20%20%20%20%20%0A%20%20%20%20%0A%20%20%20%20%20%20%20%20var%20marker_e38536827e224af685cb66279430727b%20%3D%20L.marker%28%0A%20%20%20%20%20%20%20%20%20%20%20%20%5B47.937002941548%2C%20-97.01802360444617%5D%2C%0A%20%20%20%20%20%20%20%20%20%20%20%20%7B%0A%20%20%20%20%20%20%20%20%20%20%20%20%20%20%20%20icon%3A%20new%20L.Icon.Default%28%29%2C%0A%20%20%20%20%20%20%20%20%20%20%20%20%20%20%20%20%7D%0A%20%20%20%20%20%20%20%20%20%20%20%20%29.addTo%28map_478d6188cf59491182bcede8a31dd3a5%29%3B%0A%20%20%20%20%20%20%20%20%0A%20%20%20%20%0A%20%20%20%20%20%20%20%20var%20marker_da55bd95e2004dde9424dc6752fe77fb%20%3D%20L.marker%28%0A%20%20%20%20%20%20%20%20%20%20%20%20%5B47.92408566200478%2C%20-97.03026993665368%5D%2C%0A%20%20%20%20%20%20%20%20%20%20%20%20%7B%0A%20%20%20%20%20%20%20%20%20%20%20%20%20%20%20%20icon%3A%20new%20L.Icon.Default%28%29%2C%0A%20%20%20%20%20%20%20%20%20%20%20%20%20%20%20%20%7D%0A%20%20%20%20%20%20%20%20%20%20%20%20%29.addTo%28map_478d6188cf59491182bcede8a31dd3a5%29%3B%0A%20%20%20%20%20%20%20%20%0A%20%20%20%20%0A%20%20%20%20%20%20%20%20var%20marker_daf433744cf1455092eb134b50f9b068%20%3D%20L.marker%28%0A%20%20%20%20%20%20%20%20%20%20%20%20%5B47.932872756831756%2C%20-97.05934669073632%5D%2C%0A%20%20%20%20%20%20%20%20%20%20%20%20%7B%0A%20%20%20%20%20%20%20%20%20%20%20%20%20%20%20%20icon%3A%20new%20L.Icon.Default%28%29%2C%0A%20%20%20%20%20%20%20%20%20%20%20%20%20%20%20%20%7D%0A%20%20%20%20%20%20%20%20%20%20%20%20%29.addTo%28map_478d6188cf59491182bcede8a31dd3a5%29%3B%0A%20%20%20%20%20%20%20%20%0A%20%20%20%20%0A%20%20%20%20%20%20%20%20var%20marker_e14afb7effe64e119e863caf81d99883%20%3D%20L.marker%28%0A%20%20%20%20%20%20%20%20%20%20%20%20%5B47.93778500450984%2C%20-97.01614182694999%5D%2C%0A%20%20%20%20%20%20%20%20%20%20%20%20%7B%0A%20%20%20%20%20%20%20%20%20%20%20%20%20%20%20%20icon%3A%20new%20L.Icon.Default%28%29%2C%0A%20%20%20%20%20%20%20%20%20%20%20%20%20%20%20%20%7D%0A%20%20%20%20%20%20%20%20%20%20%20%20%29.addTo%28map_478d6188cf59491182bcede8a31dd3a5%29%3B%0A%20%20%20%20%20%20%20%20%0A%20%20%20%20%0A%20%20%20%20%20%20%20%20var%20marker_3e8d20826e3042deaf393803489c1bfe%20%3D%20L.marker%28%0A%20%20%20%20%20%20%20%20%20%20%20%20%5B47.91590860750734%2C%20-97.05004353976315%5D%2C%0A%20%20%20%20%20%20%20%20%20%20%20%20%7B%0A%20%20%20%20%20%20%20%20%20%20%20%20%20%20%20%20icon%3A%20new%20L.Icon.Default%28%29%2C%0A%20%20%20%20%20%20%20%20%20%20%20%20%20%20%20%20%7D%0A%20%20%20%20%20%20%20%20%20%20%20%20%29.addTo%28map_478d6188cf59491182bcede8a31dd3a5%29%3B%0A%20%20%20%20%20%20%20%20%0A%20%20%20%20%0A%20%20%20%20%20%20%20%20var%20marker_71b01a9bb3194a63bdbde6d46ab443da%20%3D%20L.marker%28%0A%20%20%20%20%20%20%20%20%20%20%20%20%5B47.9378411379369%2C%20-97.01678980216195%5D%2C%0A%20%20%20%20%20%20%20%20%20%20%20%20%7B%0A%20%20%20%20%20%20%20%20%20%20%20%20%20%20%20%20icon%3A%20new%20L.Icon.Default%28%29%2C%0A%20%20%20%20%20%20%20%20%20%20%20%20%20%20%20%20%7D%0A%20%20%20%20%20%20%20%20%20%20%20%20%29.addTo%28map_478d6188cf59491182bcede8a31dd3a5%29%3B%0A%20%20%20%20%20%20%20%20%0A%20%20%20%20%0A%20%20%20%20%20%20%20%20var%20marker_efd77652da78426d818af220f96d022b%20%3D%20L.marker%28%0A%20%20%20%20%20%20%20%20%20%20%20%20%5B47.93529952650209%2C%20-97.05036470850436%5D%2C%0A%20%20%20%20%20%20%20%20%20%20%20%20%7B%0A%20%20%20%20%20%20%20%20%20%20%20%20%20%20%20%20icon%3A%20new%20L.Icon.Default%28%29%2C%0A%20%20%20%20%20%20%20%20%20%20%20%20%20%20%20%20%7D%0A%20%20%20%20%20%20%20%20%20%20%20%20%29.addTo%28map_478d6188cf59491182bcede8a31dd3a5%29%3B%0A%20%20%20%20%20%20%20%20%0A%20%20%20%20%0A%20%20%20%20%20%20%20%20var%20marker_9d95b17b540044b3b29602d829077e7f%20%3D%20L.marker%28%0A%20%20%20%20%20%20%20%20%20%20%20%20%5B47.93208314896372%2C%20-97.05550850534537%5D%2C%0A%20%20%20%20%20%20%20%20%20%20%20%20%7B%0A%20%20%20%20%20%20%20%20%20%20%20%20%20%20%20%20icon%3A%20new%20L.Icon.Default%28%29%2C%0A%20%20%20%20%20%20%20%20%20%20%20%20%20%20%20%20%7D%0A%20%20%20%20%20%20%20%20%20%20%20%20%29.addTo%28map_478d6188cf59491182bcede8a31dd3a5%29%3B%0A%20%20%20%20%20%20%20%20%0A%20%20%20%20%0A%20%20%20%20%20%20%20%20var%20marker_26ae21a5680f4458894e111ea6ea75dc%20%3D%20L.marker%28%0A%20%20%20%20%20%20%20%20%20%20%20%20%5B47.938660027735146%2C%20-97.01882338597865%5D%2C%0A%20%20%20%20%20%20%20%20%20%20%20%20%7B%0A%20%20%20%20%20%20%20%20%20%20%20%20%20%20%20%20icon%3A%20new%20L.Icon.Default%28%29%2C%0A%20%20%20%20%20%20%20%20%20%20%20%20%20%20%20%20%7D%0A%20%20%20%20%20%20%20%20%20%20%20%20%29.addTo%28map_478d6188cf59491182bcede8a31dd3a5%29%3B%0A%20%20%20%20%20%20%20%20%0A%20%20%20%20%0A%20%20%20%20%20%20%20%20var%20marker_94646bb98478475aad281b422e1d4cd6%20%3D%20L.marker%28%0A%20%20%20%20%20%20%20%20%20%20%20%20%5B47.91503191034105%2C%20-97.04538653067112%5D%2C%0A%20%20%20%20%20%20%20%20%20%20%20%20%7B%0A%20%20%20%20%20%20%20%20%20%20%20%20%20%20%20%20icon%3A%20new%20L.Icon.Default%28%29%2C%0A%20%20%20%20%20%20%20%20%20%20%20%20%20%20%20%20%7D%0A%20%20%20%20%20%20%20%20%20%20%20%20%29.addTo%28map_478d6188cf59491182bcede8a31dd3a5%29%3B%0A%20%20%20%20%20%20%20%20%0A%20%20%20%20%0A%20%20%20%20%20%20%20%20var%20marker_9e4d633f4fa84c798e354fbeb42b1be7%20%3D%20L.marker%28%0A%20%20%20%20%20%20%20%20%20%20%20%20%5B47.93183906012577%2C%20-97.05460391201166%5D%2C%0A%20%20%20%20%20%20%20%20%20%20%20%20%7B%0A%20%20%20%20%20%20%20%20%20%20%20%20%20%20%20%20icon%3A%20new%20L.Icon.Default%28%29%2C%0A%20%20%20%20%20%20%20%20%20%20%20%20%20%20%20%20%7D%0A%20%20%20%20%20%20%20%20%20%20%20%20%29.addTo%28map_478d6188cf59491182bcede8a31dd3a5%29%3B%0A%20%20%20%20%20%20%20%20%0A%20%20%20%20%0A%20%20%20%20%20%20%20%20var%20marker_567f97db0c044680a16eed0e1c4f59a2%20%3D%20L.marker%28%0A%20%20%20%20%20%20%20%20%20%20%20%20%5B47.9325459%2C%20-97.0513474%5D%2C%0A%20%20%20%20%20%20%20%20%20%20%20%20%7B%0A%20%20%20%20%20%20%20%20%20%20%20%20%20%20%20%20icon%3A%20new%20L.Icon.Default%28%29%2C%0A%20%20%20%20%20%20%20%20%20%20%20%20%20%20%20%20%7D%0A%20%20%20%20%20%20%20%20%20%20%20%20%29.addTo%28map_478d6188cf59491182bcede8a31dd3a5%29%3B%0A%20%20%20%20%20%20%20%20%0A%20%20%20%20%0A%20%20%20%20%20%20%20%20var%20marker_44d212e92102442189b8d819e05b161a%20%3D%20L.marker%28%0A%20%20%20%20%20%20%20%20%20%20%20%20%5B47.92423750059726%2C%20-97.02933244954872%5D%2C%0A%20%20%20%20%20%20%20%20%20%20%20%20%7B%0A%20%20%20%20%20%20%20%20%20%20%20%20%20%20%20%20icon%3A%20new%20L.Icon.Default%28%29%2C%0A%20%20%20%20%20%20%20%20%20%20%20%20%20%20%20%20%7D%0A%20%20%20%20%20%20%20%20%20%20%20%20%29.addTo%28map_478d6188cf59491182bcede8a31dd3a5%29%3B%0A%20%20%20%20%20%20%20%20%0A%20%20%20%20%0A%20%20%20%20%20%20%20%20var%20marker_c338611ecbf7465da02e8a3a683bab4d%20%3D%20L.marker%28%0A%20%20%20%20%20%20%20%20%20%20%20%20%5B47.92993583152294%2C%20-97.04427684532757%5D%2C%0A%20%20%20%20%20%20%20%20%20%20%20%20%7B%0A%20%20%20%20%20%20%20%20%20%20%20%20%20%20%20%20icon%3A%20new%20L.Icon.Default%28%29%2C%0A%20%20%20%20%20%20%20%20%20%20%20%20%20%20%20%20%7D%0A%20%20%20%20%20%20%20%20%20%20%20%20%29.addTo%28map_478d6188cf59491182bcede8a31dd3a5%29%3B%0A%20%20%20%20%20%20%20%20%0A%20%20%20%20%0A%20%20%20%20%20%20%20%20var%20marker_9d2ac9e7ae414ea18832f81c8fb663b1%20%3D%20L.marker%28%0A%20%20%20%20%20%20%20%20%20%20%20%20%5B47.92939022337232%2C%20-97.02490968058137%5D%2C%0A%20%20%20%20%20%20%20%20%20%20%20%20%7B%0A%20%20%20%20%20%20%20%20%20%20%20%20%20%20%20%20icon%3A%20new%20L.Icon.Default%28%29%2C%0A%20%20%20%20%20%20%20%20%20%20%20%20%20%20%20%20%7D%0A%20%20%20%20%20%20%20%20%20%20%20%20%29.addTo%28map_478d6188cf59491182bcede8a31dd3a5%29%3B%0A%20%20%20%20%20%20%20%20%0A%20%20%20%20%0A%20%20%20%20%20%20%20%20var%20marker_d286dbfcef6448808b7d3b9275916691%20%3D%20L.marker%28%0A%20%20%20%20%20%20%20%20%20%20%20%20%5B47.92864833650469%2C%20-97.02632554042385%5D%2C%0A%20%20%20%20%20%20%20%20%20%20%20%20%7B%0A%20%20%20%20%20%20%20%20%20%20%20%20%20%20%20%20icon%3A%20new%20L.Icon.Default%28%29%2C%0A%20%20%20%20%20%20%20%20%20%20%20%20%20%20%20%20%7D%0A%20%20%20%20%20%20%20%20%20%20%20%20%29.addTo%28map_478d6188cf59491182bcede8a31dd3a5%29%3B%0A%20%20%20%20%20%20%20%20%0A%20%20%20%20%0A%20%20%20%20%20%20%20%20var%20marker_ce519af8e4f549cfb97434d077947529%20%3D%20L.marker%28%0A%20%20%20%20%20%20%20%20%20%20%20%20%5B47.929798%2C%20-97.025356%5D%2C%0A%20%20%20%20%20%20%20%20%20%20%20%20%7B%0A%20%20%20%20%20%20%20%20%20%20%20%20%20%20%20%20icon%3A%20new%20L.Icon.Default%28%29%2C%0A%20%20%20%20%20%20%20%20%20%20%20%20%20%20%20%20%7D%0A%20%20%20%20%20%20%20%20%20%20%20%20%29.addTo%28map_478d6188cf59491182bcede8a31dd3a5%29%3B%0A%20%20%20%20%20%20%20%20%0A%20%20%20%20%0A%20%20%20%20%20%20%20%20var%20marker_a1fe5df2906a45508b87cae6b52d992a%20%3D%20L.marker%28%0A%20%20%20%20%20%20%20%20%20%20%20%20%5B47.90936189894957%2C%20-97.04448502331354%5D%2C%0A%20%20%20%20%20%20%20%20%20%20%20%20%7B%0A%20%20%20%20%20%20%20%20%20%20%20%20%20%20%20%20icon%3A%20new%20L.Icon.Default%28%29%2C%0A%20%20%20%20%20%20%20%20%20%20%20%20%20%20%20%20%7D%0A%20%20%20%20%20%20%20%20%20%20%20%20%29.addTo%28map_478d6188cf59491182bcede8a31dd3a5%29%3B%0A%20%20%20%20%20%20%20%20%0A%20%20%20%20%0A%20%20%20%20%20%20%20%20var%20marker_d8d82f75cd40436c912621afd0387396%20%3D%20L.marker%28%0A%20%20%20%20%20%20%20%20%20%20%20%20%5B47.930784%2C%20-97.02451785%5D%2C%0A%20%20%20%20%20%20%20%20%20%20%20%20%7B%0A%20%20%20%20%20%20%20%20%20%20%20%20%20%20%20%20icon%3A%20new%20L.Icon.Default%28%29%2C%0A%20%20%20%20%20%20%20%20%20%20%20%20%20%20%20%20%7D%0A%20%20%20%20%20%20%20%20%20%20%20%20%29.addTo%28map_478d6188cf59491182bcede8a31dd3a5%29%3B%0A%20%20%20%20%20%20%20%20%0A%20%20%20%20%0A%20%20%20%20%20%20%20%20var%20marker_55b6491b0b53416081ebe874577507f5%20%3D%20L.marker%28%0A%20%20%20%20%20%20%20%20%20%20%20%20%5B47.93629778266744%2C%20-97.05157911670686%5D%2C%0A%20%20%20%20%20%20%20%20%20%20%20%20%7B%0A%20%20%20%20%20%20%20%20%20%20%20%20%20%20%20%20icon%3A%20new%20L.Icon.Default%28%29%2C%0A%20%20%20%20%20%20%20%20%20%20%20%20%20%20%20%20%7D%0A%20%20%20%20%20%20%20%20%20%20%20%20%29.addTo%28map_478d6188cf59491182bcede8a31dd3a5%29%3B%0A%20%20%20%20%20%20%20%20%0A%20%20%20%20%0A%20%20%20%20%20%20%20%20var%20marker_667cc5f284f04a2b8480c71f33fc1c12%20%3D%20L.marker%28%0A%20%20%20%20%20%20%20%20%20%20%20%20%5B47.937029063506365%2C%20-97.01913044617874%5D%2C%0A%20%20%20%20%20%20%20%20%20%20%20%20%7B%0A%20%20%20%20%20%20%20%20%20%20%20%20%20%20%20%20icon%3A%20new%20L.Icon.Default%28%29%2C%0A%20%20%20%20%20%20%20%20%20%20%20%20%20%20%20%20%7D%0A%20%20%20%20%20%20%20%20%20%20%20%20%29.addTo%28map_478d6188cf59491182bcede8a31dd3a5%29%3B%0A%20%20%20%20%20%20%20%20%0A%20%20%20%20%0A%20%20%20%20%20%20%20%20var%20marker_293c7325d1514ac7b2ad8eca0d0907f6%20%3D%20L.marker%28%0A%20%20%20%20%20%20%20%20%20%20%20%20%5B47.93398287331607%2C%20-97.05327827334229%5D%2C%0A%20%20%20%20%20%20%20%20%20%20%20%20%7B%0A%20%20%20%20%20%20%20%20%20%20%20%20%20%20%20%20icon%3A%20new%20L.Icon.Default%28%29%2C%0A%20%20%20%20%20%20%20%20%20%20%20%20%20%20%20%20%7D%0A%20%20%20%20%20%20%20%20%20%20%20%20%29.addTo%28map_478d6188cf59491182bcede8a31dd3a5%29%3B%0A%20%20%20%20%20%20%20%20%0A%20%20%20%20%0A%20%20%20%20%20%20%20%20var%20marker_e7d5b3e3a4bf43fdb795aab17623531a%20%3D%20L.marker%28%0A%20%20%20%20%20%20%20%20%20%20%20%20%5B47.93794982138228%2C%20-97.04219964364961%5D%2C%0A%20%20%20%20%20%20%20%20%20%20%20%20%7B%0A%20%20%20%20%20%20%20%20%20%20%20%20%20%20%20%20icon%3A%20new%20L.Icon.Default%28%29%2C%0A%20%20%20%20%20%20%20%20%20%20%20%20%20%20%20%20%7D%0A%20%20%20%20%20%20%20%20%20%20%20%20%29.addTo%28map_478d6188cf59491182bcede8a31dd3a5%29%3B%0A%20%20%20%20%20%20%20%20%0A%20%20%20%20%0A%20%20%20%20%20%20%20%20var%20marker_77ab7e85dc2c44cf984ef70728acb599%20%3D%20L.marker%28%0A%20%20%20%20%20%20%20%20%20%20%20%20%5B47.9215274948882%2C%20-97.01478979132533%5D%2C%0A%20%20%20%20%20%20%20%20%20%20%20%20%7B%0A%20%20%20%20%20%20%20%20%20%20%20%20%20%20%20%20icon%3A%20new%20L.Icon.Default%28%29%2C%0A%20%20%20%20%20%20%20%20%20%20%20%20%20%20%20%20%7D%0A%20%20%20%20%20%20%20%20%20%20%20%20%29.addTo%28map_478d6188cf59491182bcede8a31dd3a5%29%3B%0A%20%20%20%20%20%20%20%20%0A%20%20%20%20%0A%20%20%20%20%20%20%20%20var%20marker_d8866313ab8d4e609b63920baecab95f%20%3D%20L.marker%28%0A%20%20%20%20%20%20%20%20%20%20%20%20%5B47.91900049460269%2C%20-97.01490079144341%5D%2C%0A%20%20%20%20%20%20%20%20%20%20%20%20%7B%0A%20%20%20%20%20%20%20%20%20%20%20%20%20%20%20%20icon%3A%20new%20L.Icon.Default%28%29%2C%0A%20%20%20%20%20%20%20%20%20%20%20%20%20%20%20%20%7D%0A%20%20%20%20%20%20%20%20%20%20%20%20%29.addTo%28map_478d6188cf59491182bcede8a31dd3a5%29%3B%0A%20%20%20%20%20%20%20%20%0A%20%20%20%20%0A%20%20%20%20%20%20%20%20var%20marker_6916cc86ec1449df9ad20fab773656e4%20%3D%20L.marker%28%0A%20%20%20%20%20%20%20%20%20%20%20%20%5B47.9129904284409%2C%20-97.02258159685863%5D%2C%0A%20%20%20%20%20%20%20%20%20%20%20%20%7B%0A%20%20%20%20%20%20%20%20%20%20%20%20%20%20%20%20icon%3A%20new%20L.Icon.Default%28%29%2C%0A%20%20%20%20%20%20%20%20%20%20%20%20%20%20%20%20%7D%0A%20%20%20%20%20%20%20%20%20%20%20%20%29.addTo%28map_478d6188cf59491182bcede8a31dd3a5%29%3B%0A%20%20%20%20%20%20%20%20%0A%20%20%20%20%0A%20%20%20%20%20%20%20%20var%20marker_220ad6ae9f664551b94ef7a0842060ae%20%3D%20L.marker%28%0A%20%20%20%20%20%20%20%20%20%20%20%20%5B47.93229795910919%2C%20-97.01281502040854%5D%2C%0A%20%20%20%20%20%20%20%20%20%20%20%20%7B%0A%20%20%20%20%20%20%20%20%20%20%20%20%20%20%20%20icon%3A%20new%20L.Icon.Default%28%29%2C%0A%20%20%20%20%20%20%20%20%20%20%20%20%20%20%20%20%7D%0A%20%20%20%20%20%20%20%20%20%20%20%20%29.addTo%28map_478d6188cf59491182bcede8a31dd3a5%29%3B%0A%20%20%20%20%20%20%20%20%0A%20%20%20%20%0A%20%20%20%20%20%20%20%20var%20marker_0a205f3aefaf4127b6458a170797f367%20%3D%20L.marker%28%0A%20%20%20%20%20%20%20%20%20%20%20%20%5B47.93767095%2C%20-97.01805729%5D%2C%0A%20%20%20%20%20%20%20%20%20%20%20%20%7B%0A%20%20%20%20%20%20%20%20%20%20%20%20%20%20%20%20icon%3A%20new%20L.Icon.Default%28%29%2C%0A%20%20%20%20%20%20%20%20%20%20%20%20%20%20%20%20%7D%0A%20%20%20%20%20%20%20%20%20%20%20%20%29.addTo%28map_478d6188cf59491182bcede8a31dd3a5%29%3B%0A%20%20%20%20%20%20%20%20%0A%20%20%20%20%0A%20%20%20%20%20%20%20%20var%20marker_3bbe1952e43642b4b28039a95a36e518%20%3D%20L.marker%28%0A%20%20%20%20%20%20%20%20%20%20%20%20%5B47.91134348958912%2C%20-97.02166833414053%5D%2C%0A%20%20%20%20%20%20%20%20%20%20%20%20%7B%0A%20%20%20%20%20%20%20%20%20%20%20%20%20%20%20%20icon%3A%20new%20L.Icon.Default%28%29%2C%0A%20%20%20%20%20%20%20%20%20%20%20%20%20%20%20%20%7D%0A%20%20%20%20%20%20%20%20%20%20%20%20%29.addTo%28map_478d6188cf59491182bcede8a31dd3a5%29%3B%0A%20%20%20%20%20%20%20%20%0A%20%20%20%20%0A%20%20%20%20%20%20%20%20var%20marker_e60002e6dc974bce90a063ed4c49eb4d%20%3D%20L.marker%28%0A%20%20%20%20%20%20%20%20%20%20%20%20%5B47.911001683833405%2C%20-97.02169823753884%5D%2C%0A%20%20%20%20%20%20%20%20%20%20%20%20%7B%0A%20%20%20%20%20%20%20%20%20%20%20%20%20%20%20%20icon%3A%20new%20L.Icon.Default%28%29%2C%0A%20%20%20%20%20%20%20%20%20%20%20%20%20%20%20%20%7D%0A%20%20%20%20%20%20%20%20%20%20%20%20%29.addTo%28map_478d6188cf59491182bcede8a31dd3a5%29%3B%0A%20%20%20%20%20%20%20%20%0A%20%20%20%20%0A%20%20%20%20%20%20%20%20var%20marker_e899a0ae925f4f15b8b697ead049d63d%20%3D%20L.marker%28%0A%20%20%20%20%20%20%20%20%20%20%20%20%5B47.915841160642294%2C%20-97.05667904216075%5D%2C%0A%20%20%20%20%20%20%20%20%20%20%20%20%7B%0A%20%20%20%20%20%20%20%20%20%20%20%20%20%20%20%20icon%3A%20new%20L.Icon.Default%28%29%2C%0A%20%20%20%20%20%20%20%20%20%20%20%20%20%20%20%20%7D%0A%20%20%20%20%20%20%20%20%20%20%20%20%29.addTo%28map_478d6188cf59491182bcede8a31dd3a5%29%3B%0A%20%20%20%20%20%20%20%20%0A%20%20%20%20%0A%20%20%20%20%20%20%20%20var%20marker_b08ba4c49c4544289d81734fc036a974%20%3D%20L.marker%28%0A%20%20%20%20%20%20%20%20%20%20%20%20%5B47.932863%2C%20-97.059331%5D%2C%0A%20%20%20%20%20%20%20%20%20%20%20%20%7B%0A%20%20%20%20%20%20%20%20%20%20%20%20%20%20%20%20icon%3A%20new%20L.Icon.Default%28%29%2C%0A%20%20%20%20%20%20%20%20%20%20%20%20%20%20%20%20%7D%0A%20%20%20%20%20%20%20%20%20%20%20%20%29.addTo%28map_478d6188cf59491182bcede8a31dd3a5%29%3B%0A%20%20%20%20%20%20%20%20%0A%20%20%20%20%0A%20%20%20%20%20%20%20%20var%20marker_eeeaaf8a730f4ca3ad0c22762b4d9b2c%20%3D%20L.marker%28%0A%20%20%20%20%20%20%20%20%20%20%20%20%5B47.942119082389574%2C%20-97.02347706014258%5D%2C%0A%20%20%20%20%20%20%20%20%20%20%20%20%7B%0A%20%20%20%20%20%20%20%20%20%20%20%20%20%20%20%20icon%3A%20new%20L.Icon.Default%28%29%2C%0A%20%20%20%20%20%20%20%20%20%20%20%20%20%20%20%20%7D%0A%20%20%20%20%20%20%20%20%20%20%20%20%29.addTo%28map_478d6188cf59491182bcede8a31dd3a5%29%3B%0A%20%20%20%20%20%20%20%20%0A%3C/script%3E onload=\"this.contentDocument.open();this.contentDocument.write(    decodeURIComponent(this.getAttribute('data-html')));this.contentDocument.close();\" allowfullscreen webkitallowfullscreen mozallowfullscreen></iframe></div></div>"
            ],
            "text/plain": [
              "<folium.folium.Map at 0x7f07ad03b490>"
            ]
          },
          "metadata": {
            "tags": []
          },
          "execution_count": 89
        }
      ]
    },
    {
      "cell_type": "markdown",
      "metadata": {
        "id": "7FLx5Hk3qSVU"
      },
      "source": [
        "#### Fayetteville"
      ]
    },
    {
      "cell_type": "code",
      "metadata": {
        "colab": {
          "base_uri": "https://localhost:8080/",
          "height": 0
        },
        "id": "c_fK30Srms4y",
        "outputId": "9a932741-6a10-4bf4-8818-ea73eccafacc"
      },
      "source": [
        "fayetteville_map = folium.Map(location=[36.0616665, -94.16113896362981], zoom_start=15)\r\n",
        "fayetteville_points = fayetteville_venues[['lat', 'lng']]\r\n",
        "\r\n",
        "fayetteville = fayetteville_points.values.tolist()\r\n",
        "for point in range(0, len(fayetteville)):\r\n",
        "  folium.Marker(fayetteville[point]).add_to(fayetteville_map)\r\n",
        "fayetteville_map"
      ],
      "execution_count": 90,
      "outputs": [
        {
          "output_type": "execute_result",
          "data": {
            "text/html": [
              "<div style=\"width:100%;\"><div style=\"position:relative;width:100%;height:0;padding-bottom:60%;\"><span style=\"color:#565656\">Make this Notebook Trusted to load map: File -> Trust Notebook</span><iframe src=\"about:blank\" style=\"position:absolute;width:100%;height:100%;left:0;top:0;border:none !important;\" data-html=%3C%21DOCTYPE%20html%3E%0A%3Chead%3E%20%20%20%20%0A%20%20%20%20%3Cmeta%20http-equiv%3D%22content-type%22%20content%3D%22text/html%3B%20charset%3DUTF-8%22%20/%3E%0A%20%20%20%20%3Cscript%3EL_PREFER_CANVAS%3Dfalse%3B%20L_NO_TOUCH%3Dfalse%3B%20L_DISABLE_3D%3Dfalse%3B%3C/script%3E%0A%20%20%20%20%3Cscript%20src%3D%22https%3A//cdn.jsdelivr.net/npm/leaflet%401.4.0/dist/leaflet.js%22%3E%3C/script%3E%0A%20%20%20%20%3Cscript%20src%3D%22https%3A//code.jquery.com/jquery-1.12.4.min.js%22%3E%3C/script%3E%0A%20%20%20%20%3Cscript%20src%3D%22https%3A//maxcdn.bootstrapcdn.com/bootstrap/3.2.0/js/bootstrap.min.js%22%3E%3C/script%3E%0A%20%20%20%20%3Cscript%20src%3D%22https%3A//cdnjs.cloudflare.com/ajax/libs/Leaflet.awesome-markers/2.0.2/leaflet.awesome-markers.js%22%3E%3C/script%3E%0A%20%20%20%20%3Clink%20rel%3D%22stylesheet%22%20href%3D%22https%3A//cdn.jsdelivr.net/npm/leaflet%401.4.0/dist/leaflet.css%22/%3E%0A%20%20%20%20%3Clink%20rel%3D%22stylesheet%22%20href%3D%22https%3A//maxcdn.bootstrapcdn.com/bootstrap/3.2.0/css/bootstrap.min.css%22/%3E%0A%20%20%20%20%3Clink%20rel%3D%22stylesheet%22%20href%3D%22https%3A//maxcdn.bootstrapcdn.com/bootstrap/3.2.0/css/bootstrap-theme.min.css%22/%3E%0A%20%20%20%20%3Clink%20rel%3D%22stylesheet%22%20href%3D%22https%3A//maxcdn.bootstrapcdn.com/font-awesome/4.6.3/css/font-awesome.min.css%22/%3E%0A%20%20%20%20%3Clink%20rel%3D%22stylesheet%22%20href%3D%22https%3A//cdnjs.cloudflare.com/ajax/libs/Leaflet.awesome-markers/2.0.2/leaflet.awesome-markers.css%22/%3E%0A%20%20%20%20%3Clink%20rel%3D%22stylesheet%22%20href%3D%22https%3A//rawcdn.githack.com/python-visualization/folium/master/folium/templates/leaflet.awesome.rotate.css%22/%3E%0A%20%20%20%20%3Cstyle%3Ehtml%2C%20body%20%7Bwidth%3A%20100%25%3Bheight%3A%20100%25%3Bmargin%3A%200%3Bpadding%3A%200%3B%7D%3C/style%3E%0A%20%20%20%20%3Cstyle%3E%23map%20%7Bposition%3Aabsolute%3Btop%3A0%3Bbottom%3A0%3Bright%3A0%3Bleft%3A0%3B%7D%3C/style%3E%0A%20%20%20%20%0A%20%20%20%20%3Cmeta%20name%3D%22viewport%22%20content%3D%22width%3Ddevice-width%2C%0A%20%20%20%20%20%20%20%20initial-scale%3D1.0%2C%20maximum-scale%3D1.0%2C%20user-scalable%3Dno%22%20/%3E%0A%20%20%20%20%3Cstyle%3E%23map_4ebacdd8e3c7436d85039a4f77a445c7%20%7B%0A%20%20%20%20%20%20%20%20position%3A%20relative%3B%0A%20%20%20%20%20%20%20%20width%3A%20100.0%25%3B%0A%20%20%20%20%20%20%20%20height%3A%20100.0%25%3B%0A%20%20%20%20%20%20%20%20left%3A%200.0%25%3B%0A%20%20%20%20%20%20%20%20top%3A%200.0%25%3B%0A%20%20%20%20%20%20%20%20%7D%0A%20%20%20%20%3C/style%3E%0A%3C/head%3E%0A%3Cbody%3E%20%20%20%20%0A%20%20%20%20%0A%20%20%20%20%3Cdiv%20class%3D%22folium-map%22%20id%3D%22map_4ebacdd8e3c7436d85039a4f77a445c7%22%20%3E%3C/div%3E%0A%3C/body%3E%0A%3Cscript%3E%20%20%20%20%0A%20%20%20%20%0A%20%20%20%20%0A%20%20%20%20%20%20%20%20var%20bounds%20%3D%20null%3B%0A%20%20%20%20%0A%0A%20%20%20%20var%20map_4ebacdd8e3c7436d85039a4f77a445c7%20%3D%20L.map%28%0A%20%20%20%20%20%20%20%20%27map_4ebacdd8e3c7436d85039a4f77a445c7%27%2C%20%7B%0A%20%20%20%20%20%20%20%20center%3A%20%5B36.0616665%2C%20-94.16113896362981%5D%2C%0A%20%20%20%20%20%20%20%20zoom%3A%2015%2C%0A%20%20%20%20%20%20%20%20maxBounds%3A%20bounds%2C%0A%20%20%20%20%20%20%20%20layers%3A%20%5B%5D%2C%0A%20%20%20%20%20%20%20%20worldCopyJump%3A%20false%2C%0A%20%20%20%20%20%20%20%20crs%3A%20L.CRS.EPSG3857%2C%0A%20%20%20%20%20%20%20%20zoomControl%3A%20true%2C%0A%20%20%20%20%20%20%20%20%7D%29%3B%0A%0A%0A%20%20%20%20%0A%20%20%20%20var%20tile_layer_0909efe683da4a1c9f6f1382ea859fa1%20%3D%20L.tileLayer%28%0A%20%20%20%20%20%20%20%20%27https%3A//%7Bs%7D.tile.openstreetmap.org/%7Bz%7D/%7Bx%7D/%7By%7D.png%27%2C%0A%20%20%20%20%20%20%20%20%7B%0A%20%20%20%20%20%20%20%20%22attribution%22%3A%20null%2C%0A%20%20%20%20%20%20%20%20%22detectRetina%22%3A%20false%2C%0A%20%20%20%20%20%20%20%20%22maxNativeZoom%22%3A%2018%2C%0A%20%20%20%20%20%20%20%20%22maxZoom%22%3A%2018%2C%0A%20%20%20%20%20%20%20%20%22minZoom%22%3A%200%2C%0A%20%20%20%20%20%20%20%20%22noWrap%22%3A%20false%2C%0A%20%20%20%20%20%20%20%20%22opacity%22%3A%201%2C%0A%20%20%20%20%20%20%20%20%22subdomains%22%3A%20%22abc%22%2C%0A%20%20%20%20%20%20%20%20%22tms%22%3A%20false%0A%7D%29.addTo%28map_4ebacdd8e3c7436d85039a4f77a445c7%29%3B%0A%20%20%20%20%0A%20%20%20%20%20%20%20%20var%20marker_cd841bb57fca4fb89e3cd52a967db75d%20%3D%20L.marker%28%0A%20%20%20%20%20%20%20%20%20%20%20%20%5B36.062332755995854%2C%20-94.16025199661958%5D%2C%0A%20%20%20%20%20%20%20%20%20%20%20%20%7B%0A%20%20%20%20%20%20%20%20%20%20%20%20%20%20%20%20icon%3A%20new%20L.Icon.Default%28%29%2C%0A%20%20%20%20%20%20%20%20%20%20%20%20%20%20%20%20%7D%0A%20%20%20%20%20%20%20%20%20%20%20%20%29.addTo%28map_4ebacdd8e3c7436d85039a4f77a445c7%29%3B%0A%20%20%20%20%20%20%20%20%0A%20%20%20%20%0A%20%20%20%20%20%20%20%20var%20marker_5cdbf67ec6674808be85b5acb3caffb7%20%3D%20L.marker%28%0A%20%20%20%20%20%20%20%20%20%20%20%20%5B36.06349%2C%20-94.160676%5D%2C%0A%20%20%20%20%20%20%20%20%20%20%20%20%7B%0A%20%20%20%20%20%20%20%20%20%20%20%20%20%20%20%20icon%3A%20new%20L.Icon.Default%28%29%2C%0A%20%20%20%20%20%20%20%20%20%20%20%20%20%20%20%20%7D%0A%20%20%20%20%20%20%20%20%20%20%20%20%29.addTo%28map_4ebacdd8e3c7436d85039a4f77a445c7%29%3B%0A%20%20%20%20%20%20%20%20%0A%20%20%20%20%0A%20%20%20%20%20%20%20%20var%20marker_68b372aa98e240f8961e79dc1d581e66%20%3D%20L.marker%28%0A%20%20%20%20%20%20%20%20%20%20%20%20%5B36.06257288418977%2C%20-94.1586756006613%5D%2C%0A%20%20%20%20%20%20%20%20%20%20%20%20%7B%0A%20%20%20%20%20%20%20%20%20%20%20%20%20%20%20%20icon%3A%20new%20L.Icon.Default%28%29%2C%0A%20%20%20%20%20%20%20%20%20%20%20%20%20%20%20%20%7D%0A%20%20%20%20%20%20%20%20%20%20%20%20%29.addTo%28map_4ebacdd8e3c7436d85039a4f77a445c7%29%3B%0A%20%20%20%20%20%20%20%20%0A%20%20%20%20%0A%20%20%20%20%20%20%20%20var%20marker_d401c8e7d9fa4077aeaf7f295f1c17fb%20%3D%20L.marker%28%0A%20%20%20%20%20%20%20%20%20%20%20%20%5B36.0625259%2C%20-94.15838409999999%5D%2C%0A%20%20%20%20%20%20%20%20%20%20%20%20%7B%0A%20%20%20%20%20%20%20%20%20%20%20%20%20%20%20%20icon%3A%20new%20L.Icon.Default%28%29%2C%0A%20%20%20%20%20%20%20%20%20%20%20%20%20%20%20%20%7D%0A%20%20%20%20%20%20%20%20%20%20%20%20%29.addTo%28map_4ebacdd8e3c7436d85039a4f77a445c7%29%3B%0A%20%20%20%20%20%20%20%20%0A%20%20%20%20%0A%20%20%20%20%20%20%20%20var%20marker_d0940d572e9047c18cbd795f7ce029b1%20%3D%20L.marker%28%0A%20%20%20%20%20%20%20%20%20%20%20%20%5B36.064082872580315%2C%20-94.1604417214831%5D%2C%0A%20%20%20%20%20%20%20%20%20%20%20%20%7B%0A%20%20%20%20%20%20%20%20%20%20%20%20%20%20%20%20icon%3A%20new%20L.Icon.Default%28%29%2C%0A%20%20%20%20%20%20%20%20%20%20%20%20%20%20%20%20%7D%0A%20%20%20%20%20%20%20%20%20%20%20%20%29.addTo%28map_4ebacdd8e3c7436d85039a4f77a445c7%29%3B%0A%20%20%20%20%20%20%20%20%0A%20%20%20%20%0A%20%20%20%20%20%20%20%20var%20marker_e9e0fada70c648048dca2d16db8761cf%20%3D%20L.marker%28%0A%20%20%20%20%20%20%20%20%20%20%20%20%5B36.06620277015612%2C%20-94.16203234309921%5D%2C%0A%20%20%20%20%20%20%20%20%20%20%20%20%7B%0A%20%20%20%20%20%20%20%20%20%20%20%20%20%20%20%20icon%3A%20new%20L.Icon.Default%28%29%2C%0A%20%20%20%20%20%20%20%20%20%20%20%20%20%20%20%20%7D%0A%20%20%20%20%20%20%20%20%20%20%20%20%29.addTo%28map_4ebacdd8e3c7436d85039a4f77a445c7%29%3B%0A%20%20%20%20%20%20%20%20%0A%20%20%20%20%0A%20%20%20%20%20%20%20%20var%20marker_258df3d8615a41a7b2c393fcfe6dbd79%20%3D%20L.marker%28%0A%20%20%20%20%20%20%20%20%20%20%20%20%5B36.0623236%2C%20-94.1592946%5D%2C%0A%20%20%20%20%20%20%20%20%20%20%20%20%7B%0A%20%20%20%20%20%20%20%20%20%20%20%20%20%20%20%20icon%3A%20new%20L.Icon.Default%28%29%2C%0A%20%20%20%20%20%20%20%20%20%20%20%20%20%20%20%20%7D%0A%20%20%20%20%20%20%20%20%20%20%20%20%29.addTo%28map_4ebacdd8e3c7436d85039a4f77a445c7%29%3B%0A%20%20%20%20%20%20%20%20%0A%20%20%20%20%0A%20%20%20%20%20%20%20%20var%20marker_9069e52d9a94485997f47416da62862a%20%3D%20L.marker%28%0A%20%20%20%20%20%20%20%20%20%20%20%20%5B36.06696481563087%2C%20-94.16339213491814%5D%2C%0A%20%20%20%20%20%20%20%20%20%20%20%20%7B%0A%20%20%20%20%20%20%20%20%20%20%20%20%20%20%20%20icon%3A%20new%20L.Icon.Default%28%29%2C%0A%20%20%20%20%20%20%20%20%20%20%20%20%20%20%20%20%7D%0A%20%20%20%20%20%20%20%20%20%20%20%20%29.addTo%28map_4ebacdd8e3c7436d85039a4f77a445c7%29%3B%0A%20%20%20%20%20%20%20%20%0A%20%20%20%20%0A%20%20%20%20%20%20%20%20var%20marker_e4c877b8c49b436486e9381a4acdc677%20%3D%20L.marker%28%0A%20%20%20%20%20%20%20%20%20%20%20%20%5B36.06162593507408%2C%20-94.16021779600158%5D%2C%0A%20%20%20%20%20%20%20%20%20%20%20%20%7B%0A%20%20%20%20%20%20%20%20%20%20%20%20%20%20%20%20icon%3A%20new%20L.Icon.Default%28%29%2C%0A%20%20%20%20%20%20%20%20%20%20%20%20%20%20%20%20%7D%0A%20%20%20%20%20%20%20%20%20%20%20%20%29.addTo%28map_4ebacdd8e3c7436d85039a4f77a445c7%29%3B%0A%20%20%20%20%20%20%20%20%0A%20%20%20%20%0A%20%20%20%20%20%20%20%20var%20marker_1e1a091d894a4316ab02c93d9dac3363%20%3D%20L.marker%28%0A%20%20%20%20%20%20%20%20%20%20%20%20%5B36.06720960442815%2C%20-94.16512304428989%5D%2C%0A%20%20%20%20%20%20%20%20%20%20%20%20%7B%0A%20%20%20%20%20%20%20%20%20%20%20%20%20%20%20%20icon%3A%20new%20L.Icon.Default%28%29%2C%0A%20%20%20%20%20%20%20%20%20%20%20%20%20%20%20%20%7D%0A%20%20%20%20%20%20%20%20%20%20%20%20%29.addTo%28map_4ebacdd8e3c7436d85039a4f77a445c7%29%3B%0A%20%20%20%20%20%20%20%20%0A%20%20%20%20%0A%20%20%20%20%20%20%20%20var%20marker_554d9372880648d88b8b755d03b907fc%20%3D%20L.marker%28%0A%20%20%20%20%20%20%20%20%20%20%20%20%5B36.06400171854242%2C%20-94.16076833772779%5D%2C%0A%20%20%20%20%20%20%20%20%20%20%20%20%7B%0A%20%20%20%20%20%20%20%20%20%20%20%20%20%20%20%20icon%3A%20new%20L.Icon.Default%28%29%2C%0A%20%20%20%20%20%20%20%20%20%20%20%20%20%20%20%20%7D%0A%20%20%20%20%20%20%20%20%20%20%20%20%29.addTo%28map_4ebacdd8e3c7436d85039a4f77a445c7%29%3B%0A%20%20%20%20%20%20%20%20%0A%20%20%20%20%0A%20%20%20%20%20%20%20%20var%20marker_ffc4ad4d819341a8a742b51a72df1855%20%3D%20L.marker%28%0A%20%20%20%20%20%20%20%20%20%20%20%20%5B36.06220811116153%2C%20-94.16797413731001%5D%2C%0A%20%20%20%20%20%20%20%20%20%20%20%20%7B%0A%20%20%20%20%20%20%20%20%20%20%20%20%20%20%20%20icon%3A%20new%20L.Icon.Default%28%29%2C%0A%20%20%20%20%20%20%20%20%20%20%20%20%20%20%20%20%7D%0A%20%20%20%20%20%20%20%20%20%20%20%20%29.addTo%28map_4ebacdd8e3c7436d85039a4f77a445c7%29%3B%0A%20%20%20%20%20%20%20%20%0A%20%20%20%20%0A%20%20%20%20%20%20%20%20var%20marker_d192928260874abeb1df7db526680d35%20%3D%20L.marker%28%0A%20%20%20%20%20%20%20%20%20%20%20%20%5B36.06238241267502%2C%20-94.16034698391695%5D%2C%0A%20%20%20%20%20%20%20%20%20%20%20%20%7B%0A%20%20%20%20%20%20%20%20%20%20%20%20%20%20%20%20icon%3A%20new%20L.Icon.Default%28%29%2C%0A%20%20%20%20%20%20%20%20%20%20%20%20%20%20%20%20%7D%0A%20%20%20%20%20%20%20%20%20%20%20%20%29.addTo%28map_4ebacdd8e3c7436d85039a4f77a445c7%29%3B%0A%20%20%20%20%20%20%20%20%0A%20%20%20%20%0A%20%20%20%20%20%20%20%20var%20marker_2a60081cebc141149da62f71473c3908%20%3D%20L.marker%28%0A%20%20%20%20%20%20%20%20%20%20%20%20%5B36.066351829735346%2C%20-94.16535605784158%5D%2C%0A%20%20%20%20%20%20%20%20%20%20%20%20%7B%0A%20%20%20%20%20%20%20%20%20%20%20%20%20%20%20%20icon%3A%20new%20L.Icon.Default%28%29%2C%0A%20%20%20%20%20%20%20%20%20%20%20%20%20%20%20%20%7D%0A%20%20%20%20%20%20%20%20%20%20%20%20%29.addTo%28map_4ebacdd8e3c7436d85039a4f77a445c7%29%3B%0A%20%20%20%20%20%20%20%20%0A%20%20%20%20%0A%20%20%20%20%20%20%20%20var%20marker_491bf2a90c9d448d848a35a95c8ef1b9%20%3D%20L.marker%28%0A%20%20%20%20%20%20%20%20%20%20%20%20%5B36.06683183568803%2C%20-94.16205844042014%5D%2C%0A%20%20%20%20%20%20%20%20%20%20%20%20%7B%0A%20%20%20%20%20%20%20%20%20%20%20%20%20%20%20%20icon%3A%20new%20L.Icon.Default%28%29%2C%0A%20%20%20%20%20%20%20%20%20%20%20%20%20%20%20%20%7D%0A%20%20%20%20%20%20%20%20%20%20%20%20%29.addTo%28map_4ebacdd8e3c7436d85039a4f77a445c7%29%3B%0A%20%20%20%20%20%20%20%20%0A%20%20%20%20%0A%20%20%20%20%20%20%20%20var%20marker_94191035869e4d47b9e24a67a983a656%20%3D%20L.marker%28%0A%20%20%20%20%20%20%20%20%20%20%20%20%5B36.064303%2C%20-94.165951%5D%2C%0A%20%20%20%20%20%20%20%20%20%20%20%20%7B%0A%20%20%20%20%20%20%20%20%20%20%20%20%20%20%20%20icon%3A%20new%20L.Icon.Default%28%29%2C%0A%20%20%20%20%20%20%20%20%20%20%20%20%20%20%20%20%7D%0A%20%20%20%20%20%20%20%20%20%20%20%20%29.addTo%28map_4ebacdd8e3c7436d85039a4f77a445c7%29%3B%0A%20%20%20%20%20%20%20%20%0A%20%20%20%20%0A%20%20%20%20%20%20%20%20var%20marker_8bff32840cbb4cb887ca8646d874ddfa%20%3D%20L.marker%28%0A%20%20%20%20%20%20%20%20%20%20%20%20%5B36.06664064788818%2C%20-94.16403223679217%5D%2C%0A%20%20%20%20%20%20%20%20%20%20%20%20%7B%0A%20%20%20%20%20%20%20%20%20%20%20%20%20%20%20%20icon%3A%20new%20L.Icon.Default%28%29%2C%0A%20%20%20%20%20%20%20%20%20%20%20%20%20%20%20%20%7D%0A%20%20%20%20%20%20%20%20%20%20%20%20%29.addTo%28map_4ebacdd8e3c7436d85039a4f77a445c7%29%3B%0A%20%20%20%20%20%20%20%20%0A%20%20%20%20%0A%20%20%20%20%20%20%20%20var%20marker_7daa1d881dc4437a83335b34afe9210d%20%3D%20L.marker%28%0A%20%20%20%20%20%20%20%20%20%20%20%20%5B36.05979864348339%2C%20-94.1594685804046%5D%2C%0A%20%20%20%20%20%20%20%20%20%20%20%20%7B%0A%20%20%20%20%20%20%20%20%20%20%20%20%20%20%20%20icon%3A%20new%20L.Icon.Default%28%29%2C%0A%20%20%20%20%20%20%20%20%20%20%20%20%20%20%20%20%7D%0A%20%20%20%20%20%20%20%20%20%20%20%20%29.addTo%28map_4ebacdd8e3c7436d85039a4f77a445c7%29%3B%0A%20%20%20%20%20%20%20%20%0A%20%20%20%20%0A%20%20%20%20%20%20%20%20var%20marker_3d0868d50aa041af9eb6224a60573eab%20%3D%20L.marker%28%0A%20%20%20%20%20%20%20%20%20%20%20%20%5B36.06190016240323%2C%20-94.16045083749077%5D%2C%0A%20%20%20%20%20%20%20%20%20%20%20%20%7B%0A%20%20%20%20%20%20%20%20%20%20%20%20%20%20%20%20icon%3A%20new%20L.Icon.Default%28%29%2C%0A%20%20%20%20%20%20%20%20%20%20%20%20%20%20%20%20%7D%0A%20%20%20%20%20%20%20%20%20%20%20%20%29.addTo%28map_4ebacdd8e3c7436d85039a4f77a445c7%29%3B%0A%20%20%20%20%20%20%20%20%0A%20%20%20%20%0A%20%20%20%20%20%20%20%20var%20marker_000b54e6084d4b9f9451ea1c53147d2e%20%3D%20L.marker%28%0A%20%20%20%20%20%20%20%20%20%20%20%20%5B36.06249711200532%2C%20-94.15892049930832%5D%2C%0A%20%20%20%20%20%20%20%20%20%20%20%20%7B%0A%20%20%20%20%20%20%20%20%20%20%20%20%20%20%20%20icon%3A%20new%20L.Icon.Default%28%29%2C%0A%20%20%20%20%20%20%20%20%20%20%20%20%20%20%20%20%7D%0A%20%20%20%20%20%20%20%20%20%20%20%20%29.addTo%28map_4ebacdd8e3c7436d85039a4f77a445c7%29%3B%0A%20%20%20%20%20%20%20%20%0A%20%20%20%20%0A%20%20%20%20%20%20%20%20var%20marker_fb3ba707ebec4fa39d92722752794f5c%20%3D%20L.marker%28%0A%20%20%20%20%20%20%20%20%20%20%20%20%5B36.064950072826065%2C%20-94.1671152450478%5D%2C%0A%20%20%20%20%20%20%20%20%20%20%20%20%7B%0A%20%20%20%20%20%20%20%20%20%20%20%20%20%20%20%20icon%3A%20new%20L.Icon.Default%28%29%2C%0A%20%20%20%20%20%20%20%20%20%20%20%20%20%20%20%20%7D%0A%20%20%20%20%20%20%20%20%20%20%20%20%29.addTo%28map_4ebacdd8e3c7436d85039a4f77a445c7%29%3B%0A%20%20%20%20%20%20%20%20%0A%20%20%20%20%0A%20%20%20%20%20%20%20%20var%20marker_e005653bfdbe4dfbba8be63216b89676%20%3D%20L.marker%28%0A%20%20%20%20%20%20%20%20%20%20%20%20%5B36.06628748960539%2C%20-94.16639756741978%5D%2C%0A%20%20%20%20%20%20%20%20%20%20%20%20%7B%0A%20%20%20%20%20%20%20%20%20%20%20%20%20%20%20%20icon%3A%20new%20L.Icon.Default%28%29%2C%0A%20%20%20%20%20%20%20%20%20%20%20%20%20%20%20%20%7D%0A%20%20%20%20%20%20%20%20%20%20%20%20%29.addTo%28map_4ebacdd8e3c7436d85039a4f77a445c7%29%3B%0A%20%20%20%20%20%20%20%20%0A%20%20%20%20%0A%20%20%20%20%20%20%20%20var%20marker_2dfc16f277f44c10b8461503c4646d3c%20%3D%20L.marker%28%0A%20%20%20%20%20%20%20%20%20%20%20%20%5B36.06741600830351%2C%20-94.16600455908593%5D%2C%0A%20%20%20%20%20%20%20%20%20%20%20%20%7B%0A%20%20%20%20%20%20%20%20%20%20%20%20%20%20%20%20icon%3A%20new%20L.Icon.Default%28%29%2C%0A%20%20%20%20%20%20%20%20%20%20%20%20%20%20%20%20%7D%0A%20%20%20%20%20%20%20%20%20%20%20%20%29.addTo%28map_4ebacdd8e3c7436d85039a4f77a445c7%29%3B%0A%20%20%20%20%20%20%20%20%0A%20%20%20%20%0A%20%20%20%20%20%20%20%20var%20marker_7f5a724885334c5a8d0986e6e11e0be7%20%3D%20L.marker%28%0A%20%20%20%20%20%20%20%20%20%20%20%20%5B36.063983%2C%20-94.158574%5D%2C%0A%20%20%20%20%20%20%20%20%20%20%20%20%7B%0A%20%20%20%20%20%20%20%20%20%20%20%20%20%20%20%20icon%3A%20new%20L.Icon.Default%28%29%2C%0A%20%20%20%20%20%20%20%20%20%20%20%20%20%20%20%20%7D%0A%20%20%20%20%20%20%20%20%20%20%20%20%29.addTo%28map_4ebacdd8e3c7436d85039a4f77a445c7%29%3B%0A%20%20%20%20%20%20%20%20%0A%20%20%20%20%0A%20%20%20%20%20%20%20%20var%20marker_a9bb62b261044998b9d9fc1b9b0c3a71%20%3D%20L.marker%28%0A%20%20%20%20%20%20%20%20%20%20%20%20%5B36.06653451612767%2C%20-94.16516156538397%5D%2C%0A%20%20%20%20%20%20%20%20%20%20%20%20%7B%0A%20%20%20%20%20%20%20%20%20%20%20%20%20%20%20%20icon%3A%20new%20L.Icon.Default%28%29%2C%0A%20%20%20%20%20%20%20%20%20%20%20%20%20%20%20%20%7D%0A%20%20%20%20%20%20%20%20%20%20%20%20%29.addTo%28map_4ebacdd8e3c7436d85039a4f77a445c7%29%3B%0A%20%20%20%20%20%20%20%20%0A%20%20%20%20%0A%20%20%20%20%20%20%20%20var%20marker_08bee13ee6074a6dba54180da7770d25%20%3D%20L.marker%28%0A%20%20%20%20%20%20%20%20%20%20%20%20%5B36.06222521522494%2C%20-94.1604951126499%5D%2C%0A%20%20%20%20%20%20%20%20%20%20%20%20%7B%0A%20%20%20%20%20%20%20%20%20%20%20%20%20%20%20%20icon%3A%20new%20L.Icon.Default%28%29%2C%0A%20%20%20%20%20%20%20%20%20%20%20%20%20%20%20%20%7D%0A%20%20%20%20%20%20%20%20%20%20%20%20%29.addTo%28map_4ebacdd8e3c7436d85039a4f77a445c7%29%3B%0A%20%20%20%20%20%20%20%20%0A%20%20%20%20%0A%20%20%20%20%20%20%20%20var%20marker_cb59b8074db64210a30fec83316ae125%20%3D%20L.marker%28%0A%20%20%20%20%20%20%20%20%20%20%20%20%5B36.066736703377906%2C%20-94.16612579287357%5D%2C%0A%20%20%20%20%20%20%20%20%20%20%20%20%7B%0A%20%20%20%20%20%20%20%20%20%20%20%20%20%20%20%20icon%3A%20new%20L.Icon.Default%28%29%2C%0A%20%20%20%20%20%20%20%20%20%20%20%20%20%20%20%20%7D%0A%20%20%20%20%20%20%20%20%20%20%20%20%29.addTo%28map_4ebacdd8e3c7436d85039a4f77a445c7%29%3B%0A%20%20%20%20%20%20%20%20%0A%20%20%20%20%0A%20%20%20%20%20%20%20%20var%20marker_81a80efd7d674592a8a2e7dfb2ca3f91%20%3D%20L.marker%28%0A%20%20%20%20%20%20%20%20%20%20%20%20%5B36.06700734148308%2C%20-94.16402331644483%5D%2C%0A%20%20%20%20%20%20%20%20%20%20%20%20%7B%0A%20%20%20%20%20%20%20%20%20%20%20%20%20%20%20%20icon%3A%20new%20L.Icon.Default%28%29%2C%0A%20%20%20%20%20%20%20%20%20%20%20%20%20%20%20%20%7D%0A%20%20%20%20%20%20%20%20%20%20%20%20%29.addTo%28map_4ebacdd8e3c7436d85039a4f77a445c7%29%3B%0A%20%20%20%20%20%20%20%20%0A%20%20%20%20%0A%20%20%20%20%20%20%20%20var%20marker_76296582ce2740a2aefd4578436d67be%20%3D%20L.marker%28%0A%20%20%20%20%20%20%20%20%20%20%20%20%5B36.066026%2C%20-94.164054%5D%2C%0A%20%20%20%20%20%20%20%20%20%20%20%20%7B%0A%20%20%20%20%20%20%20%20%20%20%20%20%20%20%20%20icon%3A%20new%20L.Icon.Default%28%29%2C%0A%20%20%20%20%20%20%20%20%20%20%20%20%20%20%20%20%7D%0A%20%20%20%20%20%20%20%20%20%20%20%20%29.addTo%28map_4ebacdd8e3c7436d85039a4f77a445c7%29%3B%0A%20%20%20%20%20%20%20%20%0A%20%20%20%20%0A%20%20%20%20%20%20%20%20var%20marker_e87f2aa4c3f544d7b5180aa1ad4c7692%20%3D%20L.marker%28%0A%20%20%20%20%20%20%20%20%20%20%20%20%5B36.066256771915505%2C%20-94.16375036081473%5D%2C%0A%20%20%20%20%20%20%20%20%20%20%20%20%7B%0A%20%20%20%20%20%20%20%20%20%20%20%20%20%20%20%20icon%3A%20new%20L.Icon.Default%28%29%2C%0A%20%20%20%20%20%20%20%20%20%20%20%20%20%20%20%20%7D%0A%20%20%20%20%20%20%20%20%20%20%20%20%29.addTo%28map_4ebacdd8e3c7436d85039a4f77a445c7%29%3B%0A%20%20%20%20%20%20%20%20%0A%20%20%20%20%0A%20%20%20%20%20%20%20%20var%20marker_5f06f1406f7445f4a1c918067300cf73%20%3D%20L.marker%28%0A%20%20%20%20%20%20%20%20%20%20%20%20%5B36.068931%2C%20-94.15729499999999%5D%2C%0A%20%20%20%20%20%20%20%20%20%20%20%20%7B%0A%20%20%20%20%20%20%20%20%20%20%20%20%20%20%20%20icon%3A%20new%20L.Icon.Default%28%29%2C%0A%20%20%20%20%20%20%20%20%20%20%20%20%20%20%20%20%7D%0A%20%20%20%20%20%20%20%20%20%20%20%20%29.addTo%28map_4ebacdd8e3c7436d85039a4f77a445c7%29%3B%0A%20%20%20%20%20%20%20%20%0A%20%20%20%20%0A%20%20%20%20%20%20%20%20var%20marker_ad65ba74ff4d4879b96b0ccc2e146618%20%3D%20L.marker%28%0A%20%20%20%20%20%20%20%20%20%20%20%20%5B36.06274250584555%2C%20-94.16105181572453%5D%2C%0A%20%20%20%20%20%20%20%20%20%20%20%20%7B%0A%20%20%20%20%20%20%20%20%20%20%20%20%20%20%20%20icon%3A%20new%20L.Icon.Default%28%29%2C%0A%20%20%20%20%20%20%20%20%20%20%20%20%20%20%20%20%7D%0A%20%20%20%20%20%20%20%20%20%20%20%20%29.addTo%28map_4ebacdd8e3c7436d85039a4f77a445c7%29%3B%0A%20%20%20%20%20%20%20%20%0A%20%20%20%20%0A%20%20%20%20%20%20%20%20var%20marker_c4335513d44b43f39881902b9d0333a4%20%3D%20L.marker%28%0A%20%20%20%20%20%20%20%20%20%20%20%20%5B36.05675704498471%2C%20-94.16495874786233%5D%2C%0A%20%20%20%20%20%20%20%20%20%20%20%20%7B%0A%20%20%20%20%20%20%20%20%20%20%20%20%20%20%20%20icon%3A%20new%20L.Icon.Default%28%29%2C%0A%20%20%20%20%20%20%20%20%20%20%20%20%20%20%20%20%7D%0A%20%20%20%20%20%20%20%20%20%20%20%20%29.addTo%28map_4ebacdd8e3c7436d85039a4f77a445c7%29%3B%0A%20%20%20%20%20%20%20%20%0A%20%20%20%20%0A%20%20%20%20%20%20%20%20var%20marker_7bc6ce7698db49ab85fe934f77234e58%20%3D%20L.marker%28%0A%20%20%20%20%20%20%20%20%20%20%20%20%5B36.066533745198306%2C%20-94.16121993086806%5D%2C%0A%20%20%20%20%20%20%20%20%20%20%20%20%7B%0A%20%20%20%20%20%20%20%20%20%20%20%20%20%20%20%20icon%3A%20new%20L.Icon.Default%28%29%2C%0A%20%20%20%20%20%20%20%20%20%20%20%20%20%20%20%20%7D%0A%20%20%20%20%20%20%20%20%20%20%20%20%29.addTo%28map_4ebacdd8e3c7436d85039a4f77a445c7%29%3B%0A%20%20%20%20%20%20%20%20%0A%20%20%20%20%0A%20%20%20%20%20%20%20%20var%20marker_9ff3f98e1ab84de4986250c51031f9f8%20%3D%20L.marker%28%0A%20%20%20%20%20%20%20%20%20%20%20%20%5B36.066571572684325%2C%20-94.16656599562994%5D%2C%0A%20%20%20%20%20%20%20%20%20%20%20%20%7B%0A%20%20%20%20%20%20%20%20%20%20%20%20%20%20%20%20icon%3A%20new%20L.Icon.Default%28%29%2C%0A%20%20%20%20%20%20%20%20%20%20%20%20%20%20%20%20%7D%0A%20%20%20%20%20%20%20%20%20%20%20%20%29.addTo%28map_4ebacdd8e3c7436d85039a4f77a445c7%29%3B%0A%20%20%20%20%20%20%20%20%0A%20%20%20%20%0A%20%20%20%20%20%20%20%20var%20marker_17f3005cddf54128a27c8eb2a2a3fe18%20%3D%20L.marker%28%0A%20%20%20%20%20%20%20%20%20%20%20%20%5B36.07303990938995%2C%20-94.16465658854008%5D%2C%0A%20%20%20%20%20%20%20%20%20%20%20%20%7B%0A%20%20%20%20%20%20%20%20%20%20%20%20%20%20%20%20icon%3A%20new%20L.Icon.Default%28%29%2C%0A%20%20%20%20%20%20%20%20%20%20%20%20%20%20%20%20%7D%0A%20%20%20%20%20%20%20%20%20%20%20%20%29.addTo%28map_4ebacdd8e3c7436d85039a4f77a445c7%29%3B%0A%20%20%20%20%20%20%20%20%0A%20%20%20%20%0A%20%20%20%20%20%20%20%20var%20marker_ae369e6ededb49cd8a4d8e680f14411b%20%3D%20L.marker%28%0A%20%20%20%20%20%20%20%20%20%20%20%20%5B36.064212%2C%20-94.166791%5D%2C%0A%20%20%20%20%20%20%20%20%20%20%20%20%7B%0A%20%20%20%20%20%20%20%20%20%20%20%20%20%20%20%20icon%3A%20new%20L.Icon.Default%28%29%2C%0A%20%20%20%20%20%20%20%20%20%20%20%20%20%20%20%20%7D%0A%20%20%20%20%20%20%20%20%20%20%20%20%29.addTo%28map_4ebacdd8e3c7436d85039a4f77a445c7%29%3B%0A%20%20%20%20%20%20%20%20%0A%20%20%20%20%0A%20%20%20%20%20%20%20%20var%20marker_a79c4aef4ac4406696a52e4203e31397%20%3D%20L.marker%28%0A%20%20%20%20%20%20%20%20%20%20%20%20%5B36.06621890945438%2C%20-94.16354135118065%5D%2C%0A%20%20%20%20%20%20%20%20%20%20%20%20%7B%0A%20%20%20%20%20%20%20%20%20%20%20%20%20%20%20%20icon%3A%20new%20L.Icon.Default%28%29%2C%0A%20%20%20%20%20%20%20%20%20%20%20%20%20%20%20%20%7D%0A%20%20%20%20%20%20%20%20%20%20%20%20%29.addTo%28map_4ebacdd8e3c7436d85039a4f77a445c7%29%3B%0A%20%20%20%20%20%20%20%20%0A%20%20%20%20%0A%20%20%20%20%20%20%20%20var%20marker_8c0ee86f1e134d9d978fde86445bf942%20%3D%20L.marker%28%0A%20%20%20%20%20%20%20%20%20%20%20%20%5B36.07043989318813%2C%20-94.1575505917338%5D%2C%0A%20%20%20%20%20%20%20%20%20%20%20%20%7B%0A%20%20%20%20%20%20%20%20%20%20%20%20%20%20%20%20icon%3A%20new%20L.Icon.Default%28%29%2C%0A%20%20%20%20%20%20%20%20%20%20%20%20%20%20%20%20%7D%0A%20%20%20%20%20%20%20%20%20%20%20%20%29.addTo%28map_4ebacdd8e3c7436d85039a4f77a445c7%29%3B%0A%20%20%20%20%20%20%20%20%0A%20%20%20%20%0A%20%20%20%20%20%20%20%20var%20marker_a460a3445d724e2aa5dd44e24c9f0752%20%3D%20L.marker%28%0A%20%20%20%20%20%20%20%20%20%20%20%20%5B36.05214325661536%2C%20-94.1648491244668%5D%2C%0A%20%20%20%20%20%20%20%20%20%20%20%20%7B%0A%20%20%20%20%20%20%20%20%20%20%20%20%20%20%20%20icon%3A%20new%20L.Icon.Default%28%29%2C%0A%20%20%20%20%20%20%20%20%20%20%20%20%20%20%20%20%7D%0A%20%20%20%20%20%20%20%20%20%20%20%20%29.addTo%28map_4ebacdd8e3c7436d85039a4f77a445c7%29%3B%0A%20%20%20%20%20%20%20%20%0A%20%20%20%20%0A%20%20%20%20%20%20%20%20var%20marker_11f59e1d8f954e3ea9460ffb21bdb561%20%3D%20L.marker%28%0A%20%20%20%20%20%20%20%20%20%20%20%20%5B36.06140526421526%2C%20-94.17796658324703%5D%2C%0A%20%20%20%20%20%20%20%20%20%20%20%20%7B%0A%20%20%20%20%20%20%20%20%20%20%20%20%20%20%20%20icon%3A%20new%20L.Icon.Default%28%29%2C%0A%20%20%20%20%20%20%20%20%20%20%20%20%20%20%20%20%7D%0A%20%20%20%20%20%20%20%20%20%20%20%20%29.addTo%28map_4ebacdd8e3c7436d85039a4f77a445c7%29%3B%0A%20%20%20%20%20%20%20%20%0A%20%20%20%20%0A%20%20%20%20%20%20%20%20var%20marker_979d7aab01c743249de4f7b84394f801%20%3D%20L.marker%28%0A%20%20%20%20%20%20%20%20%20%20%20%20%5B36.057593%2C%20-94.165409%5D%2C%0A%20%20%20%20%20%20%20%20%20%20%20%20%7B%0A%20%20%20%20%20%20%20%20%20%20%20%20%20%20%20%20icon%3A%20new%20L.Icon.Default%28%29%2C%0A%20%20%20%20%20%20%20%20%20%20%20%20%20%20%20%20%7D%0A%20%20%20%20%20%20%20%20%20%20%20%20%29.addTo%28map_4ebacdd8e3c7436d85039a4f77a445c7%29%3B%0A%20%20%20%20%20%20%20%20%0A%20%20%20%20%0A%20%20%20%20%20%20%20%20var%20marker_fafd248910d54d8eba2dc4962d92330e%20%3D%20L.marker%28%0A%20%20%20%20%20%20%20%20%20%20%20%20%5B36.07358717141858%2C%20-94.16082165284054%5D%2C%0A%20%20%20%20%20%20%20%20%20%20%20%20%7B%0A%20%20%20%20%20%20%20%20%20%20%20%20%20%20%20%20icon%3A%20new%20L.Icon.Default%28%29%2C%0A%20%20%20%20%20%20%20%20%20%20%20%20%20%20%20%20%7D%0A%20%20%20%20%20%20%20%20%20%20%20%20%29.addTo%28map_4ebacdd8e3c7436d85039a4f77a445c7%29%3B%0A%20%20%20%20%20%20%20%20%0A%20%20%20%20%0A%20%20%20%20%20%20%20%20var%20marker_a5398c2ea00849c7bf587cfe42b60af4%20%3D%20L.marker%28%0A%20%20%20%20%20%20%20%20%20%20%20%20%5B36.07366845464747%2C%20-94.15728182665632%5D%2C%0A%20%20%20%20%20%20%20%20%20%20%20%20%7B%0A%20%20%20%20%20%20%20%20%20%20%20%20%20%20%20%20icon%3A%20new%20L.Icon.Default%28%29%2C%0A%20%20%20%20%20%20%20%20%20%20%20%20%20%20%20%20%7D%0A%20%20%20%20%20%20%20%20%20%20%20%20%29.addTo%28map_4ebacdd8e3c7436d85039a4f77a445c7%29%3B%0A%20%20%20%20%20%20%20%20%0A%20%20%20%20%0A%20%20%20%20%20%20%20%20var%20marker_b281a166fca44263b566277ae9f9857b%20%3D%20L.marker%28%0A%20%20%20%20%20%20%20%20%20%20%20%20%5B36.056192564073%2C%20-94.1706681283411%5D%2C%0A%20%20%20%20%20%20%20%20%20%20%20%20%7B%0A%20%20%20%20%20%20%20%20%20%20%20%20%20%20%20%20icon%3A%20new%20L.Icon.Default%28%29%2C%0A%20%20%20%20%20%20%20%20%20%20%20%20%20%20%20%20%7D%0A%20%20%20%20%20%20%20%20%20%20%20%20%29.addTo%28map_4ebacdd8e3c7436d85039a4f77a445c7%29%3B%0A%20%20%20%20%20%20%20%20%0A%20%20%20%20%0A%20%20%20%20%20%20%20%20var%20marker_7bce8fc5e1584b95bdca43821d68eb6a%20%3D%20L.marker%28%0A%20%20%20%20%20%20%20%20%20%20%20%20%5B36.0568057%2C%20-94.1639539%5D%2C%0A%20%20%20%20%20%20%20%20%20%20%20%20%7B%0A%20%20%20%20%20%20%20%20%20%20%20%20%20%20%20%20icon%3A%20new%20L.Icon.Default%28%29%2C%0A%20%20%20%20%20%20%20%20%20%20%20%20%20%20%20%20%7D%0A%20%20%20%20%20%20%20%20%20%20%20%20%29.addTo%28map_4ebacdd8e3c7436d85039a4f77a445c7%29%3B%0A%20%20%20%20%20%20%20%20%0A%20%20%20%20%0A%20%20%20%20%20%20%20%20var%20marker_2c5d94127c9640cfaab7f2d062f84510%20%3D%20L.marker%28%0A%20%20%20%20%20%20%20%20%20%20%20%20%5B36.067850785167344%2C%20-94.17879581451416%5D%2C%0A%20%20%20%20%20%20%20%20%20%20%20%20%7B%0A%20%20%20%20%20%20%20%20%20%20%20%20%20%20%20%20icon%3A%20new%20L.Icon.Default%28%29%2C%0A%20%20%20%20%20%20%20%20%20%20%20%20%20%20%20%20%7D%0A%20%20%20%20%20%20%20%20%20%20%20%20%29.addTo%28map_4ebacdd8e3c7436d85039a4f77a445c7%29%3B%0A%20%20%20%20%20%20%20%20%0A%20%20%20%20%0A%20%20%20%20%20%20%20%20var%20marker_980df694706d439db6a5aaf21a95ba5f%20%3D%20L.marker%28%0A%20%20%20%20%20%20%20%20%20%20%20%20%5B36.055513406825106%2C%20-94.164865208568%5D%2C%0A%20%20%20%20%20%20%20%20%20%20%20%20%7B%0A%20%20%20%20%20%20%20%20%20%20%20%20%20%20%20%20icon%3A%20new%20L.Icon.Default%28%29%2C%0A%20%20%20%20%20%20%20%20%20%20%20%20%20%20%20%20%7D%0A%20%20%20%20%20%20%20%20%20%20%20%20%29.addTo%28map_4ebacdd8e3c7436d85039a4f77a445c7%29%3B%0A%20%20%20%20%20%20%20%20%0A%20%20%20%20%0A%20%20%20%20%20%20%20%20var%20marker_11a96744f2e347d7be25fe827d294811%20%3D%20L.marker%28%0A%20%20%20%20%20%20%20%20%20%20%20%20%5B36.0686979%2C%20-94.1760176%5D%2C%0A%20%20%20%20%20%20%20%20%20%20%20%20%7B%0A%20%20%20%20%20%20%20%20%20%20%20%20%20%20%20%20icon%3A%20new%20L.Icon.Default%28%29%2C%0A%20%20%20%20%20%20%20%20%20%20%20%20%20%20%20%20%7D%0A%20%20%20%20%20%20%20%20%20%20%20%20%29.addTo%28map_4ebacdd8e3c7436d85039a4f77a445c7%29%3B%0A%20%20%20%20%20%20%20%20%0A%20%20%20%20%0A%20%20%20%20%20%20%20%20var%20marker_e6fb47f5e24548919c28321bae357399%20%3D%20L.marker%28%0A%20%20%20%20%20%20%20%20%20%20%20%20%5B36.06462421658214%2C%20-94.1774989297041%5D%2C%0A%20%20%20%20%20%20%20%20%20%20%20%20%7B%0A%20%20%20%20%20%20%20%20%20%20%20%20%20%20%20%20icon%3A%20new%20L.Icon.Default%28%29%2C%0A%20%20%20%20%20%20%20%20%20%20%20%20%20%20%20%20%7D%0A%20%20%20%20%20%20%20%20%20%20%20%20%29.addTo%28map_4ebacdd8e3c7436d85039a4f77a445c7%29%3B%0A%20%20%20%20%20%20%20%20%0A%20%20%20%20%0A%20%20%20%20%20%20%20%20var%20marker_84aa7746e1a0446383a90d22518ddc1b%20%3D%20L.marker%28%0A%20%20%20%20%20%20%20%20%20%20%20%20%5B36.05656832356539%2C%20-94.17685344277533%5D%2C%0A%20%20%20%20%20%20%20%20%20%20%20%20%7B%0A%20%20%20%20%20%20%20%20%20%20%20%20%20%20%20%20icon%3A%20new%20L.Icon.Default%28%29%2C%0A%20%20%20%20%20%20%20%20%20%20%20%20%20%20%20%20%7D%0A%20%20%20%20%20%20%20%20%20%20%20%20%29.addTo%28map_4ebacdd8e3c7436d85039a4f77a445c7%29%3B%0A%20%20%20%20%20%20%20%20%0A%20%20%20%20%0A%20%20%20%20%20%20%20%20var%20marker_4d7e22e32b0e4076b65b87b18d143f89%20%3D%20L.marker%28%0A%20%20%20%20%20%20%20%20%20%20%20%20%5B36.066467%2C%20-94.175126%5D%2C%0A%20%20%20%20%20%20%20%20%20%20%20%20%7B%0A%20%20%20%20%20%20%20%20%20%20%20%20%20%20%20%20icon%3A%20new%20L.Icon.Default%28%29%2C%0A%20%20%20%20%20%20%20%20%20%20%20%20%20%20%20%20%7D%0A%20%20%20%20%20%20%20%20%20%20%20%20%29.addTo%28map_4ebacdd8e3c7436d85039a4f77a445c7%29%3B%0A%20%20%20%20%20%20%20%20%0A%20%20%20%20%0A%20%20%20%20%20%20%20%20var%20marker_615adeb3684a495da2a0c61da85371dd%20%3D%20L.marker%28%0A%20%20%20%20%20%20%20%20%20%20%20%20%5B36.0562329%2C%20-94.1798943%5D%2C%0A%20%20%20%20%20%20%20%20%20%20%20%20%7B%0A%20%20%20%20%20%20%20%20%20%20%20%20%20%20%20%20icon%3A%20new%20L.Icon.Default%28%29%2C%0A%20%20%20%20%20%20%20%20%20%20%20%20%20%20%20%20%7D%0A%20%20%20%20%20%20%20%20%20%20%20%20%29.addTo%28map_4ebacdd8e3c7436d85039a4f77a445c7%29%3B%0A%20%20%20%20%20%20%20%20%0A%20%20%20%20%0A%20%20%20%20%20%20%20%20var%20marker_b6b4961b2e8e4a63a3372736f7f3f202%20%3D%20L.marker%28%0A%20%20%20%20%20%20%20%20%20%20%20%20%5B36.07175987065513%2C%20-94.15737530162075%5D%2C%0A%20%20%20%20%20%20%20%20%20%20%20%20%7B%0A%20%20%20%20%20%20%20%20%20%20%20%20%20%20%20%20icon%3A%20new%20L.Icon.Default%28%29%2C%0A%20%20%20%20%20%20%20%20%20%20%20%20%20%20%20%20%7D%0A%20%20%20%20%20%20%20%20%20%20%20%20%29.addTo%28map_4ebacdd8e3c7436d85039a4f77a445c7%29%3B%0A%20%20%20%20%20%20%20%20%0A%20%20%20%20%0A%20%20%20%20%20%20%20%20var%20marker_321b80e1340d4d66ab48f3761c6197dd%20%3D%20L.marker%28%0A%20%20%20%20%20%20%20%20%20%20%20%20%5B36.06938232003901%2C%20-94.17486224245434%5D%2C%0A%20%20%20%20%20%20%20%20%20%20%20%20%7B%0A%20%20%20%20%20%20%20%20%20%20%20%20%20%20%20%20icon%3A%20new%20L.Icon.Default%28%29%2C%0A%20%20%20%20%20%20%20%20%20%20%20%20%20%20%20%20%7D%0A%20%20%20%20%20%20%20%20%20%20%20%20%29.addTo%28map_4ebacdd8e3c7436d85039a4f77a445c7%29%3B%0A%20%20%20%20%20%20%20%20%0A%20%20%20%20%0A%20%20%20%20%20%20%20%20var%20marker_966e92ec35ec4ee2b6e3f0fe8b1b4668%20%3D%20L.marker%28%0A%20%20%20%20%20%20%20%20%20%20%20%20%5B36.077177%2C%20-94.168874%5D%2C%0A%20%20%20%20%20%20%20%20%20%20%20%20%7B%0A%20%20%20%20%20%20%20%20%20%20%20%20%20%20%20%20icon%3A%20new%20L.Icon.Default%28%29%2C%0A%20%20%20%20%20%20%20%20%20%20%20%20%20%20%20%20%7D%0A%20%20%20%20%20%20%20%20%20%20%20%20%29.addTo%28map_4ebacdd8e3c7436d85039a4f77a445c7%29%3B%0A%20%20%20%20%20%20%20%20%0A%20%20%20%20%0A%20%20%20%20%20%20%20%20var%20marker_2abf79ffdcd24607aca0e9e1b21ac9ce%20%3D%20L.marker%28%0A%20%20%20%20%20%20%20%20%20%20%20%20%5B36.057369232177734%2C%20-94.16870880126953%5D%2C%0A%20%20%20%20%20%20%20%20%20%20%20%20%7B%0A%20%20%20%20%20%20%20%20%20%20%20%20%20%20%20%20icon%3A%20new%20L.Icon.Default%28%29%2C%0A%20%20%20%20%20%20%20%20%20%20%20%20%20%20%20%20%7D%0A%20%20%20%20%20%20%20%20%20%20%20%20%29.addTo%28map_4ebacdd8e3c7436d85039a4f77a445c7%29%3B%0A%20%20%20%20%20%20%20%20%0A%20%20%20%20%0A%20%20%20%20%20%20%20%20var%20marker_e8ba8098ffc843f3b8a785ed3c2556b9%20%3D%20L.marker%28%0A%20%20%20%20%20%20%20%20%20%20%20%20%5B36.056333529855195%2C%20-94.17654819496613%5D%2C%0A%20%20%20%20%20%20%20%20%20%20%20%20%7B%0A%20%20%20%20%20%20%20%20%20%20%20%20%20%20%20%20icon%3A%20new%20L.Icon.Default%28%29%2C%0A%20%20%20%20%20%20%20%20%20%20%20%20%20%20%20%20%7D%0A%20%20%20%20%20%20%20%20%20%20%20%20%29.addTo%28map_4ebacdd8e3c7436d85039a4f77a445c7%29%3B%0A%20%20%20%20%20%20%20%20%0A%20%20%20%20%0A%20%20%20%20%20%20%20%20var%20marker_d6a83ee01bc74b7fbcb8dfe741391693%20%3D%20L.marker%28%0A%20%20%20%20%20%20%20%20%20%20%20%20%5B36.07545091349851%2C%20-94.17064485994868%5D%2C%0A%20%20%20%20%20%20%20%20%20%20%20%20%7B%0A%20%20%20%20%20%20%20%20%20%20%20%20%20%20%20%20icon%3A%20new%20L.Icon.Default%28%29%2C%0A%20%20%20%20%20%20%20%20%20%20%20%20%20%20%20%20%7D%0A%20%20%20%20%20%20%20%20%20%20%20%20%29.addTo%28map_4ebacdd8e3c7436d85039a4f77a445c7%29%3B%0A%20%20%20%20%20%20%20%20%0A%20%20%20%20%0A%20%20%20%20%20%20%20%20var%20marker_870bdda34c9348c19a2ceb45b9f801c9%20%3D%20L.marker%28%0A%20%20%20%20%20%20%20%20%20%20%20%20%5B36.068680434344834%2C%20-94.17535618284631%5D%2C%0A%20%20%20%20%20%20%20%20%20%20%20%20%7B%0A%20%20%20%20%20%20%20%20%20%20%20%20%20%20%20%20icon%3A%20new%20L.Icon.Default%28%29%2C%0A%20%20%20%20%20%20%20%20%20%20%20%20%20%20%20%20%7D%0A%20%20%20%20%20%20%20%20%20%20%20%20%29.addTo%28map_4ebacdd8e3c7436d85039a4f77a445c7%29%3B%0A%20%20%20%20%20%20%20%20%0A%20%20%20%20%0A%20%20%20%20%20%20%20%20var%20marker_c703751a9a0f41a783ba1809f0a7d3fd%20%3D%20L.marker%28%0A%20%20%20%20%20%20%20%20%20%20%20%20%5B36.04716699742524%2C%20-94.16492447571252%5D%2C%0A%20%20%20%20%20%20%20%20%20%20%20%20%7B%0A%20%20%20%20%20%20%20%20%20%20%20%20%20%20%20%20icon%3A%20new%20L.Icon.Default%28%29%2C%0A%20%20%20%20%20%20%20%20%20%20%20%20%20%20%20%20%7D%0A%20%20%20%20%20%20%20%20%20%20%20%20%29.addTo%28map_4ebacdd8e3c7436d85039a4f77a445c7%29%3B%0A%20%20%20%20%20%20%20%20%0A%20%20%20%20%0A%20%20%20%20%20%20%20%20var%20marker_bff88e718f564cf9b2353eea97c88234%20%3D%20L.marker%28%0A%20%20%20%20%20%20%20%20%20%20%20%20%5B36.05737848391607%2C%20-94.16855653586275%5D%2C%0A%20%20%20%20%20%20%20%20%20%20%20%20%7B%0A%20%20%20%20%20%20%20%20%20%20%20%20%20%20%20%20icon%3A%20new%20L.Icon.Default%28%29%2C%0A%20%20%20%20%20%20%20%20%20%20%20%20%20%20%20%20%7D%0A%20%20%20%20%20%20%20%20%20%20%20%20%29.addTo%28map_4ebacdd8e3c7436d85039a4f77a445c7%29%3B%0A%20%20%20%20%20%20%20%20%0A%20%20%20%20%0A%20%20%20%20%20%20%20%20var%20marker_4967e6a156b246a58aa7e636f95a4bf8%20%3D%20L.marker%28%0A%20%20%20%20%20%20%20%20%20%20%20%20%5B36.04971603174656%2C%20-94.16137185780258%5D%2C%0A%20%20%20%20%20%20%20%20%20%20%20%20%7B%0A%20%20%20%20%20%20%20%20%20%20%20%20%20%20%20%20icon%3A%20new%20L.Icon.Default%28%29%2C%0A%20%20%20%20%20%20%20%20%20%20%20%20%20%20%20%20%7D%0A%20%20%20%20%20%20%20%20%20%20%20%20%29.addTo%28map_4ebacdd8e3c7436d85039a4f77a445c7%29%3B%0A%20%20%20%20%20%20%20%20%0A%20%20%20%20%0A%20%20%20%20%20%20%20%20var%20marker_f325c9d6349c4304b1b65698acf09df2%20%3D%20L.marker%28%0A%20%20%20%20%20%20%20%20%20%20%20%20%5B36.0563114751515%2C%20-94.1792846509133%5D%2C%0A%20%20%20%20%20%20%20%20%20%20%20%20%7B%0A%20%20%20%20%20%20%20%20%20%20%20%20%20%20%20%20icon%3A%20new%20L.Icon.Default%28%29%2C%0A%20%20%20%20%20%20%20%20%20%20%20%20%20%20%20%20%7D%0A%20%20%20%20%20%20%20%20%20%20%20%20%29.addTo%28map_4ebacdd8e3c7436d85039a4f77a445c7%29%3B%0A%20%20%20%20%20%20%20%20%0A%20%20%20%20%0A%20%20%20%20%20%20%20%20var%20marker_2284f7a4387245ae80a691fa3c408cf3%20%3D%20L.marker%28%0A%20%20%20%20%20%20%20%20%20%20%20%20%5B36.06864429996679%2C%20-94.175975471735%5D%2C%0A%20%20%20%20%20%20%20%20%20%20%20%20%7B%0A%20%20%20%20%20%20%20%20%20%20%20%20%20%20%20%20icon%3A%20new%20L.Icon.Default%28%29%2C%0A%20%20%20%20%20%20%20%20%20%20%20%20%20%20%20%20%7D%0A%20%20%20%20%20%20%20%20%20%20%20%20%29.addTo%28map_4ebacdd8e3c7436d85039a4f77a445c7%29%3B%0A%20%20%20%20%20%20%20%20%0A%20%20%20%20%0A%20%20%20%20%20%20%20%20var%20marker_9215f4f9556f40e98307755d1beb74fa%20%3D%20L.marker%28%0A%20%20%20%20%20%20%20%20%20%20%20%20%5B36.056759672680215%2C%20-94.16391163160965%5D%2C%0A%20%20%20%20%20%20%20%20%20%20%20%20%7B%0A%20%20%20%20%20%20%20%20%20%20%20%20%20%20%20%20icon%3A%20new%20L.Icon.Default%28%29%2C%0A%20%20%20%20%20%20%20%20%20%20%20%20%20%20%20%20%7D%0A%20%20%20%20%20%20%20%20%20%20%20%20%29.addTo%28map_4ebacdd8e3c7436d85039a4f77a445c7%29%3B%0A%20%20%20%20%20%20%20%20%0A%20%20%20%20%0A%20%20%20%20%20%20%20%20var%20marker_3f4efbfac0c2494ca04502a42dd52dfd%20%3D%20L.marker%28%0A%20%20%20%20%20%20%20%20%20%20%20%20%5B36.050664000000005%2C%20-94.164692%5D%2C%0A%20%20%20%20%20%20%20%20%20%20%20%20%7B%0A%20%20%20%20%20%20%20%20%20%20%20%20%20%20%20%20icon%3A%20new%20L.Icon.Default%28%29%2C%0A%20%20%20%20%20%20%20%20%20%20%20%20%20%20%20%20%7D%0A%20%20%20%20%20%20%20%20%20%20%20%20%29.addTo%28map_4ebacdd8e3c7436d85039a4f77a445c7%29%3B%0A%20%20%20%20%20%20%20%20%0A%20%20%20%20%0A%20%20%20%20%20%20%20%20var%20marker_5b5220511e18424fb9b080109c34439f%20%3D%20L.marker%28%0A%20%20%20%20%20%20%20%20%20%20%20%20%5B36.05449698617719%2C%20-94.16489513097767%5D%2C%0A%20%20%20%20%20%20%20%20%20%20%20%20%7B%0A%20%20%20%20%20%20%20%20%20%20%20%20%20%20%20%20icon%3A%20new%20L.Icon.Default%28%29%2C%0A%20%20%20%20%20%20%20%20%20%20%20%20%20%20%20%20%7D%0A%20%20%20%20%20%20%20%20%20%20%20%20%29.addTo%28map_4ebacdd8e3c7436d85039a4f77a445c7%29%3B%0A%20%20%20%20%20%20%20%20%0A%20%20%20%20%0A%20%20%20%20%20%20%20%20var%20marker_43b44b1522e34a0590e94854b8503da8%20%3D%20L.marker%28%0A%20%20%20%20%20%20%20%20%20%20%20%20%5B36.057208%2C%20-94.168441%5D%2C%0A%20%20%20%20%20%20%20%20%20%20%20%20%7B%0A%20%20%20%20%20%20%20%20%20%20%20%20%20%20%20%20icon%3A%20new%20L.Icon.Default%28%29%2C%0A%20%20%20%20%20%20%20%20%20%20%20%20%20%20%20%20%7D%0A%20%20%20%20%20%20%20%20%20%20%20%20%29.addTo%28map_4ebacdd8e3c7436d85039a4f77a445c7%29%3B%0A%20%20%20%20%20%20%20%20%0A%20%20%20%20%0A%20%20%20%20%20%20%20%20var%20marker_99714ec518af4de5a08f51597e7f7c85%20%3D%20L.marker%28%0A%20%20%20%20%20%20%20%20%20%20%20%20%5B36.05859252108241%2C%20-94.16408255696291%5D%2C%0A%20%20%20%20%20%20%20%20%20%20%20%20%7B%0A%20%20%20%20%20%20%20%20%20%20%20%20%20%20%20%20icon%3A%20new%20L.Icon.Default%28%29%2C%0A%20%20%20%20%20%20%20%20%20%20%20%20%20%20%20%20%7D%0A%20%20%20%20%20%20%20%20%20%20%20%20%29.addTo%28map_4ebacdd8e3c7436d85039a4f77a445c7%29%3B%0A%20%20%20%20%20%20%20%20%0A%20%20%20%20%0A%20%20%20%20%20%20%20%20var%20marker_abd28649b03e42ebb0db41023b77d99a%20%3D%20L.marker%28%0A%20%20%20%20%20%20%20%20%20%20%20%20%5B36.05637695430636%2C%20-94.18090318688098%5D%2C%0A%20%20%20%20%20%20%20%20%20%20%20%20%7B%0A%20%20%20%20%20%20%20%20%20%20%20%20%20%20%20%20icon%3A%20new%20L.Icon.Default%28%29%2C%0A%20%20%20%20%20%20%20%20%20%20%20%20%20%20%20%20%7D%0A%20%20%20%20%20%20%20%20%20%20%20%20%29.addTo%28map_4ebacdd8e3c7436d85039a4f77a445c7%29%3B%0A%20%20%20%20%20%20%20%20%0A%20%20%20%20%0A%20%20%20%20%20%20%20%20var%20marker_73805f65104946539656071993db1399%20%3D%20L.marker%28%0A%20%20%20%20%20%20%20%20%20%20%20%20%5B36.0723237057141%2C%20-94.17532523459063%5D%2C%0A%20%20%20%20%20%20%20%20%20%20%20%20%7B%0A%20%20%20%20%20%20%20%20%20%20%20%20%20%20%20%20icon%3A%20new%20L.Icon.Default%28%29%2C%0A%20%20%20%20%20%20%20%20%20%20%20%20%20%20%20%20%7D%0A%20%20%20%20%20%20%20%20%20%20%20%20%29.addTo%28map_4ebacdd8e3c7436d85039a4f77a445c7%29%3B%0A%20%20%20%20%20%20%20%20%0A%20%20%20%20%0A%20%20%20%20%20%20%20%20var%20marker_03d40278e783423cb20201431628d65f%20%3D%20L.marker%28%0A%20%20%20%20%20%20%20%20%20%20%20%20%5B36.06309247819582%2C%20-94.17403159377452%5D%2C%0A%20%20%20%20%20%20%20%20%20%20%20%20%7B%0A%20%20%20%20%20%20%20%20%20%20%20%20%20%20%20%20icon%3A%20new%20L.Icon.Default%28%29%2C%0A%20%20%20%20%20%20%20%20%20%20%20%20%20%20%20%20%7D%0A%20%20%20%20%20%20%20%20%20%20%20%20%29.addTo%28map_4ebacdd8e3c7436d85039a4f77a445c7%29%3B%0A%20%20%20%20%20%20%20%20%0A%20%20%20%20%0A%20%20%20%20%20%20%20%20var%20marker_191592e619b246df82c289de04c26e81%20%3D%20L.marker%28%0A%20%20%20%20%20%20%20%20%20%20%20%20%5B36.0563519%2C%20-94.1815554%5D%2C%0A%20%20%20%20%20%20%20%20%20%20%20%20%7B%0A%20%20%20%20%20%20%20%20%20%20%20%20%20%20%20%20icon%3A%20new%20L.Icon.Default%28%29%2C%0A%20%20%20%20%20%20%20%20%20%20%20%20%20%20%20%20%7D%0A%20%20%20%20%20%20%20%20%20%20%20%20%29.addTo%28map_4ebacdd8e3c7436d85039a4f77a445c7%29%3B%0A%20%20%20%20%20%20%20%20%0A%20%20%20%20%0A%20%20%20%20%20%20%20%20var%20marker_dd15908faa7846f684a517182b385256%20%3D%20L.marker%28%0A%20%20%20%20%20%20%20%20%20%20%20%20%5B36.0563998%2C%20-94.1786605%5D%2C%0A%20%20%20%20%20%20%20%20%20%20%20%20%7B%0A%20%20%20%20%20%20%20%20%20%20%20%20%20%20%20%20icon%3A%20new%20L.Icon.Default%28%29%2C%0A%20%20%20%20%20%20%20%20%20%20%20%20%20%20%20%20%7D%0A%20%20%20%20%20%20%20%20%20%20%20%20%29.addTo%28map_4ebacdd8e3c7436d85039a4f77a445c7%29%3B%0A%20%20%20%20%20%20%20%20%0A%20%20%20%20%0A%20%20%20%20%20%20%20%20var%20marker_336e3fbffdca4acebb5c641acdf997b5%20%3D%20L.marker%28%0A%20%20%20%20%20%20%20%20%20%20%20%20%5B36.06859868430508%2C%20-94.17535907132056%5D%2C%0A%20%20%20%20%20%20%20%20%20%20%20%20%7B%0A%20%20%20%20%20%20%20%20%20%20%20%20%20%20%20%20icon%3A%20new%20L.Icon.Default%28%29%2C%0A%20%20%20%20%20%20%20%20%20%20%20%20%20%20%20%20%7D%0A%20%20%20%20%20%20%20%20%20%20%20%20%29.addTo%28map_4ebacdd8e3c7436d85039a4f77a445c7%29%3B%0A%20%20%20%20%20%20%20%20%0A%20%20%20%20%0A%20%20%20%20%20%20%20%20var%20marker_df2b35cb115b4656bfa5a0001b85a414%20%3D%20L.marker%28%0A%20%20%20%20%20%20%20%20%20%20%20%20%5B36.056494763496936%2C%20-94.17740474309898%5D%2C%0A%20%20%20%20%20%20%20%20%20%20%20%20%7B%0A%20%20%20%20%20%20%20%20%20%20%20%20%20%20%20%20icon%3A%20new%20L.Icon.Default%28%29%2C%0A%20%20%20%20%20%20%20%20%20%20%20%20%20%20%20%20%7D%0A%20%20%20%20%20%20%20%20%20%20%20%20%29.addTo%28map_4ebacdd8e3c7436d85039a4f77a445c7%29%3B%0A%20%20%20%20%20%20%20%20%0A%20%20%20%20%0A%20%20%20%20%20%20%20%20var%20marker_4968543085de407888b40dc2f0bf85e1%20%3D%20L.marker%28%0A%20%20%20%20%20%20%20%20%20%20%20%20%5B36.072696%2C%20-94.174853%5D%2C%0A%20%20%20%20%20%20%20%20%20%20%20%20%7B%0A%20%20%20%20%20%20%20%20%20%20%20%20%20%20%20%20icon%3A%20new%20L.Icon.Default%28%29%2C%0A%20%20%20%20%20%20%20%20%20%20%20%20%20%20%20%20%7D%0A%20%20%20%20%20%20%20%20%20%20%20%20%29.addTo%28map_4ebacdd8e3c7436d85039a4f77a445c7%29%3B%0A%20%20%20%20%20%20%20%20%0A%20%20%20%20%0A%20%20%20%20%20%20%20%20var%20marker_5885884cc7854269a2dd64457e97d11b%20%3D%20L.marker%28%0A%20%20%20%20%20%20%20%20%20%20%20%20%5B36.07268112308313%2C%20-94.17521425941027%5D%2C%0A%20%20%20%20%20%20%20%20%20%20%20%20%7B%0A%20%20%20%20%20%20%20%20%20%20%20%20%20%20%20%20icon%3A%20new%20L.Icon.Default%28%29%2C%0A%20%20%20%20%20%20%20%20%20%20%20%20%20%20%20%20%7D%0A%20%20%20%20%20%20%20%20%20%20%20%20%29.addTo%28map_4ebacdd8e3c7436d85039a4f77a445c7%29%3B%0A%20%20%20%20%20%20%20%20%0A%20%20%20%20%0A%20%20%20%20%20%20%20%20var%20marker_dc26b1f86c104e80af45c1859c40e5b3%20%3D%20L.marker%28%0A%20%20%20%20%20%20%20%20%20%20%20%20%5B36.046831719328374%2C%20-94.16590368313136%5D%2C%0A%20%20%20%20%20%20%20%20%20%20%20%20%7B%0A%20%20%20%20%20%20%20%20%20%20%20%20%20%20%20%20icon%3A%20new%20L.Icon.Default%28%29%2C%0A%20%20%20%20%20%20%20%20%20%20%20%20%20%20%20%20%7D%0A%20%20%20%20%20%20%20%20%20%20%20%20%29.addTo%28map_4ebacdd8e3c7436d85039a4f77a445c7%29%3B%0A%20%20%20%20%20%20%20%20%0A%20%20%20%20%0A%20%20%20%20%20%20%20%20var%20marker_9e51cf606ccc46dc8d13bf8657132db3%20%3D%20L.marker%28%0A%20%20%20%20%20%20%20%20%20%20%20%20%5B36.051666356292024%2C%20-94.16456574626395%5D%2C%0A%20%20%20%20%20%20%20%20%20%20%20%20%7B%0A%20%20%20%20%20%20%20%20%20%20%20%20%20%20%20%20icon%3A%20new%20L.Icon.Default%28%29%2C%0A%20%20%20%20%20%20%20%20%20%20%20%20%20%20%20%20%7D%0A%20%20%20%20%20%20%20%20%20%20%20%20%29.addTo%28map_4ebacdd8e3c7436d85039a4f77a445c7%29%3B%0A%20%20%20%20%20%20%20%20%0A%20%20%20%20%0A%20%20%20%20%20%20%20%20var%20marker_ae82dcaa2af14e1c915b37d7219f8117%20%3D%20L.marker%28%0A%20%20%20%20%20%20%20%20%20%20%20%20%5B36.0664188%2C%20-94.1749978%5D%2C%0A%20%20%20%20%20%20%20%20%20%20%20%20%7B%0A%20%20%20%20%20%20%20%20%20%20%20%20%20%20%20%20icon%3A%20new%20L.Icon.Default%28%29%2C%0A%20%20%20%20%20%20%20%20%20%20%20%20%20%20%20%20%7D%0A%20%20%20%20%20%20%20%20%20%20%20%20%29.addTo%28map_4ebacdd8e3c7436d85039a4f77a445c7%29%3B%0A%20%20%20%20%20%20%20%20%0A%20%20%20%20%0A%20%20%20%20%20%20%20%20var%20marker_7998a094880a431f8dbedf42031a7934%20%3D%20L.marker%28%0A%20%20%20%20%20%20%20%20%20%20%20%20%5B36.06132888609056%2C%20-94.17369190849062%5D%2C%0A%20%20%20%20%20%20%20%20%20%20%20%20%7B%0A%20%20%20%20%20%20%20%20%20%20%20%20%20%20%20%20icon%3A%20new%20L.Icon.Default%28%29%2C%0A%20%20%20%20%20%20%20%20%20%20%20%20%20%20%20%20%7D%0A%20%20%20%20%20%20%20%20%20%20%20%20%29.addTo%28map_4ebacdd8e3c7436d85039a4f77a445c7%29%3B%0A%20%20%20%20%20%20%20%20%0A%20%20%20%20%0A%20%20%20%20%20%20%20%20var%20marker_ae63ea20d92949e49ddb1e153d27f8d1%20%3D%20L.marker%28%0A%20%20%20%20%20%20%20%20%20%20%20%20%5B36.063756075218436%2C%20-94.14768786625568%5D%2C%0A%20%20%20%20%20%20%20%20%20%20%20%20%7B%0A%20%20%20%20%20%20%20%20%20%20%20%20%20%20%20%20icon%3A%20new%20L.Icon.Default%28%29%2C%0A%20%20%20%20%20%20%20%20%20%20%20%20%20%20%20%20%7D%0A%20%20%20%20%20%20%20%20%20%20%20%20%29.addTo%28map_4ebacdd8e3c7436d85039a4f77a445c7%29%3B%0A%20%20%20%20%20%20%20%20%0A%20%20%20%20%0A%20%20%20%20%20%20%20%20var%20marker_084f08dff2754d63bfd817e936bce623%20%3D%20L.marker%28%0A%20%20%20%20%20%20%20%20%20%20%20%20%5B36.073438357102084%2C%20-94.17534066149734%5D%2C%0A%20%20%20%20%20%20%20%20%20%20%20%20%7B%0A%20%20%20%20%20%20%20%20%20%20%20%20%20%20%20%20icon%3A%20new%20L.Icon.Default%28%29%2C%0A%20%20%20%20%20%20%20%20%20%20%20%20%20%20%20%20%7D%0A%20%20%20%20%20%20%20%20%20%20%20%20%29.addTo%28map_4ebacdd8e3c7436d85039a4f77a445c7%29%3B%0A%20%20%20%20%20%20%20%20%0A%20%20%20%20%0A%20%20%20%20%20%20%20%20var%20marker_21dd09c2b7b94025a171b636e251001c%20%3D%20L.marker%28%0A%20%20%20%20%20%20%20%20%20%20%20%20%5B36.062993%2C%20-94.145066%5D%2C%0A%20%20%20%20%20%20%20%20%20%20%20%20%7B%0A%20%20%20%20%20%20%20%20%20%20%20%20%20%20%20%20icon%3A%20new%20L.Icon.Default%28%29%2C%0A%20%20%20%20%20%20%20%20%20%20%20%20%20%20%20%20%7D%0A%20%20%20%20%20%20%20%20%20%20%20%20%29.addTo%28map_4ebacdd8e3c7436d85039a4f77a445c7%29%3B%0A%20%20%20%20%20%20%20%20%0A%20%20%20%20%0A%20%20%20%20%20%20%20%20var%20marker_d105ee1ab973402aba0fcdb04e1736b9%20%3D%20L.marker%28%0A%20%20%20%20%20%20%20%20%20%20%20%20%5B36.057781027095146%2C%20-94.17685238747384%5D%2C%0A%20%20%20%20%20%20%20%20%20%20%20%20%7B%0A%20%20%20%20%20%20%20%20%20%20%20%20%20%20%20%20icon%3A%20new%20L.Icon.Default%28%29%2C%0A%20%20%20%20%20%20%20%20%20%20%20%20%20%20%20%20%7D%0A%20%20%20%20%20%20%20%20%20%20%20%20%29.addTo%28map_4ebacdd8e3c7436d85039a4f77a445c7%29%3B%0A%20%20%20%20%20%20%20%20%0A%20%20%20%20%0A%20%20%20%20%20%20%20%20var%20marker_1a2fbfa7163247b8a8b003aca358b1b3%20%3D%20L.marker%28%0A%20%20%20%20%20%20%20%20%20%20%20%20%5B36.064159%2C%20-94.144944%5D%2C%0A%20%20%20%20%20%20%20%20%20%20%20%20%7B%0A%20%20%20%20%20%20%20%20%20%20%20%20%20%20%20%20icon%3A%20new%20L.Icon.Default%28%29%2C%0A%20%20%20%20%20%20%20%20%20%20%20%20%20%20%20%20%7D%0A%20%20%20%20%20%20%20%20%20%20%20%20%29.addTo%28map_4ebacdd8e3c7436d85039a4f77a445c7%29%3B%0A%20%20%20%20%20%20%20%20%0A%20%20%20%20%0A%20%20%20%20%20%20%20%20var%20marker_1c3049eff7c64176a56a4ecfc995e6e1%20%3D%20L.marker%28%0A%20%20%20%20%20%20%20%20%20%20%20%20%5B36.05644989013672%2C%20-94.17699432373047%5D%2C%0A%20%20%20%20%20%20%20%20%20%20%20%20%7B%0A%20%20%20%20%20%20%20%20%20%20%20%20%20%20%20%20icon%3A%20new%20L.Icon.Default%28%29%2C%0A%20%20%20%20%20%20%20%20%20%20%20%20%20%20%20%20%7D%0A%20%20%20%20%20%20%20%20%20%20%20%20%29.addTo%28map_4ebacdd8e3c7436d85039a4f77a445c7%29%3B%0A%20%20%20%20%20%20%20%20%0A%20%20%20%20%0A%20%20%20%20%20%20%20%20var%20marker_3f74f39384ed46b3bb5ea2cf20c3f7cf%20%3D%20L.marker%28%0A%20%20%20%20%20%20%20%20%20%20%20%20%5B36.05663963404979%2C%20-94.17808339%5D%2C%0A%20%20%20%20%20%20%20%20%20%20%20%20%7B%0A%20%20%20%20%20%20%20%20%20%20%20%20%20%20%20%20icon%3A%20new%20L.Icon.Default%28%29%2C%0A%20%20%20%20%20%20%20%20%20%20%20%20%20%20%20%20%7D%0A%20%20%20%20%20%20%20%20%20%20%20%20%29.addTo%28map_4ebacdd8e3c7436d85039a4f77a445c7%29%3B%0A%20%20%20%20%20%20%20%20%0A%20%20%20%20%0A%20%20%20%20%20%20%20%20var%20marker_9b95d618e34b46e1859fe93d557aa854%20%3D%20L.marker%28%0A%20%20%20%20%20%20%20%20%20%20%20%20%5B36.048715%2C%20-94.151261%5D%2C%0A%20%20%20%20%20%20%20%20%20%20%20%20%7B%0A%20%20%20%20%20%20%20%20%20%20%20%20%20%20%20%20icon%3A%20new%20L.Icon.Default%28%29%2C%0A%20%20%20%20%20%20%20%20%20%20%20%20%20%20%20%20%7D%0A%20%20%20%20%20%20%20%20%20%20%20%20%29.addTo%28map_4ebacdd8e3c7436d85039a4f77a445c7%29%3B%0A%20%20%20%20%20%20%20%20%0A%20%20%20%20%0A%20%20%20%20%20%20%20%20var%20marker_754e3a22c5524eadaee619dff727b5d9%20%3D%20L.marker%28%0A%20%20%20%20%20%20%20%20%20%20%20%20%5B36.072696%2C%20-94.174853%5D%2C%0A%20%20%20%20%20%20%20%20%20%20%20%20%7B%0A%20%20%20%20%20%20%20%20%20%20%20%20%20%20%20%20icon%3A%20new%20L.Icon.Default%28%29%2C%0A%20%20%20%20%20%20%20%20%20%20%20%20%20%20%20%20%7D%0A%20%20%20%20%20%20%20%20%20%20%20%20%29.addTo%28map_4ebacdd8e3c7436d85039a4f77a445c7%29%3B%0A%20%20%20%20%20%20%20%20%0A%20%20%20%20%0A%20%20%20%20%20%20%20%20var%20marker_06a60b46d3014244bdf0359239ed33a8%20%3D%20L.marker%28%0A%20%20%20%20%20%20%20%20%20%20%20%20%5B36.072442451935395%2C%20-94.17532713257148%5D%2C%0A%20%20%20%20%20%20%20%20%20%20%20%20%7B%0A%20%20%20%20%20%20%20%20%20%20%20%20%20%20%20%20icon%3A%20new%20L.Icon.Default%28%29%2C%0A%20%20%20%20%20%20%20%20%20%20%20%20%20%20%20%20%7D%0A%20%20%20%20%20%20%20%20%20%20%20%20%29.addTo%28map_4ebacdd8e3c7436d85039a4f77a445c7%29%3B%0A%20%20%20%20%20%20%20%20%0A%20%20%20%20%0A%20%20%20%20%20%20%20%20var%20marker_a333abb0a57149e6aac103245a7cd39a%20%3D%20L.marker%28%0A%20%20%20%20%20%20%20%20%20%20%20%20%5B36.056396274345715%2C%20-94.18213670837375%5D%2C%0A%20%20%20%20%20%20%20%20%20%20%20%20%7B%0A%20%20%20%20%20%20%20%20%20%20%20%20%20%20%20%20icon%3A%20new%20L.Icon.Default%28%29%2C%0A%20%20%20%20%20%20%20%20%20%20%20%20%20%20%20%20%7D%0A%20%20%20%20%20%20%20%20%20%20%20%20%29.addTo%28map_4ebacdd8e3c7436d85039a4f77a445c7%29%3B%0A%20%20%20%20%20%20%20%20%0A%20%20%20%20%0A%20%20%20%20%20%20%20%20var%20marker_9be9a9efce7b4862b4071c9b1b495329%20%3D%20L.marker%28%0A%20%20%20%20%20%20%20%20%20%20%20%20%5B36.05638012876456%2C%20-94.1822136348314%5D%2C%0A%20%20%20%20%20%20%20%20%20%20%20%20%7B%0A%20%20%20%20%20%20%20%20%20%20%20%20%20%20%20%20icon%3A%20new%20L.Icon.Default%28%29%2C%0A%20%20%20%20%20%20%20%20%20%20%20%20%20%20%20%20%7D%0A%20%20%20%20%20%20%20%20%20%20%20%20%29.addTo%28map_4ebacdd8e3c7436d85039a4f77a445c7%29%3B%0A%20%20%20%20%20%20%20%20%0A%20%20%20%20%0A%20%20%20%20%20%20%20%20var%20marker_f978b012779b4dad8b09d8ac45f991be%20%3D%20L.marker%28%0A%20%20%20%20%20%20%20%20%20%20%20%20%5B36.07654526549467%2C%20-94.14867521814914%5D%2C%0A%20%20%20%20%20%20%20%20%20%20%20%20%7B%0A%20%20%20%20%20%20%20%20%20%20%20%20%20%20%20%20icon%3A%20new%20L.Icon.Default%28%29%2C%0A%20%20%20%20%20%20%20%20%20%20%20%20%20%20%20%20%7D%0A%20%20%20%20%20%20%20%20%20%20%20%20%29.addTo%28map_4ebacdd8e3c7436d85039a4f77a445c7%29%3B%0A%20%20%20%20%20%20%20%20%0A%3C/script%3E onload=\"this.contentDocument.open();this.contentDocument.write(    decodeURIComponent(this.getAttribute('data-html')));this.contentDocument.close();\" allowfullscreen webkitallowfullscreen mozallowfullscreen></iframe></div></div>"
            ],
            "text/plain": [
              "<folium.folium.Map at 0x7f07acf998d0>"
            ]
          },
          "metadata": {
            "tags": []
          },
          "execution_count": 90
        }
      ]
    }
  ]
}